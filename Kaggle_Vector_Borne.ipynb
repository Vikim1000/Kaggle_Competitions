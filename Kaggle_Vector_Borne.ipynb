{
  "nbformat": 4,
  "nbformat_minor": 0,
  "metadata": {
    "colab": {
      "provenance": []
    },
    "kernelspec": {
      "name": "python3",
      "display_name": "Python 3"
    },
    "language_info": {
      "name": "python"
    }
  },
  "cells": [
    {
      "cell_type": "code",
      "execution_count": 114,
      "metadata": {
        "id": "zQy6-Bla1wTT"
      },
      "outputs": [],
      "source": []
    },
    {
      "cell_type": "markdown",
      "source": [
        "## KAGGLE- VECTOR BORNE DISEASE"
      ],
      "metadata": {
        "id": "LFNe24kf13jB"
      }
    },
    {
      "cell_type": "code",
      "source": [
        "# importing libraries\n",
        "import numpy as np\n",
        "import pandas as pd\n",
        "import matplotlib.pyplot as plt\n",
        "\n",
        "from sklearn.metrics import (\n",
        "    mean_squared_error as mse,\n",
        "    mean_absolute_error as mae, \n",
        "    mean_absolute_percentage_error as mape\n",
        ")\n",
        "import plotly.express as px\n",
        "import seaborn as sns\n",
        "import statsmodels.api as sm\n",
        "\n",
        "import warnings\n",
        "warnings.filterwarnings(\"ignore\")\n",
        "\n",
        "from IPython.display import set_matplotlib_formats\n",
        "set_matplotlib_formats('pdf', 'svg')\n",
        "from sklearn.linear_model import LogisticRegression\n",
        "from sklearn.preprocessing import OrdinalEncoder\n",
        "from sklearn.model_selection import train_test_split\n",
        "\n",
        "\n",
        "from sklearn.tree import DecisionTreeClassifier\n",
        "from sklearn.ensemble import RandomForestClassifier\n",
        "from sklearn.ensemble import AdaBoostClassifier\n",
        "from sklearn.ensemble import GradientBoostingClassifier\n",
        "\n",
        "from xgboost import XGBClassifier\n",
        "\n",
        "from sklearn.preprocessing import OneHotEncoder\n",
        "from sklearn.preprocessing import LabelEncoder\n",
        "from statsmodels.stats.outliers_influence import variance_inflation_factor\n",
        "from sklearn.metrics import precision_score, recall_score, f1_score, accuracy_score\n",
        "\n",
        "from sklearn.metrics import cohen_kappa_score\n",
        "from sklearn.metrics import roc_auc_score\n",
        "\n",
        "from sklearn.model_selection import GridSearchCV\n",
        "\n",
        "from sklearn.metrics import classification_report\n",
        "from sklearn.svm import SVC"
      ],
      "metadata": {
        "id": "GzNM-shN18du"
      },
      "execution_count": 115,
      "outputs": []
    },
    {
      "cell_type": "code",
      "source": [
        "## Connecting to drive\n",
        "from google.colab import drive\n",
        "\n",
        "drive.mount('/content/gdrive/')"
      ],
      "metadata": {
        "colab": {
          "base_uri": "https://localhost:8080/"
        },
        "id": "IYGrr9ln1-v1",
        "outputId": "1c3f7fb2-6432-446f-dbee-94006534f135"
      },
      "execution_count": 116,
      "outputs": [
        {
          "output_type": "stream",
          "name": "stdout",
          "text": [
            "Drive already mounted at /content/gdrive/; to attempt to forcibly remount, call drive.mount(\"/content/gdrive/\", force_remount=True).\n"
          ]
        }
      ]
    },
    {
      "cell_type": "code",
      "source": [
        "# Reading dataset\n",
        "df_train= pd.read_csv(\"/content/gdrive/MyDrive/Scaler Assignment/Kaggle_Vector_Borne_disease/train.csv\")\n",
        "df_test= pd.read_csv(\"/content/gdrive/MyDrive/Scaler Assignment/Kaggle_Vector_Borne_disease/test.csv\")"
      ],
      "metadata": {
        "id": "zAgRnm372BY6"
      },
      "execution_count": 117,
      "outputs": []
    },
    {
      "cell_type": "code",
      "source": [
        "df_train.info()"
      ],
      "metadata": {
        "colab": {
          "base_uri": "https://localhost:8080/"
        },
        "id": "pEBib6xh2alQ",
        "outputId": "c7b6f016-3105-43c2-a076-fc3f8b862afe"
      },
      "execution_count": 118,
      "outputs": [
        {
          "output_type": "stream",
          "name": "stdout",
          "text": [
            "<class 'pandas.core.frame.DataFrame'>\n",
            "RangeIndex: 707 entries, 0 to 706\n",
            "Data columns (total 66 columns):\n",
            " #   Column                 Non-Null Count  Dtype  \n",
            "---  ------                 --------------  -----  \n",
            " 0   id                     707 non-null    int64  \n",
            " 1   sudden_fever           707 non-null    float64\n",
            " 2   headache               707 non-null    float64\n",
            " 3   mouth_bleed            707 non-null    float64\n",
            " 4   nose_bleed             707 non-null    float64\n",
            " 5   muscle_pain            707 non-null    float64\n",
            " 6   joint_pain             707 non-null    float64\n",
            " 7   vomiting               707 non-null    float64\n",
            " 8   rash                   707 non-null    float64\n",
            " 9   diarrhea               707 non-null    float64\n",
            " 10  hypotension            707 non-null    float64\n",
            " 11  pleural_effusion       707 non-null    float64\n",
            " 12  ascites                707 non-null    float64\n",
            " 13  gastro_bleeding        707 non-null    float64\n",
            " 14  swelling               707 non-null    float64\n",
            " 15  nausea                 707 non-null    float64\n",
            " 16  chills                 707 non-null    float64\n",
            " 17  myalgia                707 non-null    float64\n",
            " 18  digestion_trouble      707 non-null    float64\n",
            " 19  fatigue                707 non-null    float64\n",
            " 20  skin_lesions           707 non-null    float64\n",
            " 21  stomach_pain           707 non-null    float64\n",
            " 22  orbital_pain           707 non-null    float64\n",
            " 23  neck_pain              707 non-null    float64\n",
            " 24  weakness               707 non-null    float64\n",
            " 25  back_pain              707 non-null    float64\n",
            " 26  weight_loss            707 non-null    float64\n",
            " 27  gum_bleed              707 non-null    float64\n",
            " 28  jaundice               707 non-null    float64\n",
            " 29  coma                   707 non-null    float64\n",
            " 30  diziness               707 non-null    float64\n",
            " 31  inflammation           707 non-null    float64\n",
            " 32  red_eyes               707 non-null    float64\n",
            " 33  loss_of_appetite       707 non-null    float64\n",
            " 34  urination_loss         707 non-null    float64\n",
            " 35  slow_heart_rate        707 non-null    float64\n",
            " 36  abdominal_pain         707 non-null    float64\n",
            " 37  light_sensitivity      707 non-null    float64\n",
            " 38  yellow_skin            707 non-null    float64\n",
            " 39  yellow_eyes            707 non-null    float64\n",
            " 40  facial_distortion      707 non-null    float64\n",
            " 41  microcephaly           707 non-null    float64\n",
            " 42  rigor                  707 non-null    float64\n",
            " 43  bitter_tongue          707 non-null    float64\n",
            " 44  convulsion             707 non-null    float64\n",
            " 45  anemia                 707 non-null    float64\n",
            " 46  cocacola_urine         707 non-null    float64\n",
            " 47  hypoglycemia           707 non-null    float64\n",
            " 48  prostraction           707 non-null    float64\n",
            " 49  hyperpyrexia           707 non-null    float64\n",
            " 50  stiff_neck             707 non-null    float64\n",
            " 51  irritability           707 non-null    float64\n",
            " 52  confusion              707 non-null    float64\n",
            " 53  tremor                 707 non-null    float64\n",
            " 54  paralysis              707 non-null    float64\n",
            " 55  lymph_swells           707 non-null    float64\n",
            " 56  breathing_restriction  707 non-null    float64\n",
            " 57  toe_inflammation       707 non-null    float64\n",
            " 58  finger_inflammation    707 non-null    float64\n",
            " 59  lips_irritation        707 non-null    float64\n",
            " 60  itchiness              707 non-null    float64\n",
            " 61  ulcers                 707 non-null    float64\n",
            " 62  toenail_loss           707 non-null    float64\n",
            " 63  speech_problem         707 non-null    float64\n",
            " 64  bullseye_rash          707 non-null    float64\n",
            " 65  prognosis              707 non-null    object \n",
            "dtypes: float64(64), int64(1), object(1)\n",
            "memory usage: 364.7+ KB\n"
          ]
        }
      ]
    },
    {
      "cell_type": "code",
      "source": [
        "df_train.describe()"
      ],
      "metadata": {
        "colab": {
          "base_uri": "https://localhost:8080/",
          "height": 394
        },
        "id": "kwKQ3NxU2uYU",
        "outputId": "95e1af48-063c-4cd1-c1e6-e93d2d654d2b"
      },
      "execution_count": 119,
      "outputs": [
        {
          "output_type": "execute_result",
          "data": {
            "text/plain": [
              "               id  sudden_fever    headache  mouth_bleed  nose_bleed  \\\n",
              "count  707.000000    707.000000  707.000000   707.000000  707.000000   \n",
              "mean   353.000000      0.503536    0.449788     0.459689    0.487977   \n",
              "std    204.237607      0.500341    0.497825     0.498725    0.500209   \n",
              "min      0.000000      0.000000    0.000000     0.000000    0.000000   \n",
              "25%    176.500000      0.000000    0.000000     0.000000    0.000000   \n",
              "50%    353.000000      1.000000    0.000000     0.000000    0.000000   \n",
              "75%    529.500000      1.000000    1.000000     1.000000    1.000000   \n",
              "max    706.000000      1.000000    1.000000     1.000000    1.000000   \n",
              "\n",
              "       muscle_pain  joint_pain    vomiting        rash    diarrhea  ...  \\\n",
              "count   707.000000  707.000000  707.000000  707.000000  707.000000  ...   \n",
              "mean      0.517680    0.449788    0.441301    0.487977    0.390382  ...   \n",
              "std       0.500041    0.497825    0.496894    0.500209    0.488181  ...   \n",
              "min       0.000000    0.000000    0.000000    0.000000    0.000000  ...   \n",
              "25%       0.000000    0.000000    0.000000    0.000000    0.000000  ...   \n",
              "50%       1.000000    0.000000    0.000000    0.000000    0.000000  ...   \n",
              "75%       1.000000    1.000000    1.000000    1.000000    1.000000  ...   \n",
              "max       1.000000    1.000000    1.000000    1.000000    1.000000  ...   \n",
              "\n",
              "       lymph_swells  breathing_restriction  toe_inflammation  \\\n",
              "count    707.000000             707.000000        707.000000   \n",
              "mean       0.148515               0.072136          0.097595   \n",
              "std        0.355861               0.258896          0.296977   \n",
              "min        0.000000               0.000000          0.000000   \n",
              "25%        0.000000               0.000000          0.000000   \n",
              "50%        0.000000               0.000000          0.000000   \n",
              "75%        0.000000               0.000000          0.000000   \n",
              "max        1.000000               1.000000          1.000000   \n",
              "\n",
              "       finger_inflammation  lips_irritation   itchiness      ulcers  \\\n",
              "count           707.000000       707.000000  707.000000  707.000000   \n",
              "mean              0.079208         0.084866    0.154173    0.144272   \n",
              "std               0.270254         0.278879    0.361370    0.351614   \n",
              "min               0.000000         0.000000    0.000000    0.000000   \n",
              "25%               0.000000         0.000000    0.000000    0.000000   \n",
              "50%               0.000000         0.000000    0.000000    0.000000   \n",
              "75%               0.000000         0.000000    0.000000    0.000000   \n",
              "max               1.000000         1.000000    1.000000    1.000000   \n",
              "\n",
              "       toenail_loss  speech_problem  bullseye_rash  \n",
              "count    707.000000      707.000000     707.000000  \n",
              "mean       0.137199        0.032532       0.031117  \n",
              "std        0.344301        0.177533       0.173758  \n",
              "min        0.000000        0.000000       0.000000  \n",
              "25%        0.000000        0.000000       0.000000  \n",
              "50%        0.000000        0.000000       0.000000  \n",
              "75%        0.000000        0.000000       0.000000  \n",
              "max        1.000000        1.000000       1.000000  \n",
              "\n",
              "[8 rows x 65 columns]"
            ],
            "text/html": [
              "\n",
              "  <div id=\"df-68c3c31f-106e-466d-8bc6-650cd2bcb055\">\n",
              "    <div class=\"colab-df-container\">\n",
              "      <div>\n",
              "<style scoped>\n",
              "    .dataframe tbody tr th:only-of-type {\n",
              "        vertical-align: middle;\n",
              "    }\n",
              "\n",
              "    .dataframe tbody tr th {\n",
              "        vertical-align: top;\n",
              "    }\n",
              "\n",
              "    .dataframe thead th {\n",
              "        text-align: right;\n",
              "    }\n",
              "</style>\n",
              "<table border=\"1\" class=\"dataframe\">\n",
              "  <thead>\n",
              "    <tr style=\"text-align: right;\">\n",
              "      <th></th>\n",
              "      <th>id</th>\n",
              "      <th>sudden_fever</th>\n",
              "      <th>headache</th>\n",
              "      <th>mouth_bleed</th>\n",
              "      <th>nose_bleed</th>\n",
              "      <th>muscle_pain</th>\n",
              "      <th>joint_pain</th>\n",
              "      <th>vomiting</th>\n",
              "      <th>rash</th>\n",
              "      <th>diarrhea</th>\n",
              "      <th>...</th>\n",
              "      <th>lymph_swells</th>\n",
              "      <th>breathing_restriction</th>\n",
              "      <th>toe_inflammation</th>\n",
              "      <th>finger_inflammation</th>\n",
              "      <th>lips_irritation</th>\n",
              "      <th>itchiness</th>\n",
              "      <th>ulcers</th>\n",
              "      <th>toenail_loss</th>\n",
              "      <th>speech_problem</th>\n",
              "      <th>bullseye_rash</th>\n",
              "    </tr>\n",
              "  </thead>\n",
              "  <tbody>\n",
              "    <tr>\n",
              "      <th>count</th>\n",
              "      <td>707.000000</td>\n",
              "      <td>707.000000</td>\n",
              "      <td>707.000000</td>\n",
              "      <td>707.000000</td>\n",
              "      <td>707.000000</td>\n",
              "      <td>707.000000</td>\n",
              "      <td>707.000000</td>\n",
              "      <td>707.000000</td>\n",
              "      <td>707.000000</td>\n",
              "      <td>707.000000</td>\n",
              "      <td>...</td>\n",
              "      <td>707.000000</td>\n",
              "      <td>707.000000</td>\n",
              "      <td>707.000000</td>\n",
              "      <td>707.000000</td>\n",
              "      <td>707.000000</td>\n",
              "      <td>707.000000</td>\n",
              "      <td>707.000000</td>\n",
              "      <td>707.000000</td>\n",
              "      <td>707.000000</td>\n",
              "      <td>707.000000</td>\n",
              "    </tr>\n",
              "    <tr>\n",
              "      <th>mean</th>\n",
              "      <td>353.000000</td>\n",
              "      <td>0.503536</td>\n",
              "      <td>0.449788</td>\n",
              "      <td>0.459689</td>\n",
              "      <td>0.487977</td>\n",
              "      <td>0.517680</td>\n",
              "      <td>0.449788</td>\n",
              "      <td>0.441301</td>\n",
              "      <td>0.487977</td>\n",
              "      <td>0.390382</td>\n",
              "      <td>...</td>\n",
              "      <td>0.148515</td>\n",
              "      <td>0.072136</td>\n",
              "      <td>0.097595</td>\n",
              "      <td>0.079208</td>\n",
              "      <td>0.084866</td>\n",
              "      <td>0.154173</td>\n",
              "      <td>0.144272</td>\n",
              "      <td>0.137199</td>\n",
              "      <td>0.032532</td>\n",
              "      <td>0.031117</td>\n",
              "    </tr>\n",
              "    <tr>\n",
              "      <th>std</th>\n",
              "      <td>204.237607</td>\n",
              "      <td>0.500341</td>\n",
              "      <td>0.497825</td>\n",
              "      <td>0.498725</td>\n",
              "      <td>0.500209</td>\n",
              "      <td>0.500041</td>\n",
              "      <td>0.497825</td>\n",
              "      <td>0.496894</td>\n",
              "      <td>0.500209</td>\n",
              "      <td>0.488181</td>\n",
              "      <td>...</td>\n",
              "      <td>0.355861</td>\n",
              "      <td>0.258896</td>\n",
              "      <td>0.296977</td>\n",
              "      <td>0.270254</td>\n",
              "      <td>0.278879</td>\n",
              "      <td>0.361370</td>\n",
              "      <td>0.351614</td>\n",
              "      <td>0.344301</td>\n",
              "      <td>0.177533</td>\n",
              "      <td>0.173758</td>\n",
              "    </tr>\n",
              "    <tr>\n",
              "      <th>min</th>\n",
              "      <td>0.000000</td>\n",
              "      <td>0.000000</td>\n",
              "      <td>0.000000</td>\n",
              "      <td>0.000000</td>\n",
              "      <td>0.000000</td>\n",
              "      <td>0.000000</td>\n",
              "      <td>0.000000</td>\n",
              "      <td>0.000000</td>\n",
              "      <td>0.000000</td>\n",
              "      <td>0.000000</td>\n",
              "      <td>...</td>\n",
              "      <td>0.000000</td>\n",
              "      <td>0.000000</td>\n",
              "      <td>0.000000</td>\n",
              "      <td>0.000000</td>\n",
              "      <td>0.000000</td>\n",
              "      <td>0.000000</td>\n",
              "      <td>0.000000</td>\n",
              "      <td>0.000000</td>\n",
              "      <td>0.000000</td>\n",
              "      <td>0.000000</td>\n",
              "    </tr>\n",
              "    <tr>\n",
              "      <th>25%</th>\n",
              "      <td>176.500000</td>\n",
              "      <td>0.000000</td>\n",
              "      <td>0.000000</td>\n",
              "      <td>0.000000</td>\n",
              "      <td>0.000000</td>\n",
              "      <td>0.000000</td>\n",
              "      <td>0.000000</td>\n",
              "      <td>0.000000</td>\n",
              "      <td>0.000000</td>\n",
              "      <td>0.000000</td>\n",
              "      <td>...</td>\n",
              "      <td>0.000000</td>\n",
              "      <td>0.000000</td>\n",
              "      <td>0.000000</td>\n",
              "      <td>0.000000</td>\n",
              "      <td>0.000000</td>\n",
              "      <td>0.000000</td>\n",
              "      <td>0.000000</td>\n",
              "      <td>0.000000</td>\n",
              "      <td>0.000000</td>\n",
              "      <td>0.000000</td>\n",
              "    </tr>\n",
              "    <tr>\n",
              "      <th>50%</th>\n",
              "      <td>353.000000</td>\n",
              "      <td>1.000000</td>\n",
              "      <td>0.000000</td>\n",
              "      <td>0.000000</td>\n",
              "      <td>0.000000</td>\n",
              "      <td>1.000000</td>\n",
              "      <td>0.000000</td>\n",
              "      <td>0.000000</td>\n",
              "      <td>0.000000</td>\n",
              "      <td>0.000000</td>\n",
              "      <td>...</td>\n",
              "      <td>0.000000</td>\n",
              "      <td>0.000000</td>\n",
              "      <td>0.000000</td>\n",
              "      <td>0.000000</td>\n",
              "      <td>0.000000</td>\n",
              "      <td>0.000000</td>\n",
              "      <td>0.000000</td>\n",
              "      <td>0.000000</td>\n",
              "      <td>0.000000</td>\n",
              "      <td>0.000000</td>\n",
              "    </tr>\n",
              "    <tr>\n",
              "      <th>75%</th>\n",
              "      <td>529.500000</td>\n",
              "      <td>1.000000</td>\n",
              "      <td>1.000000</td>\n",
              "      <td>1.000000</td>\n",
              "      <td>1.000000</td>\n",
              "      <td>1.000000</td>\n",
              "      <td>1.000000</td>\n",
              "      <td>1.000000</td>\n",
              "      <td>1.000000</td>\n",
              "      <td>1.000000</td>\n",
              "      <td>...</td>\n",
              "      <td>0.000000</td>\n",
              "      <td>0.000000</td>\n",
              "      <td>0.000000</td>\n",
              "      <td>0.000000</td>\n",
              "      <td>0.000000</td>\n",
              "      <td>0.000000</td>\n",
              "      <td>0.000000</td>\n",
              "      <td>0.000000</td>\n",
              "      <td>0.000000</td>\n",
              "      <td>0.000000</td>\n",
              "    </tr>\n",
              "    <tr>\n",
              "      <th>max</th>\n",
              "      <td>706.000000</td>\n",
              "      <td>1.000000</td>\n",
              "      <td>1.000000</td>\n",
              "      <td>1.000000</td>\n",
              "      <td>1.000000</td>\n",
              "      <td>1.000000</td>\n",
              "      <td>1.000000</td>\n",
              "      <td>1.000000</td>\n",
              "      <td>1.000000</td>\n",
              "      <td>1.000000</td>\n",
              "      <td>...</td>\n",
              "      <td>1.000000</td>\n",
              "      <td>1.000000</td>\n",
              "      <td>1.000000</td>\n",
              "      <td>1.000000</td>\n",
              "      <td>1.000000</td>\n",
              "      <td>1.000000</td>\n",
              "      <td>1.000000</td>\n",
              "      <td>1.000000</td>\n",
              "      <td>1.000000</td>\n",
              "      <td>1.000000</td>\n",
              "    </tr>\n",
              "  </tbody>\n",
              "</table>\n",
              "<p>8 rows × 65 columns</p>\n",
              "</div>\n",
              "      <button class=\"colab-df-convert\" onclick=\"convertToInteractive('df-68c3c31f-106e-466d-8bc6-650cd2bcb055')\"\n",
              "              title=\"Convert this dataframe to an interactive table.\"\n",
              "              style=\"display:none;\">\n",
              "        \n",
              "  <svg xmlns=\"http://www.w3.org/2000/svg\" height=\"24px\"viewBox=\"0 0 24 24\"\n",
              "       width=\"24px\">\n",
              "    <path d=\"M0 0h24v24H0V0z\" fill=\"none\"/>\n",
              "    <path d=\"M18.56 5.44l.94 2.06.94-2.06 2.06-.94-2.06-.94-.94-2.06-.94 2.06-2.06.94zm-11 1L8.5 8.5l.94-2.06 2.06-.94-2.06-.94L8.5 2.5l-.94 2.06-2.06.94zm10 10l.94 2.06.94-2.06 2.06-.94-2.06-.94-.94-2.06-.94 2.06-2.06.94z\"/><path d=\"M17.41 7.96l-1.37-1.37c-.4-.4-.92-.59-1.43-.59-.52 0-1.04.2-1.43.59L10.3 9.45l-7.72 7.72c-.78.78-.78 2.05 0 2.83L4 21.41c.39.39.9.59 1.41.59.51 0 1.02-.2 1.41-.59l7.78-7.78 2.81-2.81c.8-.78.8-2.07 0-2.86zM5.41 20L4 18.59l7.72-7.72 1.47 1.35L5.41 20z\"/>\n",
              "  </svg>\n",
              "      </button>\n",
              "      \n",
              "  <style>\n",
              "    .colab-df-container {\n",
              "      display:flex;\n",
              "      flex-wrap:wrap;\n",
              "      gap: 12px;\n",
              "    }\n",
              "\n",
              "    .colab-df-convert {\n",
              "      background-color: #E8F0FE;\n",
              "      border: none;\n",
              "      border-radius: 50%;\n",
              "      cursor: pointer;\n",
              "      display: none;\n",
              "      fill: #1967D2;\n",
              "      height: 32px;\n",
              "      padding: 0 0 0 0;\n",
              "      width: 32px;\n",
              "    }\n",
              "\n",
              "    .colab-df-convert:hover {\n",
              "      background-color: #E2EBFA;\n",
              "      box-shadow: 0px 1px 2px rgba(60, 64, 67, 0.3), 0px 1px 3px 1px rgba(60, 64, 67, 0.15);\n",
              "      fill: #174EA6;\n",
              "    }\n",
              "\n",
              "    [theme=dark] .colab-df-convert {\n",
              "      background-color: #3B4455;\n",
              "      fill: #D2E3FC;\n",
              "    }\n",
              "\n",
              "    [theme=dark] .colab-df-convert:hover {\n",
              "      background-color: #434B5C;\n",
              "      box-shadow: 0px 1px 3px 1px rgba(0, 0, 0, 0.15);\n",
              "      filter: drop-shadow(0px 1px 2px rgba(0, 0, 0, 0.3));\n",
              "      fill: #FFFFFF;\n",
              "    }\n",
              "  </style>\n",
              "\n",
              "      <script>\n",
              "        const buttonEl =\n",
              "          document.querySelector('#df-68c3c31f-106e-466d-8bc6-650cd2bcb055 button.colab-df-convert');\n",
              "        buttonEl.style.display =\n",
              "          google.colab.kernel.accessAllowed ? 'block' : 'none';\n",
              "\n",
              "        async function convertToInteractive(key) {\n",
              "          const element = document.querySelector('#df-68c3c31f-106e-466d-8bc6-650cd2bcb055');\n",
              "          const dataTable =\n",
              "            await google.colab.kernel.invokeFunction('convertToInteractive',\n",
              "                                                     [key], {});\n",
              "          if (!dataTable) return;\n",
              "\n",
              "          const docLinkHtml = 'Like what you see? Visit the ' +\n",
              "            '<a target=\"_blank\" href=https://colab.research.google.com/notebooks/data_table.ipynb>data table notebook</a>'\n",
              "            + ' to learn more about interactive tables.';\n",
              "          element.innerHTML = '';\n",
              "          dataTable['output_type'] = 'display_data';\n",
              "          await google.colab.output.renderOutput(dataTable, element);\n",
              "          const docLink = document.createElement('div');\n",
              "          docLink.innerHTML = docLinkHtml;\n",
              "          element.appendChild(docLink);\n",
              "        }\n",
              "      </script>\n",
              "    </div>\n",
              "  </div>\n",
              "  "
            ]
          },
          "metadata": {},
          "execution_count": 119
        }
      ]
    },
    {
      "cell_type": "code",
      "source": [
        "df_train.shape"
      ],
      "metadata": {
        "colab": {
          "base_uri": "https://localhost:8080/"
        },
        "id": "Cyl1pPvy20KF",
        "outputId": "a5a9fb55-8b0b-4edb-f5f3-42b482cb6f1b"
      },
      "execution_count": 120,
      "outputs": [
        {
          "output_type": "execute_result",
          "data": {
            "text/plain": [
              "(707, 66)"
            ]
          },
          "metadata": {},
          "execution_count": 120
        }
      ]
    },
    {
      "cell_type": "code",
      "source": [
        "df_train.head(5)"
      ],
      "metadata": {
        "colab": {
          "base_uri": "https://localhost:8080/",
          "height": 300
        },
        "id": "gpVBfzCe22KX",
        "outputId": "928ad66b-0577-40a6-d329-e8e5f244598f"
      },
      "execution_count": 121,
      "outputs": [
        {
          "output_type": "execute_result",
          "data": {
            "text/plain": [
              "   id  sudden_fever  headache  mouth_bleed  nose_bleed  muscle_pain  \\\n",
              "0   0           1.0       1.0          0.0         1.0          1.0   \n",
              "1   1           0.0       0.0          0.0         0.0          0.0   \n",
              "2   2           0.0       1.0          1.0         1.0          0.0   \n",
              "3   3           0.0       0.0          1.0         1.0          1.0   \n",
              "4   4           0.0       0.0          0.0         0.0          0.0   \n",
              "\n",
              "   joint_pain  vomiting  rash  diarrhea  ...  breathing_restriction  \\\n",
              "0         1.0       1.0   0.0       1.0  ...                    0.0   \n",
              "1         0.0       1.0   0.0       1.0  ...                    0.0   \n",
              "2         1.0       1.0   1.0       1.0  ...                    1.0   \n",
              "3         1.0       0.0   1.0       0.0  ...                    0.0   \n",
              "4         0.0       0.0   0.0       1.0  ...                    0.0   \n",
              "\n",
              "   toe_inflammation  finger_inflammation  lips_irritation  itchiness  ulcers  \\\n",
              "0               0.0                  0.0              0.0        0.0     0.0   \n",
              "1               0.0                  0.0              0.0        0.0     0.0   \n",
              "2               1.0                  1.0              1.0        1.0     0.0   \n",
              "3               0.0                  0.0              0.0        0.0     0.0   \n",
              "4               1.0                  0.0              0.0        1.0     1.0   \n",
              "\n",
              "   toenail_loss  speech_problem  bullseye_rash          prognosis  \n",
              "0           0.0             0.0            0.0       Lyme_disease  \n",
              "1           0.0             0.0            0.0          Tungiasis  \n",
              "2           1.0             1.0            1.0       Lyme_disease  \n",
              "3           0.0             0.0            0.0               Zika  \n",
              "4           1.0             0.0            0.0  Rift_Valley_fever  \n",
              "\n",
              "[5 rows x 66 columns]"
            ],
            "text/html": [
              "\n",
              "  <div id=\"df-cd0fd223-ac00-463f-94b5-0781bd64279f\">\n",
              "    <div class=\"colab-df-container\">\n",
              "      <div>\n",
              "<style scoped>\n",
              "    .dataframe tbody tr th:only-of-type {\n",
              "        vertical-align: middle;\n",
              "    }\n",
              "\n",
              "    .dataframe tbody tr th {\n",
              "        vertical-align: top;\n",
              "    }\n",
              "\n",
              "    .dataframe thead th {\n",
              "        text-align: right;\n",
              "    }\n",
              "</style>\n",
              "<table border=\"1\" class=\"dataframe\">\n",
              "  <thead>\n",
              "    <tr style=\"text-align: right;\">\n",
              "      <th></th>\n",
              "      <th>id</th>\n",
              "      <th>sudden_fever</th>\n",
              "      <th>headache</th>\n",
              "      <th>mouth_bleed</th>\n",
              "      <th>nose_bleed</th>\n",
              "      <th>muscle_pain</th>\n",
              "      <th>joint_pain</th>\n",
              "      <th>vomiting</th>\n",
              "      <th>rash</th>\n",
              "      <th>diarrhea</th>\n",
              "      <th>...</th>\n",
              "      <th>breathing_restriction</th>\n",
              "      <th>toe_inflammation</th>\n",
              "      <th>finger_inflammation</th>\n",
              "      <th>lips_irritation</th>\n",
              "      <th>itchiness</th>\n",
              "      <th>ulcers</th>\n",
              "      <th>toenail_loss</th>\n",
              "      <th>speech_problem</th>\n",
              "      <th>bullseye_rash</th>\n",
              "      <th>prognosis</th>\n",
              "    </tr>\n",
              "  </thead>\n",
              "  <tbody>\n",
              "    <tr>\n",
              "      <th>0</th>\n",
              "      <td>0</td>\n",
              "      <td>1.0</td>\n",
              "      <td>1.0</td>\n",
              "      <td>0.0</td>\n",
              "      <td>1.0</td>\n",
              "      <td>1.0</td>\n",
              "      <td>1.0</td>\n",
              "      <td>1.0</td>\n",
              "      <td>0.0</td>\n",
              "      <td>1.0</td>\n",
              "      <td>...</td>\n",
              "      <td>0.0</td>\n",
              "      <td>0.0</td>\n",
              "      <td>0.0</td>\n",
              "      <td>0.0</td>\n",
              "      <td>0.0</td>\n",
              "      <td>0.0</td>\n",
              "      <td>0.0</td>\n",
              "      <td>0.0</td>\n",
              "      <td>0.0</td>\n",
              "      <td>Lyme_disease</td>\n",
              "    </tr>\n",
              "    <tr>\n",
              "      <th>1</th>\n",
              "      <td>1</td>\n",
              "      <td>0.0</td>\n",
              "      <td>0.0</td>\n",
              "      <td>0.0</td>\n",
              "      <td>0.0</td>\n",
              "      <td>0.0</td>\n",
              "      <td>0.0</td>\n",
              "      <td>1.0</td>\n",
              "      <td>0.0</td>\n",
              "      <td>1.0</td>\n",
              "      <td>...</td>\n",
              "      <td>0.0</td>\n",
              "      <td>0.0</td>\n",
              "      <td>0.0</td>\n",
              "      <td>0.0</td>\n",
              "      <td>0.0</td>\n",
              "      <td>0.0</td>\n",
              "      <td>0.0</td>\n",
              "      <td>0.0</td>\n",
              "      <td>0.0</td>\n",
              "      <td>Tungiasis</td>\n",
              "    </tr>\n",
              "    <tr>\n",
              "      <th>2</th>\n",
              "      <td>2</td>\n",
              "      <td>0.0</td>\n",
              "      <td>1.0</td>\n",
              "      <td>1.0</td>\n",
              "      <td>1.0</td>\n",
              "      <td>0.0</td>\n",
              "      <td>1.0</td>\n",
              "      <td>1.0</td>\n",
              "      <td>1.0</td>\n",
              "      <td>1.0</td>\n",
              "      <td>...</td>\n",
              "      <td>1.0</td>\n",
              "      <td>1.0</td>\n",
              "      <td>1.0</td>\n",
              "      <td>1.0</td>\n",
              "      <td>1.0</td>\n",
              "      <td>0.0</td>\n",
              "      <td>1.0</td>\n",
              "      <td>1.0</td>\n",
              "      <td>1.0</td>\n",
              "      <td>Lyme_disease</td>\n",
              "    </tr>\n",
              "    <tr>\n",
              "      <th>3</th>\n",
              "      <td>3</td>\n",
              "      <td>0.0</td>\n",
              "      <td>0.0</td>\n",
              "      <td>1.0</td>\n",
              "      <td>1.0</td>\n",
              "      <td>1.0</td>\n",
              "      <td>1.0</td>\n",
              "      <td>0.0</td>\n",
              "      <td>1.0</td>\n",
              "      <td>0.0</td>\n",
              "      <td>...</td>\n",
              "      <td>0.0</td>\n",
              "      <td>0.0</td>\n",
              "      <td>0.0</td>\n",
              "      <td>0.0</td>\n",
              "      <td>0.0</td>\n",
              "      <td>0.0</td>\n",
              "      <td>0.0</td>\n",
              "      <td>0.0</td>\n",
              "      <td>0.0</td>\n",
              "      <td>Zika</td>\n",
              "    </tr>\n",
              "    <tr>\n",
              "      <th>4</th>\n",
              "      <td>4</td>\n",
              "      <td>0.0</td>\n",
              "      <td>0.0</td>\n",
              "      <td>0.0</td>\n",
              "      <td>0.0</td>\n",
              "      <td>0.0</td>\n",
              "      <td>0.0</td>\n",
              "      <td>0.0</td>\n",
              "      <td>0.0</td>\n",
              "      <td>1.0</td>\n",
              "      <td>...</td>\n",
              "      <td>0.0</td>\n",
              "      <td>1.0</td>\n",
              "      <td>0.0</td>\n",
              "      <td>0.0</td>\n",
              "      <td>1.0</td>\n",
              "      <td>1.0</td>\n",
              "      <td>1.0</td>\n",
              "      <td>0.0</td>\n",
              "      <td>0.0</td>\n",
              "      <td>Rift_Valley_fever</td>\n",
              "    </tr>\n",
              "  </tbody>\n",
              "</table>\n",
              "<p>5 rows × 66 columns</p>\n",
              "</div>\n",
              "      <button class=\"colab-df-convert\" onclick=\"convertToInteractive('df-cd0fd223-ac00-463f-94b5-0781bd64279f')\"\n",
              "              title=\"Convert this dataframe to an interactive table.\"\n",
              "              style=\"display:none;\">\n",
              "        \n",
              "  <svg xmlns=\"http://www.w3.org/2000/svg\" height=\"24px\"viewBox=\"0 0 24 24\"\n",
              "       width=\"24px\">\n",
              "    <path d=\"M0 0h24v24H0V0z\" fill=\"none\"/>\n",
              "    <path d=\"M18.56 5.44l.94 2.06.94-2.06 2.06-.94-2.06-.94-.94-2.06-.94 2.06-2.06.94zm-11 1L8.5 8.5l.94-2.06 2.06-.94-2.06-.94L8.5 2.5l-.94 2.06-2.06.94zm10 10l.94 2.06.94-2.06 2.06-.94-2.06-.94-.94-2.06-.94 2.06-2.06.94z\"/><path d=\"M17.41 7.96l-1.37-1.37c-.4-.4-.92-.59-1.43-.59-.52 0-1.04.2-1.43.59L10.3 9.45l-7.72 7.72c-.78.78-.78 2.05 0 2.83L4 21.41c.39.39.9.59 1.41.59.51 0 1.02-.2 1.41-.59l7.78-7.78 2.81-2.81c.8-.78.8-2.07 0-2.86zM5.41 20L4 18.59l7.72-7.72 1.47 1.35L5.41 20z\"/>\n",
              "  </svg>\n",
              "      </button>\n",
              "      \n",
              "  <style>\n",
              "    .colab-df-container {\n",
              "      display:flex;\n",
              "      flex-wrap:wrap;\n",
              "      gap: 12px;\n",
              "    }\n",
              "\n",
              "    .colab-df-convert {\n",
              "      background-color: #E8F0FE;\n",
              "      border: none;\n",
              "      border-radius: 50%;\n",
              "      cursor: pointer;\n",
              "      display: none;\n",
              "      fill: #1967D2;\n",
              "      height: 32px;\n",
              "      padding: 0 0 0 0;\n",
              "      width: 32px;\n",
              "    }\n",
              "\n",
              "    .colab-df-convert:hover {\n",
              "      background-color: #E2EBFA;\n",
              "      box-shadow: 0px 1px 2px rgba(60, 64, 67, 0.3), 0px 1px 3px 1px rgba(60, 64, 67, 0.15);\n",
              "      fill: #174EA6;\n",
              "    }\n",
              "\n",
              "    [theme=dark] .colab-df-convert {\n",
              "      background-color: #3B4455;\n",
              "      fill: #D2E3FC;\n",
              "    }\n",
              "\n",
              "    [theme=dark] .colab-df-convert:hover {\n",
              "      background-color: #434B5C;\n",
              "      box-shadow: 0px 1px 3px 1px rgba(0, 0, 0, 0.15);\n",
              "      filter: drop-shadow(0px 1px 2px rgba(0, 0, 0, 0.3));\n",
              "      fill: #FFFFFF;\n",
              "    }\n",
              "  </style>\n",
              "\n",
              "      <script>\n",
              "        const buttonEl =\n",
              "          document.querySelector('#df-cd0fd223-ac00-463f-94b5-0781bd64279f button.colab-df-convert');\n",
              "        buttonEl.style.display =\n",
              "          google.colab.kernel.accessAllowed ? 'block' : 'none';\n",
              "\n",
              "        async function convertToInteractive(key) {\n",
              "          const element = document.querySelector('#df-cd0fd223-ac00-463f-94b5-0781bd64279f');\n",
              "          const dataTable =\n",
              "            await google.colab.kernel.invokeFunction('convertToInteractive',\n",
              "                                                     [key], {});\n",
              "          if (!dataTable) return;\n",
              "\n",
              "          const docLinkHtml = 'Like what you see? Visit the ' +\n",
              "            '<a target=\"_blank\" href=https://colab.research.google.com/notebooks/data_table.ipynb>data table notebook</a>'\n",
              "            + ' to learn more about interactive tables.';\n",
              "          element.innerHTML = '';\n",
              "          dataTable['output_type'] = 'display_data';\n",
              "          await google.colab.output.renderOutput(dataTable, element);\n",
              "          const docLink = document.createElement('div');\n",
              "          docLink.innerHTML = docLinkHtml;\n",
              "          element.appendChild(docLink);\n",
              "        }\n",
              "      </script>\n",
              "    </div>\n",
              "  </div>\n",
              "  "
            ]
          },
          "metadata": {},
          "execution_count": 121
        }
      ]
    },
    {
      "cell_type": "code",
      "source": [
        "df_test.head()"
      ],
      "metadata": {
        "colab": {
          "base_uri": "https://localhost:8080/",
          "height": 300
        },
        "id": "WF5aA6G026WS",
        "outputId": "6bbd955a-fa3a-4b2a-c5d7-14259df45f26"
      },
      "execution_count": 122,
      "outputs": [
        {
          "output_type": "execute_result",
          "data": {
            "text/plain": [
              "    id  sudden_fever  headache  mouth_bleed  nose_bleed  muscle_pain  \\\n",
              "0  707           0.0       0.0          0.0         0.0          0.0   \n",
              "1  708           1.0       1.0          0.0         1.0          0.0   \n",
              "2  709           1.0       1.0          0.0         1.0          1.0   \n",
              "3  710           0.0       1.0          0.0         0.0          0.0   \n",
              "4  711           0.0       0.0          1.0         0.0          1.0   \n",
              "\n",
              "   joint_pain  vomiting  rash  diarrhea  ...  lymph_swells  \\\n",
              "0         0.0       0.0   0.0       0.0  ...           0.0   \n",
              "1         1.0       1.0   1.0       1.0  ...           0.0   \n",
              "2         1.0       1.0   0.0       1.0  ...           0.0   \n",
              "3         1.0       1.0   1.0       0.0  ...           0.0   \n",
              "4         1.0       0.0   0.0       1.0  ...           0.0   \n",
              "\n",
              "   breathing_restriction  toe_inflammation  finger_inflammation  \\\n",
              "0                    0.0               0.0                  0.0   \n",
              "1                    0.0               0.0                  0.0   \n",
              "2                    0.0               0.0                  0.0   \n",
              "3                    0.0               0.0                  0.0   \n",
              "4                    0.0               0.0                  0.0   \n",
              "\n",
              "   lips_irritation  itchiness  ulcers  toenail_loss  speech_problem  \\\n",
              "0              0.0        0.0     0.0           0.0             0.0   \n",
              "1              0.0        0.0     0.0           0.0             0.0   \n",
              "2              0.0        1.0     0.0           0.0             0.0   \n",
              "3              0.0        0.0     0.0           0.0             0.0   \n",
              "4              0.0        0.0     0.0           0.0             0.0   \n",
              "\n",
              "   bullseye_rash  \n",
              "0            0.0  \n",
              "1            0.0  \n",
              "2            0.0  \n",
              "3            0.0  \n",
              "4            0.0  \n",
              "\n",
              "[5 rows x 65 columns]"
            ],
            "text/html": [
              "\n",
              "  <div id=\"df-428ad081-edbf-4e65-bc0f-713dd08b4e58\">\n",
              "    <div class=\"colab-df-container\">\n",
              "      <div>\n",
              "<style scoped>\n",
              "    .dataframe tbody tr th:only-of-type {\n",
              "        vertical-align: middle;\n",
              "    }\n",
              "\n",
              "    .dataframe tbody tr th {\n",
              "        vertical-align: top;\n",
              "    }\n",
              "\n",
              "    .dataframe thead th {\n",
              "        text-align: right;\n",
              "    }\n",
              "</style>\n",
              "<table border=\"1\" class=\"dataframe\">\n",
              "  <thead>\n",
              "    <tr style=\"text-align: right;\">\n",
              "      <th></th>\n",
              "      <th>id</th>\n",
              "      <th>sudden_fever</th>\n",
              "      <th>headache</th>\n",
              "      <th>mouth_bleed</th>\n",
              "      <th>nose_bleed</th>\n",
              "      <th>muscle_pain</th>\n",
              "      <th>joint_pain</th>\n",
              "      <th>vomiting</th>\n",
              "      <th>rash</th>\n",
              "      <th>diarrhea</th>\n",
              "      <th>...</th>\n",
              "      <th>lymph_swells</th>\n",
              "      <th>breathing_restriction</th>\n",
              "      <th>toe_inflammation</th>\n",
              "      <th>finger_inflammation</th>\n",
              "      <th>lips_irritation</th>\n",
              "      <th>itchiness</th>\n",
              "      <th>ulcers</th>\n",
              "      <th>toenail_loss</th>\n",
              "      <th>speech_problem</th>\n",
              "      <th>bullseye_rash</th>\n",
              "    </tr>\n",
              "  </thead>\n",
              "  <tbody>\n",
              "    <tr>\n",
              "      <th>0</th>\n",
              "      <td>707</td>\n",
              "      <td>0.0</td>\n",
              "      <td>0.0</td>\n",
              "      <td>0.0</td>\n",
              "      <td>0.0</td>\n",
              "      <td>0.0</td>\n",
              "      <td>0.0</td>\n",
              "      <td>0.0</td>\n",
              "      <td>0.0</td>\n",
              "      <td>0.0</td>\n",
              "      <td>...</td>\n",
              "      <td>0.0</td>\n",
              "      <td>0.0</td>\n",
              "      <td>0.0</td>\n",
              "      <td>0.0</td>\n",
              "      <td>0.0</td>\n",
              "      <td>0.0</td>\n",
              "      <td>0.0</td>\n",
              "      <td>0.0</td>\n",
              "      <td>0.0</td>\n",
              "      <td>0.0</td>\n",
              "    </tr>\n",
              "    <tr>\n",
              "      <th>1</th>\n",
              "      <td>708</td>\n",
              "      <td>1.0</td>\n",
              "      <td>1.0</td>\n",
              "      <td>0.0</td>\n",
              "      <td>1.0</td>\n",
              "      <td>0.0</td>\n",
              "      <td>1.0</td>\n",
              "      <td>1.0</td>\n",
              "      <td>1.0</td>\n",
              "      <td>1.0</td>\n",
              "      <td>...</td>\n",
              "      <td>0.0</td>\n",
              "      <td>0.0</td>\n",
              "      <td>0.0</td>\n",
              "      <td>0.0</td>\n",
              "      <td>0.0</td>\n",
              "      <td>0.0</td>\n",
              "      <td>0.0</td>\n",
              "      <td>0.0</td>\n",
              "      <td>0.0</td>\n",
              "      <td>0.0</td>\n",
              "    </tr>\n",
              "    <tr>\n",
              "      <th>2</th>\n",
              "      <td>709</td>\n",
              "      <td>1.0</td>\n",
              "      <td>1.0</td>\n",
              "      <td>0.0</td>\n",
              "      <td>1.0</td>\n",
              "      <td>1.0</td>\n",
              "      <td>1.0</td>\n",
              "      <td>1.0</td>\n",
              "      <td>0.0</td>\n",
              "      <td>1.0</td>\n",
              "      <td>...</td>\n",
              "      <td>0.0</td>\n",
              "      <td>0.0</td>\n",
              "      <td>0.0</td>\n",
              "      <td>0.0</td>\n",
              "      <td>0.0</td>\n",
              "      <td>1.0</td>\n",
              "      <td>0.0</td>\n",
              "      <td>0.0</td>\n",
              "      <td>0.0</td>\n",
              "      <td>0.0</td>\n",
              "    </tr>\n",
              "    <tr>\n",
              "      <th>3</th>\n",
              "      <td>710</td>\n",
              "      <td>0.0</td>\n",
              "      <td>1.0</td>\n",
              "      <td>0.0</td>\n",
              "      <td>0.0</td>\n",
              "      <td>0.0</td>\n",
              "      <td>1.0</td>\n",
              "      <td>1.0</td>\n",
              "      <td>1.0</td>\n",
              "      <td>0.0</td>\n",
              "      <td>...</td>\n",
              "      <td>0.0</td>\n",
              "      <td>0.0</td>\n",
              "      <td>0.0</td>\n",
              "      <td>0.0</td>\n",
              "      <td>0.0</td>\n",
              "      <td>0.0</td>\n",
              "      <td>0.0</td>\n",
              "      <td>0.0</td>\n",
              "      <td>0.0</td>\n",
              "      <td>0.0</td>\n",
              "    </tr>\n",
              "    <tr>\n",
              "      <th>4</th>\n",
              "      <td>711</td>\n",
              "      <td>0.0</td>\n",
              "      <td>0.0</td>\n",
              "      <td>1.0</td>\n",
              "      <td>0.0</td>\n",
              "      <td>1.0</td>\n",
              "      <td>1.0</td>\n",
              "      <td>0.0</td>\n",
              "      <td>0.0</td>\n",
              "      <td>1.0</td>\n",
              "      <td>...</td>\n",
              "      <td>0.0</td>\n",
              "      <td>0.0</td>\n",
              "      <td>0.0</td>\n",
              "      <td>0.0</td>\n",
              "      <td>0.0</td>\n",
              "      <td>0.0</td>\n",
              "      <td>0.0</td>\n",
              "      <td>0.0</td>\n",
              "      <td>0.0</td>\n",
              "      <td>0.0</td>\n",
              "    </tr>\n",
              "  </tbody>\n",
              "</table>\n",
              "<p>5 rows × 65 columns</p>\n",
              "</div>\n",
              "      <button class=\"colab-df-convert\" onclick=\"convertToInteractive('df-428ad081-edbf-4e65-bc0f-713dd08b4e58')\"\n",
              "              title=\"Convert this dataframe to an interactive table.\"\n",
              "              style=\"display:none;\">\n",
              "        \n",
              "  <svg xmlns=\"http://www.w3.org/2000/svg\" height=\"24px\"viewBox=\"0 0 24 24\"\n",
              "       width=\"24px\">\n",
              "    <path d=\"M0 0h24v24H0V0z\" fill=\"none\"/>\n",
              "    <path d=\"M18.56 5.44l.94 2.06.94-2.06 2.06-.94-2.06-.94-.94-2.06-.94 2.06-2.06.94zm-11 1L8.5 8.5l.94-2.06 2.06-.94-2.06-.94L8.5 2.5l-.94 2.06-2.06.94zm10 10l.94 2.06.94-2.06 2.06-.94-2.06-.94-.94-2.06-.94 2.06-2.06.94z\"/><path d=\"M17.41 7.96l-1.37-1.37c-.4-.4-.92-.59-1.43-.59-.52 0-1.04.2-1.43.59L10.3 9.45l-7.72 7.72c-.78.78-.78 2.05 0 2.83L4 21.41c.39.39.9.59 1.41.59.51 0 1.02-.2 1.41-.59l7.78-7.78 2.81-2.81c.8-.78.8-2.07 0-2.86zM5.41 20L4 18.59l7.72-7.72 1.47 1.35L5.41 20z\"/>\n",
              "  </svg>\n",
              "      </button>\n",
              "      \n",
              "  <style>\n",
              "    .colab-df-container {\n",
              "      display:flex;\n",
              "      flex-wrap:wrap;\n",
              "      gap: 12px;\n",
              "    }\n",
              "\n",
              "    .colab-df-convert {\n",
              "      background-color: #E8F0FE;\n",
              "      border: none;\n",
              "      border-radius: 50%;\n",
              "      cursor: pointer;\n",
              "      display: none;\n",
              "      fill: #1967D2;\n",
              "      height: 32px;\n",
              "      padding: 0 0 0 0;\n",
              "      width: 32px;\n",
              "    }\n",
              "\n",
              "    .colab-df-convert:hover {\n",
              "      background-color: #E2EBFA;\n",
              "      box-shadow: 0px 1px 2px rgba(60, 64, 67, 0.3), 0px 1px 3px 1px rgba(60, 64, 67, 0.15);\n",
              "      fill: #174EA6;\n",
              "    }\n",
              "\n",
              "    [theme=dark] .colab-df-convert {\n",
              "      background-color: #3B4455;\n",
              "      fill: #D2E3FC;\n",
              "    }\n",
              "\n",
              "    [theme=dark] .colab-df-convert:hover {\n",
              "      background-color: #434B5C;\n",
              "      box-shadow: 0px 1px 3px 1px rgba(0, 0, 0, 0.15);\n",
              "      filter: drop-shadow(0px 1px 2px rgba(0, 0, 0, 0.3));\n",
              "      fill: #FFFFFF;\n",
              "    }\n",
              "  </style>\n",
              "\n",
              "      <script>\n",
              "        const buttonEl =\n",
              "          document.querySelector('#df-428ad081-edbf-4e65-bc0f-713dd08b4e58 button.colab-df-convert');\n",
              "        buttonEl.style.display =\n",
              "          google.colab.kernel.accessAllowed ? 'block' : 'none';\n",
              "\n",
              "        async function convertToInteractive(key) {\n",
              "          const element = document.querySelector('#df-428ad081-edbf-4e65-bc0f-713dd08b4e58');\n",
              "          const dataTable =\n",
              "            await google.colab.kernel.invokeFunction('convertToInteractive',\n",
              "                                                     [key], {});\n",
              "          if (!dataTable) return;\n",
              "\n",
              "          const docLinkHtml = 'Like what you see? Visit the ' +\n",
              "            '<a target=\"_blank\" href=https://colab.research.google.com/notebooks/data_table.ipynb>data table notebook</a>'\n",
              "            + ' to learn more about interactive tables.';\n",
              "          element.innerHTML = '';\n",
              "          dataTable['output_type'] = 'display_data';\n",
              "          await google.colab.output.renderOutput(dataTable, element);\n",
              "          const docLink = document.createElement('div');\n",
              "          docLink.innerHTML = docLinkHtml;\n",
              "          element.appendChild(docLink);\n",
              "        }\n",
              "      </script>\n",
              "    </div>\n",
              "  </div>\n",
              "  "
            ]
          },
          "metadata": {},
          "execution_count": 122
        }
      ]
    },
    {
      "cell_type": "code",
      "source": [
        "df_test.info()"
      ],
      "metadata": {
        "colab": {
          "base_uri": "https://localhost:8080/"
        },
        "id": "lryYsPJv2-sK",
        "outputId": "388cae6f-7970-49dd-961c-f7c29555f41f"
      },
      "execution_count": 123,
      "outputs": [
        {
          "output_type": "stream",
          "name": "stdout",
          "text": [
            "<class 'pandas.core.frame.DataFrame'>\n",
            "RangeIndex: 303 entries, 0 to 302\n",
            "Data columns (total 65 columns):\n",
            " #   Column                 Non-Null Count  Dtype  \n",
            "---  ------                 --------------  -----  \n",
            " 0   id                     303 non-null    int64  \n",
            " 1   sudden_fever           303 non-null    float64\n",
            " 2   headache               303 non-null    float64\n",
            " 3   mouth_bleed            303 non-null    float64\n",
            " 4   nose_bleed             303 non-null    float64\n",
            " 5   muscle_pain            303 non-null    float64\n",
            " 6   joint_pain             303 non-null    float64\n",
            " 7   vomiting               303 non-null    float64\n",
            " 8   rash                   303 non-null    float64\n",
            " 9   diarrhea               303 non-null    float64\n",
            " 10  hypotension            303 non-null    float64\n",
            " 11  pleural_effusion       303 non-null    float64\n",
            " 12  ascites                303 non-null    float64\n",
            " 13  gastro_bleeding        303 non-null    float64\n",
            " 14  swelling               303 non-null    float64\n",
            " 15  nausea                 303 non-null    float64\n",
            " 16  chills                 303 non-null    float64\n",
            " 17  myalgia                303 non-null    float64\n",
            " 18  digestion_trouble      303 non-null    float64\n",
            " 19  fatigue                303 non-null    float64\n",
            " 20  skin_lesions           303 non-null    float64\n",
            " 21  stomach_pain           303 non-null    float64\n",
            " 22  orbital_pain           303 non-null    float64\n",
            " 23  neck_pain              303 non-null    float64\n",
            " 24  weakness               303 non-null    float64\n",
            " 25  back_pain              303 non-null    float64\n",
            " 26  weight_loss            303 non-null    float64\n",
            " 27  gum_bleed              303 non-null    float64\n",
            " 28  jaundice               303 non-null    float64\n",
            " 29  coma                   303 non-null    float64\n",
            " 30  diziness               303 non-null    float64\n",
            " 31  inflammation           303 non-null    float64\n",
            " 32  red_eyes               303 non-null    float64\n",
            " 33  loss_of_appetite       303 non-null    float64\n",
            " 34  urination_loss         303 non-null    float64\n",
            " 35  slow_heart_rate        303 non-null    float64\n",
            " 36  abdominal_pain         303 non-null    float64\n",
            " 37  light_sensitivity      303 non-null    float64\n",
            " 38  yellow_skin            303 non-null    float64\n",
            " 39  yellow_eyes            303 non-null    float64\n",
            " 40  facial_distortion      303 non-null    float64\n",
            " 41  microcephaly           303 non-null    float64\n",
            " 42  rigor                  303 non-null    float64\n",
            " 43  bitter_tongue          303 non-null    float64\n",
            " 44  convulsion             303 non-null    float64\n",
            " 45  anemia                 303 non-null    float64\n",
            " 46  cocacola_urine         303 non-null    float64\n",
            " 47  hypoglycemia           303 non-null    float64\n",
            " 48  prostraction           303 non-null    float64\n",
            " 49  hyperpyrexia           303 non-null    float64\n",
            " 50  stiff_neck             303 non-null    float64\n",
            " 51  irritability           303 non-null    float64\n",
            " 52  confusion              303 non-null    float64\n",
            " 53  tremor                 303 non-null    float64\n",
            " 54  paralysis              303 non-null    float64\n",
            " 55  lymph_swells           303 non-null    float64\n",
            " 56  breathing_restriction  303 non-null    float64\n",
            " 57  toe_inflammation       303 non-null    float64\n",
            " 58  finger_inflammation    303 non-null    float64\n",
            " 59  lips_irritation        303 non-null    float64\n",
            " 60  itchiness              303 non-null    float64\n",
            " 61  ulcers                 303 non-null    float64\n",
            " 62  toenail_loss           303 non-null    float64\n",
            " 63  speech_problem         303 non-null    float64\n",
            " 64  bullseye_rash          303 non-null    float64\n",
            "dtypes: float64(64), int64(1)\n",
            "memory usage: 154.0 KB\n"
          ]
        }
      ]
    },
    {
      "cell_type": "markdown",
      "source": [
        "## checking null values"
      ],
      "metadata": {
        "id": "uDB6kuag3E4p"
      }
    },
    {
      "cell_type": "code",
      "source": [
        "df_train.isna().sum()"
      ],
      "metadata": {
        "colab": {
          "base_uri": "https://localhost:8080/"
        },
        "id": "2i15rwWA3CA_",
        "outputId": "f19eb1bd-994b-424e-eb6f-45d40d22521b"
      },
      "execution_count": 124,
      "outputs": [
        {
          "output_type": "execute_result",
          "data": {
            "text/plain": [
              "id                0\n",
              "sudden_fever      0\n",
              "headache          0\n",
              "mouth_bleed       0\n",
              "nose_bleed        0\n",
              "                 ..\n",
              "ulcers            0\n",
              "toenail_loss      0\n",
              "speech_problem    0\n",
              "bullseye_rash     0\n",
              "prognosis         0\n",
              "Length: 66, dtype: int64"
            ]
          },
          "metadata": {},
          "execution_count": 124
        }
      ]
    },
    {
      "cell_type": "code",
      "source": [
        "df_test.isna().sum()"
      ],
      "metadata": {
        "colab": {
          "base_uri": "https://localhost:8080/"
        },
        "id": "yXAg3ykO3Jrp",
        "outputId": "ba7d6f3c-1134-4d9c-8ea6-112a4d5d509f"
      },
      "execution_count": 125,
      "outputs": [
        {
          "output_type": "execute_result",
          "data": {
            "text/plain": [
              "id                0\n",
              "sudden_fever      0\n",
              "headache          0\n",
              "mouth_bleed       0\n",
              "nose_bleed        0\n",
              "                 ..\n",
              "itchiness         0\n",
              "ulcers            0\n",
              "toenail_loss      0\n",
              "speech_problem    0\n",
              "bullseye_rash     0\n",
              "Length: 65, dtype: int64"
            ]
          },
          "metadata": {},
          "execution_count": 125
        }
      ]
    },
    {
      "cell_type": "code",
      "source": [
        "#Category columns\n",
        "category_columns=df_train.dtypes==\"O\"\n",
        "cat_cols= category_columns[category_columns].index\n",
        "cat_cols"
      ],
      "metadata": {
        "colab": {
          "base_uri": "https://localhost:8080/"
        },
        "id": "LQQfN49N3Yem",
        "outputId": "df482859-51a1-4685-d18d-92fdc43ab95d"
      },
      "execution_count": 126,
      "outputs": [
        {
          "output_type": "execute_result",
          "data": {
            "text/plain": [
              "Index(['prognosis'], dtype='object')"
            ]
          },
          "metadata": {},
          "execution_count": 126
        }
      ]
    },
    {
      "cell_type": "code",
      "source": [],
      "metadata": {
        "id": "EGCHwDXE3Y0r"
      },
      "execution_count": 126,
      "outputs": []
    },
    {
      "cell_type": "code",
      "source": [
        "df_train.set_index('id',inplace=True)"
      ],
      "metadata": {
        "id": "SNhO82IB4jsy"
      },
      "execution_count": 127,
      "outputs": []
    },
    {
      "cell_type": "code",
      "source": [
        "#Numerical columns\n",
        "numerical_columns=df_train.dtypes!=\"O\"\n",
        "num_cols= numerical_columns[numerical_columns].index\n",
        "num_cols"
      ],
      "metadata": {
        "colab": {
          "base_uri": "https://localhost:8080/"
        },
        "id": "RslwWSuJ4rzQ",
        "outputId": "d6636f03-258a-4c3e-e307-adad4b9c76d9"
      },
      "execution_count": 128,
      "outputs": [
        {
          "output_type": "execute_result",
          "data": {
            "text/plain": [
              "Index(['sudden_fever', 'headache', 'mouth_bleed', 'nose_bleed', 'muscle_pain',\n",
              "       'joint_pain', 'vomiting', 'rash', 'diarrhea', 'hypotension',\n",
              "       'pleural_effusion', 'ascites', 'gastro_bleeding', 'swelling', 'nausea',\n",
              "       'chills', 'myalgia', 'digestion_trouble', 'fatigue', 'skin_lesions',\n",
              "       'stomach_pain', 'orbital_pain', 'neck_pain', 'weakness', 'back_pain',\n",
              "       'weight_loss', 'gum_bleed', 'jaundice', 'coma', 'diziness',\n",
              "       'inflammation', 'red_eyes', 'loss_of_appetite', 'urination_loss',\n",
              "       'slow_heart_rate', 'abdominal_pain', 'light_sensitivity', 'yellow_skin',\n",
              "       'yellow_eyes', 'facial_distortion', 'microcephaly', 'rigor',\n",
              "       'bitter_tongue', 'convulsion', 'anemia', 'cocacola_urine',\n",
              "       'hypoglycemia', 'prostraction', 'hyperpyrexia', 'stiff_neck',\n",
              "       'irritability', 'confusion', 'tremor', 'paralysis', 'lymph_swells',\n",
              "       'breathing_restriction', 'toe_inflammation', 'finger_inflammation',\n",
              "       'lips_irritation', 'itchiness', 'ulcers', 'toenail_loss',\n",
              "       'speech_problem', 'bullseye_rash'],\n",
              "      dtype='object')"
            ]
          },
          "metadata": {},
          "execution_count": 128
        }
      ]
    },
    {
      "cell_type": "markdown",
      "source": [
        "### Value Counts"
      ],
      "metadata": {
        "id": "mW1c726A3mC5"
      }
    },
    {
      "cell_type": "code",
      "source": [
        "for col in cat_cols:\n",
        "  print(\"Value Counts in\", col)\n",
        "  print(\"\")\n",
        "  print(df_train[col].value_counts())\n",
        "  print(\"\")"
      ],
      "metadata": {
        "colab": {
          "base_uri": "https://localhost:8080/"
        },
        "id": "7w-DnRp43oQh",
        "outputId": "afdbe49d-9327-46ba-c974-524abaa42a08"
      },
      "execution_count": 129,
      "outputs": [
        {
          "output_type": "stream",
          "name": "stdout",
          "text": [
            "Value Counts in prognosis\n",
            "\n",
            "West_Nile_fever          85\n",
            "Japanese_encephalitis    81\n",
            "Tungiasis                70\n",
            "Rift_Valley_fever        70\n",
            "Chikungunya              66\n",
            "Dengue                   63\n",
            "Yellow_Fever             61\n",
            "Zika                     58\n",
            "Plague                   53\n",
            "Lyme_disease             52\n",
            "Malaria                  48\n",
            "Name: prognosis, dtype: int64\n",
            "\n"
          ]
        }
      ]
    },
    {
      "cell_type": "code",
      "source": [
        "for col in num_cols:\n",
        "  print(\"Value Counts in\", col)\n",
        "  print(\"\")\n",
        "  print(df_train[col].value_counts())\n",
        "  print(\"\")"
      ],
      "metadata": {
        "colab": {
          "base_uri": "https://localhost:8080/"
        },
        "id": "sEKER0Zk4Vh6",
        "outputId": "ac8ee32b-3d20-4d9e-8cca-a95c975e4edf"
      },
      "execution_count": 130,
      "outputs": [
        {
          "output_type": "stream",
          "name": "stdout",
          "text": [
            "Value Counts in sudden_fever\n",
            "\n",
            "1.0    356\n",
            "0.0    351\n",
            "Name: sudden_fever, dtype: int64\n",
            "\n",
            "Value Counts in headache\n",
            "\n",
            "0.0    389\n",
            "1.0    318\n",
            "Name: headache, dtype: int64\n",
            "\n",
            "Value Counts in mouth_bleed\n",
            "\n",
            "0.0    382\n",
            "1.0    325\n",
            "Name: mouth_bleed, dtype: int64\n",
            "\n",
            "Value Counts in nose_bleed\n",
            "\n",
            "0.0    362\n",
            "1.0    345\n",
            "Name: nose_bleed, dtype: int64\n",
            "\n",
            "Value Counts in muscle_pain\n",
            "\n",
            "1.0    366\n",
            "0.0    341\n",
            "Name: muscle_pain, dtype: int64\n",
            "\n",
            "Value Counts in joint_pain\n",
            "\n",
            "0.0    389\n",
            "1.0    318\n",
            "Name: joint_pain, dtype: int64\n",
            "\n",
            "Value Counts in vomiting\n",
            "\n",
            "0.0    395\n",
            "1.0    312\n",
            "Name: vomiting, dtype: int64\n",
            "\n",
            "Value Counts in rash\n",
            "\n",
            "0.0    362\n",
            "1.0    345\n",
            "Name: rash, dtype: int64\n",
            "\n",
            "Value Counts in diarrhea\n",
            "\n",
            "0.0    431\n",
            "1.0    276\n",
            "Name: diarrhea, dtype: int64\n",
            "\n",
            "Value Counts in hypotension\n",
            "\n",
            "0.0    429\n",
            "1.0    278\n",
            "Name: hypotension, dtype: int64\n",
            "\n",
            "Value Counts in pleural_effusion\n",
            "\n",
            "0.0    437\n",
            "1.0    270\n",
            "Name: pleural_effusion, dtype: int64\n",
            "\n",
            "Value Counts in ascites\n",
            "\n",
            "0.0    443\n",
            "1.0    264\n",
            "Name: ascites, dtype: int64\n",
            "\n",
            "Value Counts in gastro_bleeding\n",
            "\n",
            "0.0    452\n",
            "1.0    255\n",
            "Name: gastro_bleeding, dtype: int64\n",
            "\n",
            "Value Counts in swelling\n",
            "\n",
            "0.0    467\n",
            "1.0    240\n",
            "Name: swelling, dtype: int64\n",
            "\n",
            "Value Counts in nausea\n",
            "\n",
            "0.0    439\n",
            "1.0    268\n",
            "Name: nausea, dtype: int64\n",
            "\n",
            "Value Counts in chills\n",
            "\n",
            "0.0    428\n",
            "1.0    279\n",
            "Name: chills, dtype: int64\n",
            "\n",
            "Value Counts in myalgia\n",
            "\n",
            "0.0    453\n",
            "1.0    254\n",
            "Name: myalgia, dtype: int64\n",
            "\n",
            "Value Counts in digestion_trouble\n",
            "\n",
            "0.0    440\n",
            "1.0    267\n",
            "Name: digestion_trouble, dtype: int64\n",
            "\n",
            "Value Counts in fatigue\n",
            "\n",
            "0.0    479\n",
            "1.0    228\n",
            "Name: fatigue, dtype: int64\n",
            "\n",
            "Value Counts in skin_lesions\n",
            "\n",
            "0.0    478\n",
            "1.0    229\n",
            "Name: skin_lesions, dtype: int64\n",
            "\n",
            "Value Counts in stomach_pain\n",
            "\n",
            "0.0    470\n",
            "1.0    237\n",
            "Name: stomach_pain, dtype: int64\n",
            "\n",
            "Value Counts in orbital_pain\n",
            "\n",
            "0.0    472\n",
            "1.0    235\n",
            "Name: orbital_pain, dtype: int64\n",
            "\n",
            "Value Counts in neck_pain\n",
            "\n",
            "0.0    447\n",
            "1.0    260\n",
            "Name: neck_pain, dtype: int64\n",
            "\n",
            "Value Counts in weakness\n",
            "\n",
            "0.0    416\n",
            "1.0    291\n",
            "Name: weakness, dtype: int64\n",
            "\n",
            "Value Counts in back_pain\n",
            "\n",
            "0.0    431\n",
            "1.0    276\n",
            "Name: back_pain, dtype: int64\n",
            "\n",
            "Value Counts in weight_loss\n",
            "\n",
            "0.0    438\n",
            "1.0    269\n",
            "Name: weight_loss, dtype: int64\n",
            "\n",
            "Value Counts in gum_bleed\n",
            "\n",
            "0.0    469\n",
            "1.0    238\n",
            "Name: gum_bleed, dtype: int64\n",
            "\n",
            "Value Counts in jaundice\n",
            "\n",
            "0.0    457\n",
            "1.0    250\n",
            "Name: jaundice, dtype: int64\n",
            "\n",
            "Value Counts in coma\n",
            "\n",
            "0.0    425\n",
            "1.0    282\n",
            "Name: coma, dtype: int64\n",
            "\n",
            "Value Counts in diziness\n",
            "\n",
            "0.0    452\n",
            "1.0    255\n",
            "Name: diziness, dtype: int64\n",
            "\n",
            "Value Counts in inflammation\n",
            "\n",
            "0.0    489\n",
            "1.0    218\n",
            "Name: inflammation, dtype: int64\n",
            "\n",
            "Value Counts in red_eyes\n",
            "\n",
            "0.0    441\n",
            "1.0    266\n",
            "Name: red_eyes, dtype: int64\n",
            "\n",
            "Value Counts in loss_of_appetite\n",
            "\n",
            "0.0    390\n",
            "1.0    317\n",
            "Name: loss_of_appetite, dtype: int64\n",
            "\n",
            "Value Counts in urination_loss\n",
            "\n",
            "0.0    389\n",
            "1.0    318\n",
            "Name: urination_loss, dtype: int64\n",
            "\n",
            "Value Counts in slow_heart_rate\n",
            "\n",
            "0.0    421\n",
            "1.0    286\n",
            "Name: slow_heart_rate, dtype: int64\n",
            "\n",
            "Value Counts in abdominal_pain\n",
            "\n",
            "0.0    388\n",
            "1.0    319\n",
            "Name: abdominal_pain, dtype: int64\n",
            "\n",
            "Value Counts in light_sensitivity\n",
            "\n",
            "0.0    367\n",
            "1.0    340\n",
            "Name: light_sensitivity, dtype: int64\n",
            "\n",
            "Value Counts in yellow_skin\n",
            "\n",
            "0.0    366\n",
            "1.0    341\n",
            "Name: yellow_skin, dtype: int64\n",
            "\n",
            "Value Counts in yellow_eyes\n",
            "\n",
            "0.0    397\n",
            "1.0    310\n",
            "Name: yellow_eyes, dtype: int64\n",
            "\n",
            "Value Counts in facial_distortion\n",
            "\n",
            "0.0    442\n",
            "1.0    265\n",
            "Name: facial_distortion, dtype: int64\n",
            "\n",
            "Value Counts in microcephaly\n",
            "\n",
            "0.0    514\n",
            "1.0    193\n",
            "Name: microcephaly, dtype: int64\n",
            "\n",
            "Value Counts in rigor\n",
            "\n",
            "0.0    555\n",
            "1.0    152\n",
            "Name: rigor, dtype: int64\n",
            "\n",
            "Value Counts in bitter_tongue\n",
            "\n",
            "0.0    537\n",
            "1.0    170\n",
            "Name: bitter_tongue, dtype: int64\n",
            "\n",
            "Value Counts in convulsion\n",
            "\n",
            "0.0    547\n",
            "1.0    160\n",
            "Name: convulsion, dtype: int64\n",
            "\n",
            "Value Counts in anemia\n",
            "\n",
            "0.0    549\n",
            "1.0    158\n",
            "Name: anemia, dtype: int64\n",
            "\n",
            "Value Counts in cocacola_urine\n",
            "\n",
            "0.0    528\n",
            "1.0    179\n",
            "Name: cocacola_urine, dtype: int64\n",
            "\n",
            "Value Counts in hypoglycemia\n",
            "\n",
            "0.0    552\n",
            "1.0    155\n",
            "Name: hypoglycemia, dtype: int64\n",
            "\n",
            "Value Counts in prostraction\n",
            "\n",
            "0.0    546\n",
            "1.0    161\n",
            "Name: prostraction, dtype: int64\n",
            "\n",
            "Value Counts in hyperpyrexia\n",
            "\n",
            "0.0    556\n",
            "1.0    151\n",
            "Name: hyperpyrexia, dtype: int64\n",
            "\n",
            "Value Counts in stiff_neck\n",
            "\n",
            "0.0    614\n",
            "1.0     93\n",
            "Name: stiff_neck, dtype: int64\n",
            "\n",
            "Value Counts in irritability\n",
            "\n",
            "0.0    569\n",
            "1.0    138\n",
            "Name: irritability, dtype: int64\n",
            "\n",
            "Value Counts in confusion\n",
            "\n",
            "0.0    582\n",
            "1.0    125\n",
            "Name: confusion, dtype: int64\n",
            "\n",
            "Value Counts in tremor\n",
            "\n",
            "0.0    564\n",
            "1.0    143\n",
            "Name: tremor, dtype: int64\n",
            "\n",
            "Value Counts in paralysis\n",
            "\n",
            "0.0    586\n",
            "1.0    121\n",
            "Name: paralysis, dtype: int64\n",
            "\n",
            "Value Counts in lymph_swells\n",
            "\n",
            "0.0    602\n",
            "1.0    105\n",
            "Name: lymph_swells, dtype: int64\n",
            "\n",
            "Value Counts in breathing_restriction\n",
            "\n",
            "0.0    656\n",
            "1.0     51\n",
            "Name: breathing_restriction, dtype: int64\n",
            "\n",
            "Value Counts in toe_inflammation\n",
            "\n",
            "0.0    638\n",
            "1.0     69\n",
            "Name: toe_inflammation, dtype: int64\n",
            "\n",
            "Value Counts in finger_inflammation\n",
            "\n",
            "0.0    651\n",
            "1.0     56\n",
            "Name: finger_inflammation, dtype: int64\n",
            "\n",
            "Value Counts in lips_irritation\n",
            "\n",
            "0.0    647\n",
            "1.0     60\n",
            "Name: lips_irritation, dtype: int64\n",
            "\n",
            "Value Counts in itchiness\n",
            "\n",
            "0.0    598\n",
            "1.0    109\n",
            "Name: itchiness, dtype: int64\n",
            "\n",
            "Value Counts in ulcers\n",
            "\n",
            "0.0    605\n",
            "1.0    102\n",
            "Name: ulcers, dtype: int64\n",
            "\n",
            "Value Counts in toenail_loss\n",
            "\n",
            "0.0    610\n",
            "1.0     97\n",
            "Name: toenail_loss, dtype: int64\n",
            "\n",
            "Value Counts in speech_problem\n",
            "\n",
            "0.0    684\n",
            "1.0     23\n",
            "Name: speech_problem, dtype: int64\n",
            "\n",
            "Value Counts in bullseye_rash\n",
            "\n",
            "0.0    685\n",
            "1.0     22\n",
            "Name: bullseye_rash, dtype: int64\n",
            "\n"
          ]
        }
      ]
    },
    {
      "cell_type": "markdown",
      "source": [
        "## Heatmap"
      ],
      "metadata": {
        "id": "1719vaNf3OW_"
      }
    },
    {
      "cell_type": "code",
      "source": [
        "df_copy = df_train.copy().corr(method='pearson')\n",
        "fig = px.imshow(df_copy, text_auto=True, width=1500, height=800)\n",
        "fig.show()"
      ],
      "metadata": {
        "colab": {
          "base_uri": "https://localhost:8080/",
          "height": 837
        },
        "id": "K----Dq33MhC",
        "outputId": "8c2bb28a-925e-46cf-f36b-a2cd5cbfd2c5"
      },
      "execution_count": 131,
      "outputs": [
        {
          "output_type": "display_data",
          "data": {
            "text/html": [
              "<html>\n",
              "<head><meta charset=\"utf-8\" /></head>\n",
              "<body>\n",
              "    <div>            <script src=\"https://cdnjs.cloudflare.com/ajax/libs/mathjax/2.7.5/MathJax.js?config=TeX-AMS-MML_SVG\"></script><script type=\"text/javascript\">if (window.MathJax && window.MathJax.Hub && window.MathJax.Hub.Config) {window.MathJax.Hub.Config({SVG: {font: \"STIX-Web\"}});}</script>                <script type=\"text/javascript\">window.PlotlyConfig = {MathJaxConfig: 'local'};</script>\n",
              "        <script src=\"https://cdn.plot.ly/plotly-2.18.2.min.js\"></script>                <div id=\"e50d86a0-9b49-4573-a0d2-d32e6b59aacf\" class=\"plotly-graph-div\" style=\"height:800px; width:1500px;\"></div>            <script type=\"text/javascript\">                                    window.PLOTLYENV=window.PLOTLYENV || {};                                    if (document.getElementById(\"e50d86a0-9b49-4573-a0d2-d32e6b59aacf\")) {                    Plotly.newPlot(                        \"e50d86a0-9b49-4573-a0d2-d32e6b59aacf\",                        [{\"coloraxis\":\"coloraxis\",\"name\":\"0\",\"texttemplate\":\"%{z}\",\"x\":[\"sudden_fever\",\"headache\",\"mouth_bleed\",\"nose_bleed\",\"muscle_pain\",\"joint_pain\",\"vomiting\",\"rash\",\"diarrhea\",\"hypotension\",\"pleural_effusion\",\"ascites\",\"gastro_bleeding\",\"swelling\",\"nausea\",\"chills\",\"myalgia\",\"digestion_trouble\",\"fatigue\",\"skin_lesions\",\"stomach_pain\",\"orbital_pain\",\"neck_pain\",\"weakness\",\"back_pain\",\"weight_loss\",\"gum_bleed\",\"jaundice\",\"coma\",\"diziness\",\"inflammation\",\"red_eyes\",\"loss_of_appetite\",\"urination_loss\",\"slow_heart_rate\",\"abdominal_pain\",\"light_sensitivity\",\"yellow_skin\",\"yellow_eyes\",\"facial_distortion\",\"microcephaly\",\"rigor\",\"bitter_tongue\",\"convulsion\",\"anemia\",\"cocacola_urine\",\"hypoglycemia\",\"prostraction\",\"hyperpyrexia\",\"stiff_neck\",\"irritability\",\"confusion\",\"tremor\",\"paralysis\",\"lymph_swells\",\"breathing_restriction\",\"toe_inflammation\",\"finger_inflammation\",\"lips_irritation\",\"itchiness\",\"ulcers\",\"toenail_loss\",\"speech_problem\",\"bullseye_rash\"],\"y\":[\"sudden_fever\",\"headache\",\"mouth_bleed\",\"nose_bleed\",\"muscle_pain\",\"joint_pain\",\"vomiting\",\"rash\",\"diarrhea\",\"hypotension\",\"pleural_effusion\",\"ascites\",\"gastro_bleeding\",\"swelling\",\"nausea\",\"chills\",\"myalgia\",\"digestion_trouble\",\"fatigue\",\"skin_lesions\",\"stomach_pain\",\"orbital_pain\",\"neck_pain\",\"weakness\",\"back_pain\",\"weight_loss\",\"gum_bleed\",\"jaundice\",\"coma\",\"diziness\",\"inflammation\",\"red_eyes\",\"loss_of_appetite\",\"urination_loss\",\"slow_heart_rate\",\"abdominal_pain\",\"light_sensitivity\",\"yellow_skin\",\"yellow_eyes\",\"facial_distortion\",\"microcephaly\",\"rigor\",\"bitter_tongue\",\"convulsion\",\"anemia\",\"cocacola_urine\",\"hypoglycemia\",\"prostraction\",\"hyperpyrexia\",\"stiff_neck\",\"irritability\",\"confusion\",\"tremor\",\"paralysis\",\"lymph_swells\",\"breathing_restriction\",\"toe_inflammation\",\"finger_inflammation\",\"lips_irritation\",\"itchiness\",\"ulcers\",\"toenail_loss\",\"speech_problem\",\"bullseye_rash\"],\"z\":[[1.0,0.1243973383023556,0.03604909960338599,0.09779624589757718,0.1794989153079693,0.1698901189462275,0.06208145287964137,0.17702905607145134,0.1277158421312768,0.1912172503032472,0.11671588995813521,0.16999237534826026,0.13902161083022918,0.07856822169664421,0.11109368723171238,0.1823948800167823,0.08904401337108164,0.0615960574649143,0.07379788368575232,0.16134728186673777,0.12381951569724775,0.11811872144551443,0.10020839622845745,0.11192730533603718,0.10452013205824044,0.10807952488197715,0.09074438749772261,0.10719503176870294,0.07512070995163289,0.09189225151257302,-0.01084783561231552,0.09377999810359475,0.024909239030011132,0.07321796007799947,0.08639334961050849,0.05327968763342725,0.049812614477903513,0.08658644589690707,0.039359914842492336,0.0792612085009077,0.04329206152901135,0.14090669829888872,0.14827069809234564,0.17871205645583854,0.1456053323703881,0.15527302387887285,0.16377424660550116,0.16143097650075022,0.05498677128042678,0.06839087347200624,0.06075442987841352,0.052336598060279634,0.014045363542117141,0.03058592466440608,0.04079964153255839,0.06910311097997576,0.050102830714689794,0.09220123450707222,0.06890399888603337,-0.24978670137569248,-0.25249253317785814,-0.23715401444281833,0.05451375830377028,0.031317297170608625],[0.1243973383023556,1.0,0.1415927946076632,0.10138012400603909,0.22405938422978025,0.19985125543645244,0.18704829813295712,0.09569202403998339,0.0924275736408601,0.09871423367042048,0.055929760254025164,0.0779184119661036,0.02548439242935942,0.018318829616931376,0.10230515655258163,0.06113310675153822,0.045949914881980705,0.01118200192324092,0.05747155151618779,0.08505180212779105,0.03854846782168257,0.050095280656501574,0.10056491325391986,0.04108788140825025,0.06328634345708906,4.141602827098031e-05,0.04783550076790578,0.09249500200588229,0.05899272893529187,0.007721528038077367,0.011982498874753165,-0.0037771386142479383,-0.00904856668295059,-0.023047323406250514,-0.009496662649860136,0.014385350147552538,-0.050804962939711956,-0.04197894210282094,-0.002488134851786219,-0.018758646756483924,0.001218667400447323,0.03205934596261514,0.05013768205597646,0.047794337286481865,0.033672347903432695,0.003190709443145081,0.050049430858137824,0.0378599053573245,0.03525680771800392,0.07713686798885865,0.05688124013237035,0.05050348077527491,0.06144127111173302,0.04963976220263783,0.06214217375254232,0.09957757962834396,0.0667259550968458,0.08224361185494708,0.12255894049900123,-0.09469345824452875,-0.10421106068423205,-0.0795756879314355,0.09062801341223028,0.08358760759684548],[0.03604909960338599,0.1415927946076632,1.0,0.2067146934915588,0.16899430445082766,0.1587078750979383,0.020445588824725133,0.06476899778591395,0.05890956615690669,0.16969717723892846,0.1453596739605208,0.10938007624402549,0.06961904265710035,0.08795300503229024,0.12754707690042597,0.09724210563854983,0.10197486153488769,0.0834982755180843,0.14080866062535494,0.1621189467626425,0.15062451402459134,0.1082841115354445,0.14408975039301786,0.04169887357520812,0.05890956615690667,0.08969394362819827,0.0816432558139713,0.11918838374070968,0.05429531710538052,0.0755293048039025,0.017132888399151947,0.01595134318836065,-0.0840101938809447,-0.08090325176591046,-0.07789722026544445,-0.07209533956339786,-0.06415478706886403,-0.072438754669762,-0.07723558855322504,0.04211000208751093,-0.023698571723782067,0.145955926307362,0.17168948878991344,0.11157135263754825,0.11152131338787376,0.1417347725859032,0.12174910018117795,0.10821511999912545,0.05946494225549636,0.09445652425266762,0.11860086505973641,0.12303710076636529,0.14317735270650178,0.06312870457461406,0.10161849333899757,0.08288835371702494,0.050508685603689304,0.07626831382683065,0.06536772404367827,-0.0637078876565388,-0.12025751643521353,-0.08735417904007299,0.07082376443718855,0.06353115344638058],[0.09779624589757718,0.10138012400603909,0.2067146934915588,1.0,0.1778162345908538,0.11844442390420652,0.08406263319909735,0.10556489710945646,0.11785516532246867,0.15839426171318258,0.17033390162960518,0.11216668913007594,0.08583210173929494,0.053097006619603086,0.18210318775392542,0.1091546723780447,0.05929493905429218,-0.04838669060340959,0.02870152659954897,0.0982793560848544,0.044053681502294495,0.07403699652916633,0.07115879012093501,0.05174122089154002,0.007646433280928665,0.06838986009908253,0.035097890446768906,0.10065165259240437,-0.04397434948943126,0.03869029095686603,0.016059385013159875,0.0069977667825609855,-0.07219632465967092,-0.12614387463619425,-0.06089172173279059,-0.07201816523678801,-0.04481115506814333,-0.07022139318279352,-0.04717823488455971,0.02154648874928473,-0.045603436075201315,0.08835421721746471,0.1062312998957171,0.0941573262973984,0.08762263109005464,0.1018552352821232,0.07088053236881735,0.07716261408330354,0.009082245694058941,0.0805229023390183,0.05468131520603277,0.0371069046418563,0.06494458599076809,0.029711996901337016,0.06176712322302741,0.055925189079167485,0.03174736908379367,0.05944349300163741,0.0784009808385448,-0.16604015504759778,-0.17535165783759415,-0.1590091536789289,0.044285800360854284,0.05320045486320505],[0.1794989153079693,0.22405938422978025,0.16899430445082766,0.1778162345908538,1.0,0.13301916316630058,0.025560284603146088,0.05889562040299769,0.0703265373228814,0.10480111997949076,-0.0045076168490735145,0.06631616170861056,0.11194944609206056,0.02245671758555684,0.08320939758903671,0.1075285444127038,0.0974005899480389,0.01622791983294618,0.01797875135454945,0.11160782937626064,0.0858046681130543,0.014091650508516296,0.07868045890896598,0.0480569361247492,-0.016709631227609517,0.04514952608425974,0.07662454727955896,0.12184764975426443,8.176421068538916e-05,0.1355282822839387,0.019281213978272614,0.04263710240824539,-0.029054085835268542,0.013528873020483487,0.03427790346722564,0.010580271598617566,-6.41061601484241e-05,0.025327307981988016,0.008665835662199774,0.022306382376635566,0.0323267832738897,0.07794627799556368,0.03308021944130843,0.007922439841628721,0.04217296845111498,0.034730455169623864,0.05993050811922786,0.03815989374005043,-0.021892646012376164,0.015541410902634811,0.03256729023454351,0.002151392399645282,-0.03543352036223737,0.002710696874811282,0.013082643307198364,0.05031091658642561,0.04082407063600359,0.021066473334124054,0.019696631373246544,-0.11308854034988405,-0.13536953442290575,-0.12517645604661223,0.01744495256383912,0.05886761711017717],[0.1698901189462275,0.19985125543645244,0.1587078750979383,0.11844442390420652,0.13301916316630058,1.0,0.07252727905523407,0.1298206238363182,0.10991231175112276,0.1336388190941005,0.07348592741382809,0.13082012508393515,-0.03372515554158083,0.030327557052416375,0.13160743563323105,0.16002392909968588,0.05780200894311172,0.028776234919675698,0.06963693682215921,0.1154305149217427,0.04457139970012005,0.04405960181803077,0.07697911339639082,0.052642826577555195,0.0924275736408602,0.02932254801586713,0.005718814537632543,0.06870672757221222,0.01834745321473513,0.0136424828351713,0.0119824988747533,-0.009646230922540843,-0.03763362765187869,-0.08591615333624363,-0.02687580111435804,-0.008469576940806174,-0.03373314316862061,-0.0931890664510281,-0.054058174141414395,-0.007011646528995696,-0.017927951535469732,0.05282205521046463,0.05679071156302877,0.06817877110603311,0.020021917876066306,0.0816544164450083,0.08441042096952202,0.05141965869452233,0.049131877607583,0.03507627438395119,0.006666245944874651,-0.0016655291092659973,0.026050217929400307,0.06473776688203774,0.014169998855675258,0.033638133361807154,0.03798392610407371,0.05065956319582287,0.040939563663683835,-0.09469345824452892,-0.1365788673415641,-0.10436711479726614,0.0906280134122303,0.08358760759684553],[0.06208145287964137,0.18704829813295712,0.020445588824725133,0.08406263319909735,0.025560284603146088,0.07252727905523407,1.0,0.17524266069436964,0.04204690911060384,0.0018559045189731923,-0.018476373848250183,0.008812639329466777,-0.003154806249600964,0.012558751048497655,0.10997928124797778,0.034250837645592794,-0.0005374501269987925,0.02451682359651557,0.008430004952333172,0.023995479587476193,-0.0397558036871753,0.007826008563599522,-0.02208415988862345,0.014941488474965953,0.012851107950520435,-0.010033148974190303,-0.10265396821424144,0.015936303042890402,-0.04332150258592717,-0.015018891454217299,-0.038265739103679336,-0.03167094206581763,-0.03947831717735848,-0.007637434299172061,-0.041858638919657264,-0.03878363083163337,-0.05155328796891478,-0.03126095375596131,0.006869393865451178,-0.029097890652165063,-0.007488490410096409,0.020262180826565616,-0.03346885882946409,0.00947470286754761,0.03606631926674559,-0.04580987856207475,-0.03719104878458473,0.013248879860857937,-0.06697869393633714,-0.08462441344784348,-0.05677428273738359,-0.023614538119602773,-0.014935208236628849,-0.033258555593931025,0.021334456325220255,0.02745613867744728,0.014879893560152013,0.04521948206949892,0.015556384217621884,-0.09546212335581111,-0.12170977659792802,-0.139143498470451,0.029705709543898937,0.02118547991629565],[0.17702905607145134,0.09569202403998339,0.06476899778591395,0.10556489710945646,0.05889562040299769,0.1298206238363182,0.17524266069436964,1.0,0.13525654406586962,0.10046412719804103,0.013081696367355724,0.07706702143386895,0.06815392269588422,0.06504848184407276,0.1587731245588497,0.08020780314650792,0.0003169960163284985,0.0450018513016867,0.01659414037885615,0.0680454753294842,0.014082595260837395,0.07403699652916629,0.047685436748486264,-0.023007845630645566,0.01924735244319609,0.06838986009908259,-0.05472187986886433,0.08289550561174314,-0.020859208159298908,0.0504757436524734,0.0038046789102953345,-0.03389001102959261,-0.03236803230199488,0.010370524549145626,-0.03783001166712408,-0.0037802700090786927,-0.010830297041853794,0.003396129885879373,-0.035772862320571454,-0.013526498692950712,0.030617909799898774,0.06769049522846457,0.040018191347474176,0.040057992943265425,0.06045192925642809,0.010750670053273082,0.023004491056782757,0.009687081421713458,0.01598670559266073,-0.07017334106779749,-0.0309911276763277,-0.04448212487460308,0.008588866695925438,-0.05293113611071516,-0.033719807065632344,0.0012376252078377637,-0.015927630793526017,0.007054376132829593,0.007324510025216699,-0.1425323005081178,-0.15924491208065286,-0.1425603320166271,-0.003564521883349457,-0.01198623766415366],[0.1277158421312768,0.0924275736408601,0.05890956615690669,0.11785516532246867,0.0703265373228814,0.10991231175112276,0.04204690911060384,0.13525654406586962,1.0,0.21056360721264267,0.1467857192849362,0.14948739522928223,0.11141531447969522,0.008010958750230989,0.14568621306548854,0.18438750345524654,0.10178404133613672,0.07636041806114995,0.04337606047790752,0.1958017729441161,0.21791168255631935,0.14931954622183483,0.1473209201004321,0.061265948633956416,0.10849389690305668,0.11936212035491986,0.09257952133593661,0.09948596661076871,0.08237706695091616,0.1295290567770612,0.05585663811775464,0.07875347602455682,0.007281244134294267,0.02248862119980971,-0.0156502232375507,-0.020578521169015294,0.047991842877529285,-0.00069760248248863,-0.04100978415822364,0.13505652061301274,0.04982928287149948,0.1811121720053161,0.2146265976020358,0.23239209745645428,0.17622576346715876,0.1675061517682798,0.17863823589165637,0.2084408816749881,0.09233971723261306,0.1260535004392156,0.09602977695862173,0.10793624172888105,0.14562655752824277,0.12135157114465968,0.08976700922184971,0.07946346907004491,0.1080910537732507,0.10884796469536272,0.1100435314813498,-0.14895133188513576,-0.1552901571915782,-0.15056643105702155,0.01668983536255607,0.05696754462404855],[0.1912172503032472,0.09871423367042048,0.16969717723892846,0.15839426171318258,0.10480111997949076,0.1336388190941005,0.0018559045189731923,0.10046412719804103,0.21056360721264267,1.0,0.2612449665783364,0.3483618026857872,0.18531450448439157,0.08946052025976296,0.18872262689659547,0.22094576876565217,0.24820053885231153,0.07175102525432608,0.21278156556700215,0.3091102231832588,0.2012514203169955,0.2372465012051691,0.22078264258756627,0.19756041130068266,0.14527041848486263,0.18624122448272826,0.1679944954755874,0.2707208328769485,0.13077593156292033,0.19737483077614515,0.08326943514417157,0.10404129606333001,-0.03870658706192704,-0.006059522600619651,-0.008603666283409393,0.02074964148418149,0.07133383029779886,-0.02367164355551146,0.000610807801450975,0.13638072021721806,0.0657163275772025,0.20604311636628225,0.25174703254090874,0.20820119076742988,0.2563059052098216,0.27046700991436284,0.20333587421432311,0.23955312137853674,0.18105451977131007,0.19217597592209304,0.19533677528003476,0.19619586172313253,0.23623741120071326,0.2108230408048804,0.14423293509713153,0.15609495366732898,0.12556251434634286,0.1713428626955758,0.16009165490751123,-0.06302683687708548,-0.09978033263895131,-0.0853527123970213,0.11353911676788643,0.07253330220127026],[0.11671588995813521,0.055929760254025164,0.1453596739605208,0.17033390162960518,-0.0045076168490735145,0.07348592741382809,-0.018476373848250183,0.013081696367355724,0.1467857192849362,0.2612449665783364,1.0,0.28997226936712434,0.20380388477736225,0.18656132372717607,0.1539285751854932,0.15754994050582422,0.18809304269258248,0.09027922818722195,0.14279902233410155,0.1775864852215003,0.14486772286831193,0.2302352153023492,0.18539447495119116,0.16486049404159242,0.1467857192849361,0.1815090447571793,0.17316731855959258,0.14325832947796743,0.1504502784858643,0.17349098316218228,0.1686111350299888,0.1948022646798181,0.09330412484067398,0.050077704534091015,0.14104148863251592,0.1297349101005752,0.12909445346939288,0.11520380904944807,0.10333332667891278,0.11906340279516472,0.09994553300991094,0.19807971791397272,0.25258007681389816,0.22191647735560785,0.1863163630992571,0.2319211954704071,0.23084350741211423,0.18406734698733548,0.11602679747995127,0.16781985716244185,0.15644043534436264,0.17752012418153518,0.17675945625062214,0.19162117237282636,0.16292157569332077,0.15217513997160403,0.12408684586137302,0.12519556480672173,0.1367052703233606,-0.15822600018666685,-0.14875237425340324,-0.11883164947064843,0.019961072949166974,-0.006735023467634911],[0.16999237534826026,0.0779184119661036,0.10938007624402549,0.11216668913007594,0.06631616170861056,0.13082012508393515,0.008812639329466777,0.07706702143386895,0.14948739522928223,0.3483618026857872,0.28997226936712434,1.0,0.21179484949624963,0.10116159610140842,0.10804637957787012,0.19634340909276132,0.25082077313040196,0.1646622385484963,0.20558194863881424,0.2530026970905677,0.21991091875157381,0.2063899046102352,0.19959613218684616,0.2159156006658865,0.14349331693827144,0.21413080313344646,0.14311730581003648,0.2791948525620402,0.13554954681809422,0.16916887511003822,0.13041709548034955,0.17911041632501212,0.06249758325489162,0.013260762599865097,0.007179789369923638,0.04044427677123744,0.10558546715148993,0.07412974841017407,0.06036408106121011,0.14525683235177508,0.058628571732837836,0.21525631508684548,0.2498853570803454,0.2743168307563533,0.21059235524029354,0.2835116857374426,0.2977045545484822,0.2920285563241829,0.16849334030699006,0.166739654863123,0.15839579865272116,0.17110757294584603,0.17909689991158406,0.20044209536477012,0.1463017076917468,0.1577408925647758,0.15996593512279308,0.15255084084221032,0.19511698245621195,-0.11094855037497074,-0.11724052071849037,-0.0783657636212402,0.13864433948740765,0.09742330427302938],[0.13902161083022918,0.02548439242935942,0.06961904265710035,0.08583210173929494,0.11194944609206056,-0.03372515554158083,-0.003154806249600964,0.06815392269588422,0.11141531447969522,0.18531450448439157,0.20380388477736225,0.21179484949624963,1.0,0.16444821686392386,0.0870503420081086,0.176998115185932,0.22339168213277677,0.17436558471473232,0.28208857991839204,0.26690741023708525,0.21538547007267345,0.21409901665261624,0.23349086229894295,0.19776933899079327,0.19594611186740207,0.24253874250806254,0.18798090301037915,0.25771675629762314,0.16415020804563354,0.202585458962346,0.08528911617646308,0.14628671681708436,0.05724139095341351,0.061010121211923535,0.01107763724997832,0.03518078583774472,0.07292022760530757,0.11794420677875103,0.03674192492216059,0.20943920047706283,0.12158422662567744,0.316742330666931,0.3079826202660156,0.3188173359503806,0.2617077042737098,0.28069867763383705,0.27121270828206295,0.30153570638627,0.11166958038011172,0.1521319999510303,0.2246309212052858,0.1305987617998615,0.15709091674374415,0.12792777202077996,0.1667259558236478,0.07520393497000168,0.05074977361423264,0.11781456259224211,0.06721392072347099,-0.1330689709758813,-0.1072129934324355,-0.12829533608881963,0.06150412183160098,0.03503135387154065],[0.07856822169664421,0.018318829616931376,0.08795300503229024,0.053097006619603086,0.02245671758555684,0.030327557052416375,0.012558751048497655,0.06504848184407276,0.008010958750230989,0.08946052025976296,0.18656132372717607,0.10116159610140842,0.16444821686392386,1.0,0.08018656178844759,0.17288752716243566,0.3347974118898305,0.2178856963194753,0.22112010235283466,0.30806242376165793,0.23125361946587156,0.3311614310948949,0.19042114985660308,0.2865861062280416,0.25292978410864564,0.20723987871819796,0.26047206605958517,0.3007340101920532,0.18465934017183086,0.2515333621487737,0.1875548539020827,0.1584814930235653,0.13447913875933956,0.15041483140726583,0.13945268769770283,0.10631595238671125,0.16489987655046284,0.1449202332140229,0.17316817562565373,0.21005927877920638,0.19768677854981892,0.18469273127340083,0.19774146995807626,0.2404645752272857,0.18904584266816235,0.15274697906914014,0.22657850562107754,0.1876590848375394,0.1074387973446569,0.16287509976102915,0.18203371855853606,0.19235091439859123,0.15955629711858238,0.15802032850109307,0.11218971205909321,0.15803004805731202,0.156785788096777,0.1768568957043531,0.1675517813969111,-0.10754299164674323,-0.13283194126446318,-0.1122357853880372,0.1379343787510026,0.09516278175655783],[0.11109368723171238,0.10230515655258163,0.12754707690042597,0.18210318775392542,0.08320939758903671,0.13160743563323105,0.10997928124797778,0.1587731245588497,0.14568621306548854,0.18872262689659547,0.1539285751854932,0.10804637957787012,0.0870503420081086,0.08018656178844759,1.0,0.1207302195710951,0.10765811983043054,0.10697823660723185,0.04099565551706526,0.15072723484666656,0.0812818572298532,0.11090158383742245,0.05104597297404889,0.03964241750492774,-0.021647948457250682,0.08425560856143545,0.06035043816612033,0.0928940594338943,0.0422919813536774,0.11133547244107013,0.046485962793523045,0.1093388088731456,-0.006823987827198115,0.03197968675902271,-0.014333600809648852,0.05318496175740539,0.035695540632293285,0.02764568897384441,0.02050186606649061,0.039432421916193394,0.012042521363406304,0.13754592080456407,0.18800390075960358,0.1696499419633564,0.17571484395146816,0.13507930924261863,0.14970451120015,0.1388337395457079,0.048095270320500705,0.13582724504689467,0.12275801792024238,0.1040578421913466,0.10736999555685371,0.14036113612923348,0.11640044457592356,0.08640576953580076,0.07706289559899009,0.10549479383954793,0.1282156812920969,-0.13981694959161864,-0.1548691363778991,-0.1590451686886452,0.053925770475033365,0.07825266476267172],[0.1823948800167823,0.06113310675153822,0.09724210563854983,0.1091546723780447,0.1075285444127038,0.16002392909968588,0.034250837645592794,0.08020780314650792,0.18438750345524654,0.22094576876565217,0.15754994050582422,0.19634340909276132,0.176998115185932,0.17288752716243566,0.1207302195710951,1.0,0.26397234854710416,0.14705080177114405,0.2539882954364811,0.34401653161666357,0.28489237101335163,0.2780575124774389,0.24844406395980984,0.2538193290403952,0.1606594428540708,0.2315403092569222,0.19644644056626737,0.23209266057479871,0.12242666650719962,0.23726186064052096,0.07501860641088451,0.11964920672731254,0.016896744171564716,-0.002855072414910281,0.0008089537333642899,0.029743579411197884,0.033752095348512055,0.008297891025372801,0.038877412564901695,0.19383506400710027,0.10937264578267081,0.2255316065593394,0.25673212875617835,0.25491580957928295,0.2198587485040227,0.22868178013700144,0.2576310974156215,0.265433551301342,0.22886005922930933,0.19949088290819098,0.25950053697127473,0.24024391721334007,0.24904030795153645,0.25547605586194905,0.19989775789182385,0.19993231358760935,0.21229324907472144,0.22396377515345464,0.22141425047991317,-0.15237312394670022,-0.19150214203749127,-0.19579531113846954,0.11293712844943501,0.13863425952486064],[0.08904401337108164,0.045949914881980705,0.10197486153488769,0.05929493905429218,0.0974005899480389,0.05780200894311172,-0.0005374501269987925,0.0003169960163284985,0.10178404133613672,0.24820053885231153,0.18809304269258248,0.25082077313040196,0.22339168213277677,0.3347974118898305,0.10765811983043054,0.26397234854710416,1.0,0.2315405855784025,0.28436510546738564,0.3006761035485443,0.34256354223016533,0.43539984950766636,0.3459888924400801,0.3861094037732042,0.2468186074590431,0.29970672889828026,0.2962967577995324,0.48210600886672744,0.16067225504321378,0.2970624833150237,0.18308597007660196,0.19130032034225278,0.1251539724474825,0.0815061970653739,0.0495566513673725,0.09712784257257516,0.15842597835342795,0.16218967325480507,0.11661476157351368,0.21190200995426373,0.1301127541993264,0.2755012678741341,0.2961096169814546,0.278414111516243,0.1998228421261894,0.26231751109849843,0.24450595969076705,0.30339588797058414,0.13488182315073902,0.17085464724514798,0.24115200242898918,0.26344420063849616,0.21742367626794212,0.2467868981440314,0.251001702139861,0.21283127095084425,0.21070487687776057,0.2061096215947578,0.23742610447400433,-0.13192478906688754,-0.15643631412916056,-0.11866162914410815,0.14518430607285385,0.12048181894291042],[0.0615960574649143,0.01118200192324092,0.0834982755180843,-0.04838669060340959,0.01622791983294618,0.028776234919675698,0.02451682359651557,0.0450018513016867,0.07636041806114995,0.07175102525432608,0.09027922818722195,0.1646622385484963,0.17436558471473232,0.2178856963194753,0.10697823660723185,0.14705080177114405,0.2315405855784025,1.0,0.1928391180807857,0.2276716411163283,0.26882415855209574,0.27407103608800054,0.26507873508563345,0.2911082751072919,0.2139140635793022,0.26087353629628424,0.2723869854894739,0.2476829751720068,0.2472798477424118,0.18651703551742468,0.1874560388990284,0.18395480079997367,0.21872654977042974,0.19298907621973316,0.21989506377984952,0.21417263181121549,0.2370679430046717,0.2523544765065326,0.2112480677717933,0.18636907487188614,0.18411399648212617,0.16758065954591014,0.11468673366890235,0.22015897288142752,0.11437599061563568,0.12345778134350603,0.24303391503377,0.18921931726433833,0.028294269221071873,0.0766380595251023,0.07275707832906468,0.07489599442379642,0.11618088073531668,0.07981896535972696,0.10949973499539571,0.12111402106068352,0.12723431043072655,0.17124696971759296,0.16060529729410625,-0.13867365769564555,-0.13717756850321564,-0.14951830635348698,0.07094567115650952,0.09563555377154401],[0.07379788368575232,0.05747155151618779,0.14080866062535494,0.02870152659954897,0.01797875135454945,0.06963693682215921,0.008430004952333172,0.01659414037885615,0.04337606047790752,0.21278156556700215,0.14279902233410155,0.20558194863881424,0.28208857991839204,0.22112010235283466,0.04099565551706526,0.2539882954364811,0.28436510546738564,0.1928391180807857,1.0,0.29841701640722085,0.29210587712399316,0.316138020895281,0.27707773978270533,0.26535550504050703,0.24186715923441635,0.2695632605778164,0.2449134680345599,0.34417282824143824,0.16102976261551338,0.21277192264563988,0.07664567494398807,0.13253327132097026,0.004690286668614615,-0.03376883827859839,-0.026091698083618362,0.06157522080742129,0.0869306221250529,0.012299898496966626,0.012369093454121724,0.07838960482696167,0.07987569058101396,0.14717921404858159,0.22075178008822635,0.20538790913215788,0.16740861987331382,0.21763549503799778,0.16100918584676346,0.2242564361555205,0.1572974179202639,0.1880846446829776,0.24046415997338233,0.2116884706936299,0.28538601379255785,0.2408555995682174,0.179873772820812,0.1819125003658157,0.19116556605647328,0.22342811331366244,0.18079537136830043,-0.10182272085750652,-0.12826714191433564,-0.10801494185076628,0.12933577153486286,0.12033888098158013],[0.16134728186673777,0.08505180212779105,0.1621189467626425,0.0982793560848544,0.11160782937626064,0.1154305149217427,0.023995479587476193,0.0680454753294842,0.1958017729441161,0.3091102231832588,0.1775864852215003,0.2530026970905677,0.26690741023708525,0.30806242376165793,0.15072723484666656,0.34401653161666357,0.3006761035485443,0.2276716411163283,0.29841701640722085,1.0,0.35365301759948536,0.39705563514059045,0.3371386308981798,0.33622577378342555,0.28873816474791847,0.3104651009672418,0.27446082069441236,0.34154404730625715,0.25097283273020776,0.35502780872029593,0.10071972458165249,0.1799478748632823,0.07489007105643876,0.0729003170102103,0.07613868403306676,0.10128242099075827,0.2109603448650526,0.07590530181879543,0.0827799585533336,0.26951957153919803,0.1797020847995921,0.35879145417941083,0.3319597598199673,0.34798401901456283,0.31070775383929594,0.2851364787046468,0.3418620831797562,0.36650685863266275,0.1407925545818936,0.19563598270611315,0.2005713126705099,0.19420051371693878,0.24591527674180652,0.20710686172525056,0.17840594256757403,0.20422769466186128,0.220507572363093,0.2222863381051281,0.21220563977646015,-0.15321661562177014,-0.20678151183064059,-0.17937602645354242,0.0945595377172332,0.1022524247706141],[0.12381951569724775,0.03854846782168257,0.15062451402459134,0.044053681502294495,0.0858046681130543,0.04457139970012005,-0.0397558036871753,0.014082595260837395,0.21791168255631935,0.2012514203169955,0.14486772286831193,0.21991091875157381,0.21538547007267345,0.23125361946587156,0.0812818572298532,0.28489237101335163,0.34256354223016533,0.26882415855209574,0.29210587712399316,0.35365301759948536,1.0,0.37669104921574825,0.3967063508164259,0.36805107844510165,0.33460788857525686,0.19023947963110174,0.2803617465997202,0.40231914758546433,0.23538505219530456,0.2653022993589276,0.09032785698212231,0.15358272082495406,0.05865333797562678,0.06866312721386988,0.09845411444121027,0.09673141885585264,0.18005844131692153,0.10007858888346736,0.06087913718897392,0.21766888687594302,0.19708045219124148,0.2701949791499843,0.23145477570668832,0.2818720764919567,0.27357041864393056,0.20668676013986848,0.2537684595178622,0.2717127298960621,0.09052271496319626,0.09595838973281234,0.17190409938168397,0.1499886868343289,0.14219842277193037,0.13872772280063897,0.1331419550716524,0.13786233092188538,0.10974528865532997,0.14675634546547706,0.16005573386766522,-0.187010126879491,-0.15513422843968733,-0.16995825130527353,0.08934217713255271,0.09706795113948752],[0.11811872144551443,0.050095280656501574,0.1082841115354445,0.07403699652916633,0.014091650508516296,0.04405960181803077,0.007826008563599522,0.07403699652916629,0.14931954622183483,0.2372465012051691,0.2302352153023492,0.2063899046102352,0.21409901665261624,0.3311614310948949,0.11090158383742245,0.2780575124774389,0.43539984950766636,0.27407103608800054,0.316138020895281,0.39705563514059045,0.37669104921574825,1.0,0.3523104154592503,0.34944743998332006,0.30319215463315285,0.244823859212921,0.32971018981231504,0.5206591512961162,0.22851105837591973,0.2953855360699245,0.1530445648401633,0.16476967555697566,0.13060332111907613,0.12855910555662162,0.09137658500965684,0.11444916884312574,0.19222911698046397,0.14814931243302012,0.11472376425898247,0.24759016921610683,0.2011773367330901,0.2739095025054637,0.3055825749647708,0.28571644764194104,0.2629554715417169,0.24514628388913992,0.21394348857547907,0.2827085869139488,0.16710746673424082,0.16956737558544444,0.2434059852599718,0.27901589994073317,0.25017214303667273,0.2374153650135408,0.1612621486567896,0.23267541127238867,0.23336421266396015,0.2711271529238489,0.23764289474321346,-0.14326820634511922,-0.14445132929487048,-0.1417423568263887,0.14140672743275906,0.09834958155795231],[0.10020839622845745,0.10056491325391986,0.14408975039301786,0.07115879012093501,0.07868045890896598,0.07697911339639082,-0.02208415988862345,0.047685436748486264,0.1473209201004321,0.22078264258756627,0.18539447495119116,0.19959613218684616,0.23349086229894295,0.19042114985660308,0.05104597297404889,0.24844406395980984,0.3459888924400801,0.26507873508563345,0.27707773978270533,0.3371386308981798,0.3967063508164259,0.3523104154592503,1.0,0.4231058079535991,0.37581207813173423,0.25420819248351323,0.33814524957623965,0.37464812956255916,0.21741885151016874,0.30679372182174636,0.17677209215657722,0.18878615967339035,0.10866141641029232,0.17721876279088916,0.13640534400313722,0.19268517670096671,0.23462937591260227,0.16787268026820132,0.11821468830783506,0.23357366380303768,0.15818485532909846,0.19351268988120499,0.2915919949718975,0.3025554997870964,0.2034660515033954,0.22377650737555332,0.29776815827461195,0.2713393477823295,0.13219357853618063,0.16315168467918387,0.14246953710748608,0.18477212116246974,0.18556812904101241,0.15967476695272143,0.15166194210512757,0.17284655815158895,0.1742118030980509,0.19991827068864143,0.1677264464350705,-0.16314886915053212,-0.17957831619140208,-0.1677156006207807,0.0916288059698372,0.06604515701352558],[0.11192730533603718,0.04108788140825025,0.04169887357520812,0.05174122089154002,0.0480569361247492,0.052642826577555195,0.014941488474965953,-0.023007845630645566,0.061265948633956416,0.19756041130068266,0.16486049404159242,0.2159156006658865,0.19776933899079327,0.2865861062280416,0.03964241750492774,0.2538193290403952,0.3861094037732042,0.2911082751072919,0.26535550504050703,0.33622577378342555,0.36805107844510165,0.34944743998332006,0.4231058079535991,1.0,0.3146046461884868,0.2917321256975831,0.3590829543417088,0.415411833618697,0.2637161219705402,0.33543156326754886,0.26308249743081147,0.17510830459337348,0.19373655632011144,0.18552469602456326,0.2241851559881458,0.26395664149067777,0.3167108711012394,0.19927316631786093,0.18769635077914015,0.2608064253018449,0.34555644276970376,0.17796100453809258,0.23557736999435352,0.24826304405898084,0.14466302118933194,0.16077408799924836,0.21675891095219485,0.2586036019332431,0.0971198541041039,0.10817678336992974,0.16098020786305708,0.13975219451352838,0.15127017314351165,0.14649041117476258,0.13563809686818085,0.17784412459813123,0.14139557234621103,0.18039484909833411,0.14752277797500213,-0.19789606803663867,-0.22889861787185142,-0.23327553873396237,0.024839574579500746,0.04874509702941569],[0.10452013205824044,0.06328634345708906,0.05890956615690667,0.007646433280928665,-0.016709631227609517,0.0924275736408602,0.012851107950520435,0.01924735244319609,0.10849389690305668,0.14527041848486263,0.1467857192849361,0.14349331693827144,0.19594611186740207,0.25292978410864564,-0.021647948457250682,0.1606594428540708,0.2468186074590431,0.2139140635793022,0.24186715923441635,0.28873816474791847,0.33460788857525686,0.30319215463315285,0.37581207813173423,0.3146046461884868,1.0,0.25074407633824874,0.23983198834270217,0.348132260294711,0.2304062107448813,0.2382115105612555,0.14375314115265708,0.1146636389070862,0.14719987433894305,0.15071003400840172,0.21474145072346584,0.23579177780003852,0.23949136163512047,0.16176991214509442,0.18687469359161524,0.21890982891985036,0.166978267505289,0.131708868292903,0.22819549722688032,0.16310177487644736,0.12750550742565456,0.14750274273159708,0.13659054991604858,0.16695806581454695,0.08526514201767378,0.1346317875515965,0.09602977695862201,0.13073603942900605,0.08788231963005587,0.11365344994239195,0.08161371072238295,0.09067046540607553,0.06901134269286809,0.14105590737377552,0.07883166597293269,-0.20515445337793325,-0.22130452239830986,-0.20112871735720234,0.06571911625449718,0.05696754462404849],[0.10807952488197715,4.141602827098031e-05,0.08969394362819827,0.06838986009908253,0.04514952608425974,0.02932254801586713,-0.010033148974190303,0.06838986009908259,0.11936212035491986,0.18624122448272826,0.1815090447571793,0.21413080313344646,0.24253874250806254,0.20723987871819796,0.08425560856143545,0.2315403092569222,0.29970672889828026,0.26087353629628424,0.2695632605778164,0.3104651009672418,0.19023947963110174,0.244823859212921,0.25420819248351323,0.2917321256975831,0.25074407633824874,1.0,0.2555107453682869,0.2917629914644295,0.23027530559085996,0.2425387425080625,0.202218799200314,0.19118994016312924,0.2131557907076447,0.21086556633896253,0.2147732840894653,0.2319966582144644,0.2544389295907391,0.25219411994681884,0.15295130017140965,0.22371475016588888,0.19335525841039106,0.25647748551334476,0.17941202945609452,0.21668796278328079,0.1530447885872182,0.16008480453180568,0.19734384037219668,0.2621974582791118,0.07497648537210155,0.19493168973271954,0.10653390945937402,0.18663320345571033,0.16384701568823234,0.17761140640111805,0.139677063707448,0.10805270319388181,0.09568286481468924,0.12613924714048852,0.10632816721313455,-0.22163547454218852,-0.22228487242074516,-0.20242964685885848,0.020509522035131383,0.027339002057436418],[0.09074438749772261,0.04783550076790578,0.0816432558139713,0.035097890446768906,0.07662454727955896,0.005718814537632543,-0.10265396821424144,-0.05472187986886433,0.09257952133593661,0.1679944954755874,0.17316731855959258,0.14311730581003648,0.18798090301037915,0.26047206605958517,0.06035043816612033,0.19644644056626737,0.2962967577995324,0.2723869854894739,0.2449134680345599,0.27446082069441236,0.2803617465997202,0.32971018981231504,0.33814524957623965,0.3590829543417088,0.23983198834270217,0.2555107453682869,1.0,0.2807355143862597,0.23270218708283633,0.29394387427394447,0.166011010261351,0.10784880550606746,0.17626227660249047,0.14410221215138716,0.14467246770371853,0.1540665524707043,0.20694341850240985,0.19891542691613054,0.19087709223867683,0.2274912902130547,0.14129195636895067,0.2100613853091309,0.20851867888144252,0.23704194281072033,0.17108955831695818,0.1703122629562391,0.2663875542530241,0.1841570257157302,0.10347535009454169,0.07698249743397617,0.14759600823616453,0.11706306575083797,0.1405434303276153,0.1531173777556352,0.10650281792433691,0.13688442552869654,0.10864685285936723,0.14572588697415714,0.16971813924979792,-0.16322778311933156,-0.17323905505860338,-0.12747765647412357,0.05495751273453145,0.06195454031820021],[0.10719503176870294,0.09249500200588229,0.11918838374070968,0.10065165259240437,0.12184764975426443,0.06870672757221222,0.015936303042890402,0.08289550561174314,0.09948596661076871,0.2707208328769485,0.14325832947796743,0.2791948525620402,0.25771675629762314,0.3007340101920532,0.0928940594338943,0.23209266057479871,0.48210600886672744,0.2476829751720068,0.34417282824143824,0.34154404730625715,0.40231914758546433,0.5206591512961162,0.37464812956255916,0.415411833618697,0.348132260294711,0.2917629914644295,0.2807355143862597,1.0,0.20109129007502394,0.3131658575460771,0.15960526414514445,0.2133838177132272,0.11247186821633026,0.11628327643955191,0.11373749546637786,0.1379296070254081,0.1999849679906955,0.14458416996614304,0.1453726380954599,0.24626335092321205,0.17767160568978957,0.253865641907229,0.29689563494813753,0.2575208161014191,0.2068802232613543,0.25653090356780395,0.24449335479960174,0.2615149470838764,0.11265219139649378,0.14980682720899466,0.1582624381529919,0.1923143226455308,0.17996265054019273,0.19019924750952388,0.1070829662345587,0.22832135732906783,0.2153440746268539,0.2212664638554727,0.18879176455826746,-0.13553311322432213,-0.1605521889699818,-0.14016008771003602,0.08116421626340277,0.08895273683006688],[0.07512070995163289,0.05899272893529187,0.05429531710538052,-0.04397434948943126,8.176421068538916e-05,0.01834745321473513,-0.04332150258592717,-0.020859208159298908,0.08237706695091616,0.13077593156292033,0.1504502784858643,0.13554954681809422,0.16415020804563354,0.18465934017183086,0.0422919813536774,0.12242666650719962,0.16067225504321378,0.2472798477424118,0.16102976261551338,0.25097283273020776,0.23538505219530456,0.22851105837591973,0.21741885151016874,0.2637161219705402,0.2304062107448813,0.23027530559085996,0.23270218708283633,0.20109129007502394,1.0,0.21227302858707878,0.15040863565053939,0.24984149318701934,0.2529958266022858,0.24479970365783724,0.2526228794469801,0.306268191632645,0.23347749501886633,0.26583180178038374,0.25818174767738483,0.210639244389936,0.2724454523291568,0.1924591443470914,0.1837958604522077,0.20834401879612113,0.20093973749774505,0.2032892795894334,0.2386044136322201,0.253354474953335,0.04772198928215507,0.13592983218730492,0.12357540392440967,0.14493009063578421,0.11478231338474973,0.11302266037230047,0.09843907938578879,0.09666435392068128,0.06305384489217837,0.09266219124990774,0.10435450418091456,-0.20378822102522712,-0.23581485421611037,-0.21568392546370121,0.013449367448669964,0.0037412909118252425],[0.09189225151257302,0.007721528038077367,0.0755293048039025,0.03869029095686603,0.1355282822839387,0.0136424828351713,-0.015018891454217299,0.0504757436524734,0.1295290567770612,0.19737483077614515,0.17349098316218228,0.16916887511003822,0.202585458962346,0.2515333621487737,0.11133547244107013,0.23726186064052096,0.2970624833150237,0.18651703551742468,0.21277192264563988,0.35502780872029593,0.2653022993589276,0.2953855360699245,0.30679372182174636,0.33543156326754886,0.2382115105612555,0.2425387425080625,0.29394387427394447,0.3131658575460771,0.21227302858707878,1.0,0.19371834056031198,0.18276809557887552,0.21123103657109918,0.2208759007334615,0.23313121029379658,0.23051703390543232,0.2320939525633086,0.21225955154626322,0.17920924258194576,0.23377838514725507,0.2472084798571771,0.26655317834500686,0.2804131453954063,0.22730707285054147,0.21221246472729483,0.2671509447542163,0.3068098168023572,0.2593930315546093,0.061359816765985765,0.11727303901588895,0.15031456121832426,0.14604040819044642,0.13509238020515435,0.12792777202078004,0.11702800735875328,0.15490078168660512,0.15000313445866534,0.16144158668689434,0.14120006255186457,-0.17385263773500548,-0.18266049146501526,-0.16253971650025736,0.04490106183353232,0.0689589801553476],[-0.01084783561231552,0.011982498874753165,0.017132888399151947,0.016059385013159875,0.019281213978272614,0.0119824988747533,-0.038265739103679336,0.0038046789102953345,0.05585663811775464,0.08326943514417157,0.1686111350299888,0.13041709548034955,0.08528911617646308,0.1875548539020827,0.046485962793523045,0.07501860641088451,0.18308597007660196,0.1874560388990284,0.07664567494398807,0.10071972458165249,0.09032785698212231,0.1530445648401633,0.17677209215657722,0.26308249743081147,0.14375314115265708,0.202218799200314,0.166011010261351,0.15960526414514445,0.15040863565053939,0.19371834056031198,1.0,0.26541233770277106,0.38955330671362803,0.35060129883462254,0.3919803108794328,0.42861882423722847,0.34428009081658006,0.3913895706156112,0.3420364576358411,0.24225430740212933,0.26461689669265603,0.09044497606740816,0.1260018288558805,0.12929785934082338,0.12705820884186284,0.08315804301355563,0.15698945315684737,0.15597545075796523,0.010760667998244305,0.12979933688753417,0.08074018613113215,0.11606311252719818,0.13653483146886516,0.09506457005590159,0.1345641794115088,0.20450440778000686,0.14164083237267136,0.17842460873460075,0.1703416517735396,-0.14087455057641898,-0.17826981268413594,-0.14162562736006842,0.0674693054915751,0.09201351254162767],[0.09377999810359475,-0.0037771386142479383,0.01595134318836065,0.0069977667825609855,0.04263710240824539,-0.009646230922540843,-0.03167094206581763,-0.03389001102959261,0.07875347602455682,0.10404129606333001,0.1948022646798181,0.17911041632501212,0.14628671681708436,0.1584814930235653,0.1093388088731456,0.11964920672731254,0.19130032034225278,0.18395480079997367,0.13253327132097026,0.1799478748632823,0.15358272082495406,0.16476967555697566,0.18878615967339035,0.17510830459337348,0.1146636389070862,0.19118994016312924,0.10784880550606746,0.2133838177132272,0.24984149318701934,0.18276809557887552,0.26541233770277106,1.0,0.3154538367373557,0.2896774768003987,0.2938511308763898,0.3225925965019334,0.31017818011321696,0.34884901970382565,0.2963627147039056,0.22495698127323163,0.21225516009159276,0.16923287096843467,0.2325584883267237,0.1870133148468846,0.19312407542183957,0.21253824320793524,0.26593244282458833,0.2257563484796805,0.07970590569395342,0.1814920669430484,0.17001393687662664,0.17579617161266609,0.14681165134741217,0.17422974098585606,0.13543160610768523,0.20101667383861188,0.1873192138618674,0.22628637335794716,0.18256723124990085,-0.2102975236921592,-0.21086706824706464,-0.19089540264829402,0.05507603387440621,0.07941447695183003],[0.024909239030011132,-0.00904856668295059,-0.0840101938809447,-0.07219632465967092,-0.029054085835268542,-0.03763362765187869,-0.03947831717735848,-0.03236803230199488,0.007281244134294267,-0.03870658706192704,0.09330412484067398,0.06249758325489162,0.05724139095341351,0.13447913875933956,-0.006823987827198115,0.016896744171564716,0.1251539724474825,0.21872654977042974,0.004690286668614615,0.07489007105643876,0.05865333797562678,0.13060332111907613,0.10866141641029232,0.19373655632011144,0.14719987433894305,0.2131557907076447,0.17626227660249047,0.11247186821633026,0.2529958266022858,0.21123103657109918,0.38955330671362803,0.3154538367373557,1.0,0.516916555145324,0.5317548433732264,0.5256385211944704,0.4243755471357809,0.541304427120428,0.45282646052794245,0.2713233554559143,0.296628738821052,0.04740289463687725,0.08502731636411316,0.11051752895044381,0.02838068907193929,0.083334141578376,0.1546840588486591,0.12079751753985736,-0.05346500000662709,0.04460792149229557,-0.013458166998929816,0.036926462790440095,-0.0008312058421898339,0.013190568992304702,-0.0006334804217978731,0.06742024574371921,0.010179890760557388,0.07257062062923875,0.041817570240306266,-0.24314664019621895,-0.24067685285405596,-0.2272566055051106,0.04308238103588553,0.0677421236925463],[0.07321796007799947,-0.023047323406250514,-0.08090325176591046,-0.12614387463619425,0.013528873020483487,-0.08591615333624363,-0.007637434299172061,0.010370524549145626,0.02248862119980971,-0.006059522600619651,0.050077704534091015,0.013260762599865097,0.061010121211923535,0.15041483140726583,0.03197968675902271,-0.002855072414910281,0.0815061970653739,0.19298907621973316,-0.03376883827859839,0.0729003170102103,0.06866312721386988,0.12855910555662162,0.17721876279088916,0.18552469602456326,0.15071003400840172,0.21086556633896253,0.14410221215138716,0.11628327643955191,0.24479970365783724,0.2208759007334615,0.35060129883462254,0.2896774768003987,0.516916555145324,1.0,0.5524288143689083,0.5800447955844297,0.44996841701230317,0.5042623842780577,0.47310222748589464,0.2690428588169746,0.32032898299906454,0.059742958293081086,0.05013768205597631,0.07497358237921677,0.013196702862383187,0.0031907094431451034,0.07753822294724512,0.09887879537471443,-0.09655635623299703,0.06031263054689556,-0.065069460037262,0.005787186588525537,-0.023497256525865623,-0.04849726821346119,-0.03380217604119173,0.0446280410728966,-0.02908080821239458,0.050659563195822835,0.020534719454854463,-0.26791021110062674,-0.2741420456352252,-0.2365880580816961,-0.021557588983249363,-0.014660835580161572],[0.08639334961050849,-0.009496662649860136,-0.07789722026544445,-0.06089172173279059,0.03427790346722564,-0.02687580111435804,-0.041858638919657264,-0.03783001166712408,-0.0156502232375507,-0.008603666283409393,0.14104148863251592,0.007179789369923638,0.01107763724997832,0.13945268769770283,-0.014333600809648852,0.0008089537333642899,0.0495566513673725,0.21989506377984952,-0.026091698083618362,0.07613868403306676,0.09845411444121027,0.09137658500965684,0.13640534400313722,0.2241851559881458,0.21474145072346584,0.2147732840894653,0.14467246770371853,0.11373749546637786,0.2526228794469801,0.23313121029379658,0.3919803108794328,0.2938511308763898,0.5317548433732264,0.5524288143689083,1.0,0.602052471558868,0.4467931816433939,0.5712956719467425,0.5319857129849246,0.2428999710546749,0.36825549437358196,0.0035918336971970436,0.055502518361628214,0.05010986594835953,-0.027084904311314374,0.017164090789265223,0.11352881622550366,0.060963897725231884,-0.1623193221853653,-0.01382085444813376,-0.0714356561389282,-0.0798141767623708,-0.09217171726740515,-0.0684642145210025,-0.05247577106301216,0.004112249297830797,-0.018570249656726476,0.014369060591376593,-0.013149458286616634,-0.28804392997030026,-0.2892147516892465,-0.27003909347214244,-0.021184337543401002,0.0016667776106858395],[0.05327968763342725,0.014385350147552538,-0.07209533956339786,-0.07201816523678801,0.010580271598617566,-0.008469576940806174,-0.03878363083163337,-0.0037802700090786927,-0.020578521169015294,0.02074964148418149,0.1297349101005752,0.04044427677123744,0.03518078583774472,0.10631595238671125,0.05318496175740539,0.029743579411197884,0.09712784257257516,0.21417263181121549,0.06157522080742129,0.10128242099075827,0.09673141885585264,0.11444916884312574,0.19268517670096671,0.26395664149067777,0.23579177780003852,0.2319966582144644,0.1540665524707043,0.1379296070254081,0.306268191632645,0.23051703390543232,0.42861882423722847,0.3225925965019334,0.5256385211944704,0.5800447955844297,0.602052471558868,1.0,0.5039952611676587,0.5411949724786408,0.5162837578876992,0.2197911553380409,0.3440182431452428,0.09283326614244959,0.11503569540297669,0.11417242837057295,0.05943109944233102,0.05382914974772237,0.11723161184666733,0.14475304939420858,-0.07720361896035222,0.03396012252025467,-0.052107793692760945,-0.01043295877829702,-0.017845658096834367,0.003052905319567804,-0.03497971042232801,0.08777007631718249,-0.010851416352581912,0.08138668544853324,0.050261931793971724,-0.2769192358853672,-0.2833212848421714,-0.27896197498293984,-0.054116680500727085,-0.031536193892341025],[0.049812614477903513,-0.050804962939711956,-0.06415478706886403,-0.04481115506814333,-6.41061601484241e-05,-0.03373314316862061,-0.05155328796891478,-0.010830297041853794,0.047991842877529285,0.07133383029779886,0.12909445346939288,0.10558546715148993,0.07292022760530757,0.16489987655046284,0.035695540632293285,0.033752095348512055,0.15842597835342795,0.2370679430046717,0.0869306221250529,0.2109603448650526,0.18005844131692153,0.19222911698046397,0.23462937591260227,0.3167108711012394,0.23949136163512047,0.2544389295907391,0.20694341850240985,0.1999849679906955,0.23347749501886633,0.2320939525633086,0.34428009081658006,0.31017818011321696,0.4243755471357809,0.44996841701230317,0.4467931816433939,0.5039952611676587,1.0,0.4589600403129314,0.4331351828318689,0.16702165212552444,0.33797006903884774,0.08201878738545396,0.1009937219654915,0.0883233546595575,0.10884604527189627,0.09712096269139378,0.1742066087527566,0.1321365487344901,-0.06642731232754809,0.027437238888351284,0.018821086377317105,0.06594442263809235,0.036862674842069953,0.028640698636663704,-0.03578396884584379,0.04895417021073343,0.01733787040000228,0.05313870942792883,0.031954683968417476,-0.3011795036754059,-0.2985277570137066,-0.2768553440845444,0.014986617389583654,-0.025758706833384187],[0.08658644589690707,-0.04197894210282094,-0.072438754669762,-0.07022139318279352,0.025327307981988016,-0.0931890664510281,-0.03126095375596131,0.003396129885879373,-0.00069760248248863,-0.02367164355551146,0.11520380904944807,0.07412974841017407,0.11794420677875103,0.1449202332140229,0.02764568897384441,0.008297891025372801,0.16218967325480507,0.2523544765065326,0.012299898496966626,0.07590530181879543,0.10007858888346736,0.14814931243302012,0.16787268026820132,0.19927316631786093,0.16176991214509442,0.25219411994681884,0.19891542691613054,0.14458416996614304,0.26583180178038374,0.21225955154626322,0.3913895706156112,0.34884901970382565,0.541304427120428,0.5042623842780577,0.5712956719467425,0.5411949724786408,0.4589600403129314,1.0,0.5446808532372454,0.3226940358942586,0.374323839349675,0.10808979360450055,0.1325082480254506,0.10031263200439057,0.10731617268121008,0.04338544664879841,0.13163809170771137,0.13058569591603938,-0.060988750136217865,0.034707571604207385,0.07455929566413316,0.04978636850691424,0.00019934469964687397,0.03486700293874946,0.010797121283651677,0.08098339787658117,0.006866970242473845,0.06278431707953232,0.0310893583455182,-0.2866794497869562,-0.291602841365032,-0.25327373485679217,-0.017444952563839097,0.006341008501879632],[0.039359914842492336,-0.002488134851786219,-0.07723558855322504,-0.04717823488455971,0.008665835662199774,-0.054058174141414395,0.006869393865451178,-0.035772862320571454,-0.04100978415822364,0.000610807801450975,0.10333332667891278,0.06036408106121011,0.03674192492216059,0.17316817562565373,0.02050186606649061,0.038877412564901695,0.11661476157351368,0.2112480677717933,0.012369093454121724,0.0827799585533336,0.06087913718897392,0.11472376425898247,0.11821468830783506,0.18769635077914015,0.18687469359161524,0.15295130017140965,0.19087709223867683,0.1453726380954599,0.25818174767738483,0.17920924258194576,0.3420364576358411,0.2963627147039056,0.45282646052794245,0.47310222748589464,0.5319857129849246,0.5162837578876992,0.4331351828318689,0.5446808532372454,1.0,0.2697244516703254,0.2775369536745078,0.0718302472476973,0.11645770014191074,0.09431140306764517,0.0938913727120227,0.05580906752721465,0.09671086491849504,0.10471822519181474,-0.036232620824600444,0.0018728279937046378,0.017913794146041398,0.046257690655269676,-0.019171217582934923,0.007150869772769137,-0.00833332545982464,0.09517323071503353,0.04558075761500316,0.07858782556692286,0.07867474381726074,-0.2509676393398867,-0.26548158516514603,-0.24467117597520835,-0.01743120035755608,0.02222179881136295],[0.0792612085009077,-0.018758646756483924,0.04211000208751093,0.02154648874928473,0.022306382376635566,-0.007011646528995696,-0.029097890652165063,-0.013526498692950712,0.13505652061301274,0.13638072021721806,0.11906340279516472,0.14525683235177508,0.20943920047706283,0.21005927877920638,0.039432421916193394,0.19383506400710027,0.21190200995426373,0.18636907487188614,0.07838960482696167,0.26951957153919803,0.21766888687594302,0.24759016921610683,0.23357366380303768,0.2608064253018449,0.21890982891985036,0.22371475016588888,0.2274912902130547,0.24626335092321205,0.210639244389936,0.23377838514725507,0.24225430740212933,0.22495698127323163,0.2713233554559143,0.2690428588169746,0.2428999710546749,0.2197911553380409,0.16702165212552444,0.3226940358942586,0.2697244516703254,1.0,0.37817530080766215,0.32024979083415384,0.3095855626792486,0.31442504233424146,0.27900556100743645,0.22783829428931832,0.31005465879652777,0.35989477845687773,0.11693600852135783,0.20005532379739902,0.20844095106424784,0.1772823251859865,0.14839318665555146,0.2144777917970048,0.16140342305289834,0.1568062866441992,0.12934607373409807,0.15157790506171828,0.16262466104431839,-0.11211168085169143,-0.11835114615238346,-0.10494880054865419,0.055653195947645354,0.04634205130903579],[0.04329206152901135,0.001218667400447323,-0.023698571723782067,-0.045603436075201315,0.0323267832738897,-0.017927951535469732,-0.007488490410096409,0.030617909799898774,0.04982928287149948,0.0657163275772025,0.09994553300991094,0.058628571732837836,0.12158422662567744,0.19768677854981892,0.012042521363406304,0.10937264578267081,0.1301127541993264,0.18411399648212617,0.07987569058101396,0.1797020847995921,0.19708045219124148,0.2011773367330901,0.15818485532909846,0.34555644276970376,0.166978267505289,0.19335525841039106,0.14129195636895067,0.17767160568978957,0.2724454523291568,0.2472084798571771,0.26461689669265603,0.21225516009159276,0.296628738821052,0.32032898299906454,0.36825549437358196,0.3440182431452428,0.33797006903884774,0.374323839349675,0.2775369536745078,0.37817530080766215,1.0,0.15075344970791998,0.1381302420695372,0.17696217583234844,0.14380728922217642,0.13241954210290685,0.19712611211127165,0.18207741604038408,-0.00945637556846974,0.07150852493399723,0.026660361675669497,0.048909623004323576,0.007613411910593845,0.0334569201259669,0.029790296911004505,0.05004347054484507,0.012453881713190701,0.043650033962784635,0.0412526626964431,-0.2176524822709851,-0.2335329144928468,-0.2166691549004118,-0.004986709202546425,-0.05495941409854019],[0.14090669829888872,0.03205934596261514,0.145955926307362,0.08835421721746471,0.07794627799556368,0.05282205521046463,0.020262180826565616,0.06769049522846457,0.1811121720053161,0.20604311636628225,0.19807971791397272,0.21525631508684548,0.316742330666931,0.18469273127340083,0.13754592080456407,0.2255316065593394,0.2755012678741341,0.16758065954591014,0.14717921404858159,0.35879145417941083,0.2701949791499843,0.2739095025054637,0.19351268988120499,0.17796100453809258,0.131708868292903,0.25647748551334476,0.2100613853091309,0.253865641907229,0.1924591443470914,0.26655317834500686,0.09044497606740816,0.16923287096843467,0.04740289463687725,0.059742958293081086,0.0035918336971970436,0.09283326614244959,0.08201878738545396,0.10808979360450055,0.0718302472476973,0.32024979083415384,0.15075344970791998,1.0,0.3661718045164485,0.4492614110204897,0.4135010484923615,0.35247342569523266,0.41339307725648955,0.44650887356237967,0.18092212101168725,0.16304181203379647,0.19398276963931782,0.18163084148524847,0.1564766190287913,0.1552734011903469,0.19775892256885066,0.16016706980009035,0.09473236665856655,0.12698231120770967,0.1618485174596126,-0.1185512543765585,-0.09729511895663323,-0.11862514887674902,0.020477577255734288,0.04501426103438708],[0.14827069809234564,0.05013768205597646,0.17168948878991344,0.1062312998957171,0.03308021944130843,0.05679071156302877,-0.03346885882946409,0.040018191347474176,0.2146265976020358,0.25174703254090874,0.25258007681389816,0.2498853570803454,0.3079826202660156,0.19774146995807626,0.18800390075960358,0.25673212875617835,0.2961096169814546,0.11468673366890235,0.22075178008822635,0.3319597598199673,0.23145477570668832,0.3055825749647708,0.2915919949718975,0.23557736999435352,0.22819549722688032,0.17941202945609452,0.20851867888144252,0.29689563494813753,0.1837958604522077,0.2804131453954063,0.1260018288558805,0.2325584883267237,0.08502731636411316,0.05013768205597631,0.055502518361628214,0.11503569540297669,0.1009937219654915,0.1325082480254506,0.11645770014191074,0.3095855626792486,0.1381302420695372,0.3661718045164485,1.0,0.470838961153405,0.4211516431756446,0.4183145880512868,0.3898229889145872,0.4836907990217566,0.23978187104280146,0.2804293203821436,0.34919707994952986,0.3118248659340996,0.32640960017494,0.27158035057437063,0.3420593836629126,0.2013216329323573,0.1829990935420379,0.2271474015592757,0.18494728056685616,-0.04774482153695201,-0.1085712757724691,-0.06083342684924908,0.0833841508059922,0.08977925635650748],[0.17871205645583854,0.047794337286481865,0.11157135263754825,0.0941573262973984,0.007922439841628721,0.06817877110603311,0.00947470286754761,0.040057992943265425,0.23239209745645428,0.20820119076742988,0.22191647735560785,0.2743168307563533,0.3188173359503806,0.2404645752272857,0.1696499419633564,0.25491580957928295,0.278414111516243,0.22015897288142752,0.20538790913215788,0.34798401901456283,0.2818720764919567,0.28571644764194104,0.3025554997870964,0.24826304405898084,0.16310177487644736,0.21668796278328079,0.23704194281072033,0.2575208161014191,0.20834401879612113,0.22730707285054147,0.12929785934082338,0.1870133148468846,0.11051752895044381,0.07497358237921677,0.05010986594835953,0.11417242837057295,0.0883233546595575,0.10031263200439057,0.09431140306764517,0.31442504233424146,0.17696217583234844,0.4492614110204897,0.470838961153405,1.0,0.46448914098006727,0.3847218134870425,0.4895738002419875,0.5284748237273538,0.24601176055498278,0.2595572034730623,0.2538872375144901,0.289833877536072,0.22416008425756823,0.24785397872056125,0.27791688751561644,0.20197134784652632,0.198015268706014,0.21686922446882992,0.22344105204695572,-0.07177313425591741,-0.0970056850563502,-0.06829974512696277,0.14851994771395002,0.15615265279693688],[0.1456053323703881,0.033672347903432695,0.11152131338787376,0.08762263109005464,0.04217296845111498,0.020021917876066306,0.03606631926674559,0.06045192925642809,0.17622576346715876,0.2563059052098216,0.1863163630992571,0.21059235524029354,0.2617077042737098,0.18904584266816235,0.17571484395146816,0.2198587485040227,0.1998228421261894,0.11437599061563568,0.16740861987331382,0.31070775383929594,0.27357041864393056,0.2629554715417169,0.2034660515033954,0.14466302118933194,0.12750550742565456,0.1530447885872182,0.17108955831695818,0.2068802232613543,0.20093973749774505,0.21221246472729483,0.12705820884186284,0.19312407542183957,0.02838068907193929,0.013196702862383187,-0.027084904311314374,0.05943109944233102,0.10884604527189627,0.10731617268121008,0.0938913727120227,0.27900556100743645,0.14380728922217642,0.4135010484923615,0.4211516431756446,0.46448914098006727,1.0,0.3982055488207281,0.4543292707198058,0.4373694319192727,0.18437352573901314,0.22317876406587325,0.2755007399827785,0.30317780475720757,0.27929884708797276,0.2610637007203968,0.25335251694822963,0.15227232823063552,0.1096052798270164,0.1695414620898561,0.17777424882826512,-0.04098774991521035,-0.04633479109412727,-0.006686056050922147,0.054736177688846054,0.09940465695779613],[0.15527302387887285,0.003190709443145081,0.1417347725859032,0.1018552352821232,0.034730455169623864,0.0816544164450083,-0.04580987856207475,0.010750670053273082,0.1675061517682798,0.27046700991436284,0.2319211954704071,0.2835116857374426,0.28069867763383705,0.15274697906914014,0.13507930924261863,0.22868178013700144,0.26231751109849843,0.12345778134350603,0.21763549503799778,0.2851364787046468,0.20668676013986848,0.24514628388913992,0.22377650737555332,0.16077408799924836,0.14750274273159708,0.16008480453180568,0.1703122629562391,0.25653090356780395,0.2032892795894334,0.2671509447542163,0.08315804301355563,0.21253824320793524,0.083334141578376,0.0031907094431451034,0.017164090789265223,0.05382914974772237,0.09712096269139378,0.04338544664879841,0.05580906752721465,0.22783829428931832,0.13241954210290685,0.35247342569523266,0.4183145880512868,0.3847218134870425,0.3982055488207281,1.0,0.430504765086921,0.4362080134370357,0.244213561938854,0.24496658500772212,0.23029294005052844,0.3099488619202358,0.24127393982781012,0.29679037257380814,0.24162813028128236,0.23998959034204698,0.1811860188868213,0.2507894876213143,0.21954072109136985,-0.041407217088295215,-0.06317948299703019,-0.04309888592590352,0.058247099821322174,0.12045624715068236],[0.16377424660550116,0.050049430858137824,0.12174910018117795,0.07088053236881735,0.05993050811922786,0.08441042096952202,-0.03719104878458473,0.023004491056782757,0.17863823589165637,0.20333587421432311,0.23084350741211423,0.2977045545484822,0.27121270828206295,0.22657850562107754,0.14970451120015,0.2576310974156215,0.24450595969076705,0.24303391503377,0.16100918584676346,0.3418620831797562,0.2537684595178622,0.21394348857547907,0.29776815827461195,0.21675891095219485,0.13659054991604858,0.19734384037219668,0.2663875542530241,0.24449335479960174,0.2386044136322201,0.3068098168023572,0.15698945315684737,0.26593244282458833,0.1546840588486591,0.07753822294724512,0.11352881622550366,0.11723161184666733,0.1742066087527566,0.13163809170771137,0.09671086491849504,0.31005465879652777,0.19712611211127165,0.41339307725648955,0.3898229889145872,0.4895738002419875,0.4543292707198058,0.430504765086921,1.0,0.5111670846502891,0.1492787280170689,0.22870663328606566,0.20481789395908878,0.3010567006649106,0.23532028824335602,0.2402902533991648,0.2209250171385835,0.24868093020430304,0.24045167381499716,0.26232964565147504,0.23119129121556686,-0.07475984614535498,-0.07163208175199139,-0.0324517230029263,0.19188688921555394,0.18068363831436515],[0.16143097650075022,0.0378599053573245,0.10821511999912545,0.07716261408330354,0.03815989374005043,0.05141965869452233,0.013248879860857937,0.009687081421713458,0.2084408816749881,0.23955312137853674,0.18406734698733548,0.2920285563241829,0.30153570638627,0.1876590848375394,0.1388337395457079,0.265433551301342,0.30339588797058414,0.18921931726433833,0.2242564361555205,0.36650685863266275,0.2717127298960621,0.2827085869139488,0.2713393477823295,0.2586036019332431,0.16695806581454695,0.2621974582791118,0.1841570257157302,0.2615149470838764,0.253354474953335,0.2593930315546093,0.15597545075796523,0.2257563484796805,0.12079751753985736,0.09887879537471443,0.060963897725231884,0.14475304939420858,0.1321365487344901,0.13058569591603938,0.10471822519181474,0.35989477845687773,0.18207741604038408,0.44650887356237967,0.4836907990217566,0.5284748237273538,0.4373694319192727,0.4362080134370357,0.5111670846502891,1.0,0.26017276337122336,0.33750559971767874,0.24315848620831298,0.2876337483617711,0.2639519893593048,0.2368215261423949,0.34228937477796917,0.252734459392972,0.23056631274761527,0.27784804495989424,0.2703336513757974,-0.08239533877523642,-0.11737563776453024,-0.06949459340410488,0.09054029144826425,0.1163556640727378],[0.05498677128042678,0.03525680771800392,0.05946494225549636,0.009082245694058941,-0.021892646012376164,0.049131877607583,-0.06697869393633714,0.01598670559266073,0.09233971723261306,0.18105451977131007,0.11602679747995127,0.16849334030699006,0.11166958038011172,0.1074387973446569,0.048095270320500705,0.22886005922930933,0.13488182315073902,0.028294269221071873,0.1572974179202639,0.1407925545818936,0.09052271496319626,0.16710746673424082,0.13219357853618063,0.0971198541041039,0.08526514201767378,0.07497648537210155,0.10347535009454169,0.11265219139649378,0.04772198928215507,0.061359816765985765,0.010760667998244305,0.07970590569395342,-0.05346500000662709,-0.09655635623299703,-0.1623193221853653,-0.07720361896035222,-0.06642731232754809,-0.060988750136217865,-0.036232620824600444,0.11693600852135783,-0.00945637556846974,0.18092212101168725,0.23978187104280146,0.24601176055498278,0.18437352573901314,0.244213561938854,0.1492787280170689,0.26017276337122336,1.0,0.36899661063296996,0.3964231007469793,0.39173456676761514,0.4249373775513142,0.40462398699142665,0.3452522301825979,0.2949144829563994,0.27053654429522883,0.26887263116884064,0.31189810353142033,0.10245241421009846,0.07086824548551628,0.042961478277776716,0.2156963649392932,0.22462820346639165],[0.06839087347200624,0.07713686798885865,0.09445652425266762,0.0805229023390183,0.015541410902634811,0.03507627438395119,-0.08462441344784348,-0.07017334106779749,0.1260535004392156,0.19217597592209304,0.16781985716244185,0.166739654863123,0.1521319999510303,0.16287509976102915,0.13582724504689467,0.19949088290819098,0.17085464724514798,0.0766380595251023,0.1880846446829776,0.19563598270611315,0.09595838973281234,0.16956737558544444,0.16315168467918387,0.10817678336992974,0.1346317875515965,0.19493168973271954,0.07698249743397617,0.14980682720899466,0.13592983218730492,0.11727303901588895,0.12979933688753417,0.1814920669430484,0.04460792149229557,0.06031263054689556,-0.01382085444813376,0.03396012252025467,0.027437238888351284,0.034707571604207385,0.0018728279937046378,0.20005532379739902,0.07150852493399723,0.16304181203379647,0.2804293203821436,0.2595572034730623,0.22317876406587325,0.24496658500772212,0.22870663328606566,0.33750559971767874,0.36899661063296996,1.0,0.5051902795988911,0.4777910934344773,0.4603684972852724,0.5120321807579233,0.4140920650161097,0.2796959644148327,0.25274619121624814,0.31973161916550197,0.28692591568627024,-0.01550606626498864,-0.052610030209446296,-0.0335645496858835,0.09375375935975024,0.12306226832881627],[0.06075442987841352,0.05688124013237035,0.11860086505973641,0.05468131520603277,0.03256729023454351,0.006666245944874651,-0.05677428273738359,-0.0309911276763277,0.09602977695862173,0.19533677528003476,0.15644043534436264,0.15839579865272116,0.2246309212052858,0.18203371855853606,0.12275801792024238,0.25950053697127473,0.24115200242898918,0.07275707832906468,0.24046415997338233,0.2005713126705099,0.17190409938168397,0.2434059852599718,0.14246953710748608,0.16098020786305708,0.09602977695862201,0.10653390945937402,0.14759600823616453,0.1582624381529919,0.12357540392440967,0.15031456121832426,0.08074018613113215,0.17001393687662664,-0.013458166998929816,-0.065069460037262,-0.0714356561389282,-0.052107793692760945,0.018821086377317105,0.07455929566413316,0.017913794146041398,0.20844095106424784,0.026660361675669497,0.19398276963931782,0.34919707994952986,0.2538872375144901,0.2755007399827785,0.23029294005052844,0.20481789395908878,0.24315848620831298,0.3964231007469793,0.5051902795988911,1.0,0.5201048080660678,0.5071759727329288,0.5342221800172533,0.4466210256021467,0.2627082271205822,0.282972645802281,0.2784129804033424,0.2726100822616792,-0.04225505096097607,-0.04986331686977672,-0.04079947059605174,0.1309644217188863,0.17892694823976224],[0.052336598060279634,0.05050348077527491,0.12303710076636529,0.0371069046418563,0.002151392399645282,-0.0016655291092659973,-0.023614538119602773,-0.04448212487460308,0.10793624172888105,0.19619586172313253,0.17752012418153518,0.17110757294584603,0.1305987617998615,0.19235091439859123,0.1040578421913466,0.24024391721334007,0.26344420063849616,0.07489599442379642,0.2116884706936299,0.19420051371693878,0.1499886868343289,0.27901589994073317,0.18477212116246974,0.13975219451352838,0.13073603942900605,0.18663320345571033,0.11706306575083797,0.1923143226455308,0.14493009063578421,0.14604040819044642,0.11606311252719818,0.17579617161266609,0.036926462790440095,0.005787186588525537,-0.0798141767623708,-0.01043295877829702,0.06594442263809235,0.04978636850691424,0.046257690655269676,0.1772823251859865,0.048909623004323576,0.18163084148524847,0.3118248659340996,0.289833877536072,0.30317780475720757,0.3099488619202358,0.3010567006649106,0.2876337483617711,0.39173456676761514,0.4777910934344773,0.5201048080660678,1.0,0.4958017103496126,0.5178490908401122,0.41114872936433006,0.343692378278478,0.3473135000218162,0.35829639564919247,0.3245031630241837,0.017745607279931293,-0.02146172442075608,0.041487841227594906,0.1866954155476619,0.19452712766751334],[0.014045363542117141,0.06144127111173302,0.14317735270650178,0.06494458599076809,-0.03543352036223737,0.026050217929400307,-0.014935208236628849,0.008588866695925438,0.14562655752824277,0.23623741120071326,0.17675945625062214,0.17909689991158406,0.15709091674374415,0.15955629711858238,0.10736999555685371,0.24904030795153645,0.21742367626794212,0.11618088073531668,0.28538601379255785,0.24591527674180652,0.14219842277193037,0.25017214303667273,0.18556812904101241,0.15127017314351165,0.08788231963005587,0.16384701568823234,0.1405434303276153,0.17996265054019273,0.11478231338474973,0.13509238020515435,0.13653483146886516,0.14681165134741217,-0.0008312058421898339,-0.023497256525865623,-0.09217171726740515,-0.017845658096834367,0.036862674842069953,0.00019934469964687397,-0.019171217582934923,0.14839318665555146,0.007613411910593845,0.1564766190287913,0.32640960017494,0.22416008425756823,0.27929884708797276,0.24127393982781012,0.23532028824335602,0.2639519893593048,0.4249373775513142,0.4603684972852724,0.5071759727329288,0.4958017103496126,1.0,0.5658658968258221,0.43333108421589617,0.29513852682538183,0.27342104949640905,0.3086636856299001,0.31416574486767157,-0.0004551374041304622,-0.04640805115152509,0.0038939818653711813,0.14584314208230145,0.13283440785460357],[0.03058592466440608,0.04963976220263783,0.06312870457461406,0.029711996901337016,0.002710696874811282,0.06473776688203774,-0.033258555593931025,-0.05293113611071516,0.12135157114465968,0.2108230408048804,0.19162117237282636,0.20044209536477012,0.12792777202077996,0.15802032850109307,0.14036113612923348,0.25547605586194905,0.2467868981440314,0.07981896535972696,0.2408555995682174,0.20710686172525056,0.13872772280063897,0.2374153650135408,0.15967476695272143,0.14649041117476258,0.11365344994239195,0.17761140640111805,0.1531173777556352,0.19019924750952388,0.11302266037230047,0.12792777202078004,0.09506457005590159,0.17422974098585606,0.013190568992304702,-0.04849726821346119,-0.0684642145210025,0.003052905319567804,0.028640698636663704,0.03486700293874946,0.007150869772769137,0.2144777917970048,0.0334569201259669,0.1552734011903469,0.27158035057437063,0.24785397872056125,0.2610637007203968,0.29679037257380814,0.2402902533991648,0.2368215261423949,0.40462398699142665,0.5120321807579233,0.5342221800172533,0.5178490908401122,0.5658658968258221,1.0,0.41217369504893653,0.3087738112705941,0.30612296974030206,0.2978026503370523,0.30631879322832906,-0.048408602825125574,-0.04763532545944838,-0.050221743483040454,0.10718883842157076,0.13484767612731924],[0.04079964153255839,0.06214217375254232,0.10161849333899757,0.06176712322302741,0.013082643307198364,0.014169998855675258,0.021334456325220255,-0.033719807065632344,0.08976700922184971,0.14423293509713153,0.16292157569332077,0.1463017076917468,0.1667259558236478,0.11218971205909321,0.11640044457592356,0.19989775789182385,0.251001702139861,0.10949973499539571,0.179873772820812,0.17840594256757403,0.1331419550716524,0.1612621486567896,0.15166194210512757,0.13563809686818085,0.08161371072238295,0.139677063707448,0.10650281792433691,0.1070829662345587,0.09843907938578879,0.11702800735875328,0.1345641794115088,0.13543160610768523,-0.0006334804217978731,-0.03380217604119173,-0.05247577106301216,-0.03497971042232801,-0.03578396884584379,0.010797121283651677,-0.00833332545982464,0.16140342305289834,0.029790296911004505,0.19775892256885066,0.3420593836629126,0.27791688751561644,0.25335251694822963,0.24162813028128236,0.2209250171385835,0.34228937477796917,0.3452522301825979,0.4140920650161097,0.4466210256021467,0.41114872936433006,0.43333108421589617,0.41217369504893653,1.0,0.3294013642764674,0.2781387755535711,0.3340763455294566,0.315265864261575,-0.013086471085489933,-0.024321317963000296,0.018428086250238958,0.1251965265445164,0.10841176507143134],[0.06910311097997576,0.09957757962834396,0.08288835371702494,0.055925189079167485,0.05031091658642561,0.033638133361807154,0.02745613867744728,0.0012376252078377637,0.07946346907004491,0.15609495366732898,0.15217513997160403,0.1577408925647758,0.07520393497000168,0.15803004805731202,0.08640576953580076,0.19993231358760935,0.21283127095084425,0.12111402106068352,0.1819125003658157,0.20422769466186128,0.13786233092188538,0.23267541127238867,0.17284655815158895,0.17784412459813123,0.09067046540607553,0.10805270319388181,0.13688442552869654,0.22832135732906783,0.09666435392068128,0.15490078168660512,0.20450440778000686,0.20101667383861188,0.06742024574371921,0.0446280410728966,0.004112249297830797,0.08777007631718249,0.04895417021073343,0.08098339787658117,0.09517323071503353,0.1568062866441992,0.05004347054484507,0.16016706980009035,0.2013216329323573,0.20197134784652632,0.15227232823063552,0.23998959034204698,0.24868093020430304,0.252734459392972,0.2949144829563994,0.2796959644148327,0.2627082271205822,0.343692378278478,0.29513852682538183,0.3087738112705941,0.3294013642764674,1.0,0.6820477771866529,0.7684730348519581,0.778282249500389,0.032356654800662396,-0.005568083510524656,0.06360608176116583,0.22622384586968888,0.20192397262371606],[0.050102830714689794,0.0667259550968458,0.050508685603689304,0.03174736908379367,0.04082407063600359,0.03798392610407371,0.014879893560152013,-0.015927630793526017,0.1080910537732507,0.12556251434634286,0.12408684586137302,0.15996593512279308,0.05074977361423264,0.156785788096777,0.07706289559899009,0.21229324907472144,0.21070487687776057,0.12723431043072655,0.19116556605647328,0.220507572363093,0.10974528865532997,0.23336421266396015,0.1742118030980509,0.14139557234621103,0.06901134269286809,0.09568286481468924,0.10864685285936723,0.2153440746268539,0.06305384489217837,0.15000313445866534,0.14164083237267136,0.1873192138618674,0.010179890760557388,-0.02908080821239458,-0.018570249656726476,-0.010851416352581912,0.01733787040000228,0.006866970242473845,0.04558075761500316,0.12934607373409807,0.012453881713190701,0.09473236665856655,0.1829990935420379,0.198015268706014,0.1096052798270164,0.1811860188868213,0.24045167381499716,0.23056631274761527,0.27053654429522883,0.25274619121624814,0.282972645802281,0.3473135000218162,0.27342104949640905,0.30612296974030206,0.2781387755535711,0.6820477771866529,1.0,0.715363019777096,0.6865629218688701,0.13676286453505915,0.06843691928985637,0.1182082140795782,0.3158104007179665,0.2704530971595737],[0.09220123450707222,0.08224361185494708,0.07626831382683065,0.05944349300163741,0.021066473334124054,0.05065956319582287,0.04521948206949892,0.007054376132829593,0.10884796469536272,0.1713428626955758,0.12519556480672173,0.15255084084221032,0.11781456259224211,0.1768568957043531,0.10549479383954793,0.22396377515345464,0.2061096215947578,0.17124696971759296,0.22342811331366244,0.2222863381051281,0.14675634546547706,0.2711271529238489,0.19991827068864143,0.18039484909833411,0.14105590737377552,0.12613924714048852,0.14572588697415714,0.2212664638554727,0.09266219124990774,0.16144158668689434,0.17842460873460075,0.22628637335794716,0.07257062062923875,0.050659563195822835,0.014369060591376593,0.08138668544853324,0.05313870942792883,0.06278431707953232,0.07858782556692286,0.15157790506171828,0.043650033962784635,0.12698231120770967,0.2271474015592757,0.21686922446882992,0.1695414620898561,0.2507894876213143,0.26232964565147504,0.27784804495989424,0.26887263116884064,0.31973161916550197,0.2784129804033424,0.35829639564919247,0.3086636856299001,0.2978026503370523,0.3340763455294566,0.7684730348519581,0.715363019777096,1.0,0.7188039828537769,0.034320024737434236,0.013725200821080847,0.06571268865650078,0.3004793824496179,0.3093974011857456],[0.06890399888603337,0.12255894049900123,0.06536772404367827,0.0784009808385448,0.019696631373246544,0.040939563663683835,0.015556384217621884,0.007324510025216699,0.1100435314813498,0.16009165490751123,0.1367052703233606,0.19511698245621195,0.06721392072347099,0.1675517813969111,0.1282156812920969,0.22141425047991317,0.23742610447400433,0.16060529729410625,0.18079537136830043,0.21220563977646015,0.16005573386766522,0.23764289474321346,0.1677264464350705,0.14752277797500213,0.07883166597293269,0.10632816721313455,0.16971813924979792,0.18879176455826746,0.10435450418091456,0.14120006255186457,0.1703416517735396,0.18256723124990085,0.041817570240306266,0.020534719454854463,-0.013149458286616634,0.050261931793971724,0.031954683968417476,0.0310893583455182,0.07867474381726074,0.16262466104431839,0.0412526626964431,0.1618485174596126,0.18494728056685616,0.22344105204695572,0.17777424882826512,0.21954072109136985,0.23119129121556686,0.2703336513757974,0.31189810353142033,0.28692591568627024,0.2726100822616792,0.3245031630241837,0.31416574486767157,0.30631879322832906,0.315265864261575,0.778282249500389,0.6865629218688701,0.7188039828537769,1.0,0.06675581236831184,0.019409666197002993,0.055584751744602125,0.31607263964198345,0.2669601236008309],[-0.24978670137569248,-0.09469345824452875,-0.0637078876565388,-0.16604015504759778,-0.11308854034988405,-0.09469345824452892,-0.09546212335581111,-0.1425323005081178,-0.14895133188513576,-0.06302683687708548,-0.15822600018666685,-0.11094855037497074,-0.1330689709758813,-0.10754299164674323,-0.13981694959161864,-0.15237312394670022,-0.13192478906688754,-0.13867365769564555,-0.10182272085750652,-0.15321661562177014,-0.187010126879491,-0.14326820634511922,-0.16314886915053212,-0.19789606803663867,-0.20515445337793325,-0.22163547454218852,-0.16322778311933156,-0.13553311322432213,-0.20378822102522712,-0.17385263773500548,-0.14087455057641898,-0.2102975236921592,-0.24314664019621895,-0.26791021110062674,-0.28804392997030026,-0.2769192358853672,-0.3011795036754059,-0.2866794497869562,-0.2509676393398867,-0.11211168085169143,-0.2176524822709851,-0.1185512543765585,-0.04774482153695201,-0.07177313425591741,-0.04098774991521035,-0.041407217088295215,-0.07475984614535498,-0.08239533877523642,0.10245241421009846,-0.01550606626498864,-0.04225505096097607,0.017745607279931293,-0.0004551374041304622,-0.048408602825125574,-0.013086471085489933,0.032356654800662396,0.13676286453505915,0.034320024737434236,0.06675581236831184,1.0,0.7945319442639123,0.797413438196797,0.18664976436946706,0.17162520822709007],[-0.25249253317785814,-0.10421106068423205,-0.12025751643521353,-0.17535165783759415,-0.13536953442290575,-0.1365788673415641,-0.12170977659792802,-0.15924491208065286,-0.1552901571915782,-0.09978033263895131,-0.14875237425340324,-0.11724052071849037,-0.1072129934324355,-0.13283194126446318,-0.1548691363778991,-0.19150214203749127,-0.15643631412916056,-0.13717756850321564,-0.12826714191433564,-0.20678151183064059,-0.15513422843968733,-0.14445132929487048,-0.17957831619140208,-0.22889861787185142,-0.22130452239830986,-0.22228487242074516,-0.17323905505860338,-0.1605521889699818,-0.23581485421611037,-0.18266049146501526,-0.17826981268413594,-0.21086706824706464,-0.24067685285405596,-0.2741420456352252,-0.2892147516892465,-0.2833212848421714,-0.2985277570137066,-0.291602841365032,-0.26548158516514603,-0.11835114615238346,-0.2335329144928468,-0.09729511895663323,-0.1085712757724691,-0.0970056850563502,-0.04633479109412727,-0.06317948299703019,-0.07163208175199139,-0.11737563776453024,0.07086824548551628,-0.052610030209446296,-0.04986331686977672,-0.02146172442075608,-0.04640805115152509,-0.04763532545944838,-0.024321317963000296,-0.005568083510524656,0.06843691928985637,0.013725200821080847,0.019409666197002993,0.7945319442639123,1.0,0.8073754796181554,0.10623270785080013,0.11188571025390054],[-0.23715401444281833,-0.0795756879314355,-0.08735417904007299,-0.1590091536789289,-0.12517645604661223,-0.10436711479726614,-0.139143498470451,-0.1425603320166271,-0.15056643105702155,-0.0853527123970213,-0.11883164947064843,-0.0783657636212402,-0.12829533608881963,-0.1122357853880372,-0.1590451686886452,-0.19579531113846954,-0.11866162914410815,-0.14951830635348698,-0.10801494185076628,-0.17937602645354242,-0.16995825130527353,-0.1417423568263887,-0.1677156006207807,-0.23327553873396237,-0.20112871735720234,-0.20242964685885848,-0.12747765647412357,-0.14016008771003602,-0.21568392546370121,-0.16253971650025736,-0.14162562736006842,-0.19089540264829402,-0.2272566055051106,-0.2365880580816961,-0.27003909347214244,-0.27896197498293984,-0.2768553440845444,-0.25327373485679217,-0.24467117597520835,-0.10494880054865419,-0.2166691549004118,-0.11862514887674902,-0.06083342684924908,-0.06829974512696277,-0.006686056050922147,-0.04309888592590352,-0.0324517230029263,-0.06949459340410488,0.042961478277776716,-0.0335645496858835,-0.04079947059605174,0.041487841227594906,0.0038939818653711813,-0.050221743483040454,0.018428086250238958,0.06360608176116583,0.1182082140795782,0.06571268865650078,0.055584751744602125,0.797413438196797,0.8073754796181554,1.0,0.2049489393840081,0.21265045411957645],[0.05451375830377028,0.09062801341223028,0.07082376443718855,0.044285800360854284,0.01744495256383912,0.0906280134122303,0.029705709543898937,-0.003564521883349457,0.01668983536255607,0.11353911676788643,0.019961072949166974,0.13864433948740765,0.06150412183160098,0.1379343787510026,0.053925770475033365,0.11293712844943501,0.14518430607285385,0.07094567115650952,0.12933577153486286,0.0945595377172332,0.08934217713255271,0.14140672743275906,0.0916288059698372,0.024839574579500746,0.06571911625449718,0.020509522035131383,0.05495751273453145,0.08116421626340277,0.013449367448669964,0.04490106183353232,0.0674693054915751,0.05507603387440621,0.04308238103588553,-0.021557588983249363,-0.021184337543401002,-0.054116680500727085,0.014986617389583654,-0.017444952563839097,-0.01743120035755608,0.055653195947645354,-0.004986709202546425,0.020477577255734288,0.0833841508059922,0.14851994771395002,0.054736177688846054,0.058247099821322174,0.19188688921555394,0.09054029144826425,0.2156963649392932,0.09375375935975024,0.1309644217188863,0.1866954155476619,0.14584314208230145,0.10718883842157076,0.1251965265445164,0.22622384586968888,0.3158104007179665,0.3004793824496179,0.31607263964198345,0.18664976436946706,0.10623270785080013,0.2049489393840081,1.0,0.6558881388922472],[0.031317297170608625,0.08358760759684548,0.06353115344638058,0.05320045486320505,0.05886761711017717,0.08358760759684553,0.02118547991629565,-0.01198623766415366,0.05696754462404855,0.07253330220127026,-0.006735023467634911,0.09742330427302938,0.03503135387154065,0.09516278175655783,0.07825266476267172,0.13863425952486064,0.12048181894291042,0.09563555377154401,0.12033888098158013,0.1022524247706141,0.09706795113948752,0.09834958155795231,0.06604515701352558,0.04874509702941569,0.05696754462404849,0.027339002057436418,0.06195454031820021,0.08895273683006688,0.0037412909118252425,0.0689589801553476,0.09201351254162767,0.07941447695183003,0.0677421236925463,-0.014660835580161572,0.0016667776106858395,-0.031536193892341025,-0.025758706833384187,0.006341008501879632,0.02222179881136295,0.04634205130903579,-0.05495941409854019,0.04501426103438708,0.08977925635650748,0.15615265279693688,0.09940465695779613,0.12045624715068236,0.18068363831436515,0.1163556640727378,0.22462820346639165,0.12306226832881627,0.17892694823976224,0.19452712766751334,0.13283440785460357,0.13484767612731924,0.10841176507143134,0.20192397262371606,0.2704530971595737,0.3093974011857456,0.2669601236008309,0.17162520822709007,0.11188571025390054,0.21265045411957645,0.6558881388922472,1.0]],\"type\":\"heatmap\",\"xaxis\":\"x\",\"yaxis\":\"y\",\"hovertemplate\":\"x: %{x}<br>y: %{y}<br>color: %{z}<extra></extra>\"}],                        {\"template\":{\"data\":{\"histogram2dcontour\":[{\"type\":\"histogram2dcontour\",\"colorbar\":{\"outlinewidth\":0,\"ticks\":\"\"},\"colorscale\":[[0.0,\"#0d0887\"],[0.1111111111111111,\"#46039f\"],[0.2222222222222222,\"#7201a8\"],[0.3333333333333333,\"#9c179e\"],[0.4444444444444444,\"#bd3786\"],[0.5555555555555556,\"#d8576b\"],[0.6666666666666666,\"#ed7953\"],[0.7777777777777778,\"#fb9f3a\"],[0.8888888888888888,\"#fdca26\"],[1.0,\"#f0f921\"]]}],\"choropleth\":[{\"type\":\"choropleth\",\"colorbar\":{\"outlinewidth\":0,\"ticks\":\"\"}}],\"histogram2d\":[{\"type\":\"histogram2d\",\"colorbar\":{\"outlinewidth\":0,\"ticks\":\"\"},\"colorscale\":[[0.0,\"#0d0887\"],[0.1111111111111111,\"#46039f\"],[0.2222222222222222,\"#7201a8\"],[0.3333333333333333,\"#9c179e\"],[0.4444444444444444,\"#bd3786\"],[0.5555555555555556,\"#d8576b\"],[0.6666666666666666,\"#ed7953\"],[0.7777777777777778,\"#fb9f3a\"],[0.8888888888888888,\"#fdca26\"],[1.0,\"#f0f921\"]]}],\"heatmap\":[{\"type\":\"heatmap\",\"colorbar\":{\"outlinewidth\":0,\"ticks\":\"\"},\"colorscale\":[[0.0,\"#0d0887\"],[0.1111111111111111,\"#46039f\"],[0.2222222222222222,\"#7201a8\"],[0.3333333333333333,\"#9c179e\"],[0.4444444444444444,\"#bd3786\"],[0.5555555555555556,\"#d8576b\"],[0.6666666666666666,\"#ed7953\"],[0.7777777777777778,\"#fb9f3a\"],[0.8888888888888888,\"#fdca26\"],[1.0,\"#f0f921\"]]}],\"heatmapgl\":[{\"type\":\"heatmapgl\",\"colorbar\":{\"outlinewidth\":0,\"ticks\":\"\"},\"colorscale\":[[0.0,\"#0d0887\"],[0.1111111111111111,\"#46039f\"],[0.2222222222222222,\"#7201a8\"],[0.3333333333333333,\"#9c179e\"],[0.4444444444444444,\"#bd3786\"],[0.5555555555555556,\"#d8576b\"],[0.6666666666666666,\"#ed7953\"],[0.7777777777777778,\"#fb9f3a\"],[0.8888888888888888,\"#fdca26\"],[1.0,\"#f0f921\"]]}],\"contourcarpet\":[{\"type\":\"contourcarpet\",\"colorbar\":{\"outlinewidth\":0,\"ticks\":\"\"}}],\"contour\":[{\"type\":\"contour\",\"colorbar\":{\"outlinewidth\":0,\"ticks\":\"\"},\"colorscale\":[[0.0,\"#0d0887\"],[0.1111111111111111,\"#46039f\"],[0.2222222222222222,\"#7201a8\"],[0.3333333333333333,\"#9c179e\"],[0.4444444444444444,\"#bd3786\"],[0.5555555555555556,\"#d8576b\"],[0.6666666666666666,\"#ed7953\"],[0.7777777777777778,\"#fb9f3a\"],[0.8888888888888888,\"#fdca26\"],[1.0,\"#f0f921\"]]}],\"surface\":[{\"type\":\"surface\",\"colorbar\":{\"outlinewidth\":0,\"ticks\":\"\"},\"colorscale\":[[0.0,\"#0d0887\"],[0.1111111111111111,\"#46039f\"],[0.2222222222222222,\"#7201a8\"],[0.3333333333333333,\"#9c179e\"],[0.4444444444444444,\"#bd3786\"],[0.5555555555555556,\"#d8576b\"],[0.6666666666666666,\"#ed7953\"],[0.7777777777777778,\"#fb9f3a\"],[0.8888888888888888,\"#fdca26\"],[1.0,\"#f0f921\"]]}],\"mesh3d\":[{\"type\":\"mesh3d\",\"colorbar\":{\"outlinewidth\":0,\"ticks\":\"\"}}],\"scatter\":[{\"fillpattern\":{\"fillmode\":\"overlay\",\"size\":10,\"solidity\":0.2},\"type\":\"scatter\"}],\"parcoords\":[{\"type\":\"parcoords\",\"line\":{\"colorbar\":{\"outlinewidth\":0,\"ticks\":\"\"}}}],\"scatterpolargl\":[{\"type\":\"scatterpolargl\",\"marker\":{\"colorbar\":{\"outlinewidth\":0,\"ticks\":\"\"}}}],\"bar\":[{\"error_x\":{\"color\":\"#2a3f5f\"},\"error_y\":{\"color\":\"#2a3f5f\"},\"marker\":{\"line\":{\"color\":\"#E5ECF6\",\"width\":0.5},\"pattern\":{\"fillmode\":\"overlay\",\"size\":10,\"solidity\":0.2}},\"type\":\"bar\"}],\"scattergeo\":[{\"type\":\"scattergeo\",\"marker\":{\"colorbar\":{\"outlinewidth\":0,\"ticks\":\"\"}}}],\"scatterpolar\":[{\"type\":\"scatterpolar\",\"marker\":{\"colorbar\":{\"outlinewidth\":0,\"ticks\":\"\"}}}],\"histogram\":[{\"marker\":{\"pattern\":{\"fillmode\":\"overlay\",\"size\":10,\"solidity\":0.2}},\"type\":\"histogram\"}],\"scattergl\":[{\"type\":\"scattergl\",\"marker\":{\"colorbar\":{\"outlinewidth\":0,\"ticks\":\"\"}}}],\"scatter3d\":[{\"type\":\"scatter3d\",\"line\":{\"colorbar\":{\"outlinewidth\":0,\"ticks\":\"\"}},\"marker\":{\"colorbar\":{\"outlinewidth\":0,\"ticks\":\"\"}}}],\"scattermapbox\":[{\"type\":\"scattermapbox\",\"marker\":{\"colorbar\":{\"outlinewidth\":0,\"ticks\":\"\"}}}],\"scatterternary\":[{\"type\":\"scatterternary\",\"marker\":{\"colorbar\":{\"outlinewidth\":0,\"ticks\":\"\"}}}],\"scattercarpet\":[{\"type\":\"scattercarpet\",\"marker\":{\"colorbar\":{\"outlinewidth\":0,\"ticks\":\"\"}}}],\"carpet\":[{\"aaxis\":{\"endlinecolor\":\"#2a3f5f\",\"gridcolor\":\"white\",\"linecolor\":\"white\",\"minorgridcolor\":\"white\",\"startlinecolor\":\"#2a3f5f\"},\"baxis\":{\"endlinecolor\":\"#2a3f5f\",\"gridcolor\":\"white\",\"linecolor\":\"white\",\"minorgridcolor\":\"white\",\"startlinecolor\":\"#2a3f5f\"},\"type\":\"carpet\"}],\"table\":[{\"cells\":{\"fill\":{\"color\":\"#EBF0F8\"},\"line\":{\"color\":\"white\"}},\"header\":{\"fill\":{\"color\":\"#C8D4E3\"},\"line\":{\"color\":\"white\"}},\"type\":\"table\"}],\"barpolar\":[{\"marker\":{\"line\":{\"color\":\"#E5ECF6\",\"width\":0.5},\"pattern\":{\"fillmode\":\"overlay\",\"size\":10,\"solidity\":0.2}},\"type\":\"barpolar\"}],\"pie\":[{\"automargin\":true,\"type\":\"pie\"}]},\"layout\":{\"autotypenumbers\":\"strict\",\"colorway\":[\"#636efa\",\"#EF553B\",\"#00cc96\",\"#ab63fa\",\"#FFA15A\",\"#19d3f3\",\"#FF6692\",\"#B6E880\",\"#FF97FF\",\"#FECB52\"],\"font\":{\"color\":\"#2a3f5f\"},\"hovermode\":\"closest\",\"hoverlabel\":{\"align\":\"left\"},\"paper_bgcolor\":\"white\",\"plot_bgcolor\":\"#E5ECF6\",\"polar\":{\"bgcolor\":\"#E5ECF6\",\"angularaxis\":{\"gridcolor\":\"white\",\"linecolor\":\"white\",\"ticks\":\"\"},\"radialaxis\":{\"gridcolor\":\"white\",\"linecolor\":\"white\",\"ticks\":\"\"}},\"ternary\":{\"bgcolor\":\"#E5ECF6\",\"aaxis\":{\"gridcolor\":\"white\",\"linecolor\":\"white\",\"ticks\":\"\"},\"baxis\":{\"gridcolor\":\"white\",\"linecolor\":\"white\",\"ticks\":\"\"},\"caxis\":{\"gridcolor\":\"white\",\"linecolor\":\"white\",\"ticks\":\"\"}},\"coloraxis\":{\"colorbar\":{\"outlinewidth\":0,\"ticks\":\"\"}},\"colorscale\":{\"sequential\":[[0.0,\"#0d0887\"],[0.1111111111111111,\"#46039f\"],[0.2222222222222222,\"#7201a8\"],[0.3333333333333333,\"#9c179e\"],[0.4444444444444444,\"#bd3786\"],[0.5555555555555556,\"#d8576b\"],[0.6666666666666666,\"#ed7953\"],[0.7777777777777778,\"#fb9f3a\"],[0.8888888888888888,\"#fdca26\"],[1.0,\"#f0f921\"]],\"sequentialminus\":[[0.0,\"#0d0887\"],[0.1111111111111111,\"#46039f\"],[0.2222222222222222,\"#7201a8\"],[0.3333333333333333,\"#9c179e\"],[0.4444444444444444,\"#bd3786\"],[0.5555555555555556,\"#d8576b\"],[0.6666666666666666,\"#ed7953\"],[0.7777777777777778,\"#fb9f3a\"],[0.8888888888888888,\"#fdca26\"],[1.0,\"#f0f921\"]],\"diverging\":[[0,\"#8e0152\"],[0.1,\"#c51b7d\"],[0.2,\"#de77ae\"],[0.3,\"#f1b6da\"],[0.4,\"#fde0ef\"],[0.5,\"#f7f7f7\"],[0.6,\"#e6f5d0\"],[0.7,\"#b8e186\"],[0.8,\"#7fbc41\"],[0.9,\"#4d9221\"],[1,\"#276419\"]]},\"xaxis\":{\"gridcolor\":\"white\",\"linecolor\":\"white\",\"ticks\":\"\",\"title\":{\"standoff\":15},\"zerolinecolor\":\"white\",\"automargin\":true,\"zerolinewidth\":2},\"yaxis\":{\"gridcolor\":\"white\",\"linecolor\":\"white\",\"ticks\":\"\",\"title\":{\"standoff\":15},\"zerolinecolor\":\"white\",\"automargin\":true,\"zerolinewidth\":2},\"scene\":{\"xaxis\":{\"backgroundcolor\":\"#E5ECF6\",\"gridcolor\":\"white\",\"linecolor\":\"white\",\"showbackground\":true,\"ticks\":\"\",\"zerolinecolor\":\"white\",\"gridwidth\":2},\"yaxis\":{\"backgroundcolor\":\"#E5ECF6\",\"gridcolor\":\"white\",\"linecolor\":\"white\",\"showbackground\":true,\"ticks\":\"\",\"zerolinecolor\":\"white\",\"gridwidth\":2},\"zaxis\":{\"backgroundcolor\":\"#E5ECF6\",\"gridcolor\":\"white\",\"linecolor\":\"white\",\"showbackground\":true,\"ticks\":\"\",\"zerolinecolor\":\"white\",\"gridwidth\":2}},\"shapedefaults\":{\"line\":{\"color\":\"#2a3f5f\"}},\"annotationdefaults\":{\"arrowcolor\":\"#2a3f5f\",\"arrowhead\":0,\"arrowwidth\":1},\"geo\":{\"bgcolor\":\"white\",\"landcolor\":\"#E5ECF6\",\"subunitcolor\":\"white\",\"showland\":true,\"showlakes\":true,\"lakecolor\":\"white\"},\"title\":{\"x\":0.05},\"mapbox\":{\"style\":\"light\"}}},\"xaxis\":{\"anchor\":\"y\",\"domain\":[0.0,1.0],\"scaleanchor\":\"y\",\"constrain\":\"domain\"},\"yaxis\":{\"anchor\":\"x\",\"domain\":[0.0,1.0],\"autorange\":\"reversed\",\"constrain\":\"domain\"},\"coloraxis\":{\"colorscale\":[[0.0,\"#0d0887\"],[0.1111111111111111,\"#46039f\"],[0.2222222222222222,\"#7201a8\"],[0.3333333333333333,\"#9c179e\"],[0.4444444444444444,\"#bd3786\"],[0.5555555555555556,\"#d8576b\"],[0.6666666666666666,\"#ed7953\"],[0.7777777777777778,\"#fb9f3a\"],[0.8888888888888888,\"#fdca26\"],[1.0,\"#f0f921\"]]},\"margin\":{\"t\":60},\"height\":800,\"width\":1500},                        {\"responsive\": true}                    ).then(function(){\n",
              "                            \n",
              "var gd = document.getElementById('e50d86a0-9b49-4573-a0d2-d32e6b59aacf');\n",
              "var x = new MutationObserver(function (mutations, observer) {{\n",
              "        var display = window.getComputedStyle(gd).display;\n",
              "        if (!display || display === 'none') {{\n",
              "            console.log([gd, 'removed!']);\n",
              "            Plotly.purge(gd);\n",
              "            observer.disconnect();\n",
              "        }}\n",
              "}});\n",
              "\n",
              "// Listen for the removal of the full notebook cells\n",
              "var notebookContainer = gd.closest('#notebook-container');\n",
              "if (notebookContainer) {{\n",
              "    x.observe(notebookContainer, {childList: true});\n",
              "}}\n",
              "\n",
              "// Listen for the clearing of the current output cell\n",
              "var outputEl = gd.closest('.output');\n",
              "if (outputEl) {{\n",
              "    x.observe(outputEl, {childList: true});\n",
              "}}\n",
              "\n",
              "                        })                };                            </script>        </div>\n",
              "</body>\n",
              "</html>"
            ]
          },
          "metadata": {}
        }
      ]
    },
    {
      "cell_type": "markdown",
      "source": [
        "## Univariate analysis"
      ],
      "metadata": {
        "id": "HYH_TLjj5Jbr"
      }
    },
    {
      "cell_type": "code",
      "source": [
        "fig, axis = plt.subplots(nrows=8, ncols=8, figsize=(18, 10))\n",
        "\n",
        "i = 0\n",
        "for row in range(8):\n",
        "    for col in range(8):\n",
        "        sns.countplot(data=df_train, x=num_cols[i], ax=axis[row, col])\n",
        "        i += 1\n",
        "      \n",
        "plt.show()\n"
      ],
      "metadata": {
        "colab": {
          "base_uri": "https://localhost:8080/",
          "height": 820
        },
        "id": "egSs1ClK4unq",
        "outputId": "d76501ff-16c7-4b4e-a6d2-9d4aaffbf747"
      },
      "execution_count": 132,
      "outputs": [
        {
          "output_type": "display_data",
          "data": {
            "text/plain": [
              "<Figure size 1800x1000 with 64 Axes>"
            ],
            "image/svg+xml": "<?xml version=\"1.0\" encoding=\"utf-8\" standalone=\"no\"?>\n<!DOCTYPE svg PUBLIC \"-//W3C//DTD SVG 1.1//EN\"\n  \"http://www.w3.org/Graphics/SVG/1.1/DTD/svg11.dtd\">\n<svg xmlns:xlink=\"http://www.w3.org/1999/xlink\" width=\"1058.565625pt\" height=\"599.434375pt\" viewBox=\"0 0 1058.565625 599.434375\" xmlns=\"http://www.w3.org/2000/svg\" version=\"1.1\">\n <metadata>\n  <rdf:RDF xmlns:dc=\"http://purl.org/dc/elements/1.1/\" xmlns:cc=\"http://creativecommons.org/ns#\" xmlns:rdf=\"http://www.w3.org/1999/02/22-rdf-syntax-ns#\">\n   <cc:Work>\n    <dc:type rdf:resource=\"http://purl.org/dc/dcmitype/StillImage\"/>\n    <dc:date>2023-05-01T14:09:28.157775</dc:date>\n    <dc:format>image/svg+xml</dc:format>\n    <dc:creator>\n     <cc:Agent>\n      <dc:title>Matplotlib v3.7.1, https://matplotlib.org/</dc:title>\n     </cc:Agent>\n    </dc:creator>\n   </cc:Work>\n  </rdf:RDF>\n </metadata>\n <defs>\n  <style type=\"text/css\">*{stroke-linejoin: round; stroke-linecap: butt}</style>\n </defs>\n <g id=\"figure_1\">\n  <g id=\"patch_1\">\n   <path d=\"M 0 599.434375 \nL 1058.565625 599.434375 \nL 1058.565625 0 \nL 0 0 \nz\n\" style=\"fill: #ffffff\"/>\n  </g>\n  <g id=\"axes_1\">\n   <g id=\"patch_2\">\n    <path d=\"M 46.965625 66.178723 \nL 153.816689 66.178723 \nL 153.816689 7.2 \nL 46.965625 7.2 \nz\n\" style=\"fill: #ffffff\"/>\n   </g>\n   <g id=\"patch_3\">\n    <path d=\"M 52.308178 66.178723 \nL 95.048604 66.178723 \nL 95.048604 10.797418 \nL 52.308178 10.797418 \nz\n\" clip-path=\"url(#p2c5bb0a4c9)\" style=\"fill: #3274a1\"/>\n   </g>\n   <g id=\"patch_4\">\n    <path d=\"M 105.73371 66.178723 \nL 148.474136 66.178723 \nL 148.474136 10.008511 \nL 105.73371 10.008511 \nz\n\" clip-path=\"url(#p2c5bb0a4c9)\" style=\"fill: #e1812c\"/>\n   </g>\n   <g id=\"matplotlib.axis_1\">\n    <g id=\"xtick_1\">\n     <g id=\"line2d_1\">\n      <defs>\n       <path id=\"m53ffd6c531\" d=\"M 0 0 \nL 0 3.5 \n\" style=\"stroke: #000000; stroke-width: 0.8\"/>\n      </defs>\n      <g>\n       <use xlink:href=\"#m53ffd6c531\" x=\"73.678391\" y=\"66.178723\" style=\"stroke: #000000; stroke-width: 0.8\"/>\n      </g>\n     </g>\n     <g id=\"text_1\">\n      <!-- 0.0 -->\n      <g transform=\"translate(65.726828 80.777161) scale(0.1 -0.1)\">\n       <defs>\n        <path id=\"DejaVuSans-30\" d=\"M 2034 4250 \nQ 1547 4250 1301 3770 \nQ 1056 3291 1056 2328 \nQ 1056 1369 1301 889 \nQ 1547 409 2034 409 \nQ 2525 409 2770 889 \nQ 3016 1369 3016 2328 \nQ 3016 3291 2770 3770 \nQ 2525 4250 2034 4250 \nz\nM 2034 4750 \nQ 2819 4750 3233 4129 \nQ 3647 3509 3647 2328 \nQ 3647 1150 3233 529 \nQ 2819 -91 2034 -91 \nQ 1250 -91 836 529 \nQ 422 1150 422 2328 \nQ 422 3509 836 4129 \nQ 1250 4750 2034 4750 \nz\n\" transform=\"scale(0.015625)\"/>\n        <path id=\"DejaVuSans-2e\" d=\"M 684 794 \nL 1344 794 \nL 1344 0 \nL 684 0 \nL 684 794 \nz\n\" transform=\"scale(0.015625)\"/>\n       </defs>\n       <use xlink:href=\"#DejaVuSans-30\"/>\n       <use xlink:href=\"#DejaVuSans-2e\" x=\"63.623047\"/>\n       <use xlink:href=\"#DejaVuSans-30\" x=\"95.410156\"/>\n      </g>\n     </g>\n    </g>\n    <g id=\"xtick_2\">\n     <g id=\"line2d_2\">\n      <g>\n       <use xlink:href=\"#m53ffd6c531\" x=\"127.103923\" y=\"66.178723\" style=\"stroke: #000000; stroke-width: 0.8\"/>\n      </g>\n     </g>\n     <g id=\"text_2\">\n      <!-- 1.0 -->\n      <g transform=\"translate(119.15236 80.777161) scale(0.1 -0.1)\">\n       <defs>\n        <path id=\"DejaVuSans-31\" d=\"M 794 531 \nL 1825 531 \nL 1825 4091 \nL 703 3866 \nL 703 4441 \nL 1819 4666 \nL 2450 4666 \nL 2450 531 \nL 3481 531 \nL 3481 0 \nL 794 0 \nL 794 531 \nz\n\" transform=\"scale(0.015625)\"/>\n       </defs>\n       <use xlink:href=\"#DejaVuSans-31\"/>\n       <use xlink:href=\"#DejaVuSans-2e\" x=\"63.623047\"/>\n       <use xlink:href=\"#DejaVuSans-30\" x=\"95.410156\"/>\n      </g>\n     </g>\n    </g>\n    <g id=\"text_3\">\n     <!-- sudden_fever -->\n     <g transform=\"translate(66.595844 94.455286) scale(0.1 -0.1)\">\n      <defs>\n       <path id=\"DejaVuSans-73\" d=\"M 2834 3397 \nL 2834 2853 \nQ 2591 2978 2328 3040 \nQ 2066 3103 1784 3103 \nQ 1356 3103 1142 2972 \nQ 928 2841 928 2578 \nQ 928 2378 1081 2264 \nQ 1234 2150 1697 2047 \nL 1894 2003 \nQ 2506 1872 2764 1633 \nQ 3022 1394 3022 966 \nQ 3022 478 2636 193 \nQ 2250 -91 1575 -91 \nQ 1294 -91 989 -36 \nQ 684 19 347 128 \nL 347 722 \nQ 666 556 975 473 \nQ 1284 391 1588 391 \nQ 1994 391 2212 530 \nQ 2431 669 2431 922 \nQ 2431 1156 2273 1281 \nQ 2116 1406 1581 1522 \nL 1381 1569 \nQ 847 1681 609 1914 \nQ 372 2147 372 2553 \nQ 372 3047 722 3315 \nQ 1072 3584 1716 3584 \nQ 2034 3584 2315 3537 \nQ 2597 3491 2834 3397 \nz\n\" transform=\"scale(0.015625)\"/>\n       <path id=\"DejaVuSans-75\" d=\"M 544 1381 \nL 544 3500 \nL 1119 3500 \nL 1119 1403 \nQ 1119 906 1312 657 \nQ 1506 409 1894 409 \nQ 2359 409 2629 706 \nQ 2900 1003 2900 1516 \nL 2900 3500 \nL 3475 3500 \nL 3475 0 \nL 2900 0 \nL 2900 538 \nQ 2691 219 2414 64 \nQ 2138 -91 1772 -91 \nQ 1169 -91 856 284 \nQ 544 659 544 1381 \nz\nM 1991 3584 \nL 1991 3584 \nz\n\" transform=\"scale(0.015625)\"/>\n       <path id=\"DejaVuSans-64\" d=\"M 2906 2969 \nL 2906 4863 \nL 3481 4863 \nL 3481 0 \nL 2906 0 \nL 2906 525 \nQ 2725 213 2448 61 \nQ 2172 -91 1784 -91 \nQ 1150 -91 751 415 \nQ 353 922 353 1747 \nQ 353 2572 751 3078 \nQ 1150 3584 1784 3584 \nQ 2172 3584 2448 3432 \nQ 2725 3281 2906 2969 \nz\nM 947 1747 \nQ 947 1113 1208 752 \nQ 1469 391 1925 391 \nQ 2381 391 2643 752 \nQ 2906 1113 2906 1747 \nQ 2906 2381 2643 2742 \nQ 2381 3103 1925 3103 \nQ 1469 3103 1208 2742 \nQ 947 2381 947 1747 \nz\n\" transform=\"scale(0.015625)\"/>\n       <path id=\"DejaVuSans-65\" d=\"M 3597 1894 \nL 3597 1613 \nL 953 1613 \nQ 991 1019 1311 708 \nQ 1631 397 2203 397 \nQ 2534 397 2845 478 \nQ 3156 559 3463 722 \nL 3463 178 \nQ 3153 47 2828 -22 \nQ 2503 -91 2169 -91 \nQ 1331 -91 842 396 \nQ 353 884 353 1716 \nQ 353 2575 817 3079 \nQ 1281 3584 2069 3584 \nQ 2775 3584 3186 3129 \nQ 3597 2675 3597 1894 \nz\nM 3022 2063 \nQ 3016 2534 2758 2815 \nQ 2500 3097 2075 3097 \nQ 1594 3097 1305 2825 \nQ 1016 2553 972 2059 \nL 3022 2063 \nz\n\" transform=\"scale(0.015625)\"/>\n       <path id=\"DejaVuSans-6e\" d=\"M 3513 2113 \nL 3513 0 \nL 2938 0 \nL 2938 2094 \nQ 2938 2591 2744 2837 \nQ 2550 3084 2163 3084 \nQ 1697 3084 1428 2787 \nQ 1159 2491 1159 1978 \nL 1159 0 \nL 581 0 \nL 581 3500 \nL 1159 3500 \nL 1159 2956 \nQ 1366 3272 1645 3428 \nQ 1925 3584 2291 3584 \nQ 2894 3584 3203 3211 \nQ 3513 2838 3513 2113 \nz\n\" transform=\"scale(0.015625)\"/>\n       <path id=\"DejaVuSans-5f\" d=\"M 3263 -1063 \nL 3263 -1509 \nL -63 -1509 \nL -63 -1063 \nL 3263 -1063 \nz\n\" transform=\"scale(0.015625)\"/>\n       <path id=\"DejaVuSans-66\" d=\"M 2375 4863 \nL 2375 4384 \nL 1825 4384 \nQ 1516 4384 1395 4259 \nQ 1275 4134 1275 3809 \nL 1275 3500 \nL 2222 3500 \nL 2222 3053 \nL 1275 3053 \nL 1275 0 \nL 697 0 \nL 697 3053 \nL 147 3053 \nL 147 3500 \nL 697 3500 \nL 697 3744 \nQ 697 4328 969 4595 \nQ 1241 4863 1831 4863 \nL 2375 4863 \nz\n\" transform=\"scale(0.015625)\"/>\n       <path id=\"DejaVuSans-76\" d=\"M 191 3500 \nL 800 3500 \nL 1894 563 \nL 2988 3500 \nL 3597 3500 \nL 2284 0 \nL 1503 0 \nL 191 3500 \nz\n\" transform=\"scale(0.015625)\"/>\n       <path id=\"DejaVuSans-72\" d=\"M 2631 2963 \nQ 2534 3019 2420 3045 \nQ 2306 3072 2169 3072 \nQ 1681 3072 1420 2755 \nQ 1159 2438 1159 1844 \nL 1159 0 \nL 581 0 \nL 581 3500 \nL 1159 3500 \nL 1159 2956 \nQ 1341 3275 1631 3429 \nQ 1922 3584 2338 3584 \nQ 2397 3584 2469 3576 \nQ 2541 3569 2628 3553 \nL 2631 2963 \nz\n\" transform=\"scale(0.015625)\"/>\n      </defs>\n      <use xlink:href=\"#DejaVuSans-73\"/>\n      <use xlink:href=\"#DejaVuSans-75\" x=\"52.099609\"/>\n      <use xlink:href=\"#DejaVuSans-64\" x=\"115.478516\"/>\n      <use xlink:href=\"#DejaVuSans-64\" x=\"178.955078\"/>\n      <use xlink:href=\"#DejaVuSans-65\" x=\"242.431641\"/>\n      <use xlink:href=\"#DejaVuSans-6e\" x=\"303.955078\"/>\n      <use xlink:href=\"#DejaVuSans-5f\" x=\"367.333984\"/>\n      <use xlink:href=\"#DejaVuSans-66\" x=\"417.333984\"/>\n      <use xlink:href=\"#DejaVuSans-65\" x=\"452.539062\"/>\n      <use xlink:href=\"#DejaVuSans-76\" x=\"514.0625\"/>\n      <use xlink:href=\"#DejaVuSans-65\" x=\"573.242188\"/>\n      <use xlink:href=\"#DejaVuSans-72\" x=\"634.765625\"/>\n     </g>\n    </g>\n   </g>\n   <g id=\"matplotlib.axis_2\">\n    <g id=\"ytick_1\">\n     <g id=\"line2d_3\">\n      <defs>\n       <path id=\"mddf5a59a20\" d=\"M 0 0 \nL -3.5 0 \n\" style=\"stroke: #000000; stroke-width: 0.8\"/>\n      </defs>\n      <g>\n       <use xlink:href=\"#mddf5a59a20\" x=\"46.965625\" y=\"66.178723\" style=\"stroke: #000000; stroke-width: 0.8\"/>\n      </g>\n     </g>\n     <g id=\"text_4\">\n      <!-- 0 -->\n      <g transform=\"translate(33.603125 69.977942) scale(0.1 -0.1)\">\n       <use xlink:href=\"#DejaVuSans-30\"/>\n      </g>\n     </g>\n    </g>\n    <g id=\"ytick_2\">\n     <g id=\"line2d_4\">\n      <g>\n       <use xlink:href=\"#mddf5a59a20\" x=\"46.965625\" y=\"34.622424\" style=\"stroke: #000000; stroke-width: 0.8\"/>\n      </g>\n     </g>\n     <g id=\"text_5\">\n      <!-- 200 -->\n      <g transform=\"translate(20.878125 38.421643) scale(0.1 -0.1)\">\n       <defs>\n        <path id=\"DejaVuSans-32\" d=\"M 1228 531 \nL 3431 531 \nL 3431 0 \nL 469 0 \nL 469 531 \nQ 828 903 1448 1529 \nQ 2069 2156 2228 2338 \nQ 2531 2678 2651 2914 \nQ 2772 3150 2772 3378 \nQ 2772 3750 2511 3984 \nQ 2250 4219 1831 4219 \nQ 1534 4219 1204 4116 \nQ 875 4013 500 3803 \nL 500 4441 \nQ 881 4594 1212 4672 \nQ 1544 4750 1819 4750 \nQ 2544 4750 2975 4387 \nQ 3406 4025 3406 3419 \nQ 3406 3131 3298 2873 \nQ 3191 2616 2906 2266 \nQ 2828 2175 2409 1742 \nQ 1991 1309 1228 531 \nz\n\" transform=\"scale(0.015625)\"/>\n       </defs>\n       <use xlink:href=\"#DejaVuSans-32\"/>\n       <use xlink:href=\"#DejaVuSans-30\" x=\"63.623047\"/>\n       <use xlink:href=\"#DejaVuSans-30\" x=\"127.246094\"/>\n      </g>\n     </g>\n    </g>\n    <g id=\"text_6\">\n     <!-- count -->\n     <g transform=\"translate(14.798438 50.795612) rotate(-90) scale(0.1 -0.1)\">\n      <defs>\n       <path id=\"DejaVuSans-63\" d=\"M 3122 3366 \nL 3122 2828 \nQ 2878 2963 2633 3030 \nQ 2388 3097 2138 3097 \nQ 1578 3097 1268 2742 \nQ 959 2388 959 1747 \nQ 959 1106 1268 751 \nQ 1578 397 2138 397 \nQ 2388 397 2633 464 \nQ 2878 531 3122 666 \nL 3122 134 \nQ 2881 22 2623 -34 \nQ 2366 -91 2075 -91 \nQ 1284 -91 818 406 \nQ 353 903 353 1747 \nQ 353 2603 823 3093 \nQ 1294 3584 2113 3584 \nQ 2378 3584 2631 3529 \nQ 2884 3475 3122 3366 \nz\n\" transform=\"scale(0.015625)\"/>\n       <path id=\"DejaVuSans-6f\" d=\"M 1959 3097 \nQ 1497 3097 1228 2736 \nQ 959 2375 959 1747 \nQ 959 1119 1226 758 \nQ 1494 397 1959 397 \nQ 2419 397 2687 759 \nQ 2956 1122 2956 1747 \nQ 2956 2369 2687 2733 \nQ 2419 3097 1959 3097 \nz\nM 1959 3584 \nQ 2709 3584 3137 3096 \nQ 3566 2609 3566 1747 \nQ 3566 888 3137 398 \nQ 2709 -91 1959 -91 \nQ 1206 -91 779 398 \nQ 353 888 353 1747 \nQ 353 2609 779 3096 \nQ 1206 3584 1959 3584 \nz\n\" transform=\"scale(0.015625)\"/>\n       <path id=\"DejaVuSans-74\" d=\"M 1172 4494 \nL 1172 3500 \nL 2356 3500 \nL 2356 3053 \nL 1172 3053 \nL 1172 1153 \nQ 1172 725 1289 603 \nQ 1406 481 1766 481 \nL 2356 481 \nL 2356 0 \nL 1766 0 \nQ 1100 0 847 248 \nQ 594 497 594 1153 \nL 594 3053 \nL 172 3053 \nL 172 3500 \nL 594 3500 \nL 594 4494 \nL 1172 4494 \nz\n\" transform=\"scale(0.015625)\"/>\n      </defs>\n      <use xlink:href=\"#DejaVuSans-63\"/>\n      <use xlink:href=\"#DejaVuSans-6f\" x=\"54.980469\"/>\n      <use xlink:href=\"#DejaVuSans-75\" x=\"116.162109\"/>\n      <use xlink:href=\"#DejaVuSans-6e\" x=\"179.541016\"/>\n      <use xlink:href=\"#DejaVuSans-74\" x=\"242.919922\"/>\n     </g>\n    </g>\n   </g>\n   <g id=\"patch_5\">\n    <path d=\"M 46.965625 66.178723 \nL 46.965625 7.2 \n\" style=\"fill: none; stroke: #000000; stroke-width: 0.8; stroke-linejoin: miter; stroke-linecap: square\"/>\n   </g>\n   <g id=\"patch_6\">\n    <path d=\"M 153.816689 66.178723 \nL 153.816689 7.2 \n\" style=\"fill: none; stroke: #000000; stroke-width: 0.8; stroke-linejoin: miter; stroke-linecap: square\"/>\n   </g>\n   <g id=\"patch_7\">\n    <path d=\"M 46.965625 66.178723 \nL 153.816689 66.178723 \n\" style=\"fill: none; stroke: #000000; stroke-width: 0.8; stroke-linejoin: miter; stroke-linecap: square\"/>\n   </g>\n   <g id=\"patch_8\">\n    <path d=\"M 46.965625 7.2 \nL 153.816689 7.2 \n\" style=\"fill: none; stroke: #000000; stroke-width: 0.8; stroke-linejoin: miter; stroke-linecap: square\"/>\n   </g>\n  </g>\n  <g id=\"axes_2\">\n   <g id=\"patch_9\">\n    <path d=\"M 175.186902 66.178723 \nL 282.037965 66.178723 \nL 282.037965 7.2 \nL 175.186902 7.2 \nz\n\" style=\"fill: #ffffff\"/>\n   </g>\n   <g id=\"patch_10\">\n    <path d=\"M 180.529455 66.178723 \nL 223.26988 66.178723 \nL 223.26988 10.008511 \nL 180.529455 10.008511 \nz\n\" clip-path=\"url(#p37111180ff)\" style=\"fill: #3274a1\"/>\n   </g>\n   <g id=\"patch_11\">\n    <path d=\"M 233.954987 66.178723 \nL 276.695412 66.178723 \nL 276.695412 20.260657 \nL 233.954987 20.260657 \nz\n\" clip-path=\"url(#p37111180ff)\" style=\"fill: #e1812c\"/>\n   </g>\n   <g id=\"matplotlib.axis_3\">\n    <g id=\"xtick_3\">\n     <g id=\"line2d_5\">\n      <g>\n       <use xlink:href=\"#m53ffd6c531\" x=\"201.899668\" y=\"66.178723\" style=\"stroke: #000000; stroke-width: 0.8\"/>\n      </g>\n     </g>\n     <g id=\"text_7\">\n      <!-- 0.0 -->\n      <g transform=\"translate(193.948105 80.777161) scale(0.1 -0.1)\">\n       <use xlink:href=\"#DejaVuSans-30\"/>\n       <use xlink:href=\"#DejaVuSans-2e\" x=\"63.623047\"/>\n       <use xlink:href=\"#DejaVuSans-30\" x=\"95.410156\"/>\n      </g>\n     </g>\n    </g>\n    <g id=\"xtick_4\">\n     <g id=\"line2d_6\">\n      <g>\n       <use xlink:href=\"#m53ffd6c531\" x=\"255.325199\" y=\"66.178723\" style=\"stroke: #000000; stroke-width: 0.8\"/>\n      </g>\n     </g>\n     <g id=\"text_8\">\n      <!-- 1.0 -->\n      <g transform=\"translate(247.373637 80.777161) scale(0.1 -0.1)\">\n       <use xlink:href=\"#DejaVuSans-31\"/>\n       <use xlink:href=\"#DejaVuSans-2e\" x=\"63.623047\"/>\n       <use xlink:href=\"#DejaVuSans-30\" x=\"95.410156\"/>\n      </g>\n     </g>\n    </g>\n    <g id=\"text_9\">\n     <!-- headache -->\n     <g transform=\"translate(204.070246 94.455286) scale(0.1 -0.1)\">\n      <defs>\n       <path id=\"DejaVuSans-68\" d=\"M 3513 2113 \nL 3513 0 \nL 2938 0 \nL 2938 2094 \nQ 2938 2591 2744 2837 \nQ 2550 3084 2163 3084 \nQ 1697 3084 1428 2787 \nQ 1159 2491 1159 1978 \nL 1159 0 \nL 581 0 \nL 581 4863 \nL 1159 4863 \nL 1159 2956 \nQ 1366 3272 1645 3428 \nQ 1925 3584 2291 3584 \nQ 2894 3584 3203 3211 \nQ 3513 2838 3513 2113 \nz\n\" transform=\"scale(0.015625)\"/>\n       <path id=\"DejaVuSans-61\" d=\"M 2194 1759 \nQ 1497 1759 1228 1600 \nQ 959 1441 959 1056 \nQ 959 750 1161 570 \nQ 1363 391 1709 391 \nQ 2188 391 2477 730 \nQ 2766 1069 2766 1631 \nL 2766 1759 \nL 2194 1759 \nz\nM 3341 1997 \nL 3341 0 \nL 2766 0 \nL 2766 531 \nQ 2569 213 2275 61 \nQ 1981 -91 1556 -91 \nQ 1019 -91 701 211 \nQ 384 513 384 1019 \nQ 384 1609 779 1909 \nQ 1175 2209 1959 2209 \nL 2766 2209 \nL 2766 2266 \nQ 2766 2663 2505 2880 \nQ 2244 3097 1772 3097 \nQ 1472 3097 1187 3025 \nQ 903 2953 641 2809 \nL 641 3341 \nQ 956 3463 1253 3523 \nQ 1550 3584 1831 3584 \nQ 2591 3584 2966 3190 \nQ 3341 2797 3341 1997 \nz\n\" transform=\"scale(0.015625)\"/>\n      </defs>\n      <use xlink:href=\"#DejaVuSans-68\"/>\n      <use xlink:href=\"#DejaVuSans-65\" x=\"63.378906\"/>\n      <use xlink:href=\"#DejaVuSans-61\" x=\"124.902344\"/>\n      <use xlink:href=\"#DejaVuSans-64\" x=\"186.181641\"/>\n      <use xlink:href=\"#DejaVuSans-61\" x=\"249.658203\"/>\n      <use xlink:href=\"#DejaVuSans-63\" x=\"310.9375\"/>\n      <use xlink:href=\"#DejaVuSans-68\" x=\"365.917969\"/>\n      <use xlink:href=\"#DejaVuSans-65\" x=\"429.296875\"/>\n     </g>\n    </g>\n   </g>\n   <g id=\"matplotlib.axis_4\">\n    <g id=\"ytick_3\">\n     <g id=\"line2d_7\">\n      <g>\n       <use xlink:href=\"#mddf5a59a20\" x=\"175.186902\" y=\"66.178723\" style=\"stroke: #000000; stroke-width: 0.8\"/>\n      </g>\n     </g>\n     <g id=\"text_10\">\n      <!-- 0 -->\n      <g transform=\"translate(161.824402 69.977942) scale(0.1 -0.1)\">\n       <use xlink:href=\"#DejaVuSans-30\"/>\n      </g>\n     </g>\n    </g>\n    <g id=\"ytick_4\">\n     <g id=\"line2d_8\">\n      <g>\n       <use xlink:href=\"#mddf5a59a20\" x=\"175.186902\" y=\"30.079615\" style=\"stroke: #000000; stroke-width: 0.8\"/>\n      </g>\n     </g>\n     <g id=\"text_11\">\n      <!-- 250 -->\n      <g transform=\"translate(149.099402 33.878834) scale(0.1 -0.1)\">\n       <defs>\n        <path id=\"DejaVuSans-35\" d=\"M 691 4666 \nL 3169 4666 \nL 3169 4134 \nL 1269 4134 \nL 1269 2991 \nQ 1406 3038 1543 3061 \nQ 1681 3084 1819 3084 \nQ 2600 3084 3056 2656 \nQ 3513 2228 3513 1497 \nQ 3513 744 3044 326 \nQ 2575 -91 1722 -91 \nQ 1428 -91 1123 -41 \nQ 819 9 494 109 \nL 494 744 \nQ 775 591 1075 516 \nQ 1375 441 1709 441 \nQ 2250 441 2565 725 \nQ 2881 1009 2881 1497 \nQ 2881 1984 2565 2268 \nQ 2250 2553 1709 2553 \nQ 1456 2553 1204 2497 \nQ 953 2441 691 2322 \nL 691 4666 \nz\n\" transform=\"scale(0.015625)\"/>\n       </defs>\n       <use xlink:href=\"#DejaVuSans-32\"/>\n       <use xlink:href=\"#DejaVuSans-35\" x=\"63.623047\"/>\n       <use xlink:href=\"#DejaVuSans-30\" x=\"127.246094\"/>\n      </g>\n     </g>\n    </g>\n    <g id=\"text_12\">\n     <!-- count -->\n     <g transform=\"translate(143.019714 50.795612) rotate(-90) scale(0.1 -0.1)\">\n      <use xlink:href=\"#DejaVuSans-63\"/>\n      <use xlink:href=\"#DejaVuSans-6f\" x=\"54.980469\"/>\n      <use xlink:href=\"#DejaVuSans-75\" x=\"116.162109\"/>\n      <use xlink:href=\"#DejaVuSans-6e\" x=\"179.541016\"/>\n      <use xlink:href=\"#DejaVuSans-74\" x=\"242.919922\"/>\n     </g>\n    </g>\n   </g>\n   <g id=\"patch_12\">\n    <path d=\"M 175.186902 66.178723 \nL 175.186902 7.2 \n\" style=\"fill: none; stroke: #000000; stroke-width: 0.8; stroke-linejoin: miter; stroke-linecap: square\"/>\n   </g>\n   <g id=\"patch_13\">\n    <path d=\"M 282.037965 66.178723 \nL 282.037965 7.2 \n\" style=\"fill: none; stroke: #000000; stroke-width: 0.8; stroke-linejoin: miter; stroke-linecap: square\"/>\n   </g>\n   <g id=\"patch_14\">\n    <path d=\"M 175.186902 66.178723 \nL 282.037965 66.178723 \n\" style=\"fill: none; stroke: #000000; stroke-width: 0.8; stroke-linejoin: miter; stroke-linecap: square\"/>\n   </g>\n   <g id=\"patch_15\">\n    <path d=\"M 175.186902 7.2 \nL 282.037965 7.2 \n\" style=\"fill: none; stroke: #000000; stroke-width: 0.8; stroke-linejoin: miter; stroke-linecap: square\"/>\n   </g>\n  </g>\n  <g id=\"axes_3\">\n   <g id=\"patch_16\">\n    <path d=\"M 303.408178 66.178723 \nL 410.259242 66.178723 \nL 410.259242 7.2 \nL 303.408178 7.2 \nz\n\" style=\"fill: #ffffff\"/>\n   </g>\n   <g id=\"patch_17\">\n    <path d=\"M 308.750731 66.178723 \nL 351.491157 66.178723 \nL 351.491157 10.008511 \nL 308.750731 10.008511 \nz\n\" clip-path=\"url(#pf34552fcee)\" style=\"fill: #3274a1\"/>\n   </g>\n   <g id=\"patch_18\">\n    <path d=\"M 362.176263 66.178723 \nL 404.916689 66.178723 \nL 404.916689 18.38993 \nL 362.176263 18.38993 \nz\n\" clip-path=\"url(#pf34552fcee)\" style=\"fill: #e1812c\"/>\n   </g>\n   <g id=\"matplotlib.axis_5\">\n    <g id=\"xtick_5\">\n     <g id=\"line2d_9\">\n      <g>\n       <use xlink:href=\"#m53ffd6c531\" x=\"330.120944\" y=\"66.178723\" style=\"stroke: #000000; stroke-width: 0.8\"/>\n      </g>\n     </g>\n     <g id=\"text_13\">\n      <!-- 0.0 -->\n      <g transform=\"translate(322.169382 80.777161) scale(0.1 -0.1)\">\n       <use xlink:href=\"#DejaVuSans-30\"/>\n       <use xlink:href=\"#DejaVuSans-2e\" x=\"63.623047\"/>\n       <use xlink:href=\"#DejaVuSans-30\" x=\"95.410156\"/>\n      </g>\n     </g>\n    </g>\n    <g id=\"xtick_6\">\n     <g id=\"line2d_10\">\n      <g>\n       <use xlink:href=\"#m53ffd6c531\" x=\"383.546476\" y=\"66.178723\" style=\"stroke: #000000; stroke-width: 0.8\"/>\n      </g>\n     </g>\n     <g id=\"text_14\">\n      <!-- 1.0 -->\n      <g transform=\"translate(375.594914 80.777161) scale(0.1 -0.1)\">\n       <use xlink:href=\"#DejaVuSans-31\"/>\n       <use xlink:href=\"#DejaVuSans-2e\" x=\"63.623047\"/>\n       <use xlink:href=\"#DejaVuSans-30\" x=\"95.410156\"/>\n      </g>\n     </g>\n    </g>\n    <g id=\"text_15\">\n     <!-- mouth_bleed -->\n     <g transform=\"translate(324.215741 94.455286) scale(0.1 -0.1)\">\n      <defs>\n       <path id=\"DejaVuSans-6d\" d=\"M 3328 2828 \nQ 3544 3216 3844 3400 \nQ 4144 3584 4550 3584 \nQ 5097 3584 5394 3201 \nQ 5691 2819 5691 2113 \nL 5691 0 \nL 5113 0 \nL 5113 2094 \nQ 5113 2597 4934 2840 \nQ 4756 3084 4391 3084 \nQ 3944 3084 3684 2787 \nQ 3425 2491 3425 1978 \nL 3425 0 \nL 2847 0 \nL 2847 2094 \nQ 2847 2600 2669 2842 \nQ 2491 3084 2119 3084 \nQ 1678 3084 1418 2786 \nQ 1159 2488 1159 1978 \nL 1159 0 \nL 581 0 \nL 581 3500 \nL 1159 3500 \nL 1159 2956 \nQ 1356 3278 1631 3431 \nQ 1906 3584 2284 3584 \nQ 2666 3584 2933 3390 \nQ 3200 3197 3328 2828 \nz\n\" transform=\"scale(0.015625)\"/>\n       <path id=\"DejaVuSans-62\" d=\"M 3116 1747 \nQ 3116 2381 2855 2742 \nQ 2594 3103 2138 3103 \nQ 1681 3103 1420 2742 \nQ 1159 2381 1159 1747 \nQ 1159 1113 1420 752 \nQ 1681 391 2138 391 \nQ 2594 391 2855 752 \nQ 3116 1113 3116 1747 \nz\nM 1159 2969 \nQ 1341 3281 1617 3432 \nQ 1894 3584 2278 3584 \nQ 2916 3584 3314 3078 \nQ 3713 2572 3713 1747 \nQ 3713 922 3314 415 \nQ 2916 -91 2278 -91 \nQ 1894 -91 1617 61 \nQ 1341 213 1159 525 \nL 1159 0 \nL 581 0 \nL 581 4863 \nL 1159 4863 \nL 1159 2969 \nz\n\" transform=\"scale(0.015625)\"/>\n       <path id=\"DejaVuSans-6c\" d=\"M 603 4863 \nL 1178 4863 \nL 1178 0 \nL 603 0 \nL 603 4863 \nz\n\" transform=\"scale(0.015625)\"/>\n      </defs>\n      <use xlink:href=\"#DejaVuSans-6d\"/>\n      <use xlink:href=\"#DejaVuSans-6f\" x=\"97.412109\"/>\n      <use xlink:href=\"#DejaVuSans-75\" x=\"158.59375\"/>\n      <use xlink:href=\"#DejaVuSans-74\" x=\"221.972656\"/>\n      <use xlink:href=\"#DejaVuSans-68\" x=\"261.181641\"/>\n      <use xlink:href=\"#DejaVuSans-5f\" x=\"324.560547\"/>\n      <use xlink:href=\"#DejaVuSans-62\" x=\"374.560547\"/>\n      <use xlink:href=\"#DejaVuSans-6c\" x=\"438.037109\"/>\n      <use xlink:href=\"#DejaVuSans-65\" x=\"465.820312\"/>\n      <use xlink:href=\"#DejaVuSans-65\" x=\"527.34375\"/>\n      <use xlink:href=\"#DejaVuSans-64\" x=\"588.867188\"/>\n     </g>\n    </g>\n   </g>\n   <g id=\"matplotlib.axis_6\">\n    <g id=\"ytick_5\">\n     <g id=\"line2d_11\">\n      <g>\n       <use xlink:href=\"#mddf5a59a20\" x=\"303.408178\" y=\"66.178723\" style=\"stroke: #000000; stroke-width: 0.8\"/>\n      </g>\n     </g>\n     <g id=\"text_16\">\n      <!-- 0 -->\n      <g transform=\"translate(290.045678 69.977942) scale(0.1 -0.1)\">\n       <use xlink:href=\"#DejaVuSans-30\"/>\n      </g>\n     </g>\n    </g>\n    <g id=\"ytick_6\">\n     <g id=\"line2d_12\">\n      <g>\n       <use xlink:href=\"#mddf5a59a20\" x=\"303.408178\" y=\"29.418113\" style=\"stroke: #000000; stroke-width: 0.8\"/>\n      </g>\n     </g>\n     <g id=\"text_17\">\n      <!-- 250 -->\n      <g transform=\"translate(277.320678 33.217332) scale(0.1 -0.1)\">\n       <use xlink:href=\"#DejaVuSans-32\"/>\n       <use xlink:href=\"#DejaVuSans-35\" x=\"63.623047\"/>\n       <use xlink:href=\"#DejaVuSans-30\" x=\"127.246094\"/>\n      </g>\n     </g>\n    </g>\n    <g id=\"text_18\">\n     <!-- count -->\n     <g transform=\"translate(271.240991 50.795612) rotate(-90) scale(0.1 -0.1)\">\n      <use xlink:href=\"#DejaVuSans-63\"/>\n      <use xlink:href=\"#DejaVuSans-6f\" x=\"54.980469\"/>\n      <use xlink:href=\"#DejaVuSans-75\" x=\"116.162109\"/>\n      <use xlink:href=\"#DejaVuSans-6e\" x=\"179.541016\"/>\n      <use xlink:href=\"#DejaVuSans-74\" x=\"242.919922\"/>\n     </g>\n    </g>\n   </g>\n   <g id=\"patch_19\">\n    <path d=\"M 303.408178 66.178723 \nL 303.408178 7.2 \n\" style=\"fill: none; stroke: #000000; stroke-width: 0.8; stroke-linejoin: miter; stroke-linecap: square\"/>\n   </g>\n   <g id=\"patch_20\">\n    <path d=\"M 410.259242 66.178723 \nL 410.259242 7.2 \n\" style=\"fill: none; stroke: #000000; stroke-width: 0.8; stroke-linejoin: miter; stroke-linecap: square\"/>\n   </g>\n   <g id=\"patch_21\">\n    <path d=\"M 303.408178 66.178723 \nL 410.259242 66.178723 \n\" style=\"fill: none; stroke: #000000; stroke-width: 0.8; stroke-linejoin: miter; stroke-linecap: square\"/>\n   </g>\n   <g id=\"patch_22\">\n    <path d=\"M 303.408178 7.2 \nL 410.259242 7.2 \n\" style=\"fill: none; stroke: #000000; stroke-width: 0.8; stroke-linejoin: miter; stroke-linecap: square\"/>\n   </g>\n  </g>\n  <g id=\"axes_4\">\n   <g id=\"patch_23\">\n    <path d=\"M 431.629455 66.178723 \nL 538.480519 66.178723 \nL 538.480519 7.2 \nL 431.629455 7.2 \nz\n\" style=\"fill: #ffffff\"/>\n   </g>\n   <g id=\"patch_24\">\n    <path d=\"M 436.972008 66.178723 \nL 479.712434 66.178723 \nL 479.712434 10.008511 \nL 436.972008 10.008511 \nz\n\" clip-path=\"url(#pf694664566)\" style=\"fill: #3274a1\"/>\n   </g>\n   <g id=\"patch_25\">\n    <path d=\"M 490.39754 66.178723 \nL 533.137965 66.178723 \nL 533.137965 12.646338 \nL 490.39754 12.646338 \nz\n\" clip-path=\"url(#pf694664566)\" style=\"fill: #e1812c\"/>\n   </g>\n   <g id=\"matplotlib.axis_7\">\n    <g id=\"xtick_7\">\n     <g id=\"line2d_13\">\n      <g>\n       <use xlink:href=\"#m53ffd6c531\" x=\"458.342221\" y=\"66.178723\" style=\"stroke: #000000; stroke-width: 0.8\"/>\n      </g>\n     </g>\n     <g id=\"text_19\">\n      <!-- 0.0 -->\n      <g transform=\"translate(450.390658 80.777161) scale(0.1 -0.1)\">\n       <use xlink:href=\"#DejaVuSans-30\"/>\n       <use xlink:href=\"#DejaVuSans-2e\" x=\"63.623047\"/>\n       <use xlink:href=\"#DejaVuSans-30\" x=\"95.410156\"/>\n      </g>\n     </g>\n    </g>\n    <g id=\"xtick_8\">\n     <g id=\"line2d_14\">\n      <g>\n       <use xlink:href=\"#m53ffd6c531\" x=\"511.767753\" y=\"66.178723\" style=\"stroke: #000000; stroke-width: 0.8\"/>\n      </g>\n     </g>\n     <g id=\"text_20\">\n      <!-- 1.0 -->\n      <g transform=\"translate(503.81619 80.777161) scale(0.1 -0.1)\">\n       <use xlink:href=\"#DejaVuSans-31\"/>\n       <use xlink:href=\"#DejaVuSans-2e\" x=\"63.623047\"/>\n       <use xlink:href=\"#DejaVuSans-30\" x=\"95.410156\"/>\n      </g>\n     </g>\n    </g>\n    <g id=\"text_21\">\n     <!-- nose_bleed -->\n     <g transform=\"translate(456.754987 94.455286) scale(0.1 -0.1)\">\n      <use xlink:href=\"#DejaVuSans-6e\"/>\n      <use xlink:href=\"#DejaVuSans-6f\" x=\"63.378906\"/>\n      <use xlink:href=\"#DejaVuSans-73\" x=\"124.560547\"/>\n      <use xlink:href=\"#DejaVuSans-65\" x=\"176.660156\"/>\n      <use xlink:href=\"#DejaVuSans-5f\" x=\"238.183594\"/>\n      <use xlink:href=\"#DejaVuSans-62\" x=\"288.183594\"/>\n      <use xlink:href=\"#DejaVuSans-6c\" x=\"351.660156\"/>\n      <use xlink:href=\"#DejaVuSans-65\" x=\"379.443359\"/>\n      <use xlink:href=\"#DejaVuSans-65\" x=\"440.966797\"/>\n      <use xlink:href=\"#DejaVuSans-64\" x=\"502.490234\"/>\n     </g>\n    </g>\n   </g>\n   <g id=\"matplotlib.axis_8\">\n    <g id=\"ytick_7\">\n     <g id=\"line2d_15\">\n      <g>\n       <use xlink:href=\"#mddf5a59a20\" x=\"431.629455\" y=\"66.178723\" style=\"stroke: #000000; stroke-width: 0.8\"/>\n      </g>\n     </g>\n     <g id=\"text_22\">\n      <!-- 0 -->\n      <g transform=\"translate(418.266955 69.977942) scale(0.1 -0.1)\">\n       <use xlink:href=\"#DejaVuSans-30\"/>\n      </g>\n     </g>\n    </g>\n    <g id=\"ytick_8\">\n     <g id=\"line2d_16\">\n      <g>\n       <use xlink:href=\"#mddf5a59a20\" x=\"431.629455\" y=\"35.145457\" style=\"stroke: #000000; stroke-width: 0.8\"/>\n      </g>\n     </g>\n     <g id=\"text_23\">\n      <!-- 200 -->\n      <g transform=\"translate(405.541955 38.944675) scale(0.1 -0.1)\">\n       <use xlink:href=\"#DejaVuSans-32\"/>\n       <use xlink:href=\"#DejaVuSans-30\" x=\"63.623047\"/>\n       <use xlink:href=\"#DejaVuSans-30\" x=\"127.246094\"/>\n      </g>\n     </g>\n    </g>\n    <g id=\"text_24\">\n     <!-- count -->\n     <g transform=\"translate(399.462267 50.795612) rotate(-90) scale(0.1 -0.1)\">\n      <use xlink:href=\"#DejaVuSans-63\"/>\n      <use xlink:href=\"#DejaVuSans-6f\" x=\"54.980469\"/>\n      <use xlink:href=\"#DejaVuSans-75\" x=\"116.162109\"/>\n      <use xlink:href=\"#DejaVuSans-6e\" x=\"179.541016\"/>\n      <use xlink:href=\"#DejaVuSans-74\" x=\"242.919922\"/>\n     </g>\n    </g>\n   </g>\n   <g id=\"patch_26\">\n    <path d=\"M 431.629455 66.178723 \nL 431.629455 7.2 \n\" style=\"fill: none; stroke: #000000; stroke-width: 0.8; stroke-linejoin: miter; stroke-linecap: square\"/>\n   </g>\n   <g id=\"patch_27\">\n    <path d=\"M 538.480519 66.178723 \nL 538.480519 7.2 \n\" style=\"fill: none; stroke: #000000; stroke-width: 0.8; stroke-linejoin: miter; stroke-linecap: square\"/>\n   </g>\n   <g id=\"patch_28\">\n    <path d=\"M 431.629455 66.178723 \nL 538.480519 66.178723 \n\" style=\"fill: none; stroke: #000000; stroke-width: 0.8; stroke-linejoin: miter; stroke-linecap: square\"/>\n   </g>\n   <g id=\"patch_29\">\n    <path d=\"M 431.629455 7.2 \nL 538.480519 7.2 \n\" style=\"fill: none; stroke: #000000; stroke-width: 0.8; stroke-linejoin: miter; stroke-linecap: square\"/>\n   </g>\n  </g>\n  <g id=\"axes_5\">\n   <g id=\"patch_30\">\n    <path d=\"M 559.850731 66.178723 \nL 666.701795 66.178723 \nL 666.701795 7.2 \nL 559.850731 7.2 \nz\n\" style=\"fill: #ffffff\"/>\n   </g>\n   <g id=\"patch_31\">\n    <path d=\"M 565.193285 66.178723 \nL 607.93371 66.178723 \nL 607.93371 13.845274 \nL 565.193285 13.845274 \nz\n\" clip-path=\"url(#pd8d8ddef09)\" style=\"fill: #3274a1\"/>\n   </g>\n   <g id=\"patch_32\">\n    <path d=\"M 618.618816 66.178723 \nL 661.359242 66.178723 \nL 661.359242 10.008511 \nL 618.618816 10.008511 \nz\n\" clip-path=\"url(#pd8d8ddef09)\" style=\"fill: #e1812c\"/>\n   </g>\n   <g id=\"matplotlib.axis_9\">\n    <g id=\"xtick_9\">\n     <g id=\"line2d_17\">\n      <g>\n       <use xlink:href=\"#m53ffd6c531\" x=\"586.563497\" y=\"66.178723\" style=\"stroke: #000000; stroke-width: 0.8\"/>\n      </g>\n     </g>\n     <g id=\"text_25\">\n      <!-- 0.0 -->\n      <g transform=\"translate(578.611935 80.777161) scale(0.1 -0.1)\">\n       <use xlink:href=\"#DejaVuSans-30\"/>\n       <use xlink:href=\"#DejaVuSans-2e\" x=\"63.623047\"/>\n       <use xlink:href=\"#DejaVuSans-30\" x=\"95.410156\"/>\n      </g>\n     </g>\n    </g>\n    <g id=\"xtick_10\">\n     <g id=\"line2d_18\">\n      <g>\n       <use xlink:href=\"#m53ffd6c531\" x=\"639.989029\" y=\"66.178723\" style=\"stroke: #000000; stroke-width: 0.8\"/>\n      </g>\n     </g>\n     <g id=\"text_26\">\n      <!-- 1.0 -->\n      <g transform=\"translate(632.037467 80.777161) scale(0.1 -0.1)\">\n       <use xlink:href=\"#DejaVuSans-31\"/>\n       <use xlink:href=\"#DejaVuSans-2e\" x=\"63.623047\"/>\n       <use xlink:href=\"#DejaVuSans-30\" x=\"95.410156\"/>\n      </g>\n     </g>\n    </g>\n    <g id=\"text_27\">\n     <!-- muscle_pain -->\n     <g transform=\"translate(582.121576 94.455286) scale(0.1 -0.1)\">\n      <defs>\n       <path id=\"DejaVuSans-70\" d=\"M 1159 525 \nL 1159 -1331 \nL 581 -1331 \nL 581 3500 \nL 1159 3500 \nL 1159 2969 \nQ 1341 3281 1617 3432 \nQ 1894 3584 2278 3584 \nQ 2916 3584 3314 3078 \nQ 3713 2572 3713 1747 \nQ 3713 922 3314 415 \nQ 2916 -91 2278 -91 \nQ 1894 -91 1617 61 \nQ 1341 213 1159 525 \nz\nM 3116 1747 \nQ 3116 2381 2855 2742 \nQ 2594 3103 2138 3103 \nQ 1681 3103 1420 2742 \nQ 1159 2381 1159 1747 \nQ 1159 1113 1420 752 \nQ 1681 391 2138 391 \nQ 2594 391 2855 752 \nQ 3116 1113 3116 1747 \nz\n\" transform=\"scale(0.015625)\"/>\n       <path id=\"DejaVuSans-69\" d=\"M 603 3500 \nL 1178 3500 \nL 1178 0 \nL 603 0 \nL 603 3500 \nz\nM 603 4863 \nL 1178 4863 \nL 1178 4134 \nL 603 4134 \nL 603 4863 \nz\n\" transform=\"scale(0.015625)\"/>\n      </defs>\n      <use xlink:href=\"#DejaVuSans-6d\"/>\n      <use xlink:href=\"#DejaVuSans-75\" x=\"97.412109\"/>\n      <use xlink:href=\"#DejaVuSans-73\" x=\"160.791016\"/>\n      <use xlink:href=\"#DejaVuSans-63\" x=\"212.890625\"/>\n      <use xlink:href=\"#DejaVuSans-6c\" x=\"267.871094\"/>\n      <use xlink:href=\"#DejaVuSans-65\" x=\"295.654297\"/>\n      <use xlink:href=\"#DejaVuSans-5f\" x=\"357.177734\"/>\n      <use xlink:href=\"#DejaVuSans-70\" x=\"407.177734\"/>\n      <use xlink:href=\"#DejaVuSans-61\" x=\"470.654297\"/>\n      <use xlink:href=\"#DejaVuSans-69\" x=\"531.933594\"/>\n      <use xlink:href=\"#DejaVuSans-6e\" x=\"559.716797\"/>\n     </g>\n    </g>\n   </g>\n   <g id=\"matplotlib.axis_10\">\n    <g id=\"ytick_9\">\n     <g id=\"line2d_19\">\n      <g>\n       <use xlink:href=\"#mddf5a59a20\" x=\"559.850731\" y=\"66.178723\" style=\"stroke: #000000; stroke-width: 0.8\"/>\n      </g>\n     </g>\n     <g id=\"text_28\">\n      <!-- 0 -->\n      <g transform=\"translate(546.488231 69.977942) scale(0.1 -0.1)\">\n       <use xlink:href=\"#DejaVuSans-30\"/>\n      </g>\n     </g>\n    </g>\n    <g id=\"ytick_10\">\n     <g id=\"line2d_20\">\n      <g>\n       <use xlink:href=\"#mddf5a59a20\" x=\"559.850731\" y=\"35.484618\" style=\"stroke: #000000; stroke-width: 0.8\"/>\n      </g>\n     </g>\n     <g id=\"text_29\">\n      <!-- 200 -->\n      <g transform=\"translate(533.763231 39.283837) scale(0.1 -0.1)\">\n       <use xlink:href=\"#DejaVuSans-32\"/>\n       <use xlink:href=\"#DejaVuSans-30\" x=\"63.623047\"/>\n       <use xlink:href=\"#DejaVuSans-30\" x=\"127.246094\"/>\n      </g>\n     </g>\n    </g>\n    <g id=\"text_30\">\n     <!-- count -->\n     <g transform=\"translate(527.683544 50.795612) rotate(-90) scale(0.1 -0.1)\">\n      <use xlink:href=\"#DejaVuSans-63\"/>\n      <use xlink:href=\"#DejaVuSans-6f\" x=\"54.980469\"/>\n      <use xlink:href=\"#DejaVuSans-75\" x=\"116.162109\"/>\n      <use xlink:href=\"#DejaVuSans-6e\" x=\"179.541016\"/>\n      <use xlink:href=\"#DejaVuSans-74\" x=\"242.919922\"/>\n     </g>\n    </g>\n   </g>\n   <g id=\"patch_33\">\n    <path d=\"M 559.850731 66.178723 \nL 559.850731 7.2 \n\" style=\"fill: none; stroke: #000000; stroke-width: 0.8; stroke-linejoin: miter; stroke-linecap: square\"/>\n   </g>\n   <g id=\"patch_34\">\n    <path d=\"M 666.701795 66.178723 \nL 666.701795 7.2 \n\" style=\"fill: none; stroke: #000000; stroke-width: 0.8; stroke-linejoin: miter; stroke-linecap: square\"/>\n   </g>\n   <g id=\"patch_35\">\n    <path d=\"M 559.850731 66.178723 \nL 666.701795 66.178723 \n\" style=\"fill: none; stroke: #000000; stroke-width: 0.8; stroke-linejoin: miter; stroke-linecap: square\"/>\n   </g>\n   <g id=\"patch_36\">\n    <path d=\"M 559.850731 7.2 \nL 666.701795 7.2 \n\" style=\"fill: none; stroke: #000000; stroke-width: 0.8; stroke-linejoin: miter; stroke-linecap: square\"/>\n   </g>\n  </g>\n  <g id=\"axes_6\">\n   <g id=\"patch_37\">\n    <path d=\"M 688.072008 66.178723 \nL 794.923072 66.178723 \nL 794.923072 7.2 \nL 688.072008 7.2 \nz\n\" style=\"fill: #ffffff\"/>\n   </g>\n   <g id=\"patch_38\">\n    <path d=\"M 693.414561 66.178723 \nL 736.154987 66.178723 \nL 736.154987 10.008511 \nL 693.414561 10.008511 \nz\n\" clip-path=\"url(#p2c8792bc0b)\" style=\"fill: #3274a1\"/>\n   </g>\n   <g id=\"patch_39\">\n    <path d=\"M 746.840093 66.178723 \nL 789.580519 66.178723 \nL 789.580519 20.260657 \nL 746.840093 20.260657 \nz\n\" clip-path=\"url(#p2c8792bc0b)\" style=\"fill: #e1812c\"/>\n   </g>\n   <g id=\"matplotlib.axis_11\">\n    <g id=\"xtick_11\">\n     <g id=\"line2d_21\">\n      <g>\n       <use xlink:href=\"#m53ffd6c531\" x=\"714.784774\" y=\"66.178723\" style=\"stroke: #000000; stroke-width: 0.8\"/>\n      </g>\n     </g>\n     <g id=\"text_31\">\n      <!-- 0.0 -->\n      <g transform=\"translate(706.833211 80.777161) scale(0.1 -0.1)\">\n       <use xlink:href=\"#DejaVuSans-30\"/>\n       <use xlink:href=\"#DejaVuSans-2e\" x=\"63.623047\"/>\n       <use xlink:href=\"#DejaVuSans-30\" x=\"95.410156\"/>\n      </g>\n     </g>\n    </g>\n    <g id=\"xtick_12\">\n     <g id=\"line2d_22\">\n      <g>\n       <use xlink:href=\"#m53ffd6c531\" x=\"768.210306\" y=\"66.178723\" style=\"stroke: #000000; stroke-width: 0.8\"/>\n      </g>\n     </g>\n     <g id=\"text_32\">\n      <!-- 1.0 -->\n      <g transform=\"translate(760.258743 80.777161) scale(0.1 -0.1)\">\n       <use xlink:href=\"#DejaVuSans-31\"/>\n       <use xlink:href=\"#DejaVuSans-2e\" x=\"63.623047\"/>\n       <use xlink:href=\"#DejaVuSans-30\" x=\"95.410156\"/>\n      </g>\n     </g>\n    </g>\n    <g id=\"text_33\">\n     <!-- joint_pain -->\n     <g transform=\"translate(717.23504 94.455286) scale(0.1 -0.1)\">\n      <defs>\n       <path id=\"DejaVuSans-6a\" d=\"M 603 3500 \nL 1178 3500 \nL 1178 -63 \nQ 1178 -731 923 -1031 \nQ 669 -1331 103 -1331 \nL -116 -1331 \nL -116 -844 \nL 38 -844 \nQ 366 -844 484 -692 \nQ 603 -541 603 -63 \nL 603 3500 \nz\nM 603 4863 \nL 1178 4863 \nL 1178 4134 \nL 603 4134 \nL 603 4863 \nz\n\" transform=\"scale(0.015625)\"/>\n      </defs>\n      <use xlink:href=\"#DejaVuSans-6a\"/>\n      <use xlink:href=\"#DejaVuSans-6f\" x=\"27.783203\"/>\n      <use xlink:href=\"#DejaVuSans-69\" x=\"88.964844\"/>\n      <use xlink:href=\"#DejaVuSans-6e\" x=\"116.748047\"/>\n      <use xlink:href=\"#DejaVuSans-74\" x=\"180.126953\"/>\n      <use xlink:href=\"#DejaVuSans-5f\" x=\"219.335938\"/>\n      <use xlink:href=\"#DejaVuSans-70\" x=\"269.335938\"/>\n      <use xlink:href=\"#DejaVuSans-61\" x=\"332.8125\"/>\n      <use xlink:href=\"#DejaVuSans-69\" x=\"394.091797\"/>\n      <use xlink:href=\"#DejaVuSans-6e\" x=\"421.875\"/>\n     </g>\n    </g>\n   </g>\n   <g id=\"matplotlib.axis_12\">\n    <g id=\"ytick_11\">\n     <g id=\"line2d_23\">\n      <g>\n       <use xlink:href=\"#mddf5a59a20\" x=\"688.072008\" y=\"66.178723\" style=\"stroke: #000000; stroke-width: 0.8\"/>\n      </g>\n     </g>\n     <g id=\"text_34\">\n      <!-- 0 -->\n      <g transform=\"translate(674.709508 69.977942) scale(0.1 -0.1)\">\n       <use xlink:href=\"#DejaVuSans-30\"/>\n      </g>\n     </g>\n    </g>\n    <g id=\"ytick_12\">\n     <g id=\"line2d_24\">\n      <g>\n       <use xlink:href=\"#mddf5a59a20\" x=\"688.072008\" y=\"30.079615\" style=\"stroke: #000000; stroke-width: 0.8\"/>\n      </g>\n     </g>\n     <g id=\"text_35\">\n      <!-- 250 -->\n      <g transform=\"translate(661.984508 33.878834) scale(0.1 -0.1)\">\n       <use xlink:href=\"#DejaVuSans-32\"/>\n       <use xlink:href=\"#DejaVuSans-35\" x=\"63.623047\"/>\n       <use xlink:href=\"#DejaVuSans-30\" x=\"127.246094\"/>\n      </g>\n     </g>\n    </g>\n    <g id=\"text_36\">\n     <!-- count -->\n     <g transform=\"translate(655.90482 50.795612) rotate(-90) scale(0.1 -0.1)\">\n      <use xlink:href=\"#DejaVuSans-63\"/>\n      <use xlink:href=\"#DejaVuSans-6f\" x=\"54.980469\"/>\n      <use xlink:href=\"#DejaVuSans-75\" x=\"116.162109\"/>\n      <use xlink:href=\"#DejaVuSans-6e\" x=\"179.541016\"/>\n      <use xlink:href=\"#DejaVuSans-74\" x=\"242.919922\"/>\n     </g>\n    </g>\n   </g>\n   <g id=\"patch_40\">\n    <path d=\"M 688.072008 66.178723 \nL 688.072008 7.2 \n\" style=\"fill: none; stroke: #000000; stroke-width: 0.8; stroke-linejoin: miter; stroke-linecap: square\"/>\n   </g>\n   <g id=\"patch_41\">\n    <path d=\"M 794.923072 66.178723 \nL 794.923072 7.2 \n\" style=\"fill: none; stroke: #000000; stroke-width: 0.8; stroke-linejoin: miter; stroke-linecap: square\"/>\n   </g>\n   <g id=\"patch_42\">\n    <path d=\"M 688.072008 66.178723 \nL 794.923072 66.178723 \n\" style=\"fill: none; stroke: #000000; stroke-width: 0.8; stroke-linejoin: miter; stroke-linecap: square\"/>\n   </g>\n   <g id=\"patch_43\">\n    <path d=\"M 688.072008 7.2 \nL 794.923072 7.2 \n\" style=\"fill: none; stroke: #000000; stroke-width: 0.8; stroke-linejoin: miter; stroke-linecap: square\"/>\n   </g>\n  </g>\n  <g id=\"axes_7\">\n   <g id=\"patch_44\">\n    <path d=\"M 816.293285 66.178723 \nL 923.144348 66.178723 \nL 923.144348 7.2 \nL 816.293285 7.2 \nz\n\" style=\"fill: #ffffff\"/>\n   </g>\n   <g id=\"patch_45\">\n    <path d=\"M 821.635838 66.178723 \nL 864.376263 66.178723 \nL 864.376263 10.008511 \nL 821.635838 10.008511 \nz\n\" clip-path=\"url(#p92fb8444c0)\" style=\"fill: #3274a1\"/>\n   </g>\n   <g id=\"patch_46\">\n    <path d=\"M 875.06137 66.178723 \nL 917.801795 66.178723 \nL 917.801795 21.811365 \nL 875.06137 21.811365 \nz\n\" clip-path=\"url(#p92fb8444c0)\" style=\"fill: #e1812c\"/>\n   </g>\n   <g id=\"matplotlib.axis_13\">\n    <g id=\"xtick_13\">\n     <g id=\"line2d_25\">\n      <g>\n       <use xlink:href=\"#m53ffd6c531\" x=\"843.006051\" y=\"66.178723\" style=\"stroke: #000000; stroke-width: 0.8\"/>\n      </g>\n     </g>\n     <g id=\"text_37\">\n      <!-- 0.0 -->\n      <g transform=\"translate(835.054488 80.777161) scale(0.1 -0.1)\">\n       <use xlink:href=\"#DejaVuSans-30\"/>\n       <use xlink:href=\"#DejaVuSans-2e\" x=\"63.623047\"/>\n       <use xlink:href=\"#DejaVuSans-30\" x=\"95.410156\"/>\n      </g>\n     </g>\n    </g>\n    <g id=\"xtick_14\">\n     <g id=\"line2d_26\">\n      <g>\n       <use xlink:href=\"#m53ffd6c531\" x=\"896.431582\" y=\"66.178723\" style=\"stroke: #000000; stroke-width: 0.8\"/>\n      </g>\n     </g>\n     <g id=\"text_38\">\n      <!-- 1.0 -->\n      <g transform=\"translate(888.48002 80.777161) scale(0.1 -0.1)\">\n       <use xlink:href=\"#DejaVuSans-31\"/>\n       <use xlink:href=\"#DejaVuSans-2e\" x=\"63.623047\"/>\n       <use xlink:href=\"#DejaVuSans-30\" x=\"95.410156\"/>\n      </g>\n     </g>\n    </g>\n    <g id=\"text_39\">\n     <!-- vomiting -->\n     <g transform=\"translate(847.748504 94.455286) scale(0.1 -0.1)\">\n      <defs>\n       <path id=\"DejaVuSans-67\" d=\"M 2906 1791 \nQ 2906 2416 2648 2759 \nQ 2391 3103 1925 3103 \nQ 1463 3103 1205 2759 \nQ 947 2416 947 1791 \nQ 947 1169 1205 825 \nQ 1463 481 1925 481 \nQ 2391 481 2648 825 \nQ 2906 1169 2906 1791 \nz\nM 3481 434 \nQ 3481 -459 3084 -895 \nQ 2688 -1331 1869 -1331 \nQ 1566 -1331 1297 -1286 \nQ 1028 -1241 775 -1147 \nL 775 -588 \nQ 1028 -725 1275 -790 \nQ 1522 -856 1778 -856 \nQ 2344 -856 2625 -561 \nQ 2906 -266 2906 331 \nL 2906 616 \nQ 2728 306 2450 153 \nQ 2172 0 1784 0 \nQ 1141 0 747 490 \nQ 353 981 353 1791 \nQ 353 2603 747 3093 \nQ 1141 3584 1784 3584 \nQ 2172 3584 2450 3431 \nQ 2728 3278 2906 2969 \nL 2906 3500 \nL 3481 3500 \nL 3481 434 \nz\n\" transform=\"scale(0.015625)\"/>\n      </defs>\n      <use xlink:href=\"#DejaVuSans-76\"/>\n      <use xlink:href=\"#DejaVuSans-6f\" x=\"59.179688\"/>\n      <use xlink:href=\"#DejaVuSans-6d\" x=\"120.361328\"/>\n      <use xlink:href=\"#DejaVuSans-69\" x=\"217.773438\"/>\n      <use xlink:href=\"#DejaVuSans-74\" x=\"245.556641\"/>\n      <use xlink:href=\"#DejaVuSans-69\" x=\"284.765625\"/>\n      <use xlink:href=\"#DejaVuSans-6e\" x=\"312.548828\"/>\n      <use xlink:href=\"#DejaVuSans-67\" x=\"375.927734\"/>\n     </g>\n    </g>\n   </g>\n   <g id=\"matplotlib.axis_14\">\n    <g id=\"ytick_13\">\n     <g id=\"line2d_27\">\n      <g>\n       <use xlink:href=\"#mddf5a59a20\" x=\"816.293285\" y=\"66.178723\" style=\"stroke: #000000; stroke-width: 0.8\"/>\n      </g>\n     </g>\n     <g id=\"text_40\">\n      <!-- 0 -->\n      <g transform=\"translate(802.930785 69.977942) scale(0.1 -0.1)\">\n       <use xlink:href=\"#DejaVuSans-30\"/>\n      </g>\n     </g>\n    </g>\n    <g id=\"ytick_14\">\n     <g id=\"line2d_28\">\n      <g>\n       <use xlink:href=\"#mddf5a59a20\" x=\"816.293285\" y=\"30.627956\" style=\"stroke: #000000; stroke-width: 0.8\"/>\n      </g>\n     </g>\n     <g id=\"text_41\">\n      <!-- 250 -->\n      <g transform=\"translate(790.205785 34.427175) scale(0.1 -0.1)\">\n       <use xlink:href=\"#DejaVuSans-32\"/>\n       <use xlink:href=\"#DejaVuSans-35\" x=\"63.623047\"/>\n       <use xlink:href=\"#DejaVuSans-30\" x=\"127.246094\"/>\n      </g>\n     </g>\n    </g>\n    <g id=\"text_42\">\n     <!-- count -->\n     <g transform=\"translate(784.126097 50.795612) rotate(-90) scale(0.1 -0.1)\">\n      <use xlink:href=\"#DejaVuSans-63\"/>\n      <use xlink:href=\"#DejaVuSans-6f\" x=\"54.980469\"/>\n      <use xlink:href=\"#DejaVuSans-75\" x=\"116.162109\"/>\n      <use xlink:href=\"#DejaVuSans-6e\" x=\"179.541016\"/>\n      <use xlink:href=\"#DejaVuSans-74\" x=\"242.919922\"/>\n     </g>\n    </g>\n   </g>\n   <g id=\"patch_47\">\n    <path d=\"M 816.293285 66.178723 \nL 816.293285 7.2 \n\" style=\"fill: none; stroke: #000000; stroke-width: 0.8; stroke-linejoin: miter; stroke-linecap: square\"/>\n   </g>\n   <g id=\"patch_48\">\n    <path d=\"M 923.144348 66.178723 \nL 923.144348 7.2 \n\" style=\"fill: none; stroke: #000000; stroke-width: 0.8; stroke-linejoin: miter; stroke-linecap: square\"/>\n   </g>\n   <g id=\"patch_49\">\n    <path d=\"M 816.293285 66.178723 \nL 923.144348 66.178723 \n\" style=\"fill: none; stroke: #000000; stroke-width: 0.8; stroke-linejoin: miter; stroke-linecap: square\"/>\n   </g>\n   <g id=\"patch_50\">\n    <path d=\"M 816.293285 7.2 \nL 923.144348 7.2 \n\" style=\"fill: none; stroke: #000000; stroke-width: 0.8; stroke-linejoin: miter; stroke-linecap: square\"/>\n   </g>\n  </g>\n  <g id=\"axes_8\">\n   <g id=\"patch_51\">\n    <path d=\"M 944.514561 66.178723 \nL 1051.365625 66.178723 \nL 1051.365625 7.2 \nL 944.514561 7.2 \nz\n\" style=\"fill: #ffffff\"/>\n   </g>\n   <g id=\"patch_52\">\n    <path d=\"M 949.857114 66.178723 \nL 992.59754 66.178723 \nL 992.59754 10.008511 \nL 949.857114 10.008511 \nz\n\" clip-path=\"url(#p233829869d)\" style=\"fill: #3274a1\"/>\n   </g>\n   <g id=\"patch_53\">\n    <path d=\"M 1003.282646 66.178723 \nL 1046.023072 66.178723 \nL 1046.023072 12.646338 \nL 1003.282646 12.646338 \nz\n\" clip-path=\"url(#p233829869d)\" style=\"fill: #e1812c\"/>\n   </g>\n   <g id=\"matplotlib.axis_15\">\n    <g id=\"xtick_15\">\n     <g id=\"line2d_29\">\n      <g>\n       <use xlink:href=\"#m53ffd6c531\" x=\"971.227327\" y=\"66.178723\" style=\"stroke: #000000; stroke-width: 0.8\"/>\n      </g>\n     </g>\n     <g id=\"text_43\">\n      <!-- 0.0 -->\n      <g transform=\"translate(963.275765 80.777161) scale(0.1 -0.1)\">\n       <use xlink:href=\"#DejaVuSans-30\"/>\n       <use xlink:href=\"#DejaVuSans-2e\" x=\"63.623047\"/>\n       <use xlink:href=\"#DejaVuSans-30\" x=\"95.410156\"/>\n      </g>\n     </g>\n    </g>\n    <g id=\"xtick_16\">\n     <g id=\"line2d_30\">\n      <g>\n       <use xlink:href=\"#m53ffd6c531\" x=\"1024.652859\" y=\"66.178723\" style=\"stroke: #000000; stroke-width: 0.8\"/>\n      </g>\n     </g>\n     <g id=\"text_44\">\n      <!-- 1.0 -->\n      <g transform=\"translate(1016.701297 80.777161) scale(0.1 -0.1)\">\n       <use xlink:href=\"#DejaVuSans-31\"/>\n       <use xlink:href=\"#DejaVuSans-2e\" x=\"63.623047\"/>\n       <use xlink:href=\"#DejaVuSans-30\" x=\"95.410156\"/>\n      </g>\n     </g>\n    </g>\n    <g id=\"text_45\">\n     <!-- rash -->\n     <g transform=\"translate(987.047124 94.455286) scale(0.1 -0.1)\">\n      <use xlink:href=\"#DejaVuSans-72\"/>\n      <use xlink:href=\"#DejaVuSans-61\" x=\"41.113281\"/>\n      <use xlink:href=\"#DejaVuSans-73\" x=\"102.392578\"/>\n      <use xlink:href=\"#DejaVuSans-68\" x=\"154.492188\"/>\n     </g>\n    </g>\n   </g>\n   <g id=\"matplotlib.axis_16\">\n    <g id=\"ytick_15\">\n     <g id=\"line2d_31\">\n      <g>\n       <use xlink:href=\"#mddf5a59a20\" x=\"944.514561\" y=\"66.178723\" style=\"stroke: #000000; stroke-width: 0.8\"/>\n      </g>\n     </g>\n     <g id=\"text_46\">\n      <!-- 0 -->\n      <g transform=\"translate(931.152061 69.977942) scale(0.1 -0.1)\">\n       <use xlink:href=\"#DejaVuSans-30\"/>\n      </g>\n     </g>\n    </g>\n    <g id=\"ytick_16\">\n     <g id=\"line2d_32\">\n      <g>\n       <use xlink:href=\"#mddf5a59a20\" x=\"944.514561\" y=\"35.145457\" style=\"stroke: #000000; stroke-width: 0.8\"/>\n      </g>\n     </g>\n     <g id=\"text_47\">\n      <!-- 200 -->\n      <g transform=\"translate(918.427061 38.944675) scale(0.1 -0.1)\">\n       <use xlink:href=\"#DejaVuSans-32\"/>\n       <use xlink:href=\"#DejaVuSans-30\" x=\"63.623047\"/>\n       <use xlink:href=\"#DejaVuSans-30\" x=\"127.246094\"/>\n      </g>\n     </g>\n    </g>\n    <g id=\"text_48\">\n     <!-- count -->\n     <g transform=\"translate(912.347374 50.795612) rotate(-90) scale(0.1 -0.1)\">\n      <use xlink:href=\"#DejaVuSans-63\"/>\n      <use xlink:href=\"#DejaVuSans-6f\" x=\"54.980469\"/>\n      <use xlink:href=\"#DejaVuSans-75\" x=\"116.162109\"/>\n      <use xlink:href=\"#DejaVuSans-6e\" x=\"179.541016\"/>\n      <use xlink:href=\"#DejaVuSans-74\" x=\"242.919922\"/>\n     </g>\n    </g>\n   </g>\n   <g id=\"patch_54\">\n    <path d=\"M 944.514561 66.178723 \nL 944.514561 7.2 \n\" style=\"fill: none; stroke: #000000; stroke-width: 0.8; stroke-linejoin: miter; stroke-linecap: square\"/>\n   </g>\n   <g id=\"patch_55\">\n    <path d=\"M 1051.365625 66.178723 \nL 1051.365625 7.2 \n\" style=\"fill: none; stroke: #000000; stroke-width: 0.8; stroke-linejoin: miter; stroke-linecap: square\"/>\n   </g>\n   <g id=\"patch_56\">\n    <path d=\"M 944.514561 66.178723 \nL 1051.365625 66.178723 \n\" style=\"fill: none; stroke: #000000; stroke-width: 0.8; stroke-linejoin: miter; stroke-linecap: square\"/>\n   </g>\n   <g id=\"patch_57\">\n    <path d=\"M 944.514561 7.2 \nL 1051.365625 7.2 \n\" style=\"fill: none; stroke: #000000; stroke-width: 0.8; stroke-linejoin: miter; stroke-linecap: square\"/>\n   </g>\n  </g>\n  <g id=\"axes_9\">\n   <g id=\"patch_58\">\n    <path d=\"M 46.965625 136.953191 \nL 153.816689 136.953191 \nL 153.816689 77.974468 \nL 46.965625 77.974468 \nz\n\" style=\"fill: #ffffff\"/>\n   </g>\n   <g id=\"patch_59\">\n    <path d=\"M 52.308178 136.953191 \nL 95.048604 136.953191 \nL 95.048604 80.782979 \nL 52.308178 80.782979 \nz\n\" clip-path=\"url(#p3510bc8a05)\" style=\"fill: #3274a1\"/>\n   </g>\n   <g id=\"patch_60\">\n    <path d=\"M 105.73371 136.953191 \nL 148.474136 136.953191 \nL 148.474136 100.983403 \nL 105.73371 100.983403 \nz\n\" clip-path=\"url(#p3510bc8a05)\" style=\"fill: #e1812c\"/>\n   </g>\n   <g id=\"matplotlib.axis_17\">\n    <g id=\"xtick_17\">\n     <g id=\"line2d_33\">\n      <g>\n       <use xlink:href=\"#m53ffd6c531\" x=\"73.678391\" y=\"136.953191\" style=\"stroke: #000000; stroke-width: 0.8\"/>\n      </g>\n     </g>\n     <g id=\"text_49\">\n      <!-- 0.0 -->\n      <g transform=\"translate(65.726828 151.551629) scale(0.1 -0.1)\">\n       <use xlink:href=\"#DejaVuSans-30\"/>\n       <use xlink:href=\"#DejaVuSans-2e\" x=\"63.623047\"/>\n       <use xlink:href=\"#DejaVuSans-30\" x=\"95.410156\"/>\n      </g>\n     </g>\n    </g>\n    <g id=\"xtick_18\">\n     <g id=\"line2d_34\">\n      <g>\n       <use xlink:href=\"#m53ffd6c531\" x=\"127.103923\" y=\"136.953191\" style=\"stroke: #000000; stroke-width: 0.8\"/>\n      </g>\n     </g>\n     <g id=\"text_50\">\n      <!-- 1.0 -->\n      <g transform=\"translate(119.15236 151.551629) scale(0.1 -0.1)\">\n       <use xlink:href=\"#DejaVuSans-31\"/>\n       <use xlink:href=\"#DejaVuSans-2e\" x=\"63.623047\"/>\n       <use xlink:href=\"#DejaVuSans-30\" x=\"95.410156\"/>\n      </g>\n     </g>\n    </g>\n    <g id=\"text_51\">\n     <!-- diarrhea -->\n     <g transform=\"translate(79.518501 165.229754) scale(0.1 -0.1)\">\n      <use xlink:href=\"#DejaVuSans-64\"/>\n      <use xlink:href=\"#DejaVuSans-69\" x=\"63.476562\"/>\n      <use xlink:href=\"#DejaVuSans-61\" x=\"91.259766\"/>\n      <use xlink:href=\"#DejaVuSans-72\" x=\"152.539062\"/>\n      <use xlink:href=\"#DejaVuSans-72\" x=\"191.902344\"/>\n      <use xlink:href=\"#DejaVuSans-68\" x=\"231.265625\"/>\n      <use xlink:href=\"#DejaVuSans-65\" x=\"294.644531\"/>\n      <use xlink:href=\"#DejaVuSans-61\" x=\"356.167969\"/>\n     </g>\n    </g>\n   </g>\n   <g id=\"matplotlib.axis_18\">\n    <g id=\"ytick_17\">\n     <g id=\"line2d_35\">\n      <g>\n       <use xlink:href=\"#mddf5a59a20\" x=\"46.965625\" y=\"136.953191\" style=\"stroke: #000000; stroke-width: 0.8\"/>\n      </g>\n     </g>\n     <g id=\"text_52\">\n      <!-- 0 -->\n      <g transform=\"translate(33.603125 140.75241) scale(0.1 -0.1)\">\n       <use xlink:href=\"#DejaVuSans-30\"/>\n      </g>\n     </g>\n    </g>\n    <g id=\"ytick_18\">\n     <g id=\"line2d_36\">\n      <g>\n       <use xlink:href=\"#mddf5a59a20\" x=\"46.965625\" y=\"104.371862\" style=\"stroke: #000000; stroke-width: 0.8\"/>\n      </g>\n     </g>\n     <g id=\"text_53\">\n      <!-- 250 -->\n      <g transform=\"translate(20.878125 108.17108) scale(0.1 -0.1)\">\n       <use xlink:href=\"#DejaVuSans-32\"/>\n       <use xlink:href=\"#DejaVuSans-35\" x=\"63.623047\"/>\n       <use xlink:href=\"#DejaVuSans-30\" x=\"127.246094\"/>\n      </g>\n     </g>\n    </g>\n    <g id=\"text_54\">\n     <!-- count -->\n     <g transform=\"translate(14.798438 121.57008) rotate(-90) scale(0.1 -0.1)\">\n      <use xlink:href=\"#DejaVuSans-63\"/>\n      <use xlink:href=\"#DejaVuSans-6f\" x=\"54.980469\"/>\n      <use xlink:href=\"#DejaVuSans-75\" x=\"116.162109\"/>\n      <use xlink:href=\"#DejaVuSans-6e\" x=\"179.541016\"/>\n      <use xlink:href=\"#DejaVuSans-74\" x=\"242.919922\"/>\n     </g>\n    </g>\n   </g>\n   <g id=\"patch_61\">\n    <path d=\"M 46.965625 136.953191 \nL 46.965625 77.974468 \n\" style=\"fill: none; stroke: #000000; stroke-width: 0.8; stroke-linejoin: miter; stroke-linecap: square\"/>\n   </g>\n   <g id=\"patch_62\">\n    <path d=\"M 153.816689 136.953191 \nL 153.816689 77.974468 \n\" style=\"fill: none; stroke: #000000; stroke-width: 0.8; stroke-linejoin: miter; stroke-linecap: square\"/>\n   </g>\n   <g id=\"patch_63\">\n    <path d=\"M 46.965625 136.953191 \nL 153.816689 136.953191 \n\" style=\"fill: none; stroke: #000000; stroke-width: 0.8; stroke-linejoin: miter; stroke-linecap: square\"/>\n   </g>\n   <g id=\"patch_64\">\n    <path d=\"M 46.965625 77.974468 \nL 153.816689 77.974468 \n\" style=\"fill: none; stroke: #000000; stroke-width: 0.8; stroke-linejoin: miter; stroke-linecap: square\"/>\n   </g>\n  </g>\n  <g id=\"axes_10\">\n   <g id=\"patch_65\">\n    <path d=\"M 175.186902 136.953191 \nL 282.037965 136.953191 \nL 282.037965 77.974468 \nL 175.186902 77.974468 \nz\n\" style=\"fill: #ffffff\"/>\n   </g>\n   <g id=\"patch_66\">\n    <path d=\"M 180.529455 136.953191 \nL 223.26988 136.953191 \nL 223.26988 80.782979 \nL 180.529455 80.782979 \nz\n\" clip-path=\"url(#pf76e7bbcbd)\" style=\"fill: #3274a1\"/>\n   </g>\n   <g id=\"patch_67\">\n    <path d=\"M 233.954987 136.953191 \nL 276.695412 136.953191 \nL 276.695412 100.553846 \nL 233.954987 100.553846 \nz\n\" clip-path=\"url(#pf76e7bbcbd)\" style=\"fill: #e1812c\"/>\n   </g>\n   <g id=\"matplotlib.axis_19\">\n    <g id=\"xtick_19\">\n     <g id=\"line2d_37\">\n      <g>\n       <use xlink:href=\"#m53ffd6c531\" x=\"201.899668\" y=\"136.953191\" style=\"stroke: #000000; stroke-width: 0.8\"/>\n      </g>\n     </g>\n     <g id=\"text_55\">\n      <!-- 0.0 -->\n      <g transform=\"translate(193.948105 151.551629) scale(0.1 -0.1)\">\n       <use xlink:href=\"#DejaVuSans-30\"/>\n       <use xlink:href=\"#DejaVuSans-2e\" x=\"63.623047\"/>\n       <use xlink:href=\"#DejaVuSans-30\" x=\"95.410156\"/>\n      </g>\n     </g>\n    </g>\n    <g id=\"xtick_20\">\n     <g id=\"line2d_38\">\n      <g>\n       <use xlink:href=\"#m53ffd6c531\" x=\"255.325199\" y=\"136.953191\" style=\"stroke: #000000; stroke-width: 0.8\"/>\n      </g>\n     </g>\n     <g id=\"text_56\">\n      <!-- 1.0 -->\n      <g transform=\"translate(247.373637 151.551629) scale(0.1 -0.1)\">\n       <use xlink:href=\"#DejaVuSans-31\"/>\n       <use xlink:href=\"#DejaVuSans-2e\" x=\"63.623047\"/>\n       <use xlink:href=\"#DejaVuSans-30\" x=\"95.410156\"/>\n      </g>\n     </g>\n    </g>\n    <g id=\"text_57\">\n     <!-- hypotension -->\n     <g transform=\"translate(197.823371 165.229754) scale(0.1 -0.1)\">\n      <defs>\n       <path id=\"DejaVuSans-79\" d=\"M 2059 -325 \nQ 1816 -950 1584 -1140 \nQ 1353 -1331 966 -1331 \nL 506 -1331 \nL 506 -850 \nL 844 -850 \nQ 1081 -850 1212 -737 \nQ 1344 -625 1503 -206 \nL 1606 56 \nL 191 3500 \nL 800 3500 \nL 1894 763 \nL 2988 3500 \nL 3597 3500 \nL 2059 -325 \nz\n\" transform=\"scale(0.015625)\"/>\n      </defs>\n      <use xlink:href=\"#DejaVuSans-68\"/>\n      <use xlink:href=\"#DejaVuSans-79\" x=\"63.378906\"/>\n      <use xlink:href=\"#DejaVuSans-70\" x=\"122.558594\"/>\n      <use xlink:href=\"#DejaVuSans-6f\" x=\"186.035156\"/>\n      <use xlink:href=\"#DejaVuSans-74\" x=\"247.216797\"/>\n      <use xlink:href=\"#DejaVuSans-65\" x=\"286.425781\"/>\n      <use xlink:href=\"#DejaVuSans-6e\" x=\"347.949219\"/>\n      <use xlink:href=\"#DejaVuSans-73\" x=\"411.328125\"/>\n      <use xlink:href=\"#DejaVuSans-69\" x=\"463.427734\"/>\n      <use xlink:href=\"#DejaVuSans-6f\" x=\"491.210938\"/>\n      <use xlink:href=\"#DejaVuSans-6e\" x=\"552.392578\"/>\n     </g>\n    </g>\n   </g>\n   <g id=\"matplotlib.axis_20\">\n    <g id=\"ytick_19\">\n     <g id=\"line2d_39\">\n      <g>\n       <use xlink:href=\"#mddf5a59a20\" x=\"175.186902\" y=\"136.953191\" style=\"stroke: #000000; stroke-width: 0.8\"/>\n      </g>\n     </g>\n     <g id=\"text_58\">\n      <!-- 0 -->\n      <g transform=\"translate(161.824402 140.75241) scale(0.1 -0.1)\">\n       <use xlink:href=\"#DejaVuSans-30\"/>\n      </g>\n     </g>\n    </g>\n    <g id=\"ytick_20\">\n     <g id=\"line2d_40\">\n      <g>\n       <use xlink:href=\"#mddf5a59a20\" x=\"175.186902\" y=\"104.219967\" style=\"stroke: #000000; stroke-width: 0.8\"/>\n      </g>\n     </g>\n     <g id=\"text_59\">\n      <!-- 250 -->\n      <g transform=\"translate(149.099402 108.019186) scale(0.1 -0.1)\">\n       <use xlink:href=\"#DejaVuSans-32\"/>\n       <use xlink:href=\"#DejaVuSans-35\" x=\"63.623047\"/>\n       <use xlink:href=\"#DejaVuSans-30\" x=\"127.246094\"/>\n      </g>\n     </g>\n    </g>\n    <g id=\"text_60\">\n     <!-- count -->\n     <g transform=\"translate(143.019714 121.57008) rotate(-90) scale(0.1 -0.1)\">\n      <use xlink:href=\"#DejaVuSans-63\"/>\n      <use xlink:href=\"#DejaVuSans-6f\" x=\"54.980469\"/>\n      <use xlink:href=\"#DejaVuSans-75\" x=\"116.162109\"/>\n      <use xlink:href=\"#DejaVuSans-6e\" x=\"179.541016\"/>\n      <use xlink:href=\"#DejaVuSans-74\" x=\"242.919922\"/>\n     </g>\n    </g>\n   </g>\n   <g id=\"patch_68\">\n    <path d=\"M 175.186902 136.953191 \nL 175.186902 77.974468 \n\" style=\"fill: none; stroke: #000000; stroke-width: 0.8; stroke-linejoin: miter; stroke-linecap: square\"/>\n   </g>\n   <g id=\"patch_69\">\n    <path d=\"M 282.037965 136.953191 \nL 282.037965 77.974468 \n\" style=\"fill: none; stroke: #000000; stroke-width: 0.8; stroke-linejoin: miter; stroke-linecap: square\"/>\n   </g>\n   <g id=\"patch_70\">\n    <path d=\"M 175.186902 136.953191 \nL 282.037965 136.953191 \n\" style=\"fill: none; stroke: #000000; stroke-width: 0.8; stroke-linejoin: miter; stroke-linecap: square\"/>\n   </g>\n   <g id=\"patch_71\">\n    <path d=\"M 175.186902 77.974468 \nL 282.037965 77.974468 \n\" style=\"fill: none; stroke: #000000; stroke-width: 0.8; stroke-linejoin: miter; stroke-linecap: square\"/>\n   </g>\n  </g>\n  <g id=\"axes_11\">\n   <g id=\"patch_72\">\n    <path d=\"M 303.408178 136.953191 \nL 410.259242 136.953191 \nL 410.259242 77.974468 \nL 303.408178 77.974468 \nz\n\" style=\"fill: #ffffff\"/>\n   </g>\n   <g id=\"patch_73\">\n    <path d=\"M 308.750731 136.953191 \nL 351.491157 136.953191 \nL 351.491157 80.782979 \nL 308.750731 80.782979 \nz\n\" clip-path=\"url(#p42eb9b9edf)\" style=\"fill: #3274a1\"/>\n   </g>\n   <g id=\"patch_74\">\n    <path d=\"M 362.176263 136.953191 \nL 404.916689 136.953191 \nL 404.916689 102.248483 \nL 362.176263 102.248483 \nz\n\" clip-path=\"url(#p42eb9b9edf)\" style=\"fill: #e1812c\"/>\n   </g>\n   <g id=\"matplotlib.axis_21\">\n    <g id=\"xtick_21\">\n     <g id=\"line2d_41\">\n      <g>\n       <use xlink:href=\"#m53ffd6c531\" x=\"330.120944\" y=\"136.953191\" style=\"stroke: #000000; stroke-width: 0.8\"/>\n      </g>\n     </g>\n     <g id=\"text_61\">\n      <!-- 0.0 -->\n      <g transform=\"translate(322.169382 151.551629) scale(0.1 -0.1)\">\n       <use xlink:href=\"#DejaVuSans-30\"/>\n       <use xlink:href=\"#DejaVuSans-2e\" x=\"63.623047\"/>\n       <use xlink:href=\"#DejaVuSans-30\" x=\"95.410156\"/>\n      </g>\n     </g>\n    </g>\n    <g id=\"xtick_22\">\n     <g id=\"line2d_42\">\n      <g>\n       <use xlink:href=\"#m53ffd6c531\" x=\"383.546476\" y=\"136.953191\" style=\"stroke: #000000; stroke-width: 0.8\"/>\n      </g>\n     </g>\n     <g id=\"text_62\">\n      <!-- 1.0 -->\n      <g transform=\"translate(375.594914 151.551629) scale(0.1 -0.1)\">\n       <use xlink:href=\"#DejaVuSans-31\"/>\n       <use xlink:href=\"#DejaVuSans-2e\" x=\"63.623047\"/>\n       <use xlink:href=\"#DejaVuSans-30\" x=\"95.410156\"/>\n      </g>\n     </g>\n    </g>\n    <g id=\"text_63\">\n     <!-- pleural_effusion -->\n     <g transform=\"translate(317.029023 165.229754) scale(0.1 -0.1)\">\n      <use xlink:href=\"#DejaVuSans-70\"/>\n      <use xlink:href=\"#DejaVuSans-6c\" x=\"63.476562\"/>\n      <use xlink:href=\"#DejaVuSans-65\" x=\"91.259766\"/>\n      <use xlink:href=\"#DejaVuSans-75\" x=\"152.783203\"/>\n      <use xlink:href=\"#DejaVuSans-72\" x=\"216.162109\"/>\n      <use xlink:href=\"#DejaVuSans-61\" x=\"257.275391\"/>\n      <use xlink:href=\"#DejaVuSans-6c\" x=\"318.554688\"/>\n      <use xlink:href=\"#DejaVuSans-5f\" x=\"346.337891\"/>\n      <use xlink:href=\"#DejaVuSans-65\" x=\"396.337891\"/>\n      <use xlink:href=\"#DejaVuSans-66\" x=\"457.861328\"/>\n      <use xlink:href=\"#DejaVuSans-66\" x=\"493.066406\"/>\n      <use xlink:href=\"#DejaVuSans-75\" x=\"528.271484\"/>\n      <use xlink:href=\"#DejaVuSans-73\" x=\"591.650391\"/>\n      <use xlink:href=\"#DejaVuSans-69\" x=\"643.75\"/>\n      <use xlink:href=\"#DejaVuSans-6f\" x=\"671.533203\"/>\n      <use xlink:href=\"#DejaVuSans-6e\" x=\"732.714844\"/>\n     </g>\n    </g>\n   </g>\n   <g id=\"matplotlib.axis_22\">\n    <g id=\"ytick_21\">\n     <g id=\"line2d_43\">\n      <g>\n       <use xlink:href=\"#mddf5a59a20\" x=\"303.408178\" y=\"136.953191\" style=\"stroke: #000000; stroke-width: 0.8\"/>\n      </g>\n     </g>\n     <g id=\"text_64\">\n      <!-- 0 -->\n      <g transform=\"translate(290.045678 140.75241) scale(0.1 -0.1)\">\n       <use xlink:href=\"#DejaVuSans-30\"/>\n      </g>\n     </g>\n    </g>\n    <g id=\"ytick_22\">\n     <g id=\"line2d_44\">\n      <g>\n       <use xlink:href=\"#mddf5a59a20\" x=\"303.408178\" y=\"104.819202\" style=\"stroke: #000000; stroke-width: 0.8\"/>\n      </g>\n     </g>\n     <g id=\"text_65\">\n      <!-- 250 -->\n      <g transform=\"translate(277.320678 108.618421) scale(0.1 -0.1)\">\n       <use xlink:href=\"#DejaVuSans-32\"/>\n       <use xlink:href=\"#DejaVuSans-35\" x=\"63.623047\"/>\n       <use xlink:href=\"#DejaVuSans-30\" x=\"127.246094\"/>\n      </g>\n     </g>\n    </g>\n    <g id=\"text_66\">\n     <!-- count -->\n     <g transform=\"translate(271.240991 121.57008) rotate(-90) scale(0.1 -0.1)\">\n      <use xlink:href=\"#DejaVuSans-63\"/>\n      <use xlink:href=\"#DejaVuSans-6f\" x=\"54.980469\"/>\n      <use xlink:href=\"#DejaVuSans-75\" x=\"116.162109\"/>\n      <use xlink:href=\"#DejaVuSans-6e\" x=\"179.541016\"/>\n      <use xlink:href=\"#DejaVuSans-74\" x=\"242.919922\"/>\n     </g>\n    </g>\n   </g>\n   <g id=\"patch_75\">\n    <path d=\"M 303.408178 136.953191 \nL 303.408178 77.974468 \n\" style=\"fill: none; stroke: #000000; stroke-width: 0.8; stroke-linejoin: miter; stroke-linecap: square\"/>\n   </g>\n   <g id=\"patch_76\">\n    <path d=\"M 410.259242 136.953191 \nL 410.259242 77.974468 \n\" style=\"fill: none; stroke: #000000; stroke-width: 0.8; stroke-linejoin: miter; stroke-linecap: square\"/>\n   </g>\n   <g id=\"patch_77\">\n    <path d=\"M 303.408178 136.953191 \nL 410.259242 136.953191 \n\" style=\"fill: none; stroke: #000000; stroke-width: 0.8; stroke-linejoin: miter; stroke-linecap: square\"/>\n   </g>\n   <g id=\"patch_78\">\n    <path d=\"M 303.408178 77.974468 \nL 410.259242 77.974468 \n\" style=\"fill: none; stroke: #000000; stroke-width: 0.8; stroke-linejoin: miter; stroke-linecap: square\"/>\n   </g>\n  </g>\n  <g id=\"axes_12\">\n   <g id=\"patch_79\">\n    <path d=\"M 431.629455 136.953191 \nL 538.480519 136.953191 \nL 538.480519 77.974468 \nL 431.629455 77.974468 \nz\n\" style=\"fill: #ffffff\"/>\n   </g>\n   <g id=\"patch_80\">\n    <path d=\"M 436.972008 136.953191 \nL 479.712434 136.953191 \nL 479.712434 80.782979 \nL 436.972008 80.782979 \nz\n\" clip-path=\"url(#pe43e3b14ff)\" style=\"fill: #3274a1\"/>\n   </g>\n   <g id=\"patch_81\">\n    <path d=\"M 490.39754 136.953191 \nL 533.137965 136.953191 \nL 533.137965 103.479295 \nL 490.39754 103.479295 \nz\n\" clip-path=\"url(#pe43e3b14ff)\" style=\"fill: #e1812c\"/>\n   </g>\n   <g id=\"matplotlib.axis_23\">\n    <g id=\"xtick_23\">\n     <g id=\"line2d_45\">\n      <g>\n       <use xlink:href=\"#m53ffd6c531\" x=\"458.342221\" y=\"136.953191\" style=\"stroke: #000000; stroke-width: 0.8\"/>\n      </g>\n     </g>\n     <g id=\"text_67\">\n      <!-- 0.0 -->\n      <g transform=\"translate(450.390658 151.551629) scale(0.1 -0.1)\">\n       <use xlink:href=\"#DejaVuSans-30\"/>\n       <use xlink:href=\"#DejaVuSans-2e\" x=\"63.623047\"/>\n       <use xlink:href=\"#DejaVuSans-30\" x=\"95.410156\"/>\n      </g>\n     </g>\n    </g>\n    <g id=\"xtick_24\">\n     <g id=\"line2d_46\">\n      <g>\n       <use xlink:href=\"#m53ffd6c531\" x=\"511.767753\" y=\"136.953191\" style=\"stroke: #000000; stroke-width: 0.8\"/>\n      </g>\n     </g>\n     <g id=\"text_68\">\n      <!-- 1.0 -->\n      <g transform=\"translate(503.81619 151.551629) scale(0.1 -0.1)\">\n       <use xlink:href=\"#DejaVuSans-31\"/>\n       <use xlink:href=\"#DejaVuSans-2e\" x=\"63.623047\"/>\n       <use xlink:href=\"#DejaVuSans-30\" x=\"95.410156\"/>\n      </g>\n     </g>\n    </g>\n    <g id=\"text_69\">\n     <!-- ascites -->\n     <g transform=\"translate(467.606549 165.229754) scale(0.1 -0.1)\">\n      <use xlink:href=\"#DejaVuSans-61\"/>\n      <use xlink:href=\"#DejaVuSans-73\" x=\"61.279297\"/>\n      <use xlink:href=\"#DejaVuSans-63\" x=\"113.378906\"/>\n      <use xlink:href=\"#DejaVuSans-69\" x=\"168.359375\"/>\n      <use xlink:href=\"#DejaVuSans-74\" x=\"196.142578\"/>\n      <use xlink:href=\"#DejaVuSans-65\" x=\"235.351562\"/>\n      <use xlink:href=\"#DejaVuSans-73\" x=\"296.875\"/>\n     </g>\n    </g>\n   </g>\n   <g id=\"matplotlib.axis_24\">\n    <g id=\"ytick_23\">\n     <g id=\"line2d_47\">\n      <g>\n       <use xlink:href=\"#mddf5a59a20\" x=\"431.629455\" y=\"136.953191\" style=\"stroke: #000000; stroke-width: 0.8\"/>\n      </g>\n     </g>\n     <g id=\"text_70\">\n      <!-- 0 -->\n      <g transform=\"translate(418.266955 140.75241) scale(0.1 -0.1)\">\n       <use xlink:href=\"#DejaVuSans-30\"/>\n      </g>\n     </g>\n    </g>\n    <g id=\"ytick_24\">\n     <g id=\"line2d_48\">\n      <g>\n       <use xlink:href=\"#mddf5a59a20\" x=\"431.629455\" y=\"105.254426\" style=\"stroke: #000000; stroke-width: 0.8\"/>\n      </g>\n     </g>\n     <g id=\"text_71\">\n      <!-- 250 -->\n      <g transform=\"translate(405.541955 109.053645) scale(0.1 -0.1)\">\n       <use xlink:href=\"#DejaVuSans-32\"/>\n       <use xlink:href=\"#DejaVuSans-35\" x=\"63.623047\"/>\n       <use xlink:href=\"#DejaVuSans-30\" x=\"127.246094\"/>\n      </g>\n     </g>\n    </g>\n    <g id=\"text_72\">\n     <!-- count -->\n     <g transform=\"translate(399.462267 121.57008) rotate(-90) scale(0.1 -0.1)\">\n      <use xlink:href=\"#DejaVuSans-63\"/>\n      <use xlink:href=\"#DejaVuSans-6f\" x=\"54.980469\"/>\n      <use xlink:href=\"#DejaVuSans-75\" x=\"116.162109\"/>\n      <use xlink:href=\"#DejaVuSans-6e\" x=\"179.541016\"/>\n      <use xlink:href=\"#DejaVuSans-74\" x=\"242.919922\"/>\n     </g>\n    </g>\n   </g>\n   <g id=\"patch_82\">\n    <path d=\"M 431.629455 136.953191 \nL 431.629455 77.974468 \n\" style=\"fill: none; stroke: #000000; stroke-width: 0.8; stroke-linejoin: miter; stroke-linecap: square\"/>\n   </g>\n   <g id=\"patch_83\">\n    <path d=\"M 538.480519 136.953191 \nL 538.480519 77.974468 \n\" style=\"fill: none; stroke: #000000; stroke-width: 0.8; stroke-linejoin: miter; stroke-linecap: square\"/>\n   </g>\n   <g id=\"patch_84\">\n    <path d=\"M 431.629455 136.953191 \nL 538.480519 136.953191 \n\" style=\"fill: none; stroke: #000000; stroke-width: 0.8; stroke-linejoin: miter; stroke-linecap: square\"/>\n   </g>\n   <g id=\"patch_85\">\n    <path d=\"M 431.629455 77.974468 \nL 538.480519 77.974468 \n\" style=\"fill: none; stroke: #000000; stroke-width: 0.8; stroke-linejoin: miter; stroke-linecap: square\"/>\n   </g>\n  </g>\n  <g id=\"axes_13\">\n   <g id=\"patch_86\">\n    <path d=\"M 559.850731 136.953191 \nL 666.701795 136.953191 \nL 666.701795 77.974468 \nL 559.850731 77.974468 \nz\n\" style=\"fill: #ffffff\"/>\n   </g>\n   <g id=\"patch_87\">\n    <path d=\"M 565.193285 136.953191 \nL 607.93371 136.953191 \nL 607.93371 80.782979 \nL 565.193285 80.782979 \nz\n\" clip-path=\"url(#p886037f11d)\" style=\"fill: #3274a1\"/>\n   </g>\n   <g id=\"patch_88\">\n    <path d=\"M 618.618816 136.953191 \nL 661.359242 136.953191 \nL 661.359242 105.264244 \nL 618.618816 105.264244 \nz\n\" clip-path=\"url(#p886037f11d)\" style=\"fill: #e1812c\"/>\n   </g>\n   <g id=\"matplotlib.axis_25\">\n    <g id=\"xtick_25\">\n     <g id=\"line2d_49\">\n      <g>\n       <use xlink:href=\"#m53ffd6c531\" x=\"586.563497\" y=\"136.953191\" style=\"stroke: #000000; stroke-width: 0.8\"/>\n      </g>\n     </g>\n     <g id=\"text_73\">\n      <!-- 0.0 -->\n      <g transform=\"translate(578.611935 151.551629) scale(0.1 -0.1)\">\n       <use xlink:href=\"#DejaVuSans-30\"/>\n       <use xlink:href=\"#DejaVuSans-2e\" x=\"63.623047\"/>\n       <use xlink:href=\"#DejaVuSans-30\" x=\"95.410156\"/>\n      </g>\n     </g>\n    </g>\n    <g id=\"xtick_26\">\n     <g id=\"line2d_50\">\n      <g>\n       <use xlink:href=\"#m53ffd6c531\" x=\"639.989029\" y=\"136.953191\" style=\"stroke: #000000; stroke-width: 0.8\"/>\n      </g>\n     </g>\n     <g id=\"text_74\">\n      <!-- 1.0 -->\n      <g transform=\"translate(632.037467 151.551629) scale(0.1 -0.1)\">\n       <use xlink:href=\"#DejaVuSans-31\"/>\n       <use xlink:href=\"#DejaVuSans-2e\" x=\"63.623047\"/>\n       <use xlink:href=\"#DejaVuSans-30\" x=\"95.410156\"/>\n      </g>\n     </g>\n    </g>\n    <g id=\"text_75\">\n     <!-- gastro_bleeding -->\n     <g transform=\"translate(573.348138 165.229754) scale(0.1 -0.1)\">\n      <use xlink:href=\"#DejaVuSans-67\"/>\n      <use xlink:href=\"#DejaVuSans-61\" x=\"63.476562\"/>\n      <use xlink:href=\"#DejaVuSans-73\" x=\"124.755859\"/>\n      <use xlink:href=\"#DejaVuSans-74\" x=\"176.855469\"/>\n      <use xlink:href=\"#DejaVuSans-72\" x=\"216.064453\"/>\n      <use xlink:href=\"#DejaVuSans-6f\" x=\"254.927734\"/>\n      <use xlink:href=\"#DejaVuSans-5f\" x=\"316.109375\"/>\n      <use xlink:href=\"#DejaVuSans-62\" x=\"366.109375\"/>\n      <use xlink:href=\"#DejaVuSans-6c\" x=\"429.585938\"/>\n      <use xlink:href=\"#DejaVuSans-65\" x=\"457.369141\"/>\n      <use xlink:href=\"#DejaVuSans-65\" x=\"518.892578\"/>\n      <use xlink:href=\"#DejaVuSans-64\" x=\"580.416016\"/>\n      <use xlink:href=\"#DejaVuSans-69\" x=\"643.892578\"/>\n      <use xlink:href=\"#DejaVuSans-6e\" x=\"671.675781\"/>\n      <use xlink:href=\"#DejaVuSans-67\" x=\"735.054688\"/>\n     </g>\n    </g>\n   </g>\n   <g id=\"matplotlib.axis_26\">\n    <g id=\"ytick_25\">\n     <g id=\"line2d_51\">\n      <g>\n       <use xlink:href=\"#mddf5a59a20\" x=\"559.850731\" y=\"136.953191\" style=\"stroke: #000000; stroke-width: 0.8\"/>\n      </g>\n     </g>\n     <g id=\"text_76\">\n      <!-- 0 -->\n      <g transform=\"translate(546.488231 140.75241) scale(0.1 -0.1)\">\n       <use xlink:href=\"#DejaVuSans-30\"/>\n      </g>\n     </g>\n    </g>\n    <g id=\"ytick_26\">\n     <g id=\"line2d_52\">\n      <g>\n       <use xlink:href=\"#mddf5a59a20\" x=\"559.850731\" y=\"105.885596\" style=\"stroke: #000000; stroke-width: 0.8\"/>\n      </g>\n     </g>\n     <g id=\"text_77\">\n      <!-- 250 -->\n      <g transform=\"translate(533.763231 109.684815) scale(0.1 -0.1)\">\n       <use xlink:href=\"#DejaVuSans-32\"/>\n       <use xlink:href=\"#DejaVuSans-35\" x=\"63.623047\"/>\n       <use xlink:href=\"#DejaVuSans-30\" x=\"127.246094\"/>\n      </g>\n     </g>\n    </g>\n    <g id=\"text_78\">\n     <!-- count -->\n     <g transform=\"translate(527.683544 121.57008) rotate(-90) scale(0.1 -0.1)\">\n      <use xlink:href=\"#DejaVuSans-63\"/>\n      <use xlink:href=\"#DejaVuSans-6f\" x=\"54.980469\"/>\n      <use xlink:href=\"#DejaVuSans-75\" x=\"116.162109\"/>\n      <use xlink:href=\"#DejaVuSans-6e\" x=\"179.541016\"/>\n      <use xlink:href=\"#DejaVuSans-74\" x=\"242.919922\"/>\n     </g>\n    </g>\n   </g>\n   <g id=\"patch_89\">\n    <path d=\"M 559.850731 136.953191 \nL 559.850731 77.974468 \n\" style=\"fill: none; stroke: #000000; stroke-width: 0.8; stroke-linejoin: miter; stroke-linecap: square\"/>\n   </g>\n   <g id=\"patch_90\">\n    <path d=\"M 666.701795 136.953191 \nL 666.701795 77.974468 \n\" style=\"fill: none; stroke: #000000; stroke-width: 0.8; stroke-linejoin: miter; stroke-linecap: square\"/>\n   </g>\n   <g id=\"patch_91\">\n    <path d=\"M 559.850731 136.953191 \nL 666.701795 136.953191 \n\" style=\"fill: none; stroke: #000000; stroke-width: 0.8; stroke-linejoin: miter; stroke-linecap: square\"/>\n   </g>\n   <g id=\"patch_92\">\n    <path d=\"M 559.850731 77.974468 \nL 666.701795 77.974468 \n\" style=\"fill: none; stroke: #000000; stroke-width: 0.8; stroke-linejoin: miter; stroke-linecap: square\"/>\n   </g>\n  </g>\n  <g id=\"axes_14\">\n   <g id=\"patch_93\">\n    <path d=\"M 688.072008 136.953191 \nL 794.923072 136.953191 \nL 794.923072 77.974468 \nL 688.072008 77.974468 \nz\n\" style=\"fill: #ffffff\"/>\n   </g>\n   <g id=\"patch_94\">\n    <path d=\"M 693.414561 136.953191 \nL 736.154987 136.953191 \nL 736.154987 80.782979 \nL 693.414561 80.782979 \nz\n\" clip-path=\"url(#p525f5c8686)\" style=\"fill: #3274a1\"/>\n   </g>\n   <g id=\"patch_95\">\n    <path d=\"M 746.840093 136.953191 \nL 789.580519 136.953191 \nL 789.580519 108.086273 \nL 746.840093 108.086273 \nz\n\" clip-path=\"url(#p525f5c8686)\" style=\"fill: #e1812c\"/>\n   </g>\n   <g id=\"matplotlib.axis_27\">\n    <g id=\"xtick_27\">\n     <g id=\"line2d_53\">\n      <g>\n       <use xlink:href=\"#m53ffd6c531\" x=\"714.784774\" y=\"136.953191\" style=\"stroke: #000000; stroke-width: 0.8\"/>\n      </g>\n     </g>\n     <g id=\"text_79\">\n      <!-- 0.0 -->\n      <g transform=\"translate(706.833211 151.551629) scale(0.1 -0.1)\">\n       <use xlink:href=\"#DejaVuSans-30\"/>\n       <use xlink:href=\"#DejaVuSans-2e\" x=\"63.623047\"/>\n       <use xlink:href=\"#DejaVuSans-30\" x=\"95.410156\"/>\n      </g>\n     </g>\n    </g>\n    <g id=\"xtick_28\">\n     <g id=\"line2d_54\">\n      <g>\n       <use xlink:href=\"#m53ffd6c531\" x=\"768.210306\" y=\"136.953191\" style=\"stroke: #000000; stroke-width: 0.8\"/>\n      </g>\n     </g>\n     <g id=\"text_80\">\n      <!-- 1.0 -->\n      <g transform=\"translate(760.258743 151.551629) scale(0.1 -0.1)\">\n       <use xlink:href=\"#DejaVuSans-31\"/>\n       <use xlink:href=\"#DejaVuSans-2e\" x=\"63.623047\"/>\n       <use xlink:href=\"#DejaVuSans-30\" x=\"95.410156\"/>\n      </g>\n     </g>\n    </g>\n    <g id=\"text_81\">\n     <!-- swelling -->\n     <g transform=\"translate(721.217071 165.229754) scale(0.1 -0.1)\">\n      <defs>\n       <path id=\"DejaVuSans-77\" d=\"M 269 3500 \nL 844 3500 \nL 1563 769 \nL 2278 3500 \nL 2956 3500 \nL 3675 769 \nL 4391 3500 \nL 4966 3500 \nL 4050 0 \nL 3372 0 \nL 2619 2869 \nL 1863 0 \nL 1184 0 \nL 269 3500 \nz\n\" transform=\"scale(0.015625)\"/>\n      </defs>\n      <use xlink:href=\"#DejaVuSans-73\"/>\n      <use xlink:href=\"#DejaVuSans-77\" x=\"52.099609\"/>\n      <use xlink:href=\"#DejaVuSans-65\" x=\"133.886719\"/>\n      <use xlink:href=\"#DejaVuSans-6c\" x=\"195.410156\"/>\n      <use xlink:href=\"#DejaVuSans-6c\" x=\"223.193359\"/>\n      <use xlink:href=\"#DejaVuSans-69\" x=\"250.976562\"/>\n      <use xlink:href=\"#DejaVuSans-6e\" x=\"278.759766\"/>\n      <use xlink:href=\"#DejaVuSans-67\" x=\"342.138672\"/>\n     </g>\n    </g>\n   </g>\n   <g id=\"matplotlib.axis_28\">\n    <g id=\"ytick_27\">\n     <g id=\"line2d_55\">\n      <g>\n       <use xlink:href=\"#mddf5a59a20\" x=\"688.072008\" y=\"136.953191\" style=\"stroke: #000000; stroke-width: 0.8\"/>\n      </g>\n     </g>\n     <g id=\"text_82\">\n      <!-- 0 -->\n      <g transform=\"translate(674.709508 140.75241) scale(0.1 -0.1)\">\n       <use xlink:href=\"#DejaVuSans-30\"/>\n      </g>\n     </g>\n    </g>\n    <g id=\"ytick_28\">\n     <g id=\"line2d_56\">\n      <g>\n       <use xlink:href=\"#mddf5a59a20\" x=\"688.072008\" y=\"106.883484\" style=\"stroke: #000000; stroke-width: 0.8\"/>\n      </g>\n     </g>\n     <g id=\"text_83\">\n      <!-- 250 -->\n      <g transform=\"translate(661.984508 110.682703) scale(0.1 -0.1)\">\n       <use xlink:href=\"#DejaVuSans-32\"/>\n       <use xlink:href=\"#DejaVuSans-35\" x=\"63.623047\"/>\n       <use xlink:href=\"#DejaVuSans-30\" x=\"127.246094\"/>\n      </g>\n     </g>\n    </g>\n    <g id=\"text_84\">\n     <!-- count -->\n     <g transform=\"translate(655.90482 121.57008) rotate(-90) scale(0.1 -0.1)\">\n      <use xlink:href=\"#DejaVuSans-63\"/>\n      <use xlink:href=\"#DejaVuSans-6f\" x=\"54.980469\"/>\n      <use xlink:href=\"#DejaVuSans-75\" x=\"116.162109\"/>\n      <use xlink:href=\"#DejaVuSans-6e\" x=\"179.541016\"/>\n      <use xlink:href=\"#DejaVuSans-74\" x=\"242.919922\"/>\n     </g>\n    </g>\n   </g>\n   <g id=\"patch_96\">\n    <path d=\"M 688.072008 136.953191 \nL 688.072008 77.974468 \n\" style=\"fill: none; stroke: #000000; stroke-width: 0.8; stroke-linejoin: miter; stroke-linecap: square\"/>\n   </g>\n   <g id=\"patch_97\">\n    <path d=\"M 794.923072 136.953191 \nL 794.923072 77.974468 \n\" style=\"fill: none; stroke: #000000; stroke-width: 0.8; stroke-linejoin: miter; stroke-linecap: square\"/>\n   </g>\n   <g id=\"patch_98\">\n    <path d=\"M 688.072008 136.953191 \nL 794.923072 136.953191 \n\" style=\"fill: none; stroke: #000000; stroke-width: 0.8; stroke-linejoin: miter; stroke-linecap: square\"/>\n   </g>\n   <g id=\"patch_99\">\n    <path d=\"M 688.072008 77.974468 \nL 794.923072 77.974468 \n\" style=\"fill: none; stroke: #000000; stroke-width: 0.8; stroke-linejoin: miter; stroke-linecap: square\"/>\n   </g>\n  </g>\n  <g id=\"axes_15\">\n   <g id=\"patch_100\">\n    <path d=\"M 816.293285 136.953191 \nL 923.144348 136.953191 \nL 923.144348 77.974468 \nL 816.293285 77.974468 \nz\n\" style=\"fill: #ffffff\"/>\n   </g>\n   <g id=\"patch_101\">\n    <path d=\"M 821.635838 136.953191 \nL 864.376263 136.953191 \nL 864.376263 80.782979 \nL 821.635838 80.782979 \nz\n\" clip-path=\"url(#pcb54634625)\" style=\"fill: #3274a1\"/>\n   </g>\n   <g id=\"patch_102\">\n    <path d=\"M 875.06137 136.953191 \nL 917.801795 136.953191 \nL 917.801795 102.662492 \nL 875.06137 102.662492 \nz\n\" clip-path=\"url(#pcb54634625)\" style=\"fill: #e1812c\"/>\n   </g>\n   <g id=\"matplotlib.axis_29\">\n    <g id=\"xtick_29\">\n     <g id=\"line2d_57\">\n      <g>\n       <use xlink:href=\"#m53ffd6c531\" x=\"843.006051\" y=\"136.953191\" style=\"stroke: #000000; stroke-width: 0.8\"/>\n      </g>\n     </g>\n     <g id=\"text_85\">\n      <!-- 0.0 -->\n      <g transform=\"translate(835.054488 151.551629) scale(0.1 -0.1)\">\n       <use xlink:href=\"#DejaVuSans-30\"/>\n       <use xlink:href=\"#DejaVuSans-2e\" x=\"63.623047\"/>\n       <use xlink:href=\"#DejaVuSans-30\" x=\"95.410156\"/>\n      </g>\n     </g>\n    </g>\n    <g id=\"xtick_30\">\n     <g id=\"line2d_58\">\n      <g>\n       <use xlink:href=\"#m53ffd6c531\" x=\"896.431582\" y=\"136.953191\" style=\"stroke: #000000; stroke-width: 0.8\"/>\n      </g>\n     </g>\n     <g id=\"text_86\">\n      <!-- 1.0 -->\n      <g transform=\"translate(888.48002 151.551629) scale(0.1 -0.1)\">\n       <use xlink:href=\"#DejaVuSans-31\"/>\n       <use xlink:href=\"#DejaVuSans-2e\" x=\"63.623047\"/>\n       <use xlink:href=\"#DejaVuSans-30\" x=\"95.410156\"/>\n      </g>\n     </g>\n    </g>\n    <g id=\"text_87\">\n     <!-- nausea -->\n     <g transform=\"translate(851.571941 165.229754) scale(0.1 -0.1)\">\n      <use xlink:href=\"#DejaVuSans-6e\"/>\n      <use xlink:href=\"#DejaVuSans-61\" x=\"63.378906\"/>\n      <use xlink:href=\"#DejaVuSans-75\" x=\"124.658203\"/>\n      <use xlink:href=\"#DejaVuSans-73\" x=\"188.037109\"/>\n      <use xlink:href=\"#DejaVuSans-65\" x=\"240.136719\"/>\n      <use xlink:href=\"#DejaVuSans-61\" x=\"301.660156\"/>\n     </g>\n    </g>\n   </g>\n   <g id=\"matplotlib.axis_30\">\n    <g id=\"ytick_29\">\n     <g id=\"line2d_59\">\n      <g>\n       <use xlink:href=\"#mddf5a59a20\" x=\"816.293285\" y=\"136.953191\" style=\"stroke: #000000; stroke-width: 0.8\"/>\n      </g>\n     </g>\n     <g id=\"text_88\">\n      <!-- 0 -->\n      <g transform=\"translate(802.930785 140.75241) scale(0.1 -0.1)\">\n       <use xlink:href=\"#DejaVuSans-30\"/>\n      </g>\n     </g>\n    </g>\n    <g id=\"ytick_30\">\n     <g id=\"line2d_60\">\n      <g>\n       <use xlink:href=\"#mddf5a59a20\" x=\"816.293285\" y=\"104.965599\" style=\"stroke: #000000; stroke-width: 0.8\"/>\n      </g>\n     </g>\n     <g id=\"text_89\">\n      <!-- 250 -->\n      <g transform=\"translate(790.205785 108.764818) scale(0.1 -0.1)\">\n       <use xlink:href=\"#DejaVuSans-32\"/>\n       <use xlink:href=\"#DejaVuSans-35\" x=\"63.623047\"/>\n       <use xlink:href=\"#DejaVuSans-30\" x=\"127.246094\"/>\n      </g>\n     </g>\n    </g>\n    <g id=\"text_90\">\n     <!-- count -->\n     <g transform=\"translate(784.126097 121.57008) rotate(-90) scale(0.1 -0.1)\">\n      <use xlink:href=\"#DejaVuSans-63\"/>\n      <use xlink:href=\"#DejaVuSans-6f\" x=\"54.980469\"/>\n      <use xlink:href=\"#DejaVuSans-75\" x=\"116.162109\"/>\n      <use xlink:href=\"#DejaVuSans-6e\" x=\"179.541016\"/>\n      <use xlink:href=\"#DejaVuSans-74\" x=\"242.919922\"/>\n     </g>\n    </g>\n   </g>\n   <g id=\"patch_103\">\n    <path d=\"M 816.293285 136.953191 \nL 816.293285 77.974468 \n\" style=\"fill: none; stroke: #000000; stroke-width: 0.8; stroke-linejoin: miter; stroke-linecap: square\"/>\n   </g>\n   <g id=\"patch_104\">\n    <path d=\"M 923.144348 136.953191 \nL 923.144348 77.974468 \n\" style=\"fill: none; stroke: #000000; stroke-width: 0.8; stroke-linejoin: miter; stroke-linecap: square\"/>\n   </g>\n   <g id=\"patch_105\">\n    <path d=\"M 816.293285 136.953191 \nL 923.144348 136.953191 \n\" style=\"fill: none; stroke: #000000; stroke-width: 0.8; stroke-linejoin: miter; stroke-linecap: square\"/>\n   </g>\n   <g id=\"patch_106\">\n    <path d=\"M 816.293285 77.974468 \nL 923.144348 77.974468 \n\" style=\"fill: none; stroke: #000000; stroke-width: 0.8; stroke-linejoin: miter; stroke-linecap: square\"/>\n   </g>\n  </g>\n  <g id=\"axes_16\">\n   <g id=\"patch_107\">\n    <path d=\"M 944.514561 136.953191 \nL 1051.365625 136.953191 \nL 1051.365625 77.974468 \nL 944.514561 77.974468 \nz\n\" style=\"fill: #ffffff\"/>\n   </g>\n   <g id=\"patch_108\">\n    <path d=\"M 949.857114 136.953191 \nL 992.59754 136.953191 \nL 992.59754 80.782979 \nL 949.857114 80.782979 \nz\n\" clip-path=\"url(#pd9fa2cfc0f)\" style=\"fill: #3274a1\"/>\n   </g>\n   <g id=\"patch_109\">\n    <path d=\"M 1003.282646 136.953191 \nL 1046.023072 136.953191 \nL 1046.023072 100.337562 \nL 1003.282646 100.337562 \nz\n\" clip-path=\"url(#pd9fa2cfc0f)\" style=\"fill: #e1812c\"/>\n   </g>\n   <g id=\"matplotlib.axis_31\">\n    <g id=\"xtick_31\">\n     <g id=\"line2d_61\">\n      <g>\n       <use xlink:href=\"#m53ffd6c531\" x=\"971.227327\" y=\"136.953191\" style=\"stroke: #000000; stroke-width: 0.8\"/>\n      </g>\n     </g>\n     <g id=\"text_91\">\n      <!-- 0.0 -->\n      <g transform=\"translate(963.275765 151.551629) scale(0.1 -0.1)\">\n       <use xlink:href=\"#DejaVuSans-30\"/>\n       <use xlink:href=\"#DejaVuSans-2e\" x=\"63.623047\"/>\n       <use xlink:href=\"#DejaVuSans-30\" x=\"95.410156\"/>\n      </g>\n     </g>\n    </g>\n    <g id=\"xtick_32\">\n     <g id=\"line2d_62\">\n      <g>\n       <use xlink:href=\"#m53ffd6c531\" x=\"1024.652859\" y=\"136.953191\" style=\"stroke: #000000; stroke-width: 0.8\"/>\n      </g>\n     </g>\n     <g id=\"text_92\">\n      <!-- 1.0 -->\n      <g transform=\"translate(1016.701297 151.551629) scale(0.1 -0.1)\">\n       <use xlink:href=\"#DejaVuSans-31\"/>\n       <use xlink:href=\"#DejaVuSans-2e\" x=\"63.623047\"/>\n       <use xlink:href=\"#DejaVuSans-30\" x=\"95.410156\"/>\n      </g>\n     </g>\n    </g>\n    <g id=\"text_93\">\n     <!-- chills -->\n     <g transform=\"translate(985.250249 165.229754) scale(0.1 -0.1)\">\n      <use xlink:href=\"#DejaVuSans-63\"/>\n      <use xlink:href=\"#DejaVuSans-68\" x=\"54.980469\"/>\n      <use xlink:href=\"#DejaVuSans-69\" x=\"118.359375\"/>\n      <use xlink:href=\"#DejaVuSans-6c\" x=\"146.142578\"/>\n      <use xlink:href=\"#DejaVuSans-6c\" x=\"173.925781\"/>\n      <use xlink:href=\"#DejaVuSans-73\" x=\"201.708984\"/>\n     </g>\n    </g>\n   </g>\n   <g id=\"matplotlib.axis_32\">\n    <g id=\"ytick_31\">\n     <g id=\"line2d_63\">\n      <g>\n       <use xlink:href=\"#mddf5a59a20\" x=\"944.514561\" y=\"136.953191\" style=\"stroke: #000000; stroke-width: 0.8\"/>\n      </g>\n     </g>\n     <g id=\"text_94\">\n      <!-- 0 -->\n      <g transform=\"translate(931.152061 140.75241) scale(0.1 -0.1)\">\n       <use xlink:href=\"#DejaVuSans-30\"/>\n      </g>\n     </g>\n    </g>\n    <g id=\"ytick_32\">\n     <g id=\"line2d_64\">\n      <g>\n       <use xlink:href=\"#mddf5a59a20\" x=\"944.514561\" y=\"104.143488\" style=\"stroke: #000000; stroke-width: 0.8\"/>\n      </g>\n     </g>\n     <g id=\"text_95\">\n      <!-- 250 -->\n      <g transform=\"translate(918.427061 107.942707) scale(0.1 -0.1)\">\n       <use xlink:href=\"#DejaVuSans-32\"/>\n       <use xlink:href=\"#DejaVuSans-35\" x=\"63.623047\"/>\n       <use xlink:href=\"#DejaVuSans-30\" x=\"127.246094\"/>\n      </g>\n     </g>\n    </g>\n    <g id=\"text_96\">\n     <!-- count -->\n     <g transform=\"translate(912.347374 121.57008) rotate(-90) scale(0.1 -0.1)\">\n      <use xlink:href=\"#DejaVuSans-63\"/>\n      <use xlink:href=\"#DejaVuSans-6f\" x=\"54.980469\"/>\n      <use xlink:href=\"#DejaVuSans-75\" x=\"116.162109\"/>\n      <use xlink:href=\"#DejaVuSans-6e\" x=\"179.541016\"/>\n      <use xlink:href=\"#DejaVuSans-74\" x=\"242.919922\"/>\n     </g>\n    </g>\n   </g>\n   <g id=\"patch_110\">\n    <path d=\"M 944.514561 136.953191 \nL 944.514561 77.974468 \n\" style=\"fill: none; stroke: #000000; stroke-width: 0.8; stroke-linejoin: miter; stroke-linecap: square\"/>\n   </g>\n   <g id=\"patch_111\">\n    <path d=\"M 1051.365625 136.953191 \nL 1051.365625 77.974468 \n\" style=\"fill: none; stroke: #000000; stroke-width: 0.8; stroke-linejoin: miter; stroke-linecap: square\"/>\n   </g>\n   <g id=\"patch_112\">\n    <path d=\"M 944.514561 136.953191 \nL 1051.365625 136.953191 \n\" style=\"fill: none; stroke: #000000; stroke-width: 0.8; stroke-linejoin: miter; stroke-linecap: square\"/>\n   </g>\n   <g id=\"patch_113\">\n    <path d=\"M 944.514561 77.974468 \nL 1051.365625 77.974468 \n\" style=\"fill: none; stroke: #000000; stroke-width: 0.8; stroke-linejoin: miter; stroke-linecap: square\"/>\n   </g>\n  </g>\n  <g id=\"axes_17\">\n   <g id=\"patch_114\">\n    <path d=\"M 46.965625 207.72766 \nL 153.816689 207.72766 \nL 153.816689 148.748936 \nL 46.965625 148.748936 \nz\n\" style=\"fill: #ffffff\"/>\n   </g>\n   <g id=\"patch_115\">\n    <path d=\"M 52.308178 207.72766 \nL 95.048604 207.72766 \nL 95.048604 151.557447 \nL 52.308178 151.557447 \nz\n\" clip-path=\"url(#p2c8e801f46)\" style=\"fill: #3274a1\"/>\n   </g>\n   <g id=\"patch_116\">\n    <path d=\"M 105.73371 207.72766 \nL 148.474136 207.72766 \nL 148.474136 176.232662 \nL 105.73371 176.232662 \nz\n\" clip-path=\"url(#p2c8e801f46)\" style=\"fill: #e1812c\"/>\n   </g>\n   <g id=\"matplotlib.axis_33\">\n    <g id=\"xtick_33\">\n     <g id=\"line2d_65\">\n      <g>\n       <use xlink:href=\"#m53ffd6c531\" x=\"73.678391\" y=\"207.72766\" style=\"stroke: #000000; stroke-width: 0.8\"/>\n      </g>\n     </g>\n     <g id=\"text_97\">\n      <!-- 0.0 -->\n      <g transform=\"translate(65.726828 222.326097) scale(0.1 -0.1)\">\n       <use xlink:href=\"#DejaVuSans-30\"/>\n       <use xlink:href=\"#DejaVuSans-2e\" x=\"63.623047\"/>\n       <use xlink:href=\"#DejaVuSans-30\" x=\"95.410156\"/>\n      </g>\n     </g>\n    </g>\n    <g id=\"xtick_34\">\n     <g id=\"line2d_66\">\n      <g>\n       <use xlink:href=\"#m53ffd6c531\" x=\"127.103923\" y=\"207.72766\" style=\"stroke: #000000; stroke-width: 0.8\"/>\n      </g>\n     </g>\n     <g id=\"text_98\">\n      <!-- 1.0 -->\n      <g transform=\"translate(119.15236 222.326097) scale(0.1 -0.1)\">\n       <use xlink:href=\"#DejaVuSans-31\"/>\n       <use xlink:href=\"#DejaVuSans-2e\" x=\"63.623047\"/>\n       <use xlink:href=\"#DejaVuSans-30\" x=\"95.410156\"/>\n      </g>\n     </g>\n    </g>\n    <g id=\"text_99\">\n     <!-- myalgia -->\n     <g transform=\"translate(80.481001 236.004222) scale(0.1 -0.1)\">\n      <use xlink:href=\"#DejaVuSans-6d\"/>\n      <use xlink:href=\"#DejaVuSans-79\" x=\"97.412109\"/>\n      <use xlink:href=\"#DejaVuSans-61\" x=\"156.591797\"/>\n      <use xlink:href=\"#DejaVuSans-6c\" x=\"217.871094\"/>\n      <use xlink:href=\"#DejaVuSans-67\" x=\"245.654297\"/>\n      <use xlink:href=\"#DejaVuSans-69\" x=\"309.130859\"/>\n      <use xlink:href=\"#DejaVuSans-61\" x=\"336.914062\"/>\n     </g>\n    </g>\n   </g>\n   <g id=\"matplotlib.axis_34\">\n    <g id=\"ytick_33\">\n     <g id=\"line2d_67\">\n      <g>\n       <use xlink:href=\"#mddf5a59a20\" x=\"46.965625\" y=\"207.72766\" style=\"stroke: #000000; stroke-width: 0.8\"/>\n      </g>\n     </g>\n     <g id=\"text_100\">\n      <!-- 0 -->\n      <g transform=\"translate(33.603125 211.526878) scale(0.1 -0.1)\">\n       <use xlink:href=\"#DejaVuSans-30\"/>\n      </g>\n     </g>\n    </g>\n    <g id=\"ytick_34\">\n     <g id=\"line2d_68\">\n      <g>\n       <use xlink:href=\"#mddf5a59a20\" x=\"46.965625\" y=\"176.728646\" style=\"stroke: #000000; stroke-width: 0.8\"/>\n      </g>\n     </g>\n     <g id=\"text_101\">\n      <!-- 250 -->\n      <g transform=\"translate(20.878125 180.527865) scale(0.1 -0.1)\">\n       <use xlink:href=\"#DejaVuSans-32\"/>\n       <use xlink:href=\"#DejaVuSans-35\" x=\"63.623047\"/>\n       <use xlink:href=\"#DejaVuSans-30\" x=\"127.246094\"/>\n      </g>\n     </g>\n    </g>\n    <g id=\"text_102\">\n     <!-- count -->\n     <g transform=\"translate(14.798438 192.344548) rotate(-90) scale(0.1 -0.1)\">\n      <use xlink:href=\"#DejaVuSans-63\"/>\n      <use xlink:href=\"#DejaVuSans-6f\" x=\"54.980469\"/>\n      <use xlink:href=\"#DejaVuSans-75\" x=\"116.162109\"/>\n      <use xlink:href=\"#DejaVuSans-6e\" x=\"179.541016\"/>\n      <use xlink:href=\"#DejaVuSans-74\" x=\"242.919922\"/>\n     </g>\n    </g>\n   </g>\n   <g id=\"patch_117\">\n    <path d=\"M 46.965625 207.72766 \nL 46.965625 148.748936 \n\" style=\"fill: none; stroke: #000000; stroke-width: 0.8; stroke-linejoin: miter; stroke-linecap: square\"/>\n   </g>\n   <g id=\"patch_118\">\n    <path d=\"M 153.816689 207.72766 \nL 153.816689 148.748936 \n\" style=\"fill: none; stroke: #000000; stroke-width: 0.8; stroke-linejoin: miter; stroke-linecap: square\"/>\n   </g>\n   <g id=\"patch_119\">\n    <path d=\"M 46.965625 207.72766 \nL 153.816689 207.72766 \n\" style=\"fill: none; stroke: #000000; stroke-width: 0.8; stroke-linejoin: miter; stroke-linecap: square\"/>\n   </g>\n   <g id=\"patch_120\">\n    <path d=\"M 46.965625 148.748936 \nL 153.816689 148.748936 \n\" style=\"fill: none; stroke: #000000; stroke-width: 0.8; stroke-linejoin: miter; stroke-linecap: square\"/>\n   </g>\n  </g>\n  <g id=\"axes_18\">\n   <g id=\"patch_121\">\n    <path d=\"M 175.186902 207.72766 \nL 282.037965 207.72766 \nL 282.037965 148.748936 \nL 175.186902 148.748936 \nz\n\" style=\"fill: #ffffff\"/>\n   </g>\n   <g id=\"patch_122\">\n    <path d=\"M 180.529455 207.72766 \nL 223.26988 207.72766 \nL 223.26988 151.557447 \nL 180.529455 151.557447 \nz\n\" clip-path=\"url(#p45fd4da36e)\" style=\"fill: #3274a1\"/>\n   </g>\n   <g id=\"patch_123\">\n    <path d=\"M 233.954987 207.72766 \nL 276.695412 207.72766 \nL 276.695412 173.642553 \nL 233.954987 173.642553 \nz\n\" clip-path=\"url(#p45fd4da36e)\" style=\"fill: #e1812c\"/>\n   </g>\n   <g id=\"matplotlib.axis_35\">\n    <g id=\"xtick_35\">\n     <g id=\"line2d_69\">\n      <g>\n       <use xlink:href=\"#m53ffd6c531\" x=\"201.899668\" y=\"207.72766\" style=\"stroke: #000000; stroke-width: 0.8\"/>\n      </g>\n     </g>\n     <g id=\"text_103\">\n      <!-- 0.0 -->\n      <g transform=\"translate(193.948105 222.326097) scale(0.1 -0.1)\">\n       <use xlink:href=\"#DejaVuSans-30\"/>\n       <use xlink:href=\"#DejaVuSans-2e\" x=\"63.623047\"/>\n       <use xlink:href=\"#DejaVuSans-30\" x=\"95.410156\"/>\n      </g>\n     </g>\n    </g>\n    <g id=\"xtick_36\">\n     <g id=\"line2d_70\">\n      <g>\n       <use xlink:href=\"#m53ffd6c531\" x=\"255.325199\" y=\"207.72766\" style=\"stroke: #000000; stroke-width: 0.8\"/>\n      </g>\n     </g>\n     <g id=\"text_104\">\n      <!-- 1.0 -->\n      <g transform=\"translate(247.373637 222.326097) scale(0.1 -0.1)\">\n       <use xlink:href=\"#DejaVuSans-31\"/>\n       <use xlink:href=\"#DejaVuSans-2e\" x=\"63.623047\"/>\n       <use xlink:href=\"#DejaVuSans-30\" x=\"95.410156\"/>\n      </g>\n     </g>\n    </g>\n    <g id=\"text_105\">\n     <!-- digestion_trouble -->\n     <g transform=\"translate(185.345246 236.004222) scale(0.1 -0.1)\">\n      <use xlink:href=\"#DejaVuSans-64\"/>\n      <use xlink:href=\"#DejaVuSans-69\" x=\"63.476562\"/>\n      <use xlink:href=\"#DejaVuSans-67\" x=\"91.259766\"/>\n      <use xlink:href=\"#DejaVuSans-65\" x=\"154.736328\"/>\n      <use xlink:href=\"#DejaVuSans-73\" x=\"216.259766\"/>\n      <use xlink:href=\"#DejaVuSans-74\" x=\"268.359375\"/>\n      <use xlink:href=\"#DejaVuSans-69\" x=\"307.568359\"/>\n      <use xlink:href=\"#DejaVuSans-6f\" x=\"335.351562\"/>\n      <use xlink:href=\"#DejaVuSans-6e\" x=\"396.533203\"/>\n      <use xlink:href=\"#DejaVuSans-5f\" x=\"459.912109\"/>\n      <use xlink:href=\"#DejaVuSans-74\" x=\"509.912109\"/>\n      <use xlink:href=\"#DejaVuSans-72\" x=\"549.121094\"/>\n      <use xlink:href=\"#DejaVuSans-6f\" x=\"587.984375\"/>\n      <use xlink:href=\"#DejaVuSans-75\" x=\"649.166016\"/>\n      <use xlink:href=\"#DejaVuSans-62\" x=\"712.544922\"/>\n      <use xlink:href=\"#DejaVuSans-6c\" x=\"776.021484\"/>\n      <use xlink:href=\"#DejaVuSans-65\" x=\"803.804688\"/>\n     </g>\n    </g>\n   </g>\n   <g id=\"matplotlib.axis_36\">\n    <g id=\"ytick_35\">\n     <g id=\"line2d_71\">\n      <g>\n       <use xlink:href=\"#mddf5a59a20\" x=\"175.186902\" y=\"207.72766\" style=\"stroke: #000000; stroke-width: 0.8\"/>\n      </g>\n     </g>\n     <g id=\"text_106\">\n      <!-- 0 -->\n      <g transform=\"translate(161.824402 211.526878) scale(0.1 -0.1)\">\n       <use xlink:href=\"#DejaVuSans-30\"/>\n      </g>\n     </g>\n    </g>\n    <g id=\"ytick_36\">\n     <g id=\"line2d_72\">\n      <g>\n       <use xlink:href=\"#mddf5a59a20\" x=\"175.186902\" y=\"175.812766\" style=\"stroke: #000000; stroke-width: 0.8\"/>\n      </g>\n     </g>\n     <g id=\"text_107\">\n      <!-- 250 -->\n      <g transform=\"translate(149.099402 179.611985) scale(0.1 -0.1)\">\n       <use xlink:href=\"#DejaVuSans-32\"/>\n       <use xlink:href=\"#DejaVuSans-35\" x=\"63.623047\"/>\n       <use xlink:href=\"#DejaVuSans-30\" x=\"127.246094\"/>\n      </g>\n     </g>\n    </g>\n    <g id=\"text_108\">\n     <!-- count -->\n     <g transform=\"translate(143.019714 192.344548) rotate(-90) scale(0.1 -0.1)\">\n      <use xlink:href=\"#DejaVuSans-63\"/>\n      <use xlink:href=\"#DejaVuSans-6f\" x=\"54.980469\"/>\n      <use xlink:href=\"#DejaVuSans-75\" x=\"116.162109\"/>\n      <use xlink:href=\"#DejaVuSans-6e\" x=\"179.541016\"/>\n      <use xlink:href=\"#DejaVuSans-74\" x=\"242.919922\"/>\n     </g>\n    </g>\n   </g>\n   <g id=\"patch_124\">\n    <path d=\"M 175.186902 207.72766 \nL 175.186902 148.748936 \n\" style=\"fill: none; stroke: #000000; stroke-width: 0.8; stroke-linejoin: miter; stroke-linecap: square\"/>\n   </g>\n   <g id=\"patch_125\">\n    <path d=\"M 282.037965 207.72766 \nL 282.037965 148.748936 \n\" style=\"fill: none; stroke: #000000; stroke-width: 0.8; stroke-linejoin: miter; stroke-linecap: square\"/>\n   </g>\n   <g id=\"patch_126\">\n    <path d=\"M 175.186902 207.72766 \nL 282.037965 207.72766 \n\" style=\"fill: none; stroke: #000000; stroke-width: 0.8; stroke-linejoin: miter; stroke-linecap: square\"/>\n   </g>\n   <g id=\"patch_127\">\n    <path d=\"M 175.186902 148.748936 \nL 282.037965 148.748936 \n\" style=\"fill: none; stroke: #000000; stroke-width: 0.8; stroke-linejoin: miter; stroke-linecap: square\"/>\n   </g>\n  </g>\n  <g id=\"axes_19\">\n   <g id=\"patch_128\">\n    <path d=\"M 303.408178 207.72766 \nL 410.259242 207.72766 \nL 410.259242 148.748936 \nL 303.408178 148.748936 \nz\n\" style=\"fill: #ffffff\"/>\n   </g>\n   <g id=\"patch_129\">\n    <path d=\"M 308.750731 207.72766 \nL 351.491157 207.72766 \nL 351.491157 151.557447 \nL 308.750731 151.557447 \nz\n\" clip-path=\"url(#p79c5a6cc4d)\" style=\"fill: #3274a1\"/>\n   </g>\n   <g id=\"patch_130\">\n    <path d=\"M 362.176263 207.72766 \nL 404.916689 207.72766 \nL 404.916689 180.991107 \nL 362.176263 180.991107 \nz\n\" clip-path=\"url(#p79c5a6cc4d)\" style=\"fill: #e1812c\"/>\n   </g>\n   <g id=\"matplotlib.axis_37\">\n    <g id=\"xtick_37\">\n     <g id=\"line2d_73\">\n      <g>\n       <use xlink:href=\"#m53ffd6c531\" x=\"330.120944\" y=\"207.72766\" style=\"stroke: #000000; stroke-width: 0.8\"/>\n      </g>\n     </g>\n     <g id=\"text_109\">\n      <!-- 0.0 -->\n      <g transform=\"translate(322.169382 222.326097) scale(0.1 -0.1)\">\n       <use xlink:href=\"#DejaVuSans-30\"/>\n       <use xlink:href=\"#DejaVuSans-2e\" x=\"63.623047\"/>\n       <use xlink:href=\"#DejaVuSans-30\" x=\"95.410156\"/>\n      </g>\n     </g>\n    </g>\n    <g id=\"xtick_38\">\n     <g id=\"line2d_74\">\n      <g>\n       <use xlink:href=\"#m53ffd6c531\" x=\"383.546476\" y=\"207.72766\" style=\"stroke: #000000; stroke-width: 0.8\"/>\n      </g>\n     </g>\n     <g id=\"text_110\">\n      <!-- 1.0 -->\n      <g transform=\"translate(375.594914 222.326097) scale(0.1 -0.1)\">\n       <use xlink:href=\"#DejaVuSans-31\"/>\n       <use xlink:href=\"#DejaVuSans-2e\" x=\"63.623047\"/>\n       <use xlink:href=\"#DejaVuSans-30\" x=\"95.410156\"/>\n      </g>\n     </g>\n    </g>\n    <g id=\"text_111\">\n     <!-- fatigue -->\n     <g transform=\"translate(339.240741 236.004222) scale(0.1 -0.1)\">\n      <use xlink:href=\"#DejaVuSans-66\"/>\n      <use xlink:href=\"#DejaVuSans-61\" x=\"35.205078\"/>\n      <use xlink:href=\"#DejaVuSans-74\" x=\"96.484375\"/>\n      <use xlink:href=\"#DejaVuSans-69\" x=\"135.693359\"/>\n      <use xlink:href=\"#DejaVuSans-67\" x=\"163.476562\"/>\n      <use xlink:href=\"#DejaVuSans-75\" x=\"226.953125\"/>\n      <use xlink:href=\"#DejaVuSans-65\" x=\"290.332031\"/>\n     </g>\n    </g>\n   </g>\n   <g id=\"matplotlib.axis_38\">\n    <g id=\"ytick_37\">\n     <g id=\"line2d_75\">\n      <g>\n       <use xlink:href=\"#mddf5a59a20\" x=\"303.408178\" y=\"207.72766\" style=\"stroke: #000000; stroke-width: 0.8\"/>\n      </g>\n     </g>\n     <g id=\"text_112\">\n      <!-- 0 -->\n      <g transform=\"translate(290.045678 211.526878) scale(0.1 -0.1)\">\n       <use xlink:href=\"#DejaVuSans-30\"/>\n      </g>\n     </g>\n    </g>\n    <g id=\"ytick_38\">\n     <g id=\"line2d_76\">\n      <g>\n       <use xlink:href=\"#mddf5a59a20\" x=\"303.408178\" y=\"149.09487\" style=\"stroke: #000000; stroke-width: 0.8\"/>\n      </g>\n     </g>\n     <g id=\"text_113\">\n      <!-- 500 -->\n      <g transform=\"translate(277.320678 152.894088) scale(0.1 -0.1)\">\n       <use xlink:href=\"#DejaVuSans-35\"/>\n       <use xlink:href=\"#DejaVuSans-30\" x=\"63.623047\"/>\n       <use xlink:href=\"#DejaVuSans-30\" x=\"127.246094\"/>\n      </g>\n     </g>\n    </g>\n    <g id=\"text_114\">\n     <!-- count -->\n     <g transform=\"translate(271.240991 192.344548) rotate(-90) scale(0.1 -0.1)\">\n      <use xlink:href=\"#DejaVuSans-63\"/>\n      <use xlink:href=\"#DejaVuSans-6f\" x=\"54.980469\"/>\n      <use xlink:href=\"#DejaVuSans-75\" x=\"116.162109\"/>\n      <use xlink:href=\"#DejaVuSans-6e\" x=\"179.541016\"/>\n      <use xlink:href=\"#DejaVuSans-74\" x=\"242.919922\"/>\n     </g>\n    </g>\n   </g>\n   <g id=\"patch_131\">\n    <path d=\"M 303.408178 207.72766 \nL 303.408178 148.748936 \n\" style=\"fill: none; stroke: #000000; stroke-width: 0.8; stroke-linejoin: miter; stroke-linecap: square\"/>\n   </g>\n   <g id=\"patch_132\">\n    <path d=\"M 410.259242 207.72766 \nL 410.259242 148.748936 \n\" style=\"fill: none; stroke: #000000; stroke-width: 0.8; stroke-linejoin: miter; stroke-linecap: square\"/>\n   </g>\n   <g id=\"patch_133\">\n    <path d=\"M 303.408178 207.72766 \nL 410.259242 207.72766 \n\" style=\"fill: none; stroke: #000000; stroke-width: 0.8; stroke-linejoin: miter; stroke-linecap: square\"/>\n   </g>\n   <g id=\"patch_134\">\n    <path d=\"M 303.408178 148.748936 \nL 410.259242 148.748936 \n\" style=\"fill: none; stroke: #000000; stroke-width: 0.8; stroke-linejoin: miter; stroke-linecap: square\"/>\n   </g>\n  </g>\n  <g id=\"axes_20\">\n   <g id=\"patch_135\">\n    <path d=\"M 431.629455 207.72766 \nL 538.480519 207.72766 \nL 538.480519 148.748936 \nL 431.629455 148.748936 \nz\n\" style=\"fill: #ffffff\"/>\n   </g>\n   <g id=\"patch_136\">\n    <path d=\"M 436.972008 207.72766 \nL 479.712434 207.72766 \nL 479.712434 151.557447 \nL 436.972008 151.557447 \nz\n\" clip-path=\"url(#p4a6ab514f9)\" style=\"fill: #3274a1\"/>\n   </g>\n   <g id=\"patch_137\">\n    <path d=\"M 490.39754 207.72766 \nL 533.137965 207.72766 \nL 533.137965 180.817662 \nL 490.39754 180.817662 \nz\n\" clip-path=\"url(#p4a6ab514f9)\" style=\"fill: #e1812c\"/>\n   </g>\n   <g id=\"matplotlib.axis_39\">\n    <g id=\"xtick_39\">\n     <g id=\"line2d_77\">\n      <g>\n       <use xlink:href=\"#m53ffd6c531\" x=\"458.342221\" y=\"207.72766\" style=\"stroke: #000000; stroke-width: 0.8\"/>\n      </g>\n     </g>\n     <g id=\"text_115\">\n      <!-- 0.0 -->\n      <g transform=\"translate(450.390658 222.326097) scale(0.1 -0.1)\">\n       <use xlink:href=\"#DejaVuSans-30\"/>\n       <use xlink:href=\"#DejaVuSans-2e\" x=\"63.623047\"/>\n       <use xlink:href=\"#DejaVuSans-30\" x=\"95.410156\"/>\n      </g>\n     </g>\n    </g>\n    <g id=\"xtick_40\">\n     <g id=\"line2d_78\">\n      <g>\n       <use xlink:href=\"#m53ffd6c531\" x=\"511.767753\" y=\"207.72766\" style=\"stroke: #000000; stroke-width: 0.8\"/>\n      </g>\n     </g>\n     <g id=\"text_116\">\n      <!-- 1.0 -->\n      <g transform=\"translate(503.81619 222.326097) scale(0.1 -0.1)\">\n       <use xlink:href=\"#DejaVuSans-31\"/>\n       <use xlink:href=\"#DejaVuSans-2e\" x=\"63.623047\"/>\n       <use xlink:href=\"#DejaVuSans-30\" x=\"95.410156\"/>\n      </g>\n     </g>\n    </g>\n    <g id=\"text_117\">\n     <!-- skin_lesions -->\n     <g transform=\"translate(455.204987 236.004222) scale(0.1 -0.1)\">\n      <defs>\n       <path id=\"DejaVuSans-6b\" d=\"M 581 4863 \nL 1159 4863 \nL 1159 1991 \nL 2875 3500 \nL 3609 3500 \nL 1753 1863 \nL 3688 0 \nL 2938 0 \nL 1159 1709 \nL 1159 0 \nL 581 0 \nL 581 4863 \nz\n\" transform=\"scale(0.015625)\"/>\n      </defs>\n      <use xlink:href=\"#DejaVuSans-73\"/>\n      <use xlink:href=\"#DejaVuSans-6b\" x=\"52.099609\"/>\n      <use xlink:href=\"#DejaVuSans-69\" x=\"110.009766\"/>\n      <use xlink:href=\"#DejaVuSans-6e\" x=\"137.792969\"/>\n      <use xlink:href=\"#DejaVuSans-5f\" x=\"201.171875\"/>\n      <use xlink:href=\"#DejaVuSans-6c\" x=\"251.171875\"/>\n      <use xlink:href=\"#DejaVuSans-65\" x=\"278.955078\"/>\n      <use xlink:href=\"#DejaVuSans-73\" x=\"340.478516\"/>\n      <use xlink:href=\"#DejaVuSans-69\" x=\"392.578125\"/>\n      <use xlink:href=\"#DejaVuSans-6f\" x=\"420.361328\"/>\n      <use xlink:href=\"#DejaVuSans-6e\" x=\"481.542969\"/>\n      <use xlink:href=\"#DejaVuSans-73\" x=\"544.921875\"/>\n     </g>\n    </g>\n   </g>\n   <g id=\"matplotlib.axis_40\">\n    <g id=\"ytick_39\">\n     <g id=\"line2d_79\">\n      <g>\n       <use xlink:href=\"#mddf5a59a20\" x=\"431.629455\" y=\"207.72766\" style=\"stroke: #000000; stroke-width: 0.8\"/>\n      </g>\n     </g>\n     <g id=\"text_118\">\n      <!-- 0 -->\n      <g transform=\"translate(418.266955 211.526878) scale(0.1 -0.1)\">\n       <use xlink:href=\"#DejaVuSans-30\"/>\n      </g>\n     </g>\n    </g>\n    <g id=\"ytick_40\">\n     <g id=\"line2d_80\">\n      <g>\n       <use xlink:href=\"#mddf5a59a20\" x=\"431.629455\" y=\"148.972207\" style=\"stroke: #000000; stroke-width: 0.8\"/>\n      </g>\n     </g>\n     <g id=\"text_119\">\n      <!-- 500 -->\n      <g transform=\"translate(405.541955 152.771426) scale(0.1 -0.1)\">\n       <use xlink:href=\"#DejaVuSans-35\"/>\n       <use xlink:href=\"#DejaVuSans-30\" x=\"63.623047\"/>\n       <use xlink:href=\"#DejaVuSans-30\" x=\"127.246094\"/>\n      </g>\n     </g>\n    </g>\n    <g id=\"text_120\">\n     <!-- count -->\n     <g transform=\"translate(399.462267 192.344548) rotate(-90) scale(0.1 -0.1)\">\n      <use xlink:href=\"#DejaVuSans-63\"/>\n      <use xlink:href=\"#DejaVuSans-6f\" x=\"54.980469\"/>\n      <use xlink:href=\"#DejaVuSans-75\" x=\"116.162109\"/>\n      <use xlink:href=\"#DejaVuSans-6e\" x=\"179.541016\"/>\n      <use xlink:href=\"#DejaVuSans-74\" x=\"242.919922\"/>\n     </g>\n    </g>\n   </g>\n   <g id=\"patch_138\">\n    <path d=\"M 431.629455 207.72766 \nL 431.629455 148.748936 \n\" style=\"fill: none; stroke: #000000; stroke-width: 0.8; stroke-linejoin: miter; stroke-linecap: square\"/>\n   </g>\n   <g id=\"patch_139\">\n    <path d=\"M 538.480519 207.72766 \nL 538.480519 148.748936 \n\" style=\"fill: none; stroke: #000000; stroke-width: 0.8; stroke-linejoin: miter; stroke-linecap: square\"/>\n   </g>\n   <g id=\"patch_140\">\n    <path d=\"M 431.629455 207.72766 \nL 538.480519 207.72766 \n\" style=\"fill: none; stroke: #000000; stroke-width: 0.8; stroke-linejoin: miter; stroke-linecap: square\"/>\n   </g>\n   <g id=\"patch_141\">\n    <path d=\"M 431.629455 148.748936 \nL 538.480519 148.748936 \n\" style=\"fill: none; stroke: #000000; stroke-width: 0.8; stroke-linejoin: miter; stroke-linecap: square\"/>\n   </g>\n  </g>\n  <g id=\"axes_21\">\n   <g id=\"patch_142\">\n    <path d=\"M 559.850731 207.72766 \nL 666.701795 207.72766 \nL 666.701795 148.748936 \nL 559.850731 148.748936 \nz\n\" style=\"fill: #ffffff\"/>\n   </g>\n   <g id=\"patch_143\">\n    <path d=\"M 565.193285 207.72766 \nL 607.93371 207.72766 \nL 607.93371 151.557447 \nL 565.193285 151.557447 \nz\n\" clip-path=\"url(#p629501ed56)\" style=\"fill: #3274a1\"/>\n   </g>\n   <g id=\"patch_144\">\n    <path d=\"M 618.618816 207.72766 \nL 661.359242 207.72766 \nL 661.359242 179.403531 \nL 618.618816 179.403531 \nz\n\" clip-path=\"url(#p629501ed56)\" style=\"fill: #e1812c\"/>\n   </g>\n   <g id=\"matplotlib.axis_41\">\n    <g id=\"xtick_41\">\n     <g id=\"line2d_81\">\n      <g>\n       <use xlink:href=\"#m53ffd6c531\" x=\"586.563497\" y=\"207.72766\" style=\"stroke: #000000; stroke-width: 0.8\"/>\n      </g>\n     </g>\n     <g id=\"text_121\">\n      <!-- 0.0 -->\n      <g transform=\"translate(578.611935 222.326097) scale(0.1 -0.1)\">\n       <use xlink:href=\"#DejaVuSans-30\"/>\n       <use xlink:href=\"#DejaVuSans-2e\" x=\"63.623047\"/>\n       <use xlink:href=\"#DejaVuSans-30\" x=\"95.410156\"/>\n      </g>\n     </g>\n    </g>\n    <g id=\"xtick_42\">\n     <g id=\"line2d_82\">\n      <g>\n       <use xlink:href=\"#m53ffd6c531\" x=\"639.989029\" y=\"207.72766\" style=\"stroke: #000000; stroke-width: 0.8\"/>\n      </g>\n     </g>\n     <g id=\"text_122\">\n      <!-- 1.0 -->\n      <g transform=\"translate(632.037467 222.326097) scale(0.1 -0.1)\">\n       <use xlink:href=\"#DejaVuSans-31\"/>\n       <use xlink:href=\"#DejaVuSans-2e\" x=\"63.623047\"/>\n       <use xlink:href=\"#DejaVuSans-30\" x=\"95.410156\"/>\n      </g>\n     </g>\n    </g>\n    <g id=\"text_123\">\n     <!-- stomach_pain -->\n     <g transform=\"translate(578.503607 236.004222) scale(0.1 -0.1)\">\n      <use xlink:href=\"#DejaVuSans-73\"/>\n      <use xlink:href=\"#DejaVuSans-74\" x=\"52.099609\"/>\n      <use xlink:href=\"#DejaVuSans-6f\" x=\"91.308594\"/>\n      <use xlink:href=\"#DejaVuSans-6d\" x=\"152.490234\"/>\n      <use xlink:href=\"#DejaVuSans-61\" x=\"249.902344\"/>\n      <use xlink:href=\"#DejaVuSans-63\" x=\"311.181641\"/>\n      <use xlink:href=\"#DejaVuSans-68\" x=\"366.162109\"/>\n      <use xlink:href=\"#DejaVuSans-5f\" x=\"429.541016\"/>\n      <use xlink:href=\"#DejaVuSans-70\" x=\"479.541016\"/>\n      <use xlink:href=\"#DejaVuSans-61\" x=\"543.017578\"/>\n      <use xlink:href=\"#DejaVuSans-69\" x=\"604.296875\"/>\n      <use xlink:href=\"#DejaVuSans-6e\" x=\"632.080078\"/>\n     </g>\n    </g>\n   </g>\n   <g id=\"matplotlib.axis_42\">\n    <g id=\"ytick_41\">\n     <g id=\"line2d_83\">\n      <g>\n       <use xlink:href=\"#mddf5a59a20\" x=\"559.850731\" y=\"207.72766\" style=\"stroke: #000000; stroke-width: 0.8\"/>\n      </g>\n     </g>\n     <g id=\"text_124\">\n      <!-- 0 -->\n      <g transform=\"translate(546.488231 211.526878) scale(0.1 -0.1)\">\n       <use xlink:href=\"#DejaVuSans-30\"/>\n      </g>\n     </g>\n    </g>\n    <g id=\"ytick_42\">\n     <g id=\"line2d_84\">\n      <g>\n       <use xlink:href=\"#mddf5a59a20\" x=\"559.850731\" y=\"177.849887\" style=\"stroke: #000000; stroke-width: 0.8\"/>\n      </g>\n     </g>\n     <g id=\"text_125\">\n      <!-- 250 -->\n      <g transform=\"translate(533.763231 181.649106) scale(0.1 -0.1)\">\n       <use xlink:href=\"#DejaVuSans-32\"/>\n       <use xlink:href=\"#DejaVuSans-35\" x=\"63.623047\"/>\n       <use xlink:href=\"#DejaVuSans-30\" x=\"127.246094\"/>\n      </g>\n     </g>\n    </g>\n    <g id=\"text_126\">\n     <!-- count -->\n     <g transform=\"translate(527.683544 192.344548) rotate(-90) scale(0.1 -0.1)\">\n      <use xlink:href=\"#DejaVuSans-63\"/>\n      <use xlink:href=\"#DejaVuSans-6f\" x=\"54.980469\"/>\n      <use xlink:href=\"#DejaVuSans-75\" x=\"116.162109\"/>\n      <use xlink:href=\"#DejaVuSans-6e\" x=\"179.541016\"/>\n      <use xlink:href=\"#DejaVuSans-74\" x=\"242.919922\"/>\n     </g>\n    </g>\n   </g>\n   <g id=\"patch_145\">\n    <path d=\"M 559.850731 207.72766 \nL 559.850731 148.748936 \n\" style=\"fill: none; stroke: #000000; stroke-width: 0.8; stroke-linejoin: miter; stroke-linecap: square\"/>\n   </g>\n   <g id=\"patch_146\">\n    <path d=\"M 666.701795 207.72766 \nL 666.701795 148.748936 \n\" style=\"fill: none; stroke: #000000; stroke-width: 0.8; stroke-linejoin: miter; stroke-linecap: square\"/>\n   </g>\n   <g id=\"patch_147\">\n    <path d=\"M 559.850731 207.72766 \nL 666.701795 207.72766 \n\" style=\"fill: none; stroke: #000000; stroke-width: 0.8; stroke-linejoin: miter; stroke-linecap: square\"/>\n   </g>\n   <g id=\"patch_148\">\n    <path d=\"M 559.850731 148.748936 \nL 666.701795 148.748936 \n\" style=\"fill: none; stroke: #000000; stroke-width: 0.8; stroke-linejoin: miter; stroke-linecap: square\"/>\n   </g>\n  </g>\n  <g id=\"axes_22\">\n   <g id=\"patch_149\">\n    <path d=\"M 688.072008 207.72766 \nL 794.923072 207.72766 \nL 794.923072 148.748936 \nL 688.072008 148.748936 \nz\n\" style=\"fill: #ffffff\"/>\n   </g>\n   <g id=\"patch_150\">\n    <path d=\"M 693.414561 207.72766 \nL 736.154987 207.72766 \nL 736.154987 151.557447 \nL 693.414561 151.557447 \nz\n\" clip-path=\"url(#p15f676cdfc)\" style=\"fill: #3274a1\"/>\n   </g>\n   <g id=\"patch_151\">\n    <path d=\"M 746.840093 207.72766 \nL 789.580519 207.72766 \nL 789.580519 179.761558 \nL 746.840093 179.761558 \nz\n\" clip-path=\"url(#p15f676cdfc)\" style=\"fill: #e1812c\"/>\n   </g>\n   <g id=\"matplotlib.axis_43\">\n    <g id=\"xtick_43\">\n     <g id=\"line2d_85\">\n      <g>\n       <use xlink:href=\"#m53ffd6c531\" x=\"714.784774\" y=\"207.72766\" style=\"stroke: #000000; stroke-width: 0.8\"/>\n      </g>\n     </g>\n     <g id=\"text_127\">\n      <!-- 0.0 -->\n      <g transform=\"translate(706.833211 222.326097) scale(0.1 -0.1)\">\n       <use xlink:href=\"#DejaVuSans-30\"/>\n       <use xlink:href=\"#DejaVuSans-2e\" x=\"63.623047\"/>\n       <use xlink:href=\"#DejaVuSans-30\" x=\"95.410156\"/>\n      </g>\n     </g>\n    </g>\n    <g id=\"xtick_44\">\n     <g id=\"line2d_86\">\n      <g>\n       <use xlink:href=\"#m53ffd6c531\" x=\"768.210306\" y=\"207.72766\" style=\"stroke: #000000; stroke-width: 0.8\"/>\n      </g>\n     </g>\n     <g id=\"text_128\">\n      <!-- 1.0 -->\n      <g transform=\"translate(760.258743 222.326097) scale(0.1 -0.1)\">\n       <use xlink:href=\"#DejaVuSans-31\"/>\n       <use xlink:href=\"#DejaVuSans-2e\" x=\"63.623047\"/>\n       <use xlink:href=\"#DejaVuSans-30\" x=\"95.410156\"/>\n      </g>\n     </g>\n    </g>\n    <g id=\"text_129\">\n     <!-- orbital_pain -->\n     <g transform=\"translate(712.11004 236.004222) scale(0.1 -0.1)\">\n      <use xlink:href=\"#DejaVuSans-6f\"/>\n      <use xlink:href=\"#DejaVuSans-72\" x=\"61.181641\"/>\n      <use xlink:href=\"#DejaVuSans-62\" x=\"102.294922\"/>\n      <use xlink:href=\"#DejaVuSans-69\" x=\"165.771484\"/>\n      <use xlink:href=\"#DejaVuSans-74\" x=\"193.554688\"/>\n      <use xlink:href=\"#DejaVuSans-61\" x=\"232.763672\"/>\n      <use xlink:href=\"#DejaVuSans-6c\" x=\"294.042969\"/>\n      <use xlink:href=\"#DejaVuSans-5f\" x=\"321.826172\"/>\n      <use xlink:href=\"#DejaVuSans-70\" x=\"371.826172\"/>\n      <use xlink:href=\"#DejaVuSans-61\" x=\"435.302734\"/>\n      <use xlink:href=\"#DejaVuSans-69\" x=\"496.582031\"/>\n      <use xlink:href=\"#DejaVuSans-6e\" x=\"524.365234\"/>\n     </g>\n    </g>\n   </g>\n   <g id=\"matplotlib.axis_44\">\n    <g id=\"ytick_43\">\n     <g id=\"line2d_87\">\n      <g>\n       <use xlink:href=\"#mddf5a59a20\" x=\"688.072008\" y=\"207.72766\" style=\"stroke: #000000; stroke-width: 0.8\"/>\n      </g>\n     </g>\n     <g id=\"text_130\">\n      <!-- 0 -->\n      <g transform=\"translate(674.709508 211.526878) scale(0.1 -0.1)\">\n       <use xlink:href=\"#DejaVuSans-30\"/>\n      </g>\n     </g>\n    </g>\n    <g id=\"ytick_44\">\n     <g id=\"line2d_88\">\n      <g>\n       <use xlink:href=\"#mddf5a59a20\" x=\"688.072008\" y=\"177.976488\" style=\"stroke: #000000; stroke-width: 0.8\"/>\n      </g>\n     </g>\n     <g id=\"text_131\">\n      <!-- 250 -->\n      <g transform=\"translate(661.984508 181.775706) scale(0.1 -0.1)\">\n       <use xlink:href=\"#DejaVuSans-32\"/>\n       <use xlink:href=\"#DejaVuSans-35\" x=\"63.623047\"/>\n       <use xlink:href=\"#DejaVuSans-30\" x=\"127.246094\"/>\n      </g>\n     </g>\n    </g>\n    <g id=\"text_132\">\n     <!-- count -->\n     <g transform=\"translate(655.90482 192.344548) rotate(-90) scale(0.1 -0.1)\">\n      <use xlink:href=\"#DejaVuSans-63\"/>\n      <use xlink:href=\"#DejaVuSans-6f\" x=\"54.980469\"/>\n      <use xlink:href=\"#DejaVuSans-75\" x=\"116.162109\"/>\n      <use xlink:href=\"#DejaVuSans-6e\" x=\"179.541016\"/>\n      <use xlink:href=\"#DejaVuSans-74\" x=\"242.919922\"/>\n     </g>\n    </g>\n   </g>\n   <g id=\"patch_152\">\n    <path d=\"M 688.072008 207.72766 \nL 688.072008 148.748936 \n\" style=\"fill: none; stroke: #000000; stroke-width: 0.8; stroke-linejoin: miter; stroke-linecap: square\"/>\n   </g>\n   <g id=\"patch_153\">\n    <path d=\"M 794.923072 207.72766 \nL 794.923072 148.748936 \n\" style=\"fill: none; stroke: #000000; stroke-width: 0.8; stroke-linejoin: miter; stroke-linecap: square\"/>\n   </g>\n   <g id=\"patch_154\">\n    <path d=\"M 688.072008 207.72766 \nL 794.923072 207.72766 \n\" style=\"fill: none; stroke: #000000; stroke-width: 0.8; stroke-linejoin: miter; stroke-linecap: square\"/>\n   </g>\n   <g id=\"patch_155\">\n    <path d=\"M 688.072008 148.748936 \nL 794.923072 148.748936 \n\" style=\"fill: none; stroke: #000000; stroke-width: 0.8; stroke-linejoin: miter; stroke-linecap: square\"/>\n   </g>\n  </g>\n  <g id=\"axes_23\">\n   <g id=\"patch_156\">\n    <path d=\"M 816.293285 207.72766 \nL 923.144348 207.72766 \nL 923.144348 148.748936 \nL 816.293285 148.748936 \nz\n\" style=\"fill: #ffffff\"/>\n   </g>\n   <g id=\"patch_157\">\n    <path d=\"M 821.635838 207.72766 \nL 864.376263 207.72766 \nL 864.376263 151.557447 \nL 821.635838 151.557447 \nz\n\" clip-path=\"url(#pa155f79271)\" style=\"fill: #3274a1\"/>\n   </g>\n   <g id=\"patch_158\">\n    <path d=\"M 875.06137 207.72766 \nL 917.801795 207.72766 \nL 917.801795 175.055947 \nL 875.06137 175.055947 \nz\n\" clip-path=\"url(#pa155f79271)\" style=\"fill: #e1812c\"/>\n   </g>\n   <g id=\"matplotlib.axis_45\">\n    <g id=\"xtick_45\">\n     <g id=\"line2d_89\">\n      <g>\n       <use xlink:href=\"#m53ffd6c531\" x=\"843.006051\" y=\"207.72766\" style=\"stroke: #000000; stroke-width: 0.8\"/>\n      </g>\n     </g>\n     <g id=\"text_133\">\n      <!-- 0.0 -->\n      <g transform=\"translate(835.054488 222.326097) scale(0.1 -0.1)\">\n       <use xlink:href=\"#DejaVuSans-30\"/>\n       <use xlink:href=\"#DejaVuSans-2e\" x=\"63.623047\"/>\n       <use xlink:href=\"#DejaVuSans-30\" x=\"95.410156\"/>\n      </g>\n     </g>\n    </g>\n    <g id=\"xtick_46\">\n     <g id=\"line2d_90\">\n      <g>\n       <use xlink:href=\"#m53ffd6c531\" x=\"896.431582\" y=\"207.72766\" style=\"stroke: #000000; stroke-width: 0.8\"/>\n      </g>\n     </g>\n     <g id=\"text_134\">\n      <!-- 1.0 -->\n      <g transform=\"translate(888.48002 222.326097) scale(0.1 -0.1)\">\n       <use xlink:href=\"#DejaVuSans-31\"/>\n       <use xlink:href=\"#DejaVuSans-2e\" x=\"63.623047\"/>\n       <use xlink:href=\"#DejaVuSans-30\" x=\"95.410156\"/>\n      </g>\n     </g>\n    </g>\n    <g id=\"text_135\">\n     <!-- neck_pain -->\n     <g transform=\"translate(844.532879 236.004222) scale(0.1 -0.1)\">\n      <use xlink:href=\"#DejaVuSans-6e\"/>\n      <use xlink:href=\"#DejaVuSans-65\" x=\"63.378906\"/>\n      <use xlink:href=\"#DejaVuSans-63\" x=\"124.902344\"/>\n      <use xlink:href=\"#DejaVuSans-6b\" x=\"179.882812\"/>\n      <use xlink:href=\"#DejaVuSans-5f\" x=\"237.792969\"/>\n      <use xlink:href=\"#DejaVuSans-70\" x=\"287.792969\"/>\n      <use xlink:href=\"#DejaVuSans-61\" x=\"351.269531\"/>\n      <use xlink:href=\"#DejaVuSans-69\" x=\"412.548828\"/>\n      <use xlink:href=\"#DejaVuSans-6e\" x=\"440.332031\"/>\n     </g>\n    </g>\n   </g>\n   <g id=\"matplotlib.axis_46\">\n    <g id=\"ytick_45\">\n     <g id=\"line2d_91\">\n      <g>\n       <use xlink:href=\"#mddf5a59a20\" x=\"816.293285\" y=\"207.72766\" style=\"stroke: #000000; stroke-width: 0.8\"/>\n      </g>\n     </g>\n     <g id=\"text_136\">\n      <!-- 0 -->\n      <g transform=\"translate(802.930785 211.526878) scale(0.1 -0.1)\">\n       <use xlink:href=\"#DejaVuSans-30\"/>\n      </g>\n     </g>\n    </g>\n    <g id=\"ytick_46\">\n     <g id=\"line2d_92\">\n      <g>\n       <use xlink:href=\"#mddf5a59a20\" x=\"816.293285\" y=\"176.312552\" style=\"stroke: #000000; stroke-width: 0.8\"/>\n      </g>\n     </g>\n     <g id=\"text_137\">\n      <!-- 250 -->\n      <g transform=\"translate(790.205785 180.111771) scale(0.1 -0.1)\">\n       <use xlink:href=\"#DejaVuSans-32\"/>\n       <use xlink:href=\"#DejaVuSans-35\" x=\"63.623047\"/>\n       <use xlink:href=\"#DejaVuSans-30\" x=\"127.246094\"/>\n      </g>\n     </g>\n    </g>\n    <g id=\"text_138\">\n     <!-- count -->\n     <g transform=\"translate(784.126097 192.344548) rotate(-90) scale(0.1 -0.1)\">\n      <use xlink:href=\"#DejaVuSans-63\"/>\n      <use xlink:href=\"#DejaVuSans-6f\" x=\"54.980469\"/>\n      <use xlink:href=\"#DejaVuSans-75\" x=\"116.162109\"/>\n      <use xlink:href=\"#DejaVuSans-6e\" x=\"179.541016\"/>\n      <use xlink:href=\"#DejaVuSans-74\" x=\"242.919922\"/>\n     </g>\n    </g>\n   </g>\n   <g id=\"patch_159\">\n    <path d=\"M 816.293285 207.72766 \nL 816.293285 148.748936 \n\" style=\"fill: none; stroke: #000000; stroke-width: 0.8; stroke-linejoin: miter; stroke-linecap: square\"/>\n   </g>\n   <g id=\"patch_160\">\n    <path d=\"M 923.144348 207.72766 \nL 923.144348 148.748936 \n\" style=\"fill: none; stroke: #000000; stroke-width: 0.8; stroke-linejoin: miter; stroke-linecap: square\"/>\n   </g>\n   <g id=\"patch_161\">\n    <path d=\"M 816.293285 207.72766 \nL 923.144348 207.72766 \n\" style=\"fill: none; stroke: #000000; stroke-width: 0.8; stroke-linejoin: miter; stroke-linecap: square\"/>\n   </g>\n   <g id=\"patch_162\">\n    <path d=\"M 816.293285 148.748936 \nL 923.144348 148.748936 \n\" style=\"fill: none; stroke: #000000; stroke-width: 0.8; stroke-linejoin: miter; stroke-linecap: square\"/>\n   </g>\n  </g>\n  <g id=\"axes_24\">\n   <g id=\"patch_163\">\n    <path d=\"M 944.514561 207.72766 \nL 1051.365625 207.72766 \nL 1051.365625 148.748936 \nL 944.514561 148.748936 \nz\n\" style=\"fill: #ffffff\"/>\n   </g>\n   <g id=\"patch_164\">\n    <path d=\"M 949.857114 207.72766 \nL 992.59754 207.72766 \nL 992.59754 151.557447 \nL 949.857114 151.557447 \nz\n\" clip-path=\"url(#p2a36fff41b)\" style=\"fill: #3274a1\"/>\n   </g>\n   <g id=\"patch_165\">\n    <path d=\"M 1003.282646 207.72766 \nL 1046.023072 207.72766 \nL 1046.023072 168.435516 \nL 1003.282646 168.435516 \nz\n\" clip-path=\"url(#p2a36fff41b)\" style=\"fill: #e1812c\"/>\n   </g>\n   <g id=\"matplotlib.axis_47\">\n    <g id=\"xtick_47\">\n     <g id=\"line2d_93\">\n      <g>\n       <use xlink:href=\"#m53ffd6c531\" x=\"971.227327\" y=\"207.72766\" style=\"stroke: #000000; stroke-width: 0.8\"/>\n      </g>\n     </g>\n     <g id=\"text_139\">\n      <!-- 0.0 -->\n      <g transform=\"translate(963.275765 222.326097) scale(0.1 -0.1)\">\n       <use xlink:href=\"#DejaVuSans-30\"/>\n       <use xlink:href=\"#DejaVuSans-2e\" x=\"63.623047\"/>\n       <use xlink:href=\"#DejaVuSans-30\" x=\"95.410156\"/>\n      </g>\n     </g>\n    </g>\n    <g id=\"xtick_48\">\n     <g id=\"line2d_94\">\n      <g>\n       <use xlink:href=\"#m53ffd6c531\" x=\"1024.652859\" y=\"207.72766\" style=\"stroke: #000000; stroke-width: 0.8\"/>\n      </g>\n     </g>\n     <g id=\"text_140\">\n      <!-- 1.0 -->\n      <g transform=\"translate(1016.701297 222.326097) scale(0.1 -0.1)\">\n       <use xlink:href=\"#DejaVuSans-31\"/>\n       <use xlink:href=\"#DejaVuSans-2e\" x=\"63.623047\"/>\n       <use xlink:href=\"#DejaVuSans-30\" x=\"95.410156\"/>\n      </g>\n     </g>\n    </g>\n    <g id=\"text_141\">\n     <!-- weakness -->\n     <g transform=\"translate(973.360406 236.004222) scale(0.1 -0.1)\">\n      <use xlink:href=\"#DejaVuSans-77\"/>\n      <use xlink:href=\"#DejaVuSans-65\" x=\"81.787109\"/>\n      <use xlink:href=\"#DejaVuSans-61\" x=\"143.310547\"/>\n      <use xlink:href=\"#DejaVuSans-6b\" x=\"204.589844\"/>\n      <use xlink:href=\"#DejaVuSans-6e\" x=\"262.5\"/>\n      <use xlink:href=\"#DejaVuSans-65\" x=\"325.878906\"/>\n      <use xlink:href=\"#DejaVuSans-73\" x=\"387.402344\"/>\n      <use xlink:href=\"#DejaVuSans-73\" x=\"439.501953\"/>\n     </g>\n    </g>\n   </g>\n   <g id=\"matplotlib.axis_48\">\n    <g id=\"ytick_47\">\n     <g id=\"line2d_95\">\n      <g>\n       <use xlink:href=\"#mddf5a59a20\" x=\"944.514561\" y=\"207.72766\" style=\"stroke: #000000; stroke-width: 0.8\"/>\n      </g>\n     </g>\n     <g id=\"text_142\">\n      <!-- 0 -->\n      <g transform=\"translate(931.152061 211.526878) scale(0.1 -0.1)\">\n       <use xlink:href=\"#DejaVuSans-30\"/>\n      </g>\n     </g>\n    </g>\n    <g id=\"ytick_48\">\n     <g id=\"line2d_96\">\n      <g>\n       <use xlink:href=\"#mddf5a59a20\" x=\"944.514561\" y=\"173.971522\" style=\"stroke: #000000; stroke-width: 0.8\"/>\n      </g>\n     </g>\n     <g id=\"text_143\">\n      <!-- 250 -->\n      <g transform=\"translate(918.427061 177.770741) scale(0.1 -0.1)\">\n       <use xlink:href=\"#DejaVuSans-32\"/>\n       <use xlink:href=\"#DejaVuSans-35\" x=\"63.623047\"/>\n       <use xlink:href=\"#DejaVuSans-30\" x=\"127.246094\"/>\n      </g>\n     </g>\n    </g>\n    <g id=\"text_144\">\n     <!-- count -->\n     <g transform=\"translate(912.347374 192.344548) rotate(-90) scale(0.1 -0.1)\">\n      <use xlink:href=\"#DejaVuSans-63\"/>\n      <use xlink:href=\"#DejaVuSans-6f\" x=\"54.980469\"/>\n      <use xlink:href=\"#DejaVuSans-75\" x=\"116.162109\"/>\n      <use xlink:href=\"#DejaVuSans-6e\" x=\"179.541016\"/>\n      <use xlink:href=\"#DejaVuSans-74\" x=\"242.919922\"/>\n     </g>\n    </g>\n   </g>\n   <g id=\"patch_166\">\n    <path d=\"M 944.514561 207.72766 \nL 944.514561 148.748936 \n\" style=\"fill: none; stroke: #000000; stroke-width: 0.8; stroke-linejoin: miter; stroke-linecap: square\"/>\n   </g>\n   <g id=\"patch_167\">\n    <path d=\"M 1051.365625 207.72766 \nL 1051.365625 148.748936 \n\" style=\"fill: none; stroke: #000000; stroke-width: 0.8; stroke-linejoin: miter; stroke-linecap: square\"/>\n   </g>\n   <g id=\"patch_168\">\n    <path d=\"M 944.514561 207.72766 \nL 1051.365625 207.72766 \n\" style=\"fill: none; stroke: #000000; stroke-width: 0.8; stroke-linejoin: miter; stroke-linecap: square\"/>\n   </g>\n   <g id=\"patch_169\">\n    <path d=\"M 944.514561 148.748936 \nL 1051.365625 148.748936 \n\" style=\"fill: none; stroke: #000000; stroke-width: 0.8; stroke-linejoin: miter; stroke-linecap: square\"/>\n   </g>\n  </g>\n  <g id=\"axes_25\">\n   <g id=\"patch_170\">\n    <path d=\"M 46.965625 278.502128 \nL 153.816689 278.502128 \nL 153.816689 219.523404 \nL 46.965625 219.523404 \nz\n\" style=\"fill: #ffffff\"/>\n   </g>\n   <g id=\"patch_171\">\n    <path d=\"M 52.308178 278.502128 \nL 95.048604 278.502128 \nL 95.048604 222.331915 \nL 52.308178 222.331915 \nz\n\" clip-path=\"url(#p477e397808)\" style=\"fill: #3274a1\"/>\n   </g>\n   <g id=\"patch_172\">\n    <path d=\"M 105.73371 278.502128 \nL 148.474136 278.502128 \nL 148.474136 242.532339 \nL 105.73371 242.532339 \nz\n\" clip-path=\"url(#p477e397808)\" style=\"fill: #e1812c\"/>\n   </g>\n   <g id=\"matplotlib.axis_49\">\n    <g id=\"xtick_49\">\n     <g id=\"line2d_97\">\n      <g>\n       <use xlink:href=\"#m53ffd6c531\" x=\"73.678391\" y=\"278.502128\" style=\"stroke: #000000; stroke-width: 0.8\"/>\n      </g>\n     </g>\n     <g id=\"text_145\">\n      <!-- 0.0 -->\n      <g transform=\"translate(65.726828 293.100565) scale(0.1 -0.1)\">\n       <use xlink:href=\"#DejaVuSans-30\"/>\n       <use xlink:href=\"#DejaVuSans-2e\" x=\"63.623047\"/>\n       <use xlink:href=\"#DejaVuSans-30\" x=\"95.410156\"/>\n      </g>\n     </g>\n    </g>\n    <g id=\"xtick_50\">\n     <g id=\"line2d_98\">\n      <g>\n       <use xlink:href=\"#m53ffd6c531\" x=\"127.103923\" y=\"278.502128\" style=\"stroke: #000000; stroke-width: 0.8\"/>\n      </g>\n     </g>\n     <g id=\"text_146\">\n      <!-- 1.0 -->\n      <g transform=\"translate(119.15236 293.100565) scale(0.1 -0.1)\">\n       <use xlink:href=\"#DejaVuSans-31\"/>\n       <use xlink:href=\"#DejaVuSans-2e\" x=\"63.623047\"/>\n       <use xlink:href=\"#DejaVuSans-30\" x=\"95.410156\"/>\n      </g>\n     </g>\n    </g>\n    <g id=\"text_147\">\n     <!-- back_pain -->\n     <g transform=\"translate(75.212251 306.77869) scale(0.1 -0.1)\">\n      <use xlink:href=\"#DejaVuSans-62\"/>\n      <use xlink:href=\"#DejaVuSans-61\" x=\"63.476562\"/>\n      <use xlink:href=\"#DejaVuSans-63\" x=\"124.755859\"/>\n      <use xlink:href=\"#DejaVuSans-6b\" x=\"179.736328\"/>\n      <use xlink:href=\"#DejaVuSans-5f\" x=\"237.646484\"/>\n      <use xlink:href=\"#DejaVuSans-70\" x=\"287.646484\"/>\n      <use xlink:href=\"#DejaVuSans-61\" x=\"351.123047\"/>\n      <use xlink:href=\"#DejaVuSans-69\" x=\"412.402344\"/>\n      <use xlink:href=\"#DejaVuSans-6e\" x=\"440.185547\"/>\n     </g>\n    </g>\n   </g>\n   <g id=\"matplotlib.axis_50\">\n    <g id=\"ytick_49\">\n     <g id=\"line2d_99\">\n      <g>\n       <use xlink:href=\"#mddf5a59a20\" x=\"46.965625\" y=\"278.502128\" style=\"stroke: #000000; stroke-width: 0.8\"/>\n      </g>\n     </g>\n     <g id=\"text_148\">\n      <!-- 0 -->\n      <g transform=\"translate(33.603125 282.301346) scale(0.1 -0.1)\">\n       <use xlink:href=\"#DejaVuSans-30\"/>\n      </g>\n     </g>\n    </g>\n    <g id=\"ytick_50\">\n     <g id=\"line2d_100\">\n      <g>\n       <use xlink:href=\"#mddf5a59a20\" x=\"46.965625\" y=\"245.920798\" style=\"stroke: #000000; stroke-width: 0.8\"/>\n      </g>\n     </g>\n     <g id=\"text_149\">\n      <!-- 250 -->\n      <g transform=\"translate(20.878125 249.720016) scale(0.1 -0.1)\">\n       <use xlink:href=\"#DejaVuSans-32\"/>\n       <use xlink:href=\"#DejaVuSans-35\" x=\"63.623047\"/>\n       <use xlink:href=\"#DejaVuSans-30\" x=\"127.246094\"/>\n      </g>\n     </g>\n    </g>\n    <g id=\"text_150\">\n     <!-- count -->\n     <g transform=\"translate(14.798438 263.119016) rotate(-90) scale(0.1 -0.1)\">\n      <use xlink:href=\"#DejaVuSans-63\"/>\n      <use xlink:href=\"#DejaVuSans-6f\" x=\"54.980469\"/>\n      <use xlink:href=\"#DejaVuSans-75\" x=\"116.162109\"/>\n      <use xlink:href=\"#DejaVuSans-6e\" x=\"179.541016\"/>\n      <use xlink:href=\"#DejaVuSans-74\" x=\"242.919922\"/>\n     </g>\n    </g>\n   </g>\n   <g id=\"patch_173\">\n    <path d=\"M 46.965625 278.502128 \nL 46.965625 219.523404 \n\" style=\"fill: none; stroke: #000000; stroke-width: 0.8; stroke-linejoin: miter; stroke-linecap: square\"/>\n   </g>\n   <g id=\"patch_174\">\n    <path d=\"M 153.816689 278.502128 \nL 153.816689 219.523404 \n\" style=\"fill: none; stroke: #000000; stroke-width: 0.8; stroke-linejoin: miter; stroke-linecap: square\"/>\n   </g>\n   <g id=\"patch_175\">\n    <path d=\"M 46.965625 278.502128 \nL 153.816689 278.502128 \n\" style=\"fill: none; stroke: #000000; stroke-width: 0.8; stroke-linejoin: miter; stroke-linecap: square\"/>\n   </g>\n   <g id=\"patch_176\">\n    <path d=\"M 46.965625 219.523404 \nL 153.816689 219.523404 \n\" style=\"fill: none; stroke: #000000; stroke-width: 0.8; stroke-linejoin: miter; stroke-linecap: square\"/>\n   </g>\n  </g>\n  <g id=\"axes_26\">\n   <g id=\"patch_177\">\n    <path d=\"M 175.186902 278.502128 \nL 282.037965 278.502128 \nL 282.037965 219.523404 \nL 175.186902 219.523404 \nz\n\" style=\"fill: #ffffff\"/>\n   </g>\n   <g id=\"patch_178\">\n    <path d=\"M 180.529455 278.502128 \nL 223.26988 278.502128 \nL 223.26988 222.331915 \nL 180.529455 222.331915 \nz\n\" clip-path=\"url(#paba52147f3)\" style=\"fill: #3274a1\"/>\n   </g>\n   <g id=\"patch_179\">\n    <path d=\"M 233.954987 278.502128 \nL 276.695412 278.502128 \nL 276.695412 244.004897 \nL 233.954987 244.004897 \nz\n\" clip-path=\"url(#paba52147f3)\" style=\"fill: #e1812c\"/>\n   </g>\n   <g id=\"matplotlib.axis_51\">\n    <g id=\"xtick_51\">\n     <g id=\"line2d_101\">\n      <g>\n       <use xlink:href=\"#m53ffd6c531\" x=\"201.899668\" y=\"278.502128\" style=\"stroke: #000000; stroke-width: 0.8\"/>\n      </g>\n     </g>\n     <g id=\"text_151\">\n      <!-- 0.0 -->\n      <g transform=\"translate(193.948105 293.100565) scale(0.1 -0.1)\">\n       <use xlink:href=\"#DejaVuSans-30\"/>\n       <use xlink:href=\"#DejaVuSans-2e\" x=\"63.623047\"/>\n       <use xlink:href=\"#DejaVuSans-30\" x=\"95.410156\"/>\n      </g>\n     </g>\n    </g>\n    <g id=\"xtick_52\">\n     <g id=\"line2d_102\">\n      <g>\n       <use xlink:href=\"#m53ffd6c531\" x=\"255.325199\" y=\"278.502128\" style=\"stroke: #000000; stroke-width: 0.8\"/>\n      </g>\n     </g>\n     <g id=\"text_152\">\n      <!-- 1.0 -->\n      <g transform=\"translate(247.373637 293.100565) scale(0.1 -0.1)\">\n       <use xlink:href=\"#DejaVuSans-31\"/>\n       <use xlink:href=\"#DejaVuSans-2e\" x=\"63.623047\"/>\n       <use xlink:href=\"#DejaVuSans-30\" x=\"95.410156\"/>\n      </g>\n     </g>\n    </g>\n    <g id=\"text_153\">\n     <!-- weight_loss -->\n     <g transform=\"translate(199.596809 306.77869) scale(0.1 -0.1)\">\n      <use xlink:href=\"#DejaVuSans-77\"/>\n      <use xlink:href=\"#DejaVuSans-65\" x=\"81.787109\"/>\n      <use xlink:href=\"#DejaVuSans-69\" x=\"143.310547\"/>\n      <use xlink:href=\"#DejaVuSans-67\" x=\"171.09375\"/>\n      <use xlink:href=\"#DejaVuSans-68\" x=\"234.570312\"/>\n      <use xlink:href=\"#DejaVuSans-74\" x=\"297.949219\"/>\n      <use xlink:href=\"#DejaVuSans-5f\" x=\"337.158203\"/>\n      <use xlink:href=\"#DejaVuSans-6c\" x=\"387.158203\"/>\n      <use xlink:href=\"#DejaVuSans-6f\" x=\"414.941406\"/>\n      <use xlink:href=\"#DejaVuSans-73\" x=\"476.123047\"/>\n      <use xlink:href=\"#DejaVuSans-73\" x=\"528.222656\"/>\n     </g>\n    </g>\n   </g>\n   <g id=\"matplotlib.axis_52\">\n    <g id=\"ytick_51\">\n     <g id=\"line2d_103\">\n      <g>\n       <use xlink:href=\"#mddf5a59a20\" x=\"175.186902\" y=\"278.502128\" style=\"stroke: #000000; stroke-width: 0.8\"/>\n      </g>\n     </g>\n     <g id=\"text_154\">\n      <!-- 0 -->\n      <g transform=\"translate(161.824402 282.301346) scale(0.1 -0.1)\">\n       <use xlink:href=\"#DejaVuSans-30\"/>\n      </g>\n     </g>\n    </g>\n    <g id=\"ytick_52\">\n     <g id=\"line2d_104\">\n      <g>\n       <use xlink:href=\"#mddf5a59a20\" x=\"175.186902\" y=\"246.441504\" style=\"stroke: #000000; stroke-width: 0.8\"/>\n      </g>\n     </g>\n     <g id=\"text_155\">\n      <!-- 250 -->\n      <g transform=\"translate(149.099402 250.240723) scale(0.1 -0.1)\">\n       <use xlink:href=\"#DejaVuSans-32\"/>\n       <use xlink:href=\"#DejaVuSans-35\" x=\"63.623047\"/>\n       <use xlink:href=\"#DejaVuSans-30\" x=\"127.246094\"/>\n      </g>\n     </g>\n    </g>\n    <g id=\"text_156\">\n     <!-- count -->\n     <g transform=\"translate(143.019714 263.119016) rotate(-90) scale(0.1 -0.1)\">\n      <use xlink:href=\"#DejaVuSans-63\"/>\n      <use xlink:href=\"#DejaVuSans-6f\" x=\"54.980469\"/>\n      <use xlink:href=\"#DejaVuSans-75\" x=\"116.162109\"/>\n      <use xlink:href=\"#DejaVuSans-6e\" x=\"179.541016\"/>\n      <use xlink:href=\"#DejaVuSans-74\" x=\"242.919922\"/>\n     </g>\n    </g>\n   </g>\n   <g id=\"patch_180\">\n    <path d=\"M 175.186902 278.502128 \nL 175.186902 219.523404 \n\" style=\"fill: none; stroke: #000000; stroke-width: 0.8; stroke-linejoin: miter; stroke-linecap: square\"/>\n   </g>\n   <g id=\"patch_181\">\n    <path d=\"M 282.037965 278.502128 \nL 282.037965 219.523404 \n\" style=\"fill: none; stroke: #000000; stroke-width: 0.8; stroke-linejoin: miter; stroke-linecap: square\"/>\n   </g>\n   <g id=\"patch_182\">\n    <path d=\"M 175.186902 278.502128 \nL 282.037965 278.502128 \n\" style=\"fill: none; stroke: #000000; stroke-width: 0.8; stroke-linejoin: miter; stroke-linecap: square\"/>\n   </g>\n   <g id=\"patch_183\">\n    <path d=\"M 175.186902 219.523404 \nL 282.037965 219.523404 \n\" style=\"fill: none; stroke: #000000; stroke-width: 0.8; stroke-linejoin: miter; stroke-linecap: square\"/>\n   </g>\n  </g>\n  <g id=\"axes_27\">\n   <g id=\"patch_184\">\n    <path d=\"M 303.408178 278.502128 \nL 410.259242 278.502128 \nL 410.259242 219.523404 \nL 303.408178 219.523404 \nz\n\" style=\"fill: #ffffff\"/>\n   </g>\n   <g id=\"patch_185\">\n    <path d=\"M 308.750731 278.502128 \nL 351.491157 278.502128 \nL 351.491157 222.331915 \nL 308.750731 222.331915 \nz\n\" clip-path=\"url(#p6b322a024b)\" style=\"fill: #3274a1\"/>\n   </g>\n   <g id=\"patch_186\">\n    <path d=\"M 362.176263 278.502128 \nL 404.916689 278.502128 \nL 404.916689 249.997841 \nL 362.176263 249.997841 \nz\n\" clip-path=\"url(#p6b322a024b)\" style=\"fill: #e1812c\"/>\n   </g>\n   <g id=\"matplotlib.axis_53\">\n    <g id=\"xtick_53\">\n     <g id=\"line2d_105\">\n      <g>\n       <use xlink:href=\"#m53ffd6c531\" x=\"330.120944\" y=\"278.502128\" style=\"stroke: #000000; stroke-width: 0.8\"/>\n      </g>\n     </g>\n     <g id=\"text_157\">\n      <!-- 0.0 -->\n      <g transform=\"translate(322.169382 293.100565) scale(0.1 -0.1)\">\n       <use xlink:href=\"#DejaVuSans-30\"/>\n       <use xlink:href=\"#DejaVuSans-2e\" x=\"63.623047\"/>\n       <use xlink:href=\"#DejaVuSans-30\" x=\"95.410156\"/>\n      </g>\n     </g>\n    </g>\n    <g id=\"xtick_54\">\n     <g id=\"line2d_106\">\n      <g>\n       <use xlink:href=\"#m53ffd6c531\" x=\"383.546476\" y=\"278.502128\" style=\"stroke: #000000; stroke-width: 0.8\"/>\n      </g>\n     </g>\n     <g id=\"text_158\">\n      <!-- 1.0 -->\n      <g transform=\"translate(375.594914 293.100565) scale(0.1 -0.1)\">\n       <use xlink:href=\"#DejaVuSans-31\"/>\n       <use xlink:href=\"#DejaVuSans-2e\" x=\"63.623047\"/>\n       <use xlink:href=\"#DejaVuSans-30\" x=\"95.410156\"/>\n      </g>\n     </g>\n    </g>\n    <g id=\"text_159\">\n     <!-- gum_bleed -->\n     <g transform=\"translate(329.229804 306.77869) scale(0.1 -0.1)\">\n      <use xlink:href=\"#DejaVuSans-67\"/>\n      <use xlink:href=\"#DejaVuSans-75\" x=\"63.476562\"/>\n      <use xlink:href=\"#DejaVuSans-6d\" x=\"126.855469\"/>\n      <use xlink:href=\"#DejaVuSans-5f\" x=\"224.267578\"/>\n      <use xlink:href=\"#DejaVuSans-62\" x=\"274.267578\"/>\n      <use xlink:href=\"#DejaVuSans-6c\" x=\"337.744141\"/>\n      <use xlink:href=\"#DejaVuSans-65\" x=\"365.527344\"/>\n      <use xlink:href=\"#DejaVuSans-65\" x=\"427.050781\"/>\n      <use xlink:href=\"#DejaVuSans-64\" x=\"488.574219\"/>\n     </g>\n    </g>\n   </g>\n   <g id=\"matplotlib.axis_54\">\n    <g id=\"ytick_53\">\n     <g id=\"line2d_107\">\n      <g>\n       <use xlink:href=\"#mddf5a59a20\" x=\"303.408178\" y=\"278.502128\" style=\"stroke: #000000; stroke-width: 0.8\"/>\n      </g>\n     </g>\n     <g id=\"text_160\">\n      <!-- 0 -->\n      <g transform=\"translate(290.045678 282.301346) scale(0.1 -0.1)\">\n       <use xlink:href=\"#DejaVuSans-30\"/>\n      </g>\n     </g>\n    </g>\n    <g id=\"ytick_54\">\n     <g id=\"line2d_108\">\n      <g>\n       <use xlink:href=\"#mddf5a59a20\" x=\"303.408178\" y=\"248.56065\" style=\"stroke: #000000; stroke-width: 0.8\"/>\n      </g>\n     </g>\n     <g id=\"text_161\">\n      <!-- 250 -->\n      <g transform=\"translate(277.320678 252.359868) scale(0.1 -0.1)\">\n       <use xlink:href=\"#DejaVuSans-32\"/>\n       <use xlink:href=\"#DejaVuSans-35\" x=\"63.623047\"/>\n       <use xlink:href=\"#DejaVuSans-30\" x=\"127.246094\"/>\n      </g>\n     </g>\n    </g>\n    <g id=\"text_162\">\n     <!-- count -->\n     <g transform=\"translate(271.240991 263.119016) rotate(-90) scale(0.1 -0.1)\">\n      <use xlink:href=\"#DejaVuSans-63\"/>\n      <use xlink:href=\"#DejaVuSans-6f\" x=\"54.980469\"/>\n      <use xlink:href=\"#DejaVuSans-75\" x=\"116.162109\"/>\n      <use xlink:href=\"#DejaVuSans-6e\" x=\"179.541016\"/>\n      <use xlink:href=\"#DejaVuSans-74\" x=\"242.919922\"/>\n     </g>\n    </g>\n   </g>\n   <g id=\"patch_187\">\n    <path d=\"M 303.408178 278.502128 \nL 303.408178 219.523404 \n\" style=\"fill: none; stroke: #000000; stroke-width: 0.8; stroke-linejoin: miter; stroke-linecap: square\"/>\n   </g>\n   <g id=\"patch_188\">\n    <path d=\"M 410.259242 278.502128 \nL 410.259242 219.523404 \n\" style=\"fill: none; stroke: #000000; stroke-width: 0.8; stroke-linejoin: miter; stroke-linecap: square\"/>\n   </g>\n   <g id=\"patch_189\">\n    <path d=\"M 303.408178 278.502128 \nL 410.259242 278.502128 \n\" style=\"fill: none; stroke: #000000; stroke-width: 0.8; stroke-linejoin: miter; stroke-linecap: square\"/>\n   </g>\n   <g id=\"patch_190\">\n    <path d=\"M 303.408178 219.523404 \nL 410.259242 219.523404 \n\" style=\"fill: none; stroke: #000000; stroke-width: 0.8; stroke-linejoin: miter; stroke-linecap: square\"/>\n   </g>\n  </g>\n  <g id=\"axes_28\">\n   <g id=\"patch_191\">\n    <path d=\"M 431.629455 278.502128 \nL 538.480519 278.502128 \nL 538.480519 219.523404 \nL 431.629455 219.523404 \nz\n\" style=\"fill: #ffffff\"/>\n   </g>\n   <g id=\"patch_192\">\n    <path d=\"M 436.972008 278.502128 \nL 479.712434 278.502128 \nL 479.712434 222.331915 \nL 436.972008 222.331915 \nz\n\" clip-path=\"url(#p05d10fec8f)\" style=\"fill: #3274a1\"/>\n   </g>\n   <g id=\"patch_193\">\n    <path d=\"M 490.39754 278.502128 \nL 533.137965 278.502128 \nL 533.137965 247.77444 \nL 490.39754 247.77444 \nz\n\" clip-path=\"url(#p05d10fec8f)\" style=\"fill: #e1812c\"/>\n   </g>\n   <g id=\"matplotlib.axis_55\">\n    <g id=\"xtick_55\">\n     <g id=\"line2d_109\">\n      <g>\n       <use xlink:href=\"#m53ffd6c531\" x=\"458.342221\" y=\"278.502128\" style=\"stroke: #000000; stroke-width: 0.8\"/>\n      </g>\n     </g>\n     <g id=\"text_163\">\n      <!-- 0.0 -->\n      <g transform=\"translate(450.390658 293.100565) scale(0.1 -0.1)\">\n       <use xlink:href=\"#DejaVuSans-30\"/>\n       <use xlink:href=\"#DejaVuSans-2e\" x=\"63.623047\"/>\n       <use xlink:href=\"#DejaVuSans-30\" x=\"95.410156\"/>\n      </g>\n     </g>\n    </g>\n    <g id=\"xtick_56\">\n     <g id=\"line2d_110\">\n      <g>\n       <use xlink:href=\"#m53ffd6c531\" x=\"511.767753\" y=\"278.502128\" style=\"stroke: #000000; stroke-width: 0.8\"/>\n      </g>\n     </g>\n     <g id=\"text_164\">\n      <!-- 1.0 -->\n      <g transform=\"translate(503.81619 293.100565) scale(0.1 -0.1)\">\n       <use xlink:href=\"#DejaVuSans-31\"/>\n       <use xlink:href=\"#DejaVuSans-2e\" x=\"63.623047\"/>\n       <use xlink:href=\"#DejaVuSans-30\" x=\"95.410156\"/>\n      </g>\n     </g>\n    </g>\n    <g id=\"text_165\">\n     <!-- jaundice -->\n     <g transform=\"translate(463.875299 306.77869) scale(0.1 -0.1)\">\n      <use xlink:href=\"#DejaVuSans-6a\"/>\n      <use xlink:href=\"#DejaVuSans-61\" x=\"27.783203\"/>\n      <use xlink:href=\"#DejaVuSans-75\" x=\"89.0625\"/>\n      <use xlink:href=\"#DejaVuSans-6e\" x=\"152.441406\"/>\n      <use xlink:href=\"#DejaVuSans-64\" x=\"215.820312\"/>\n      <use xlink:href=\"#DejaVuSans-69\" x=\"279.296875\"/>\n      <use xlink:href=\"#DejaVuSans-63\" x=\"307.080078\"/>\n      <use xlink:href=\"#DejaVuSans-65\" x=\"362.060547\"/>\n     </g>\n    </g>\n   </g>\n   <g id=\"matplotlib.axis_56\">\n    <g id=\"ytick_55\">\n     <g id=\"line2d_111\">\n      <g>\n       <use xlink:href=\"#mddf5a59a20\" x=\"431.629455\" y=\"278.502128\" style=\"stroke: #000000; stroke-width: 0.8\"/>\n      </g>\n     </g>\n     <g id=\"text_166\">\n      <!-- 0 -->\n      <g transform=\"translate(418.266955 282.301346) scale(0.1 -0.1)\">\n       <use xlink:href=\"#DejaVuSans-30\"/>\n      </g>\n     </g>\n    </g>\n    <g id=\"ytick_56\">\n     <g id=\"line2d_112\">\n      <g>\n       <use xlink:href=\"#mddf5a59a20\" x=\"431.629455\" y=\"247.77444\" style=\"stroke: #000000; stroke-width: 0.8\"/>\n      </g>\n     </g>\n     <g id=\"text_167\">\n      <!-- 250 -->\n      <g transform=\"translate(405.541955 251.573659) scale(0.1 -0.1)\">\n       <use xlink:href=\"#DejaVuSans-32\"/>\n       <use xlink:href=\"#DejaVuSans-35\" x=\"63.623047\"/>\n       <use xlink:href=\"#DejaVuSans-30\" x=\"127.246094\"/>\n      </g>\n     </g>\n    </g>\n    <g id=\"text_168\">\n     <!-- count -->\n     <g transform=\"translate(399.462267 263.119016) rotate(-90) scale(0.1 -0.1)\">\n      <use xlink:href=\"#DejaVuSans-63\"/>\n      <use xlink:href=\"#DejaVuSans-6f\" x=\"54.980469\"/>\n      <use xlink:href=\"#DejaVuSans-75\" x=\"116.162109\"/>\n      <use xlink:href=\"#DejaVuSans-6e\" x=\"179.541016\"/>\n      <use xlink:href=\"#DejaVuSans-74\" x=\"242.919922\"/>\n     </g>\n    </g>\n   </g>\n   <g id=\"patch_194\">\n    <path d=\"M 431.629455 278.502128 \nL 431.629455 219.523404 \n\" style=\"fill: none; stroke: #000000; stroke-width: 0.8; stroke-linejoin: miter; stroke-linecap: square\"/>\n   </g>\n   <g id=\"patch_195\">\n    <path d=\"M 538.480519 278.502128 \nL 538.480519 219.523404 \n\" style=\"fill: none; stroke: #000000; stroke-width: 0.8; stroke-linejoin: miter; stroke-linecap: square\"/>\n   </g>\n   <g id=\"patch_196\">\n    <path d=\"M 431.629455 278.502128 \nL 538.480519 278.502128 \n\" style=\"fill: none; stroke: #000000; stroke-width: 0.8; stroke-linejoin: miter; stroke-linecap: square\"/>\n   </g>\n   <g id=\"patch_197\">\n    <path d=\"M 431.629455 219.523404 \nL 538.480519 219.523404 \n\" style=\"fill: none; stroke: #000000; stroke-width: 0.8; stroke-linejoin: miter; stroke-linecap: square\"/>\n   </g>\n  </g>\n  <g id=\"axes_29\">\n   <g id=\"patch_198\">\n    <path d=\"M 559.850731 278.502128 \nL 666.701795 278.502128 \nL 666.701795 219.523404 \nL 559.850731 219.523404 \nz\n\" style=\"fill: #ffffff\"/>\n   </g>\n   <g id=\"patch_199\">\n    <path d=\"M 565.193285 278.502128 \nL 607.93371 278.502128 \nL 607.93371 222.331915 \nL 565.193285 222.331915 \nz\n\" clip-path=\"url(#p3e47ff14f2)\" style=\"fill: #3274a1\"/>\n   </g>\n   <g id=\"patch_200\">\n    <path d=\"M 618.618816 278.502128 \nL 661.359242 278.502128 \nL 661.359242 241.231539 \nL 618.618816 241.231539 \nz\n\" clip-path=\"url(#p3e47ff14f2)\" style=\"fill: #e1812c\"/>\n   </g>\n   <g id=\"matplotlib.axis_57\">\n    <g id=\"xtick_57\">\n     <g id=\"line2d_113\">\n      <g>\n       <use xlink:href=\"#m53ffd6c531\" x=\"586.563497\" y=\"278.502128\" style=\"stroke: #000000; stroke-width: 0.8\"/>\n      </g>\n     </g>\n     <g id=\"text_169\">\n      <!-- 0.0 -->\n      <g transform=\"translate(578.611935 293.100565) scale(0.1 -0.1)\">\n       <use xlink:href=\"#DejaVuSans-30\"/>\n       <use xlink:href=\"#DejaVuSans-2e\" x=\"63.623047\"/>\n       <use xlink:href=\"#DejaVuSans-30\" x=\"95.410156\"/>\n      </g>\n     </g>\n    </g>\n    <g id=\"xtick_58\">\n     <g id=\"line2d_114\">\n      <g>\n       <use xlink:href=\"#m53ffd6c531\" x=\"639.989029\" y=\"278.502128\" style=\"stroke: #000000; stroke-width: 0.8\"/>\n      </g>\n     </g>\n     <g id=\"text_170\">\n      <!-- 1.0 -->\n      <g transform=\"translate(632.037467 293.100565) scale(0.1 -0.1)\">\n       <use xlink:href=\"#DejaVuSans-31\"/>\n       <use xlink:href=\"#DejaVuSans-2e\" x=\"63.623047\"/>\n       <use xlink:href=\"#DejaVuSans-30\" x=\"95.410156\"/>\n      </g>\n     </g>\n    </g>\n    <g id=\"text_171\">\n     <!-- coma -->\n     <g transform=\"translate(599.533295 306.77869) scale(0.1 -0.1)\">\n      <use xlink:href=\"#DejaVuSans-63\"/>\n      <use xlink:href=\"#DejaVuSans-6f\" x=\"54.980469\"/>\n      <use xlink:href=\"#DejaVuSans-6d\" x=\"116.162109\"/>\n      <use xlink:href=\"#DejaVuSans-61\" x=\"213.574219\"/>\n     </g>\n    </g>\n   </g>\n   <g id=\"matplotlib.axis_58\">\n    <g id=\"ytick_57\">\n     <g id=\"line2d_115\">\n      <g>\n       <use xlink:href=\"#mddf5a59a20\" x=\"559.850731\" y=\"278.502128\" style=\"stroke: #000000; stroke-width: 0.8\"/>\n      </g>\n     </g>\n     <g id=\"text_172\">\n      <!-- 0 -->\n      <g transform=\"translate(546.488231 282.301346) scale(0.1 -0.1)\">\n       <use xlink:href=\"#DejaVuSans-30\"/>\n      </g>\n     </g>\n    </g>\n    <g id=\"ytick_58\">\n     <g id=\"line2d_116\">\n      <g>\n       <use xlink:href=\"#mddf5a59a20\" x=\"559.850731\" y=\"245.460826\" style=\"stroke: #000000; stroke-width: 0.8\"/>\n      </g>\n     </g>\n     <g id=\"text_173\">\n      <!-- 250 -->\n      <g transform=\"translate(533.763231 249.260045) scale(0.1 -0.1)\">\n       <use xlink:href=\"#DejaVuSans-32\"/>\n       <use xlink:href=\"#DejaVuSans-35\" x=\"63.623047\"/>\n       <use xlink:href=\"#DejaVuSans-30\" x=\"127.246094\"/>\n      </g>\n     </g>\n    </g>\n    <g id=\"text_174\">\n     <!-- count -->\n     <g transform=\"translate(527.683544 263.119016) rotate(-90) scale(0.1 -0.1)\">\n      <use xlink:href=\"#DejaVuSans-63\"/>\n      <use xlink:href=\"#DejaVuSans-6f\" x=\"54.980469\"/>\n      <use xlink:href=\"#DejaVuSans-75\" x=\"116.162109\"/>\n      <use xlink:href=\"#DejaVuSans-6e\" x=\"179.541016\"/>\n      <use xlink:href=\"#DejaVuSans-74\" x=\"242.919922\"/>\n     </g>\n    </g>\n   </g>\n   <g id=\"patch_201\">\n    <path d=\"M 559.850731 278.502128 \nL 559.850731 219.523404 \n\" style=\"fill: none; stroke: #000000; stroke-width: 0.8; stroke-linejoin: miter; stroke-linecap: square\"/>\n   </g>\n   <g id=\"patch_202\">\n    <path d=\"M 666.701795 278.502128 \nL 666.701795 219.523404 \n\" style=\"fill: none; stroke: #000000; stroke-width: 0.8; stroke-linejoin: miter; stroke-linecap: square\"/>\n   </g>\n   <g id=\"patch_203\">\n    <path d=\"M 559.850731 278.502128 \nL 666.701795 278.502128 \n\" style=\"fill: none; stroke: #000000; stroke-width: 0.8; stroke-linejoin: miter; stroke-linecap: square\"/>\n   </g>\n   <g id=\"patch_204\">\n    <path d=\"M 559.850731 219.523404 \nL 666.701795 219.523404 \n\" style=\"fill: none; stroke: #000000; stroke-width: 0.8; stroke-linejoin: miter; stroke-linecap: square\"/>\n   </g>\n  </g>\n  <g id=\"axes_30\">\n   <g id=\"patch_205\">\n    <path d=\"M 688.072008 278.502128 \nL 794.923072 278.502128 \nL 794.923072 219.523404 \nL 688.072008 219.523404 \nz\n\" style=\"fill: #ffffff\"/>\n   </g>\n   <g id=\"patch_206\">\n    <path d=\"M 693.414561 278.502128 \nL 736.154987 278.502128 \nL 736.154987 222.331915 \nL 693.414561 222.331915 \nz\n\" clip-path=\"url(#pf4f7003fa2)\" style=\"fill: #3274a1\"/>\n   </g>\n   <g id=\"patch_207\">\n    <path d=\"M 746.840093 278.502128 \nL 789.580519 278.502128 \nL 789.580519 246.81318 \nL 746.840093 246.81318 \nz\n\" clip-path=\"url(#pf4f7003fa2)\" style=\"fill: #e1812c\"/>\n   </g>\n   <g id=\"matplotlib.axis_59\">\n    <g id=\"xtick_59\">\n     <g id=\"line2d_117\">\n      <g>\n       <use xlink:href=\"#m53ffd6c531\" x=\"714.784774\" y=\"278.502128\" style=\"stroke: #000000; stroke-width: 0.8\"/>\n      </g>\n     </g>\n     <g id=\"text_175\">\n      <!-- 0.0 -->\n      <g transform=\"translate(706.833211 293.100565) scale(0.1 -0.1)\">\n       <use xlink:href=\"#DejaVuSans-30\"/>\n       <use xlink:href=\"#DejaVuSans-2e\" x=\"63.623047\"/>\n       <use xlink:href=\"#DejaVuSans-30\" x=\"95.410156\"/>\n      </g>\n     </g>\n    </g>\n    <g id=\"xtick_60\">\n     <g id=\"line2d_118\">\n      <g>\n       <use xlink:href=\"#m53ffd6c531\" x=\"768.210306\" y=\"278.502128\" style=\"stroke: #000000; stroke-width: 0.8\"/>\n      </g>\n     </g>\n     <g id=\"text_176\">\n      <!-- 1.0 -->\n      <g transform=\"translate(760.258743 293.100565) scale(0.1 -0.1)\">\n       <use xlink:href=\"#DejaVuSans-31\"/>\n       <use xlink:href=\"#DejaVuSans-2e\" x=\"63.623047\"/>\n       <use xlink:href=\"#DejaVuSans-30\" x=\"95.410156\"/>\n      </g>\n     </g>\n    </g>\n    <g id=\"text_177\">\n     <!-- diziness -->\n     <g transform=\"translate(721.46629 306.77869) scale(0.1 -0.1)\">\n      <defs>\n       <path id=\"DejaVuSans-7a\" d=\"M 353 3500 \nL 3084 3500 \nL 3084 2975 \nL 922 459 \nL 3084 459 \nL 3084 0 \nL 275 0 \nL 275 525 \nL 2438 3041 \nL 353 3041 \nL 353 3500 \nz\n\" transform=\"scale(0.015625)\"/>\n      </defs>\n      <use xlink:href=\"#DejaVuSans-64\"/>\n      <use xlink:href=\"#DejaVuSans-69\" x=\"63.476562\"/>\n      <use xlink:href=\"#DejaVuSans-7a\" x=\"91.259766\"/>\n      <use xlink:href=\"#DejaVuSans-69\" x=\"143.75\"/>\n      <use xlink:href=\"#DejaVuSans-6e\" x=\"171.533203\"/>\n      <use xlink:href=\"#DejaVuSans-65\" x=\"234.912109\"/>\n      <use xlink:href=\"#DejaVuSans-73\" x=\"296.435547\"/>\n      <use xlink:href=\"#DejaVuSans-73\" x=\"348.535156\"/>\n     </g>\n    </g>\n   </g>\n   <g id=\"matplotlib.axis_60\">\n    <g id=\"ytick_59\">\n     <g id=\"line2d_119\">\n      <g>\n       <use xlink:href=\"#mddf5a59a20\" x=\"688.072008\" y=\"278.502128\" style=\"stroke: #000000; stroke-width: 0.8\"/>\n      </g>\n     </g>\n     <g id=\"text_178\">\n      <!-- 0 -->\n      <g transform=\"translate(674.709508 282.301346) scale(0.1 -0.1)\">\n       <use xlink:href=\"#DejaVuSans-30\"/>\n      </g>\n     </g>\n    </g>\n    <g id=\"ytick_60\">\n     <g id=\"line2d_120\">\n      <g>\n       <use xlink:href=\"#mddf5a59a20\" x=\"688.072008\" y=\"247.434532\" style=\"stroke: #000000; stroke-width: 0.8\"/>\n      </g>\n     </g>\n     <g id=\"text_179\">\n      <!-- 250 -->\n      <g transform=\"translate(661.984508 251.233751) scale(0.1 -0.1)\">\n       <use xlink:href=\"#DejaVuSans-32\"/>\n       <use xlink:href=\"#DejaVuSans-35\" x=\"63.623047\"/>\n       <use xlink:href=\"#DejaVuSans-30\" x=\"127.246094\"/>\n      </g>\n     </g>\n    </g>\n    <g id=\"text_180\">\n     <!-- count -->\n     <g transform=\"translate(655.90482 263.119016) rotate(-90) scale(0.1 -0.1)\">\n      <use xlink:href=\"#DejaVuSans-63\"/>\n      <use xlink:href=\"#DejaVuSans-6f\" x=\"54.980469\"/>\n      <use xlink:href=\"#DejaVuSans-75\" x=\"116.162109\"/>\n      <use xlink:href=\"#DejaVuSans-6e\" x=\"179.541016\"/>\n      <use xlink:href=\"#DejaVuSans-74\" x=\"242.919922\"/>\n     </g>\n    </g>\n   </g>\n   <g id=\"patch_208\">\n    <path d=\"M 688.072008 278.502128 \nL 688.072008 219.523404 \n\" style=\"fill: none; stroke: #000000; stroke-width: 0.8; stroke-linejoin: miter; stroke-linecap: square\"/>\n   </g>\n   <g id=\"patch_209\">\n    <path d=\"M 794.923072 278.502128 \nL 794.923072 219.523404 \n\" style=\"fill: none; stroke: #000000; stroke-width: 0.8; stroke-linejoin: miter; stroke-linecap: square\"/>\n   </g>\n   <g id=\"patch_210\">\n    <path d=\"M 688.072008 278.502128 \nL 794.923072 278.502128 \n\" style=\"fill: none; stroke: #000000; stroke-width: 0.8; stroke-linejoin: miter; stroke-linecap: square\"/>\n   </g>\n   <g id=\"patch_211\">\n    <path d=\"M 688.072008 219.523404 \nL 794.923072 219.523404 \n\" style=\"fill: none; stroke: #000000; stroke-width: 0.8; stroke-linejoin: miter; stroke-linecap: square\"/>\n   </g>\n  </g>\n  <g id=\"axes_31\">\n   <g id=\"patch_212\">\n    <path d=\"M 816.293285 278.502128 \nL 923.144348 278.502128 \nL 923.144348 219.523404 \nL 816.293285 219.523404 \nz\n\" style=\"fill: #ffffff\"/>\n   </g>\n   <g id=\"patch_213\">\n    <path d=\"M 821.635838 278.502128 \nL 864.376263 278.502128 \nL 864.376263 222.331915 \nL 821.635838 222.331915 \nz\n\" clip-path=\"url(#p6c14c20edd)\" style=\"fill: #3274a1\"/>\n   </g>\n   <g id=\"patch_214\">\n    <path d=\"M 875.06137 278.502128 \nL 917.801795 278.502128 \nL 917.801795 253.46101 \nL 875.06137 253.46101 \nz\n\" clip-path=\"url(#p6c14c20edd)\" style=\"fill: #e1812c\"/>\n   </g>\n   <g id=\"matplotlib.axis_61\">\n    <g id=\"xtick_61\">\n     <g id=\"line2d_121\">\n      <g>\n       <use xlink:href=\"#m53ffd6c531\" x=\"843.006051\" y=\"278.502128\" style=\"stroke: #000000; stroke-width: 0.8\"/>\n      </g>\n     </g>\n     <g id=\"text_181\">\n      <!-- 0.0 -->\n      <g transform=\"translate(835.054488 293.100565) scale(0.1 -0.1)\">\n       <use xlink:href=\"#DejaVuSans-30\"/>\n       <use xlink:href=\"#DejaVuSans-2e\" x=\"63.623047\"/>\n       <use xlink:href=\"#DejaVuSans-30\" x=\"95.410156\"/>\n      </g>\n     </g>\n    </g>\n    <g id=\"xtick_62\">\n     <g id=\"line2d_122\">\n      <g>\n       <use xlink:href=\"#m53ffd6c531\" x=\"896.431582\" y=\"278.502128\" style=\"stroke: #000000; stroke-width: 0.8\"/>\n      </g>\n     </g>\n     <g id=\"text_182\">\n      <!-- 1.0 -->\n      <g transform=\"translate(888.48002 293.100565) scale(0.1 -0.1)\">\n       <use xlink:href=\"#DejaVuSans-31\"/>\n       <use xlink:href=\"#DejaVuSans-2e\" x=\"63.623047\"/>\n       <use xlink:href=\"#DejaVuSans-30\" x=\"95.410156\"/>\n      </g>\n     </g>\n    </g>\n    <g id=\"text_183\">\n     <!-- inflammation -->\n     <g transform=\"translate(836.565691 306.77869) scale(0.1 -0.1)\">\n      <use xlink:href=\"#DejaVuSans-69\"/>\n      <use xlink:href=\"#DejaVuSans-6e\" x=\"27.783203\"/>\n      <use xlink:href=\"#DejaVuSans-66\" x=\"91.162109\"/>\n      <use xlink:href=\"#DejaVuSans-6c\" x=\"126.367188\"/>\n      <use xlink:href=\"#DejaVuSans-61\" x=\"154.150391\"/>\n      <use xlink:href=\"#DejaVuSans-6d\" x=\"215.429688\"/>\n      <use xlink:href=\"#DejaVuSans-6d\" x=\"312.841797\"/>\n      <use xlink:href=\"#DejaVuSans-61\" x=\"410.253906\"/>\n      <use xlink:href=\"#DejaVuSans-74\" x=\"471.533203\"/>\n      <use xlink:href=\"#DejaVuSans-69\" x=\"510.742188\"/>\n      <use xlink:href=\"#DejaVuSans-6f\" x=\"538.525391\"/>\n      <use xlink:href=\"#DejaVuSans-6e\" x=\"599.707031\"/>\n     </g>\n    </g>\n   </g>\n   <g id=\"matplotlib.axis_62\">\n    <g id=\"ytick_61\">\n     <g id=\"line2d_123\">\n      <g>\n       <use xlink:href=\"#mddf5a59a20\" x=\"816.293285\" y=\"278.502128\" style=\"stroke: #000000; stroke-width: 0.8\"/>\n      </g>\n     </g>\n     <g id=\"text_184\">\n      <!-- 0 -->\n      <g transform=\"translate(802.930785 282.301346) scale(0.1 -0.1)\">\n       <use xlink:href=\"#DejaVuSans-30\"/>\n      </g>\n     </g>\n    </g>\n    <g id=\"ytick_62\">\n     <g id=\"line2d_124\">\n      <g>\n       <use xlink:href=\"#mddf5a59a20\" x=\"816.293285\" y=\"221.068372\" style=\"stroke: #000000; stroke-width: 0.8\"/>\n      </g>\n     </g>\n     <g id=\"text_185\">\n      <!-- 500 -->\n      <g transform=\"translate(790.205785 224.867591) scale(0.1 -0.1)\">\n       <use xlink:href=\"#DejaVuSans-35\"/>\n       <use xlink:href=\"#DejaVuSans-30\" x=\"63.623047\"/>\n       <use xlink:href=\"#DejaVuSans-30\" x=\"127.246094\"/>\n      </g>\n     </g>\n    </g>\n    <g id=\"text_186\">\n     <!-- count -->\n     <g transform=\"translate(784.126097 263.119016) rotate(-90) scale(0.1 -0.1)\">\n      <use xlink:href=\"#DejaVuSans-63\"/>\n      <use xlink:href=\"#DejaVuSans-6f\" x=\"54.980469\"/>\n      <use xlink:href=\"#DejaVuSans-75\" x=\"116.162109\"/>\n      <use xlink:href=\"#DejaVuSans-6e\" x=\"179.541016\"/>\n      <use xlink:href=\"#DejaVuSans-74\" x=\"242.919922\"/>\n     </g>\n    </g>\n   </g>\n   <g id=\"patch_215\">\n    <path d=\"M 816.293285 278.502128 \nL 816.293285 219.523404 \n\" style=\"fill: none; stroke: #000000; stroke-width: 0.8; stroke-linejoin: miter; stroke-linecap: square\"/>\n   </g>\n   <g id=\"patch_216\">\n    <path d=\"M 923.144348 278.502128 \nL 923.144348 219.523404 \n\" style=\"fill: none; stroke: #000000; stroke-width: 0.8; stroke-linejoin: miter; stroke-linecap: square\"/>\n   </g>\n   <g id=\"patch_217\">\n    <path d=\"M 816.293285 278.502128 \nL 923.144348 278.502128 \n\" style=\"fill: none; stroke: #000000; stroke-width: 0.8; stroke-linejoin: miter; stroke-linecap: square\"/>\n   </g>\n   <g id=\"patch_218\">\n    <path d=\"M 816.293285 219.523404 \nL 923.144348 219.523404 \n\" style=\"fill: none; stroke: #000000; stroke-width: 0.8; stroke-linejoin: miter; stroke-linecap: square\"/>\n   </g>\n  </g>\n  <g id=\"axes_32\">\n   <g id=\"patch_219\">\n    <path d=\"M 944.514561 278.502128 \nL 1051.365625 278.502128 \nL 1051.365625 219.523404 \nL 944.514561 219.523404 \nz\n\" style=\"fill: #ffffff\"/>\n   </g>\n   <g id=\"patch_220\">\n    <path d=\"M 949.857114 278.502128 \nL 992.59754 278.502128 \nL 992.59754 222.331915 \nL 949.857114 222.331915 \nz\n\" clip-path=\"url(#p099df49dce)\" style=\"fill: #3274a1\"/>\n   </g>\n   <g id=\"patch_221\">\n    <path d=\"M 1003.282646 278.502128 \nL 1046.023072 278.502128 \nL 1046.023072 244.621682 \nL 1003.282646 244.621682 \nz\n\" clip-path=\"url(#p099df49dce)\" style=\"fill: #e1812c\"/>\n   </g>\n   <g id=\"matplotlib.axis_63\">\n    <g id=\"xtick_63\">\n     <g id=\"line2d_125\">\n      <g>\n       <use xlink:href=\"#m53ffd6c531\" x=\"971.227327\" y=\"278.502128\" style=\"stroke: #000000; stroke-width: 0.8\"/>\n      </g>\n     </g>\n     <g id=\"text_187\">\n      <!-- 0.0 -->\n      <g transform=\"translate(963.275765 293.100565) scale(0.1 -0.1)\">\n       <use xlink:href=\"#DejaVuSans-30\"/>\n       <use xlink:href=\"#DejaVuSans-2e\" x=\"63.623047\"/>\n       <use xlink:href=\"#DejaVuSans-30\" x=\"95.410156\"/>\n      </g>\n     </g>\n    </g>\n    <g id=\"xtick_64\">\n     <g id=\"line2d_126\">\n      <g>\n       <use xlink:href=\"#m53ffd6c531\" x=\"1024.652859\" y=\"278.502128\" style=\"stroke: #000000; stroke-width: 0.8\"/>\n      </g>\n     </g>\n     <g id=\"text_188\">\n      <!-- 1.0 -->\n      <g transform=\"translate(1016.701297 293.100565) scale(0.1 -0.1)\">\n       <use xlink:href=\"#DejaVuSans-31\"/>\n       <use xlink:href=\"#DejaVuSans-2e\" x=\"63.623047\"/>\n       <use xlink:href=\"#DejaVuSans-30\" x=\"95.410156\"/>\n      </g>\n     </g>\n    </g>\n    <g id=\"text_189\">\n     <!-- red_eyes -->\n     <g transform=\"translate(975.529156 306.77869) scale(0.1 -0.1)\">\n      <use xlink:href=\"#DejaVuSans-72\"/>\n      <use xlink:href=\"#DejaVuSans-65\" x=\"38.863281\"/>\n      <use xlink:href=\"#DejaVuSans-64\" x=\"100.386719\"/>\n      <use xlink:href=\"#DejaVuSans-5f\" x=\"163.863281\"/>\n      <use xlink:href=\"#DejaVuSans-65\" x=\"213.863281\"/>\n      <use xlink:href=\"#DejaVuSans-79\" x=\"275.386719\"/>\n      <use xlink:href=\"#DejaVuSans-65\" x=\"334.566406\"/>\n      <use xlink:href=\"#DejaVuSans-73\" x=\"396.089844\"/>\n     </g>\n    </g>\n   </g>\n   <g id=\"matplotlib.axis_64\">\n    <g id=\"ytick_63\">\n     <g id=\"line2d_127\">\n      <g>\n       <use xlink:href=\"#mddf5a59a20\" x=\"944.514561\" y=\"278.502128\" style=\"stroke: #000000; stroke-width: 0.8\"/>\n      </g>\n     </g>\n     <g id=\"text_190\">\n      <!-- 0 -->\n      <g transform=\"translate(931.152061 282.301346) scale(0.1 -0.1)\">\n       <use xlink:href=\"#DejaVuSans-30\"/>\n      </g>\n     </g>\n    </g>\n    <g id=\"ytick_64\">\n     <g id=\"line2d_128\">\n      <g>\n       <use xlink:href=\"#mddf5a59a20\" x=\"944.514561\" y=\"246.659603\" style=\"stroke: #000000; stroke-width: 0.8\"/>\n      </g>\n     </g>\n     <g id=\"text_191\">\n      <!-- 250 -->\n      <g transform=\"translate(918.427061 250.458822) scale(0.1 -0.1)\">\n       <use xlink:href=\"#DejaVuSans-32\"/>\n       <use xlink:href=\"#DejaVuSans-35\" x=\"63.623047\"/>\n       <use xlink:href=\"#DejaVuSans-30\" x=\"127.246094\"/>\n      </g>\n     </g>\n    </g>\n    <g id=\"text_192\">\n     <!-- count -->\n     <g transform=\"translate(912.347374 263.119016) rotate(-90) scale(0.1 -0.1)\">\n      <use xlink:href=\"#DejaVuSans-63\"/>\n      <use xlink:href=\"#DejaVuSans-6f\" x=\"54.980469\"/>\n      <use xlink:href=\"#DejaVuSans-75\" x=\"116.162109\"/>\n      <use xlink:href=\"#DejaVuSans-6e\" x=\"179.541016\"/>\n      <use xlink:href=\"#DejaVuSans-74\" x=\"242.919922\"/>\n     </g>\n    </g>\n   </g>\n   <g id=\"patch_222\">\n    <path d=\"M 944.514561 278.502128 \nL 944.514561 219.523404 \n\" style=\"fill: none; stroke: #000000; stroke-width: 0.8; stroke-linejoin: miter; stroke-linecap: square\"/>\n   </g>\n   <g id=\"patch_223\">\n    <path d=\"M 1051.365625 278.502128 \nL 1051.365625 219.523404 \n\" style=\"fill: none; stroke: #000000; stroke-width: 0.8; stroke-linejoin: miter; stroke-linecap: square\"/>\n   </g>\n   <g id=\"patch_224\">\n    <path d=\"M 944.514561 278.502128 \nL 1051.365625 278.502128 \n\" style=\"fill: none; stroke: #000000; stroke-width: 0.8; stroke-linejoin: miter; stroke-linecap: square\"/>\n   </g>\n   <g id=\"patch_225\">\n    <path d=\"M 944.514561 219.523404 \nL 1051.365625 219.523404 \n\" style=\"fill: none; stroke: #000000; stroke-width: 0.8; stroke-linejoin: miter; stroke-linecap: square\"/>\n   </g>\n  </g>\n  <g id=\"axes_33\">\n   <g id=\"patch_226\">\n    <path d=\"M 46.965625 349.276596 \nL 153.816689 349.276596 \nL 153.816689 290.297872 \nL 46.965625 290.297872 \nz\n\" style=\"fill: #ffffff\"/>\n   </g>\n   <g id=\"patch_227\">\n    <path d=\"M 52.308178 349.276596 \nL 95.048604 349.276596 \nL 95.048604 293.106383 \nL 52.308178 293.106383 \nz\n\" clip-path=\"url(#p499d300f55)\" style=\"fill: #3274a1\"/>\n   </g>\n   <g id=\"patch_228\">\n    <path d=\"M 105.73371 349.276596 \nL 148.474136 349.276596 \nL 148.474136 303.620295 \nL 105.73371 303.620295 \nz\n\" clip-path=\"url(#p499d300f55)\" style=\"fill: #e1812c\"/>\n   </g>\n   <g id=\"matplotlib.axis_65\">\n    <g id=\"xtick_65\">\n     <g id=\"line2d_129\">\n      <g>\n       <use xlink:href=\"#m53ffd6c531\" x=\"73.678391\" y=\"349.276596\" style=\"stroke: #000000; stroke-width: 0.8\"/>\n      </g>\n     </g>\n     <g id=\"text_193\">\n      <!-- 0.0 -->\n      <g transform=\"translate(65.726828 363.875033) scale(0.1 -0.1)\">\n       <use xlink:href=\"#DejaVuSans-30\"/>\n       <use xlink:href=\"#DejaVuSans-2e\" x=\"63.623047\"/>\n       <use xlink:href=\"#DejaVuSans-30\" x=\"95.410156\"/>\n      </g>\n     </g>\n    </g>\n    <g id=\"xtick_66\">\n     <g id=\"line2d_130\">\n      <g>\n       <use xlink:href=\"#m53ffd6c531\" x=\"127.103923\" y=\"349.276596\" style=\"stroke: #000000; stroke-width: 0.8\"/>\n      </g>\n     </g>\n     <g id=\"text_194\">\n      <!-- 1.0 -->\n      <g transform=\"translate(119.15236 363.875033) scale(0.1 -0.1)\">\n       <use xlink:href=\"#DejaVuSans-31\"/>\n       <use xlink:href=\"#DejaVuSans-2e\" x=\"63.623047\"/>\n       <use xlink:href=\"#DejaVuSans-30\" x=\"95.410156\"/>\n      </g>\n     </g>\n    </g>\n    <g id=\"text_195\">\n     <!-- loss_of_appetite -->\n     <g transform=\"translate(60.038813 377.553158) scale(0.1 -0.1)\">\n      <use xlink:href=\"#DejaVuSans-6c\"/>\n      <use xlink:href=\"#DejaVuSans-6f\" x=\"27.783203\"/>\n      <use xlink:href=\"#DejaVuSans-73\" x=\"88.964844\"/>\n      <use xlink:href=\"#DejaVuSans-73\" x=\"141.064453\"/>\n      <use xlink:href=\"#DejaVuSans-5f\" x=\"193.164062\"/>\n      <use xlink:href=\"#DejaVuSans-6f\" x=\"243.164062\"/>\n      <use xlink:href=\"#DejaVuSans-66\" x=\"304.345703\"/>\n      <use xlink:href=\"#DejaVuSans-5f\" x=\"339.550781\"/>\n      <use xlink:href=\"#DejaVuSans-61\" x=\"389.550781\"/>\n      <use xlink:href=\"#DejaVuSans-70\" x=\"450.830078\"/>\n      <use xlink:href=\"#DejaVuSans-70\" x=\"514.306641\"/>\n      <use xlink:href=\"#DejaVuSans-65\" x=\"577.783203\"/>\n      <use xlink:href=\"#DejaVuSans-74\" x=\"639.306641\"/>\n      <use xlink:href=\"#DejaVuSans-69\" x=\"678.515625\"/>\n      <use xlink:href=\"#DejaVuSans-74\" x=\"706.298828\"/>\n      <use xlink:href=\"#DejaVuSans-65\" x=\"745.507812\"/>\n     </g>\n    </g>\n   </g>\n   <g id=\"matplotlib.axis_66\">\n    <g id=\"ytick_65\">\n     <g id=\"line2d_131\">\n      <g>\n       <use xlink:href=\"#mddf5a59a20\" x=\"46.965625\" y=\"349.276596\" style=\"stroke: #000000; stroke-width: 0.8\"/>\n      </g>\n     </g>\n     <g id=\"text_196\">\n      <!-- 0 -->\n      <g transform=\"translate(33.603125 353.075814) scale(0.1 -0.1)\">\n       <use xlink:href=\"#DejaVuSans-30\"/>\n      </g>\n     </g>\n    </g>\n    <g id=\"ytick_66\">\n     <g id=\"line2d_132\">\n      <g>\n       <use xlink:href=\"#mddf5a59a20\" x=\"46.965625\" y=\"313.270049\" style=\"stroke: #000000; stroke-width: 0.8\"/>\n      </g>\n     </g>\n     <g id=\"text_197\">\n      <!-- 250 -->\n      <g transform=\"translate(20.878125 317.069268) scale(0.1 -0.1)\">\n       <use xlink:href=\"#DejaVuSans-32\"/>\n       <use xlink:href=\"#DejaVuSans-35\" x=\"63.623047\"/>\n       <use xlink:href=\"#DejaVuSans-30\" x=\"127.246094\"/>\n      </g>\n     </g>\n    </g>\n    <g id=\"text_198\">\n     <!-- count -->\n     <g transform=\"translate(14.798438 333.893484) rotate(-90) scale(0.1 -0.1)\">\n      <use xlink:href=\"#DejaVuSans-63\"/>\n      <use xlink:href=\"#DejaVuSans-6f\" x=\"54.980469\"/>\n      <use xlink:href=\"#DejaVuSans-75\" x=\"116.162109\"/>\n      <use xlink:href=\"#DejaVuSans-6e\" x=\"179.541016\"/>\n      <use xlink:href=\"#DejaVuSans-74\" x=\"242.919922\"/>\n     </g>\n    </g>\n   </g>\n   <g id=\"patch_229\">\n    <path d=\"M 46.965625 349.276596 \nL 46.965625 290.297872 \n\" style=\"fill: none; stroke: #000000; stroke-width: 0.8; stroke-linejoin: miter; stroke-linecap: square\"/>\n   </g>\n   <g id=\"patch_230\">\n    <path d=\"M 153.816689 349.276596 \nL 153.816689 290.297872 \n\" style=\"fill: none; stroke: #000000; stroke-width: 0.8; stroke-linejoin: miter; stroke-linecap: square\"/>\n   </g>\n   <g id=\"patch_231\">\n    <path d=\"M 46.965625 349.276596 \nL 153.816689 349.276596 \n\" style=\"fill: none; stroke: #000000; stroke-width: 0.8; stroke-linejoin: miter; stroke-linecap: square\"/>\n   </g>\n   <g id=\"patch_232\">\n    <path d=\"M 46.965625 290.297872 \nL 153.816689 290.297872 \n\" style=\"fill: none; stroke: #000000; stroke-width: 0.8; stroke-linejoin: miter; stroke-linecap: square\"/>\n   </g>\n  </g>\n  <g id=\"axes_34\">\n   <g id=\"patch_233\">\n    <path d=\"M 175.186902 349.276596 \nL 282.037965 349.276596 \nL 282.037965 290.297872 \nL 175.186902 290.297872 \nz\n\" style=\"fill: #ffffff\"/>\n   </g>\n   <g id=\"patch_234\">\n    <path d=\"M 180.529455 349.276596 \nL 223.26988 349.276596 \nL 223.26988 293.106383 \nL 180.529455 293.106383 \nz\n\" clip-path=\"url(#pec7d1b2225)\" style=\"fill: #3274a1\"/>\n   </g>\n   <g id=\"patch_235\">\n    <path d=\"M 233.954987 349.276596 \nL 276.695412 349.276596 \nL 276.695412 303.35853 \nL 233.954987 303.35853 \nz\n\" clip-path=\"url(#pec7d1b2225)\" style=\"fill: #e1812c\"/>\n   </g>\n   <g id=\"matplotlib.axis_67\">\n    <g id=\"xtick_67\">\n     <g id=\"line2d_133\">\n      <g>\n       <use xlink:href=\"#m53ffd6c531\" x=\"201.899668\" y=\"349.276596\" style=\"stroke: #000000; stroke-width: 0.8\"/>\n      </g>\n     </g>\n     <g id=\"text_199\">\n      <!-- 0.0 -->\n      <g transform=\"translate(193.948105 363.875033) scale(0.1 -0.1)\">\n       <use xlink:href=\"#DejaVuSans-30\"/>\n       <use xlink:href=\"#DejaVuSans-2e\" x=\"63.623047\"/>\n       <use xlink:href=\"#DejaVuSans-30\" x=\"95.410156\"/>\n      </g>\n     </g>\n    </g>\n    <g id=\"xtick_68\">\n     <g id=\"line2d_134\">\n      <g>\n       <use xlink:href=\"#m53ffd6c531\" x=\"255.325199\" y=\"349.276596\" style=\"stroke: #000000; stroke-width: 0.8\"/>\n      </g>\n     </g>\n     <g id=\"text_200\">\n      <!-- 1.0 -->\n      <g transform=\"translate(247.373637 363.875033) scale(0.1 -0.1)\">\n       <use xlink:href=\"#DejaVuSans-31\"/>\n       <use xlink:href=\"#DejaVuSans-2e\" x=\"63.623047\"/>\n       <use xlink:href=\"#DejaVuSans-30\" x=\"95.410156\"/>\n      </g>\n     </g>\n    </g>\n    <g id=\"text_201\">\n     <!-- urination_loss -->\n     <g transform=\"translate(194.031184 377.553158) scale(0.1 -0.1)\">\n      <use xlink:href=\"#DejaVuSans-75\"/>\n      <use xlink:href=\"#DejaVuSans-72\" x=\"63.378906\"/>\n      <use xlink:href=\"#DejaVuSans-69\" x=\"104.492188\"/>\n      <use xlink:href=\"#DejaVuSans-6e\" x=\"132.275391\"/>\n      <use xlink:href=\"#DejaVuSans-61\" x=\"195.654297\"/>\n      <use xlink:href=\"#DejaVuSans-74\" x=\"256.933594\"/>\n      <use xlink:href=\"#DejaVuSans-69\" x=\"296.142578\"/>\n      <use xlink:href=\"#DejaVuSans-6f\" x=\"323.925781\"/>\n      <use xlink:href=\"#DejaVuSans-6e\" x=\"385.107422\"/>\n      <use xlink:href=\"#DejaVuSans-5f\" x=\"448.486328\"/>\n      <use xlink:href=\"#DejaVuSans-6c\" x=\"498.486328\"/>\n      <use xlink:href=\"#DejaVuSans-6f\" x=\"526.269531\"/>\n      <use xlink:href=\"#DejaVuSans-73\" x=\"587.451172\"/>\n      <use xlink:href=\"#DejaVuSans-73\" x=\"639.550781\"/>\n     </g>\n    </g>\n   </g>\n   <g id=\"matplotlib.axis_68\">\n    <g id=\"ytick_67\">\n     <g id=\"line2d_135\">\n      <g>\n       <use xlink:href=\"#mddf5a59a20\" x=\"175.186902\" y=\"349.276596\" style=\"stroke: #000000; stroke-width: 0.8\"/>\n      </g>\n     </g>\n     <g id=\"text_202\">\n      <!-- 0 -->\n      <g transform=\"translate(161.824402 353.075814) scale(0.1 -0.1)\">\n       <use xlink:href=\"#DejaVuSans-30\"/>\n      </g>\n     </g>\n    </g>\n    <g id=\"ytick_68\">\n     <g id=\"line2d_136\">\n      <g>\n       <use xlink:href=\"#mddf5a59a20\" x=\"175.186902\" y=\"313.177487\" style=\"stroke: #000000; stroke-width: 0.8\"/>\n      </g>\n     </g>\n     <g id=\"text_203\">\n      <!-- 250 -->\n      <g transform=\"translate(149.099402 316.976706) scale(0.1 -0.1)\">\n       <use xlink:href=\"#DejaVuSans-32\"/>\n       <use xlink:href=\"#DejaVuSans-35\" x=\"63.623047\"/>\n       <use xlink:href=\"#DejaVuSans-30\" x=\"127.246094\"/>\n      </g>\n     </g>\n    </g>\n    <g id=\"text_204\">\n     <!-- count -->\n     <g transform=\"translate(143.019714 333.893484) rotate(-90) scale(0.1 -0.1)\">\n      <use xlink:href=\"#DejaVuSans-63\"/>\n      <use xlink:href=\"#DejaVuSans-6f\" x=\"54.980469\"/>\n      <use xlink:href=\"#DejaVuSans-75\" x=\"116.162109\"/>\n      <use xlink:href=\"#DejaVuSans-6e\" x=\"179.541016\"/>\n      <use xlink:href=\"#DejaVuSans-74\" x=\"242.919922\"/>\n     </g>\n    </g>\n   </g>\n   <g id=\"patch_236\">\n    <path d=\"M 175.186902 349.276596 \nL 175.186902 290.297872 \n\" style=\"fill: none; stroke: #000000; stroke-width: 0.8; stroke-linejoin: miter; stroke-linecap: square\"/>\n   </g>\n   <g id=\"patch_237\">\n    <path d=\"M 282.037965 349.276596 \nL 282.037965 290.297872 \n\" style=\"fill: none; stroke: #000000; stroke-width: 0.8; stroke-linejoin: miter; stroke-linecap: square\"/>\n   </g>\n   <g id=\"patch_238\">\n    <path d=\"M 175.186902 349.276596 \nL 282.037965 349.276596 \n\" style=\"fill: none; stroke: #000000; stroke-width: 0.8; stroke-linejoin: miter; stroke-linecap: square\"/>\n   </g>\n   <g id=\"patch_239\">\n    <path d=\"M 175.186902 290.297872 \nL 282.037965 290.297872 \n\" style=\"fill: none; stroke: #000000; stroke-width: 0.8; stroke-linejoin: miter; stroke-linecap: square\"/>\n   </g>\n  </g>\n  <g id=\"axes_35\">\n   <g id=\"patch_240\">\n    <path d=\"M 303.408178 349.276596 \nL 410.259242 349.276596 \nL 410.259242 290.297872 \nL 303.408178 290.297872 \nz\n\" style=\"fill: #ffffff\"/>\n   </g>\n   <g id=\"patch_241\">\n    <path d=\"M 308.750731 349.276596 \nL 351.491157 349.276596 \nL 351.491157 293.106383 \nL 308.750731 293.106383 \nz\n\" clip-path=\"url(#p5e2e321291)\" style=\"fill: #3274a1\"/>\n   </g>\n   <g id=\"patch_242\">\n    <path d=\"M 362.176263 349.276596 \nL 404.916689 349.276596 \nL 404.916689 311.118209 \nL 362.176263 311.118209 \nz\n\" clip-path=\"url(#p5e2e321291)\" style=\"fill: #e1812c\"/>\n   </g>\n   <g id=\"matplotlib.axis_69\">\n    <g id=\"xtick_69\">\n     <g id=\"line2d_137\">\n      <g>\n       <use xlink:href=\"#m53ffd6c531\" x=\"330.120944\" y=\"349.276596\" style=\"stroke: #000000; stroke-width: 0.8\"/>\n      </g>\n     </g>\n     <g id=\"text_205\">\n      <!-- 0.0 -->\n      <g transform=\"translate(322.169382 363.875033) scale(0.1 -0.1)\">\n       <use xlink:href=\"#DejaVuSans-30\"/>\n       <use xlink:href=\"#DejaVuSans-2e\" x=\"63.623047\"/>\n       <use xlink:href=\"#DejaVuSans-30\" x=\"95.410156\"/>\n      </g>\n     </g>\n    </g>\n    <g id=\"xtick_70\">\n     <g id=\"line2d_138\">\n      <g>\n       <use xlink:href=\"#m53ffd6c531\" x=\"383.546476\" y=\"349.276596\" style=\"stroke: #000000; stroke-width: 0.8\"/>\n      </g>\n     </g>\n     <g id=\"text_206\">\n      <!-- 1.0 -->\n      <g transform=\"translate(375.594914 363.875033) scale(0.1 -0.1)\">\n       <use xlink:href=\"#DejaVuSans-31\"/>\n       <use xlink:href=\"#DejaVuSans-2e\" x=\"63.623047\"/>\n       <use xlink:href=\"#DejaVuSans-30\" x=\"95.410156\"/>\n      </g>\n     </g>\n    </g>\n    <g id=\"text_207\">\n     <!-- slow_heart_rate -->\n     <g transform=\"translate(317.210273 377.553158) scale(0.1 -0.1)\">\n      <use xlink:href=\"#DejaVuSans-73\"/>\n      <use xlink:href=\"#DejaVuSans-6c\" x=\"52.099609\"/>\n      <use xlink:href=\"#DejaVuSans-6f\" x=\"79.882812\"/>\n      <use xlink:href=\"#DejaVuSans-77\" x=\"141.064453\"/>\n      <use xlink:href=\"#DejaVuSans-5f\" x=\"222.851562\"/>\n      <use xlink:href=\"#DejaVuSans-68\" x=\"272.851562\"/>\n      <use xlink:href=\"#DejaVuSans-65\" x=\"336.230469\"/>\n      <use xlink:href=\"#DejaVuSans-61\" x=\"397.753906\"/>\n      <use xlink:href=\"#DejaVuSans-72\" x=\"459.033203\"/>\n      <use xlink:href=\"#DejaVuSans-74\" x=\"500.146484\"/>\n      <use xlink:href=\"#DejaVuSans-5f\" x=\"539.355469\"/>\n      <use xlink:href=\"#DejaVuSans-72\" x=\"589.355469\"/>\n      <use xlink:href=\"#DejaVuSans-61\" x=\"630.46875\"/>\n      <use xlink:href=\"#DejaVuSans-74\" x=\"691.748047\"/>\n      <use xlink:href=\"#DejaVuSans-65\" x=\"730.957031\"/>\n     </g>\n    </g>\n   </g>\n   <g id=\"matplotlib.axis_70\">\n    <g id=\"ytick_69\">\n     <g id=\"line2d_139\">\n      <g>\n       <use xlink:href=\"#mddf5a59a20\" x=\"303.408178\" y=\"349.276596\" style=\"stroke: #000000; stroke-width: 0.8\"/>\n      </g>\n     </g>\n     <g id=\"text_208\">\n      <!-- 0 -->\n      <g transform=\"translate(290.045678 353.075814) scale(0.1 -0.1)\">\n       <use xlink:href=\"#DejaVuSans-30\"/>\n      </g>\n     </g>\n    </g>\n    <g id=\"ytick_70\">\n     <g id=\"line2d_140\">\n      <g>\n       <use xlink:href=\"#mddf5a59a20\" x=\"303.408178\" y=\"315.921363\" style=\"stroke: #000000; stroke-width: 0.8\"/>\n      </g>\n     </g>\n     <g id=\"text_209\">\n      <!-- 250 -->\n      <g transform=\"translate(277.320678 319.720581) scale(0.1 -0.1)\">\n       <use xlink:href=\"#DejaVuSans-32\"/>\n       <use xlink:href=\"#DejaVuSans-35\" x=\"63.623047\"/>\n       <use xlink:href=\"#DejaVuSans-30\" x=\"127.246094\"/>\n      </g>\n     </g>\n    </g>\n    <g id=\"text_210\">\n     <!-- count -->\n     <g transform=\"translate(271.240991 333.893484) rotate(-90) scale(0.1 -0.1)\">\n      <use xlink:href=\"#DejaVuSans-63\"/>\n      <use xlink:href=\"#DejaVuSans-6f\" x=\"54.980469\"/>\n      <use xlink:href=\"#DejaVuSans-75\" x=\"116.162109\"/>\n      <use xlink:href=\"#DejaVuSans-6e\" x=\"179.541016\"/>\n      <use xlink:href=\"#DejaVuSans-74\" x=\"242.919922\"/>\n     </g>\n    </g>\n   </g>\n   <g id=\"patch_243\">\n    <path d=\"M 303.408178 349.276596 \nL 303.408178 290.297872 \n\" style=\"fill: none; stroke: #000000; stroke-width: 0.8; stroke-linejoin: miter; stroke-linecap: square\"/>\n   </g>\n   <g id=\"patch_244\">\n    <path d=\"M 410.259242 349.276596 \nL 410.259242 290.297872 \n\" style=\"fill: none; stroke: #000000; stroke-width: 0.8; stroke-linejoin: miter; stroke-linecap: square\"/>\n   </g>\n   <g id=\"patch_245\">\n    <path d=\"M 303.408178 349.276596 \nL 410.259242 349.276596 \n\" style=\"fill: none; stroke: #000000; stroke-width: 0.8; stroke-linejoin: miter; stroke-linecap: square\"/>\n   </g>\n   <g id=\"patch_246\">\n    <path d=\"M 303.408178 290.297872 \nL 410.259242 290.297872 \n\" style=\"fill: none; stroke: #000000; stroke-width: 0.8; stroke-linejoin: miter; stroke-linecap: square\"/>\n   </g>\n  </g>\n  <g id=\"axes_36\">\n   <g id=\"patch_247\">\n    <path d=\"M 431.629455 349.276596 \nL 538.480519 349.276596 \nL 538.480519 290.297872 \nL 431.629455 290.297872 \nz\n\" style=\"fill: #ffffff\"/>\n   </g>\n   <g id=\"patch_248\">\n    <path d=\"M 436.972008 349.276596 \nL 479.712434 349.276596 \nL 479.712434 293.106383 \nL 436.972008 293.106383 \nz\n\" clip-path=\"url(#pff0f726856)\" style=\"fill: #3274a1\"/>\n   </g>\n   <g id=\"patch_249\">\n    <path d=\"M 490.39754 349.276596 \nL 533.137965 349.276596 \nL 533.137965 303.095416 \nL 490.39754 303.095416 \nz\n\" clip-path=\"url(#pff0f726856)\" style=\"fill: #e1812c\"/>\n   </g>\n   <g id=\"matplotlib.axis_71\">\n    <g id=\"xtick_71\">\n     <g id=\"line2d_141\">\n      <g>\n       <use xlink:href=\"#m53ffd6c531\" x=\"458.342221\" y=\"349.276596\" style=\"stroke: #000000; stroke-width: 0.8\"/>\n      </g>\n     </g>\n     <g id=\"text_211\">\n      <!-- 0.0 -->\n      <g transform=\"translate(450.390658 363.875033) scale(0.1 -0.1)\">\n       <use xlink:href=\"#DejaVuSans-30\"/>\n       <use xlink:href=\"#DejaVuSans-2e\" x=\"63.623047\"/>\n       <use xlink:href=\"#DejaVuSans-30\" x=\"95.410156\"/>\n      </g>\n     </g>\n    </g>\n    <g id=\"xtick_72\">\n     <g id=\"line2d_142\">\n      <g>\n       <use xlink:href=\"#m53ffd6c531\" x=\"511.767753\" y=\"349.276596\" style=\"stroke: #000000; stroke-width: 0.8\"/>\n      </g>\n     </g>\n     <g id=\"text_212\">\n      <!-- 1.0 -->\n      <g transform=\"translate(503.81619 363.875033) scale(0.1 -0.1)\">\n       <use xlink:href=\"#DejaVuSans-31\"/>\n       <use xlink:href=\"#DejaVuSans-2e\" x=\"63.623047\"/>\n       <use xlink:href=\"#DejaVuSans-30\" x=\"95.410156\"/>\n      </g>\n     </g>\n    </g>\n    <g id=\"text_213\">\n     <!-- abdominal_pain -->\n     <g transform=\"translate(445.405768 377.553158) scale(0.1 -0.1)\">\n      <use xlink:href=\"#DejaVuSans-61\"/>\n      <use xlink:href=\"#DejaVuSans-62\" x=\"61.279297\"/>\n      <use xlink:href=\"#DejaVuSans-64\" x=\"124.755859\"/>\n      <use xlink:href=\"#DejaVuSans-6f\" x=\"188.232422\"/>\n      <use xlink:href=\"#DejaVuSans-6d\" x=\"249.414062\"/>\n      <use xlink:href=\"#DejaVuSans-69\" x=\"346.826172\"/>\n      <use xlink:href=\"#DejaVuSans-6e\" x=\"374.609375\"/>\n      <use xlink:href=\"#DejaVuSans-61\" x=\"437.988281\"/>\n      <use xlink:href=\"#DejaVuSans-6c\" x=\"499.267578\"/>\n      <use xlink:href=\"#DejaVuSans-5f\" x=\"527.050781\"/>\n      <use xlink:href=\"#DejaVuSans-70\" x=\"577.050781\"/>\n      <use xlink:href=\"#DejaVuSans-61\" x=\"640.527344\"/>\n      <use xlink:href=\"#DejaVuSans-69\" x=\"701.806641\"/>\n      <use xlink:href=\"#DejaVuSans-6e\" x=\"729.589844\"/>\n     </g>\n    </g>\n   </g>\n   <g id=\"matplotlib.axis_72\">\n    <g id=\"ytick_71\">\n     <g id=\"line2d_143\">\n      <g>\n       <use xlink:href=\"#mddf5a59a20\" x=\"431.629455\" y=\"349.276596\" style=\"stroke: #000000; stroke-width: 0.8\"/>\n      </g>\n     </g>\n     <g id=\"text_214\">\n      <!-- 0 -->\n      <g transform=\"translate(418.266955 353.075814) scale(0.1 -0.1)\">\n       <use xlink:href=\"#DejaVuSans-30\"/>\n      </g>\n     </g>\n    </g>\n    <g id=\"ytick_72\">\n     <g id=\"line2d_144\">\n      <g>\n       <use xlink:href=\"#mddf5a59a20\" x=\"431.629455\" y=\"313.084448\" style=\"stroke: #000000; stroke-width: 0.8\"/>\n      </g>\n     </g>\n     <g id=\"text_215\">\n      <!-- 250 -->\n      <g transform=\"translate(405.541955 316.883667) scale(0.1 -0.1)\">\n       <use xlink:href=\"#DejaVuSans-32\"/>\n       <use xlink:href=\"#DejaVuSans-35\" x=\"63.623047\"/>\n       <use xlink:href=\"#DejaVuSans-30\" x=\"127.246094\"/>\n      </g>\n     </g>\n    </g>\n    <g id=\"text_216\">\n     <!-- count -->\n     <g transform=\"translate(399.462267 333.893484) rotate(-90) scale(0.1 -0.1)\">\n      <use xlink:href=\"#DejaVuSans-63\"/>\n      <use xlink:href=\"#DejaVuSans-6f\" x=\"54.980469\"/>\n      <use xlink:href=\"#DejaVuSans-75\" x=\"116.162109\"/>\n      <use xlink:href=\"#DejaVuSans-6e\" x=\"179.541016\"/>\n      <use xlink:href=\"#DejaVuSans-74\" x=\"242.919922\"/>\n     </g>\n    </g>\n   </g>\n   <g id=\"patch_250\">\n    <path d=\"M 431.629455 349.276596 \nL 431.629455 290.297872 \n\" style=\"fill: none; stroke: #000000; stroke-width: 0.8; stroke-linejoin: miter; stroke-linecap: square\"/>\n   </g>\n   <g id=\"patch_251\">\n    <path d=\"M 538.480519 349.276596 \nL 538.480519 290.297872 \n\" style=\"fill: none; stroke: #000000; stroke-width: 0.8; stroke-linejoin: miter; stroke-linecap: square\"/>\n   </g>\n   <g id=\"patch_252\">\n    <path d=\"M 431.629455 349.276596 \nL 538.480519 349.276596 \n\" style=\"fill: none; stroke: #000000; stroke-width: 0.8; stroke-linejoin: miter; stroke-linecap: square\"/>\n   </g>\n   <g id=\"patch_253\">\n    <path d=\"M 431.629455 290.297872 \nL 538.480519 290.297872 \n\" style=\"fill: none; stroke: #000000; stroke-width: 0.8; stroke-linejoin: miter; stroke-linecap: square\"/>\n   </g>\n  </g>\n  <g id=\"axes_37\">\n   <g id=\"patch_254\">\n    <path d=\"M 559.850731 349.276596 \nL 666.701795 349.276596 \nL 666.701795 290.297872 \nL 559.850731 290.297872 \nz\n\" style=\"fill: #ffffff\"/>\n   </g>\n   <g id=\"patch_255\">\n    <path d=\"M 565.193285 349.276596 \nL 607.93371 349.276596 \nL 607.93371 293.106383 \nL 565.193285 293.106383 \nz\n\" clip-path=\"url(#p2f37d02648)\" style=\"fill: #3274a1\"/>\n   </g>\n   <g id=\"patch_256\">\n    <path d=\"M 618.618816 349.276596 \nL 661.359242 349.276596 \nL 661.359242 297.238796 \nL 618.618816 297.238796 \nz\n\" clip-path=\"url(#p2f37d02648)\" style=\"fill: #e1812c\"/>\n   </g>\n   <g id=\"matplotlib.axis_73\">\n    <g id=\"xtick_73\">\n     <g id=\"line2d_145\">\n      <g>\n       <use xlink:href=\"#m53ffd6c531\" x=\"586.563497\" y=\"349.276596\" style=\"stroke: #000000; stroke-width: 0.8\"/>\n      </g>\n     </g>\n     <g id=\"text_217\">\n      <!-- 0.0 -->\n      <g transform=\"translate(578.611935 363.875033) scale(0.1 -0.1)\">\n       <use xlink:href=\"#DejaVuSans-30\"/>\n       <use xlink:href=\"#DejaVuSans-2e\" x=\"63.623047\"/>\n       <use xlink:href=\"#DejaVuSans-30\" x=\"95.410156\"/>\n      </g>\n     </g>\n    </g>\n    <g id=\"xtick_74\">\n     <g id=\"line2d_146\">\n      <g>\n       <use xlink:href=\"#m53ffd6c531\" x=\"639.989029\" y=\"349.276596\" style=\"stroke: #000000; stroke-width: 0.8\"/>\n      </g>\n     </g>\n     <g id=\"text_218\">\n      <!-- 1.0 -->\n      <g transform=\"translate(632.037467 363.875033) scale(0.1 -0.1)\">\n       <use xlink:href=\"#DejaVuSans-31\"/>\n       <use xlink:href=\"#DejaVuSans-2e\" x=\"63.623047\"/>\n       <use xlink:href=\"#DejaVuSans-30\" x=\"95.410156\"/>\n      </g>\n     </g>\n    </g>\n    <g id=\"text_219\">\n     <!-- light_sensitivity -->\n     <g transform=\"translate(574.234076 377.553158) scale(0.1 -0.1)\">\n      <use xlink:href=\"#DejaVuSans-6c\"/>\n      <use xlink:href=\"#DejaVuSans-69\" x=\"27.783203\"/>\n      <use xlink:href=\"#DejaVuSans-67\" x=\"55.566406\"/>\n      <use xlink:href=\"#DejaVuSans-68\" x=\"119.042969\"/>\n      <use xlink:href=\"#DejaVuSans-74\" x=\"182.421875\"/>\n      <use xlink:href=\"#DejaVuSans-5f\" x=\"221.630859\"/>\n      <use xlink:href=\"#DejaVuSans-73\" x=\"271.630859\"/>\n      <use xlink:href=\"#DejaVuSans-65\" x=\"323.730469\"/>\n      <use xlink:href=\"#DejaVuSans-6e\" x=\"385.253906\"/>\n      <use xlink:href=\"#DejaVuSans-73\" x=\"448.632812\"/>\n      <use xlink:href=\"#DejaVuSans-69\" x=\"500.732422\"/>\n      <use xlink:href=\"#DejaVuSans-74\" x=\"528.515625\"/>\n      <use xlink:href=\"#DejaVuSans-69\" x=\"567.724609\"/>\n      <use xlink:href=\"#DejaVuSans-76\" x=\"595.507812\"/>\n      <use xlink:href=\"#DejaVuSans-69\" x=\"654.6875\"/>\n      <use xlink:href=\"#DejaVuSans-74\" x=\"682.470703\"/>\n      <use xlink:href=\"#DejaVuSans-79\" x=\"721.679688\"/>\n     </g>\n    </g>\n   </g>\n   <g id=\"matplotlib.axis_74\">\n    <g id=\"ytick_73\">\n     <g id=\"line2d_147\">\n      <g>\n       <use xlink:href=\"#mddf5a59a20\" x=\"559.850731\" y=\"349.276596\" style=\"stroke: #000000; stroke-width: 0.8\"/>\n      </g>\n     </g>\n     <g id=\"text_220\">\n      <!-- 0 -->\n      <g transform=\"translate(546.488231 353.075814) scale(0.1 -0.1)\">\n       <use xlink:href=\"#DejaVuSans-30\"/>\n      </g>\n     </g>\n    </g>\n    <g id=\"ytick_74\">\n     <g id=\"line2d_148\">\n      <g>\n       <use xlink:href=\"#mddf5a59a20\" x=\"559.850731\" y=\"318.666126\" style=\"stroke: #000000; stroke-width: 0.8\"/>\n      </g>\n     </g>\n     <g id=\"text_221\">\n      <!-- 200 -->\n      <g transform=\"translate(533.763231 322.465344) scale(0.1 -0.1)\">\n       <use xlink:href=\"#DejaVuSans-32\"/>\n       <use xlink:href=\"#DejaVuSans-30\" x=\"63.623047\"/>\n       <use xlink:href=\"#DejaVuSans-30\" x=\"127.246094\"/>\n      </g>\n     </g>\n    </g>\n    <g id=\"text_222\">\n     <!-- count -->\n     <g transform=\"translate(527.683544 333.893484) rotate(-90) scale(0.1 -0.1)\">\n      <use xlink:href=\"#DejaVuSans-63\"/>\n      <use xlink:href=\"#DejaVuSans-6f\" x=\"54.980469\"/>\n      <use xlink:href=\"#DejaVuSans-75\" x=\"116.162109\"/>\n      <use xlink:href=\"#DejaVuSans-6e\" x=\"179.541016\"/>\n      <use xlink:href=\"#DejaVuSans-74\" x=\"242.919922\"/>\n     </g>\n    </g>\n   </g>\n   <g id=\"patch_257\">\n    <path d=\"M 559.850731 349.276596 \nL 559.850731 290.297872 \n\" style=\"fill: none; stroke: #000000; stroke-width: 0.8; stroke-linejoin: miter; stroke-linecap: square\"/>\n   </g>\n   <g id=\"patch_258\">\n    <path d=\"M 666.701795 349.276596 \nL 666.701795 290.297872 \n\" style=\"fill: none; stroke: #000000; stroke-width: 0.8; stroke-linejoin: miter; stroke-linecap: square\"/>\n   </g>\n   <g id=\"patch_259\">\n    <path d=\"M 559.850731 349.276596 \nL 666.701795 349.276596 \n\" style=\"fill: none; stroke: #000000; stroke-width: 0.8; stroke-linejoin: miter; stroke-linecap: square\"/>\n   </g>\n   <g id=\"patch_260\">\n    <path d=\"M 559.850731 290.297872 \nL 666.701795 290.297872 \n\" style=\"fill: none; stroke: #000000; stroke-width: 0.8; stroke-linejoin: miter; stroke-linecap: square\"/>\n   </g>\n  </g>\n  <g id=\"axes_38\">\n   <g id=\"patch_261\">\n    <path d=\"M 688.072008 349.276596 \nL 794.923072 349.276596 \nL 794.923072 290.297872 \nL 688.072008 290.297872 \nz\n\" style=\"fill: #ffffff\"/>\n   </g>\n   <g id=\"patch_262\">\n    <path d=\"M 693.414561 349.276596 \nL 736.154987 349.276596 \nL 736.154987 293.106383 \nL 693.414561 293.106383 \nz\n\" clip-path=\"url(#p2dfb902f6d)\" style=\"fill: #3274a1\"/>\n   </g>\n   <g id=\"patch_263\">\n    <path d=\"M 746.840093 349.276596 \nL 789.580519 349.276596 \nL 789.580519 296.943146 \nL 746.840093 296.943146 \nz\n\" clip-path=\"url(#p2dfb902f6d)\" style=\"fill: #e1812c\"/>\n   </g>\n   <g id=\"matplotlib.axis_75\">\n    <g id=\"xtick_75\">\n     <g id=\"line2d_149\">\n      <g>\n       <use xlink:href=\"#m53ffd6c531\" x=\"714.784774\" y=\"349.276596\" style=\"stroke: #000000; stroke-width: 0.8\"/>\n      </g>\n     </g>\n     <g id=\"text_223\">\n      <!-- 0.0 -->\n      <g transform=\"translate(706.833211 363.875033) scale(0.1 -0.1)\">\n       <use xlink:href=\"#DejaVuSans-30\"/>\n       <use xlink:href=\"#DejaVuSans-2e\" x=\"63.623047\"/>\n       <use xlink:href=\"#DejaVuSans-30\" x=\"95.410156\"/>\n      </g>\n     </g>\n    </g>\n    <g id=\"xtick_76\">\n     <g id=\"line2d_150\">\n      <g>\n       <use xlink:href=\"#m53ffd6c531\" x=\"768.210306\" y=\"349.276596\" style=\"stroke: #000000; stroke-width: 0.8\"/>\n      </g>\n     </g>\n     <g id=\"text_224\">\n      <!-- 1.0 -->\n      <g transform=\"translate(760.258743 363.875033) scale(0.1 -0.1)\">\n       <use xlink:href=\"#DejaVuSans-31\"/>\n       <use xlink:href=\"#DejaVuSans-2e\" x=\"63.623047\"/>\n       <use xlink:href=\"#DejaVuSans-30\" x=\"95.410156\"/>\n      </g>\n     </g>\n    </g>\n    <g id=\"text_225\">\n     <!-- yellow_skin -->\n     <g transform=\"translate(712.977227 377.553158) scale(0.1 -0.1)\">\n      <use xlink:href=\"#DejaVuSans-79\"/>\n      <use xlink:href=\"#DejaVuSans-65\" x=\"59.179688\"/>\n      <use xlink:href=\"#DejaVuSans-6c\" x=\"120.703125\"/>\n      <use xlink:href=\"#DejaVuSans-6c\" x=\"148.486328\"/>\n      <use xlink:href=\"#DejaVuSans-6f\" x=\"176.269531\"/>\n      <use xlink:href=\"#DejaVuSans-77\" x=\"237.451172\"/>\n      <use xlink:href=\"#DejaVuSans-5f\" x=\"319.238281\"/>\n      <use xlink:href=\"#DejaVuSans-73\" x=\"369.238281\"/>\n      <use xlink:href=\"#DejaVuSans-6b\" x=\"421.337891\"/>\n      <use xlink:href=\"#DejaVuSans-69\" x=\"479.248047\"/>\n      <use xlink:href=\"#DejaVuSans-6e\" x=\"507.03125\"/>\n     </g>\n    </g>\n   </g>\n   <g id=\"matplotlib.axis_76\">\n    <g id=\"ytick_75\">\n     <g id=\"line2d_151\">\n      <g>\n       <use xlink:href=\"#mddf5a59a20\" x=\"688.072008\" y=\"349.276596\" style=\"stroke: #000000; stroke-width: 0.8\"/>\n      </g>\n     </g>\n     <g id=\"text_226\">\n      <!-- 0 -->\n      <g transform=\"translate(674.709508 353.075814) scale(0.1 -0.1)\">\n       <use xlink:href=\"#DejaVuSans-30\"/>\n      </g>\n     </g>\n    </g>\n    <g id=\"ytick_76\">\n     <g id=\"line2d_152\">\n      <g>\n       <use xlink:href=\"#mddf5a59a20\" x=\"688.072008\" y=\"318.58249\" style=\"stroke: #000000; stroke-width: 0.8\"/>\n      </g>\n     </g>\n     <g id=\"text_227\">\n      <!-- 200 -->\n      <g transform=\"translate(661.984508 322.381709) scale(0.1 -0.1)\">\n       <use xlink:href=\"#DejaVuSans-32\"/>\n       <use xlink:href=\"#DejaVuSans-30\" x=\"63.623047\"/>\n       <use xlink:href=\"#DejaVuSans-30\" x=\"127.246094\"/>\n      </g>\n     </g>\n    </g>\n    <g id=\"text_228\">\n     <!-- count -->\n     <g transform=\"translate(655.90482 333.893484) rotate(-90) scale(0.1 -0.1)\">\n      <use xlink:href=\"#DejaVuSans-63\"/>\n      <use xlink:href=\"#DejaVuSans-6f\" x=\"54.980469\"/>\n      <use xlink:href=\"#DejaVuSans-75\" x=\"116.162109\"/>\n      <use xlink:href=\"#DejaVuSans-6e\" x=\"179.541016\"/>\n      <use xlink:href=\"#DejaVuSans-74\" x=\"242.919922\"/>\n     </g>\n    </g>\n   </g>\n   <g id=\"patch_264\">\n    <path d=\"M 688.072008 349.276596 \nL 688.072008 290.297872 \n\" style=\"fill: none; stroke: #000000; stroke-width: 0.8; stroke-linejoin: miter; stroke-linecap: square\"/>\n   </g>\n   <g id=\"patch_265\">\n    <path d=\"M 794.923072 349.276596 \nL 794.923072 290.297872 \n\" style=\"fill: none; stroke: #000000; stroke-width: 0.8; stroke-linejoin: miter; stroke-linecap: square\"/>\n   </g>\n   <g id=\"patch_266\">\n    <path d=\"M 688.072008 349.276596 \nL 794.923072 349.276596 \n\" style=\"fill: none; stroke: #000000; stroke-width: 0.8; stroke-linejoin: miter; stroke-linecap: square\"/>\n   </g>\n   <g id=\"patch_267\">\n    <path d=\"M 688.072008 290.297872 \nL 794.923072 290.297872 \n\" style=\"fill: none; stroke: #000000; stroke-width: 0.8; stroke-linejoin: miter; stroke-linecap: square\"/>\n   </g>\n  </g>\n  <g id=\"axes_39\">\n   <g id=\"patch_268\">\n    <path d=\"M 816.293285 349.276596 \nL 923.144348 349.276596 \nL 923.144348 290.297872 \nL 816.293285 290.297872 \nz\n\" style=\"fill: #ffffff\"/>\n   </g>\n   <g id=\"patch_269\">\n    <path d=\"M 821.635838 349.276596 \nL 864.376263 349.276596 \nL 864.376263 293.106383 \nL 821.635838 293.106383 \nz\n\" clip-path=\"url(#pe336f95dc1)\" style=\"fill: #3274a1\"/>\n   </g>\n   <g id=\"patch_270\">\n    <path d=\"M 875.06137 349.276596 \nL 917.801795 349.276596 \nL 917.801795 305.415724 \nL 875.06137 305.415724 \nz\n\" clip-path=\"url(#pe336f95dc1)\" style=\"fill: #e1812c\"/>\n   </g>\n   <g id=\"matplotlib.axis_77\">\n    <g id=\"xtick_77\">\n     <g id=\"line2d_153\">\n      <g>\n       <use xlink:href=\"#m53ffd6c531\" x=\"843.006051\" y=\"349.276596\" style=\"stroke: #000000; stroke-width: 0.8\"/>\n      </g>\n     </g>\n     <g id=\"text_229\">\n      <!-- 0.0 -->\n      <g transform=\"translate(835.054488 363.875033) scale(0.1 -0.1)\">\n       <use xlink:href=\"#DejaVuSans-30\"/>\n       <use xlink:href=\"#DejaVuSans-2e\" x=\"63.623047\"/>\n       <use xlink:href=\"#DejaVuSans-30\" x=\"95.410156\"/>\n      </g>\n     </g>\n    </g>\n    <g id=\"xtick_78\">\n     <g id=\"line2d_154\">\n      <g>\n       <use xlink:href=\"#m53ffd6c531\" x=\"896.431582\" y=\"349.276596\" style=\"stroke: #000000; stroke-width: 0.8\"/>\n      </g>\n     </g>\n     <g id=\"text_230\">\n      <!-- 1.0 -->\n      <g transform=\"translate(888.48002 363.875033) scale(0.1 -0.1)\">\n       <use xlink:href=\"#DejaVuSans-31\"/>\n       <use xlink:href=\"#DejaVuSans-2e\" x=\"63.623047\"/>\n       <use xlink:href=\"#DejaVuSans-30\" x=\"95.410156\"/>\n      </g>\n     </g>\n    </g>\n    <g id=\"text_231\">\n     <!-- yellow_eyes -->\n     <g transform=\"translate(839.539129 377.553158) scale(0.1 -0.1)\">\n      <use xlink:href=\"#DejaVuSans-79\"/>\n      <use xlink:href=\"#DejaVuSans-65\" x=\"59.179688\"/>\n      <use xlink:href=\"#DejaVuSans-6c\" x=\"120.703125\"/>\n      <use xlink:href=\"#DejaVuSans-6c\" x=\"148.486328\"/>\n      <use xlink:href=\"#DejaVuSans-6f\" x=\"176.269531\"/>\n      <use xlink:href=\"#DejaVuSans-77\" x=\"237.451172\"/>\n      <use xlink:href=\"#DejaVuSans-5f\" x=\"319.238281\"/>\n      <use xlink:href=\"#DejaVuSans-65\" x=\"369.238281\"/>\n      <use xlink:href=\"#DejaVuSans-79\" x=\"430.761719\"/>\n      <use xlink:href=\"#DejaVuSans-65\" x=\"489.941406\"/>\n      <use xlink:href=\"#DejaVuSans-73\" x=\"551.464844\"/>\n     </g>\n    </g>\n   </g>\n   <g id=\"matplotlib.axis_78\">\n    <g id=\"ytick_77\">\n     <g id=\"line2d_155\">\n      <g>\n       <use xlink:href=\"#mddf5a59a20\" x=\"816.293285\" y=\"349.276596\" style=\"stroke: #000000; stroke-width: 0.8\"/>\n      </g>\n     </g>\n     <g id=\"text_232\">\n      <!-- 0 -->\n      <g transform=\"translate(802.930785 353.075814) scale(0.1 -0.1)\">\n       <use xlink:href=\"#DejaVuSans-30\"/>\n      </g>\n     </g>\n    </g>\n    <g id=\"ytick_78\">\n     <g id=\"line2d_156\">\n      <g>\n       <use xlink:href=\"#mddf5a59a20\" x=\"816.293285\" y=\"313.904925\" style=\"stroke: #000000; stroke-width: 0.8\"/>\n      </g>\n     </g>\n     <g id=\"text_233\">\n      <!-- 250 -->\n      <g transform=\"translate(790.205785 317.704144) scale(0.1 -0.1)\">\n       <use xlink:href=\"#DejaVuSans-32\"/>\n       <use xlink:href=\"#DejaVuSans-35\" x=\"63.623047\"/>\n       <use xlink:href=\"#DejaVuSans-30\" x=\"127.246094\"/>\n      </g>\n     </g>\n    </g>\n    <g id=\"text_234\">\n     <!-- count -->\n     <g transform=\"translate(784.126097 333.893484) rotate(-90) scale(0.1 -0.1)\">\n      <use xlink:href=\"#DejaVuSans-63\"/>\n      <use xlink:href=\"#DejaVuSans-6f\" x=\"54.980469\"/>\n      <use xlink:href=\"#DejaVuSans-75\" x=\"116.162109\"/>\n      <use xlink:href=\"#DejaVuSans-6e\" x=\"179.541016\"/>\n      <use xlink:href=\"#DejaVuSans-74\" x=\"242.919922\"/>\n     </g>\n    </g>\n   </g>\n   <g id=\"patch_271\">\n    <path d=\"M 816.293285 349.276596 \nL 816.293285 290.297872 \n\" style=\"fill: none; stroke: #000000; stroke-width: 0.8; stroke-linejoin: miter; stroke-linecap: square\"/>\n   </g>\n   <g id=\"patch_272\">\n    <path d=\"M 923.144348 349.276596 \nL 923.144348 290.297872 \n\" style=\"fill: none; stroke: #000000; stroke-width: 0.8; stroke-linejoin: miter; stroke-linecap: square\"/>\n   </g>\n   <g id=\"patch_273\">\n    <path d=\"M 816.293285 349.276596 \nL 923.144348 349.276596 \n\" style=\"fill: none; stroke: #000000; stroke-width: 0.8; stroke-linejoin: miter; stroke-linecap: square\"/>\n   </g>\n   <g id=\"patch_274\">\n    <path d=\"M 816.293285 290.297872 \nL 923.144348 290.297872 \n\" style=\"fill: none; stroke: #000000; stroke-width: 0.8; stroke-linejoin: miter; stroke-linecap: square\"/>\n   </g>\n  </g>\n  <g id=\"axes_40\">\n   <g id=\"patch_275\">\n    <path d=\"M 944.514561 349.276596 \nL 1051.365625 349.276596 \nL 1051.365625 290.297872 \nL 944.514561 290.297872 \nz\n\" style=\"fill: #ffffff\"/>\n   </g>\n   <g id=\"patch_276\">\n    <path d=\"M 949.857114 349.276596 \nL 992.59754 349.276596 \nL 992.59754 293.106383 \nL 949.857114 293.106383 \nz\n\" clip-path=\"url(#p62bbc046e4)\" style=\"fill: #3274a1\"/>\n   </g>\n   <g id=\"patch_277\">\n    <path d=\"M 1003.282646 349.276596 \nL 1046.023072 349.276596 \nL 1046.023072 315.599884 \nL 1003.282646 315.599884 \nz\n\" clip-path=\"url(#p62bbc046e4)\" style=\"fill: #e1812c\"/>\n   </g>\n   <g id=\"matplotlib.axis_79\">\n    <g id=\"xtick_79\">\n     <g id=\"line2d_157\">\n      <g>\n       <use xlink:href=\"#m53ffd6c531\" x=\"971.227327\" y=\"349.276596\" style=\"stroke: #000000; stroke-width: 0.8\"/>\n      </g>\n     </g>\n     <g id=\"text_235\">\n      <!-- 0.0 -->\n      <g transform=\"translate(963.275765 363.875033) scale(0.1 -0.1)\">\n       <use xlink:href=\"#DejaVuSans-30\"/>\n       <use xlink:href=\"#DejaVuSans-2e\" x=\"63.623047\"/>\n       <use xlink:href=\"#DejaVuSans-30\" x=\"95.410156\"/>\n      </g>\n     </g>\n    </g>\n    <g id=\"xtick_80\">\n     <g id=\"line2d_158\">\n      <g>\n       <use xlink:href=\"#m53ffd6c531\" x=\"1024.652859\" y=\"349.276596\" style=\"stroke: #000000; stroke-width: 0.8\"/>\n      </g>\n     </g>\n     <g id=\"text_236\">\n      <!-- 1.0 -->\n      <g transform=\"translate(1016.701297 363.875033) scale(0.1 -0.1)\">\n       <use xlink:href=\"#DejaVuSans-31\"/>\n       <use xlink:href=\"#DejaVuSans-2e\" x=\"63.623047\"/>\n       <use xlink:href=\"#DejaVuSans-30\" x=\"95.410156\"/>\n      </g>\n     </g>\n    </g>\n    <g id=\"text_237\">\n     <!-- facial_distortion -->\n     <g transform=\"translate(958.204156 377.553158) scale(0.1 -0.1)\">\n      <use xlink:href=\"#DejaVuSans-66\"/>\n      <use xlink:href=\"#DejaVuSans-61\" x=\"35.205078\"/>\n      <use xlink:href=\"#DejaVuSans-63\" x=\"96.484375\"/>\n      <use xlink:href=\"#DejaVuSans-69\" x=\"151.464844\"/>\n      <use xlink:href=\"#DejaVuSans-61\" x=\"179.248047\"/>\n      <use xlink:href=\"#DejaVuSans-6c\" x=\"240.527344\"/>\n      <use xlink:href=\"#DejaVuSans-5f\" x=\"268.310547\"/>\n      <use xlink:href=\"#DejaVuSans-64\" x=\"318.310547\"/>\n      <use xlink:href=\"#DejaVuSans-69\" x=\"381.787109\"/>\n      <use xlink:href=\"#DejaVuSans-73\" x=\"409.570312\"/>\n      <use xlink:href=\"#DejaVuSans-74\" x=\"461.669922\"/>\n      <use xlink:href=\"#DejaVuSans-6f\" x=\"500.878906\"/>\n      <use xlink:href=\"#DejaVuSans-72\" x=\"562.060547\"/>\n      <use xlink:href=\"#DejaVuSans-74\" x=\"603.173828\"/>\n      <use xlink:href=\"#DejaVuSans-69\" x=\"642.382812\"/>\n      <use xlink:href=\"#DejaVuSans-6f\" x=\"670.166016\"/>\n      <use xlink:href=\"#DejaVuSans-6e\" x=\"731.347656\"/>\n     </g>\n    </g>\n   </g>\n   <g id=\"matplotlib.axis_80\">\n    <g id=\"ytick_79\">\n     <g id=\"line2d_159\">\n      <g>\n       <use xlink:href=\"#mddf5a59a20\" x=\"944.514561\" y=\"349.276596\" style=\"stroke: #000000; stroke-width: 0.8\"/>\n      </g>\n     </g>\n     <g id=\"text_238\">\n      <!-- 0 -->\n      <g transform=\"translate(931.152061 353.075814) scale(0.1 -0.1)\">\n       <use xlink:href=\"#DejaVuSans-30\"/>\n      </g>\n     </g>\n    </g>\n    <g id=\"ytick_80\">\n     <g id=\"line2d_160\">\n      <g>\n       <use xlink:href=\"#mddf5a59a20\" x=\"944.514561\" y=\"317.506113\" style=\"stroke: #000000; stroke-width: 0.8\"/>\n      </g>\n     </g>\n     <g id=\"text_239\">\n      <!-- 250 -->\n      <g transform=\"translate(918.427061 321.305332) scale(0.1 -0.1)\">\n       <use xlink:href=\"#DejaVuSans-32\"/>\n       <use xlink:href=\"#DejaVuSans-35\" x=\"63.623047\"/>\n       <use xlink:href=\"#DejaVuSans-30\" x=\"127.246094\"/>\n      </g>\n     </g>\n    </g>\n    <g id=\"text_240\">\n     <!-- count -->\n     <g transform=\"translate(912.347374 333.893484) rotate(-90) scale(0.1 -0.1)\">\n      <use xlink:href=\"#DejaVuSans-63\"/>\n      <use xlink:href=\"#DejaVuSans-6f\" x=\"54.980469\"/>\n      <use xlink:href=\"#DejaVuSans-75\" x=\"116.162109\"/>\n      <use xlink:href=\"#DejaVuSans-6e\" x=\"179.541016\"/>\n      <use xlink:href=\"#DejaVuSans-74\" x=\"242.919922\"/>\n     </g>\n    </g>\n   </g>\n   <g id=\"patch_278\">\n    <path d=\"M 944.514561 349.276596 \nL 944.514561 290.297872 \n\" style=\"fill: none; stroke: #000000; stroke-width: 0.8; stroke-linejoin: miter; stroke-linecap: square\"/>\n   </g>\n   <g id=\"patch_279\">\n    <path d=\"M 1051.365625 349.276596 \nL 1051.365625 290.297872 \n\" style=\"fill: none; stroke: #000000; stroke-width: 0.8; stroke-linejoin: miter; stroke-linecap: square\"/>\n   </g>\n   <g id=\"patch_280\">\n    <path d=\"M 944.514561 349.276596 \nL 1051.365625 349.276596 \n\" style=\"fill: none; stroke: #000000; stroke-width: 0.8; stroke-linejoin: miter; stroke-linecap: square\"/>\n   </g>\n   <g id=\"patch_281\">\n    <path d=\"M 944.514561 290.297872 \nL 1051.365625 290.297872 \n\" style=\"fill: none; stroke: #000000; stroke-width: 0.8; stroke-linejoin: miter; stroke-linecap: square\"/>\n   </g>\n  </g>\n  <g id=\"axes_41\">\n   <g id=\"patch_282\">\n    <path d=\"M 46.965625 420.051064 \nL 153.816689 420.051064 \nL 153.816689 361.07234 \nL 46.965625 361.07234 \nz\n\" style=\"fill: #ffffff\"/>\n   </g>\n   <g id=\"patch_283\">\n    <path d=\"M 52.308178 420.051064 \nL 95.048604 420.051064 \nL 95.048604 363.880851 \nL 52.308178 363.880851 \nz\n\" clip-path=\"url(#pb29c69b27a)\" style=\"fill: #3274a1\"/>\n   </g>\n   <g id=\"patch_284\">\n    <path d=\"M 105.73371 420.051064 \nL 148.474136 420.051064 \nL 148.474136 398.959914 \nL 105.73371 398.959914 \nz\n\" clip-path=\"url(#pb29c69b27a)\" style=\"fill: #e1812c\"/>\n   </g>\n   <g id=\"matplotlib.axis_81\">\n    <g id=\"xtick_81\">\n     <g id=\"line2d_161\">\n      <g>\n       <use xlink:href=\"#m53ffd6c531\" x=\"73.678391\" y=\"420.051064\" style=\"stroke: #000000; stroke-width: 0.8\"/>\n      </g>\n     </g>\n     <g id=\"text_241\">\n      <!-- 0.0 -->\n      <g transform=\"translate(65.726828 434.649501) scale(0.1 -0.1)\">\n       <use xlink:href=\"#DejaVuSans-30\"/>\n       <use xlink:href=\"#DejaVuSans-2e\" x=\"63.623047\"/>\n       <use xlink:href=\"#DejaVuSans-30\" x=\"95.410156\"/>\n      </g>\n     </g>\n    </g>\n    <g id=\"xtick_82\">\n     <g id=\"line2d_162\">\n      <g>\n       <use xlink:href=\"#m53ffd6c531\" x=\"127.103923\" y=\"420.051064\" style=\"stroke: #000000; stroke-width: 0.8\"/>\n      </g>\n     </g>\n     <g id=\"text_242\">\n      <!-- 1.0 -->\n      <g transform=\"translate(119.15236 434.649501) scale(0.1 -0.1)\">\n       <use xlink:href=\"#DejaVuSans-31\"/>\n       <use xlink:href=\"#DejaVuSans-2e\" x=\"63.623047\"/>\n       <use xlink:href=\"#DejaVuSans-30\" x=\"95.410156\"/>\n      </g>\n     </g>\n    </g>\n    <g id=\"text_243\">\n     <!-- microcephaly -->\n     <g transform=\"translate(66.798969 448.327626) scale(0.1 -0.1)\">\n      <use xlink:href=\"#DejaVuSans-6d\"/>\n      <use xlink:href=\"#DejaVuSans-69\" x=\"97.412109\"/>\n      <use xlink:href=\"#DejaVuSans-63\" x=\"125.195312\"/>\n      <use xlink:href=\"#DejaVuSans-72\" x=\"180.175781\"/>\n      <use xlink:href=\"#DejaVuSans-6f\" x=\"219.039062\"/>\n      <use xlink:href=\"#DejaVuSans-63\" x=\"280.220703\"/>\n      <use xlink:href=\"#DejaVuSans-65\" x=\"335.201172\"/>\n      <use xlink:href=\"#DejaVuSans-70\" x=\"396.724609\"/>\n      <use xlink:href=\"#DejaVuSans-68\" x=\"460.201172\"/>\n      <use xlink:href=\"#DejaVuSans-61\" x=\"523.580078\"/>\n      <use xlink:href=\"#DejaVuSans-6c\" x=\"584.859375\"/>\n      <use xlink:href=\"#DejaVuSans-79\" x=\"612.642578\"/>\n     </g>\n    </g>\n   </g>\n   <g id=\"matplotlib.axis_82\">\n    <g id=\"ytick_81\">\n     <g id=\"line2d_163\">\n      <g>\n       <use xlink:href=\"#mddf5a59a20\" x=\"46.965625\" y=\"420.051064\" style=\"stroke: #000000; stroke-width: 0.8\"/>\n      </g>\n     </g>\n     <g id=\"text_244\">\n      <!-- 0 -->\n      <g transform=\"translate(33.603125 423.850283) scale(0.1 -0.1)\">\n       <use xlink:href=\"#DejaVuSans-30\"/>\n      </g>\n     </g>\n    </g>\n    <g id=\"ytick_82\">\n     <g id=\"line2d_164\">\n      <g>\n       <use xlink:href=\"#mddf5a59a20\" x=\"46.965625\" y=\"365.410779\" style=\"stroke: #000000; stroke-width: 0.8\"/>\n      </g>\n     </g>\n     <g id=\"text_245\">\n      <!-- 500 -->\n      <g transform=\"translate(20.878125 369.209998) scale(0.1 -0.1)\">\n       <use xlink:href=\"#DejaVuSans-35\"/>\n       <use xlink:href=\"#DejaVuSans-30\" x=\"63.623047\"/>\n       <use xlink:href=\"#DejaVuSans-30\" x=\"127.246094\"/>\n      </g>\n     </g>\n    </g>\n    <g id=\"text_246\">\n     <!-- count -->\n     <g transform=\"translate(14.798438 404.667952) rotate(-90) scale(0.1 -0.1)\">\n      <use xlink:href=\"#DejaVuSans-63\"/>\n      <use xlink:href=\"#DejaVuSans-6f\" x=\"54.980469\"/>\n      <use xlink:href=\"#DejaVuSans-75\" x=\"116.162109\"/>\n      <use xlink:href=\"#DejaVuSans-6e\" x=\"179.541016\"/>\n      <use xlink:href=\"#DejaVuSans-74\" x=\"242.919922\"/>\n     </g>\n    </g>\n   </g>\n   <g id=\"patch_285\">\n    <path d=\"M 46.965625 420.051064 \nL 46.965625 361.07234 \n\" style=\"fill: none; stroke: #000000; stroke-width: 0.8; stroke-linejoin: miter; stroke-linecap: square\"/>\n   </g>\n   <g id=\"patch_286\">\n    <path d=\"M 153.816689 420.051064 \nL 153.816689 361.07234 \n\" style=\"fill: none; stroke: #000000; stroke-width: 0.8; stroke-linejoin: miter; stroke-linecap: square\"/>\n   </g>\n   <g id=\"patch_287\">\n    <path d=\"M 46.965625 420.051064 \nL 153.816689 420.051064 \n\" style=\"fill: none; stroke: #000000; stroke-width: 0.8; stroke-linejoin: miter; stroke-linecap: square\"/>\n   </g>\n   <g id=\"patch_288\">\n    <path d=\"M 46.965625 361.07234 \nL 153.816689 361.07234 \n\" style=\"fill: none; stroke: #000000; stroke-width: 0.8; stroke-linejoin: miter; stroke-linecap: square\"/>\n   </g>\n  </g>\n  <g id=\"axes_42\">\n   <g id=\"patch_289\">\n    <path d=\"M 175.186902 420.051064 \nL 282.037965 420.051064 \nL 282.037965 361.07234 \nL 175.186902 361.07234 \nz\n\" style=\"fill: #ffffff\"/>\n   </g>\n   <g id=\"patch_290\">\n    <path d=\"M 180.529455 420.051064 \nL 223.26988 420.051064 \nL 223.26988 363.880851 \nL 180.529455 363.880851 \nz\n\" clip-path=\"url(#p3218ceb718)\" style=\"fill: #3274a1\"/>\n   </g>\n   <g id=\"patch_291\">\n    <path d=\"M 233.954987 420.051064 \nL 276.695412 420.051064 \nL 276.695412 404.66751 \nL 233.954987 404.66751 \nz\n\" clip-path=\"url(#p3218ceb718)\" style=\"fill: #e1812c\"/>\n   </g>\n   <g id=\"matplotlib.axis_83\">\n    <g id=\"xtick_83\">\n     <g id=\"line2d_165\">\n      <g>\n       <use xlink:href=\"#m53ffd6c531\" x=\"201.899668\" y=\"420.051064\" style=\"stroke: #000000; stroke-width: 0.8\"/>\n      </g>\n     </g>\n     <g id=\"text_247\">\n      <!-- 0.0 -->\n      <g transform=\"translate(193.948105 434.649501) scale(0.1 -0.1)\">\n       <use xlink:href=\"#DejaVuSans-30\"/>\n       <use xlink:href=\"#DejaVuSans-2e\" x=\"63.623047\"/>\n       <use xlink:href=\"#DejaVuSans-30\" x=\"95.410156\"/>\n      </g>\n     </g>\n    </g>\n    <g id=\"xtick_84\">\n     <g id=\"line2d_166\">\n      <g>\n       <use xlink:href=\"#m53ffd6c531\" x=\"255.325199\" y=\"420.051064\" style=\"stroke: #000000; stroke-width: 0.8\"/>\n      </g>\n     </g>\n     <g id=\"text_248\">\n      <!-- 1.0 -->\n      <g transform=\"translate(247.373637 434.649501) scale(0.1 -0.1)\">\n       <use xlink:href=\"#DejaVuSans-31\"/>\n       <use xlink:href=\"#DejaVuSans-2e\" x=\"63.623047\"/>\n       <use xlink:href=\"#DejaVuSans-30\" x=\"95.410156\"/>\n      </g>\n     </g>\n    </g>\n    <g id=\"text_249\">\n     <!-- rigor -->\n     <g transform=\"translate(216.87884 448.327626) scale(0.1 -0.1)\">\n      <use xlink:href=\"#DejaVuSans-72\"/>\n      <use xlink:href=\"#DejaVuSans-69\" x=\"41.113281\"/>\n      <use xlink:href=\"#DejaVuSans-67\" x=\"68.896484\"/>\n      <use xlink:href=\"#DejaVuSans-6f\" x=\"132.373047\"/>\n      <use xlink:href=\"#DejaVuSans-72\" x=\"193.554688\"/>\n     </g>\n    </g>\n   </g>\n   <g id=\"matplotlib.axis_84\">\n    <g id=\"ytick_83\">\n     <g id=\"line2d_167\">\n      <g>\n       <use xlink:href=\"#mddf5a59a20\" x=\"175.186902\" y=\"420.051064\" style=\"stroke: #000000; stroke-width: 0.8\"/>\n      </g>\n     </g>\n     <g id=\"text_250\">\n      <!-- 0 -->\n      <g transform=\"translate(161.824402 423.850283) scale(0.1 -0.1)\">\n       <use xlink:href=\"#DejaVuSans-30\"/>\n      </g>\n     </g>\n    </g>\n    <g id=\"ytick_84\">\n     <g id=\"line2d_168\">\n      <g>\n       <use xlink:href=\"#mddf5a59a20\" x=\"175.186902\" y=\"369.447269\" style=\"stroke: #000000; stroke-width: 0.8\"/>\n      </g>\n     </g>\n     <g id=\"text_251\">\n      <!-- 500 -->\n      <g transform=\"translate(149.099402 373.246487) scale(0.1 -0.1)\">\n       <use xlink:href=\"#DejaVuSans-35\"/>\n       <use xlink:href=\"#DejaVuSans-30\" x=\"63.623047\"/>\n       <use xlink:href=\"#DejaVuSans-30\" x=\"127.246094\"/>\n      </g>\n     </g>\n    </g>\n    <g id=\"text_252\">\n     <!-- count -->\n     <g transform=\"translate(143.019714 404.667952) rotate(-90) scale(0.1 -0.1)\">\n      <use xlink:href=\"#DejaVuSans-63\"/>\n      <use xlink:href=\"#DejaVuSans-6f\" x=\"54.980469\"/>\n      <use xlink:href=\"#DejaVuSans-75\" x=\"116.162109\"/>\n      <use xlink:href=\"#DejaVuSans-6e\" x=\"179.541016\"/>\n      <use xlink:href=\"#DejaVuSans-74\" x=\"242.919922\"/>\n     </g>\n    </g>\n   </g>\n   <g id=\"patch_292\">\n    <path d=\"M 175.186902 420.051064 \nL 175.186902 361.07234 \n\" style=\"fill: none; stroke: #000000; stroke-width: 0.8; stroke-linejoin: miter; stroke-linecap: square\"/>\n   </g>\n   <g id=\"patch_293\">\n    <path d=\"M 282.037965 420.051064 \nL 282.037965 361.07234 \n\" style=\"fill: none; stroke: #000000; stroke-width: 0.8; stroke-linejoin: miter; stroke-linecap: square\"/>\n   </g>\n   <g id=\"patch_294\">\n    <path d=\"M 175.186902 420.051064 \nL 282.037965 420.051064 \n\" style=\"fill: none; stroke: #000000; stroke-width: 0.8; stroke-linejoin: miter; stroke-linecap: square\"/>\n   </g>\n   <g id=\"patch_295\">\n    <path d=\"M 175.186902 361.07234 \nL 282.037965 361.07234 \n\" style=\"fill: none; stroke: #000000; stroke-width: 0.8; stroke-linejoin: miter; stroke-linecap: square\"/>\n   </g>\n  </g>\n  <g id=\"axes_43\">\n   <g id=\"patch_296\">\n    <path d=\"M 303.408178 420.051064 \nL 410.259242 420.051064 \nL 410.259242 361.07234 \nL 303.408178 361.07234 \nz\n\" style=\"fill: #ffffff\"/>\n   </g>\n   <g id=\"patch_297\">\n    <path d=\"M 308.750731 420.051064 \nL 351.491157 420.051064 \nL 351.491157 363.880851 \nL 308.750731 363.880851 \nz\n\" clip-path=\"url(#p265ed219c1)\" style=\"fill: #3274a1\"/>\n   </g>\n   <g id=\"patch_298\">\n    <path d=\"M 362.176263 420.051064 \nL 404.916689 420.051064 \nL 404.916689 402.26906 \nL 362.176263 402.26906 \nz\n\" clip-path=\"url(#p265ed219c1)\" style=\"fill: #e1812c\"/>\n   </g>\n   <g id=\"matplotlib.axis_85\">\n    <g id=\"xtick_85\">\n     <g id=\"line2d_169\">\n      <g>\n       <use xlink:href=\"#m53ffd6c531\" x=\"330.120944\" y=\"420.051064\" style=\"stroke: #000000; stroke-width: 0.8\"/>\n      </g>\n     </g>\n     <g id=\"text_253\">\n      <!-- 0.0 -->\n      <g transform=\"translate(322.169382 434.649501) scale(0.1 -0.1)\">\n       <use xlink:href=\"#DejaVuSans-30\"/>\n       <use xlink:href=\"#DejaVuSans-2e\" x=\"63.623047\"/>\n       <use xlink:href=\"#DejaVuSans-30\" x=\"95.410156\"/>\n      </g>\n     </g>\n    </g>\n    <g id=\"xtick_86\">\n     <g id=\"line2d_170\">\n      <g>\n       <use xlink:href=\"#m53ffd6c531\" x=\"383.546476\" y=\"420.051064\" style=\"stroke: #000000; stroke-width: 0.8\"/>\n      </g>\n     </g>\n     <g id=\"text_254\">\n      <!-- 1.0 -->\n      <g transform=\"translate(375.594914 434.649501) scale(0.1 -0.1)\">\n       <use xlink:href=\"#DejaVuSans-31\"/>\n       <use xlink:href=\"#DejaVuSans-2e\" x=\"63.623047\"/>\n       <use xlink:href=\"#DejaVuSans-30\" x=\"95.410156\"/>\n      </g>\n     </g>\n    </g>\n    <g id=\"text_255\">\n     <!-- bitter_tongue -->\n     <g transform=\"translate(323.110273 448.327626) scale(0.1 -0.1)\">\n      <use xlink:href=\"#DejaVuSans-62\"/>\n      <use xlink:href=\"#DejaVuSans-69\" x=\"63.476562\"/>\n      <use xlink:href=\"#DejaVuSans-74\" x=\"91.259766\"/>\n      <use xlink:href=\"#DejaVuSans-74\" x=\"130.46875\"/>\n      <use xlink:href=\"#DejaVuSans-65\" x=\"169.677734\"/>\n      <use xlink:href=\"#DejaVuSans-72\" x=\"231.201172\"/>\n      <use xlink:href=\"#DejaVuSans-5f\" x=\"272.314453\"/>\n      <use xlink:href=\"#DejaVuSans-74\" x=\"322.314453\"/>\n      <use xlink:href=\"#DejaVuSans-6f\" x=\"361.523438\"/>\n      <use xlink:href=\"#DejaVuSans-6e\" x=\"422.705078\"/>\n      <use xlink:href=\"#DejaVuSans-67\" x=\"486.083984\"/>\n      <use xlink:href=\"#DejaVuSans-75\" x=\"549.560547\"/>\n      <use xlink:href=\"#DejaVuSans-65\" x=\"612.939453\"/>\n     </g>\n    </g>\n   </g>\n   <g id=\"matplotlib.axis_86\">\n    <g id=\"ytick_85\">\n     <g id=\"line2d_171\">\n      <g>\n       <use xlink:href=\"#mddf5a59a20\" x=\"303.408178\" y=\"420.051064\" style=\"stroke: #000000; stroke-width: 0.8\"/>\n      </g>\n     </g>\n     <g id=\"text_256\">\n      <!-- 0 -->\n      <g transform=\"translate(290.045678 423.850283) scale(0.1 -0.1)\">\n       <use xlink:href=\"#DejaVuSans-30\"/>\n      </g>\n     </g>\n    </g>\n    <g id=\"ytick_86\">\n     <g id=\"line2d_172\">\n      <g>\n       <use xlink:href=\"#mddf5a59a20\" x=\"303.408178\" y=\"367.751052\" style=\"stroke: #000000; stroke-width: 0.8\"/>\n      </g>\n     </g>\n     <g id=\"text_257\">\n      <!-- 500 -->\n      <g transform=\"translate(277.320678 371.550271) scale(0.1 -0.1)\">\n       <use xlink:href=\"#DejaVuSans-35\"/>\n       <use xlink:href=\"#DejaVuSans-30\" x=\"63.623047\"/>\n       <use xlink:href=\"#DejaVuSans-30\" x=\"127.246094\"/>\n      </g>\n     </g>\n    </g>\n    <g id=\"text_258\">\n     <!-- count -->\n     <g transform=\"translate(271.240991 404.667952) rotate(-90) scale(0.1 -0.1)\">\n      <use xlink:href=\"#DejaVuSans-63\"/>\n      <use xlink:href=\"#DejaVuSans-6f\" x=\"54.980469\"/>\n      <use xlink:href=\"#DejaVuSans-75\" x=\"116.162109\"/>\n      <use xlink:href=\"#DejaVuSans-6e\" x=\"179.541016\"/>\n      <use xlink:href=\"#DejaVuSans-74\" x=\"242.919922\"/>\n     </g>\n    </g>\n   </g>\n   <g id=\"patch_299\">\n    <path d=\"M 303.408178 420.051064 \nL 303.408178 361.07234 \n\" style=\"fill: none; stroke: #000000; stroke-width: 0.8; stroke-linejoin: miter; stroke-linecap: square\"/>\n   </g>\n   <g id=\"patch_300\">\n    <path d=\"M 410.259242 420.051064 \nL 410.259242 361.07234 \n\" style=\"fill: none; stroke: #000000; stroke-width: 0.8; stroke-linejoin: miter; stroke-linecap: square\"/>\n   </g>\n   <g id=\"patch_301\">\n    <path d=\"M 303.408178 420.051064 \nL 410.259242 420.051064 \n\" style=\"fill: none; stroke: #000000; stroke-width: 0.8; stroke-linejoin: miter; stroke-linecap: square\"/>\n   </g>\n   <g id=\"patch_302\">\n    <path d=\"M 303.408178 361.07234 \nL 410.259242 361.07234 \n\" style=\"fill: none; stroke: #000000; stroke-width: 0.8; stroke-linejoin: miter; stroke-linecap: square\"/>\n   </g>\n  </g>\n  <g id=\"axes_44\">\n   <g id=\"patch_303\">\n    <path d=\"M 431.629455 420.051064 \nL 538.480519 420.051064 \nL 538.480519 361.07234 \nL 431.629455 361.07234 \nz\n\" style=\"fill: #ffffff\"/>\n   </g>\n   <g id=\"patch_304\">\n    <path d=\"M 436.972008 420.051064 \nL 479.712434 420.051064 \nL 479.712434 363.880851 \nL 436.972008 363.880851 \nz\n\" clip-path=\"url(#p457ca4a330)\" style=\"fill: #3274a1\"/>\n   </g>\n   <g id=\"patch_305\">\n    <path d=\"M 490.39754 420.051064 \nL 533.137965 420.051064 \nL 533.137965 403.62102 \nL 490.39754 403.62102 \nz\n\" clip-path=\"url(#p457ca4a330)\" style=\"fill: #e1812c\"/>\n   </g>\n   <g id=\"matplotlib.axis_87\">\n    <g id=\"xtick_87\">\n     <g id=\"line2d_173\">\n      <g>\n       <use xlink:href=\"#m53ffd6c531\" x=\"458.342221\" y=\"420.051064\" style=\"stroke: #000000; stroke-width: 0.8\"/>\n      </g>\n     </g>\n     <g id=\"text_259\">\n      <!-- 0.0 -->\n      <g transform=\"translate(450.390658 434.649501) scale(0.1 -0.1)\">\n       <use xlink:href=\"#DejaVuSans-30\"/>\n       <use xlink:href=\"#DejaVuSans-2e\" x=\"63.623047\"/>\n       <use xlink:href=\"#DejaVuSans-30\" x=\"95.410156\"/>\n      </g>\n     </g>\n    </g>\n    <g id=\"xtick_88\">\n     <g id=\"line2d_174\">\n      <g>\n       <use xlink:href=\"#m53ffd6c531\" x=\"511.767753\" y=\"420.051064\" style=\"stroke: #000000; stroke-width: 0.8\"/>\n      </g>\n     </g>\n     <g id=\"text_260\">\n      <!-- 1.0 -->\n      <g transform=\"translate(503.81619 434.649501) scale(0.1 -0.1)\">\n       <use xlink:href=\"#DejaVuSans-31\"/>\n       <use xlink:href=\"#DejaVuSans-2e\" x=\"63.623047\"/>\n       <use xlink:href=\"#DejaVuSans-30\" x=\"95.410156\"/>\n      </g>\n     </g>\n    </g>\n    <g id=\"text_261\">\n     <!-- convulsion -->\n     <g transform=\"translate(458.33858 448.327626) scale(0.1 -0.1)\">\n      <use xlink:href=\"#DejaVuSans-63\"/>\n      <use xlink:href=\"#DejaVuSans-6f\" x=\"54.980469\"/>\n      <use xlink:href=\"#DejaVuSans-6e\" x=\"116.162109\"/>\n      <use xlink:href=\"#DejaVuSans-76\" x=\"179.541016\"/>\n      <use xlink:href=\"#DejaVuSans-75\" x=\"238.720703\"/>\n      <use xlink:href=\"#DejaVuSans-6c\" x=\"302.099609\"/>\n      <use xlink:href=\"#DejaVuSans-73\" x=\"329.882812\"/>\n      <use xlink:href=\"#DejaVuSans-69\" x=\"381.982422\"/>\n      <use xlink:href=\"#DejaVuSans-6f\" x=\"409.765625\"/>\n      <use xlink:href=\"#DejaVuSans-6e\" x=\"470.947266\"/>\n     </g>\n    </g>\n   </g>\n   <g id=\"matplotlib.axis_88\">\n    <g id=\"ytick_87\">\n     <g id=\"line2d_175\">\n      <g>\n       <use xlink:href=\"#mddf5a59a20\" x=\"431.629455\" y=\"420.051064\" style=\"stroke: #000000; stroke-width: 0.8\"/>\n      </g>\n     </g>\n     <g id=\"text_262\">\n      <!-- 0 -->\n      <g transform=\"translate(418.266955 423.850283) scale(0.1 -0.1)\">\n       <use xlink:href=\"#DejaVuSans-30\"/>\n      </g>\n     </g>\n    </g>\n    <g id=\"ytick_88\">\n     <g id=\"line2d_176\">\n      <g>\n       <use xlink:href=\"#mddf5a59a20\" x=\"431.629455\" y=\"368.707176\" style=\"stroke: #000000; stroke-width: 0.8\"/>\n      </g>\n     </g>\n     <g id=\"text_263\">\n      <!-- 500 -->\n      <g transform=\"translate(405.541955 372.506395) scale(0.1 -0.1)\">\n       <use xlink:href=\"#DejaVuSans-35\"/>\n       <use xlink:href=\"#DejaVuSans-30\" x=\"63.623047\"/>\n       <use xlink:href=\"#DejaVuSans-30\" x=\"127.246094\"/>\n      </g>\n     </g>\n    </g>\n    <g id=\"text_264\">\n     <!-- count -->\n     <g transform=\"translate(399.462267 404.667952) rotate(-90) scale(0.1 -0.1)\">\n      <use xlink:href=\"#DejaVuSans-63\"/>\n      <use xlink:href=\"#DejaVuSans-6f\" x=\"54.980469\"/>\n      <use xlink:href=\"#DejaVuSans-75\" x=\"116.162109\"/>\n      <use xlink:href=\"#DejaVuSans-6e\" x=\"179.541016\"/>\n      <use xlink:href=\"#DejaVuSans-74\" x=\"242.919922\"/>\n     </g>\n    </g>\n   </g>\n   <g id=\"patch_306\">\n    <path d=\"M 431.629455 420.051064 \nL 431.629455 361.07234 \n\" style=\"fill: none; stroke: #000000; stroke-width: 0.8; stroke-linejoin: miter; stroke-linecap: square\"/>\n   </g>\n   <g id=\"patch_307\">\n    <path d=\"M 538.480519 420.051064 \nL 538.480519 361.07234 \n\" style=\"fill: none; stroke: #000000; stroke-width: 0.8; stroke-linejoin: miter; stroke-linecap: square\"/>\n   </g>\n   <g id=\"patch_308\">\n    <path d=\"M 431.629455 420.051064 \nL 538.480519 420.051064 \n\" style=\"fill: none; stroke: #000000; stroke-width: 0.8; stroke-linejoin: miter; stroke-linecap: square\"/>\n   </g>\n   <g id=\"patch_309\">\n    <path d=\"M 431.629455 361.07234 \nL 538.480519 361.07234 \n\" style=\"fill: none; stroke: #000000; stroke-width: 0.8; stroke-linejoin: miter; stroke-linecap: square\"/>\n   </g>\n  </g>\n  <g id=\"axes_45\">\n   <g id=\"patch_310\">\n    <path d=\"M 559.850731 420.051064 \nL 666.701795 420.051064 \nL 666.701795 361.07234 \nL 559.850731 361.07234 \nz\n\" style=\"fill: #ffffff\"/>\n   </g>\n   <g id=\"patch_311\">\n    <path d=\"M 565.193285 420.051064 \nL 607.93371 420.051064 \nL 607.93371 363.880851 \nL 565.193285 363.880851 \nz\n\" clip-path=\"url(#pf896dca08f)\" style=\"fill: #3274a1\"/>\n   </g>\n   <g id=\"patch_312\">\n    <path d=\"M 618.618816 420.051064 \nL 661.359242 420.051064 \nL 661.359242 403.885502 \nL 618.618816 403.885502 \nz\n\" clip-path=\"url(#pf896dca08f)\" style=\"fill: #e1812c\"/>\n   </g>\n   <g id=\"matplotlib.axis_89\">\n    <g id=\"xtick_89\">\n     <g id=\"line2d_177\">\n      <g>\n       <use xlink:href=\"#m53ffd6c531\" x=\"586.563497\" y=\"420.051064\" style=\"stroke: #000000; stroke-width: 0.8\"/>\n      </g>\n     </g>\n     <g id=\"text_265\">\n      <!-- 0.0 -->\n      <g transform=\"translate(578.611935 434.649501) scale(0.1 -0.1)\">\n       <use xlink:href=\"#DejaVuSans-30\"/>\n       <use xlink:href=\"#DejaVuSans-2e\" x=\"63.623047\"/>\n       <use xlink:href=\"#DejaVuSans-30\" x=\"95.410156\"/>\n      </g>\n     </g>\n    </g>\n    <g id=\"xtick_90\">\n     <g id=\"line2d_178\">\n      <g>\n       <use xlink:href=\"#m53ffd6c531\" x=\"639.989029\" y=\"420.051064\" style=\"stroke: #000000; stroke-width: 0.8\"/>\n      </g>\n     </g>\n     <g id=\"text_266\">\n      <!-- 1.0 -->\n      <g transform=\"translate(632.037467 434.649501) scale(0.1 -0.1)\">\n       <use xlink:href=\"#DejaVuSans-31\"/>\n       <use xlink:href=\"#DejaVuSans-2e\" x=\"63.623047\"/>\n       <use xlink:href=\"#DejaVuSans-30\" x=\"95.410156\"/>\n      </g>\n     </g>\n    </g>\n    <g id=\"text_267\">\n     <!-- anemia -->\n     <g transform=\"translate(594.643451 448.327626) scale(0.1 -0.1)\">\n      <use xlink:href=\"#DejaVuSans-61\"/>\n      <use xlink:href=\"#DejaVuSans-6e\" x=\"61.279297\"/>\n      <use xlink:href=\"#DejaVuSans-65\" x=\"124.658203\"/>\n      <use xlink:href=\"#DejaVuSans-6d\" x=\"186.181641\"/>\n      <use xlink:href=\"#DejaVuSans-69\" x=\"283.59375\"/>\n      <use xlink:href=\"#DejaVuSans-61\" x=\"311.376953\"/>\n     </g>\n    </g>\n   </g>\n   <g id=\"matplotlib.axis_90\">\n    <g id=\"ytick_89\">\n     <g id=\"line2d_179\">\n      <g>\n       <use xlink:href=\"#mddf5a59a20\" x=\"559.850731\" y=\"420.051064\" style=\"stroke: #000000; stroke-width: 0.8\"/>\n      </g>\n     </g>\n     <g id=\"text_268\">\n      <!-- 0 -->\n      <g transform=\"translate(546.488231 423.850283) scale(0.1 -0.1)\">\n       <use xlink:href=\"#DejaVuSans-30\"/>\n      </g>\n     </g>\n    </g>\n    <g id=\"ytick_90\">\n     <g id=\"line2d_180\">\n      <g>\n       <use xlink:href=\"#mddf5a59a20\" x=\"559.850731\" y=\"368.894222\" style=\"stroke: #000000; stroke-width: 0.8\"/>\n      </g>\n     </g>\n     <g id=\"text_269\">\n      <!-- 500 -->\n      <g transform=\"translate(533.763231 372.69344) scale(0.1 -0.1)\">\n       <use xlink:href=\"#DejaVuSans-35\"/>\n       <use xlink:href=\"#DejaVuSans-30\" x=\"63.623047\"/>\n       <use xlink:href=\"#DejaVuSans-30\" x=\"127.246094\"/>\n      </g>\n     </g>\n    </g>\n    <g id=\"text_270\">\n     <!-- count -->\n     <g transform=\"translate(527.683544 404.667952) rotate(-90) scale(0.1 -0.1)\">\n      <use xlink:href=\"#DejaVuSans-63\"/>\n      <use xlink:href=\"#DejaVuSans-6f\" x=\"54.980469\"/>\n      <use xlink:href=\"#DejaVuSans-75\" x=\"116.162109\"/>\n      <use xlink:href=\"#DejaVuSans-6e\" x=\"179.541016\"/>\n      <use xlink:href=\"#DejaVuSans-74\" x=\"242.919922\"/>\n     </g>\n    </g>\n   </g>\n   <g id=\"patch_313\">\n    <path d=\"M 559.850731 420.051064 \nL 559.850731 361.07234 \n\" style=\"fill: none; stroke: #000000; stroke-width: 0.8; stroke-linejoin: miter; stroke-linecap: square\"/>\n   </g>\n   <g id=\"patch_314\">\n    <path d=\"M 666.701795 420.051064 \nL 666.701795 361.07234 \n\" style=\"fill: none; stroke: #000000; stroke-width: 0.8; stroke-linejoin: miter; stroke-linecap: square\"/>\n   </g>\n   <g id=\"patch_315\">\n    <path d=\"M 559.850731 420.051064 \nL 666.701795 420.051064 \n\" style=\"fill: none; stroke: #000000; stroke-width: 0.8; stroke-linejoin: miter; stroke-linecap: square\"/>\n   </g>\n   <g id=\"patch_316\">\n    <path d=\"M 559.850731 361.07234 \nL 666.701795 361.07234 \n\" style=\"fill: none; stroke: #000000; stroke-width: 0.8; stroke-linejoin: miter; stroke-linecap: square\"/>\n   </g>\n  </g>\n  <g id=\"axes_46\">\n   <g id=\"patch_317\">\n    <path d=\"M 688.072008 420.051064 \nL 794.923072 420.051064 \nL 794.923072 361.07234 \nL 688.072008 361.07234 \nz\n\" style=\"fill: #ffffff\"/>\n   </g>\n   <g id=\"patch_318\">\n    <path d=\"M 693.414561 420.051064 \nL 736.154987 420.051064 \nL 736.154987 363.880851 \nL 693.414561 363.880851 \nz\n\" clip-path=\"url(#p97bf4c6431)\" style=\"fill: #3274a1\"/>\n   </g>\n   <g id=\"patch_319\">\n    <path d=\"M 746.840093 420.051064 \nL 789.580519 420.051064 \nL 789.580519 401.008511 \nL 746.840093 401.008511 \nz\n\" clip-path=\"url(#p97bf4c6431)\" style=\"fill: #e1812c\"/>\n   </g>\n   <g id=\"matplotlib.axis_91\">\n    <g id=\"xtick_91\">\n     <g id=\"line2d_181\">\n      <g>\n       <use xlink:href=\"#m53ffd6c531\" x=\"714.784774\" y=\"420.051064\" style=\"stroke: #000000; stroke-width: 0.8\"/>\n      </g>\n     </g>\n     <g id=\"text_271\">\n      <!-- 0.0 -->\n      <g transform=\"translate(706.833211 434.649501) scale(0.1 -0.1)\">\n       <use xlink:href=\"#DejaVuSans-30\"/>\n       <use xlink:href=\"#DejaVuSans-2e\" x=\"63.623047\"/>\n       <use xlink:href=\"#DejaVuSans-30\" x=\"95.410156\"/>\n      </g>\n     </g>\n    </g>\n    <g id=\"xtick_92\">\n     <g id=\"line2d_182\">\n      <g>\n       <use xlink:href=\"#m53ffd6c531\" x=\"768.210306\" y=\"420.051064\" style=\"stroke: #000000; stroke-width: 0.8\"/>\n      </g>\n     </g>\n     <g id=\"text_272\">\n      <!-- 1.0 -->\n      <g transform=\"translate(760.258743 434.649501) scale(0.1 -0.1)\">\n       <use xlink:href=\"#DejaVuSans-31\"/>\n       <use xlink:href=\"#DejaVuSans-2e\" x=\"63.623047\"/>\n       <use xlink:href=\"#DejaVuSans-30\" x=\"95.410156\"/>\n      </g>\n     </g>\n    </g>\n    <g id=\"text_273\">\n     <!-- cocacola_urine -->\n     <g transform=\"translate(704.255352 448.327626) scale(0.1 -0.1)\">\n      <use xlink:href=\"#DejaVuSans-63\"/>\n      <use xlink:href=\"#DejaVuSans-6f\" x=\"54.980469\"/>\n      <use xlink:href=\"#DejaVuSans-63\" x=\"116.162109\"/>\n      <use xlink:href=\"#DejaVuSans-61\" x=\"171.142578\"/>\n      <use xlink:href=\"#DejaVuSans-63\" x=\"232.421875\"/>\n      <use xlink:href=\"#DejaVuSans-6f\" x=\"287.402344\"/>\n      <use xlink:href=\"#DejaVuSans-6c\" x=\"348.583984\"/>\n      <use xlink:href=\"#DejaVuSans-61\" x=\"376.367188\"/>\n      <use xlink:href=\"#DejaVuSans-5f\" x=\"437.646484\"/>\n      <use xlink:href=\"#DejaVuSans-75\" x=\"487.646484\"/>\n      <use xlink:href=\"#DejaVuSans-72\" x=\"551.025391\"/>\n      <use xlink:href=\"#DejaVuSans-69\" x=\"592.138672\"/>\n      <use xlink:href=\"#DejaVuSans-6e\" x=\"619.921875\"/>\n      <use xlink:href=\"#DejaVuSans-65\" x=\"683.300781\"/>\n     </g>\n    </g>\n   </g>\n   <g id=\"matplotlib.axis_92\">\n    <g id=\"ytick_91\">\n     <g id=\"line2d_183\">\n      <g>\n       <use xlink:href=\"#mddf5a59a20\" x=\"688.072008\" y=\"420.051064\" style=\"stroke: #000000; stroke-width: 0.8\"/>\n      </g>\n     </g>\n     <g id=\"text_274\">\n      <!-- 0 -->\n      <g transform=\"translate(674.709508 423.850283) scale(0.1 -0.1)\">\n       <use xlink:href=\"#DejaVuSans-30\"/>\n      </g>\n     </g>\n    </g>\n    <g id=\"ytick_92\">\n     <g id=\"line2d_184\">\n      <g>\n       <use xlink:href=\"#mddf5a59a20\" x=\"688.072008\" y=\"366.859574\" style=\"stroke: #000000; stroke-width: 0.8\"/>\n      </g>\n     </g>\n     <g id=\"text_275\">\n      <!-- 500 -->\n      <g transform=\"translate(661.984508 370.658793) scale(0.1 -0.1)\">\n       <use xlink:href=\"#DejaVuSans-35\"/>\n       <use xlink:href=\"#DejaVuSans-30\" x=\"63.623047\"/>\n       <use xlink:href=\"#DejaVuSans-30\" x=\"127.246094\"/>\n      </g>\n     </g>\n    </g>\n    <g id=\"text_276\">\n     <!-- count -->\n     <g transform=\"translate(655.90482 404.667952) rotate(-90) scale(0.1 -0.1)\">\n      <use xlink:href=\"#DejaVuSans-63\"/>\n      <use xlink:href=\"#DejaVuSans-6f\" x=\"54.980469\"/>\n      <use xlink:href=\"#DejaVuSans-75\" x=\"116.162109\"/>\n      <use xlink:href=\"#DejaVuSans-6e\" x=\"179.541016\"/>\n      <use xlink:href=\"#DejaVuSans-74\" x=\"242.919922\"/>\n     </g>\n    </g>\n   </g>\n   <g id=\"patch_320\">\n    <path d=\"M 688.072008 420.051064 \nL 688.072008 361.07234 \n\" style=\"fill: none; stroke: #000000; stroke-width: 0.8; stroke-linejoin: miter; stroke-linecap: square\"/>\n   </g>\n   <g id=\"patch_321\">\n    <path d=\"M 794.923072 420.051064 \nL 794.923072 361.07234 \n\" style=\"fill: none; stroke: #000000; stroke-width: 0.8; stroke-linejoin: miter; stroke-linecap: square\"/>\n   </g>\n   <g id=\"patch_322\">\n    <path d=\"M 688.072008 420.051064 \nL 794.923072 420.051064 \n\" style=\"fill: none; stroke: #000000; stroke-width: 0.8; stroke-linejoin: miter; stroke-linecap: square\"/>\n   </g>\n   <g id=\"patch_323\">\n    <path d=\"M 688.072008 361.07234 \nL 794.923072 361.07234 \n\" style=\"fill: none; stroke: #000000; stroke-width: 0.8; stroke-linejoin: miter; stroke-linecap: square\"/>\n   </g>\n  </g>\n  <g id=\"axes_47\">\n   <g id=\"patch_324\">\n    <path d=\"M 816.293285 420.051064 \nL 923.144348 420.051064 \nL 923.144348 361.07234 \nL 816.293285 361.07234 \nz\n\" style=\"fill: #ffffff\"/>\n   </g>\n   <g id=\"patch_325\">\n    <path d=\"M 821.635838 420.051064 \nL 864.376263 420.051064 \nL 864.376263 363.880851 \nL 821.635838 363.880851 \nz\n\" clip-path=\"url(#pfb49e13a8b)\" style=\"fill: #3274a1\"/>\n   </g>\n   <g id=\"patch_326\">\n    <path d=\"M 875.06137 420.051064 \nL 917.801795 420.051064 \nL 917.801795 404.278631 \nL 875.06137 404.278631 \nz\n\" clip-path=\"url(#pfb49e13a8b)\" style=\"fill: #e1812c\"/>\n   </g>\n   <g id=\"matplotlib.axis_93\">\n    <g id=\"xtick_93\">\n     <g id=\"line2d_185\">\n      <g>\n       <use xlink:href=\"#m53ffd6c531\" x=\"843.006051\" y=\"420.051064\" style=\"stroke: #000000; stroke-width: 0.8\"/>\n      </g>\n     </g>\n     <g id=\"text_277\">\n      <!-- 0.0 -->\n      <g transform=\"translate(835.054488 434.649501) scale(0.1 -0.1)\">\n       <use xlink:href=\"#DejaVuSans-30\"/>\n       <use xlink:href=\"#DejaVuSans-2e\" x=\"63.623047\"/>\n       <use xlink:href=\"#DejaVuSans-30\" x=\"95.410156\"/>\n      </g>\n     </g>\n    </g>\n    <g id=\"xtick_94\">\n     <g id=\"line2d_186\">\n      <g>\n       <use xlink:href=\"#m53ffd6c531\" x=\"896.431582\" y=\"420.051064\" style=\"stroke: #000000; stroke-width: 0.8\"/>\n      </g>\n     </g>\n     <g id=\"text_278\">\n      <!-- 1.0 -->\n      <g transform=\"translate(888.48002 434.649501) scale(0.1 -0.1)\">\n       <use xlink:href=\"#DejaVuSans-31\"/>\n       <use xlink:href=\"#DejaVuSans-2e\" x=\"63.623047\"/>\n       <use xlink:href=\"#DejaVuSans-30\" x=\"95.410156\"/>\n      </g>\n     </g>\n    </g>\n    <g id=\"text_279\">\n     <!-- hypoglycemia -->\n     <g transform=\"translate(834.685223 448.327626) scale(0.1 -0.1)\">\n      <use xlink:href=\"#DejaVuSans-68\"/>\n      <use xlink:href=\"#DejaVuSans-79\" x=\"63.378906\"/>\n      <use xlink:href=\"#DejaVuSans-70\" x=\"122.558594\"/>\n      <use xlink:href=\"#DejaVuSans-6f\" x=\"186.035156\"/>\n      <use xlink:href=\"#DejaVuSans-67\" x=\"247.216797\"/>\n      <use xlink:href=\"#DejaVuSans-6c\" x=\"310.693359\"/>\n      <use xlink:href=\"#DejaVuSans-79\" x=\"338.476562\"/>\n      <use xlink:href=\"#DejaVuSans-63\" x=\"397.65625\"/>\n      <use xlink:href=\"#DejaVuSans-65\" x=\"452.636719\"/>\n      <use xlink:href=\"#DejaVuSans-6d\" x=\"514.160156\"/>\n      <use xlink:href=\"#DejaVuSans-69\" x=\"611.572266\"/>\n      <use xlink:href=\"#DejaVuSans-61\" x=\"639.355469\"/>\n     </g>\n    </g>\n   </g>\n   <g id=\"matplotlib.axis_94\">\n    <g id=\"ytick_93\">\n     <g id=\"line2d_187\">\n      <g>\n       <use xlink:href=\"#mddf5a59a20\" x=\"816.293285\" y=\"420.051064\" style=\"stroke: #000000; stroke-width: 0.8\"/>\n      </g>\n     </g>\n     <g id=\"text_280\">\n      <!-- 0 -->\n      <g transform=\"translate(802.930785 423.850283) scale(0.1 -0.1)\">\n       <use xlink:href=\"#DejaVuSans-30\"/>\n      </g>\n     </g>\n    </g>\n    <g id=\"ytick_94\">\n     <g id=\"line2d_188\">\n      <g>\n       <use xlink:href=\"#mddf5a59a20\" x=\"816.293285\" y=\"369.172248\" style=\"stroke: #000000; stroke-width: 0.8\"/>\n      </g>\n     </g>\n     <g id=\"text_281\">\n      <!-- 500 -->\n      <g transform=\"translate(790.205785 372.971467) scale(0.1 -0.1)\">\n       <use xlink:href=\"#DejaVuSans-35\"/>\n       <use xlink:href=\"#DejaVuSans-30\" x=\"63.623047\"/>\n       <use xlink:href=\"#DejaVuSans-30\" x=\"127.246094\"/>\n      </g>\n     </g>\n    </g>\n    <g id=\"text_282\">\n     <!-- count -->\n     <g transform=\"translate(784.126097 404.667952) rotate(-90) scale(0.1 -0.1)\">\n      <use xlink:href=\"#DejaVuSans-63\"/>\n      <use xlink:href=\"#DejaVuSans-6f\" x=\"54.980469\"/>\n      <use xlink:href=\"#DejaVuSans-75\" x=\"116.162109\"/>\n      <use xlink:href=\"#DejaVuSans-6e\" x=\"179.541016\"/>\n      <use xlink:href=\"#DejaVuSans-74\" x=\"242.919922\"/>\n     </g>\n    </g>\n   </g>\n   <g id=\"patch_327\">\n    <path d=\"M 816.293285 420.051064 \nL 816.293285 361.07234 \n\" style=\"fill: none; stroke: #000000; stroke-width: 0.8; stroke-linejoin: miter; stroke-linecap: square\"/>\n   </g>\n   <g id=\"patch_328\">\n    <path d=\"M 923.144348 420.051064 \nL 923.144348 361.07234 \n\" style=\"fill: none; stroke: #000000; stroke-width: 0.8; stroke-linejoin: miter; stroke-linecap: square\"/>\n   </g>\n   <g id=\"patch_329\">\n    <path d=\"M 816.293285 420.051064 \nL 923.144348 420.051064 \n\" style=\"fill: none; stroke: #000000; stroke-width: 0.8; stroke-linejoin: miter; stroke-linecap: square\"/>\n   </g>\n   <g id=\"patch_330\">\n    <path d=\"M 816.293285 361.07234 \nL 923.144348 361.07234 \n\" style=\"fill: none; stroke: #000000; stroke-width: 0.8; stroke-linejoin: miter; stroke-linecap: square\"/>\n   </g>\n  </g>\n  <g id=\"axes_48\">\n   <g id=\"patch_331\">\n    <path d=\"M 944.514561 420.051064 \nL 1051.365625 420.051064 \nL 1051.365625 361.07234 \nL 944.514561 361.07234 \nz\n\" style=\"fill: #ffffff\"/>\n   </g>\n   <g id=\"patch_332\">\n    <path d=\"M 949.857114 420.051064 \nL 992.59754 420.051064 \nL 992.59754 363.880851 \nL 949.857114 363.880851 \nz\n\" clip-path=\"url(#p125561c0d9)\" style=\"fill: #3274a1\"/>\n   </g>\n   <g id=\"patch_333\">\n    <path d=\"M 1003.282646 420.051064 \nL 1046.023072 420.051064 \nL 1046.023072 403.488052 \nL 1003.282646 403.488052 \nz\n\" clip-path=\"url(#p125561c0d9)\" style=\"fill: #e1812c\"/>\n   </g>\n   <g id=\"matplotlib.axis_95\">\n    <g id=\"xtick_95\">\n     <g id=\"line2d_189\">\n      <g>\n       <use xlink:href=\"#m53ffd6c531\" x=\"971.227327\" y=\"420.051064\" style=\"stroke: #000000; stroke-width: 0.8\"/>\n      </g>\n     </g>\n     <g id=\"text_283\">\n      <!-- 0.0 -->\n      <g transform=\"translate(963.275765 434.649501) scale(0.1 -0.1)\">\n       <use xlink:href=\"#DejaVuSans-30\"/>\n       <use xlink:href=\"#DejaVuSans-2e\" x=\"63.623047\"/>\n       <use xlink:href=\"#DejaVuSans-30\" x=\"95.410156\"/>\n      </g>\n     </g>\n    </g>\n    <g id=\"xtick_96\">\n     <g id=\"line2d_190\">\n      <g>\n       <use xlink:href=\"#m53ffd6c531\" x=\"1024.652859\" y=\"420.051064\" style=\"stroke: #000000; stroke-width: 0.8\"/>\n      </g>\n     </g>\n     <g id=\"text_284\">\n      <!-- 1.0 -->\n      <g transform=\"translate(1016.701297 434.649501) scale(0.1 -0.1)\">\n       <use xlink:href=\"#DejaVuSans-31\"/>\n       <use xlink:href=\"#DejaVuSans-2e\" x=\"63.623047\"/>\n       <use xlink:href=\"#DejaVuSans-30\" x=\"95.410156\"/>\n      </g>\n     </g>\n    </g>\n    <g id=\"text_285\">\n     <!-- prostraction -->\n     <g transform=\"translate(967.752593 448.327626) scale(0.1 -0.1)\">\n      <use xlink:href=\"#DejaVuSans-70\"/>\n      <use xlink:href=\"#DejaVuSans-72\" x=\"63.476562\"/>\n      <use xlink:href=\"#DejaVuSans-6f\" x=\"102.339844\"/>\n      <use xlink:href=\"#DejaVuSans-73\" x=\"163.521484\"/>\n      <use xlink:href=\"#DejaVuSans-74\" x=\"215.621094\"/>\n      <use xlink:href=\"#DejaVuSans-72\" x=\"254.830078\"/>\n      <use xlink:href=\"#DejaVuSans-61\" x=\"295.943359\"/>\n      <use xlink:href=\"#DejaVuSans-63\" x=\"357.222656\"/>\n      <use xlink:href=\"#DejaVuSans-74\" x=\"412.203125\"/>\n      <use xlink:href=\"#DejaVuSans-69\" x=\"451.412109\"/>\n      <use xlink:href=\"#DejaVuSans-6f\" x=\"479.195312\"/>\n      <use xlink:href=\"#DejaVuSans-6e\" x=\"540.376953\"/>\n     </g>\n    </g>\n   </g>\n   <g id=\"matplotlib.axis_96\">\n    <g id=\"ytick_95\">\n     <g id=\"line2d_191\">\n      <g>\n       <use xlink:href=\"#mddf5a59a20\" x=\"944.514561\" y=\"420.051064\" style=\"stroke: #000000; stroke-width: 0.8\"/>\n      </g>\n     </g>\n     <g id=\"text_286\">\n      <!-- 0 -->\n      <g transform=\"translate(931.152061 423.850283) scale(0.1 -0.1)\">\n       <use xlink:href=\"#DejaVuSans-30\"/>\n      </g>\n     </g>\n    </g>\n    <g id=\"ytick_96\">\n     <g id=\"line2d_192\">\n      <g>\n       <use xlink:href=\"#mddf5a59a20\" x=\"944.514561\" y=\"368.61314\" style=\"stroke: #000000; stroke-width: 0.8\"/>\n      </g>\n     </g>\n     <g id=\"text_287\">\n      <!-- 500 -->\n      <g transform=\"translate(918.427061 372.412359) scale(0.1 -0.1)\">\n       <use xlink:href=\"#DejaVuSans-35\"/>\n       <use xlink:href=\"#DejaVuSans-30\" x=\"63.623047\"/>\n       <use xlink:href=\"#DejaVuSans-30\" x=\"127.246094\"/>\n      </g>\n     </g>\n    </g>\n    <g id=\"text_288\">\n     <!-- count -->\n     <g transform=\"translate(912.347374 404.667952) rotate(-90) scale(0.1 -0.1)\">\n      <use xlink:href=\"#DejaVuSans-63\"/>\n      <use xlink:href=\"#DejaVuSans-6f\" x=\"54.980469\"/>\n      <use xlink:href=\"#DejaVuSans-75\" x=\"116.162109\"/>\n      <use xlink:href=\"#DejaVuSans-6e\" x=\"179.541016\"/>\n      <use xlink:href=\"#DejaVuSans-74\" x=\"242.919922\"/>\n     </g>\n    </g>\n   </g>\n   <g id=\"patch_334\">\n    <path d=\"M 944.514561 420.051064 \nL 944.514561 361.07234 \n\" style=\"fill: none; stroke: #000000; stroke-width: 0.8; stroke-linejoin: miter; stroke-linecap: square\"/>\n   </g>\n   <g id=\"patch_335\">\n    <path d=\"M 1051.365625 420.051064 \nL 1051.365625 361.07234 \n\" style=\"fill: none; stroke: #000000; stroke-width: 0.8; stroke-linejoin: miter; stroke-linecap: square\"/>\n   </g>\n   <g id=\"patch_336\">\n    <path d=\"M 944.514561 420.051064 \nL 1051.365625 420.051064 \n\" style=\"fill: none; stroke: #000000; stroke-width: 0.8; stroke-linejoin: miter; stroke-linecap: square\"/>\n   </g>\n   <g id=\"patch_337\">\n    <path d=\"M 944.514561 361.07234 \nL 1051.365625 361.07234 \n\" style=\"fill: none; stroke: #000000; stroke-width: 0.8; stroke-linejoin: miter; stroke-linecap: square\"/>\n   </g>\n  </g>\n  <g id=\"axes_49\">\n   <g id=\"patch_338\">\n    <path d=\"M 46.965625 490.825532 \nL 153.816689 490.825532 \nL 153.816689 431.846809 \nL 46.965625 431.846809 \nz\n\" style=\"fill: #ffffff\"/>\n   </g>\n   <g id=\"patch_339\">\n    <path d=\"M 52.308178 490.825532 \nL 95.048604 490.825532 \nL 95.048604 434.655319 \nL 52.308178 434.655319 \nz\n\" clip-path=\"url(#pe0aaa60015)\" style=\"fill: #3274a1\"/>\n   </g>\n   <g id=\"patch_340\">\n    <path d=\"M 105.73371 490.825532 \nL 148.474136 490.825532 \nL 148.474136 475.570672 \nL 105.73371 475.570672 \nz\n\" clip-path=\"url(#pe0aaa60015)\" style=\"fill: #e1812c\"/>\n   </g>\n   <g id=\"matplotlib.axis_97\">\n    <g id=\"xtick_97\">\n     <g id=\"line2d_193\">\n      <g>\n       <use xlink:href=\"#m53ffd6c531\" x=\"73.678391\" y=\"490.825532\" style=\"stroke: #000000; stroke-width: 0.8\"/>\n      </g>\n     </g>\n     <g id=\"text_289\">\n      <!-- 0.0 -->\n      <g transform=\"translate(65.726828 505.423969) scale(0.1 -0.1)\">\n       <use xlink:href=\"#DejaVuSans-30\"/>\n       <use xlink:href=\"#DejaVuSans-2e\" x=\"63.623047\"/>\n       <use xlink:href=\"#DejaVuSans-30\" x=\"95.410156\"/>\n      </g>\n     </g>\n    </g>\n    <g id=\"xtick_98\">\n     <g id=\"line2d_194\">\n      <g>\n       <use xlink:href=\"#m53ffd6c531\" x=\"127.103923\" y=\"490.825532\" style=\"stroke: #000000; stroke-width: 0.8\"/>\n      </g>\n     </g>\n     <g id=\"text_290\">\n      <!-- 1.0 -->\n      <g transform=\"translate(119.15236 505.423969) scale(0.1 -0.1)\">\n       <use xlink:href=\"#DejaVuSans-31\"/>\n       <use xlink:href=\"#DejaVuSans-2e\" x=\"63.623047\"/>\n       <use xlink:href=\"#DejaVuSans-30\" x=\"95.410156\"/>\n      </g>\n     </g>\n    </g>\n    <g id=\"text_291\">\n     <!-- hyperpyrexia -->\n     <g transform=\"translate(67.478657 519.102094) scale(0.1 -0.1)\">\n      <defs>\n       <path id=\"DejaVuSans-78\" d=\"M 3513 3500 \nL 2247 1797 \nL 3578 0 \nL 2900 0 \nL 1881 1375 \nL 863 0 \nL 184 0 \nL 1544 1831 \nL 300 3500 \nL 978 3500 \nL 1906 2253 \nL 2834 3500 \nL 3513 3500 \nz\n\" transform=\"scale(0.015625)\"/>\n      </defs>\n      <use xlink:href=\"#DejaVuSans-68\"/>\n      <use xlink:href=\"#DejaVuSans-79\" x=\"63.378906\"/>\n      <use xlink:href=\"#DejaVuSans-70\" x=\"122.558594\"/>\n      <use xlink:href=\"#DejaVuSans-65\" x=\"186.035156\"/>\n      <use xlink:href=\"#DejaVuSans-72\" x=\"247.558594\"/>\n      <use xlink:href=\"#DejaVuSans-70\" x=\"288.671875\"/>\n      <use xlink:href=\"#DejaVuSans-79\" x=\"352.148438\"/>\n      <use xlink:href=\"#DejaVuSans-72\" x=\"411.328125\"/>\n      <use xlink:href=\"#DejaVuSans-65\" x=\"450.191406\"/>\n      <use xlink:href=\"#DejaVuSans-78\" x=\"509.964844\"/>\n      <use xlink:href=\"#DejaVuSans-69\" x=\"569.144531\"/>\n      <use xlink:href=\"#DejaVuSans-61\" x=\"596.927734\"/>\n     </g>\n    </g>\n   </g>\n   <g id=\"matplotlib.axis_98\">\n    <g id=\"ytick_97\">\n     <g id=\"line2d_195\">\n      <g>\n       <use xlink:href=\"#mddf5a59a20\" x=\"46.965625\" y=\"490.825532\" style=\"stroke: #000000; stroke-width: 0.8\"/>\n      </g>\n     </g>\n     <g id=\"text_292\">\n      <!-- 0 -->\n      <g transform=\"translate(33.603125 494.624751) scale(0.1 -0.1)\">\n       <use xlink:href=\"#DejaVuSans-30\"/>\n      </g>\n     </g>\n    </g>\n    <g id=\"ytick_98\">\n     <g id=\"line2d_196\">\n      <g>\n       <use xlink:href=\"#mddf5a59a20\" x=\"46.965625\" y=\"440.312751\" style=\"stroke: #000000; stroke-width: 0.8\"/>\n      </g>\n     </g>\n     <g id=\"text_293\">\n      <!-- 500 -->\n      <g transform=\"translate(20.878125 444.111969) scale(0.1 -0.1)\">\n       <use xlink:href=\"#DejaVuSans-35\"/>\n       <use xlink:href=\"#DejaVuSans-30\" x=\"63.623047\"/>\n       <use xlink:href=\"#DejaVuSans-30\" x=\"127.246094\"/>\n      </g>\n     </g>\n    </g>\n    <g id=\"text_294\">\n     <!-- count -->\n     <g transform=\"translate(14.798438 475.44242) rotate(-90) scale(0.1 -0.1)\">\n      <use xlink:href=\"#DejaVuSans-63\"/>\n      <use xlink:href=\"#DejaVuSans-6f\" x=\"54.980469\"/>\n      <use xlink:href=\"#DejaVuSans-75\" x=\"116.162109\"/>\n      <use xlink:href=\"#DejaVuSans-6e\" x=\"179.541016\"/>\n      <use xlink:href=\"#DejaVuSans-74\" x=\"242.919922\"/>\n     </g>\n    </g>\n   </g>\n   <g id=\"patch_341\">\n    <path d=\"M 46.965625 490.825532 \nL 46.965625 431.846809 \n\" style=\"fill: none; stroke: #000000; stroke-width: 0.8; stroke-linejoin: miter; stroke-linecap: square\"/>\n   </g>\n   <g id=\"patch_342\">\n    <path d=\"M 153.816689 490.825532 \nL 153.816689 431.846809 \n\" style=\"fill: none; stroke: #000000; stroke-width: 0.8; stroke-linejoin: miter; stroke-linecap: square\"/>\n   </g>\n   <g id=\"patch_343\">\n    <path d=\"M 46.965625 490.825532 \nL 153.816689 490.825532 \n\" style=\"fill: none; stroke: #000000; stroke-width: 0.8; stroke-linejoin: miter; stroke-linecap: square\"/>\n   </g>\n   <g id=\"patch_344\">\n    <path d=\"M 46.965625 431.846809 \nL 153.816689 431.846809 \n\" style=\"fill: none; stroke: #000000; stroke-width: 0.8; stroke-linejoin: miter; stroke-linecap: square\"/>\n   </g>\n  </g>\n  <g id=\"axes_50\">\n   <g id=\"patch_345\">\n    <path d=\"M 175.186902 490.825532 \nL 282.037965 490.825532 \nL 282.037965 431.846809 \nL 175.186902 431.846809 \nz\n\" style=\"fill: #ffffff\"/>\n   </g>\n   <g id=\"patch_346\">\n    <path d=\"M 180.529455 490.825532 \nL 223.26988 490.825532 \nL 223.26988 434.655319 \nL 180.529455 434.655319 \nz\n\" clip-path=\"url(#p12df999751)\" style=\"fill: #3274a1\"/>\n   </g>\n   <g id=\"patch_347\">\n    <path d=\"M 233.954987 490.825532 \nL 276.695412 490.825532 \nL 276.695412 482.317666 \nL 233.954987 482.317666 \nz\n\" clip-path=\"url(#p12df999751)\" style=\"fill: #e1812c\"/>\n   </g>\n   <g id=\"matplotlib.axis_99\">\n    <g id=\"xtick_99\">\n     <g id=\"line2d_197\">\n      <g>\n       <use xlink:href=\"#m53ffd6c531\" x=\"201.899668\" y=\"490.825532\" style=\"stroke: #000000; stroke-width: 0.8\"/>\n      </g>\n     </g>\n     <g id=\"text_295\">\n      <!-- 0.0 -->\n      <g transform=\"translate(193.948105 505.423969) scale(0.1 -0.1)\">\n       <use xlink:href=\"#DejaVuSans-30\"/>\n       <use xlink:href=\"#DejaVuSans-2e\" x=\"63.623047\"/>\n       <use xlink:href=\"#DejaVuSans-30\" x=\"95.410156\"/>\n      </g>\n     </g>\n    </g>\n    <g id=\"xtick_100\">\n     <g id=\"line2d_198\">\n      <g>\n       <use xlink:href=\"#m53ffd6c531\" x=\"255.325199\" y=\"490.825532\" style=\"stroke: #000000; stroke-width: 0.8\"/>\n      </g>\n     </g>\n     <g id=\"text_296\">\n      <!-- 1.0 -->\n      <g transform=\"translate(247.373637 505.423969) scale(0.1 -0.1)\">\n       <use xlink:href=\"#DejaVuSans-31\"/>\n       <use xlink:href=\"#DejaVuSans-2e\" x=\"63.623047\"/>\n       <use xlink:href=\"#DejaVuSans-30\" x=\"95.410156\"/>\n      </g>\n     </g>\n    </g>\n    <g id=\"text_297\">\n     <!-- stiff_neck -->\n     <g transform=\"translate(204.748371 519.102094) scale(0.1 -0.1)\">\n      <use xlink:href=\"#DejaVuSans-73\"/>\n      <use xlink:href=\"#DejaVuSans-74\" x=\"52.099609\"/>\n      <use xlink:href=\"#DejaVuSans-69\" x=\"91.308594\"/>\n      <use xlink:href=\"#DejaVuSans-66\" x=\"119.091797\"/>\n      <use xlink:href=\"#DejaVuSans-66\" x=\"154.296875\"/>\n      <use xlink:href=\"#DejaVuSans-5f\" x=\"189.501953\"/>\n      <use xlink:href=\"#DejaVuSans-6e\" x=\"239.501953\"/>\n      <use xlink:href=\"#DejaVuSans-65\" x=\"302.880859\"/>\n      <use xlink:href=\"#DejaVuSans-63\" x=\"364.404297\"/>\n      <use xlink:href=\"#DejaVuSans-6b\" x=\"419.384766\"/>\n     </g>\n    </g>\n   </g>\n   <g id=\"matplotlib.axis_100\">\n    <g id=\"ytick_99\">\n     <g id=\"line2d_199\">\n      <g>\n       <use xlink:href=\"#mddf5a59a20\" x=\"175.186902\" y=\"490.825532\" style=\"stroke: #000000; stroke-width: 0.8\"/>\n      </g>\n     </g>\n     <g id=\"text_298\">\n      <!-- 0 -->\n      <g transform=\"translate(161.824402 494.624751) scale(0.1 -0.1)\">\n       <use xlink:href=\"#DejaVuSans-30\"/>\n      </g>\n     </g>\n    </g>\n    <g id=\"ytick_100\">\n     <g id=\"line2d_200\">\n      <g>\n       <use xlink:href=\"#mddf5a59a20\" x=\"175.186902\" y=\"445.084316\" style=\"stroke: #000000; stroke-width: 0.8\"/>\n      </g>\n     </g>\n     <g id=\"text_299\">\n      <!-- 500 -->\n      <g transform=\"translate(149.099402 448.883535) scale(0.1 -0.1)\">\n       <use xlink:href=\"#DejaVuSans-35\"/>\n       <use xlink:href=\"#DejaVuSans-30\" x=\"63.623047\"/>\n       <use xlink:href=\"#DejaVuSans-30\" x=\"127.246094\"/>\n      </g>\n     </g>\n    </g>\n    <g id=\"text_300\">\n     <!-- count -->\n     <g transform=\"translate(143.019714 475.44242) rotate(-90) scale(0.1 -0.1)\">\n      <use xlink:href=\"#DejaVuSans-63\"/>\n      <use xlink:href=\"#DejaVuSans-6f\" x=\"54.980469\"/>\n      <use xlink:href=\"#DejaVuSans-75\" x=\"116.162109\"/>\n      <use xlink:href=\"#DejaVuSans-6e\" x=\"179.541016\"/>\n      <use xlink:href=\"#DejaVuSans-74\" x=\"242.919922\"/>\n     </g>\n    </g>\n   </g>\n   <g id=\"patch_348\">\n    <path d=\"M 175.186902 490.825532 \nL 175.186902 431.846809 \n\" style=\"fill: none; stroke: #000000; stroke-width: 0.8; stroke-linejoin: miter; stroke-linecap: square\"/>\n   </g>\n   <g id=\"patch_349\">\n    <path d=\"M 282.037965 490.825532 \nL 282.037965 431.846809 \n\" style=\"fill: none; stroke: #000000; stroke-width: 0.8; stroke-linejoin: miter; stroke-linecap: square\"/>\n   </g>\n   <g id=\"patch_350\">\n    <path d=\"M 175.186902 490.825532 \nL 282.037965 490.825532 \n\" style=\"fill: none; stroke: #000000; stroke-width: 0.8; stroke-linejoin: miter; stroke-linecap: square\"/>\n   </g>\n   <g id=\"patch_351\">\n    <path d=\"M 175.186902 431.846809 \nL 282.037965 431.846809 \n\" style=\"fill: none; stroke: #000000; stroke-width: 0.8; stroke-linejoin: miter; stroke-linecap: square\"/>\n   </g>\n  </g>\n  <g id=\"axes_51\">\n   <g id=\"patch_352\">\n    <path d=\"M 303.408178 490.825532 \nL 410.259242 490.825532 \nL 410.259242 431.846809 \nL 303.408178 431.846809 \nz\n\" style=\"fill: #ffffff\"/>\n   </g>\n   <g id=\"patch_353\">\n    <path d=\"M 308.750731 490.825532 \nL 351.491157 490.825532 \nL 351.491157 434.655319 \nL 308.750731 434.655319 \nz\n\" clip-path=\"url(#p00e541bb65)\" style=\"fill: #3274a1\"/>\n   </g>\n   <g id=\"patch_354\">\n    <path d=\"M 362.176263 490.825532 \nL 404.916689 490.825532 \nL 404.916689 477.202528 \nL 362.176263 477.202528 \nz\n\" clip-path=\"url(#p00e541bb65)\" style=\"fill: #e1812c\"/>\n   </g>\n   <g id=\"matplotlib.axis_101\">\n    <g id=\"xtick_101\">\n     <g id=\"line2d_201\">\n      <g>\n       <use xlink:href=\"#m53ffd6c531\" x=\"330.120944\" y=\"490.825532\" style=\"stroke: #000000; stroke-width: 0.8\"/>\n      </g>\n     </g>\n     <g id=\"text_301\">\n      <!-- 0.0 -->\n      <g transform=\"translate(322.169382 505.423969) scale(0.1 -0.1)\">\n       <use xlink:href=\"#DejaVuSans-30\"/>\n       <use xlink:href=\"#DejaVuSans-2e\" x=\"63.623047\"/>\n       <use xlink:href=\"#DejaVuSans-30\" x=\"95.410156\"/>\n      </g>\n     </g>\n    </g>\n    <g id=\"xtick_102\">\n     <g id=\"line2d_202\">\n      <g>\n       <use xlink:href=\"#m53ffd6c531\" x=\"383.546476\" y=\"490.825532\" style=\"stroke: #000000; stroke-width: 0.8\"/>\n      </g>\n     </g>\n     <g id=\"text_302\">\n      <!-- 1.0 -->\n      <g transform=\"translate(375.594914 505.423969) scale(0.1 -0.1)\">\n       <use xlink:href=\"#DejaVuSans-31\"/>\n       <use xlink:href=\"#DejaVuSans-2e\" x=\"63.623047\"/>\n       <use xlink:href=\"#DejaVuSans-30\" x=\"95.410156\"/>\n      </g>\n     </g>\n    </g>\n    <g id=\"text_303\">\n     <!-- irritability -->\n     <g transform=\"translate(332.746991 519.102094) scale(0.1 -0.1)\">\n      <use xlink:href=\"#DejaVuSans-69\"/>\n      <use xlink:href=\"#DejaVuSans-72\" x=\"27.783203\"/>\n      <use xlink:href=\"#DejaVuSans-72\" x=\"67.146484\"/>\n      <use xlink:href=\"#DejaVuSans-69\" x=\"108.259766\"/>\n      <use xlink:href=\"#DejaVuSans-74\" x=\"136.042969\"/>\n      <use xlink:href=\"#DejaVuSans-61\" x=\"175.251953\"/>\n      <use xlink:href=\"#DejaVuSans-62\" x=\"236.53125\"/>\n      <use xlink:href=\"#DejaVuSans-69\" x=\"300.007812\"/>\n      <use xlink:href=\"#DejaVuSans-6c\" x=\"327.791016\"/>\n      <use xlink:href=\"#DejaVuSans-69\" x=\"355.574219\"/>\n      <use xlink:href=\"#DejaVuSans-74\" x=\"383.357422\"/>\n      <use xlink:href=\"#DejaVuSans-79\" x=\"422.566406\"/>\n     </g>\n    </g>\n   </g>\n   <g id=\"matplotlib.axis_102\">\n    <g id=\"ytick_101\">\n     <g id=\"line2d_203\">\n      <g>\n       <use xlink:href=\"#mddf5a59a20\" x=\"303.408178\" y=\"490.825532\" style=\"stroke: #000000; stroke-width: 0.8\"/>\n      </g>\n     </g>\n     <g id=\"text_304\">\n      <!-- 0 -->\n      <g transform=\"translate(290.045678 494.624751) scale(0.1 -0.1)\">\n       <use xlink:href=\"#DejaVuSans-30\"/>\n      </g>\n     </g>\n    </g>\n    <g id=\"ytick_102\">\n     <g id=\"line2d_204\">\n      <g>\n       <use xlink:href=\"#mddf5a59a20\" x=\"303.408178\" y=\"441.466821\" style=\"stroke: #000000; stroke-width: 0.8\"/>\n      </g>\n     </g>\n     <g id=\"text_305\">\n      <!-- 500 -->\n      <g transform=\"translate(277.320678 445.26604) scale(0.1 -0.1)\">\n       <use xlink:href=\"#DejaVuSans-35\"/>\n       <use xlink:href=\"#DejaVuSans-30\" x=\"63.623047\"/>\n       <use xlink:href=\"#DejaVuSans-30\" x=\"127.246094\"/>\n      </g>\n     </g>\n    </g>\n    <g id=\"text_306\">\n     <!-- count -->\n     <g transform=\"translate(271.240991 475.44242) rotate(-90) scale(0.1 -0.1)\">\n      <use xlink:href=\"#DejaVuSans-63\"/>\n      <use xlink:href=\"#DejaVuSans-6f\" x=\"54.980469\"/>\n      <use xlink:href=\"#DejaVuSans-75\" x=\"116.162109\"/>\n      <use xlink:href=\"#DejaVuSans-6e\" x=\"179.541016\"/>\n      <use xlink:href=\"#DejaVuSans-74\" x=\"242.919922\"/>\n     </g>\n    </g>\n   </g>\n   <g id=\"patch_355\">\n    <path d=\"M 303.408178 490.825532 \nL 303.408178 431.846809 \n\" style=\"fill: none; stroke: #000000; stroke-width: 0.8; stroke-linejoin: miter; stroke-linecap: square\"/>\n   </g>\n   <g id=\"patch_356\">\n    <path d=\"M 410.259242 490.825532 \nL 410.259242 431.846809 \n\" style=\"fill: none; stroke: #000000; stroke-width: 0.8; stroke-linejoin: miter; stroke-linecap: square\"/>\n   </g>\n   <g id=\"patch_357\">\n    <path d=\"M 303.408178 490.825532 \nL 410.259242 490.825532 \n\" style=\"fill: none; stroke: #000000; stroke-width: 0.8; stroke-linejoin: miter; stroke-linecap: square\"/>\n   </g>\n   <g id=\"patch_358\">\n    <path d=\"M 303.408178 431.846809 \nL 410.259242 431.846809 \n\" style=\"fill: none; stroke: #000000; stroke-width: 0.8; stroke-linejoin: miter; stroke-linecap: square\"/>\n   </g>\n  </g>\n  <g id=\"axes_52\">\n   <g id=\"patch_359\">\n    <path d=\"M 431.629455 490.825532 \nL 538.480519 490.825532 \nL 538.480519 431.846809 \nL 431.629455 431.846809 \nz\n\" style=\"fill: #ffffff\"/>\n   </g>\n   <g id=\"patch_360\">\n    <path d=\"M 436.972008 490.825532 \nL 479.712434 490.825532 \nL 479.712434 434.655319 \nL 436.972008 434.655319 \nz\n\" clip-path=\"url(#p6a263d2e11)\" style=\"fill: #3274a1\"/>\n   </g>\n   <g id=\"patch_361\">\n    <path d=\"M 490.39754 490.825532 \nL 533.137965 490.825532 \nL 533.137965 478.761483 \nL 490.39754 478.761483 \nz\n\" clip-path=\"url(#p6a263d2e11)\" style=\"fill: #e1812c\"/>\n   </g>\n   <g id=\"matplotlib.axis_103\">\n    <g id=\"xtick_103\">\n     <g id=\"line2d_205\">\n      <g>\n       <use xlink:href=\"#m53ffd6c531\" x=\"458.342221\" y=\"490.825532\" style=\"stroke: #000000; stroke-width: 0.8\"/>\n      </g>\n     </g>\n     <g id=\"text_307\">\n      <!-- 0.0 -->\n      <g transform=\"translate(450.390658 505.423969) scale(0.1 -0.1)\">\n       <use xlink:href=\"#DejaVuSans-30\"/>\n       <use xlink:href=\"#DejaVuSans-2e\" x=\"63.623047\"/>\n       <use xlink:href=\"#DejaVuSans-30\" x=\"95.410156\"/>\n      </g>\n     </g>\n    </g>\n    <g id=\"xtick_104\">\n     <g id=\"line2d_206\">\n      <g>\n       <use xlink:href=\"#m53ffd6c531\" x=\"511.767753\" y=\"490.825532\" style=\"stroke: #000000; stroke-width: 0.8\"/>\n      </g>\n     </g>\n     <g id=\"text_308\">\n      <!-- 1.0 -->\n      <g transform=\"translate(503.81619 505.423969) scale(0.1 -0.1)\">\n       <use xlink:href=\"#DejaVuSans-31\"/>\n       <use xlink:href=\"#DejaVuSans-2e\" x=\"63.623047\"/>\n       <use xlink:href=\"#DejaVuSans-30\" x=\"95.410156\"/>\n      </g>\n     </g>\n    </g>\n    <g id=\"text_309\">\n     <!-- confusion -->\n     <g transform=\"translate(460.926862 519.102094) scale(0.1 -0.1)\">\n      <use xlink:href=\"#DejaVuSans-63\"/>\n      <use xlink:href=\"#DejaVuSans-6f\" x=\"54.980469\"/>\n      <use xlink:href=\"#DejaVuSans-6e\" x=\"116.162109\"/>\n      <use xlink:href=\"#DejaVuSans-66\" x=\"179.541016\"/>\n      <use xlink:href=\"#DejaVuSans-75\" x=\"214.746094\"/>\n      <use xlink:href=\"#DejaVuSans-73\" x=\"278.125\"/>\n      <use xlink:href=\"#DejaVuSans-69\" x=\"330.224609\"/>\n      <use xlink:href=\"#DejaVuSans-6f\" x=\"358.007812\"/>\n      <use xlink:href=\"#DejaVuSans-6e\" x=\"419.189453\"/>\n     </g>\n    </g>\n   </g>\n   <g id=\"matplotlib.axis_104\">\n    <g id=\"ytick_103\">\n     <g id=\"line2d_207\">\n      <g>\n       <use xlink:href=\"#mddf5a59a20\" x=\"431.629455\" y=\"490.825532\" style=\"stroke: #000000; stroke-width: 0.8\"/>\n      </g>\n     </g>\n     <g id=\"text_310\">\n      <!-- 0 -->\n      <g transform=\"translate(418.266955 494.624751) scale(0.1 -0.1)\">\n       <use xlink:href=\"#DejaVuSans-30\"/>\n      </g>\n     </g>\n    </g>\n    <g id=\"ytick_104\">\n     <g id=\"line2d_208\">\n      <g>\n       <use xlink:href=\"#mddf5a59a20\" x=\"431.629455\" y=\"442.569335\" style=\"stroke: #000000; stroke-width: 0.8\"/>\n      </g>\n     </g>\n     <g id=\"text_311\">\n      <!-- 500 -->\n      <g transform=\"translate(405.541955 446.368554) scale(0.1 -0.1)\">\n       <use xlink:href=\"#DejaVuSans-35\"/>\n       <use xlink:href=\"#DejaVuSans-30\" x=\"63.623047\"/>\n       <use xlink:href=\"#DejaVuSans-30\" x=\"127.246094\"/>\n      </g>\n     </g>\n    </g>\n    <g id=\"text_312\">\n     <!-- count -->\n     <g transform=\"translate(399.462267 475.44242) rotate(-90) scale(0.1 -0.1)\">\n      <use xlink:href=\"#DejaVuSans-63\"/>\n      <use xlink:href=\"#DejaVuSans-6f\" x=\"54.980469\"/>\n      <use xlink:href=\"#DejaVuSans-75\" x=\"116.162109\"/>\n      <use xlink:href=\"#DejaVuSans-6e\" x=\"179.541016\"/>\n      <use xlink:href=\"#DejaVuSans-74\" x=\"242.919922\"/>\n     </g>\n    </g>\n   </g>\n   <g id=\"patch_362\">\n    <path d=\"M 431.629455 490.825532 \nL 431.629455 431.846809 \n\" style=\"fill: none; stroke: #000000; stroke-width: 0.8; stroke-linejoin: miter; stroke-linecap: square\"/>\n   </g>\n   <g id=\"patch_363\">\n    <path d=\"M 538.480519 490.825532 \nL 538.480519 431.846809 \n\" style=\"fill: none; stroke: #000000; stroke-width: 0.8; stroke-linejoin: miter; stroke-linecap: square\"/>\n   </g>\n   <g id=\"patch_364\">\n    <path d=\"M 431.629455 490.825532 \nL 538.480519 490.825532 \n\" style=\"fill: none; stroke: #000000; stroke-width: 0.8; stroke-linejoin: miter; stroke-linecap: square\"/>\n   </g>\n   <g id=\"patch_365\">\n    <path d=\"M 431.629455 431.846809 \nL 538.480519 431.846809 \n\" style=\"fill: none; stroke: #000000; stroke-width: 0.8; stroke-linejoin: miter; stroke-linecap: square\"/>\n   </g>\n  </g>\n  <g id=\"axes_53\">\n   <g id=\"patch_366\">\n    <path d=\"M 559.850731 490.825532 \nL 666.701795 490.825532 \nL 666.701795 431.846809 \nL 559.850731 431.846809 \nz\n\" style=\"fill: #ffffff\"/>\n   </g>\n   <g id=\"patch_367\">\n    <path d=\"M 565.193285 490.825532 \nL 607.93371 490.825532 \nL 607.93371 434.655319 \nL 565.193285 434.655319 \nz\n\" clip-path=\"url(#pe5d1157211)\" style=\"fill: #3274a1\"/>\n   </g>\n   <g id=\"patch_368\">\n    <path d=\"M 618.618816 490.825532 \nL 661.359242 490.825532 \nL 661.359242 476.583794 \nL 618.618816 476.583794 \nz\n\" clip-path=\"url(#pe5d1157211)\" style=\"fill: #e1812c\"/>\n   </g>\n   <g id=\"matplotlib.axis_105\">\n    <g id=\"xtick_105\">\n     <g id=\"line2d_209\">\n      <g>\n       <use xlink:href=\"#m53ffd6c531\" x=\"586.563497\" y=\"490.825532\" style=\"stroke: #000000; stroke-width: 0.8\"/>\n      </g>\n     </g>\n     <g id=\"text_313\">\n      <!-- 0.0 -->\n      <g transform=\"translate(578.611935 505.423969) scale(0.1 -0.1)\">\n       <use xlink:href=\"#DejaVuSans-30\"/>\n       <use xlink:href=\"#DejaVuSans-2e\" x=\"63.623047\"/>\n       <use xlink:href=\"#DejaVuSans-30\" x=\"95.410156\"/>\n      </g>\n     </g>\n    </g>\n    <g id=\"xtick_106\">\n     <g id=\"line2d_210\">\n      <g>\n       <use xlink:href=\"#m53ffd6c531\" x=\"639.989029\" y=\"490.825532\" style=\"stroke: #000000; stroke-width: 0.8\"/>\n      </g>\n     </g>\n     <g id=\"text_314\">\n      <!-- 1.0 -->\n      <g transform=\"translate(632.037467 505.423969) scale(0.1 -0.1)\">\n       <use xlink:href=\"#DejaVuSans-31\"/>\n       <use xlink:href=\"#DejaVuSans-2e\" x=\"63.623047\"/>\n       <use xlink:href=\"#DejaVuSans-30\" x=\"95.410156\"/>\n      </g>\n     </g>\n    </g>\n    <g id=\"text_315\">\n     <!-- tremor -->\n     <g transform=\"translate(596.31142 519.102094) scale(0.1 -0.1)\">\n      <use xlink:href=\"#DejaVuSans-74\"/>\n      <use xlink:href=\"#DejaVuSans-72\" x=\"39.208984\"/>\n      <use xlink:href=\"#DejaVuSans-65\" x=\"78.072266\"/>\n      <use xlink:href=\"#DejaVuSans-6d\" x=\"139.595703\"/>\n      <use xlink:href=\"#DejaVuSans-6f\" x=\"237.007812\"/>\n      <use xlink:href=\"#DejaVuSans-72\" x=\"298.189453\"/>\n     </g>\n    </g>\n   </g>\n   <g id=\"matplotlib.axis_106\">\n    <g id=\"ytick_105\">\n     <g id=\"line2d_211\">\n      <g>\n       <use xlink:href=\"#mddf5a59a20\" x=\"559.850731\" y=\"490.825532\" style=\"stroke: #000000; stroke-width: 0.8\"/>\n      </g>\n     </g>\n     <g id=\"text_316\">\n      <!-- 0 -->\n      <g transform=\"translate(546.488231 494.624751) scale(0.1 -0.1)\">\n       <use xlink:href=\"#DejaVuSans-30\"/>\n      </g>\n     </g>\n    </g>\n    <g id=\"ytick_106\">\n     <g id=\"line2d_212\">\n      <g>\n       <use xlink:href=\"#mddf5a59a20\" x=\"559.850731\" y=\"441.029244\" style=\"stroke: #000000; stroke-width: 0.8\"/>\n      </g>\n     </g>\n     <g id=\"text_317\">\n      <!-- 500 -->\n      <g transform=\"translate(533.763231 444.828463) scale(0.1 -0.1)\">\n       <use xlink:href=\"#DejaVuSans-35\"/>\n       <use xlink:href=\"#DejaVuSans-30\" x=\"63.623047\"/>\n       <use xlink:href=\"#DejaVuSans-30\" x=\"127.246094\"/>\n      </g>\n     </g>\n    </g>\n    <g id=\"text_318\">\n     <!-- count -->\n     <g transform=\"translate(527.683544 475.44242) rotate(-90) scale(0.1 -0.1)\">\n      <use xlink:href=\"#DejaVuSans-63\"/>\n      <use xlink:href=\"#DejaVuSans-6f\" x=\"54.980469\"/>\n      <use xlink:href=\"#DejaVuSans-75\" x=\"116.162109\"/>\n      <use xlink:href=\"#DejaVuSans-6e\" x=\"179.541016\"/>\n      <use xlink:href=\"#DejaVuSans-74\" x=\"242.919922\"/>\n     </g>\n    </g>\n   </g>\n   <g id=\"patch_369\">\n    <path d=\"M 559.850731 490.825532 \nL 559.850731 431.846809 \n\" style=\"fill: none; stroke: #000000; stroke-width: 0.8; stroke-linejoin: miter; stroke-linecap: square\"/>\n   </g>\n   <g id=\"patch_370\">\n    <path d=\"M 666.701795 490.825532 \nL 666.701795 431.846809 \n\" style=\"fill: none; stroke: #000000; stroke-width: 0.8; stroke-linejoin: miter; stroke-linecap: square\"/>\n   </g>\n   <g id=\"patch_371\">\n    <path d=\"M 559.850731 490.825532 \nL 666.701795 490.825532 \n\" style=\"fill: none; stroke: #000000; stroke-width: 0.8; stroke-linejoin: miter; stroke-linecap: square\"/>\n   </g>\n   <g id=\"patch_372\">\n    <path d=\"M 559.850731 431.846809 \nL 666.701795 431.846809 \n\" style=\"fill: none; stroke: #000000; stroke-width: 0.8; stroke-linejoin: miter; stroke-linecap: square\"/>\n   </g>\n  </g>\n  <g id=\"axes_54\">\n   <g id=\"patch_373\">\n    <path d=\"M 688.072008 490.825532 \nL 794.923072 490.825532 \nL 794.923072 431.846809 \nL 688.072008 431.846809 \nz\n\" style=\"fill: #ffffff\"/>\n   </g>\n   <g id=\"patch_374\">\n    <path d=\"M 693.414561 490.825532 \nL 736.154987 490.825532 \nL 736.154987 434.655319 \nL 693.414561 434.655319 \nz\n\" clip-path=\"url(#p2bfd428bb0)\" style=\"fill: #3274a1\"/>\n   </g>\n   <g id=\"patch_375\">\n    <path d=\"M 746.840093 490.825532 \nL 789.580519 490.825532 \nL 789.580519 479.227246 \nL 746.840093 479.227246 \nz\n\" clip-path=\"url(#p2bfd428bb0)\" style=\"fill: #e1812c\"/>\n   </g>\n   <g id=\"matplotlib.axis_107\">\n    <g id=\"xtick_107\">\n     <g id=\"line2d_213\">\n      <g>\n       <use xlink:href=\"#m53ffd6c531\" x=\"714.784774\" y=\"490.825532\" style=\"stroke: #000000; stroke-width: 0.8\"/>\n      </g>\n     </g>\n     <g id=\"text_319\">\n      <!-- 0.0 -->\n      <g transform=\"translate(706.833211 505.423969) scale(0.1 -0.1)\">\n       <use xlink:href=\"#DejaVuSans-30\"/>\n       <use xlink:href=\"#DejaVuSans-2e\" x=\"63.623047\"/>\n       <use xlink:href=\"#DejaVuSans-30\" x=\"95.410156\"/>\n      </g>\n     </g>\n    </g>\n    <g id=\"xtick_108\">\n     <g id=\"line2d_214\">\n      <g>\n       <use xlink:href=\"#m53ffd6c531\" x=\"768.210306\" y=\"490.825532\" style=\"stroke: #000000; stroke-width: 0.8\"/>\n      </g>\n     </g>\n     <g id=\"text_320\">\n      <!-- 1.0 -->\n      <g transform=\"translate(760.258743 505.423969) scale(0.1 -0.1)\">\n       <use xlink:href=\"#DejaVuSans-31\"/>\n       <use xlink:href=\"#DejaVuSans-2e\" x=\"63.623047\"/>\n       <use xlink:href=\"#DejaVuSans-30\" x=\"95.410156\"/>\n      </g>\n     </g>\n    </g>\n    <g id=\"text_321\">\n     <!-- paralysis -->\n     <g transform=\"translate(719.192852 519.102094) scale(0.1 -0.1)\">\n      <use xlink:href=\"#DejaVuSans-70\"/>\n      <use xlink:href=\"#DejaVuSans-61\" x=\"63.476562\"/>\n      <use xlink:href=\"#DejaVuSans-72\" x=\"124.755859\"/>\n      <use xlink:href=\"#DejaVuSans-61\" x=\"165.869141\"/>\n      <use xlink:href=\"#DejaVuSans-6c\" x=\"227.148438\"/>\n      <use xlink:href=\"#DejaVuSans-79\" x=\"254.931641\"/>\n      <use xlink:href=\"#DejaVuSans-73\" x=\"314.111328\"/>\n      <use xlink:href=\"#DejaVuSans-69\" x=\"366.210938\"/>\n      <use xlink:href=\"#DejaVuSans-73\" x=\"393.994141\"/>\n     </g>\n    </g>\n   </g>\n   <g id=\"matplotlib.axis_108\">\n    <g id=\"ytick_107\">\n     <g id=\"line2d_215\">\n      <g>\n       <use xlink:href=\"#mddf5a59a20\" x=\"688.072008\" y=\"490.825532\" style=\"stroke: #000000; stroke-width: 0.8\"/>\n      </g>\n     </g>\n     <g id=\"text_322\">\n      <!-- 0 -->\n      <g transform=\"translate(674.709508 494.624751) scale(0.1 -0.1)\">\n       <use xlink:href=\"#DejaVuSans-30\"/>\n      </g>\n     </g>\n    </g>\n    <g id=\"ytick_108\">\n     <g id=\"line2d_216\">\n      <g>\n       <use xlink:href=\"#mddf5a59a20\" x=\"688.072008\" y=\"442.898729\" style=\"stroke: #000000; stroke-width: 0.8\"/>\n      </g>\n     </g>\n     <g id=\"text_323\">\n      <!-- 500 -->\n      <g transform=\"translate(661.984508 446.697948) scale(0.1 -0.1)\">\n       <use xlink:href=\"#DejaVuSans-35\"/>\n       <use xlink:href=\"#DejaVuSans-30\" x=\"63.623047\"/>\n       <use xlink:href=\"#DejaVuSans-30\" x=\"127.246094\"/>\n      </g>\n     </g>\n    </g>\n    <g id=\"text_324\">\n     <!-- count -->\n     <g transform=\"translate(655.90482 475.44242) rotate(-90) scale(0.1 -0.1)\">\n      <use xlink:href=\"#DejaVuSans-63\"/>\n      <use xlink:href=\"#DejaVuSans-6f\" x=\"54.980469\"/>\n      <use xlink:href=\"#DejaVuSans-75\" x=\"116.162109\"/>\n      <use xlink:href=\"#DejaVuSans-6e\" x=\"179.541016\"/>\n      <use xlink:href=\"#DejaVuSans-74\" x=\"242.919922\"/>\n     </g>\n    </g>\n   </g>\n   <g id=\"patch_376\">\n    <path d=\"M 688.072008 490.825532 \nL 688.072008 431.846809 \n\" style=\"fill: none; stroke: #000000; stroke-width: 0.8; stroke-linejoin: miter; stroke-linecap: square\"/>\n   </g>\n   <g id=\"patch_377\">\n    <path d=\"M 794.923072 490.825532 \nL 794.923072 431.846809 \n\" style=\"fill: none; stroke: #000000; stroke-width: 0.8; stroke-linejoin: miter; stroke-linecap: square\"/>\n   </g>\n   <g id=\"patch_378\">\n    <path d=\"M 688.072008 490.825532 \nL 794.923072 490.825532 \n\" style=\"fill: none; stroke: #000000; stroke-width: 0.8; stroke-linejoin: miter; stroke-linecap: square\"/>\n   </g>\n   <g id=\"patch_379\">\n    <path d=\"M 688.072008 431.846809 \nL 794.923072 431.846809 \n\" style=\"fill: none; stroke: #000000; stroke-width: 0.8; stroke-linejoin: miter; stroke-linecap: square\"/>\n   </g>\n  </g>\n  <g id=\"axes_55\">\n   <g id=\"patch_380\">\n    <path d=\"M 816.293285 490.825532 \nL 923.144348 490.825532 \nL 923.144348 431.846809 \nL 816.293285 431.846809 \nz\n\" style=\"fill: #ffffff\"/>\n   </g>\n   <g id=\"patch_381\">\n    <path d=\"M 821.635838 490.825532 \nL 864.376263 490.825532 \nL 864.376263 434.655319 \nL 821.635838 434.655319 \nz\n\" clip-path=\"url(#pf9e015dedd)\" style=\"fill: #3274a1\"/>\n   </g>\n   <g id=\"patch_382\">\n    <path d=\"M 875.06137 490.825532 \nL 917.801795 490.825532 \nL 917.801795 481.028402 \nL 875.06137 481.028402 \nz\n\" clip-path=\"url(#pf9e015dedd)\" style=\"fill: #e1812c\"/>\n   </g>\n   <g id=\"matplotlib.axis_109\">\n    <g id=\"xtick_109\">\n     <g id=\"line2d_217\">\n      <g>\n       <use xlink:href=\"#m53ffd6c531\" x=\"843.006051\" y=\"490.825532\" style=\"stroke: #000000; stroke-width: 0.8\"/>\n      </g>\n     </g>\n     <g id=\"text_325\">\n      <!-- 0.0 -->\n      <g transform=\"translate(835.054488 505.423969) scale(0.1 -0.1)\">\n       <use xlink:href=\"#DejaVuSans-30\"/>\n       <use xlink:href=\"#DejaVuSans-2e\" x=\"63.623047\"/>\n       <use xlink:href=\"#DejaVuSans-30\" x=\"95.410156\"/>\n      </g>\n     </g>\n    </g>\n    <g id=\"xtick_110\">\n     <g id=\"line2d_218\">\n      <g>\n       <use xlink:href=\"#m53ffd6c531\" x=\"896.431582\" y=\"490.825532\" style=\"stroke: #000000; stroke-width: 0.8\"/>\n      </g>\n     </g>\n     <g id=\"text_326\">\n      <!-- 1.0 -->\n      <g transform=\"translate(888.48002 505.423969) scale(0.1 -0.1)\">\n       <use xlink:href=\"#DejaVuSans-31\"/>\n       <use xlink:href=\"#DejaVuSans-2e\" x=\"63.623047\"/>\n       <use xlink:href=\"#DejaVuSans-30\" x=\"95.410156\"/>\n      </g>\n     </g>\n    </g>\n    <g id=\"text_327\">\n     <!-- lymph_swells -->\n     <g transform=\"translate(836.503973 519.102094) scale(0.1 -0.1)\">\n      <use xlink:href=\"#DejaVuSans-6c\"/>\n      <use xlink:href=\"#DejaVuSans-79\" x=\"27.783203\"/>\n      <use xlink:href=\"#DejaVuSans-6d\" x=\"86.962891\"/>\n      <use xlink:href=\"#DejaVuSans-70\" x=\"184.375\"/>\n      <use xlink:href=\"#DejaVuSans-68\" x=\"247.851562\"/>\n      <use xlink:href=\"#DejaVuSans-5f\" x=\"311.230469\"/>\n      <use xlink:href=\"#DejaVuSans-73\" x=\"361.230469\"/>\n      <use xlink:href=\"#DejaVuSans-77\" x=\"413.330078\"/>\n      <use xlink:href=\"#DejaVuSans-65\" x=\"495.117188\"/>\n      <use xlink:href=\"#DejaVuSans-6c\" x=\"556.640625\"/>\n      <use xlink:href=\"#DejaVuSans-6c\" x=\"584.423828\"/>\n      <use xlink:href=\"#DejaVuSans-73\" x=\"612.207031\"/>\n     </g>\n    </g>\n   </g>\n   <g id=\"matplotlib.axis_110\">\n    <g id=\"ytick_109\">\n     <g id=\"line2d_219\">\n      <g>\n       <use xlink:href=\"#mddf5a59a20\" x=\"816.293285\" y=\"490.825532\" style=\"stroke: #000000; stroke-width: 0.8\"/>\n      </g>\n     </g>\n     <g id=\"text_328\">\n      <!-- 0 -->\n      <g transform=\"translate(802.930785 494.624751) scale(0.1 -0.1)\">\n       <use xlink:href=\"#DejaVuSans-30\"/>\n      </g>\n     </g>\n    </g>\n    <g id=\"ytick_110\">\n     <g id=\"line2d_220\">\n      <g>\n       <use xlink:href=\"#mddf5a59a20\" x=\"816.293285\" y=\"444.172531\" style=\"stroke: #000000; stroke-width: 0.8\"/>\n      </g>\n     </g>\n     <g id=\"text_329\">\n      <!-- 500 -->\n      <g transform=\"translate(790.205785 447.97175) scale(0.1 -0.1)\">\n       <use xlink:href=\"#DejaVuSans-35\"/>\n       <use xlink:href=\"#DejaVuSans-30\" x=\"63.623047\"/>\n       <use xlink:href=\"#DejaVuSans-30\" x=\"127.246094\"/>\n      </g>\n     </g>\n    </g>\n    <g id=\"text_330\">\n     <!-- count -->\n     <g transform=\"translate(784.126097 475.44242) rotate(-90) scale(0.1 -0.1)\">\n      <use xlink:href=\"#DejaVuSans-63\"/>\n      <use xlink:href=\"#DejaVuSans-6f\" x=\"54.980469\"/>\n      <use xlink:href=\"#DejaVuSans-75\" x=\"116.162109\"/>\n      <use xlink:href=\"#DejaVuSans-6e\" x=\"179.541016\"/>\n      <use xlink:href=\"#DejaVuSans-74\" x=\"242.919922\"/>\n     </g>\n    </g>\n   </g>\n   <g id=\"patch_383\">\n    <path d=\"M 816.293285 490.825532 \nL 816.293285 431.846809 \n\" style=\"fill: none; stroke: #000000; stroke-width: 0.8; stroke-linejoin: miter; stroke-linecap: square\"/>\n   </g>\n   <g id=\"patch_384\">\n    <path d=\"M 923.144348 490.825532 \nL 923.144348 431.846809 \n\" style=\"fill: none; stroke: #000000; stroke-width: 0.8; stroke-linejoin: miter; stroke-linecap: square\"/>\n   </g>\n   <g id=\"patch_385\">\n    <path d=\"M 816.293285 490.825532 \nL 923.144348 490.825532 \n\" style=\"fill: none; stroke: #000000; stroke-width: 0.8; stroke-linejoin: miter; stroke-linecap: square\"/>\n   </g>\n   <g id=\"patch_386\">\n    <path d=\"M 816.293285 431.846809 \nL 923.144348 431.846809 \n\" style=\"fill: none; stroke: #000000; stroke-width: 0.8; stroke-linejoin: miter; stroke-linecap: square\"/>\n   </g>\n  </g>\n  <g id=\"axes_56\">\n   <g id=\"patch_387\">\n    <path d=\"M 944.514561 490.825532 \nL 1051.365625 490.825532 \nL 1051.365625 431.846809 \nL 944.514561 431.846809 \nz\n\" style=\"fill: #ffffff\"/>\n   </g>\n   <g id=\"patch_388\">\n    <path d=\"M 949.857114 490.825532 \nL 992.59754 490.825532 \nL 992.59754 434.655319 \nL 949.857114 434.655319 \nz\n\" clip-path=\"url(#p6100efeb70)\" style=\"fill: #3274a1\"/>\n   </g>\n   <g id=\"patch_389\">\n    <path d=\"M 1003.282646 490.825532 \nL 1046.023072 490.825532 \nL 1046.023072 486.45864 \nL 1003.282646 486.45864 \nz\n\" clip-path=\"url(#p6100efeb70)\" style=\"fill: #e1812c\"/>\n   </g>\n   <g id=\"matplotlib.axis_111\">\n    <g id=\"xtick_111\">\n     <g id=\"line2d_221\">\n      <g>\n       <use xlink:href=\"#m53ffd6c531\" x=\"971.227327\" y=\"490.825532\" style=\"stroke: #000000; stroke-width: 0.8\"/>\n      </g>\n     </g>\n     <g id=\"text_331\">\n      <!-- 0.0 -->\n      <g transform=\"translate(963.275765 505.423969) scale(0.1 -0.1)\">\n       <use xlink:href=\"#DejaVuSans-30\"/>\n       <use xlink:href=\"#DejaVuSans-2e\" x=\"63.623047\"/>\n       <use xlink:href=\"#DejaVuSans-30\" x=\"95.410156\"/>\n      </g>\n     </g>\n    </g>\n    <g id=\"xtick_112\">\n     <g id=\"line2d_222\">\n      <g>\n       <use xlink:href=\"#m53ffd6c531\" x=\"1024.652859\" y=\"490.825532\" style=\"stroke: #000000; stroke-width: 0.8\"/>\n      </g>\n     </g>\n     <g id=\"text_332\">\n      <!-- 1.0 -->\n      <g transform=\"translate(1016.701297 505.423969) scale(0.1 -0.1)\">\n       <use xlink:href=\"#DejaVuSans-31\"/>\n       <use xlink:href=\"#DejaVuSans-2e\" x=\"63.623047\"/>\n       <use xlink:href=\"#DejaVuSans-30\" x=\"95.410156\"/>\n      </g>\n     </g>\n    </g>\n    <g id=\"text_333\">\n     <!-- breathing_restriction -->\n     <g transform=\"translate(945.965874 519.102094) scale(0.1 -0.1)\">\n      <use xlink:href=\"#DejaVuSans-62\"/>\n      <use xlink:href=\"#DejaVuSans-72\" x=\"63.476562\"/>\n      <use xlink:href=\"#DejaVuSans-65\" x=\"102.339844\"/>\n      <use xlink:href=\"#DejaVuSans-61\" x=\"163.863281\"/>\n      <use xlink:href=\"#DejaVuSans-74\" x=\"225.142578\"/>\n      <use xlink:href=\"#DejaVuSans-68\" x=\"264.351562\"/>\n      <use xlink:href=\"#DejaVuSans-69\" x=\"327.730469\"/>\n      <use xlink:href=\"#DejaVuSans-6e\" x=\"355.513672\"/>\n      <use xlink:href=\"#DejaVuSans-67\" x=\"418.892578\"/>\n      <use xlink:href=\"#DejaVuSans-5f\" x=\"482.369141\"/>\n      <use xlink:href=\"#DejaVuSans-72\" x=\"532.369141\"/>\n      <use xlink:href=\"#DejaVuSans-65\" x=\"571.232422\"/>\n      <use xlink:href=\"#DejaVuSans-73\" x=\"632.755859\"/>\n      <use xlink:href=\"#DejaVuSans-74\" x=\"684.855469\"/>\n      <use xlink:href=\"#DejaVuSans-72\" x=\"724.064453\"/>\n      <use xlink:href=\"#DejaVuSans-69\" x=\"765.177734\"/>\n      <use xlink:href=\"#DejaVuSans-63\" x=\"792.960938\"/>\n      <use xlink:href=\"#DejaVuSans-74\" x=\"847.941406\"/>\n      <use xlink:href=\"#DejaVuSans-69\" x=\"887.150391\"/>\n      <use xlink:href=\"#DejaVuSans-6f\" x=\"914.933594\"/>\n      <use xlink:href=\"#DejaVuSans-6e\" x=\"976.115234\"/>\n     </g>\n    </g>\n   </g>\n   <g id=\"matplotlib.axis_112\">\n    <g id=\"ytick_111\">\n     <g id=\"line2d_223\">\n      <g>\n       <use xlink:href=\"#mddf5a59a20\" x=\"944.514561\" y=\"490.825532\" style=\"stroke: #000000; stroke-width: 0.8\"/>\n      </g>\n     </g>\n     <g id=\"text_334\">\n      <!-- 0 -->\n      <g transform=\"translate(931.152061 494.624751) scale(0.1 -0.1)\">\n       <use xlink:href=\"#DejaVuSans-30\"/>\n      </g>\n     </g>\n    </g>\n    <g id=\"ytick_112\">\n     <g id=\"line2d_224\">\n      <g>\n       <use xlink:href=\"#mddf5a59a20\" x=\"944.514561\" y=\"448.01287\" style=\"stroke: #000000; stroke-width: 0.8\"/>\n      </g>\n     </g>\n     <g id=\"text_335\">\n      <!-- 500 -->\n      <g transform=\"translate(918.427061 451.812088) scale(0.1 -0.1)\">\n       <use xlink:href=\"#DejaVuSans-35\"/>\n       <use xlink:href=\"#DejaVuSans-30\" x=\"63.623047\"/>\n       <use xlink:href=\"#DejaVuSans-30\" x=\"127.246094\"/>\n      </g>\n     </g>\n    </g>\n    <g id=\"text_336\">\n     <!-- count -->\n     <g transform=\"translate(912.347374 475.44242) rotate(-90) scale(0.1 -0.1)\">\n      <use xlink:href=\"#DejaVuSans-63\"/>\n      <use xlink:href=\"#DejaVuSans-6f\" x=\"54.980469\"/>\n      <use xlink:href=\"#DejaVuSans-75\" x=\"116.162109\"/>\n      <use xlink:href=\"#DejaVuSans-6e\" x=\"179.541016\"/>\n      <use xlink:href=\"#DejaVuSans-74\" x=\"242.919922\"/>\n     </g>\n    </g>\n   </g>\n   <g id=\"patch_390\">\n    <path d=\"M 944.514561 490.825532 \nL 944.514561 431.846809 \n\" style=\"fill: none; stroke: #000000; stroke-width: 0.8; stroke-linejoin: miter; stroke-linecap: square\"/>\n   </g>\n   <g id=\"patch_391\">\n    <path d=\"M 1051.365625 490.825532 \nL 1051.365625 431.846809 \n\" style=\"fill: none; stroke: #000000; stroke-width: 0.8; stroke-linejoin: miter; stroke-linecap: square\"/>\n   </g>\n   <g id=\"patch_392\">\n    <path d=\"M 944.514561 490.825532 \nL 1051.365625 490.825532 \n\" style=\"fill: none; stroke: #000000; stroke-width: 0.8; stroke-linejoin: miter; stroke-linecap: square\"/>\n   </g>\n   <g id=\"patch_393\">\n    <path d=\"M 944.514561 431.846809 \nL 1051.365625 431.846809 \n\" style=\"fill: none; stroke: #000000; stroke-width: 0.8; stroke-linejoin: miter; stroke-linecap: square\"/>\n   </g>\n  </g>\n  <g id=\"axes_57\">\n   <g id=\"patch_394\">\n    <path d=\"M 46.965625 561.6 \nL 153.816689 561.6 \nL 153.816689 502.621277 \nL 46.965625 502.621277 \nz\n\" style=\"fill: #ffffff\"/>\n   </g>\n   <g id=\"patch_395\">\n    <path d=\"M 52.308178 561.6 \nL 95.048604 561.6 \nL 95.048604 505.429787 \nL 52.308178 505.429787 \nz\n\" clip-path=\"url(#pce40202ef5)\" style=\"fill: #3274a1\"/>\n   </g>\n   <g id=\"patch_396\">\n    <path d=\"M 105.73371 561.6 \nL 148.474136 561.6 \nL 148.474136 555.525165 \nL 105.73371 555.525165 \nz\n\" clip-path=\"url(#pce40202ef5)\" style=\"fill: #e1812c\"/>\n   </g>\n   <g id=\"matplotlib.axis_113\">\n    <g id=\"xtick_113\">\n     <g id=\"line2d_225\">\n      <g>\n       <use xlink:href=\"#m53ffd6c531\" x=\"73.678391\" y=\"561.6\" style=\"stroke: #000000; stroke-width: 0.8\"/>\n      </g>\n     </g>\n     <g id=\"text_337\">\n      <!-- 0.0 -->\n      <g transform=\"translate(65.726828 576.198438) scale(0.1 -0.1)\">\n       <use xlink:href=\"#DejaVuSans-30\"/>\n       <use xlink:href=\"#DejaVuSans-2e\" x=\"63.623047\"/>\n       <use xlink:href=\"#DejaVuSans-30\" x=\"95.410156\"/>\n      </g>\n     </g>\n    </g>\n    <g id=\"xtick_114\">\n     <g id=\"line2d_226\">\n      <g>\n       <use xlink:href=\"#m53ffd6c531\" x=\"127.103923\" y=\"561.6\" style=\"stroke: #000000; stroke-width: 0.8\"/>\n      </g>\n     </g>\n     <g id=\"text_338\">\n      <!-- 1.0 -->\n      <g transform=\"translate(119.15236 576.198438) scale(0.1 -0.1)\">\n       <use xlink:href=\"#DejaVuSans-31\"/>\n       <use xlink:href=\"#DejaVuSans-2e\" x=\"63.623047\"/>\n       <use xlink:href=\"#DejaVuSans-30\" x=\"95.410156\"/>\n      </g>\n     </g>\n    </g>\n    <g id=\"text_339\">\n     <!-- toe_inflammation -->\n     <g transform=\"translate(56.641938 589.876563) scale(0.1 -0.1)\">\n      <use xlink:href=\"#DejaVuSans-74\"/>\n      <use xlink:href=\"#DejaVuSans-6f\" x=\"39.208984\"/>\n      <use xlink:href=\"#DejaVuSans-65\" x=\"100.390625\"/>\n      <use xlink:href=\"#DejaVuSans-5f\" x=\"161.914062\"/>\n      <use xlink:href=\"#DejaVuSans-69\" x=\"211.914062\"/>\n      <use xlink:href=\"#DejaVuSans-6e\" x=\"239.697266\"/>\n      <use xlink:href=\"#DejaVuSans-66\" x=\"303.076172\"/>\n      <use xlink:href=\"#DejaVuSans-6c\" x=\"338.28125\"/>\n      <use xlink:href=\"#DejaVuSans-61\" x=\"366.064453\"/>\n      <use xlink:href=\"#DejaVuSans-6d\" x=\"427.34375\"/>\n      <use xlink:href=\"#DejaVuSans-6d\" x=\"524.755859\"/>\n      <use xlink:href=\"#DejaVuSans-61\" x=\"622.167969\"/>\n      <use xlink:href=\"#DejaVuSans-74\" x=\"683.447266\"/>\n      <use xlink:href=\"#DejaVuSans-69\" x=\"722.65625\"/>\n      <use xlink:href=\"#DejaVuSans-6f\" x=\"750.439453\"/>\n      <use xlink:href=\"#DejaVuSans-6e\" x=\"811.621094\"/>\n     </g>\n    </g>\n   </g>\n   <g id=\"matplotlib.axis_114\">\n    <g id=\"ytick_113\">\n     <g id=\"line2d_227\">\n      <g>\n       <use xlink:href=\"#mddf5a59a20\" x=\"46.965625\" y=\"561.6\" style=\"stroke: #000000; stroke-width: 0.8\"/>\n      </g>\n     </g>\n     <g id=\"text_340\">\n      <!-- 0 -->\n      <g transform=\"translate(33.603125 565.399219) scale(0.1 -0.1)\">\n       <use xlink:href=\"#DejaVuSans-30\"/>\n      </g>\n     </g>\n    </g>\n    <g id=\"ytick_114\">\n     <g id=\"line2d_228\">\n      <g>\n       <use xlink:href=\"#mddf5a59a20\" x=\"46.965625\" y=\"517.579457\" style=\"stroke: #000000; stroke-width: 0.8\"/>\n      </g>\n     </g>\n     <g id=\"text_341\">\n      <!-- 500 -->\n      <g transform=\"translate(20.878125 521.378676) scale(0.1 -0.1)\">\n       <use xlink:href=\"#DejaVuSans-35\"/>\n       <use xlink:href=\"#DejaVuSans-30\" x=\"63.623047\"/>\n       <use xlink:href=\"#DejaVuSans-30\" x=\"127.246094\"/>\n      </g>\n     </g>\n    </g>\n    <g id=\"text_342\">\n     <!-- count -->\n     <g transform=\"translate(14.798438 546.216888) rotate(-90) scale(0.1 -0.1)\">\n      <use xlink:href=\"#DejaVuSans-63\"/>\n      <use xlink:href=\"#DejaVuSans-6f\" x=\"54.980469\"/>\n      <use xlink:href=\"#DejaVuSans-75\" x=\"116.162109\"/>\n      <use xlink:href=\"#DejaVuSans-6e\" x=\"179.541016\"/>\n      <use xlink:href=\"#DejaVuSans-74\" x=\"242.919922\"/>\n     </g>\n    </g>\n   </g>\n   <g id=\"patch_397\">\n    <path d=\"M 46.965625 561.6 \nL 46.965625 502.621277 \n\" style=\"fill: none; stroke: #000000; stroke-width: 0.8; stroke-linejoin: miter; stroke-linecap: square\"/>\n   </g>\n   <g id=\"patch_398\">\n    <path d=\"M 153.816689 561.6 \nL 153.816689 502.621277 \n\" style=\"fill: none; stroke: #000000; stroke-width: 0.8; stroke-linejoin: miter; stroke-linecap: square\"/>\n   </g>\n   <g id=\"patch_399\">\n    <path d=\"M 46.965625 561.6 \nL 153.816689 561.6 \n\" style=\"fill: none; stroke: #000000; stroke-width: 0.8; stroke-linejoin: miter; stroke-linecap: square\"/>\n   </g>\n   <g id=\"patch_400\">\n    <path d=\"M 46.965625 502.621277 \nL 153.816689 502.621277 \n\" style=\"fill: none; stroke: #000000; stroke-width: 0.8; stroke-linejoin: miter; stroke-linecap: square\"/>\n   </g>\n  </g>\n  <g id=\"axes_58\">\n   <g id=\"patch_401\">\n    <path d=\"M 175.186902 561.6 \nL 282.037965 561.6 \nL 282.037965 502.621277 \nL 175.186902 502.621277 \nz\n\" style=\"fill: #ffffff\"/>\n   </g>\n   <g id=\"patch_402\">\n    <path d=\"M 180.529455 561.6 \nL 223.26988 561.6 \nL 223.26988 505.429787 \nL 180.529455 505.429787 \nz\n\" clip-path=\"url(#p88df35591b)\" style=\"fill: #3274a1\"/>\n   </g>\n   <g id=\"patch_403\">\n    <path d=\"M 233.954987 561.6 \nL 276.695412 561.6 \nL 276.695412 556.768154 \nL 233.954987 556.768154 \nz\n\" clip-path=\"url(#p88df35591b)\" style=\"fill: #e1812c\"/>\n   </g>\n   <g id=\"matplotlib.axis_115\">\n    <g id=\"xtick_115\">\n     <g id=\"line2d_229\">\n      <g>\n       <use xlink:href=\"#m53ffd6c531\" x=\"201.899668\" y=\"561.6\" style=\"stroke: #000000; stroke-width: 0.8\"/>\n      </g>\n     </g>\n     <g id=\"text_343\">\n      <!-- 0.0 -->\n      <g transform=\"translate(193.948105 576.198438) scale(0.1 -0.1)\">\n       <use xlink:href=\"#DejaVuSans-30\"/>\n       <use xlink:href=\"#DejaVuSans-2e\" x=\"63.623047\"/>\n       <use xlink:href=\"#DejaVuSans-30\" x=\"95.410156\"/>\n      </g>\n     </g>\n    </g>\n    <g id=\"xtick_116\">\n     <g id=\"line2d_230\">\n      <g>\n       <use xlink:href=\"#m53ffd6c531\" x=\"255.325199\" y=\"561.6\" style=\"stroke: #000000; stroke-width: 0.8\"/>\n      </g>\n     </g>\n     <g id=\"text_344\">\n      <!-- 1.0 -->\n      <g transform=\"translate(247.373637 576.198438) scale(0.1 -0.1)\">\n       <use xlink:href=\"#DejaVuSans-31\"/>\n       <use xlink:href=\"#DejaVuSans-2e\" x=\"63.623047\"/>\n       <use xlink:href=\"#DejaVuSans-30\" x=\"95.410156\"/>\n      </g>\n     </g>\n    </g>\n    <g id=\"text_345\">\n     <!-- finger_inflammation -->\n     <g transform=\"translate(178.33509 589.876563) scale(0.1 -0.1)\">\n      <use xlink:href=\"#DejaVuSans-66\"/>\n      <use xlink:href=\"#DejaVuSans-69\" x=\"35.205078\"/>\n      <use xlink:href=\"#DejaVuSans-6e\" x=\"62.988281\"/>\n      <use xlink:href=\"#DejaVuSans-67\" x=\"126.367188\"/>\n      <use xlink:href=\"#DejaVuSans-65\" x=\"189.84375\"/>\n      <use xlink:href=\"#DejaVuSans-72\" x=\"251.367188\"/>\n      <use xlink:href=\"#DejaVuSans-5f\" x=\"292.480469\"/>\n      <use xlink:href=\"#DejaVuSans-69\" x=\"342.480469\"/>\n      <use xlink:href=\"#DejaVuSans-6e\" x=\"370.263672\"/>\n      <use xlink:href=\"#DejaVuSans-66\" x=\"433.642578\"/>\n      <use xlink:href=\"#DejaVuSans-6c\" x=\"468.847656\"/>\n      <use xlink:href=\"#DejaVuSans-61\" x=\"496.630859\"/>\n      <use xlink:href=\"#DejaVuSans-6d\" x=\"557.910156\"/>\n      <use xlink:href=\"#DejaVuSans-6d\" x=\"655.322266\"/>\n      <use xlink:href=\"#DejaVuSans-61\" x=\"752.734375\"/>\n      <use xlink:href=\"#DejaVuSans-74\" x=\"814.013672\"/>\n      <use xlink:href=\"#DejaVuSans-69\" x=\"853.222656\"/>\n      <use xlink:href=\"#DejaVuSans-6f\" x=\"881.005859\"/>\n      <use xlink:href=\"#DejaVuSans-6e\" x=\"942.1875\"/>\n     </g>\n    </g>\n   </g>\n   <g id=\"matplotlib.axis_116\">\n    <g id=\"ytick_115\">\n     <g id=\"line2d_231\">\n      <g>\n       <use xlink:href=\"#mddf5a59a20\" x=\"175.186902\" y=\"561.6\" style=\"stroke: #000000; stroke-width: 0.8\"/>\n      </g>\n     </g>\n     <g id=\"text_346\">\n      <!-- 0 -->\n      <g transform=\"translate(161.824402 565.399219) scale(0.1 -0.1)\">\n       <use xlink:href=\"#DejaVuSans-30\"/>\n      </g>\n     </g>\n    </g>\n    <g id=\"ytick_116\">\n     <g id=\"line2d_232\">\n      <g>\n       <use xlink:href=\"#mddf5a59a20\" x=\"175.186902\" y=\"518.458516\" style=\"stroke: #000000; stroke-width: 0.8\"/>\n      </g>\n     </g>\n     <g id=\"text_347\">\n      <!-- 500 -->\n      <g transform=\"translate(149.099402 522.257734) scale(0.1 -0.1)\">\n       <use xlink:href=\"#DejaVuSans-35\"/>\n       <use xlink:href=\"#DejaVuSans-30\" x=\"63.623047\"/>\n       <use xlink:href=\"#DejaVuSans-30\" x=\"127.246094\"/>\n      </g>\n     </g>\n    </g>\n    <g id=\"text_348\">\n     <!-- count -->\n     <g transform=\"translate(143.019714 546.216888) rotate(-90) scale(0.1 -0.1)\">\n      <use xlink:href=\"#DejaVuSans-63\"/>\n      <use xlink:href=\"#DejaVuSans-6f\" x=\"54.980469\"/>\n      <use xlink:href=\"#DejaVuSans-75\" x=\"116.162109\"/>\n      <use xlink:href=\"#DejaVuSans-6e\" x=\"179.541016\"/>\n      <use xlink:href=\"#DejaVuSans-74\" x=\"242.919922\"/>\n     </g>\n    </g>\n   </g>\n   <g id=\"patch_404\">\n    <path d=\"M 175.186902 561.6 \nL 175.186902 502.621277 \n\" style=\"fill: none; stroke: #000000; stroke-width: 0.8; stroke-linejoin: miter; stroke-linecap: square\"/>\n   </g>\n   <g id=\"patch_405\">\n    <path d=\"M 282.037965 561.6 \nL 282.037965 502.621277 \n\" style=\"fill: none; stroke: #000000; stroke-width: 0.8; stroke-linejoin: miter; stroke-linecap: square\"/>\n   </g>\n   <g id=\"patch_406\">\n    <path d=\"M 175.186902 561.6 \nL 282.037965 561.6 \n\" style=\"fill: none; stroke: #000000; stroke-width: 0.8; stroke-linejoin: miter; stroke-linecap: square\"/>\n   </g>\n   <g id=\"patch_407\">\n    <path d=\"M 175.186902 502.621277 \nL 282.037965 502.621277 \n\" style=\"fill: none; stroke: #000000; stroke-width: 0.8; stroke-linejoin: miter; stroke-linecap: square\"/>\n   </g>\n  </g>\n  <g id=\"axes_59\">\n   <g id=\"patch_408\">\n    <path d=\"M 303.408178 561.6 \nL 410.259242 561.6 \nL 410.259242 502.621277 \nL 303.408178 502.621277 \nz\n\" style=\"fill: #ffffff\"/>\n   </g>\n   <g id=\"patch_409\">\n    <path d=\"M 308.750731 561.6 \nL 351.491157 561.6 \nL 351.491157 505.429787 \nL 308.750731 505.429787 \nz\n\" clip-path=\"url(#p090ba3dadb)\" style=\"fill: #3274a1\"/>\n   </g>\n   <g id=\"patch_410\">\n    <path d=\"M 362.176263 561.6 \nL 404.916689 561.6 \nL 404.916689 556.391016 \nL 362.176263 556.391016 \nz\n\" clip-path=\"url(#p090ba3dadb)\" style=\"fill: #e1812c\"/>\n   </g>\n   <g id=\"matplotlib.axis_117\">\n    <g id=\"xtick_117\">\n     <g id=\"line2d_233\">\n      <g>\n       <use xlink:href=\"#m53ffd6c531\" x=\"330.120944\" y=\"561.6\" style=\"stroke: #000000; stroke-width: 0.8\"/>\n      </g>\n     </g>\n     <g id=\"text_349\">\n      <!-- 0.0 -->\n      <g transform=\"translate(322.169382 576.198438) scale(0.1 -0.1)\">\n       <use xlink:href=\"#DejaVuSans-30\"/>\n       <use xlink:href=\"#DejaVuSans-2e\" x=\"63.623047\"/>\n       <use xlink:href=\"#DejaVuSans-30\" x=\"95.410156\"/>\n      </g>\n     </g>\n    </g>\n    <g id=\"xtick_118\">\n     <g id=\"line2d_234\">\n      <g>\n       <use xlink:href=\"#m53ffd6c531\" x=\"383.546476\" y=\"561.6\" style=\"stroke: #000000; stroke-width: 0.8\"/>\n      </g>\n     </g>\n     <g id=\"text_350\">\n      <!-- 1.0 -->\n      <g transform=\"translate(375.594914 576.198438) scale(0.1 -0.1)\">\n       <use xlink:href=\"#DejaVuSans-31\"/>\n       <use xlink:href=\"#DejaVuSans-2e\" x=\"63.623047\"/>\n       <use xlink:href=\"#DejaVuSans-30\" x=\"95.410156\"/>\n      </g>\n     </g>\n    </g>\n    <g id=\"text_351\">\n     <!-- lips_irritation -->\n     <g transform=\"translate(324.373554 589.876563) scale(0.1 -0.1)\">\n      <use xlink:href=\"#DejaVuSans-6c\"/>\n      <use xlink:href=\"#DejaVuSans-69\" x=\"27.783203\"/>\n      <use xlink:href=\"#DejaVuSans-70\" x=\"55.566406\"/>\n      <use xlink:href=\"#DejaVuSans-73\" x=\"119.042969\"/>\n      <use xlink:href=\"#DejaVuSans-5f\" x=\"171.142578\"/>\n      <use xlink:href=\"#DejaVuSans-69\" x=\"221.142578\"/>\n      <use xlink:href=\"#DejaVuSans-72\" x=\"248.925781\"/>\n      <use xlink:href=\"#DejaVuSans-72\" x=\"288.289062\"/>\n      <use xlink:href=\"#DejaVuSans-69\" x=\"329.402344\"/>\n      <use xlink:href=\"#DejaVuSans-74\" x=\"357.185547\"/>\n      <use xlink:href=\"#DejaVuSans-61\" x=\"396.394531\"/>\n      <use xlink:href=\"#DejaVuSans-74\" x=\"457.673828\"/>\n      <use xlink:href=\"#DejaVuSans-69\" x=\"496.882812\"/>\n      <use xlink:href=\"#DejaVuSans-6f\" x=\"524.666016\"/>\n      <use xlink:href=\"#DejaVuSans-6e\" x=\"585.847656\"/>\n     </g>\n    </g>\n   </g>\n   <g id=\"matplotlib.axis_118\">\n    <g id=\"ytick_117\">\n     <g id=\"line2d_235\">\n      <g>\n       <use xlink:href=\"#mddf5a59a20\" x=\"303.408178\" y=\"561.6\" style=\"stroke: #000000; stroke-width: 0.8\"/>\n      </g>\n     </g>\n     <g id=\"text_352\">\n      <!-- 0 -->\n      <g transform=\"translate(290.045678 565.399219) scale(0.1 -0.1)\">\n       <use xlink:href=\"#DejaVuSans-30\"/>\n      </g>\n     </g>\n    </g>\n    <g id=\"ytick_118\">\n     <g id=\"line2d_236\">\n      <g>\n       <use xlink:href=\"#mddf5a59a20\" x=\"303.408178\" y=\"518.191798\" style=\"stroke: #000000; stroke-width: 0.8\"/>\n      </g>\n     </g>\n     <g id=\"text_353\">\n      <!-- 500 -->\n      <g transform=\"translate(277.320678 521.991017) scale(0.1 -0.1)\">\n       <use xlink:href=\"#DejaVuSans-35\"/>\n       <use xlink:href=\"#DejaVuSans-30\" x=\"63.623047\"/>\n       <use xlink:href=\"#DejaVuSans-30\" x=\"127.246094\"/>\n      </g>\n     </g>\n    </g>\n    <g id=\"text_354\">\n     <!-- count -->\n     <g transform=\"translate(271.240991 546.216888) rotate(-90) scale(0.1 -0.1)\">\n      <use xlink:href=\"#DejaVuSans-63\"/>\n      <use xlink:href=\"#DejaVuSans-6f\" x=\"54.980469\"/>\n      <use xlink:href=\"#DejaVuSans-75\" x=\"116.162109\"/>\n      <use xlink:href=\"#DejaVuSans-6e\" x=\"179.541016\"/>\n      <use xlink:href=\"#DejaVuSans-74\" x=\"242.919922\"/>\n     </g>\n    </g>\n   </g>\n   <g id=\"patch_411\">\n    <path d=\"M 303.408178 561.6 \nL 303.408178 502.621277 \n\" style=\"fill: none; stroke: #000000; stroke-width: 0.8; stroke-linejoin: miter; stroke-linecap: square\"/>\n   </g>\n   <g id=\"patch_412\">\n    <path d=\"M 410.259242 561.6 \nL 410.259242 502.621277 \n\" style=\"fill: none; stroke: #000000; stroke-width: 0.8; stroke-linejoin: miter; stroke-linecap: square\"/>\n   </g>\n   <g id=\"patch_413\">\n    <path d=\"M 303.408178 561.6 \nL 410.259242 561.6 \n\" style=\"fill: none; stroke: #000000; stroke-width: 0.8; stroke-linejoin: miter; stroke-linecap: square\"/>\n   </g>\n   <g id=\"patch_414\">\n    <path d=\"M 303.408178 502.621277 \nL 410.259242 502.621277 \n\" style=\"fill: none; stroke: #000000; stroke-width: 0.8; stroke-linejoin: miter; stroke-linecap: square\"/>\n   </g>\n  </g>\n  <g id=\"axes_60\">\n   <g id=\"patch_415\">\n    <path d=\"M 431.629455 561.6 \nL 538.480519 561.6 \nL 538.480519 502.621277 \nL 431.629455 502.621277 \nz\n\" style=\"fill: #ffffff\"/>\n   </g>\n   <g id=\"patch_416\">\n    <path d=\"M 436.972008 561.6 \nL 479.712434 561.6 \nL 479.712434 505.429787 \nL 436.972008 505.429787 \nz\n\" clip-path=\"url(#p50059923df)\" style=\"fill: #3274a1\"/>\n   </g>\n   <g id=\"patch_417\">\n    <path d=\"M 490.39754 561.6 \nL 533.137965 561.6 \nL 533.137965 551.361617 \nL 490.39754 551.361617 \nz\n\" clip-path=\"url(#p50059923df)\" style=\"fill: #e1812c\"/>\n   </g>\n   <g id=\"matplotlib.axis_119\">\n    <g id=\"xtick_119\">\n     <g id=\"line2d_237\">\n      <g>\n       <use xlink:href=\"#m53ffd6c531\" x=\"458.342221\" y=\"561.6\" style=\"stroke: #000000; stroke-width: 0.8\"/>\n      </g>\n     </g>\n     <g id=\"text_355\">\n      <!-- 0.0 -->\n      <g transform=\"translate(450.390658 576.198438) scale(0.1 -0.1)\">\n       <use xlink:href=\"#DejaVuSans-30\"/>\n       <use xlink:href=\"#DejaVuSans-2e\" x=\"63.623047\"/>\n       <use xlink:href=\"#DejaVuSans-30\" x=\"95.410156\"/>\n      </g>\n     </g>\n    </g>\n    <g id=\"xtick_120\">\n     <g id=\"line2d_238\">\n      <g>\n       <use xlink:href=\"#m53ffd6c531\" x=\"511.767753\" y=\"561.6\" style=\"stroke: #000000; stroke-width: 0.8\"/>\n      </g>\n     </g>\n     <g id=\"text_356\">\n      <!-- 1.0 -->\n      <g transform=\"translate(503.81619 576.198438) scale(0.1 -0.1)\">\n       <use xlink:href=\"#DejaVuSans-31\"/>\n       <use xlink:href=\"#DejaVuSans-2e\" x=\"63.623047\"/>\n       <use xlink:href=\"#DejaVuSans-30\" x=\"95.410156\"/>\n      </g>\n     </g>\n    </g>\n    <g id=\"text_357\">\n     <!-- itchiness -->\n     <g transform=\"translate(462.944049 589.876563) scale(0.1 -0.1)\">\n      <use xlink:href=\"#DejaVuSans-69\"/>\n      <use xlink:href=\"#DejaVuSans-74\" x=\"27.783203\"/>\n      <use xlink:href=\"#DejaVuSans-63\" x=\"66.992188\"/>\n      <use xlink:href=\"#DejaVuSans-68\" x=\"121.972656\"/>\n      <use xlink:href=\"#DejaVuSans-69\" x=\"185.351562\"/>\n      <use xlink:href=\"#DejaVuSans-6e\" x=\"213.134766\"/>\n      <use xlink:href=\"#DejaVuSans-65\" x=\"276.513672\"/>\n      <use xlink:href=\"#DejaVuSans-73\" x=\"338.037109\"/>\n      <use xlink:href=\"#DejaVuSans-73\" x=\"390.136719\"/>\n     </g>\n    </g>\n   </g>\n   <g id=\"matplotlib.axis_120\">\n    <g id=\"ytick_119\">\n     <g id=\"line2d_239\">\n      <g>\n       <use xlink:href=\"#mddf5a59a20\" x=\"431.629455\" y=\"561.6\" style=\"stroke: #000000; stroke-width: 0.8\"/>\n      </g>\n     </g>\n     <g id=\"text_358\">\n      <!-- 0 -->\n      <g transform=\"translate(418.266955 565.399219) scale(0.1 -0.1)\">\n       <use xlink:href=\"#DejaVuSans-30\"/>\n      </g>\n     </g>\n    </g>\n    <g id=\"ytick_120\">\n     <g id=\"line2d_240\">\n      <g>\n       <use xlink:href=\"#mddf5a59a20\" x=\"431.629455\" y=\"514.634939\" style=\"stroke: #000000; stroke-width: 0.8\"/>\n      </g>\n     </g>\n     <g id=\"text_359\">\n      <!-- 500 -->\n      <g transform=\"translate(405.541955 518.434158) scale(0.1 -0.1)\">\n       <use xlink:href=\"#DejaVuSans-35\"/>\n       <use xlink:href=\"#DejaVuSans-30\" x=\"63.623047\"/>\n       <use xlink:href=\"#DejaVuSans-30\" x=\"127.246094\"/>\n      </g>\n     </g>\n    </g>\n    <g id=\"text_360\">\n     <!-- count -->\n     <g transform=\"translate(399.462267 546.216888) rotate(-90) scale(0.1 -0.1)\">\n      <use xlink:href=\"#DejaVuSans-63\"/>\n      <use xlink:href=\"#DejaVuSans-6f\" x=\"54.980469\"/>\n      <use xlink:href=\"#DejaVuSans-75\" x=\"116.162109\"/>\n      <use xlink:href=\"#DejaVuSans-6e\" x=\"179.541016\"/>\n      <use xlink:href=\"#DejaVuSans-74\" x=\"242.919922\"/>\n     </g>\n    </g>\n   </g>\n   <g id=\"patch_418\">\n    <path d=\"M 431.629455 561.6 \nL 431.629455 502.621277 \n\" style=\"fill: none; stroke: #000000; stroke-width: 0.8; stroke-linejoin: miter; stroke-linecap: square\"/>\n   </g>\n   <g id=\"patch_419\">\n    <path d=\"M 538.480519 561.6 \nL 538.480519 502.621277 \n\" style=\"fill: none; stroke: #000000; stroke-width: 0.8; stroke-linejoin: miter; stroke-linecap: square\"/>\n   </g>\n   <g id=\"patch_420\">\n    <path d=\"M 431.629455 561.6 \nL 538.480519 561.6 \n\" style=\"fill: none; stroke: #000000; stroke-width: 0.8; stroke-linejoin: miter; stroke-linecap: square\"/>\n   </g>\n   <g id=\"patch_421\">\n    <path d=\"M 431.629455 502.621277 \nL 538.480519 502.621277 \n\" style=\"fill: none; stroke: #000000; stroke-width: 0.8; stroke-linejoin: miter; stroke-linecap: square\"/>\n   </g>\n  </g>\n  <g id=\"axes_61\">\n   <g id=\"patch_422\">\n    <path d=\"M 559.850731 561.6 \nL 666.701795 561.6 \nL 666.701795 502.621277 \nL 559.850731 502.621277 \nz\n\" style=\"fill: #ffffff\"/>\n   </g>\n   <g id=\"patch_423\">\n    <path d=\"M 565.193285 561.6 \nL 607.93371 561.6 \nL 607.93371 505.429787 \nL 565.193285 505.429787 \nz\n\" clip-path=\"url(#p848e29157a)\" style=\"fill: #3274a1\"/>\n   </g>\n   <g id=\"patch_424\">\n    <path d=\"M 618.618816 561.6 \nL 661.359242 561.6 \nL 661.359242 552.129981 \nL 618.618816 552.129981 \nz\n\" clip-path=\"url(#p848e29157a)\" style=\"fill: #e1812c\"/>\n   </g>\n   <g id=\"matplotlib.axis_121\">\n    <g id=\"xtick_121\">\n     <g id=\"line2d_241\">\n      <g>\n       <use xlink:href=\"#m53ffd6c531\" x=\"586.563497\" y=\"561.6\" style=\"stroke: #000000; stroke-width: 0.8\"/>\n      </g>\n     </g>\n     <g id=\"text_361\">\n      <!-- 0.0 -->\n      <g transform=\"translate(578.611935 576.198438) scale(0.1 -0.1)\">\n       <use xlink:href=\"#DejaVuSans-30\"/>\n       <use xlink:href=\"#DejaVuSans-2e\" x=\"63.623047\"/>\n       <use xlink:href=\"#DejaVuSans-30\" x=\"95.410156\"/>\n      </g>\n     </g>\n    </g>\n    <g id=\"xtick_122\">\n     <g id=\"line2d_242\">\n      <g>\n       <use xlink:href=\"#m53ffd6c531\" x=\"639.989029\" y=\"561.6\" style=\"stroke: #000000; stroke-width: 0.8\"/>\n      </g>\n     </g>\n     <g id=\"text_362\">\n      <!-- 1.0 -->\n      <g transform=\"translate(632.037467 576.198438) scale(0.1 -0.1)\">\n       <use xlink:href=\"#DejaVuSans-31\"/>\n       <use xlink:href=\"#DejaVuSans-2e\" x=\"63.623047\"/>\n       <use xlink:href=\"#DejaVuSans-30\" x=\"95.410156\"/>\n      </g>\n     </g>\n    </g>\n    <g id=\"text_363\">\n     <!-- ulcers -->\n     <g transform=\"translate(598.232513 589.876563) scale(0.1 -0.1)\">\n      <use xlink:href=\"#DejaVuSans-75\"/>\n      <use xlink:href=\"#DejaVuSans-6c\" x=\"63.378906\"/>\n      <use xlink:href=\"#DejaVuSans-63\" x=\"91.162109\"/>\n      <use xlink:href=\"#DejaVuSans-65\" x=\"146.142578\"/>\n      <use xlink:href=\"#DejaVuSans-72\" x=\"207.666016\"/>\n      <use xlink:href=\"#DejaVuSans-73\" x=\"248.779297\"/>\n     </g>\n    </g>\n   </g>\n   <g id=\"matplotlib.axis_122\">\n    <g id=\"ytick_121\">\n     <g id=\"line2d_243\">\n      <g>\n       <use xlink:href=\"#mddf5a59a20\" x=\"559.850731\" y=\"561.6\" style=\"stroke: #000000; stroke-width: 0.8\"/>\n      </g>\n     </g>\n     <g id=\"text_364\">\n      <!-- 0 -->\n      <g transform=\"translate(546.488231 565.399219) scale(0.1 -0.1)\">\n       <use xlink:href=\"#DejaVuSans-30\"/>\n      </g>\n     </g>\n    </g>\n    <g id=\"ytick_122\">\n     <g id=\"line2d_244\">\n      <g>\n       <use xlink:href=\"#mddf5a59a20\" x=\"559.850731\" y=\"515.178337\" style=\"stroke: #000000; stroke-width: 0.8\"/>\n      </g>\n     </g>\n     <g id=\"text_365\">\n      <!-- 500 -->\n      <g transform=\"translate(533.763231 518.977555) scale(0.1 -0.1)\">\n       <use xlink:href=\"#DejaVuSans-35\"/>\n       <use xlink:href=\"#DejaVuSans-30\" x=\"63.623047\"/>\n       <use xlink:href=\"#DejaVuSans-30\" x=\"127.246094\"/>\n      </g>\n     </g>\n    </g>\n    <g id=\"text_366\">\n     <!-- count -->\n     <g transform=\"translate(527.683544 546.216888) rotate(-90) scale(0.1 -0.1)\">\n      <use xlink:href=\"#DejaVuSans-63\"/>\n      <use xlink:href=\"#DejaVuSans-6f\" x=\"54.980469\"/>\n      <use xlink:href=\"#DejaVuSans-75\" x=\"116.162109\"/>\n      <use xlink:href=\"#DejaVuSans-6e\" x=\"179.541016\"/>\n      <use xlink:href=\"#DejaVuSans-74\" x=\"242.919922\"/>\n     </g>\n    </g>\n   </g>\n   <g id=\"patch_425\">\n    <path d=\"M 559.850731 561.6 \nL 559.850731 502.621277 \n\" style=\"fill: none; stroke: #000000; stroke-width: 0.8; stroke-linejoin: miter; stroke-linecap: square\"/>\n   </g>\n   <g id=\"patch_426\">\n    <path d=\"M 666.701795 561.6 \nL 666.701795 502.621277 \n\" style=\"fill: none; stroke: #000000; stroke-width: 0.8; stroke-linejoin: miter; stroke-linecap: square\"/>\n   </g>\n   <g id=\"patch_427\">\n    <path d=\"M 559.850731 561.6 \nL 666.701795 561.6 \n\" style=\"fill: none; stroke: #000000; stroke-width: 0.8; stroke-linejoin: miter; stroke-linecap: square\"/>\n   </g>\n   <g id=\"patch_428\">\n    <path d=\"M 559.850731 502.621277 \nL 666.701795 502.621277 \n\" style=\"fill: none; stroke: #000000; stroke-width: 0.8; stroke-linejoin: miter; stroke-linecap: square\"/>\n   </g>\n  </g>\n  <g id=\"axes_62\">\n   <g id=\"patch_429\">\n    <path d=\"M 688.072008 561.6 \nL 794.923072 561.6 \nL 794.923072 502.621277 \nL 688.072008 502.621277 \nz\n\" style=\"fill: #ffffff\"/>\n   </g>\n   <g id=\"patch_430\">\n    <path d=\"M 693.414561 561.6 \nL 736.154987 561.6 \nL 736.154987 505.429787 \nL 693.414561 505.429787 \nz\n\" clip-path=\"url(#pfcf20eabc5)\" style=\"fill: #3274a1\"/>\n   </g>\n   <g id=\"patch_431\">\n    <path d=\"M 746.840093 561.6 \nL 789.580519 561.6 \nL 789.580519 552.668015 \nL 746.840093 552.668015 \nz\n\" clip-path=\"url(#pfcf20eabc5)\" style=\"fill: #e1812c\"/>\n   </g>\n   <g id=\"matplotlib.axis_123\">\n    <g id=\"xtick_123\">\n     <g id=\"line2d_245\">\n      <g>\n       <use xlink:href=\"#m53ffd6c531\" x=\"714.784774\" y=\"561.6\" style=\"stroke: #000000; stroke-width: 0.8\"/>\n      </g>\n     </g>\n     <g id=\"text_367\">\n      <!-- 0.0 -->\n      <g transform=\"translate(706.833211 576.198438) scale(0.1 -0.1)\">\n       <use xlink:href=\"#DejaVuSans-30\"/>\n       <use xlink:href=\"#DejaVuSans-2e\" x=\"63.623047\"/>\n       <use xlink:href=\"#DejaVuSans-30\" x=\"95.410156\"/>\n      </g>\n     </g>\n    </g>\n    <g id=\"xtick_124\">\n     <g id=\"line2d_246\">\n      <g>\n       <use xlink:href=\"#m53ffd6c531\" x=\"768.210306\" y=\"561.6\" style=\"stroke: #000000; stroke-width: 0.8\"/>\n      </g>\n     </g>\n     <g id=\"text_368\">\n      <!-- 1.0 -->\n      <g transform=\"translate(760.258743 576.198438) scale(0.1 -0.1)\">\n       <use xlink:href=\"#DejaVuSans-31\"/>\n       <use xlink:href=\"#DejaVuSans-2e\" x=\"63.623047\"/>\n       <use xlink:href=\"#DejaVuSans-30\" x=\"95.410156\"/>\n      </g>\n     </g>\n    </g>\n    <g id=\"text_369\">\n     <!-- toenail_loss -->\n     <g transform=\"translate(712.232696 589.876563) scale(0.1 -0.1)\">\n      <use xlink:href=\"#DejaVuSans-74\"/>\n      <use xlink:href=\"#DejaVuSans-6f\" x=\"39.208984\"/>\n      <use xlink:href=\"#DejaVuSans-65\" x=\"100.390625\"/>\n      <use xlink:href=\"#DejaVuSans-6e\" x=\"161.914062\"/>\n      <use xlink:href=\"#DejaVuSans-61\" x=\"225.292969\"/>\n      <use xlink:href=\"#DejaVuSans-69\" x=\"286.572266\"/>\n      <use xlink:href=\"#DejaVuSans-6c\" x=\"314.355469\"/>\n      <use xlink:href=\"#DejaVuSans-5f\" x=\"342.138672\"/>\n      <use xlink:href=\"#DejaVuSans-6c\" x=\"392.138672\"/>\n      <use xlink:href=\"#DejaVuSans-6f\" x=\"419.921875\"/>\n      <use xlink:href=\"#DejaVuSans-73\" x=\"481.103516\"/>\n      <use xlink:href=\"#DejaVuSans-73\" x=\"533.203125\"/>\n     </g>\n    </g>\n   </g>\n   <g id=\"matplotlib.axis_124\">\n    <g id=\"ytick_123\">\n     <g id=\"line2d_247\">\n      <g>\n       <use xlink:href=\"#mddf5a59a20\" x=\"688.072008\" y=\"561.6\" style=\"stroke: #000000; stroke-width: 0.8\"/>\n      </g>\n     </g>\n     <g id=\"text_370\">\n      <!-- 0 -->\n      <g transform=\"translate(674.709508 565.399219) scale(0.1 -0.1)\">\n       <use xlink:href=\"#DejaVuSans-30\"/>\n      </g>\n     </g>\n    </g>\n    <g id=\"ytick_124\">\n     <g id=\"line2d_248\">\n      <g>\n       <use xlink:href=\"#mddf5a59a20\" x=\"688.072008\" y=\"515.558842\" style=\"stroke: #000000; stroke-width: 0.8\"/>\n      </g>\n     </g>\n     <g id=\"text_371\">\n      <!-- 500 -->\n      <g transform=\"translate(661.984508 519.358061) scale(0.1 -0.1)\">\n       <use xlink:href=\"#DejaVuSans-35\"/>\n       <use xlink:href=\"#DejaVuSans-30\" x=\"63.623047\"/>\n       <use xlink:href=\"#DejaVuSans-30\" x=\"127.246094\"/>\n      </g>\n     </g>\n    </g>\n    <g id=\"text_372\">\n     <!-- count -->\n     <g transform=\"translate(655.90482 546.216888) rotate(-90) scale(0.1 -0.1)\">\n      <use xlink:href=\"#DejaVuSans-63\"/>\n      <use xlink:href=\"#DejaVuSans-6f\" x=\"54.980469\"/>\n      <use xlink:href=\"#DejaVuSans-75\" x=\"116.162109\"/>\n      <use xlink:href=\"#DejaVuSans-6e\" x=\"179.541016\"/>\n      <use xlink:href=\"#DejaVuSans-74\" x=\"242.919922\"/>\n     </g>\n    </g>\n   </g>\n   <g id=\"patch_432\">\n    <path d=\"M 688.072008 561.6 \nL 688.072008 502.621277 \n\" style=\"fill: none; stroke: #000000; stroke-width: 0.8; stroke-linejoin: miter; stroke-linecap: square\"/>\n   </g>\n   <g id=\"patch_433\">\n    <path d=\"M 794.923072 561.6 \nL 794.923072 502.621277 \n\" style=\"fill: none; stroke: #000000; stroke-width: 0.8; stroke-linejoin: miter; stroke-linecap: square\"/>\n   </g>\n   <g id=\"patch_434\">\n    <path d=\"M 688.072008 561.6 \nL 794.923072 561.6 \n\" style=\"fill: none; stroke: #000000; stroke-width: 0.8; stroke-linejoin: miter; stroke-linecap: square\"/>\n   </g>\n   <g id=\"patch_435\">\n    <path d=\"M 688.072008 502.621277 \nL 794.923072 502.621277 \n\" style=\"fill: none; stroke: #000000; stroke-width: 0.8; stroke-linejoin: miter; stroke-linecap: square\"/>\n   </g>\n  </g>\n  <g id=\"axes_63\">\n   <g id=\"patch_436\">\n    <path d=\"M 816.293285 561.6 \nL 923.144348 561.6 \nL 923.144348 502.621277 \nL 816.293285 502.621277 \nz\n\" style=\"fill: #ffffff\"/>\n   </g>\n   <g id=\"patch_437\">\n    <path d=\"M 821.635838 561.6 \nL 864.376263 561.6 \nL 864.376263 505.429787 \nL 821.635838 505.429787 \nz\n\" clip-path=\"url(#p08028f1074)\" style=\"fill: #3274a1\"/>\n   </g>\n   <g id=\"patch_438\">\n    <path d=\"M 875.06137 561.6 \nL 917.801795 561.6 \nL 917.801795 559.711236 \nL 875.06137 559.711236 \nz\n\" clip-path=\"url(#p08028f1074)\" style=\"fill: #e1812c\"/>\n   </g>\n   <g id=\"matplotlib.axis_125\">\n    <g id=\"xtick_125\">\n     <g id=\"line2d_249\">\n      <g>\n       <use xlink:href=\"#m53ffd6c531\" x=\"843.006051\" y=\"561.6\" style=\"stroke: #000000; stroke-width: 0.8\"/>\n      </g>\n     </g>\n     <g id=\"text_373\">\n      <!-- 0.0 -->\n      <g transform=\"translate(835.054488 576.198438) scale(0.1 -0.1)\">\n       <use xlink:href=\"#DejaVuSans-30\"/>\n       <use xlink:href=\"#DejaVuSans-2e\" x=\"63.623047\"/>\n       <use xlink:href=\"#DejaVuSans-30\" x=\"95.410156\"/>\n      </g>\n     </g>\n    </g>\n    <g id=\"xtick_126\">\n     <g id=\"line2d_250\">\n      <g>\n       <use xlink:href=\"#m53ffd6c531\" x=\"896.431582\" y=\"561.6\" style=\"stroke: #000000; stroke-width: 0.8\"/>\n      </g>\n     </g>\n     <g id=\"text_374\">\n      <!-- 1.0 -->\n      <g transform=\"translate(888.48002 576.198438) scale(0.1 -0.1)\">\n       <use xlink:href=\"#DejaVuSans-31\"/>\n       <use xlink:href=\"#DejaVuSans-2e\" x=\"63.623047\"/>\n       <use xlink:href=\"#DejaVuSans-30\" x=\"95.410156\"/>\n      </g>\n     </g>\n    </g>\n    <g id=\"text_375\">\n     <!-- speech_problem -->\n     <g transform=\"translate(828.682098 589.876563) scale(0.1 -0.1)\">\n      <use xlink:href=\"#DejaVuSans-73\"/>\n      <use xlink:href=\"#DejaVuSans-70\" x=\"52.099609\"/>\n      <use xlink:href=\"#DejaVuSans-65\" x=\"115.576172\"/>\n      <use xlink:href=\"#DejaVuSans-65\" x=\"177.099609\"/>\n      <use xlink:href=\"#DejaVuSans-63\" x=\"238.623047\"/>\n      <use xlink:href=\"#DejaVuSans-68\" x=\"293.603516\"/>\n      <use xlink:href=\"#DejaVuSans-5f\" x=\"356.982422\"/>\n      <use xlink:href=\"#DejaVuSans-70\" x=\"406.982422\"/>\n      <use xlink:href=\"#DejaVuSans-72\" x=\"470.458984\"/>\n      <use xlink:href=\"#DejaVuSans-6f\" x=\"509.322266\"/>\n      <use xlink:href=\"#DejaVuSans-62\" x=\"570.503906\"/>\n      <use xlink:href=\"#DejaVuSans-6c\" x=\"633.980469\"/>\n      <use xlink:href=\"#DejaVuSans-65\" x=\"661.763672\"/>\n      <use xlink:href=\"#DejaVuSans-6d\" x=\"723.287109\"/>\n     </g>\n    </g>\n   </g>\n   <g id=\"matplotlib.axis_126\">\n    <g id=\"ytick_125\">\n     <g id=\"line2d_251\">\n      <g>\n       <use xlink:href=\"#mddf5a59a20\" x=\"816.293285\" y=\"561.6\" style=\"stroke: #000000; stroke-width: 0.8\"/>\n      </g>\n     </g>\n     <g id=\"text_376\">\n      <!-- 0 -->\n      <g transform=\"translate(802.930785 565.399219) scale(0.1 -0.1)\">\n       <use xlink:href=\"#DejaVuSans-30\"/>\n      </g>\n     </g>\n    </g>\n    <g id=\"ytick_126\">\n     <g id=\"line2d_252\">\n      <g>\n       <use xlink:href=\"#mddf5a59a20\" x=\"816.293285\" y=\"520.539903\" style=\"stroke: #000000; stroke-width: 0.8\"/>\n      </g>\n     </g>\n     <g id=\"text_377\">\n      <!-- 500 -->\n      <g transform=\"translate(790.205785 524.339122) scale(0.1 -0.1)\">\n       <use xlink:href=\"#DejaVuSans-35\"/>\n       <use xlink:href=\"#DejaVuSans-30\" x=\"63.623047\"/>\n       <use xlink:href=\"#DejaVuSans-30\" x=\"127.246094\"/>\n      </g>\n     </g>\n    </g>\n    <g id=\"text_378\">\n     <!-- count -->\n     <g transform=\"translate(784.126097 546.216888) rotate(-90) scale(0.1 -0.1)\">\n      <use xlink:href=\"#DejaVuSans-63\"/>\n      <use xlink:href=\"#DejaVuSans-6f\" x=\"54.980469\"/>\n      <use xlink:href=\"#DejaVuSans-75\" x=\"116.162109\"/>\n      <use xlink:href=\"#DejaVuSans-6e\" x=\"179.541016\"/>\n      <use xlink:href=\"#DejaVuSans-74\" x=\"242.919922\"/>\n     </g>\n    </g>\n   </g>\n   <g id=\"patch_439\">\n    <path d=\"M 816.293285 561.6 \nL 816.293285 502.621277 \n\" style=\"fill: none; stroke: #000000; stroke-width: 0.8; stroke-linejoin: miter; stroke-linecap: square\"/>\n   </g>\n   <g id=\"patch_440\">\n    <path d=\"M 923.144348 561.6 \nL 923.144348 502.621277 \n\" style=\"fill: none; stroke: #000000; stroke-width: 0.8; stroke-linejoin: miter; stroke-linecap: square\"/>\n   </g>\n   <g id=\"patch_441\">\n    <path d=\"M 816.293285 561.6 \nL 923.144348 561.6 \n\" style=\"fill: none; stroke: #000000; stroke-width: 0.8; stroke-linejoin: miter; stroke-linecap: square\"/>\n   </g>\n   <g id=\"patch_442\">\n    <path d=\"M 816.293285 502.621277 \nL 923.144348 502.621277 \n\" style=\"fill: none; stroke: #000000; stroke-width: 0.8; stroke-linejoin: miter; stroke-linecap: square\"/>\n   </g>\n  </g>\n  <g id=\"axes_64\">\n   <g id=\"patch_443\">\n    <path d=\"M 944.514561 561.6 \nL 1051.365625 561.6 \nL 1051.365625 502.621277 \nL 944.514561 502.621277 \nz\n\" style=\"fill: #ffffff\"/>\n   </g>\n   <g id=\"patch_444\">\n    <path d=\"M 949.857114 561.6 \nL 992.59754 561.6 \nL 992.59754 505.429787 \nL 949.857114 505.429787 \nz\n\" clip-path=\"url(#pa00671bda9)\" style=\"fill: #3274a1\"/>\n   </g>\n   <g id=\"patch_445\">\n    <path d=\"M 1003.282646 561.6 \nL 1046.023072 561.6 \nL 1046.023072 559.795993 \nL 1003.282646 559.795993 \nz\n\" clip-path=\"url(#pa00671bda9)\" style=\"fill: #e1812c\"/>\n   </g>\n   <g id=\"matplotlib.axis_127\">\n    <g id=\"xtick_127\">\n     <g id=\"line2d_253\">\n      <g>\n       <use xlink:href=\"#m53ffd6c531\" x=\"971.227327\" y=\"561.6\" style=\"stroke: #000000; stroke-width: 0.8\"/>\n      </g>\n     </g>\n     <g id=\"text_379\">\n      <!-- 0.0 -->\n      <g transform=\"translate(963.275765 576.198438) scale(0.1 -0.1)\">\n       <use xlink:href=\"#DejaVuSans-30\"/>\n       <use xlink:href=\"#DejaVuSans-2e\" x=\"63.623047\"/>\n       <use xlink:href=\"#DejaVuSans-30\" x=\"95.410156\"/>\n      </g>\n     </g>\n    </g>\n    <g id=\"xtick_128\">\n     <g id=\"line2d_254\">\n      <g>\n       <use xlink:href=\"#m53ffd6c531\" x=\"1024.652859\" y=\"561.6\" style=\"stroke: #000000; stroke-width: 0.8\"/>\n      </g>\n     </g>\n     <g id=\"text_380\">\n      <!-- 1.0 -->\n      <g transform=\"translate(1016.701297 576.198438) scale(0.1 -0.1)\">\n       <use xlink:href=\"#DejaVuSans-31\"/>\n       <use xlink:href=\"#DejaVuSans-2e\" x=\"63.623047\"/>\n       <use xlink:href=\"#DejaVuSans-30\" x=\"95.410156\"/>\n      </g>\n     </g>\n    </g>\n    <g id=\"text_381\">\n     <!-- bullseye_rash -->\n     <g transform=\"translate(963.708843 589.876563) scale(0.1 -0.1)\">\n      <use xlink:href=\"#DejaVuSans-62\"/>\n      <use xlink:href=\"#DejaVuSans-75\" x=\"63.476562\"/>\n      <use xlink:href=\"#DejaVuSans-6c\" x=\"126.855469\"/>\n      <use xlink:href=\"#DejaVuSans-6c\" x=\"154.638672\"/>\n      <use xlink:href=\"#DejaVuSans-73\" x=\"182.421875\"/>\n      <use xlink:href=\"#DejaVuSans-65\" x=\"234.521484\"/>\n      <use xlink:href=\"#DejaVuSans-79\" x=\"296.044922\"/>\n      <use xlink:href=\"#DejaVuSans-65\" x=\"355.224609\"/>\n      <use xlink:href=\"#DejaVuSans-5f\" x=\"416.748047\"/>\n      <use xlink:href=\"#DejaVuSans-72\" x=\"466.748047\"/>\n      <use xlink:href=\"#DejaVuSans-61\" x=\"507.861328\"/>\n      <use xlink:href=\"#DejaVuSans-73\" x=\"569.140625\"/>\n      <use xlink:href=\"#DejaVuSans-68\" x=\"621.240234\"/>\n     </g>\n    </g>\n   </g>\n   <g id=\"matplotlib.axis_128\">\n    <g id=\"ytick_127\">\n     <g id=\"line2d_255\">\n      <g>\n       <use xlink:href=\"#mddf5a59a20\" x=\"944.514561\" y=\"561.6\" style=\"stroke: #000000; stroke-width: 0.8\"/>\n      </g>\n     </g>\n     <g id=\"text_382\">\n      <!-- 0 -->\n      <g transform=\"translate(931.152061 565.399219) scale(0.1 -0.1)\">\n       <use xlink:href=\"#DejaVuSans-30\"/>\n      </g>\n     </g>\n    </g>\n    <g id=\"ytick_128\">\n     <g id=\"line2d_256\">\n      <g>\n       <use xlink:href=\"#mddf5a59a20\" x=\"944.514561\" y=\"520.599845\" style=\"stroke: #000000; stroke-width: 0.8\"/>\n      </g>\n     </g>\n     <g id=\"text_383\">\n      <!-- 500 -->\n      <g transform=\"translate(918.427061 524.399063) scale(0.1 -0.1)\">\n       <use xlink:href=\"#DejaVuSans-35\"/>\n       <use xlink:href=\"#DejaVuSans-30\" x=\"63.623047\"/>\n       <use xlink:href=\"#DejaVuSans-30\" x=\"127.246094\"/>\n      </g>\n     </g>\n    </g>\n    <g id=\"text_384\">\n     <!-- count -->\n     <g transform=\"translate(912.347374 546.216888) rotate(-90) scale(0.1 -0.1)\">\n      <use xlink:href=\"#DejaVuSans-63\"/>\n      <use xlink:href=\"#DejaVuSans-6f\" x=\"54.980469\"/>\n      <use xlink:href=\"#DejaVuSans-75\" x=\"116.162109\"/>\n      <use xlink:href=\"#DejaVuSans-6e\" x=\"179.541016\"/>\n      <use xlink:href=\"#DejaVuSans-74\" x=\"242.919922\"/>\n     </g>\n    </g>\n   </g>\n   <g id=\"patch_446\">\n    <path d=\"M 944.514561 561.6 \nL 944.514561 502.621277 \n\" style=\"fill: none; stroke: #000000; stroke-width: 0.8; stroke-linejoin: miter; stroke-linecap: square\"/>\n   </g>\n   <g id=\"patch_447\">\n    <path d=\"M 1051.365625 561.6 \nL 1051.365625 502.621277 \n\" style=\"fill: none; stroke: #000000; stroke-width: 0.8; stroke-linejoin: miter; stroke-linecap: square\"/>\n   </g>\n   <g id=\"patch_448\">\n    <path d=\"M 944.514561 561.6 \nL 1051.365625 561.6 \n\" style=\"fill: none; stroke: #000000; stroke-width: 0.8; stroke-linejoin: miter; stroke-linecap: square\"/>\n   </g>\n   <g id=\"patch_449\">\n    <path d=\"M 944.514561 502.621277 \nL 1051.365625 502.621277 \n\" style=\"fill: none; stroke: #000000; stroke-width: 0.8; stroke-linejoin: miter; stroke-linecap: square\"/>\n   </g>\n  </g>\n </g>\n <defs>\n  <clipPath id=\"p2c5bb0a4c9\">\n   <rect x=\"46.965625\" y=\"7.2\" width=\"106.851064\" height=\"58.978723\"/>\n  </clipPath>\n  <clipPath id=\"p37111180ff\">\n   <rect x=\"175.186902\" y=\"7.2\" width=\"106.851064\" height=\"58.978723\"/>\n  </clipPath>\n  <clipPath id=\"pf34552fcee\">\n   <rect x=\"303.408178\" y=\"7.2\" width=\"106.851064\" height=\"58.978723\"/>\n  </clipPath>\n  <clipPath id=\"pf694664566\">\n   <rect x=\"431.629455\" y=\"7.2\" width=\"106.851064\" height=\"58.978723\"/>\n  </clipPath>\n  <clipPath id=\"pd8d8ddef09\">\n   <rect x=\"559.850731\" y=\"7.2\" width=\"106.851064\" height=\"58.978723\"/>\n  </clipPath>\n  <clipPath id=\"p2c8792bc0b\">\n   <rect x=\"688.072008\" y=\"7.2\" width=\"106.851064\" height=\"58.978723\"/>\n  </clipPath>\n  <clipPath id=\"p92fb8444c0\">\n   <rect x=\"816.293285\" y=\"7.2\" width=\"106.851064\" height=\"58.978723\"/>\n  </clipPath>\n  <clipPath id=\"p233829869d\">\n   <rect x=\"944.514561\" y=\"7.2\" width=\"106.851064\" height=\"58.978723\"/>\n  </clipPath>\n  <clipPath id=\"p3510bc8a05\">\n   <rect x=\"46.965625\" y=\"77.974468\" width=\"106.851064\" height=\"58.978723\"/>\n  </clipPath>\n  <clipPath id=\"pf76e7bbcbd\">\n   <rect x=\"175.186902\" y=\"77.974468\" width=\"106.851064\" height=\"58.978723\"/>\n  </clipPath>\n  <clipPath id=\"p42eb9b9edf\">\n   <rect x=\"303.408178\" y=\"77.974468\" width=\"106.851064\" height=\"58.978723\"/>\n  </clipPath>\n  <clipPath id=\"pe43e3b14ff\">\n   <rect x=\"431.629455\" y=\"77.974468\" width=\"106.851064\" height=\"58.978723\"/>\n  </clipPath>\n  <clipPath id=\"p886037f11d\">\n   <rect x=\"559.850731\" y=\"77.974468\" width=\"106.851064\" height=\"58.978723\"/>\n  </clipPath>\n  <clipPath id=\"p525f5c8686\">\n   <rect x=\"688.072008\" y=\"77.974468\" width=\"106.851064\" height=\"58.978723\"/>\n  </clipPath>\n  <clipPath id=\"pcb54634625\">\n   <rect x=\"816.293285\" y=\"77.974468\" width=\"106.851064\" height=\"58.978723\"/>\n  </clipPath>\n  <clipPath id=\"pd9fa2cfc0f\">\n   <rect x=\"944.514561\" y=\"77.974468\" width=\"106.851064\" height=\"58.978723\"/>\n  </clipPath>\n  <clipPath id=\"p2c8e801f46\">\n   <rect x=\"46.965625\" y=\"148.748936\" width=\"106.851064\" height=\"58.978723\"/>\n  </clipPath>\n  <clipPath id=\"p45fd4da36e\">\n   <rect x=\"175.186902\" y=\"148.748936\" width=\"106.851064\" height=\"58.978723\"/>\n  </clipPath>\n  <clipPath id=\"p79c5a6cc4d\">\n   <rect x=\"303.408178\" y=\"148.748936\" width=\"106.851064\" height=\"58.978723\"/>\n  </clipPath>\n  <clipPath id=\"p4a6ab514f9\">\n   <rect x=\"431.629455\" y=\"148.748936\" width=\"106.851064\" height=\"58.978723\"/>\n  </clipPath>\n  <clipPath id=\"p629501ed56\">\n   <rect x=\"559.850731\" y=\"148.748936\" width=\"106.851064\" height=\"58.978723\"/>\n  </clipPath>\n  <clipPath id=\"p15f676cdfc\">\n   <rect x=\"688.072008\" y=\"148.748936\" width=\"106.851064\" height=\"58.978723\"/>\n  </clipPath>\n  <clipPath id=\"pa155f79271\">\n   <rect x=\"816.293285\" y=\"148.748936\" width=\"106.851064\" height=\"58.978723\"/>\n  </clipPath>\n  <clipPath id=\"p2a36fff41b\">\n   <rect x=\"944.514561\" y=\"148.748936\" width=\"106.851064\" height=\"58.978723\"/>\n  </clipPath>\n  <clipPath id=\"p477e397808\">\n   <rect x=\"46.965625\" y=\"219.523404\" width=\"106.851064\" height=\"58.978723\"/>\n  </clipPath>\n  <clipPath id=\"paba52147f3\">\n   <rect x=\"175.186902\" y=\"219.523404\" width=\"106.851064\" height=\"58.978723\"/>\n  </clipPath>\n  <clipPath id=\"p6b322a024b\">\n   <rect x=\"303.408178\" y=\"219.523404\" width=\"106.851064\" height=\"58.978723\"/>\n  </clipPath>\n  <clipPath id=\"p05d10fec8f\">\n   <rect x=\"431.629455\" y=\"219.523404\" width=\"106.851064\" height=\"58.978723\"/>\n  </clipPath>\n  <clipPath id=\"p3e47ff14f2\">\n   <rect x=\"559.850731\" y=\"219.523404\" width=\"106.851064\" height=\"58.978723\"/>\n  </clipPath>\n  <clipPath id=\"pf4f7003fa2\">\n   <rect x=\"688.072008\" y=\"219.523404\" width=\"106.851064\" height=\"58.978723\"/>\n  </clipPath>\n  <clipPath id=\"p6c14c20edd\">\n   <rect x=\"816.293285\" y=\"219.523404\" width=\"106.851064\" height=\"58.978723\"/>\n  </clipPath>\n  <clipPath id=\"p099df49dce\">\n   <rect x=\"944.514561\" y=\"219.523404\" width=\"106.851064\" height=\"58.978723\"/>\n  </clipPath>\n  <clipPath id=\"p499d300f55\">\n   <rect x=\"46.965625\" y=\"290.297872\" width=\"106.851064\" height=\"58.978723\"/>\n  </clipPath>\n  <clipPath id=\"pec7d1b2225\">\n   <rect x=\"175.186902\" y=\"290.297872\" width=\"106.851064\" height=\"58.978723\"/>\n  </clipPath>\n  <clipPath id=\"p5e2e321291\">\n   <rect x=\"303.408178\" y=\"290.297872\" width=\"106.851064\" height=\"58.978723\"/>\n  </clipPath>\n  <clipPath id=\"pff0f726856\">\n   <rect x=\"431.629455\" y=\"290.297872\" width=\"106.851064\" height=\"58.978723\"/>\n  </clipPath>\n  <clipPath id=\"p2f37d02648\">\n   <rect x=\"559.850731\" y=\"290.297872\" width=\"106.851064\" height=\"58.978723\"/>\n  </clipPath>\n  <clipPath id=\"p2dfb902f6d\">\n   <rect x=\"688.072008\" y=\"290.297872\" width=\"106.851064\" height=\"58.978723\"/>\n  </clipPath>\n  <clipPath id=\"pe336f95dc1\">\n   <rect x=\"816.293285\" y=\"290.297872\" width=\"106.851064\" height=\"58.978723\"/>\n  </clipPath>\n  <clipPath id=\"p62bbc046e4\">\n   <rect x=\"944.514561\" y=\"290.297872\" width=\"106.851064\" height=\"58.978723\"/>\n  </clipPath>\n  <clipPath id=\"pb29c69b27a\">\n   <rect x=\"46.965625\" y=\"361.07234\" width=\"106.851064\" height=\"58.978723\"/>\n  </clipPath>\n  <clipPath id=\"p3218ceb718\">\n   <rect x=\"175.186902\" y=\"361.07234\" width=\"106.851064\" height=\"58.978723\"/>\n  </clipPath>\n  <clipPath id=\"p265ed219c1\">\n   <rect x=\"303.408178\" y=\"361.07234\" width=\"106.851064\" height=\"58.978723\"/>\n  </clipPath>\n  <clipPath id=\"p457ca4a330\">\n   <rect x=\"431.629455\" y=\"361.07234\" width=\"106.851064\" height=\"58.978723\"/>\n  </clipPath>\n  <clipPath id=\"pf896dca08f\">\n   <rect x=\"559.850731\" y=\"361.07234\" width=\"106.851064\" height=\"58.978723\"/>\n  </clipPath>\n  <clipPath id=\"p97bf4c6431\">\n   <rect x=\"688.072008\" y=\"361.07234\" width=\"106.851064\" height=\"58.978723\"/>\n  </clipPath>\n  <clipPath id=\"pfb49e13a8b\">\n   <rect x=\"816.293285\" y=\"361.07234\" width=\"106.851064\" height=\"58.978723\"/>\n  </clipPath>\n  <clipPath id=\"p125561c0d9\">\n   <rect x=\"944.514561\" y=\"361.07234\" width=\"106.851064\" height=\"58.978723\"/>\n  </clipPath>\n  <clipPath id=\"pe0aaa60015\">\n   <rect x=\"46.965625\" y=\"431.846809\" width=\"106.851064\" height=\"58.978723\"/>\n  </clipPath>\n  <clipPath id=\"p12df999751\">\n   <rect x=\"175.186902\" y=\"431.846809\" width=\"106.851064\" height=\"58.978723\"/>\n  </clipPath>\n  <clipPath id=\"p00e541bb65\">\n   <rect x=\"303.408178\" y=\"431.846809\" width=\"106.851064\" height=\"58.978723\"/>\n  </clipPath>\n  <clipPath id=\"p6a263d2e11\">\n   <rect x=\"431.629455\" y=\"431.846809\" width=\"106.851064\" height=\"58.978723\"/>\n  </clipPath>\n  <clipPath id=\"pe5d1157211\">\n   <rect x=\"559.850731\" y=\"431.846809\" width=\"106.851064\" height=\"58.978723\"/>\n  </clipPath>\n  <clipPath id=\"p2bfd428bb0\">\n   <rect x=\"688.072008\" y=\"431.846809\" width=\"106.851064\" height=\"58.978723\"/>\n  </clipPath>\n  <clipPath id=\"pf9e015dedd\">\n   <rect x=\"816.293285\" y=\"431.846809\" width=\"106.851064\" height=\"58.978723\"/>\n  </clipPath>\n  <clipPath id=\"p6100efeb70\">\n   <rect x=\"944.514561\" y=\"431.846809\" width=\"106.851064\" height=\"58.978723\"/>\n  </clipPath>\n  <clipPath id=\"pce40202ef5\">\n   <rect x=\"46.965625\" y=\"502.621277\" width=\"106.851064\" height=\"58.978723\"/>\n  </clipPath>\n  <clipPath id=\"p88df35591b\">\n   <rect x=\"175.186902\" y=\"502.621277\" width=\"106.851064\" height=\"58.978723\"/>\n  </clipPath>\n  <clipPath id=\"p090ba3dadb\">\n   <rect x=\"303.408178\" y=\"502.621277\" width=\"106.851064\" height=\"58.978723\"/>\n  </clipPath>\n  <clipPath id=\"p50059923df\">\n   <rect x=\"431.629455\" y=\"502.621277\" width=\"106.851064\" height=\"58.978723\"/>\n  </clipPath>\n  <clipPath id=\"p848e29157a\">\n   <rect x=\"559.850731\" y=\"502.621277\" width=\"106.851064\" height=\"58.978723\"/>\n  </clipPath>\n  <clipPath id=\"pfcf20eabc5\">\n   <rect x=\"688.072008\" y=\"502.621277\" width=\"106.851064\" height=\"58.978723\"/>\n  </clipPath>\n  <clipPath id=\"p08028f1074\">\n   <rect x=\"816.293285\" y=\"502.621277\" width=\"106.851064\" height=\"58.978723\"/>\n  </clipPath>\n  <clipPath id=\"pa00671bda9\">\n   <rect x=\"944.514561\" y=\"502.621277\" width=\"106.851064\" height=\"58.978723\"/>\n  </clipPath>\n </defs>\n</svg>\n",
            "application/pdf": "[encoded data removed]"
          },
          "metadata": {}
        }
      ]
    },
    {
      "cell_type": "code",
      "source": [
        "df_train['prognosis'].value_counts()"
      ],
      "metadata": {
        "colab": {
          "base_uri": "https://localhost:8080/"
        },
        "id": "5O0cp_cg6G77",
        "outputId": "c8581102-cc21-43fc-c382-120d4940f3c1"
      },
      "execution_count": 133,
      "outputs": [
        {
          "output_type": "execute_result",
          "data": {
            "text/plain": [
              "West_Nile_fever          85\n",
              "Japanese_encephalitis    81\n",
              "Tungiasis                70\n",
              "Rift_Valley_fever        70\n",
              "Chikungunya              66\n",
              "Dengue                   63\n",
              "Yellow_Fever             61\n",
              "Zika                     58\n",
              "Plague                   53\n",
              "Lyme_disease             52\n",
              "Malaria                  48\n",
              "Name: prognosis, dtype: int64"
            ]
          },
          "metadata": {},
          "execution_count": 133
        }
      ]
    },
    {
      "cell_type": "markdown",
      "source": [
        "### Encoding- OrdinalEncoding with Domain knowledge based on severity"
      ],
      "metadata": {
        "id": "fndUcM3MWdYQ"
      }
    },
    {
      "cell_type": "code",
      "source": [
        "\n",
        "# create a sample dataset with a categorical variable\n",
        "diseases = np.array(df_train['prognosis'].value_counts().index.tolist()).reshape(-1, 1)\n",
        "\n",
        "# define the order of the categories based on severity\n",
        "disease_order = ['Tungiasis', 'Lyme_disease', 'Chikungunya', 'Dengue', 'Zika', 'West_Nile_fever', 'Japanese_encephalitis', 'Yellow_Fever', 'Malaria', 'Rift_Valley_fever', 'Plague']\n",
        "\n",
        "# create an instance of the OrdinalEncoder class with the predefined order\n",
        "encoder = OrdinalEncoder(categories=[disease_order])\n",
        "\n",
        "# fit and transform the data using the encoder\n",
        "diseases_encoded = encoder.fit_transform(diseases)\n",
        "diseases_encoded\n"
      ],
      "metadata": {
        "colab": {
          "base_uri": "https://localhost:8080/"
        },
        "id": "B5kCFbWs_vfa",
        "outputId": "6f7a16d3-c701-485f-b800-7d144cbb8eb1"
      },
      "execution_count": 134,
      "outputs": [
        {
          "output_type": "execute_result",
          "data": {
            "text/plain": [
              "array([[ 5.],\n",
              "       [ 6.],\n",
              "       [ 0.],\n",
              "       [ 9.],\n",
              "       [ 2.],\n",
              "       [ 3.],\n",
              "       [ 7.],\n",
              "       [ 4.],\n",
              "       [10.],\n",
              "       [ 1.],\n",
              "       [ 8.]])"
            ]
          },
          "metadata": {},
          "execution_count": 134
        }
      ]
    },
    {
      "cell_type": "code",
      "source": [
        "#replacing values in dataframe\n",
        "\n",
        "df_train['prognosis']=df_train['prognosis'].replace(['West_Nile_fever'],5.)\n",
        "df_train['prognosis']=df_train['prognosis'].replace(['Japanese_encephalitis'],6.)\n",
        "df_train['prognosis']=df_train['prognosis'].replace(['Tungiasis'],0.)\n",
        "df_train['prognosis']=df_train['prognosis'].replace(['Rift_Valley_fever'],9.)\n",
        "df_train['prognosis']=df_train['prognosis'].replace(['Chikungunya'],2.)\n",
        "df_train['prognosis']=df_train['prognosis'].replace(['Dengue'],3.)\n",
        "df_train['prognosis']=df_train['prognosis'].replace(['Yellow_Fever'],7.)\n",
        "df_train['prognosis']=df_train['prognosis'].replace(['Zika'],4.)\n",
        "df_train['prognosis']=df_train['prognosis'].replace(['Plague'],10.)\n",
        "df_train['prognosis']=df_train['prognosis'].replace(['Lyme_disease'],1.)\n",
        "df_train['prognosis']=df_train['prognosis'].replace(['Malaria'],8.)"
      ],
      "metadata": {
        "id": "H5fo769VZrBJ"
      },
      "execution_count": 135,
      "outputs": []
    },
    {
      "cell_type": "markdown",
      "source": [
        "### Checking VIF "
      ],
      "metadata": {
        "id": "TJlO4jHDX_VO"
      }
    },
    {
      "cell_type": "code",
      "source": [
        "vif = pd.DataFrame()\n",
        "\n",
        "\n",
        "vif['VIF_Factor'] = [variance_inflation_factor(df_train[num_cols].values,i)  for  i in range(df_train[num_cols].shape[1])]\n",
        "vif['Features'] = df_train[num_cols].columns\n",
        "vif.sort_values('VIF_Factor',ascending=False).reset_index(drop=True)"
      ],
      "metadata": {
        "colab": {
          "base_uri": "https://localhost:8080/",
          "height": 424
        },
        "id": "MuGY7bhQYBq4",
        "outputId": "f7b26e39-1b9f-48d6-8f68-5d9bcde6833d"
      },
      "execution_count": 136,
      "outputs": [
        {
          "output_type": "execute_result",
          "data": {
            "text/plain": [
              "    VIF_Factor        Features\n",
              "0     4.756113    toenail_loss\n",
              "1     4.523146          ulcers\n",
              "2     4.414477       itchiness\n",
              "3     4.320372  abdominal_pain\n",
              "4     4.311766     yellow_skin\n",
              "..         ...             ...\n",
              "59    2.020214    hyperpyrexia\n",
              "60    2.000796        diarrhea\n",
              "61    1.980959        vomiting\n",
              "62    1.943782          nausea\n",
              "63    1.926652    lymph_swells\n",
              "\n",
              "[64 rows x 2 columns]"
            ],
            "text/html": [
              "\n",
              "  <div id=\"df-dccbb4ce-79a3-4a1e-993c-325c5b3e8c34\">\n",
              "    <div class=\"colab-df-container\">\n",
              "      <div>\n",
              "<style scoped>\n",
              "    .dataframe tbody tr th:only-of-type {\n",
              "        vertical-align: middle;\n",
              "    }\n",
              "\n",
              "    .dataframe tbody tr th {\n",
              "        vertical-align: top;\n",
              "    }\n",
              "\n",
              "    .dataframe thead th {\n",
              "        text-align: right;\n",
              "    }\n",
              "</style>\n",
              "<table border=\"1\" class=\"dataframe\">\n",
              "  <thead>\n",
              "    <tr style=\"text-align: right;\">\n",
              "      <th></th>\n",
              "      <th>VIF_Factor</th>\n",
              "      <th>Features</th>\n",
              "    </tr>\n",
              "  </thead>\n",
              "  <tbody>\n",
              "    <tr>\n",
              "      <th>0</th>\n",
              "      <td>4.756113</td>\n",
              "      <td>toenail_loss</td>\n",
              "    </tr>\n",
              "    <tr>\n",
              "      <th>1</th>\n",
              "      <td>4.523146</td>\n",
              "      <td>ulcers</td>\n",
              "    </tr>\n",
              "    <tr>\n",
              "      <th>2</th>\n",
              "      <td>4.414477</td>\n",
              "      <td>itchiness</td>\n",
              "    </tr>\n",
              "    <tr>\n",
              "      <th>3</th>\n",
              "      <td>4.320372</td>\n",
              "      <td>abdominal_pain</td>\n",
              "    </tr>\n",
              "    <tr>\n",
              "      <th>4</th>\n",
              "      <td>4.311766</td>\n",
              "      <td>yellow_skin</td>\n",
              "    </tr>\n",
              "    <tr>\n",
              "      <th>...</th>\n",
              "      <td>...</td>\n",
              "      <td>...</td>\n",
              "    </tr>\n",
              "    <tr>\n",
              "      <th>59</th>\n",
              "      <td>2.020214</td>\n",
              "      <td>hyperpyrexia</td>\n",
              "    </tr>\n",
              "    <tr>\n",
              "      <th>60</th>\n",
              "      <td>2.000796</td>\n",
              "      <td>diarrhea</td>\n",
              "    </tr>\n",
              "    <tr>\n",
              "      <th>61</th>\n",
              "      <td>1.980959</td>\n",
              "      <td>vomiting</td>\n",
              "    </tr>\n",
              "    <tr>\n",
              "      <th>62</th>\n",
              "      <td>1.943782</td>\n",
              "      <td>nausea</td>\n",
              "    </tr>\n",
              "    <tr>\n",
              "      <th>63</th>\n",
              "      <td>1.926652</td>\n",
              "      <td>lymph_swells</td>\n",
              "    </tr>\n",
              "  </tbody>\n",
              "</table>\n",
              "<p>64 rows × 2 columns</p>\n",
              "</div>\n",
              "      <button class=\"colab-df-convert\" onclick=\"convertToInteractive('df-dccbb4ce-79a3-4a1e-993c-325c5b3e8c34')\"\n",
              "              title=\"Convert this dataframe to an interactive table.\"\n",
              "              style=\"display:none;\">\n",
              "        \n",
              "  <svg xmlns=\"http://www.w3.org/2000/svg\" height=\"24px\"viewBox=\"0 0 24 24\"\n",
              "       width=\"24px\">\n",
              "    <path d=\"M0 0h24v24H0V0z\" fill=\"none\"/>\n",
              "    <path d=\"M18.56 5.44l.94 2.06.94-2.06 2.06-.94-2.06-.94-.94-2.06-.94 2.06-2.06.94zm-11 1L8.5 8.5l.94-2.06 2.06-.94-2.06-.94L8.5 2.5l-.94 2.06-2.06.94zm10 10l.94 2.06.94-2.06 2.06-.94-2.06-.94-.94-2.06-.94 2.06-2.06.94z\"/><path d=\"M17.41 7.96l-1.37-1.37c-.4-.4-.92-.59-1.43-.59-.52 0-1.04.2-1.43.59L10.3 9.45l-7.72 7.72c-.78.78-.78 2.05 0 2.83L4 21.41c.39.39.9.59 1.41.59.51 0 1.02-.2 1.41-.59l7.78-7.78 2.81-2.81c.8-.78.8-2.07 0-2.86zM5.41 20L4 18.59l7.72-7.72 1.47 1.35L5.41 20z\"/>\n",
              "  </svg>\n",
              "      </button>\n",
              "      \n",
              "  <style>\n",
              "    .colab-df-container {\n",
              "      display:flex;\n",
              "      flex-wrap:wrap;\n",
              "      gap: 12px;\n",
              "    }\n",
              "\n",
              "    .colab-df-convert {\n",
              "      background-color: #E8F0FE;\n",
              "      border: none;\n",
              "      border-radius: 50%;\n",
              "      cursor: pointer;\n",
              "      display: none;\n",
              "      fill: #1967D2;\n",
              "      height: 32px;\n",
              "      padding: 0 0 0 0;\n",
              "      width: 32px;\n",
              "    }\n",
              "\n",
              "    .colab-df-convert:hover {\n",
              "      background-color: #E2EBFA;\n",
              "      box-shadow: 0px 1px 2px rgba(60, 64, 67, 0.3), 0px 1px 3px 1px rgba(60, 64, 67, 0.15);\n",
              "      fill: #174EA6;\n",
              "    }\n",
              "\n",
              "    [theme=dark] .colab-df-convert {\n",
              "      background-color: #3B4455;\n",
              "      fill: #D2E3FC;\n",
              "    }\n",
              "\n",
              "    [theme=dark] .colab-df-convert:hover {\n",
              "      background-color: #434B5C;\n",
              "      box-shadow: 0px 1px 3px 1px rgba(0, 0, 0, 0.15);\n",
              "      filter: drop-shadow(0px 1px 2px rgba(0, 0, 0, 0.3));\n",
              "      fill: #FFFFFF;\n",
              "    }\n",
              "  </style>\n",
              "\n",
              "      <script>\n",
              "        const buttonEl =\n",
              "          document.querySelector('#df-dccbb4ce-79a3-4a1e-993c-325c5b3e8c34 button.colab-df-convert');\n",
              "        buttonEl.style.display =\n",
              "          google.colab.kernel.accessAllowed ? 'block' : 'none';\n",
              "\n",
              "        async function convertToInteractive(key) {\n",
              "          const element = document.querySelector('#df-dccbb4ce-79a3-4a1e-993c-325c5b3e8c34');\n",
              "          const dataTable =\n",
              "            await google.colab.kernel.invokeFunction('convertToInteractive',\n",
              "                                                     [key], {});\n",
              "          if (!dataTable) return;\n",
              "\n",
              "          const docLinkHtml = 'Like what you see? Visit the ' +\n",
              "            '<a target=\"_blank\" href=https://colab.research.google.com/notebooks/data_table.ipynb>data table notebook</a>'\n",
              "            + ' to learn more about interactive tables.';\n",
              "          element.innerHTML = '';\n",
              "          dataTable['output_type'] = 'display_data';\n",
              "          await google.colab.output.renderOutput(dataTable, element);\n",
              "          const docLink = document.createElement('div');\n",
              "          docLink.innerHTML = docLinkHtml;\n",
              "          element.appendChild(docLink);\n",
              "        }\n",
              "      </script>\n",
              "    </div>\n",
              "  </div>\n",
              "  "
            ]
          },
          "metadata": {},
          "execution_count": 136
        }
      ]
    },
    {
      "cell_type": "markdown",
      "source": [
        "We can see that there is no much Variance influence by features , and all these features should be considered for model building"
      ],
      "metadata": {
        "id": "EMD3TNRzYszV"
      }
    },
    {
      "cell_type": "markdown",
      "source": [
        "## Class IMBALANCE- SMOTE"
      ],
      "metadata": {
        "id": "4eAPUokSuNfy"
      }
    },
    {
      "cell_type": "code",
      "source": [
        "plt.figure(figsize=(12,8))\n",
        "sns.barplot(x = df_train['prognosis'].value_counts().index.tolist() ,y=[len(df_train[df_train['prognosis']==5.]),len(df_train[df_train['prognosis']==6.]),len(df_train[df_train['prognosis']==0.0]),len(df_train[df_train['prognosis']==9.0]),len(df_train[df_train['prognosis']==2.]),len(df_train[df_train['prognosis']==3.]),\n",
        " len(df_train[df_train['prognosis']==7.]),len(df_train[df_train['prognosis']==4.]),len(df_train[df_train['prognosis']==10.]),len(df_train[df_train['prognosis']==1.]),len(df_train[df_train['prognosis']==8.])])\n",
        "plt.title('Count of Numerical and Categorical Features',fontsize=15)\n",
        "plt.show()"
      ],
      "metadata": {
        "colab": {
          "base_uri": "https://localhost:8080/",
          "height": 677
        },
        "id": "nS3nhvgauUCi",
        "outputId": "11a48f42-1cec-4e5e-b541-55b94a9c15ed"
      },
      "execution_count": 137,
      "outputs": [
        {
          "output_type": "display_data",
          "data": {
            "text/plain": [
              "<Figure size 1200x800 with 1 Axes>"
            ],
            "image/svg+xml": "<?xml version=\"1.0\" encoding=\"utf-8\" standalone=\"no\"?>\n<!DOCTYPE svg PUBLIC \"-//W3C//DTD SVG 1.1//EN\"\n  \"http://www.w3.org/Graphics/SVG/1.1/DTD/svg11.dtd\">\n<svg xmlns:xlink=\"http://www.w3.org/1999/xlink\" width=\"703.725pt\" height=\"491.995781pt\" viewBox=\"0 0 703.725 491.995781\" xmlns=\"http://www.w3.org/2000/svg\" version=\"1.1\">\n <metadata>\n  <rdf:RDF xmlns:dc=\"http://purl.org/dc/elements/1.1/\" xmlns:cc=\"http://creativecommons.org/ns#\" xmlns:rdf=\"http://www.w3.org/1999/02/22-rdf-syntax-ns#\">\n   <cc:Work>\n    <dc:type rdf:resource=\"http://purl.org/dc/dcmitype/StillImage\"/>\n    <dc:date>2023-05-01T14:09:33.602417</dc:date>\n    <dc:format>image/svg+xml</dc:format>\n    <dc:creator>\n     <cc:Agent>\n      <dc:title>Matplotlib v3.7.1, https://matplotlib.org/</dc:title>\n     </cc:Agent>\n    </dc:creator>\n   </cc:Work>\n  </rdf:RDF>\n </metadata>\n <defs>\n  <style type=\"text/css\">*{stroke-linejoin: round; stroke-linecap: butt}</style>\n </defs>\n <g id=\"figure_1\">\n  <g id=\"patch_1\">\n   <path d=\"M 0 491.995781 \nL 703.725 491.995781 \nL 703.725 0 \nL 0 0 \nz\n\" style=\"fill: #ffffff\"/>\n  </g>\n  <g id=\"axes_1\">\n   <g id=\"patch_2\">\n    <path d=\"M 26.925 468.117656 \nL 696.525 468.117656 \nL 696.525 24.597656 \nL 26.925 24.597656 \nz\n\" style=\"fill: #ffffff\"/>\n   </g>\n   <g id=\"patch_3\">\n    <path d=\"M 33.012273 468.117656 \nL 81.710455 468.117656 \nL 81.710455 120.258833 \nL 33.012273 120.258833 \nz\n\" clip-path=\"url(#p355987f40a)\" style=\"fill: #ea96a3\"/>\n   </g>\n   <g id=\"patch_4\">\n    <path d=\"M 93.885 468.117656 \nL 142.583182 468.117656 \nL 142.583182 209.708244 \nL 93.885 209.708244 \nz\n\" clip-path=\"url(#p355987f40a)\" style=\"fill: #dc924e\"/>\n   </g>\n   <g id=\"patch_5\">\n    <path d=\"M 154.757727 468.117656 \nL 203.455909 468.117656 \nL 203.455909 140.13648 \nL 154.757727 140.13648 \nz\n\" clip-path=\"url(#p355987f40a)\" style=\"fill: #b39d48\"/>\n   </g>\n   <g id=\"patch_6\">\n    <path d=\"M 215.630455 468.117656 \nL 264.328636 468.117656 \nL 264.328636 155.044715 \nL 215.630455 155.044715 \nz\n\" clip-path=\"url(#p355987f40a)\" style=\"fill: #8ea546\"/>\n   </g>\n   <g id=\"patch_7\">\n    <path d=\"M 276.503182 468.117656 \nL 325.201364 468.117656 \nL 325.201364 179.891774 \nL 276.503182 179.891774 \nz\n\" clip-path=\"url(#p355987f40a)\" style=\"fill: #48b067\"/>\n   </g>\n   <g id=\"patch_8\">\n    <path d=\"M 337.375909 468.117656 \nL 386.074091 468.117656 \nL 386.074091 45.717656 \nL 337.375909 45.717656 \nz\n\" clip-path=\"url(#p355987f40a)\" style=\"fill: #4aac98\"/>\n   </g>\n   <g id=\"patch_9\">\n    <path d=\"M 398.248636 468.117656 \nL 446.946818 468.117656 \nL 446.946818 65.595303 \nL 398.248636 65.595303 \nz\n\" clip-path=\"url(#p355987f40a)\" style=\"fill: #4dabb0\"/>\n   </g>\n   <g id=\"patch_10\">\n    <path d=\"M 459.121364 468.117656 \nL 507.819545 468.117656 \nL 507.819545 164.983539 \nL 459.121364 164.983539 \nz\n\" clip-path=\"url(#p355987f40a)\" style=\"fill: #54acd3\"/>\n   </g>\n   <g id=\"patch_11\">\n    <path d=\"M 519.994091 468.117656 \nL 568.692273 468.117656 \nL 568.692273 229.585892 \nL 519.994091 229.585892 \nz\n\" clip-path=\"url(#p355987f40a)\" style=\"fill: #a9aceb\"/>\n   </g>\n   <g id=\"patch_12\">\n    <path d=\"M 580.866818 468.117656 \nL 629.565 468.117656 \nL 629.565 120.258833 \nL 580.866818 120.258833 \nz\n\" clip-path=\"url(#p355987f40a)\" style=\"fill: #d795e8\"/>\n   </g>\n   <g id=\"patch_13\">\n    <path d=\"M 641.739545 468.117656 \nL 690.437727 468.117656 \nL 690.437727 204.738833 \nL 641.739545 204.738833 \nz\n\" clip-path=\"url(#p355987f40a)\" style=\"fill: #e88fc9\"/>\n   </g>\n   <g id=\"matplotlib.axis_1\">\n    <g id=\"xtick_1\">\n     <g id=\"line2d_1\">\n      <defs>\n       <path id=\"md7d36513a4\" d=\"M 0 0 \nL 0 3.5 \n\" style=\"stroke: #000000; stroke-width: 0.8\"/>\n      </defs>\n      <g>\n       <use xlink:href=\"#md7d36513a4\" x=\"57.361364\" y=\"468.117656\" style=\"stroke: #000000; stroke-width: 0.8\"/>\n      </g>\n     </g>\n     <g id=\"text_1\">\n      <!-- 0.0 -->\n      <g transform=\"translate(49.409801 482.716094) scale(0.1 -0.1)\">\n       <defs>\n        <path id=\"DejaVuSans-30\" d=\"M 2034 4250 \nQ 1547 4250 1301 3770 \nQ 1056 3291 1056 2328 \nQ 1056 1369 1301 889 \nQ 1547 409 2034 409 \nQ 2525 409 2770 889 \nQ 3016 1369 3016 2328 \nQ 3016 3291 2770 3770 \nQ 2525 4250 2034 4250 \nz\nM 2034 4750 \nQ 2819 4750 3233 4129 \nQ 3647 3509 3647 2328 \nQ 3647 1150 3233 529 \nQ 2819 -91 2034 -91 \nQ 1250 -91 836 529 \nQ 422 1150 422 2328 \nQ 422 3509 836 4129 \nQ 1250 4750 2034 4750 \nz\n\" transform=\"scale(0.015625)\"/>\n        <path id=\"DejaVuSans-2e\" d=\"M 684 794 \nL 1344 794 \nL 1344 0 \nL 684 0 \nL 684 794 \nz\n\" transform=\"scale(0.015625)\"/>\n       </defs>\n       <use xlink:href=\"#DejaVuSans-30\"/>\n       <use xlink:href=\"#DejaVuSans-2e\" x=\"63.623047\"/>\n       <use xlink:href=\"#DejaVuSans-30\" x=\"95.410156\"/>\n      </g>\n     </g>\n    </g>\n    <g id=\"xtick_2\">\n     <g id=\"line2d_2\">\n      <g>\n       <use xlink:href=\"#md7d36513a4\" x=\"118.234091\" y=\"468.117656\" style=\"stroke: #000000; stroke-width: 0.8\"/>\n      </g>\n     </g>\n     <g id=\"text_2\">\n      <!-- 1.0 -->\n      <g transform=\"translate(110.282528 482.716094) scale(0.1 -0.1)\">\n       <defs>\n        <path id=\"DejaVuSans-31\" d=\"M 794 531 \nL 1825 531 \nL 1825 4091 \nL 703 3866 \nL 703 4441 \nL 1819 4666 \nL 2450 4666 \nL 2450 531 \nL 3481 531 \nL 3481 0 \nL 794 0 \nL 794 531 \nz\n\" transform=\"scale(0.015625)\"/>\n       </defs>\n       <use xlink:href=\"#DejaVuSans-31\"/>\n       <use xlink:href=\"#DejaVuSans-2e\" x=\"63.623047\"/>\n       <use xlink:href=\"#DejaVuSans-30\" x=\"95.410156\"/>\n      </g>\n     </g>\n    </g>\n    <g id=\"xtick_3\">\n     <g id=\"line2d_3\">\n      <g>\n       <use xlink:href=\"#md7d36513a4\" x=\"179.106818\" y=\"468.117656\" style=\"stroke: #000000; stroke-width: 0.8\"/>\n      </g>\n     </g>\n     <g id=\"text_3\">\n      <!-- 2.0 -->\n      <g transform=\"translate(171.155256 482.716094) scale(0.1 -0.1)\">\n       <defs>\n        <path id=\"DejaVuSans-32\" d=\"M 1228 531 \nL 3431 531 \nL 3431 0 \nL 469 0 \nL 469 531 \nQ 828 903 1448 1529 \nQ 2069 2156 2228 2338 \nQ 2531 2678 2651 2914 \nQ 2772 3150 2772 3378 \nQ 2772 3750 2511 3984 \nQ 2250 4219 1831 4219 \nQ 1534 4219 1204 4116 \nQ 875 4013 500 3803 \nL 500 4441 \nQ 881 4594 1212 4672 \nQ 1544 4750 1819 4750 \nQ 2544 4750 2975 4387 \nQ 3406 4025 3406 3419 \nQ 3406 3131 3298 2873 \nQ 3191 2616 2906 2266 \nQ 2828 2175 2409 1742 \nQ 1991 1309 1228 531 \nz\n\" transform=\"scale(0.015625)\"/>\n       </defs>\n       <use xlink:href=\"#DejaVuSans-32\"/>\n       <use xlink:href=\"#DejaVuSans-2e\" x=\"63.623047\"/>\n       <use xlink:href=\"#DejaVuSans-30\" x=\"95.410156\"/>\n      </g>\n     </g>\n    </g>\n    <g id=\"xtick_4\">\n     <g id=\"line2d_4\">\n      <g>\n       <use xlink:href=\"#md7d36513a4\" x=\"239.979545\" y=\"468.117656\" style=\"stroke: #000000; stroke-width: 0.8\"/>\n      </g>\n     </g>\n     <g id=\"text_4\">\n      <!-- 3.0 -->\n      <g transform=\"translate(232.027983 482.716094) scale(0.1 -0.1)\">\n       <defs>\n        <path id=\"DejaVuSans-33\" d=\"M 2597 2516 \nQ 3050 2419 3304 2112 \nQ 3559 1806 3559 1356 \nQ 3559 666 3084 287 \nQ 2609 -91 1734 -91 \nQ 1441 -91 1130 -33 \nQ 819 25 488 141 \nL 488 750 \nQ 750 597 1062 519 \nQ 1375 441 1716 441 \nQ 2309 441 2620 675 \nQ 2931 909 2931 1356 \nQ 2931 1769 2642 2001 \nQ 2353 2234 1838 2234 \nL 1294 2234 \nL 1294 2753 \nL 1863 2753 \nQ 2328 2753 2575 2939 \nQ 2822 3125 2822 3475 \nQ 2822 3834 2567 4026 \nQ 2313 4219 1838 4219 \nQ 1578 4219 1281 4162 \nQ 984 4106 628 3988 \nL 628 4550 \nQ 988 4650 1302 4700 \nQ 1616 4750 1894 4750 \nQ 2613 4750 3031 4423 \nQ 3450 4097 3450 3541 \nQ 3450 3153 3228 2886 \nQ 3006 2619 2597 2516 \nz\n\" transform=\"scale(0.015625)\"/>\n       </defs>\n       <use xlink:href=\"#DejaVuSans-33\"/>\n       <use xlink:href=\"#DejaVuSans-2e\" x=\"63.623047\"/>\n       <use xlink:href=\"#DejaVuSans-30\" x=\"95.410156\"/>\n      </g>\n     </g>\n    </g>\n    <g id=\"xtick_5\">\n     <g id=\"line2d_5\">\n      <g>\n       <use xlink:href=\"#md7d36513a4\" x=\"300.852273\" y=\"468.117656\" style=\"stroke: #000000; stroke-width: 0.8\"/>\n      </g>\n     </g>\n     <g id=\"text_5\">\n      <!-- 4.0 -->\n      <g transform=\"translate(292.90071 482.716094) scale(0.1 -0.1)\">\n       <defs>\n        <path id=\"DejaVuSans-34\" d=\"M 2419 4116 \nL 825 1625 \nL 2419 1625 \nL 2419 4116 \nz\nM 2253 4666 \nL 3047 4666 \nL 3047 1625 \nL 3713 1625 \nL 3713 1100 \nL 3047 1100 \nL 3047 0 \nL 2419 0 \nL 2419 1100 \nL 313 1100 \nL 313 1709 \nL 2253 4666 \nz\n\" transform=\"scale(0.015625)\"/>\n       </defs>\n       <use xlink:href=\"#DejaVuSans-34\"/>\n       <use xlink:href=\"#DejaVuSans-2e\" x=\"63.623047\"/>\n       <use xlink:href=\"#DejaVuSans-30\" x=\"95.410156\"/>\n      </g>\n     </g>\n    </g>\n    <g id=\"xtick_6\">\n     <g id=\"line2d_6\">\n      <g>\n       <use xlink:href=\"#md7d36513a4\" x=\"361.725\" y=\"468.117656\" style=\"stroke: #000000; stroke-width: 0.8\"/>\n      </g>\n     </g>\n     <g id=\"text_6\">\n      <!-- 5.0 -->\n      <g transform=\"translate(353.773438 482.716094) scale(0.1 -0.1)\">\n       <defs>\n        <path id=\"DejaVuSans-35\" d=\"M 691 4666 \nL 3169 4666 \nL 3169 4134 \nL 1269 4134 \nL 1269 2991 \nQ 1406 3038 1543 3061 \nQ 1681 3084 1819 3084 \nQ 2600 3084 3056 2656 \nQ 3513 2228 3513 1497 \nQ 3513 744 3044 326 \nQ 2575 -91 1722 -91 \nQ 1428 -91 1123 -41 \nQ 819 9 494 109 \nL 494 744 \nQ 775 591 1075 516 \nQ 1375 441 1709 441 \nQ 2250 441 2565 725 \nQ 2881 1009 2881 1497 \nQ 2881 1984 2565 2268 \nQ 2250 2553 1709 2553 \nQ 1456 2553 1204 2497 \nQ 953 2441 691 2322 \nL 691 4666 \nz\n\" transform=\"scale(0.015625)\"/>\n       </defs>\n       <use xlink:href=\"#DejaVuSans-35\"/>\n       <use xlink:href=\"#DejaVuSans-2e\" x=\"63.623047\"/>\n       <use xlink:href=\"#DejaVuSans-30\" x=\"95.410156\"/>\n      </g>\n     </g>\n    </g>\n    <g id=\"xtick_7\">\n     <g id=\"line2d_7\">\n      <g>\n       <use xlink:href=\"#md7d36513a4\" x=\"422.597727\" y=\"468.117656\" style=\"stroke: #000000; stroke-width: 0.8\"/>\n      </g>\n     </g>\n     <g id=\"text_7\">\n      <!-- 6.0 -->\n      <g transform=\"translate(414.646165 482.716094) scale(0.1 -0.1)\">\n       <defs>\n        <path id=\"DejaVuSans-36\" d=\"M 2113 2584 \nQ 1688 2584 1439 2293 \nQ 1191 2003 1191 1497 \nQ 1191 994 1439 701 \nQ 1688 409 2113 409 \nQ 2538 409 2786 701 \nQ 3034 994 3034 1497 \nQ 3034 2003 2786 2293 \nQ 2538 2584 2113 2584 \nz\nM 3366 4563 \nL 3366 3988 \nQ 3128 4100 2886 4159 \nQ 2644 4219 2406 4219 \nQ 1781 4219 1451 3797 \nQ 1122 3375 1075 2522 \nQ 1259 2794 1537 2939 \nQ 1816 3084 2150 3084 \nQ 2853 3084 3261 2657 \nQ 3669 2231 3669 1497 \nQ 3669 778 3244 343 \nQ 2819 -91 2113 -91 \nQ 1303 -91 875 529 \nQ 447 1150 447 2328 \nQ 447 3434 972 4092 \nQ 1497 4750 2381 4750 \nQ 2619 4750 2861 4703 \nQ 3103 4656 3366 4563 \nz\n\" transform=\"scale(0.015625)\"/>\n       </defs>\n       <use xlink:href=\"#DejaVuSans-36\"/>\n       <use xlink:href=\"#DejaVuSans-2e\" x=\"63.623047\"/>\n       <use xlink:href=\"#DejaVuSans-30\" x=\"95.410156\"/>\n      </g>\n     </g>\n    </g>\n    <g id=\"xtick_8\">\n     <g id=\"line2d_8\">\n      <g>\n       <use xlink:href=\"#md7d36513a4\" x=\"483.470455\" y=\"468.117656\" style=\"stroke: #000000; stroke-width: 0.8\"/>\n      </g>\n     </g>\n     <g id=\"text_8\">\n      <!-- 7.0 -->\n      <g transform=\"translate(475.518892 482.716094) scale(0.1 -0.1)\">\n       <defs>\n        <path id=\"DejaVuSans-37\" d=\"M 525 4666 \nL 3525 4666 \nL 3525 4397 \nL 1831 0 \nL 1172 0 \nL 2766 4134 \nL 525 4134 \nL 525 4666 \nz\n\" transform=\"scale(0.015625)\"/>\n       </defs>\n       <use xlink:href=\"#DejaVuSans-37\"/>\n       <use xlink:href=\"#DejaVuSans-2e\" x=\"63.623047\"/>\n       <use xlink:href=\"#DejaVuSans-30\" x=\"95.410156\"/>\n      </g>\n     </g>\n    </g>\n    <g id=\"xtick_9\">\n     <g id=\"line2d_9\">\n      <g>\n       <use xlink:href=\"#md7d36513a4\" x=\"544.343182\" y=\"468.117656\" style=\"stroke: #000000; stroke-width: 0.8\"/>\n      </g>\n     </g>\n     <g id=\"text_9\">\n      <!-- 8.0 -->\n      <g transform=\"translate(536.391619 482.716094) scale(0.1 -0.1)\">\n       <defs>\n        <path id=\"DejaVuSans-38\" d=\"M 2034 2216 \nQ 1584 2216 1326 1975 \nQ 1069 1734 1069 1313 \nQ 1069 891 1326 650 \nQ 1584 409 2034 409 \nQ 2484 409 2743 651 \nQ 3003 894 3003 1313 \nQ 3003 1734 2745 1975 \nQ 2488 2216 2034 2216 \nz\nM 1403 2484 \nQ 997 2584 770 2862 \nQ 544 3141 544 3541 \nQ 544 4100 942 4425 \nQ 1341 4750 2034 4750 \nQ 2731 4750 3128 4425 \nQ 3525 4100 3525 3541 \nQ 3525 3141 3298 2862 \nQ 3072 2584 2669 2484 \nQ 3125 2378 3379 2068 \nQ 3634 1759 3634 1313 \nQ 3634 634 3220 271 \nQ 2806 -91 2034 -91 \nQ 1263 -91 848 271 \nQ 434 634 434 1313 \nQ 434 1759 690 2068 \nQ 947 2378 1403 2484 \nz\nM 1172 3481 \nQ 1172 3119 1398 2916 \nQ 1625 2713 2034 2713 \nQ 2441 2713 2670 2916 \nQ 2900 3119 2900 3481 \nQ 2900 3844 2670 4047 \nQ 2441 4250 2034 4250 \nQ 1625 4250 1398 4047 \nQ 1172 3844 1172 3481 \nz\n\" transform=\"scale(0.015625)\"/>\n       </defs>\n       <use xlink:href=\"#DejaVuSans-38\"/>\n       <use xlink:href=\"#DejaVuSans-2e\" x=\"63.623047\"/>\n       <use xlink:href=\"#DejaVuSans-30\" x=\"95.410156\"/>\n      </g>\n     </g>\n    </g>\n    <g id=\"xtick_10\">\n     <g id=\"line2d_10\">\n      <g>\n       <use xlink:href=\"#md7d36513a4\" x=\"605.215909\" y=\"468.117656\" style=\"stroke: #000000; stroke-width: 0.8\"/>\n      </g>\n     </g>\n     <g id=\"text_10\">\n      <!-- 9.0 -->\n      <g transform=\"translate(597.264347 482.716094) scale(0.1 -0.1)\">\n       <defs>\n        <path id=\"DejaVuSans-39\" d=\"M 703 97 \nL 703 672 \nQ 941 559 1184 500 \nQ 1428 441 1663 441 \nQ 2288 441 2617 861 \nQ 2947 1281 2994 2138 \nQ 2813 1869 2534 1725 \nQ 2256 1581 1919 1581 \nQ 1219 1581 811 2004 \nQ 403 2428 403 3163 \nQ 403 3881 828 4315 \nQ 1253 4750 1959 4750 \nQ 2769 4750 3195 4129 \nQ 3622 3509 3622 2328 \nQ 3622 1225 3098 567 \nQ 2575 -91 1691 -91 \nQ 1453 -91 1209 -44 \nQ 966 3 703 97 \nz\nM 1959 2075 \nQ 2384 2075 2632 2365 \nQ 2881 2656 2881 3163 \nQ 2881 3666 2632 3958 \nQ 2384 4250 1959 4250 \nQ 1534 4250 1286 3958 \nQ 1038 3666 1038 3163 \nQ 1038 2656 1286 2365 \nQ 1534 2075 1959 2075 \nz\n\" transform=\"scale(0.015625)\"/>\n       </defs>\n       <use xlink:href=\"#DejaVuSans-39\"/>\n       <use xlink:href=\"#DejaVuSans-2e\" x=\"63.623047\"/>\n       <use xlink:href=\"#DejaVuSans-30\" x=\"95.410156\"/>\n      </g>\n     </g>\n    </g>\n    <g id=\"xtick_11\">\n     <g id=\"line2d_11\">\n      <g>\n       <use xlink:href=\"#md7d36513a4\" x=\"666.088636\" y=\"468.117656\" style=\"stroke: #000000; stroke-width: 0.8\"/>\n      </g>\n     </g>\n     <g id=\"text_11\">\n      <!-- 10.0 -->\n      <g transform=\"translate(654.955824 482.716094) scale(0.1 -0.1)\">\n       <use xlink:href=\"#DejaVuSans-31\"/>\n       <use xlink:href=\"#DejaVuSans-30\" x=\"63.623047\"/>\n       <use xlink:href=\"#DejaVuSans-2e\" x=\"127.246094\"/>\n       <use xlink:href=\"#DejaVuSans-30\" x=\"159.033203\"/>\n      </g>\n     </g>\n    </g>\n   </g>\n   <g id=\"matplotlib.axis_2\">\n    <g id=\"ytick_1\">\n     <g id=\"line2d_12\">\n      <defs>\n       <path id=\"md5614464d9\" d=\"M 0 0 \nL -3.5 0 \n\" style=\"stroke: #000000; stroke-width: 0.8\"/>\n      </defs>\n      <g>\n       <use xlink:href=\"#md5614464d9\" x=\"26.925\" y=\"468.117656\" style=\"stroke: #000000; stroke-width: 0.8\"/>\n      </g>\n     </g>\n     <g id=\"text_12\">\n      <!-- 0 -->\n      <g transform=\"translate(13.5625 471.916875) scale(0.1 -0.1)\">\n       <use xlink:href=\"#DejaVuSans-30\"/>\n      </g>\n     </g>\n    </g>\n    <g id=\"ytick_2\">\n     <g id=\"line2d_13\">\n      <g>\n       <use xlink:href=\"#md5614464d9\" x=\"26.925\" y=\"418.423539\" style=\"stroke: #000000; stroke-width: 0.8\"/>\n      </g>\n     </g>\n     <g id=\"text_13\">\n      <!-- 10 -->\n      <g transform=\"translate(7.2 422.222757) scale(0.1 -0.1)\">\n       <use xlink:href=\"#DejaVuSans-31\"/>\n       <use xlink:href=\"#DejaVuSans-30\" x=\"63.623047\"/>\n      </g>\n     </g>\n    </g>\n    <g id=\"ytick_3\">\n     <g id=\"line2d_14\">\n      <g>\n       <use xlink:href=\"#md5614464d9\" x=\"26.925\" y=\"368.729421\" style=\"stroke: #000000; stroke-width: 0.8\"/>\n      </g>\n     </g>\n     <g id=\"text_14\">\n      <!-- 20 -->\n      <g transform=\"translate(7.2 372.52864) scale(0.1 -0.1)\">\n       <use xlink:href=\"#DejaVuSans-32\"/>\n       <use xlink:href=\"#DejaVuSans-30\" x=\"63.623047\"/>\n      </g>\n     </g>\n    </g>\n    <g id=\"ytick_4\">\n     <g id=\"line2d_15\">\n      <g>\n       <use xlink:href=\"#md5614464d9\" x=\"26.925\" y=\"319.035303\" style=\"stroke: #000000; stroke-width: 0.8\"/>\n      </g>\n     </g>\n     <g id=\"text_15\">\n      <!-- 30 -->\n      <g transform=\"translate(7.2 322.834522) scale(0.1 -0.1)\">\n       <use xlink:href=\"#DejaVuSans-33\"/>\n       <use xlink:href=\"#DejaVuSans-30\" x=\"63.623047\"/>\n      </g>\n     </g>\n    </g>\n    <g id=\"ytick_5\">\n     <g id=\"line2d_16\">\n      <g>\n       <use xlink:href=\"#md5614464d9\" x=\"26.925\" y=\"269.341186\" style=\"stroke: #000000; stroke-width: 0.8\"/>\n      </g>\n     </g>\n     <g id=\"text_16\">\n      <!-- 40 -->\n      <g transform=\"translate(7.2 273.140404) scale(0.1 -0.1)\">\n       <use xlink:href=\"#DejaVuSans-34\"/>\n       <use xlink:href=\"#DejaVuSans-30\" x=\"63.623047\"/>\n      </g>\n     </g>\n    </g>\n    <g id=\"ytick_6\">\n     <g id=\"line2d_17\">\n      <g>\n       <use xlink:href=\"#md5614464d9\" x=\"26.925\" y=\"219.647068\" style=\"stroke: #000000; stroke-width: 0.8\"/>\n      </g>\n     </g>\n     <g id=\"text_17\">\n      <!-- 50 -->\n      <g transform=\"translate(7.2 223.446287) scale(0.1 -0.1)\">\n       <use xlink:href=\"#DejaVuSans-35\"/>\n       <use xlink:href=\"#DejaVuSans-30\" x=\"63.623047\"/>\n      </g>\n     </g>\n    </g>\n    <g id=\"ytick_7\">\n     <g id=\"line2d_18\">\n      <g>\n       <use xlink:href=\"#md5614464d9\" x=\"26.925\" y=\"169.95295\" style=\"stroke: #000000; stroke-width: 0.8\"/>\n      </g>\n     </g>\n     <g id=\"text_18\">\n      <!-- 60 -->\n      <g transform=\"translate(7.2 173.752169) scale(0.1 -0.1)\">\n       <use xlink:href=\"#DejaVuSans-36\"/>\n       <use xlink:href=\"#DejaVuSans-30\" x=\"63.623047\"/>\n      </g>\n     </g>\n    </g>\n    <g id=\"ytick_8\">\n     <g id=\"line2d_19\">\n      <g>\n       <use xlink:href=\"#md5614464d9\" x=\"26.925\" y=\"120.258833\" style=\"stroke: #000000; stroke-width: 0.8\"/>\n      </g>\n     </g>\n     <g id=\"text_19\">\n      <!-- 70 -->\n      <g transform=\"translate(7.2 124.058051) scale(0.1 -0.1)\">\n       <use xlink:href=\"#DejaVuSans-37\"/>\n       <use xlink:href=\"#DejaVuSans-30\" x=\"63.623047\"/>\n      </g>\n     </g>\n    </g>\n    <g id=\"ytick_9\">\n     <g id=\"line2d_20\">\n      <g>\n       <use xlink:href=\"#md5614464d9\" x=\"26.925\" y=\"70.564715\" style=\"stroke: #000000; stroke-width: 0.8\"/>\n      </g>\n     </g>\n     <g id=\"text_20\">\n      <!-- 80 -->\n      <g transform=\"translate(7.2 74.363934) scale(0.1 -0.1)\">\n       <use xlink:href=\"#DejaVuSans-38\"/>\n       <use xlink:href=\"#DejaVuSans-30\" x=\"63.623047\"/>\n      </g>\n     </g>\n    </g>\n   </g>\n   <g id=\"line2d_21\">\n    <path clip-path=\"url(#p355987f40a)\" style=\"fill: none; stroke: #424242; stroke-width: 2.7; stroke-linecap: square\"/>\n   </g>\n   <g id=\"line2d_22\">\n    <path clip-path=\"url(#p355987f40a)\" style=\"fill: none; stroke: #424242; stroke-width: 2.7; stroke-linecap: square\"/>\n   </g>\n   <g id=\"line2d_23\">\n    <path clip-path=\"url(#p355987f40a)\" style=\"fill: none; stroke: #424242; stroke-width: 2.7; stroke-linecap: square\"/>\n   </g>\n   <g id=\"line2d_24\">\n    <path clip-path=\"url(#p355987f40a)\" style=\"fill: none; stroke: #424242; stroke-width: 2.7; stroke-linecap: square\"/>\n   </g>\n   <g id=\"line2d_25\">\n    <path clip-path=\"url(#p355987f40a)\" style=\"fill: none; stroke: #424242; stroke-width: 2.7; stroke-linecap: square\"/>\n   </g>\n   <g id=\"line2d_26\">\n    <path clip-path=\"url(#p355987f40a)\" style=\"fill: none; stroke: #424242; stroke-width: 2.7; stroke-linecap: square\"/>\n   </g>\n   <g id=\"line2d_27\">\n    <path clip-path=\"url(#p355987f40a)\" style=\"fill: none; stroke: #424242; stroke-width: 2.7; stroke-linecap: square\"/>\n   </g>\n   <g id=\"line2d_28\">\n    <path clip-path=\"url(#p355987f40a)\" style=\"fill: none; stroke: #424242; stroke-width: 2.7; stroke-linecap: square\"/>\n   </g>\n   <g id=\"line2d_29\">\n    <path clip-path=\"url(#p355987f40a)\" style=\"fill: none; stroke: #424242; stroke-width: 2.7; stroke-linecap: square\"/>\n   </g>\n   <g id=\"line2d_30\">\n    <path clip-path=\"url(#p355987f40a)\" style=\"fill: none; stroke: #424242; stroke-width: 2.7; stroke-linecap: square\"/>\n   </g>\n   <g id=\"line2d_31\">\n    <path clip-path=\"url(#p355987f40a)\" style=\"fill: none; stroke: #424242; stroke-width: 2.7; stroke-linecap: square\"/>\n   </g>\n   <g id=\"patch_14\">\n    <path d=\"M 26.925 468.117656 \nL 26.925 24.597656 \n\" style=\"fill: none; stroke: #000000; stroke-width: 0.8; stroke-linejoin: miter; stroke-linecap: square\"/>\n   </g>\n   <g id=\"patch_15\">\n    <path d=\"M 696.525 468.117656 \nL 696.525 24.597656 \n\" style=\"fill: none; stroke: #000000; stroke-width: 0.8; stroke-linejoin: miter; stroke-linecap: square\"/>\n   </g>\n   <g id=\"patch_16\">\n    <path d=\"M 26.925 468.117656 \nL 696.525 468.117656 \n\" style=\"fill: none; stroke: #000000; stroke-width: 0.8; stroke-linejoin: miter; stroke-linecap: square\"/>\n   </g>\n   <g id=\"patch_17\">\n    <path d=\"M 26.925 24.597656 \nL 696.525 24.597656 \n\" style=\"fill: none; stroke: #000000; stroke-width: 0.8; stroke-linejoin: miter; stroke-linecap: square\"/>\n   </g>\n   <g id=\"text_21\">\n    <!-- Count of Numerical and Categorical Features -->\n    <g transform=\"translate(192.989063 18.597656) scale(0.15 -0.15)\">\n     <defs>\n      <path id=\"DejaVuSans-43\" d=\"M 4122 4306 \nL 4122 3641 \nQ 3803 3938 3442 4084 \nQ 3081 4231 2675 4231 \nQ 1875 4231 1450 3742 \nQ 1025 3253 1025 2328 \nQ 1025 1406 1450 917 \nQ 1875 428 2675 428 \nQ 3081 428 3442 575 \nQ 3803 722 4122 1019 \nL 4122 359 \nQ 3791 134 3420 21 \nQ 3050 -91 2638 -91 \nQ 1578 -91 968 557 \nQ 359 1206 359 2328 \nQ 359 3453 968 4101 \nQ 1578 4750 2638 4750 \nQ 3056 4750 3426 4639 \nQ 3797 4528 4122 4306 \nz\n\" transform=\"scale(0.015625)\"/>\n      <path id=\"DejaVuSans-6f\" d=\"M 1959 3097 \nQ 1497 3097 1228 2736 \nQ 959 2375 959 1747 \nQ 959 1119 1226 758 \nQ 1494 397 1959 397 \nQ 2419 397 2687 759 \nQ 2956 1122 2956 1747 \nQ 2956 2369 2687 2733 \nQ 2419 3097 1959 3097 \nz\nM 1959 3584 \nQ 2709 3584 3137 3096 \nQ 3566 2609 3566 1747 \nQ 3566 888 3137 398 \nQ 2709 -91 1959 -91 \nQ 1206 -91 779 398 \nQ 353 888 353 1747 \nQ 353 2609 779 3096 \nQ 1206 3584 1959 3584 \nz\n\" transform=\"scale(0.015625)\"/>\n      <path id=\"DejaVuSans-75\" d=\"M 544 1381 \nL 544 3500 \nL 1119 3500 \nL 1119 1403 \nQ 1119 906 1312 657 \nQ 1506 409 1894 409 \nQ 2359 409 2629 706 \nQ 2900 1003 2900 1516 \nL 2900 3500 \nL 3475 3500 \nL 3475 0 \nL 2900 0 \nL 2900 538 \nQ 2691 219 2414 64 \nQ 2138 -91 1772 -91 \nQ 1169 -91 856 284 \nQ 544 659 544 1381 \nz\nM 1991 3584 \nL 1991 3584 \nz\n\" transform=\"scale(0.015625)\"/>\n      <path id=\"DejaVuSans-6e\" d=\"M 3513 2113 \nL 3513 0 \nL 2938 0 \nL 2938 2094 \nQ 2938 2591 2744 2837 \nQ 2550 3084 2163 3084 \nQ 1697 3084 1428 2787 \nQ 1159 2491 1159 1978 \nL 1159 0 \nL 581 0 \nL 581 3500 \nL 1159 3500 \nL 1159 2956 \nQ 1366 3272 1645 3428 \nQ 1925 3584 2291 3584 \nQ 2894 3584 3203 3211 \nQ 3513 2838 3513 2113 \nz\n\" transform=\"scale(0.015625)\"/>\n      <path id=\"DejaVuSans-74\" d=\"M 1172 4494 \nL 1172 3500 \nL 2356 3500 \nL 2356 3053 \nL 1172 3053 \nL 1172 1153 \nQ 1172 725 1289 603 \nQ 1406 481 1766 481 \nL 2356 481 \nL 2356 0 \nL 1766 0 \nQ 1100 0 847 248 \nQ 594 497 594 1153 \nL 594 3053 \nL 172 3053 \nL 172 3500 \nL 594 3500 \nL 594 4494 \nL 1172 4494 \nz\n\" transform=\"scale(0.015625)\"/>\n      <path id=\"DejaVuSans-20\" transform=\"scale(0.015625)\"/>\n      <path id=\"DejaVuSans-66\" d=\"M 2375 4863 \nL 2375 4384 \nL 1825 4384 \nQ 1516 4384 1395 4259 \nQ 1275 4134 1275 3809 \nL 1275 3500 \nL 2222 3500 \nL 2222 3053 \nL 1275 3053 \nL 1275 0 \nL 697 0 \nL 697 3053 \nL 147 3053 \nL 147 3500 \nL 697 3500 \nL 697 3744 \nQ 697 4328 969 4595 \nQ 1241 4863 1831 4863 \nL 2375 4863 \nz\n\" transform=\"scale(0.015625)\"/>\n      <path id=\"DejaVuSans-4e\" d=\"M 628 4666 \nL 1478 4666 \nL 3547 763 \nL 3547 4666 \nL 4159 4666 \nL 4159 0 \nL 3309 0 \nL 1241 3903 \nL 1241 0 \nL 628 0 \nL 628 4666 \nz\n\" transform=\"scale(0.015625)\"/>\n      <path id=\"DejaVuSans-6d\" d=\"M 3328 2828 \nQ 3544 3216 3844 3400 \nQ 4144 3584 4550 3584 \nQ 5097 3584 5394 3201 \nQ 5691 2819 5691 2113 \nL 5691 0 \nL 5113 0 \nL 5113 2094 \nQ 5113 2597 4934 2840 \nQ 4756 3084 4391 3084 \nQ 3944 3084 3684 2787 \nQ 3425 2491 3425 1978 \nL 3425 0 \nL 2847 0 \nL 2847 2094 \nQ 2847 2600 2669 2842 \nQ 2491 3084 2119 3084 \nQ 1678 3084 1418 2786 \nQ 1159 2488 1159 1978 \nL 1159 0 \nL 581 0 \nL 581 3500 \nL 1159 3500 \nL 1159 2956 \nQ 1356 3278 1631 3431 \nQ 1906 3584 2284 3584 \nQ 2666 3584 2933 3390 \nQ 3200 3197 3328 2828 \nz\n\" transform=\"scale(0.015625)\"/>\n      <path id=\"DejaVuSans-65\" d=\"M 3597 1894 \nL 3597 1613 \nL 953 1613 \nQ 991 1019 1311 708 \nQ 1631 397 2203 397 \nQ 2534 397 2845 478 \nQ 3156 559 3463 722 \nL 3463 178 \nQ 3153 47 2828 -22 \nQ 2503 -91 2169 -91 \nQ 1331 -91 842 396 \nQ 353 884 353 1716 \nQ 353 2575 817 3079 \nQ 1281 3584 2069 3584 \nQ 2775 3584 3186 3129 \nQ 3597 2675 3597 1894 \nz\nM 3022 2063 \nQ 3016 2534 2758 2815 \nQ 2500 3097 2075 3097 \nQ 1594 3097 1305 2825 \nQ 1016 2553 972 2059 \nL 3022 2063 \nz\n\" transform=\"scale(0.015625)\"/>\n      <path id=\"DejaVuSans-72\" d=\"M 2631 2963 \nQ 2534 3019 2420 3045 \nQ 2306 3072 2169 3072 \nQ 1681 3072 1420 2755 \nQ 1159 2438 1159 1844 \nL 1159 0 \nL 581 0 \nL 581 3500 \nL 1159 3500 \nL 1159 2956 \nQ 1341 3275 1631 3429 \nQ 1922 3584 2338 3584 \nQ 2397 3584 2469 3576 \nQ 2541 3569 2628 3553 \nL 2631 2963 \nz\n\" transform=\"scale(0.015625)\"/>\n      <path id=\"DejaVuSans-69\" d=\"M 603 3500 \nL 1178 3500 \nL 1178 0 \nL 603 0 \nL 603 3500 \nz\nM 603 4863 \nL 1178 4863 \nL 1178 4134 \nL 603 4134 \nL 603 4863 \nz\n\" transform=\"scale(0.015625)\"/>\n      <path id=\"DejaVuSans-63\" d=\"M 3122 3366 \nL 3122 2828 \nQ 2878 2963 2633 3030 \nQ 2388 3097 2138 3097 \nQ 1578 3097 1268 2742 \nQ 959 2388 959 1747 \nQ 959 1106 1268 751 \nQ 1578 397 2138 397 \nQ 2388 397 2633 464 \nQ 2878 531 3122 666 \nL 3122 134 \nQ 2881 22 2623 -34 \nQ 2366 -91 2075 -91 \nQ 1284 -91 818 406 \nQ 353 903 353 1747 \nQ 353 2603 823 3093 \nQ 1294 3584 2113 3584 \nQ 2378 3584 2631 3529 \nQ 2884 3475 3122 3366 \nz\n\" transform=\"scale(0.015625)\"/>\n      <path id=\"DejaVuSans-61\" d=\"M 2194 1759 \nQ 1497 1759 1228 1600 \nQ 959 1441 959 1056 \nQ 959 750 1161 570 \nQ 1363 391 1709 391 \nQ 2188 391 2477 730 \nQ 2766 1069 2766 1631 \nL 2766 1759 \nL 2194 1759 \nz\nM 3341 1997 \nL 3341 0 \nL 2766 0 \nL 2766 531 \nQ 2569 213 2275 61 \nQ 1981 -91 1556 -91 \nQ 1019 -91 701 211 \nQ 384 513 384 1019 \nQ 384 1609 779 1909 \nQ 1175 2209 1959 2209 \nL 2766 2209 \nL 2766 2266 \nQ 2766 2663 2505 2880 \nQ 2244 3097 1772 3097 \nQ 1472 3097 1187 3025 \nQ 903 2953 641 2809 \nL 641 3341 \nQ 956 3463 1253 3523 \nQ 1550 3584 1831 3584 \nQ 2591 3584 2966 3190 \nQ 3341 2797 3341 1997 \nz\n\" transform=\"scale(0.015625)\"/>\n      <path id=\"DejaVuSans-6c\" d=\"M 603 4863 \nL 1178 4863 \nL 1178 0 \nL 603 0 \nL 603 4863 \nz\n\" transform=\"scale(0.015625)\"/>\n      <path id=\"DejaVuSans-64\" d=\"M 2906 2969 \nL 2906 4863 \nL 3481 4863 \nL 3481 0 \nL 2906 0 \nL 2906 525 \nQ 2725 213 2448 61 \nQ 2172 -91 1784 -91 \nQ 1150 -91 751 415 \nQ 353 922 353 1747 \nQ 353 2572 751 3078 \nQ 1150 3584 1784 3584 \nQ 2172 3584 2448 3432 \nQ 2725 3281 2906 2969 \nz\nM 947 1747 \nQ 947 1113 1208 752 \nQ 1469 391 1925 391 \nQ 2381 391 2643 752 \nQ 2906 1113 2906 1747 \nQ 2906 2381 2643 2742 \nQ 2381 3103 1925 3103 \nQ 1469 3103 1208 2742 \nQ 947 2381 947 1747 \nz\n\" transform=\"scale(0.015625)\"/>\n      <path id=\"DejaVuSans-67\" d=\"M 2906 1791 \nQ 2906 2416 2648 2759 \nQ 2391 3103 1925 3103 \nQ 1463 3103 1205 2759 \nQ 947 2416 947 1791 \nQ 947 1169 1205 825 \nQ 1463 481 1925 481 \nQ 2391 481 2648 825 \nQ 2906 1169 2906 1791 \nz\nM 3481 434 \nQ 3481 -459 3084 -895 \nQ 2688 -1331 1869 -1331 \nQ 1566 -1331 1297 -1286 \nQ 1028 -1241 775 -1147 \nL 775 -588 \nQ 1028 -725 1275 -790 \nQ 1522 -856 1778 -856 \nQ 2344 -856 2625 -561 \nQ 2906 -266 2906 331 \nL 2906 616 \nQ 2728 306 2450 153 \nQ 2172 0 1784 0 \nQ 1141 0 747 490 \nQ 353 981 353 1791 \nQ 353 2603 747 3093 \nQ 1141 3584 1784 3584 \nQ 2172 3584 2450 3431 \nQ 2728 3278 2906 2969 \nL 2906 3500 \nL 3481 3500 \nL 3481 434 \nz\n\" transform=\"scale(0.015625)\"/>\n      <path id=\"DejaVuSans-46\" d=\"M 628 4666 \nL 3309 4666 \nL 3309 4134 \nL 1259 4134 \nL 1259 2759 \nL 3109 2759 \nL 3109 2228 \nL 1259 2228 \nL 1259 0 \nL 628 0 \nL 628 4666 \nz\n\" transform=\"scale(0.015625)\"/>\n      <path id=\"DejaVuSans-73\" d=\"M 2834 3397 \nL 2834 2853 \nQ 2591 2978 2328 3040 \nQ 2066 3103 1784 3103 \nQ 1356 3103 1142 2972 \nQ 928 2841 928 2578 \nQ 928 2378 1081 2264 \nQ 1234 2150 1697 2047 \nL 1894 2003 \nQ 2506 1872 2764 1633 \nQ 3022 1394 3022 966 \nQ 3022 478 2636 193 \nQ 2250 -91 1575 -91 \nQ 1294 -91 989 -36 \nQ 684 19 347 128 \nL 347 722 \nQ 666 556 975 473 \nQ 1284 391 1588 391 \nQ 1994 391 2212 530 \nQ 2431 669 2431 922 \nQ 2431 1156 2273 1281 \nQ 2116 1406 1581 1522 \nL 1381 1569 \nQ 847 1681 609 1914 \nQ 372 2147 372 2553 \nQ 372 3047 722 3315 \nQ 1072 3584 1716 3584 \nQ 2034 3584 2315 3537 \nQ 2597 3491 2834 3397 \nz\n\" transform=\"scale(0.015625)\"/>\n     </defs>\n     <use xlink:href=\"#DejaVuSans-43\"/>\n     <use xlink:href=\"#DejaVuSans-6f\" x=\"69.824219\"/>\n     <use xlink:href=\"#DejaVuSans-75\" x=\"131.005859\"/>\n     <use xlink:href=\"#DejaVuSans-6e\" x=\"194.384766\"/>\n     <use xlink:href=\"#DejaVuSans-74\" x=\"257.763672\"/>\n     <use xlink:href=\"#DejaVuSans-20\" x=\"296.972656\"/>\n     <use xlink:href=\"#DejaVuSans-6f\" x=\"328.759766\"/>\n     <use xlink:href=\"#DejaVuSans-66\" x=\"389.941406\"/>\n     <use xlink:href=\"#DejaVuSans-20\" x=\"425.146484\"/>\n     <use xlink:href=\"#DejaVuSans-4e\" x=\"456.933594\"/>\n     <use xlink:href=\"#DejaVuSans-75\" x=\"531.738281\"/>\n     <use xlink:href=\"#DejaVuSans-6d\" x=\"595.117188\"/>\n     <use xlink:href=\"#DejaVuSans-65\" x=\"692.529297\"/>\n     <use xlink:href=\"#DejaVuSans-72\" x=\"754.052734\"/>\n     <use xlink:href=\"#DejaVuSans-69\" x=\"795.166016\"/>\n     <use xlink:href=\"#DejaVuSans-63\" x=\"822.949219\"/>\n     <use xlink:href=\"#DejaVuSans-61\" x=\"877.929688\"/>\n     <use xlink:href=\"#DejaVuSans-6c\" x=\"939.208984\"/>\n     <use xlink:href=\"#DejaVuSans-20\" x=\"966.992188\"/>\n     <use xlink:href=\"#DejaVuSans-61\" x=\"998.779297\"/>\n     <use xlink:href=\"#DejaVuSans-6e\" x=\"1060.058594\"/>\n     <use xlink:href=\"#DejaVuSans-64\" x=\"1123.4375\"/>\n     <use xlink:href=\"#DejaVuSans-20\" x=\"1186.914062\"/>\n     <use xlink:href=\"#DejaVuSans-43\" x=\"1218.701172\"/>\n     <use xlink:href=\"#DejaVuSans-61\" x=\"1288.525391\"/>\n     <use xlink:href=\"#DejaVuSans-74\" x=\"1349.804688\"/>\n     <use xlink:href=\"#DejaVuSans-65\" x=\"1389.013672\"/>\n     <use xlink:href=\"#DejaVuSans-67\" x=\"1450.537109\"/>\n     <use xlink:href=\"#DejaVuSans-6f\" x=\"1514.013672\"/>\n     <use xlink:href=\"#DejaVuSans-72\" x=\"1575.195312\"/>\n     <use xlink:href=\"#DejaVuSans-69\" x=\"1616.308594\"/>\n     <use xlink:href=\"#DejaVuSans-63\" x=\"1644.091797\"/>\n     <use xlink:href=\"#DejaVuSans-61\" x=\"1699.072266\"/>\n     <use xlink:href=\"#DejaVuSans-6c\" x=\"1760.351562\"/>\n     <use xlink:href=\"#DejaVuSans-20\" x=\"1788.134766\"/>\n     <use xlink:href=\"#DejaVuSans-46\" x=\"1819.921875\"/>\n     <use xlink:href=\"#DejaVuSans-65\" x=\"1871.941406\"/>\n     <use xlink:href=\"#DejaVuSans-61\" x=\"1933.464844\"/>\n     <use xlink:href=\"#DejaVuSans-74\" x=\"1994.744141\"/>\n     <use xlink:href=\"#DejaVuSans-75\" x=\"2033.953125\"/>\n     <use xlink:href=\"#DejaVuSans-72\" x=\"2097.332031\"/>\n     <use xlink:href=\"#DejaVuSans-65\" x=\"2136.195312\"/>\n     <use xlink:href=\"#DejaVuSans-73\" x=\"2197.71875\"/>\n    </g>\n   </g>\n  </g>\n </g>\n <defs>\n  <clipPath id=\"p355987f40a\">\n   <rect x=\"26.925\" y=\"24.597656\" width=\"669.6\" height=\"443.52\"/>\n  </clipPath>\n </defs>\n</svg>\n",
            "application/pdf": "[encoded data removed]"
          },
          "metadata": {}
        }
      ]
    },
    {
      "cell_type": "code",
      "source": [
        "'''from imblearn.over_sampling import SMOTE\n",
        "# Separate input features and target variable\n",
        "x=df_train[num_cols]\n",
        "y= df_train['prognosis']\n",
        "#Apply SMOTE oversampling to minority class\n",
        "sm = SMOTE(random_state=42)\n",
        "X_resampled, y_resampled=sm.fit_resample(x, y)\n",
        "# Combine resampled input features and target variable\n",
        "df_resampled =pd.concat([X_resampled, y_resampled], axis=1)\n",
        "# Check the class distribution\n",
        "print(df_resampled['prognosis'].value_counts())'''"
      ],
      "metadata": {
        "colab": {
          "base_uri": "https://localhost:8080/",
          "height": 71
        },
        "id": "Niw9vgQ0uQYA",
        "outputId": "05200e38-7707-42db-84e6-4e88f0a18aea"
      },
      "execution_count": 138,
      "outputs": [
        {
          "output_type": "execute_result",
          "data": {
            "text/plain": [
              "\"from imblearn.over_sampling import SMOTE\\n# Separate input features and target variable\\nx=df_train[num_cols]\\ny= df_train['prognosis']\\n#Apply SMOTE oversampling to minority class\\nsm = SMOTE(random_state=42)\\nX_resampled, y_resampled=sm.fit_resample(x, y)\\n# Combine resampled input features and target variable\\ndf_resampled =pd.concat([X_resampled, y_resampled], axis=1)\\n# Check the class distribution\\nprint(df_resampled['prognosis'].value_counts())\""
            ],
            "application/vnd.google.colaboratory.intrinsic+json": {
              "type": "string"
            }
          },
          "metadata": {},
          "execution_count": 138
        }
      ]
    },
    {
      "cell_type": "code",
      "source": [
        "'''plt.figure(figsize=(12,8))\n",
        "sns.barplot(x = df_train['prognosis'].value_counts().index.tolist(),y=[len(df_resampled[df_resampled['prognosis']==5.]),len(df_resampled[df_resampled['prognosis']==6.]),len(df_resampled[df_resampled['prognosis']==0.0]),len(df_resampled[df_resampled['prognosis']==9.0]),len(df_resampled[df_resampled['prognosis']==2.]),len(df_resampled[df_resampled['prognosis']==3.]),\n",
        "len(df_resampled[df_resampled['prognosis']==7.]),len(df_resampled[df_resampled['prognosis']==4.]),len(df_resampled[df_resampled['prognosis']==10.]),len(df_resampled[df_resampled['prognosis']==1.]),len(df_resampled[df_resampled['prognosis']==8.])])\n",
        "plt.title('Count of Numerical and Categorical Features',fontsize=15)\n",
        "plt.show()'''"
      ],
      "metadata": {
        "colab": {
          "base_uri": "https://localhost:8080/",
          "height": 107
        },
        "id": "wIAwyl_YuSBl",
        "outputId": "2ef47541-3ab4-4753-f242-1d2717139ae2"
      },
      "execution_count": 139,
      "outputs": [
        {
          "output_type": "execute_result",
          "data": {
            "text/plain": [
              "\"plt.figure(figsize=(12,8))\\nsns.barplot(x = df_train['prognosis'].value_counts().index.tolist(),y=[len(df_resampled[df_resampled['prognosis']==5.]),len(df_resampled[df_resampled['prognosis']==6.]),len(df_resampled[df_resampled['prognosis']==0.0]),len(df_resampled[df_resampled['prognosis']==9.0]),len(df_resampled[df_resampled['prognosis']==2.]),len(df_resampled[df_resampled['prognosis']==3.]),\\nlen(df_resampled[df_resampled['prognosis']==7.]),len(df_resampled[df_resampled['prognosis']==4.]),len(df_resampled[df_resampled['prognosis']==10.]),len(df_resampled[df_resampled['prognosis']==1.]),len(df_resampled[df_resampled['prognosis']==8.])])\\nplt.title('Count of Numerical and Categorical Features',fontsize=15)\\nplt.show()\""
            ],
            "application/vnd.google.colaboratory.intrinsic+json": {
              "type": "string"
            }
          },
          "metadata": {},
          "execution_count": 139
        }
      ]
    },
    {
      "cell_type": "code",
      "source": [],
      "metadata": {
        "id": "KAdEeb9V8QvU"
      },
      "execution_count": 139,
      "outputs": []
    },
    {
      "cell_type": "markdown",
      "source": [
        "## Train-Test-Split"
      ],
      "metadata": {
        "id": "_zNa4tcq5jrB"
      }
    },
    {
      "cell_type": "code",
      "source": [
        "X_train, X_test, y_train, y_test = train_test_split(df_train.drop(columns=['prognosis']), df_train['prognosis'], test_size=0.2, random_state=30)"
      ],
      "metadata": {
        "id": "00eqgHDaB8Cx"
      },
      "execution_count": 140,
      "outputs": []
    },
    {
      "cell_type": "code",
      "source": [
        "'''dff=df_resampled.copy()\n",
        "ind_var = dff.drop(columns=['prognosis'])\n",
        "target_var = dff['prognosis']\n",
        "num = ind_var.select_dtypes(include=np.number)\n",
        "cat = ind_var.select_dtypes(include=np.object)\n",
        "LE = LabelEncoder()\n",
        "for i in cat.columns:\n",
        "    cat[i] = LE.fit_transform(cat[i].astype(str))\n",
        "    ind_var = pd.concat(objs = (num,cat),axis=1)\n",
        "#LE = LabelEncoder()\n",
        "#target_var = pd.Series(LE.fit_transform(target_var))\n",
        "\n",
        "\n",
        "X_train, X_test, y_train, y_test = train_test_split(ind_var, target_var, test_size=0.2, random_state=30)\n",
        "\n",
        "print(f\"Number of rows in train data = {X_train.shape[0]}\")\n",
        "print(f\"Number of rows in test data = {X_test.shape[0]}\")\n",
        "\n",
        "\n",
        "print(f\"Number of rows in train pred = {y_train.shape[0]}\")\n",
        "print(f\"Number of rows in test pred = {y_test.shape[0]}\")'''"
      ],
      "metadata": {
        "colab": {
          "base_uri": "https://localhost:8080/",
          "height": 107
        },
        "id": "1mxEqqfNyB-3",
        "outputId": "c3171b59-5ae8-4b80-dc2f-e751f7801095"
      },
      "execution_count": 141,
      "outputs": [
        {
          "output_type": "execute_result",
          "data": {
            "text/plain": [
              "'dff=df_resampled.copy()\\nind_var = dff.drop(columns=[\\'prognosis\\'])\\ntarget_var = dff[\\'prognosis\\']\\nnum = ind_var.select_dtypes(include=np.number)\\ncat = ind_var.select_dtypes(include=np.object)\\nLE = LabelEncoder()\\nfor i in cat.columns:\\n    cat[i] = LE.fit_transform(cat[i].astype(str))\\n    ind_var = pd.concat(objs = (num,cat),axis=1)\\n#LE = LabelEncoder()\\n#target_var = pd.Series(LE.fit_transform(target_var))\\n\\n\\nX_train, X_test, y_train, y_test = train_test_split(ind_var, target_var, test_size=0.2, random_state=30)\\n\\nprint(f\"Number of rows in train data = {X_train.shape[0]}\")\\nprint(f\"Number of rows in test data = {X_test.shape[0]}\")\\n\\n\\nprint(f\"Number of rows in train pred = {y_train.shape[0]}\")\\nprint(f\"Number of rows in test pred = {y_test.shape[0]}\")'"
            ],
            "application/vnd.google.colaboratory.intrinsic+json": {
              "type": "string"
            }
          },
          "metadata": {},
          "execution_count": 141
        }
      ]
    },
    {
      "cell_type": "code",
      "source": [
        "X_train.head(5)"
      ],
      "metadata": {
        "colab": {
          "base_uri": "https://localhost:8080/",
          "height": 331
        },
        "id": "-sguhixmxnoW",
        "outputId": "4424c6a9-eefd-45f9-b991-02fe500041fd"
      },
      "execution_count": 142,
      "outputs": [
        {
          "output_type": "execute_result",
          "data": {
            "text/plain": [
              "     sudden_fever  headache  mouth_bleed  nose_bleed  muscle_pain  joint_pain  \\\n",
              "id                                                                              \n",
              "483           1.0       0.0          1.0         1.0          0.0         0.0   \n",
              "22            1.0       0.0          0.0         1.0          1.0         0.0   \n",
              "98            1.0       0.0          0.0         1.0          1.0         0.0   \n",
              "478           0.0       1.0          0.0         0.0          0.0         1.0   \n",
              "317           1.0       1.0          0.0         1.0          1.0         0.0   \n",
              "\n",
              "     vomiting  rash  diarrhea  hypotension  ...  lymph_swells  \\\n",
              "id                                          ...                 \n",
              "483       1.0   1.0       0.0          0.0  ...           0.0   \n",
              "22        1.0   1.0       0.0          1.0  ...           0.0   \n",
              "98        0.0   0.0       0.0          1.0  ...           0.0   \n",
              "478       0.0   1.0       1.0          0.0  ...           0.0   \n",
              "317       0.0   0.0       1.0          1.0  ...           1.0   \n",
              "\n",
              "     breathing_restriction  toe_inflammation  finger_inflammation  \\\n",
              "id                                                                  \n",
              "483                    0.0               0.0                  0.0   \n",
              "22                     0.0               0.0                  0.0   \n",
              "98                     0.0               0.0                  1.0   \n",
              "478                    0.0               0.0                  0.0   \n",
              "317                    1.0               1.0                  1.0   \n",
              "\n",
              "     lips_irritation  itchiness  ulcers  toenail_loss  speech_problem  \\\n",
              "id                                                                      \n",
              "483              0.0        0.0     0.0           0.0             0.0   \n",
              "22               0.0        0.0     0.0           0.0             0.0   \n",
              "98               0.0        0.0     1.0           0.0             0.0   \n",
              "478              0.0        0.0     0.0           0.0             0.0   \n",
              "317              1.0        0.0     0.0           0.0             0.0   \n",
              "\n",
              "     bullseye_rash  \n",
              "id                  \n",
              "483            0.0  \n",
              "22             0.0  \n",
              "98             0.0  \n",
              "478            0.0  \n",
              "317            0.0  \n",
              "\n",
              "[5 rows x 64 columns]"
            ],
            "text/html": [
              "\n",
              "  <div id=\"df-2550ec95-e2f8-4e11-ab74-5b4ae73b8781\">\n",
              "    <div class=\"colab-df-container\">\n",
              "      <div>\n",
              "<style scoped>\n",
              "    .dataframe tbody tr th:only-of-type {\n",
              "        vertical-align: middle;\n",
              "    }\n",
              "\n",
              "    .dataframe tbody tr th {\n",
              "        vertical-align: top;\n",
              "    }\n",
              "\n",
              "    .dataframe thead th {\n",
              "        text-align: right;\n",
              "    }\n",
              "</style>\n",
              "<table border=\"1\" class=\"dataframe\">\n",
              "  <thead>\n",
              "    <tr style=\"text-align: right;\">\n",
              "      <th></th>\n",
              "      <th>sudden_fever</th>\n",
              "      <th>headache</th>\n",
              "      <th>mouth_bleed</th>\n",
              "      <th>nose_bleed</th>\n",
              "      <th>muscle_pain</th>\n",
              "      <th>joint_pain</th>\n",
              "      <th>vomiting</th>\n",
              "      <th>rash</th>\n",
              "      <th>diarrhea</th>\n",
              "      <th>hypotension</th>\n",
              "      <th>...</th>\n",
              "      <th>lymph_swells</th>\n",
              "      <th>breathing_restriction</th>\n",
              "      <th>toe_inflammation</th>\n",
              "      <th>finger_inflammation</th>\n",
              "      <th>lips_irritation</th>\n",
              "      <th>itchiness</th>\n",
              "      <th>ulcers</th>\n",
              "      <th>toenail_loss</th>\n",
              "      <th>speech_problem</th>\n",
              "      <th>bullseye_rash</th>\n",
              "    </tr>\n",
              "    <tr>\n",
              "      <th>id</th>\n",
              "      <th></th>\n",
              "      <th></th>\n",
              "      <th></th>\n",
              "      <th></th>\n",
              "      <th></th>\n",
              "      <th></th>\n",
              "      <th></th>\n",
              "      <th></th>\n",
              "      <th></th>\n",
              "      <th></th>\n",
              "      <th></th>\n",
              "      <th></th>\n",
              "      <th></th>\n",
              "      <th></th>\n",
              "      <th></th>\n",
              "      <th></th>\n",
              "      <th></th>\n",
              "      <th></th>\n",
              "      <th></th>\n",
              "      <th></th>\n",
              "      <th></th>\n",
              "    </tr>\n",
              "  </thead>\n",
              "  <tbody>\n",
              "    <tr>\n",
              "      <th>483</th>\n",
              "      <td>1.0</td>\n",
              "      <td>0.0</td>\n",
              "      <td>1.0</td>\n",
              "      <td>1.0</td>\n",
              "      <td>0.0</td>\n",
              "      <td>0.0</td>\n",
              "      <td>1.0</td>\n",
              "      <td>1.0</td>\n",
              "      <td>0.0</td>\n",
              "      <td>0.0</td>\n",
              "      <td>...</td>\n",
              "      <td>0.0</td>\n",
              "      <td>0.0</td>\n",
              "      <td>0.0</td>\n",
              "      <td>0.0</td>\n",
              "      <td>0.0</td>\n",
              "      <td>0.0</td>\n",
              "      <td>0.0</td>\n",
              "      <td>0.0</td>\n",
              "      <td>0.0</td>\n",
              "      <td>0.0</td>\n",
              "    </tr>\n",
              "    <tr>\n",
              "      <th>22</th>\n",
              "      <td>1.0</td>\n",
              "      <td>0.0</td>\n",
              "      <td>0.0</td>\n",
              "      <td>1.0</td>\n",
              "      <td>1.0</td>\n",
              "      <td>0.0</td>\n",
              "      <td>1.0</td>\n",
              "      <td>1.0</td>\n",
              "      <td>0.0</td>\n",
              "      <td>1.0</td>\n",
              "      <td>...</td>\n",
              "      <td>0.0</td>\n",
              "      <td>0.0</td>\n",
              "      <td>0.0</td>\n",
              "      <td>0.0</td>\n",
              "      <td>0.0</td>\n",
              "      <td>0.0</td>\n",
              "      <td>0.0</td>\n",
              "      <td>0.0</td>\n",
              "      <td>0.0</td>\n",
              "      <td>0.0</td>\n",
              "    </tr>\n",
              "    <tr>\n",
              "      <th>98</th>\n",
              "      <td>1.0</td>\n",
              "      <td>0.0</td>\n",
              "      <td>0.0</td>\n",
              "      <td>1.0</td>\n",
              "      <td>1.0</td>\n",
              "      <td>0.0</td>\n",
              "      <td>0.0</td>\n",
              "      <td>0.0</td>\n",
              "      <td>0.0</td>\n",
              "      <td>1.0</td>\n",
              "      <td>...</td>\n",
              "      <td>0.0</td>\n",
              "      <td>0.0</td>\n",
              "      <td>0.0</td>\n",
              "      <td>1.0</td>\n",
              "      <td>0.0</td>\n",
              "      <td>0.0</td>\n",
              "      <td>1.0</td>\n",
              "      <td>0.0</td>\n",
              "      <td>0.0</td>\n",
              "      <td>0.0</td>\n",
              "    </tr>\n",
              "    <tr>\n",
              "      <th>478</th>\n",
              "      <td>0.0</td>\n",
              "      <td>1.0</td>\n",
              "      <td>0.0</td>\n",
              "      <td>0.0</td>\n",
              "      <td>0.0</td>\n",
              "      <td>1.0</td>\n",
              "      <td>0.0</td>\n",
              "      <td>1.0</td>\n",
              "      <td>1.0</td>\n",
              "      <td>0.0</td>\n",
              "      <td>...</td>\n",
              "      <td>0.0</td>\n",
              "      <td>0.0</td>\n",
              "      <td>0.0</td>\n",
              "      <td>0.0</td>\n",
              "      <td>0.0</td>\n",
              "      <td>0.0</td>\n",
              "      <td>0.0</td>\n",
              "      <td>0.0</td>\n",
              "      <td>0.0</td>\n",
              "      <td>0.0</td>\n",
              "    </tr>\n",
              "    <tr>\n",
              "      <th>317</th>\n",
              "      <td>1.0</td>\n",
              "      <td>1.0</td>\n",
              "      <td>0.0</td>\n",
              "      <td>1.0</td>\n",
              "      <td>1.0</td>\n",
              "      <td>0.0</td>\n",
              "      <td>0.0</td>\n",
              "      <td>0.0</td>\n",
              "      <td>1.0</td>\n",
              "      <td>1.0</td>\n",
              "      <td>...</td>\n",
              "      <td>1.0</td>\n",
              "      <td>1.0</td>\n",
              "      <td>1.0</td>\n",
              "      <td>1.0</td>\n",
              "      <td>1.0</td>\n",
              "      <td>0.0</td>\n",
              "      <td>0.0</td>\n",
              "      <td>0.0</td>\n",
              "      <td>0.0</td>\n",
              "      <td>0.0</td>\n",
              "    </tr>\n",
              "  </tbody>\n",
              "</table>\n",
              "<p>5 rows × 64 columns</p>\n",
              "</div>\n",
              "      <button class=\"colab-df-convert\" onclick=\"convertToInteractive('df-2550ec95-e2f8-4e11-ab74-5b4ae73b8781')\"\n",
              "              title=\"Convert this dataframe to an interactive table.\"\n",
              "              style=\"display:none;\">\n",
              "        \n",
              "  <svg xmlns=\"http://www.w3.org/2000/svg\" height=\"24px\"viewBox=\"0 0 24 24\"\n",
              "       width=\"24px\">\n",
              "    <path d=\"M0 0h24v24H0V0z\" fill=\"none\"/>\n",
              "    <path d=\"M18.56 5.44l.94 2.06.94-2.06 2.06-.94-2.06-.94-.94-2.06-.94 2.06-2.06.94zm-11 1L8.5 8.5l.94-2.06 2.06-.94-2.06-.94L8.5 2.5l-.94 2.06-2.06.94zm10 10l.94 2.06.94-2.06 2.06-.94-2.06-.94-.94-2.06-.94 2.06-2.06.94z\"/><path d=\"M17.41 7.96l-1.37-1.37c-.4-.4-.92-.59-1.43-.59-.52 0-1.04.2-1.43.59L10.3 9.45l-7.72 7.72c-.78.78-.78 2.05 0 2.83L4 21.41c.39.39.9.59 1.41.59.51 0 1.02-.2 1.41-.59l7.78-7.78 2.81-2.81c.8-.78.8-2.07 0-2.86zM5.41 20L4 18.59l7.72-7.72 1.47 1.35L5.41 20z\"/>\n",
              "  </svg>\n",
              "      </button>\n",
              "      \n",
              "  <style>\n",
              "    .colab-df-container {\n",
              "      display:flex;\n",
              "      flex-wrap:wrap;\n",
              "      gap: 12px;\n",
              "    }\n",
              "\n",
              "    .colab-df-convert {\n",
              "      background-color: #E8F0FE;\n",
              "      border: none;\n",
              "      border-radius: 50%;\n",
              "      cursor: pointer;\n",
              "      display: none;\n",
              "      fill: #1967D2;\n",
              "      height: 32px;\n",
              "      padding: 0 0 0 0;\n",
              "      width: 32px;\n",
              "    }\n",
              "\n",
              "    .colab-df-convert:hover {\n",
              "      background-color: #E2EBFA;\n",
              "      box-shadow: 0px 1px 2px rgba(60, 64, 67, 0.3), 0px 1px 3px 1px rgba(60, 64, 67, 0.15);\n",
              "      fill: #174EA6;\n",
              "    }\n",
              "\n",
              "    [theme=dark] .colab-df-convert {\n",
              "      background-color: #3B4455;\n",
              "      fill: #D2E3FC;\n",
              "    }\n",
              "\n",
              "    [theme=dark] .colab-df-convert:hover {\n",
              "      background-color: #434B5C;\n",
              "      box-shadow: 0px 1px 3px 1px rgba(0, 0, 0, 0.15);\n",
              "      filter: drop-shadow(0px 1px 2px rgba(0, 0, 0, 0.3));\n",
              "      fill: #FFFFFF;\n",
              "    }\n",
              "  </style>\n",
              "\n",
              "      <script>\n",
              "        const buttonEl =\n",
              "          document.querySelector('#df-2550ec95-e2f8-4e11-ab74-5b4ae73b8781 button.colab-df-convert');\n",
              "        buttonEl.style.display =\n",
              "          google.colab.kernel.accessAllowed ? 'block' : 'none';\n",
              "\n",
              "        async function convertToInteractive(key) {\n",
              "          const element = document.querySelector('#df-2550ec95-e2f8-4e11-ab74-5b4ae73b8781');\n",
              "          const dataTable =\n",
              "            await google.colab.kernel.invokeFunction('convertToInteractive',\n",
              "                                                     [key], {});\n",
              "          if (!dataTable) return;\n",
              "\n",
              "          const docLinkHtml = 'Like what you see? Visit the ' +\n",
              "            '<a target=\"_blank\" href=https://colab.research.google.com/notebooks/data_table.ipynb>data table notebook</a>'\n",
              "            + ' to learn more about interactive tables.';\n",
              "          element.innerHTML = '';\n",
              "          dataTable['output_type'] = 'display_data';\n",
              "          await google.colab.output.renderOutput(dataTable, element);\n",
              "          const docLink = document.createElement('div');\n",
              "          docLink.innerHTML = docLinkHtml;\n",
              "          element.appendChild(docLink);\n",
              "        }\n",
              "      </script>\n",
              "    </div>\n",
              "  </div>\n",
              "  "
            ]
          },
          "metadata": {},
          "execution_count": 142
        }
      ]
    },
    {
      "cell_type": "code",
      "source": [],
      "metadata": {
        "id": "2eUugI9IBAt5"
      },
      "execution_count": 142,
      "outputs": []
    },
    {
      "cell_type": "code",
      "source": [
        "y_train.head(2)"
      ],
      "metadata": {
        "colab": {
          "base_uri": "https://localhost:8080/"
        },
        "id": "tAjK0qrTxnvp",
        "outputId": "7316d303-187d-4f32-b9ac-a7a6b18a3bdb"
      },
      "execution_count": 143,
      "outputs": [
        {
          "output_type": "execute_result",
          "data": {
            "text/plain": [
              "id\n",
              "483    7.0\n",
              "22     5.0\n",
              "Name: prognosis, dtype: float64"
            ]
          },
          "metadata": {},
          "execution_count": 143
        }
      ]
    },
    {
      "cell_type": "markdown",
      "source": [
        "### Simple Logistic Regression"
      ],
      "metadata": {
        "id": "kWnSecfHY3za"
      }
    },
    {
      "cell_type": "code",
      "source": [],
      "metadata": {
        "id": "gBJDcKvakE1u"
      },
      "execution_count": 143,
      "outputs": []
    },
    {
      "cell_type": "code",
      "source": [
        "#train a simple LogisticRegression model on our training split\n",
        "logistic_model = LogisticRegression()\n",
        "logistic_model.fit(X_train, y_train)\n",
        "\n",
        "# Normally logistic_model.predict would just predict the most likely prognosis, but with predict_proba we can get probabilities for all possible prognoses.\n",
        "predictions = logistic_model.predict_proba(X_test)"
      ],
      "metadata": {
        "id": "LGym2f294eQp"
      },
      "execution_count": 144,
      "outputs": []
    },
    {
      "cell_type": "code",
      "source": [
        "# Lets take a look at getting our top 3 prognoses for just a single prediction first\n",
        "print(\"Output of predict_proba:\")\n",
        "print(predictions[0])"
      ],
      "metadata": {
        "colab": {
          "base_uri": "https://localhost:8080/"
        },
        "id": "ya2gFxNV5ceJ",
        "outputId": "399b18f4-4be8-4006-9516-8112182195eb"
      },
      "execution_count": 145,
      "outputs": [
        {
          "output_type": "stream",
          "name": "stdout",
          "text": [
            "Output of predict_proba:\n",
            "[1.04283414e-02 3.75378977e-05 7.08246405e-01 1.83113133e-01\n",
            " 9.96650945e-03 3.59847385e-02 2.03999849e-02 3.71478600e-03\n",
            " 1.08871647e-02 1.39178480e-02 3.30355056e-03]\n"
          ]
        }
      ]
    },
    {
      "cell_type": "code",
      "source": [
        "# We can get the indices of the highest probabilities with argsort\n",
        "sorted_prediction_ids = np.argsort(-predictions[0]) # Note argsort sorts in ascending order, but by making all our values negative we'll end up with the highest probabilities first\n",
        "print(\"Indices sorted by probabilities:\")\n",
        "print(sorted_prediction_ids)\n",
        "# 2 is our first id, and the probability at index 2 from predictions[0] is the highest (0.28140433)"
      ],
      "metadata": {
        "colab": {
          "base_uri": "https://localhost:8080/"
        },
        "id": "lEOiLER052ri",
        "outputId": "5c9da9ce-955f-4422-d8e6-9a4532ffe391"
      },
      "execution_count": 146,
      "outputs": [
        {
          "output_type": "stream",
          "name": "stdout",
          "text": [
            "Indices sorted by probabilities:\n",
            "[ 2  3  5  6  9  8  0  4  7 10  1]\n"
          ]
        }
      ]
    },
    {
      "cell_type": "code",
      "source": [
        "# We can grab the top 3 predictions and then use our encoder to turn them back into string labels\n",
        "top_3_prediction_ids = sorted_prediction_ids[:3]\n",
        "top_3_predictions = encoder.inverse_transform(top_3_prediction_ids.reshape(-1, 1)) # inverse_transform expects a 2D array, so we reshape our vector (but this won't be necessary when we run on multiple predictions at once)\n",
        "top_3_predictions\n",
        "# We got a list of 3 predictions!!"
      ],
      "metadata": {
        "colab": {
          "base_uri": "https://localhost:8080/"
        },
        "id": "eiqPdzrs5e-b",
        "outputId": "ac451d58-cae2-4bd4-b3af-c3db5fa61fd3"
      },
      "execution_count": 147,
      "outputs": [
        {
          "output_type": "execute_result",
          "data": {
            "text/plain": [
              "array([['Chikungunya'],\n",
              "       ['Dengue'],\n",
              "       ['West_Nile_fever']], dtype=object)"
            ]
          },
          "metadata": {},
          "execution_count": 147
        }
      ]
    },
    {
      "cell_type": "code",
      "source": [
        "'''# Lets take a look at getting our top 3 prognoses for just a single prediction first\n",
        "print(\"Output of predict_proba:\")\n",
        "print(top_3_predictions[0])'''"
      ],
      "metadata": {
        "colab": {
          "base_uri": "https://localhost:8080/",
          "height": 35
        },
        "id": "U8NP26zM5fBI",
        "outputId": "0a71daa5-3c22-4de1-954e-aea0a49b2369"
      },
      "execution_count": 148,
      "outputs": [
        {
          "output_type": "execute_result",
          "data": {
            "text/plain": [
              "'# Lets take a look at getting our top 3 prognoses for just a single prediction first\\nprint(\"Output of predict_proba:\")\\nprint(top_3_predictions[0])'"
            ],
            "application/vnd.google.colaboratory.intrinsic+json": {
              "type": "string"
            }
          },
          "metadata": {},
          "execution_count": 148
        }
      ]
    },
    {
      "cell_type": "markdown",
      "source": [
        "## Generating Top K for a single row"
      ],
      "metadata": {
        "id": "sPXm8g-m78_H"
      }
    },
    {
      "cell_type": "code",
      "source": [
        "## Function for calculating score\n",
        "\n",
        "\n",
        "# Sourced from the ml_metrics package at https://github.com/benhamner/Metrics/blob/master/Python/ml_metrics/average_precision.py\n",
        "import numpy as np\n",
        "\n",
        "def apk(actual, predicted, k=10):\n",
        "    \"\"\"\n",
        "    Computes the average precision at k.\n",
        "    This function computes the average prescision at k between two lists of\n",
        "    items.\n",
        "    Parameters\n",
        "    ----------\n",
        "    actual : list\n",
        "             A list of elements that are to be predicted (order doesn't matter)\n",
        "    predicted : list\n",
        "                A list of predicted elements (order does matter)\n",
        "    k : int, optional\n",
        "        The maximum number of predicted elements\n",
        "    Returns\n",
        "    -------\n",
        "    score : double\n",
        "            The average precision at k over the input lists\n",
        "    \"\"\"\n",
        "    if len(predicted)>k:\n",
        "        predicted = predicted[:k]\n",
        "\n",
        "    score = 0.0\n",
        "    num_hits = 0.0\n",
        "\n",
        "    for i,p in enumerate(predicted):\n",
        "        if p in actual and p not in predicted[:i]:\n",
        "            num_hits += 1.0\n",
        "            score += num_hits / (i+1.0)\n",
        "\n",
        "    if not actual:\n",
        "        return 0.0\n",
        "\n",
        "    return score / min(len(actual), k)\n",
        "\n",
        "def mapk(actual, predicted, k=10):\n",
        "    \"\"\"\n",
        "    Computes the mean average precision at k.\n",
        "    This function computes the mean average prescision at k between two lists\n",
        "    of lists of items.\n",
        "    Parameters\n",
        "    ----------\n",
        "    actual : list\n",
        "             A list of lists of elements that are to be predicted \n",
        "             (order doesn't matter in the lists)\n",
        "    predicted : list\n",
        "                A list of lists of predicted elements\n",
        "                (order matters in the lists)\n",
        "    k : int, optional\n",
        "        The maximum number of predicted elements\n",
        "    Returns\n",
        "    -------\n",
        "    score : double\n",
        "            The mean average precision at k over the input lists\n",
        "    \"\"\"\n",
        "    return np.mean([apk(a,p,k) for a,p in zip(actual, predicted)])\n",
        "    "
      ],
      "metadata": {
        "id": "_FvaMcGI8NDV"
      },
      "execution_count": 149,
      "outputs": []
    },
    {
      "cell_type": "code",
      "source": [
        "def get_test_scores(model,proba,X_test,y_test):\n",
        "    pred = model.predict(X_test)\n",
        "    scores = {'Accuracy':round(accuracy_score(y_test,pred),2),\n",
        "              'Precision':round(precision_score(y_test,pred,average='macro'),2),\n",
        "              'Recall':round(recall_score(y_test,pred,average='macro'),2),\n",
        "              'f1-Score':round(f1_score(y_test,pred,average='macro'),2),\n",
        "              'Kappa Score': round(cohen_kappa_score(y_test,pred),2),\n",
        "              #'ROC-AUC Socre':round(roc_auc_score(y_test,proba),2)\n",
        "             }\n",
        "    return scores\n",
        "\n",
        "def get_train_scores(train_model,proba,X_train,y_train):\n",
        "    pred = train_model.predict(X_train)\n",
        "    \n",
        "    scores = {'Accuracy':round(accuracy_score(y_train,pred),2),\n",
        "              'Precision':round(precision_score(y_train,pred,average='macro'),2),\n",
        "              'Recall':round(recall_score(y_train,pred,average='macro'),2),\n",
        "              'f1-Score':round(f1_score(y_train,pred,average='macro'),2),\n",
        "              'Kappa Score': round(cohen_kappa_score(y_train,pred),2),\n",
        "              #'ROC-AUC Socre':round(roc_auc_score(y_train,proba),2)\n",
        "             }\n",
        "    return scores"
      ],
      "metadata": {
        "id": "4DpevpyWlvps"
      },
      "execution_count": 150,
      "outputs": []
    },
    {
      "cell_type": "code",
      "source": [
        "from sklearn.metrics import accuracy_score, confusion_matrix, classification_report\n",
        "\n",
        "def print_score(clf, X_train, y_train, X_test, y_test, train=True):\n",
        "    if train:\n",
        "        pred = clf.predict(X_train)\n",
        "        clf_report = pd.DataFrame(classification_report(y_train, pred, output_dict=True))\n",
        "        print(\"Train Result:\\n================================================\")\n",
        "        print(f\"Accuracy Score: {accuracy_score(y_train, pred) * 100:.2f}%\")\n",
        "        print(\"_______________________________________________\")\n",
        "        print(f\"CLASSIFICATION REPORT:\\n{clf_report}\")\n",
        "        print(\"_______________________________________________\")\n",
        "        print(f\"Confusion Matrix: \\n {confusion_matrix(y_train, pred)}\\n\")\n",
        "        \n",
        "    elif train==False:\n",
        "        pred = clf.predict(X_test)\n",
        "        clf_report = pd.DataFrame(classification_report(y_test, pred, output_dict=True))\n",
        "        print(\"Test Result:\\n================================================\")        \n",
        "        print(f\"Accuracy Score: {accuracy_score(y_test, pred) * 100:.2f}%\")\n",
        "        print(\"_______________________________________________\")\n",
        "        print(f\"CLASSIFICATION REPORT:\\n{clf_report}\")\n",
        "        print(\"_______________________________________________\")\n",
        "        print(f\"Confusion Matrix: \\n {confusion_matrix(y_test, pred)}\\n\")"
      ],
      "metadata": {
        "id": "Hg2MaKQMe1Ra"
      },
      "execution_count": 151,
      "outputs": []
    },
    {
      "cell_type": "code",
      "source": [
        "# We can get the indices of the highest probabilities with argsort\n",
        "sorted_prediction_ids = np.argsort(-predictions[0]) # Note argsort sorts in ascending order, but by making all our values negative we'll end up with the highest probabilities first\n",
        "print(\"Indices sorted by probabilities:\")\n",
        "print(sorted_prediction_ids)\n",
        "# 2 is our first id, and the probability at index 2 from predictions[0] is the highest (0.28140433)\n"
      ],
      "metadata": {
        "colab": {
          "base_uri": "https://localhost:8080/"
        },
        "id": "ZVKjXznsF1Em",
        "outputId": "f3f107d4-dd1b-4dba-bd56-fb76853eb0f4"
      },
      "execution_count": 152,
      "outputs": [
        {
          "output_type": "stream",
          "name": "stdout",
          "text": [
            "Indices sorted by probabilities:\n",
            "[ 2  3  5  6  9  8  0  4  7 10  1]\n"
          ]
        }
      ]
    },
    {
      "cell_type": "code",
      "source": [
        "# We can grab the top 3 predictions and then use our encoder to turn them back into string labels\n",
        "top_3_prediction_ids = sorted_prediction_ids[:3]\n",
        "top_3_predictions = encoder.inverse_transform(top_3_prediction_ids.reshape(-1, 1)) # inverse_transform expects a 2D array, so we reshape our vector (but this won't be necessary when we run on multiple predictions at once)\n",
        "top_3_predictions\n",
        "# We got a list of 3 predictions! Great!"
      ],
      "metadata": {
        "colab": {
          "base_uri": "https://localhost:8080/"
        },
        "id": "C6gSCbgR7n8E",
        "outputId": "1befc84d-435a-4e4c-fa4b-e81adad1132b"
      },
      "execution_count": 153,
      "outputs": [
        {
          "output_type": "execute_result",
          "data": {
            "text/plain": [
              "array([['Chikungunya'],\n",
              "       ['Dengue'],\n",
              "       ['West_Nile_fever']], dtype=object)"
            ]
          },
          "metadata": {},
          "execution_count": 153
        }
      ]
    },
    {
      "cell_type": "code",
      "source": [
        "# Now let's look at doing the above for a whole set of predictions at once:\n",
        "sorted_prediction_ids = np.argsort(-predictions, axis=1)\n",
        "top_3_prediction_ids = sorted_prediction_ids[:,:3]\n",
        "\n",
        "# Because enc.inverse_transform expects a specific shape (a 2D array with 1 column) we can save the original shape to reshape to after decoding\n",
        "original_shape = top_3_prediction_ids.shape\n",
        "top_3_predictions = encoder.inverse_transform(top_3_prediction_ids.reshape(-1, 1))\n",
        "top_3_predictions = top_3_predictions.reshape(original_shape)\n",
        "top_3_predictions[:10] # Spot check our first 10 values"
      ],
      "metadata": {
        "colab": {
          "base_uri": "https://localhost:8080/"
        },
        "id": "PuUZ28BL8Cns",
        "outputId": "449dd7e7-e95f-496f-dc9d-57ee30df1e9f"
      },
      "execution_count": 154,
      "outputs": [
        {
          "output_type": "execute_result",
          "data": {
            "text/plain": [
              "array([['Chikungunya', 'Dengue', 'West_Nile_fever'],\n",
              "       ['Malaria', 'Yellow_Fever', 'Plague'],\n",
              "       ['Zika', 'Malaria', 'Dengue'],\n",
              "       ['Plague', 'Malaria', 'Lyme_disease'],\n",
              "       ['West_Nile_fever', 'Japanese_encephalitis', 'Malaria'],\n",
              "       ['Zika', 'West_Nile_fever', 'Yellow_Fever'],\n",
              "       ['Zika', 'Japanese_encephalitis', 'West_Nile_fever'],\n",
              "       ['Dengue', 'Chikungunya', 'Rift_Valley_fever'],\n",
              "       ['Plague', 'Zika', 'Japanese_encephalitis'],\n",
              "       ['Japanese_encephalitis', 'Tungiasis', 'Malaria']], dtype=object)"
            ]
          },
          "metadata": {},
          "execution_count": 154
        }
      ]
    },
    {
      "cell_type": "code",
      "source": [],
      "metadata": {
        "id": "_M0lZzxLkrTn"
      },
      "execution_count": 154,
      "outputs": []
    },
    {
      "cell_type": "code",
      "source": [
        "# Our MAP@K score here is ~0.3456\n",
        "mapk(y_test.values.reshape(-1, 1), top_3_prediction_ids, k=3)"
      ],
      "metadata": {
        "colab": {
          "base_uri": "https://localhost:8080/"
        },
        "id": "ewJaFU9E8G2l",
        "outputId": "d12f66d4-53b0-4887-f248-52877142f679"
      },
      "execution_count": 155,
      "outputs": [
        {
          "output_type": "execute_result",
          "data": {
            "text/plain": [
              "0.3145539906103286"
            ]
          },
          "metadata": {},
          "execution_count": 155
        }
      ]
    },
    {
      "cell_type": "code",
      "source": [
        "#log_base_model=LogisticRegression()\n",
        "#log_base_model.fit(X_train,y_train)\n",
        "baselog_predict = logistic_model.predict(X_test)\n",
        "cm = confusion_matrix(y_test,baselog_predict)\n",
        "plt.figure(figsize=(10,10))\n",
        "sns.heatmap(cm,annot=True,cbar = False,linewidths = 0.1, annot_kws = {'size':11},fmt='d')\n",
        "plt.show()"
      ],
      "metadata": {
        "colab": {
          "base_uri": "https://localhost:8080/",
          "height": 801
        },
        "id": "xYzNoc7TfYY9",
        "outputId": "ba2de6d8-adc8-4ed3-c6e7-d70e0ce41bd8"
      },
      "execution_count": 156,
      "outputs": [
        {
          "output_type": "display_data",
          "data": {
            "text/plain": [
              "<Figure size 1000x1000 with 1 Axes>"
            ],
            "image/svg+xml": "<?xml version=\"1.0\" encoding=\"utf-8\" standalone=\"no\"?>\n<!DOCTYPE svg PUBLIC \"-//W3C//DTD SVG 1.1//EN\"\n  \"http://www.w3.org/Graphics/SVG/1.1/DTD/svg11.dtd\">\n<svg xmlns:xlink=\"http://www.w3.org/1999/xlink\" width=\"589.078125pt\" height=\"585.478125pt\" viewBox=\"0 0 589.078125 585.478125\" xmlns=\"http://www.w3.org/2000/svg\" version=\"1.1\">\n <metadata>\n  <rdf:RDF xmlns:dc=\"http://purl.org/dc/elements/1.1/\" xmlns:cc=\"http://creativecommons.org/ns#\" xmlns:rdf=\"http://www.w3.org/1999/02/22-rdf-syntax-ns#\">\n   <cc:Work>\n    <dc:type rdf:resource=\"http://purl.org/dc/dcmitype/StillImage\"/>\n    <dc:date>2023-05-01T14:09:34.685883</dc:date>\n    <dc:format>image/svg+xml</dc:format>\n    <dc:creator>\n     <cc:Agent>\n      <dc:title>Matplotlib v3.7.1, https://matplotlib.org/</dc:title>\n     </cc:Agent>\n    </dc:creator>\n   </cc:Work>\n  </rdf:RDF>\n </metadata>\n <defs>\n  <style type=\"text/css\">*{stroke-linejoin: round; stroke-linecap: butt}</style>\n </defs>\n <g id=\"figure_1\">\n  <g id=\"patch_1\">\n   <path d=\"M 0 585.478125 \nL 589.078125 585.478125 \nL 589.078125 0 \nL 0 0 \nz\n\" style=\"fill: #ffffff\"/>\n  </g>\n  <g id=\"axes_1\">\n   <g id=\"patch_2\">\n    <path d=\"M 23.878125 561.6 \nL 581.878125 561.6 \nL 581.878125 7.2 \nL 23.878125 7.2 \nz\n\" style=\"fill: #ffffff\"/>\n   </g>\n   <g id=\"QuadMesh_1\">\n    <path d=\"M 23.878125 7.2 \nL 74.605398 7.2 \nL 74.605398 57.6 \nL 23.878125 57.6 \nL 23.878125 7.2 \n\" clip-path=\"url(#p76e2cc7f61)\" style=\"fill: #b91657; stroke: #ffffff; stroke-width: 0.1\"/>\n    <path d=\"M 74.605398 7.2 \nL 125.33267 7.2 \nL 125.33267 57.6 \nL 74.605398 57.6 \nL 74.605398 7.2 \n\" clip-path=\"url(#p76e2cc7f61)\" style=\"fill: #03051a; stroke: #ffffff; stroke-width: 0.1\"/>\n    <path d=\"M 125.33267 7.2 \nL 176.059943 7.2 \nL 176.059943 57.6 \nL 125.33267 57.6 \nL 125.33267 7.2 \n\" clip-path=\"url(#p76e2cc7f61)\" style=\"fill: #03051a; stroke: #ffffff; stroke-width: 0.1\"/>\n    <path d=\"M 176.059943 7.2 \nL 226.787216 7.2 \nL 226.787216 57.6 \nL 176.059943 57.6 \nL 176.059943 7.2 \n\" clip-path=\"url(#p76e2cc7f61)\" style=\"fill: #03051a; stroke: #ffffff; stroke-width: 0.1\"/>\n    <path d=\"M 226.787216 7.2 \nL 277.514489 7.2 \nL 277.514489 57.6 \nL 226.787216 57.6 \nL 226.787216 7.2 \n\" clip-path=\"url(#p76e2cc7f61)\" style=\"fill: #221331; stroke: #ffffff; stroke-width: 0.1\"/>\n    <path d=\"M 277.514489 7.2 \nL 328.241761 7.2 \nL 328.241761 57.6 \nL 277.514489 57.6 \nL 277.514489 7.2 \n\" clip-path=\"url(#p76e2cc7f61)\" style=\"fill: #451c47; stroke: #ffffff; stroke-width: 0.1\"/>\n    <path d=\"M 328.241761 7.2 \nL 378.969034 7.2 \nL 378.969034 57.6 \nL 328.241761 57.6 \nL 328.241761 7.2 \n\" clip-path=\"url(#p76e2cc7f61)\" style=\"fill: #691f55; stroke: #ffffff; stroke-width: 0.1\"/>\n    <path d=\"M 378.969034 7.2 \nL 429.696307 7.2 \nL 429.696307 57.6 \nL 378.969034 57.6 \nL 378.969034 7.2 \n\" clip-path=\"url(#p76e2cc7f61)\" style=\"fill: #03051a; stroke: #ffffff; stroke-width: 0.1\"/>\n    <path d=\"M 429.696307 7.2 \nL 480.42358 7.2 \nL 480.42358 57.6 \nL 429.696307 57.6 \nL 429.696307 7.2 \n\" clip-path=\"url(#p76e2cc7f61)\" style=\"fill: #03051a; stroke: #ffffff; stroke-width: 0.1\"/>\n    <path d=\"M 480.42358 7.2 \nL 531.150852 7.2 \nL 531.150852 57.6 \nL 480.42358 57.6 \nL 480.42358 7.2 \n\" clip-path=\"url(#p76e2cc7f61)\" style=\"fill: #03051a; stroke: #ffffff; stroke-width: 0.1\"/>\n    <path d=\"M 531.150852 7.2 \nL 581.878125 7.2 \nL 581.878125 57.6 \nL 531.150852 57.6 \nL 531.150852 7.2 \n\" clip-path=\"url(#p76e2cc7f61)\" style=\"fill: #221331; stroke: #ffffff; stroke-width: 0.1\"/>\n    <path d=\"M 23.878125 57.6 \nL 74.605398 57.6 \nL 74.605398 108 \nL 23.878125 108 \nL 23.878125 57.6 \n\" clip-path=\"url(#p76e2cc7f61)\" style=\"fill: #03051a; stroke: #ffffff; stroke-width: 0.1\"/>\n    <path d=\"M 74.605398 57.6 \nL 125.33267 57.6 \nL 125.33267 108 \nL 74.605398 108 \nL 74.605398 57.6 \n\" clip-path=\"url(#p76e2cc7f61)\" style=\"fill: #451c47; stroke: #ffffff; stroke-width: 0.1\"/>\n    <path d=\"M 125.33267 57.6 \nL 176.059943 57.6 \nL 176.059943 108 \nL 125.33267 108 \nL 125.33267 57.6 \n\" clip-path=\"url(#p76e2cc7f61)\" style=\"fill: #03051a; stroke: #ffffff; stroke-width: 0.1\"/>\n    <path d=\"M 176.059943 57.6 \nL 226.787216 57.6 \nL 226.787216 108 \nL 176.059943 108 \nL 176.059943 57.6 \n\" clip-path=\"url(#p76e2cc7f61)\" style=\"fill: #221331; stroke: #ffffff; stroke-width: 0.1\"/>\n    <path d=\"M 226.787216 57.6 \nL 277.514489 57.6 \nL 277.514489 108 \nL 226.787216 108 \nL 226.787216 57.6 \n\" clip-path=\"url(#p76e2cc7f61)\" style=\"fill: #221331; stroke: #ffffff; stroke-width: 0.1\"/>\n    <path d=\"M 277.514489 57.6 \nL 328.241761 57.6 \nL 328.241761 108 \nL 277.514489 108 \nL 277.514489 57.6 \n\" clip-path=\"url(#p76e2cc7f61)\" style=\"fill: #03051a; stroke: #ffffff; stroke-width: 0.1\"/>\n    <path d=\"M 328.241761 57.6 \nL 378.969034 57.6 \nL 378.969034 108 \nL 328.241761 108 \nL 328.241761 57.6 \n\" clip-path=\"url(#p76e2cc7f61)\" style=\"fill: #221331; stroke: #ffffff; stroke-width: 0.1\"/>\n    <path d=\"M 378.969034 57.6 \nL 429.696307 57.6 \nL 429.696307 108 \nL 378.969034 108 \nL 378.969034 57.6 \n\" clip-path=\"url(#p76e2cc7f61)\" style=\"fill: #03051a; stroke: #ffffff; stroke-width: 0.1\"/>\n    <path d=\"M 429.696307 57.6 \nL 480.42358 57.6 \nL 480.42358 108 \nL 429.696307 108 \nL 429.696307 57.6 \n\" clip-path=\"url(#p76e2cc7f61)\" style=\"fill: #03051a; stroke: #ffffff; stroke-width: 0.1\"/>\n    <path d=\"M 480.42358 57.6 \nL 531.150852 57.6 \nL 531.150852 108 \nL 480.42358 108 \nL 480.42358 57.6 \n\" clip-path=\"url(#p76e2cc7f61)\" style=\"fill: #03051a; stroke: #ffffff; stroke-width: 0.1\"/>\n    <path d=\"M 531.150852 57.6 \nL 581.878125 57.6 \nL 581.878125 108 \nL 531.150852 108 \nL 531.150852 57.6 \n\" clip-path=\"url(#p76e2cc7f61)\" style=\"fill: #221331; stroke: #ffffff; stroke-width: 0.1\"/>\n    <path d=\"M 23.878125 108 \nL 74.605398 108 \nL 74.605398 158.4 \nL 23.878125 158.4 \nL 23.878125 108 \n\" clip-path=\"url(#p76e2cc7f61)\" style=\"fill: #03051a; stroke: #ffffff; stroke-width: 0.1\"/>\n    <path d=\"M 74.605398 108 \nL 125.33267 108 \nL 125.33267 158.4 \nL 74.605398 158.4 \nL 74.605398 108 \n\" clip-path=\"url(#p76e2cc7f61)\" style=\"fill: #03051a; stroke: #ffffff; stroke-width: 0.1\"/>\n    <path d=\"M 125.33267 108 \nL 176.059943 108 \nL 176.059943 158.4 \nL 125.33267 158.4 \nL 125.33267 108 \n\" clip-path=\"url(#p76e2cc7f61)\" style=\"fill: #faebdd; stroke: #ffffff; stroke-width: 0.1\"/>\n    <path d=\"M 176.059943 108 \nL 226.787216 108 \nL 226.787216 158.4 \nL 176.059943 158.4 \nL 176.059943 108 \n\" clip-path=\"url(#p76e2cc7f61)\" style=\"fill: #03051a; stroke: #ffffff; stroke-width: 0.1\"/>\n    <path d=\"M 226.787216 108 \nL 277.514489 108 \nL 277.514489 158.4 \nL 226.787216 158.4 \nL 226.787216 108 \n\" clip-path=\"url(#p76e2cc7f61)\" style=\"fill: #221331; stroke: #ffffff; stroke-width: 0.1\"/>\n    <path d=\"M 277.514489 108 \nL 328.241761 108 \nL 328.241761 158.4 \nL 277.514489 158.4 \nL 277.514489 108 \n\" clip-path=\"url(#p76e2cc7f61)\" style=\"fill: #221331; stroke: #ffffff; stroke-width: 0.1\"/>\n    <path d=\"M 328.241761 108 \nL 378.969034 108 \nL 378.969034 158.4 \nL 328.241761 158.4 \nL 328.241761 108 \n\" clip-path=\"url(#p76e2cc7f61)\" style=\"fill: #03051a; stroke: #ffffff; stroke-width: 0.1\"/>\n    <path d=\"M 378.969034 108 \nL 429.696307 108 \nL 429.696307 158.4 \nL 378.969034 158.4 \nL 378.969034 108 \n\" clip-path=\"url(#p76e2cc7f61)\" style=\"fill: #03051a; stroke: #ffffff; stroke-width: 0.1\"/>\n    <path d=\"M 429.696307 108 \nL 480.42358 108 \nL 480.42358 158.4 \nL 429.696307 158.4 \nL 429.696307 108 \n\" clip-path=\"url(#p76e2cc7f61)\" style=\"fill: #221331; stroke: #ffffff; stroke-width: 0.1\"/>\n    <path d=\"M 480.42358 108 \nL 531.150852 108 \nL 531.150852 158.4 \nL 480.42358 158.4 \nL 480.42358 108 \n\" clip-path=\"url(#p76e2cc7f61)\" style=\"fill: #03051a; stroke: #ffffff; stroke-width: 0.1\"/>\n    <path d=\"M 531.150852 108 \nL 581.878125 108 \nL 581.878125 158.4 \nL 531.150852 158.4 \nL 531.150852 108 \n\" clip-path=\"url(#p76e2cc7f61)\" style=\"fill: #03051a; stroke: #ffffff; stroke-width: 0.1\"/>\n    <path d=\"M 23.878125 158.4 \nL 74.605398 158.4 \nL 74.605398 208.8 \nL 23.878125 208.8 \nL 23.878125 158.4 \n\" clip-path=\"url(#p76e2cc7f61)\" style=\"fill: #691f55; stroke: #ffffff; stroke-width: 0.1\"/>\n    <path d=\"M 74.605398 158.4 \nL 125.33267 158.4 \nL 125.33267 208.8 \nL 74.605398 208.8 \nL 74.605398 158.4 \n\" clip-path=\"url(#p76e2cc7f61)\" style=\"fill: #03051a; stroke: #ffffff; stroke-width: 0.1\"/>\n    <path d=\"M 125.33267 158.4 \nL 176.059943 158.4 \nL 176.059943 208.8 \nL 125.33267 208.8 \nL 125.33267 158.4 \n\" clip-path=\"url(#p76e2cc7f61)\" style=\"fill: #691f55; stroke: #ffffff; stroke-width: 0.1\"/>\n    <path d=\"M 176.059943 158.4 \nL 226.787216 158.4 \nL 226.787216 208.8 \nL 176.059943 208.8 \nL 176.059943 158.4 \n\" clip-path=\"url(#p76e2cc7f61)\" style=\"fill: #221331; stroke: #ffffff; stroke-width: 0.1\"/>\n    <path d=\"M 226.787216 158.4 \nL 277.514489 158.4 \nL 277.514489 208.8 \nL 226.787216 208.8 \nL 226.787216 158.4 \n\" clip-path=\"url(#p76e2cc7f61)\" style=\"fill: #03051a; stroke: #ffffff; stroke-width: 0.1\"/>\n    <path d=\"M 277.514489 158.4 \nL 328.241761 158.4 \nL 328.241761 208.8 \nL 277.514489 208.8 \nL 277.514489 158.4 \n\" clip-path=\"url(#p76e2cc7f61)\" style=\"fill: #03051a; stroke: #ffffff; stroke-width: 0.1\"/>\n    <path d=\"M 328.241761 158.4 \nL 378.969034 158.4 \nL 378.969034 208.8 \nL 328.241761 208.8 \nL 328.241761 158.4 \n\" clip-path=\"url(#p76e2cc7f61)\" style=\"fill: #03051a; stroke: #ffffff; stroke-width: 0.1\"/>\n    <path d=\"M 378.969034 158.4 \nL 429.696307 158.4 \nL 429.696307 208.8 \nL 378.969034 208.8 \nL 378.969034 158.4 \n\" clip-path=\"url(#p76e2cc7f61)\" style=\"fill: #03051a; stroke: #ffffff; stroke-width: 0.1\"/>\n    <path d=\"M 429.696307 158.4 \nL 480.42358 158.4 \nL 480.42358 208.8 \nL 429.696307 208.8 \nL 429.696307 158.4 \n\" clip-path=\"url(#p76e2cc7f61)\" style=\"fill: #451c47; stroke: #ffffff; stroke-width: 0.1\"/>\n    <path d=\"M 480.42358 158.4 \nL 531.150852 158.4 \nL 531.150852 208.8 \nL 480.42358 208.8 \nL 480.42358 158.4 \n\" clip-path=\"url(#p76e2cc7f61)\" style=\"fill: #221331; stroke: #ffffff; stroke-width: 0.1\"/>\n    <path d=\"M 531.150852 158.4 \nL 581.878125 158.4 \nL 581.878125 208.8 \nL 531.150852 208.8 \nL 531.150852 158.4 \n\" clip-path=\"url(#p76e2cc7f61)\" style=\"fill: #221331; stroke: #ffffff; stroke-width: 0.1\"/>\n    <path d=\"M 23.878125 208.8 \nL 74.605398 208.8 \nL 74.605398 259.2 \nL 23.878125 259.2 \nL 23.878125 208.8 \n\" clip-path=\"url(#p76e2cc7f61)\" style=\"fill: #221331; stroke: #ffffff; stroke-width: 0.1\"/>\n    <path d=\"M 74.605398 208.8 \nL 125.33267 208.8 \nL 125.33267 259.2 \nL 74.605398 259.2 \nL 74.605398 208.8 \n\" clip-path=\"url(#p76e2cc7f61)\" style=\"fill: #03051a; stroke: #ffffff; stroke-width: 0.1\"/>\n    <path d=\"M 125.33267 208.8 \nL 176.059943 208.8 \nL 176.059943 259.2 \nL 125.33267 259.2 \nL 125.33267 208.8 \n\" clip-path=\"url(#p76e2cc7f61)\" style=\"fill: #03051a; stroke: #ffffff; stroke-width: 0.1\"/>\n    <path d=\"M 176.059943 208.8 \nL 226.787216 208.8 \nL 226.787216 259.2 \nL 176.059943 259.2 \nL 176.059943 208.8 \n\" clip-path=\"url(#p76e2cc7f61)\" style=\"fill: #451c47; stroke: #ffffff; stroke-width: 0.1\"/>\n    <path d=\"M 226.787216 208.8 \nL 277.514489 208.8 \nL 277.514489 259.2 \nL 226.787216 259.2 \nL 226.787216 208.8 \n\" clip-path=\"url(#p76e2cc7f61)\" style=\"fill: #03051a; stroke: #ffffff; stroke-width: 0.1\"/>\n    <path d=\"M 277.514489 208.8 \nL 328.241761 208.8 \nL 328.241761 259.2 \nL 277.514489 259.2 \nL 277.514489 208.8 \n\" clip-path=\"url(#p76e2cc7f61)\" style=\"fill: #691f55; stroke: #ffffff; stroke-width: 0.1\"/>\n    <path d=\"M 328.241761 208.8 \nL 378.969034 208.8 \nL 378.969034 259.2 \nL 328.241761 259.2 \nL 328.241761 208.8 \n\" clip-path=\"url(#p76e2cc7f61)\" style=\"fill: #691f55; stroke: #ffffff; stroke-width: 0.1\"/>\n    <path d=\"M 378.969034 208.8 \nL 429.696307 208.8 \nL 429.696307 259.2 \nL 378.969034 259.2 \nL 378.969034 208.8 \n\" clip-path=\"url(#p76e2cc7f61)\" style=\"fill: #451c47; stroke: #ffffff; stroke-width: 0.1\"/>\n    <path d=\"M 429.696307 208.8 \nL 480.42358 208.8 \nL 480.42358 259.2 \nL 429.696307 259.2 \nL 429.696307 208.8 \n\" clip-path=\"url(#p76e2cc7f61)\" style=\"fill: #221331; stroke: #ffffff; stroke-width: 0.1\"/>\n    <path d=\"M 480.42358 208.8 \nL 531.150852 208.8 \nL 531.150852 259.2 \nL 480.42358 259.2 \nL 480.42358 208.8 \n\" clip-path=\"url(#p76e2cc7f61)\" style=\"fill: #03051a; stroke: #ffffff; stroke-width: 0.1\"/>\n    <path d=\"M 531.150852 208.8 \nL 581.878125 208.8 \nL 581.878125 259.2 \nL 531.150852 259.2 \nL 531.150852 208.8 \n\" clip-path=\"url(#p76e2cc7f61)\" style=\"fill: #221331; stroke: #ffffff; stroke-width: 0.1\"/>\n    <path d=\"M 23.878125 259.2 \nL 74.605398 259.2 \nL 74.605398 309.6 \nL 23.878125 309.6 \nL 23.878125 259.2 \n\" clip-path=\"url(#p76e2cc7f61)\" style=\"fill: #221331; stroke: #ffffff; stroke-width: 0.1\"/>\n    <path d=\"M 74.605398 259.2 \nL 125.33267 259.2 \nL 125.33267 309.6 \nL 74.605398 309.6 \nL 74.605398 259.2 \n\" clip-path=\"url(#p76e2cc7f61)\" style=\"fill: #691f55; stroke: #ffffff; stroke-width: 0.1\"/>\n    <path d=\"M 125.33267 259.2 \nL 176.059943 259.2 \nL 176.059943 309.6 \nL 125.33267 309.6 \nL 125.33267 259.2 \n\" clip-path=\"url(#p76e2cc7f61)\" style=\"fill: #03051a; stroke: #ffffff; stroke-width: 0.1\"/>\n    <path d=\"M 176.059943 259.2 \nL 226.787216 259.2 \nL 226.787216 309.6 \nL 176.059943 309.6 \nL 176.059943 259.2 \n\" clip-path=\"url(#p76e2cc7f61)\" style=\"fill: #221331; stroke: #ffffff; stroke-width: 0.1\"/>\n    <path d=\"M 226.787216 259.2 \nL 277.514489 259.2 \nL 277.514489 309.6 \nL 226.787216 309.6 \nL 226.787216 259.2 \n\" clip-path=\"url(#p76e2cc7f61)\" style=\"fill: #221331; stroke: #ffffff; stroke-width: 0.1\"/>\n    <path d=\"M 277.514489 259.2 \nL 328.241761 259.2 \nL 328.241761 309.6 \nL 277.514489 309.6 \nL 277.514489 259.2 \n\" clip-path=\"url(#p76e2cc7f61)\" style=\"fill: #691f55; stroke: #ffffff; stroke-width: 0.1\"/>\n    <path d=\"M 328.241761 259.2 \nL 378.969034 259.2 \nL 378.969034 309.6 \nL 328.241761 309.6 \nL 328.241761 259.2 \n\" clip-path=\"url(#p76e2cc7f61)\" style=\"fill: #221331; stroke: #ffffff; stroke-width: 0.1\"/>\n    <path d=\"M 378.969034 259.2 \nL 429.696307 259.2 \nL 429.696307 309.6 \nL 378.969034 309.6 \nL 378.969034 259.2 \n\" clip-path=\"url(#p76e2cc7f61)\" style=\"fill: #221331; stroke: #ffffff; stroke-width: 0.1\"/>\n    <path d=\"M 429.696307 259.2 \nL 480.42358 259.2 \nL 480.42358 309.6 \nL 429.696307 309.6 \nL 429.696307 259.2 \n\" clip-path=\"url(#p76e2cc7f61)\" style=\"fill: #921c5b; stroke: #ffffff; stroke-width: 0.1\"/>\n    <path d=\"M 480.42358 259.2 \nL 531.150852 259.2 \nL 531.150852 309.6 \nL 480.42358 309.6 \nL 480.42358 259.2 \n\" clip-path=\"url(#p76e2cc7f61)\" style=\"fill: #691f55; stroke: #ffffff; stroke-width: 0.1\"/>\n    <path d=\"M 531.150852 259.2 \nL 581.878125 259.2 \nL 581.878125 309.6 \nL 531.150852 309.6 \nL 531.150852 259.2 \n\" clip-path=\"url(#p76e2cc7f61)\" style=\"fill: #03051a; stroke: #ffffff; stroke-width: 0.1\"/>\n    <path d=\"M 23.878125 309.6 \nL 74.605398 309.6 \nL 74.605398 360 \nL 23.878125 360 \nL 23.878125 309.6 \n\" clip-path=\"url(#p76e2cc7f61)\" style=\"fill: #221331; stroke: #ffffff; stroke-width: 0.1\"/>\n    <path d=\"M 74.605398 309.6 \nL 125.33267 309.6 \nL 125.33267 360 \nL 74.605398 360 \nL 74.605398 309.6 \n\" clip-path=\"url(#p76e2cc7f61)\" style=\"fill: #221331; stroke: #ffffff; stroke-width: 0.1\"/>\n    <path d=\"M 125.33267 309.6 \nL 176.059943 309.6 \nL 176.059943 360 \nL 125.33267 360 \nL 125.33267 309.6 \n\" clip-path=\"url(#p76e2cc7f61)\" style=\"fill: #451c47; stroke: #ffffff; stroke-width: 0.1\"/>\n    <path d=\"M 176.059943 309.6 \nL 226.787216 309.6 \nL 226.787216 360 \nL 176.059943 360 \nL 176.059943 309.6 \n\" clip-path=\"url(#p76e2cc7f61)\" style=\"fill: #03051a; stroke: #ffffff; stroke-width: 0.1\"/>\n    <path d=\"M 226.787216 309.6 \nL 277.514489 309.6 \nL 277.514489 360 \nL 226.787216 360 \nL 226.787216 309.6 \n\" clip-path=\"url(#p76e2cc7f61)\" style=\"fill: #221331; stroke: #ffffff; stroke-width: 0.1\"/>\n    <path d=\"M 277.514489 309.6 \nL 328.241761 309.6 \nL 328.241761 360 \nL 277.514489 360 \nL 277.514489 309.6 \n\" clip-path=\"url(#p76e2cc7f61)\" style=\"fill: #451c47; stroke: #ffffff; stroke-width: 0.1\"/>\n    <path d=\"M 328.241761 309.6 \nL 378.969034 309.6 \nL 378.969034 360 \nL 328.241761 360 \nL 328.241761 309.6 \n\" clip-path=\"url(#p76e2cc7f61)\" style=\"fill: #d92847; stroke: #ffffff; stroke-width: 0.1\"/>\n    <path d=\"M 378.969034 309.6 \nL 429.696307 309.6 \nL 429.696307 360 \nL 378.969034 360 \nL 378.969034 309.6 \n\" clip-path=\"url(#p76e2cc7f61)\" style=\"fill: #451c47; stroke: #ffffff; stroke-width: 0.1\"/>\n    <path d=\"M 429.696307 309.6 \nL 480.42358 309.6 \nL 480.42358 360 \nL 429.696307 360 \nL 429.696307 309.6 \n\" clip-path=\"url(#p76e2cc7f61)\" style=\"fill: #221331; stroke: #ffffff; stroke-width: 0.1\"/>\n    <path d=\"M 480.42358 309.6 \nL 531.150852 309.6 \nL 531.150852 360 \nL 480.42358 360 \nL 480.42358 309.6 \n\" clip-path=\"url(#p76e2cc7f61)\" style=\"fill: #691f55; stroke: #ffffff; stroke-width: 0.1\"/>\n    <path d=\"M 531.150852 309.6 \nL 581.878125 309.6 \nL 581.878125 360 \nL 531.150852 360 \nL 531.150852 309.6 \n\" clip-path=\"url(#p76e2cc7f61)\" style=\"fill: #221331; stroke: #ffffff; stroke-width: 0.1\"/>\n    <path d=\"M 23.878125 360 \nL 74.605398 360 \nL 74.605398 410.4 \nL 23.878125 410.4 \nL 23.878125 360 \n\" clip-path=\"url(#p76e2cc7f61)\" style=\"fill: #221331; stroke: #ffffff; stroke-width: 0.1\"/>\n    <path d=\"M 74.605398 360 \nL 125.33267 360 \nL 125.33267 410.4 \nL 74.605398 410.4 \nL 74.605398 360 \n\" clip-path=\"url(#p76e2cc7f61)\" style=\"fill: #03051a; stroke: #ffffff; stroke-width: 0.1\"/>\n    <path d=\"M 125.33267 360 \nL 176.059943 360 \nL 176.059943 410.4 \nL 125.33267 410.4 \nL 125.33267 360 \n\" clip-path=\"url(#p76e2cc7f61)\" style=\"fill: #221331; stroke: #ffffff; stroke-width: 0.1\"/>\n    <path d=\"M 176.059943 360 \nL 226.787216 360 \nL 226.787216 410.4 \nL 176.059943 410.4 \nL 176.059943 360 \n\" clip-path=\"url(#p76e2cc7f61)\" style=\"fill: #03051a; stroke: #ffffff; stroke-width: 0.1\"/>\n    <path d=\"M 226.787216 360 \nL 277.514489 360 \nL 277.514489 410.4 \nL 226.787216 410.4 \nL 226.787216 360 \n\" clip-path=\"url(#p76e2cc7f61)\" style=\"fill: #451c47; stroke: #ffffff; stroke-width: 0.1\"/>\n    <path d=\"M 277.514489 360 \nL 328.241761 360 \nL 328.241761 410.4 \nL 277.514489 410.4 \nL 277.514489 360 \n\" clip-path=\"url(#p76e2cc7f61)\" style=\"fill: #221331; stroke: #ffffff; stroke-width: 0.1\"/>\n    <path d=\"M 328.241761 360 \nL 378.969034 360 \nL 378.969034 410.4 \nL 328.241761 410.4 \nL 328.241761 360 \n\" clip-path=\"url(#p76e2cc7f61)\" style=\"fill: #451c47; stroke: #ffffff; stroke-width: 0.1\"/>\n    <path d=\"M 378.969034 360 \nL 429.696307 360 \nL 429.696307 410.4 \nL 378.969034 410.4 \nL 378.969034 360 \n\" clip-path=\"url(#p76e2cc7f61)\" style=\"fill: #221331; stroke: #ffffff; stroke-width: 0.1\"/>\n    <path d=\"M 429.696307 360 \nL 480.42358 360 \nL 480.42358 410.4 \nL 429.696307 410.4 \nL 429.696307 360 \n\" clip-path=\"url(#p76e2cc7f61)\" style=\"fill: #221331; stroke: #ffffff; stroke-width: 0.1\"/>\n    <path d=\"M 480.42358 360 \nL 531.150852 360 \nL 531.150852 410.4 \nL 480.42358 410.4 \nL 480.42358 360 \n\" clip-path=\"url(#p76e2cc7f61)\" style=\"fill: #221331; stroke: #ffffff; stroke-width: 0.1\"/>\n    <path d=\"M 531.150852 360 \nL 581.878125 360 \nL 581.878125 410.4 \nL 531.150852 410.4 \nL 531.150852 360 \n\" clip-path=\"url(#p76e2cc7f61)\" style=\"fill: #921c5b; stroke: #ffffff; stroke-width: 0.1\"/>\n    <path d=\"M 23.878125 410.4 \nL 74.605398 410.4 \nL 74.605398 460.8 \nL 23.878125 460.8 \nL 23.878125 410.4 \n\" clip-path=\"url(#p76e2cc7f61)\" style=\"fill: #03051a; stroke: #ffffff; stroke-width: 0.1\"/>\n    <path d=\"M 74.605398 410.4 \nL 125.33267 410.4 \nL 125.33267 460.8 \nL 74.605398 460.8 \nL 74.605398 410.4 \n\" clip-path=\"url(#p76e2cc7f61)\" style=\"fill: #221331; stroke: #ffffff; stroke-width: 0.1\"/>\n    <path d=\"M 125.33267 410.4 \nL 176.059943 410.4 \nL 176.059943 460.8 \nL 125.33267 460.8 \nL 125.33267 410.4 \n\" clip-path=\"url(#p76e2cc7f61)\" style=\"fill: #03051a; stroke: #ffffff; stroke-width: 0.1\"/>\n    <path d=\"M 176.059943 410.4 \nL 226.787216 410.4 \nL 226.787216 460.8 \nL 176.059943 460.8 \nL 176.059943 410.4 \n\" clip-path=\"url(#p76e2cc7f61)\" style=\"fill: #03051a; stroke: #ffffff; stroke-width: 0.1\"/>\n    <path d=\"M 226.787216 410.4 \nL 277.514489 410.4 \nL 277.514489 460.8 \nL 226.787216 460.8 \nL 226.787216 410.4 \n\" clip-path=\"url(#p76e2cc7f61)\" style=\"fill: #03051a; stroke: #ffffff; stroke-width: 0.1\"/>\n    <path d=\"M 277.514489 410.4 \nL 328.241761 410.4 \nL 328.241761 460.8 \nL 277.514489 460.8 \nL 277.514489 410.4 \n\" clip-path=\"url(#p76e2cc7f61)\" style=\"fill: #451c47; stroke: #ffffff; stroke-width: 0.1\"/>\n    <path d=\"M 328.241761 410.4 \nL 378.969034 410.4 \nL 378.969034 460.8 \nL 328.241761 460.8 \nL 328.241761 410.4 \n\" clip-path=\"url(#p76e2cc7f61)\" style=\"fill: #221331; stroke: #ffffff; stroke-width: 0.1\"/>\n    <path d=\"M 378.969034 410.4 \nL 429.696307 410.4 \nL 429.696307 460.8 \nL 378.969034 460.8 \nL 378.969034 410.4 \n\" clip-path=\"url(#p76e2cc7f61)\" style=\"fill: #221331; stroke: #ffffff; stroke-width: 0.1\"/>\n    <path d=\"M 429.696307 410.4 \nL 480.42358 410.4 \nL 480.42358 460.8 \nL 429.696307 460.8 \nL 429.696307 410.4 \n\" clip-path=\"url(#p76e2cc7f61)\" style=\"fill: #451c47; stroke: #ffffff; stroke-width: 0.1\"/>\n    <path d=\"M 480.42358 410.4 \nL 531.150852 410.4 \nL 531.150852 460.8 \nL 480.42358 460.8 \nL 480.42358 410.4 \n\" clip-path=\"url(#p76e2cc7f61)\" style=\"fill: #03051a; stroke: #ffffff; stroke-width: 0.1\"/>\n    <path d=\"M 531.150852 410.4 \nL 581.878125 410.4 \nL 581.878125 460.8 \nL 531.150852 460.8 \nL 531.150852 410.4 \n\" clip-path=\"url(#p76e2cc7f61)\" style=\"fill: #03051a; stroke: #ffffff; stroke-width: 0.1\"/>\n    <path d=\"M 23.878125 460.8 \nL 74.605398 460.8 \nL 74.605398 511.2 \nL 23.878125 511.2 \nL 23.878125 460.8 \n\" clip-path=\"url(#p76e2cc7f61)\" style=\"fill: #691f55; stroke: #ffffff; stroke-width: 0.1\"/>\n    <path d=\"M 74.605398 460.8 \nL 125.33267 460.8 \nL 125.33267 511.2 \nL 74.605398 511.2 \nL 74.605398 460.8 \n\" clip-path=\"url(#p76e2cc7f61)\" style=\"fill: #03051a; stroke: #ffffff; stroke-width: 0.1\"/>\n    <path d=\"M 125.33267 460.8 \nL 176.059943 460.8 \nL 176.059943 511.2 \nL 125.33267 511.2 \nL 125.33267 460.8 \n\" clip-path=\"url(#p76e2cc7f61)\" style=\"fill: #03051a; stroke: #ffffff; stroke-width: 0.1\"/>\n    <path d=\"M 176.059943 460.8 \nL 226.787216 460.8 \nL 226.787216 511.2 \nL 176.059943 511.2 \nL 176.059943 460.8 \n\" clip-path=\"url(#p76e2cc7f61)\" style=\"fill: #691f55; stroke: #ffffff; stroke-width: 0.1\"/>\n    <path d=\"M 226.787216 460.8 \nL 277.514489 460.8 \nL 277.514489 511.2 \nL 226.787216 511.2 \nL 226.787216 460.8 \n\" clip-path=\"url(#p76e2cc7f61)\" style=\"fill: #221331; stroke: #ffffff; stroke-width: 0.1\"/>\n    <path d=\"M 277.514489 460.8 \nL 328.241761 460.8 \nL 328.241761 511.2 \nL 277.514489 511.2 \nL 277.514489 460.8 \n\" clip-path=\"url(#p76e2cc7f61)\" style=\"fill: #691f55; stroke: #ffffff; stroke-width: 0.1\"/>\n    <path d=\"M 328.241761 460.8 \nL 378.969034 460.8 \nL 378.969034 511.2 \nL 328.241761 511.2 \nL 328.241761 460.8 \n\" clip-path=\"url(#p76e2cc7f61)\" style=\"fill: #221331; stroke: #ffffff; stroke-width: 0.1\"/>\n    <path d=\"M 378.969034 460.8 \nL 429.696307 460.8 \nL 429.696307 511.2 \nL 378.969034 511.2 \nL 378.969034 460.8 \n\" clip-path=\"url(#p76e2cc7f61)\" style=\"fill: #921c5b; stroke: #ffffff; stroke-width: 0.1\"/>\n    <path d=\"M 429.696307 460.8 \nL 480.42358 460.8 \nL 480.42358 511.2 \nL 429.696307 511.2 \nL 429.696307 460.8 \n\" clip-path=\"url(#p76e2cc7f61)\" style=\"fill: #221331; stroke: #ffffff; stroke-width: 0.1\"/>\n    <path d=\"M 480.42358 460.8 \nL 531.150852 460.8 \nL 531.150852 511.2 \nL 480.42358 511.2 \nL 480.42358 460.8 \n\" clip-path=\"url(#p76e2cc7f61)\" style=\"fill: #221331; stroke: #ffffff; stroke-width: 0.1\"/>\n    <path d=\"M 531.150852 460.8 \nL 581.878125 460.8 \nL 581.878125 511.2 \nL 531.150852 511.2 \nL 531.150852 460.8 \n\" clip-path=\"url(#p76e2cc7f61)\" style=\"fill: #03051a; stroke: #ffffff; stroke-width: 0.1\"/>\n    <path d=\"M 23.878125 511.2 \nL 74.605398 511.2 \nL 74.605398 561.6 \nL 23.878125 561.6 \nL 23.878125 511.2 \n\" clip-path=\"url(#p76e2cc7f61)\" style=\"fill: #03051a; stroke: #ffffff; stroke-width: 0.1\"/>\n    <path d=\"M 74.605398 511.2 \nL 125.33267 511.2 \nL 125.33267 561.6 \nL 74.605398 561.6 \nL 74.605398 511.2 \n\" clip-path=\"url(#p76e2cc7f61)\" style=\"fill: #03051a; stroke: #ffffff; stroke-width: 0.1\"/>\n    <path d=\"M 125.33267 511.2 \nL 176.059943 511.2 \nL 176.059943 561.6 \nL 125.33267 561.6 \nL 125.33267 511.2 \n\" clip-path=\"url(#p76e2cc7f61)\" style=\"fill: #221331; stroke: #ffffff; stroke-width: 0.1\"/>\n    <path d=\"M 176.059943 511.2 \nL 226.787216 511.2 \nL 226.787216 561.6 \nL 176.059943 561.6 \nL 176.059943 511.2 \n\" clip-path=\"url(#p76e2cc7f61)\" style=\"fill: #221331; stroke: #ffffff; stroke-width: 0.1\"/>\n    <path d=\"M 226.787216 511.2 \nL 277.514489 511.2 \nL 277.514489 561.6 \nL 226.787216 561.6 \nL 226.787216 511.2 \n\" clip-path=\"url(#p76e2cc7f61)\" style=\"fill: #451c47; stroke: #ffffff; stroke-width: 0.1\"/>\n    <path d=\"M 277.514489 511.2 \nL 328.241761 511.2 \nL 328.241761 561.6 \nL 277.514489 561.6 \nL 277.514489 511.2 \n\" clip-path=\"url(#p76e2cc7f61)\" style=\"fill: #921c5b; stroke: #ffffff; stroke-width: 0.1\"/>\n    <path d=\"M 328.241761 511.2 \nL 378.969034 511.2 \nL 378.969034 561.6 \nL 328.241761 561.6 \nL 328.241761 511.2 \n\" clip-path=\"url(#p76e2cc7f61)\" style=\"fill: #221331; stroke: #ffffff; stroke-width: 0.1\"/>\n    <path d=\"M 378.969034 511.2 \nL 429.696307 511.2 \nL 429.696307 561.6 \nL 378.969034 561.6 \nL 378.969034 511.2 \n\" clip-path=\"url(#p76e2cc7f61)\" style=\"fill: #221331; stroke: #ffffff; stroke-width: 0.1\"/>\n    <path d=\"M 429.696307 511.2 \nL 480.42358 511.2 \nL 480.42358 561.6 \nL 429.696307 561.6 \nL 429.696307 511.2 \n\" clip-path=\"url(#p76e2cc7f61)\" style=\"fill: #03051a; stroke: #ffffff; stroke-width: 0.1\"/>\n    <path d=\"M 480.42358 511.2 \nL 531.150852 511.2 \nL 531.150852 561.6 \nL 480.42358 561.6 \nL 480.42358 511.2 \n\" clip-path=\"url(#p76e2cc7f61)\" style=\"fill: #03051a; stroke: #ffffff; stroke-width: 0.1\"/>\n    <path d=\"M 531.150852 511.2 \nL 581.878125 511.2 \nL 581.878125 561.6 \nL 531.150852 561.6 \nL 531.150852 511.2 \n\" clip-path=\"url(#p76e2cc7f61)\" style=\"fill: #03051a; stroke: #ffffff; stroke-width: 0.1\"/>\n   </g>\n   <g id=\"matplotlib.axis_1\">\n    <g id=\"xtick_1\">\n     <g id=\"line2d_1\">\n      <defs>\n       <path id=\"mb9324ca5a0\" d=\"M 0 0 \nL 0 3.5 \n\" style=\"stroke: #000000; stroke-width: 0.8\"/>\n      </defs>\n      <g>\n       <use xlink:href=\"#mb9324ca5a0\" x=\"49.241761\" y=\"561.6\" style=\"stroke: #000000; stroke-width: 0.8\"/>\n      </g>\n     </g>\n     <g id=\"text_1\">\n      <!-- 0 -->\n      <g transform=\"translate(46.060511 576.198438) scale(0.1 -0.1)\">\n       <defs>\n        <path id=\"DejaVuSans-30\" d=\"M 2034 4250 \nQ 1547 4250 1301 3770 \nQ 1056 3291 1056 2328 \nQ 1056 1369 1301 889 \nQ 1547 409 2034 409 \nQ 2525 409 2770 889 \nQ 3016 1369 3016 2328 \nQ 3016 3291 2770 3770 \nQ 2525 4250 2034 4250 \nz\nM 2034 4750 \nQ 2819 4750 3233 4129 \nQ 3647 3509 3647 2328 \nQ 3647 1150 3233 529 \nQ 2819 -91 2034 -91 \nQ 1250 -91 836 529 \nQ 422 1150 422 2328 \nQ 422 3509 836 4129 \nQ 1250 4750 2034 4750 \nz\n\" transform=\"scale(0.015625)\"/>\n       </defs>\n       <use xlink:href=\"#DejaVuSans-30\"/>\n      </g>\n     </g>\n    </g>\n    <g id=\"xtick_2\">\n     <g id=\"line2d_2\">\n      <g>\n       <use xlink:href=\"#mb9324ca5a0\" x=\"99.969034\" y=\"561.6\" style=\"stroke: #000000; stroke-width: 0.8\"/>\n      </g>\n     </g>\n     <g id=\"text_2\">\n      <!-- 1 -->\n      <g transform=\"translate(96.787784 576.198438) scale(0.1 -0.1)\">\n       <defs>\n        <path id=\"DejaVuSans-31\" d=\"M 794 531 \nL 1825 531 \nL 1825 4091 \nL 703 3866 \nL 703 4441 \nL 1819 4666 \nL 2450 4666 \nL 2450 531 \nL 3481 531 \nL 3481 0 \nL 794 0 \nL 794 531 \nz\n\" transform=\"scale(0.015625)\"/>\n       </defs>\n       <use xlink:href=\"#DejaVuSans-31\"/>\n      </g>\n     </g>\n    </g>\n    <g id=\"xtick_3\">\n     <g id=\"line2d_3\">\n      <g>\n       <use xlink:href=\"#mb9324ca5a0\" x=\"150.696307\" y=\"561.6\" style=\"stroke: #000000; stroke-width: 0.8\"/>\n      </g>\n     </g>\n     <g id=\"text_3\">\n      <!-- 2 -->\n      <g transform=\"translate(147.515057 576.198438) scale(0.1 -0.1)\">\n       <defs>\n        <path id=\"DejaVuSans-32\" d=\"M 1228 531 \nL 3431 531 \nL 3431 0 \nL 469 0 \nL 469 531 \nQ 828 903 1448 1529 \nQ 2069 2156 2228 2338 \nQ 2531 2678 2651 2914 \nQ 2772 3150 2772 3378 \nQ 2772 3750 2511 3984 \nQ 2250 4219 1831 4219 \nQ 1534 4219 1204 4116 \nQ 875 4013 500 3803 \nL 500 4441 \nQ 881 4594 1212 4672 \nQ 1544 4750 1819 4750 \nQ 2544 4750 2975 4387 \nQ 3406 4025 3406 3419 \nQ 3406 3131 3298 2873 \nQ 3191 2616 2906 2266 \nQ 2828 2175 2409 1742 \nQ 1991 1309 1228 531 \nz\n\" transform=\"scale(0.015625)\"/>\n       </defs>\n       <use xlink:href=\"#DejaVuSans-32\"/>\n      </g>\n     </g>\n    </g>\n    <g id=\"xtick_4\">\n     <g id=\"line2d_4\">\n      <g>\n       <use xlink:href=\"#mb9324ca5a0\" x=\"201.42358\" y=\"561.6\" style=\"stroke: #000000; stroke-width: 0.8\"/>\n      </g>\n     </g>\n     <g id=\"text_4\">\n      <!-- 3 -->\n      <g transform=\"translate(198.24233 576.198438) scale(0.1 -0.1)\">\n       <defs>\n        <path id=\"DejaVuSans-33\" d=\"M 2597 2516 \nQ 3050 2419 3304 2112 \nQ 3559 1806 3559 1356 \nQ 3559 666 3084 287 \nQ 2609 -91 1734 -91 \nQ 1441 -91 1130 -33 \nQ 819 25 488 141 \nL 488 750 \nQ 750 597 1062 519 \nQ 1375 441 1716 441 \nQ 2309 441 2620 675 \nQ 2931 909 2931 1356 \nQ 2931 1769 2642 2001 \nQ 2353 2234 1838 2234 \nL 1294 2234 \nL 1294 2753 \nL 1863 2753 \nQ 2328 2753 2575 2939 \nQ 2822 3125 2822 3475 \nQ 2822 3834 2567 4026 \nQ 2313 4219 1838 4219 \nQ 1578 4219 1281 4162 \nQ 984 4106 628 3988 \nL 628 4550 \nQ 988 4650 1302 4700 \nQ 1616 4750 1894 4750 \nQ 2613 4750 3031 4423 \nQ 3450 4097 3450 3541 \nQ 3450 3153 3228 2886 \nQ 3006 2619 2597 2516 \nz\n\" transform=\"scale(0.015625)\"/>\n       </defs>\n       <use xlink:href=\"#DejaVuSans-33\"/>\n      </g>\n     </g>\n    </g>\n    <g id=\"xtick_5\">\n     <g id=\"line2d_5\">\n      <g>\n       <use xlink:href=\"#mb9324ca5a0\" x=\"252.150852\" y=\"561.6\" style=\"stroke: #000000; stroke-width: 0.8\"/>\n      </g>\n     </g>\n     <g id=\"text_5\">\n      <!-- 4 -->\n      <g transform=\"translate(248.969602 576.198438) scale(0.1 -0.1)\">\n       <defs>\n        <path id=\"DejaVuSans-34\" d=\"M 2419 4116 \nL 825 1625 \nL 2419 1625 \nL 2419 4116 \nz\nM 2253 4666 \nL 3047 4666 \nL 3047 1625 \nL 3713 1625 \nL 3713 1100 \nL 3047 1100 \nL 3047 0 \nL 2419 0 \nL 2419 1100 \nL 313 1100 \nL 313 1709 \nL 2253 4666 \nz\n\" transform=\"scale(0.015625)\"/>\n       </defs>\n       <use xlink:href=\"#DejaVuSans-34\"/>\n      </g>\n     </g>\n    </g>\n    <g id=\"xtick_6\">\n     <g id=\"line2d_6\">\n      <g>\n       <use xlink:href=\"#mb9324ca5a0\" x=\"302.878125\" y=\"561.6\" style=\"stroke: #000000; stroke-width: 0.8\"/>\n      </g>\n     </g>\n     <g id=\"text_6\">\n      <!-- 5 -->\n      <g transform=\"translate(299.696875 576.198438) scale(0.1 -0.1)\">\n       <defs>\n        <path id=\"DejaVuSans-35\" d=\"M 691 4666 \nL 3169 4666 \nL 3169 4134 \nL 1269 4134 \nL 1269 2991 \nQ 1406 3038 1543 3061 \nQ 1681 3084 1819 3084 \nQ 2600 3084 3056 2656 \nQ 3513 2228 3513 1497 \nQ 3513 744 3044 326 \nQ 2575 -91 1722 -91 \nQ 1428 -91 1123 -41 \nQ 819 9 494 109 \nL 494 744 \nQ 775 591 1075 516 \nQ 1375 441 1709 441 \nQ 2250 441 2565 725 \nQ 2881 1009 2881 1497 \nQ 2881 1984 2565 2268 \nQ 2250 2553 1709 2553 \nQ 1456 2553 1204 2497 \nQ 953 2441 691 2322 \nL 691 4666 \nz\n\" transform=\"scale(0.015625)\"/>\n       </defs>\n       <use xlink:href=\"#DejaVuSans-35\"/>\n      </g>\n     </g>\n    </g>\n    <g id=\"xtick_7\">\n     <g id=\"line2d_7\">\n      <g>\n       <use xlink:href=\"#mb9324ca5a0\" x=\"353.605398\" y=\"561.6\" style=\"stroke: #000000; stroke-width: 0.8\"/>\n      </g>\n     </g>\n     <g id=\"text_7\">\n      <!-- 6 -->\n      <g transform=\"translate(350.424148 576.198438) scale(0.1 -0.1)\">\n       <defs>\n        <path id=\"DejaVuSans-36\" d=\"M 2113 2584 \nQ 1688 2584 1439 2293 \nQ 1191 2003 1191 1497 \nQ 1191 994 1439 701 \nQ 1688 409 2113 409 \nQ 2538 409 2786 701 \nQ 3034 994 3034 1497 \nQ 3034 2003 2786 2293 \nQ 2538 2584 2113 2584 \nz\nM 3366 4563 \nL 3366 3988 \nQ 3128 4100 2886 4159 \nQ 2644 4219 2406 4219 \nQ 1781 4219 1451 3797 \nQ 1122 3375 1075 2522 \nQ 1259 2794 1537 2939 \nQ 1816 3084 2150 3084 \nQ 2853 3084 3261 2657 \nQ 3669 2231 3669 1497 \nQ 3669 778 3244 343 \nQ 2819 -91 2113 -91 \nQ 1303 -91 875 529 \nQ 447 1150 447 2328 \nQ 447 3434 972 4092 \nQ 1497 4750 2381 4750 \nQ 2619 4750 2861 4703 \nQ 3103 4656 3366 4563 \nz\n\" transform=\"scale(0.015625)\"/>\n       </defs>\n       <use xlink:href=\"#DejaVuSans-36\"/>\n      </g>\n     </g>\n    </g>\n    <g id=\"xtick_8\">\n     <g id=\"line2d_8\">\n      <g>\n       <use xlink:href=\"#mb9324ca5a0\" x=\"404.33267\" y=\"561.6\" style=\"stroke: #000000; stroke-width: 0.8\"/>\n      </g>\n     </g>\n     <g id=\"text_8\">\n      <!-- 7 -->\n      <g transform=\"translate(401.15142 576.198438) scale(0.1 -0.1)\">\n       <defs>\n        <path id=\"DejaVuSans-37\" d=\"M 525 4666 \nL 3525 4666 \nL 3525 4397 \nL 1831 0 \nL 1172 0 \nL 2766 4134 \nL 525 4134 \nL 525 4666 \nz\n\" transform=\"scale(0.015625)\"/>\n       </defs>\n       <use xlink:href=\"#DejaVuSans-37\"/>\n      </g>\n     </g>\n    </g>\n    <g id=\"xtick_9\">\n     <g id=\"line2d_9\">\n      <g>\n       <use xlink:href=\"#mb9324ca5a0\" x=\"455.059943\" y=\"561.6\" style=\"stroke: #000000; stroke-width: 0.8\"/>\n      </g>\n     </g>\n     <g id=\"text_9\">\n      <!-- 8 -->\n      <g transform=\"translate(451.878693 576.198438) scale(0.1 -0.1)\">\n       <defs>\n        <path id=\"DejaVuSans-38\" d=\"M 2034 2216 \nQ 1584 2216 1326 1975 \nQ 1069 1734 1069 1313 \nQ 1069 891 1326 650 \nQ 1584 409 2034 409 \nQ 2484 409 2743 651 \nQ 3003 894 3003 1313 \nQ 3003 1734 2745 1975 \nQ 2488 2216 2034 2216 \nz\nM 1403 2484 \nQ 997 2584 770 2862 \nQ 544 3141 544 3541 \nQ 544 4100 942 4425 \nQ 1341 4750 2034 4750 \nQ 2731 4750 3128 4425 \nQ 3525 4100 3525 3541 \nQ 3525 3141 3298 2862 \nQ 3072 2584 2669 2484 \nQ 3125 2378 3379 2068 \nQ 3634 1759 3634 1313 \nQ 3634 634 3220 271 \nQ 2806 -91 2034 -91 \nQ 1263 -91 848 271 \nQ 434 634 434 1313 \nQ 434 1759 690 2068 \nQ 947 2378 1403 2484 \nz\nM 1172 3481 \nQ 1172 3119 1398 2916 \nQ 1625 2713 2034 2713 \nQ 2441 2713 2670 2916 \nQ 2900 3119 2900 3481 \nQ 2900 3844 2670 4047 \nQ 2441 4250 2034 4250 \nQ 1625 4250 1398 4047 \nQ 1172 3844 1172 3481 \nz\n\" transform=\"scale(0.015625)\"/>\n       </defs>\n       <use xlink:href=\"#DejaVuSans-38\"/>\n      </g>\n     </g>\n    </g>\n    <g id=\"xtick_10\">\n     <g id=\"line2d_10\">\n      <g>\n       <use xlink:href=\"#mb9324ca5a0\" x=\"505.787216\" y=\"561.6\" style=\"stroke: #000000; stroke-width: 0.8\"/>\n      </g>\n     </g>\n     <g id=\"text_10\">\n      <!-- 9 -->\n      <g transform=\"translate(502.605966 576.198438) scale(0.1 -0.1)\">\n       <defs>\n        <path id=\"DejaVuSans-39\" d=\"M 703 97 \nL 703 672 \nQ 941 559 1184 500 \nQ 1428 441 1663 441 \nQ 2288 441 2617 861 \nQ 2947 1281 2994 2138 \nQ 2813 1869 2534 1725 \nQ 2256 1581 1919 1581 \nQ 1219 1581 811 2004 \nQ 403 2428 403 3163 \nQ 403 3881 828 4315 \nQ 1253 4750 1959 4750 \nQ 2769 4750 3195 4129 \nQ 3622 3509 3622 2328 \nQ 3622 1225 3098 567 \nQ 2575 -91 1691 -91 \nQ 1453 -91 1209 -44 \nQ 966 3 703 97 \nz\nM 1959 2075 \nQ 2384 2075 2632 2365 \nQ 2881 2656 2881 3163 \nQ 2881 3666 2632 3958 \nQ 2384 4250 1959 4250 \nQ 1534 4250 1286 3958 \nQ 1038 3666 1038 3163 \nQ 1038 2656 1286 2365 \nQ 1534 2075 1959 2075 \nz\n\" transform=\"scale(0.015625)\"/>\n       </defs>\n       <use xlink:href=\"#DejaVuSans-39\"/>\n      </g>\n     </g>\n    </g>\n    <g id=\"xtick_11\">\n     <g id=\"line2d_11\">\n      <g>\n       <use xlink:href=\"#mb9324ca5a0\" x=\"556.514489\" y=\"561.6\" style=\"stroke: #000000; stroke-width: 0.8\"/>\n      </g>\n     </g>\n     <g id=\"text_11\">\n      <!-- 10 -->\n      <g transform=\"translate(550.151989 576.198438) scale(0.1 -0.1)\">\n       <use xlink:href=\"#DejaVuSans-31\"/>\n       <use xlink:href=\"#DejaVuSans-30\" x=\"63.623047\"/>\n      </g>\n     </g>\n    </g>\n   </g>\n   <g id=\"matplotlib.axis_2\">\n    <g id=\"ytick_1\">\n     <g id=\"line2d_12\">\n      <defs>\n       <path id=\"mc8cd1e239d\" d=\"M 0 0 \nL -3.5 0 \n\" style=\"stroke: #000000; stroke-width: 0.8\"/>\n      </defs>\n      <g>\n       <use xlink:href=\"#mc8cd1e239d\" x=\"23.878125\" y=\"32.4\" style=\"stroke: #000000; stroke-width: 0.8\"/>\n      </g>\n     </g>\n     <g id=\"text_12\">\n      <!-- 0 -->\n      <g transform=\"translate(14.798437 35.58125) rotate(-90) scale(0.1 -0.1)\">\n       <use xlink:href=\"#DejaVuSans-30\"/>\n      </g>\n     </g>\n    </g>\n    <g id=\"ytick_2\">\n     <g id=\"line2d_13\">\n      <g>\n       <use xlink:href=\"#mc8cd1e239d\" x=\"23.878125\" y=\"82.8\" style=\"stroke: #000000; stroke-width: 0.8\"/>\n      </g>\n     </g>\n     <g id=\"text_13\">\n      <!-- 1 -->\n      <g transform=\"translate(14.798437 85.98125) rotate(-90) scale(0.1 -0.1)\">\n       <use xlink:href=\"#DejaVuSans-31\"/>\n      </g>\n     </g>\n    </g>\n    <g id=\"ytick_3\">\n     <g id=\"line2d_14\">\n      <g>\n       <use xlink:href=\"#mc8cd1e239d\" x=\"23.878125\" y=\"133.2\" style=\"stroke: #000000; stroke-width: 0.8\"/>\n      </g>\n     </g>\n     <g id=\"text_14\">\n      <!-- 2 -->\n      <g transform=\"translate(14.798437 136.38125) rotate(-90) scale(0.1 -0.1)\">\n       <use xlink:href=\"#DejaVuSans-32\"/>\n      </g>\n     </g>\n    </g>\n    <g id=\"ytick_4\">\n     <g id=\"line2d_15\">\n      <g>\n       <use xlink:href=\"#mc8cd1e239d\" x=\"23.878125\" y=\"183.6\" style=\"stroke: #000000; stroke-width: 0.8\"/>\n      </g>\n     </g>\n     <g id=\"text_15\">\n      <!-- 3 -->\n      <g transform=\"translate(14.798437 186.78125) rotate(-90) scale(0.1 -0.1)\">\n       <use xlink:href=\"#DejaVuSans-33\"/>\n      </g>\n     </g>\n    </g>\n    <g id=\"ytick_5\">\n     <g id=\"line2d_16\">\n      <g>\n       <use xlink:href=\"#mc8cd1e239d\" x=\"23.878125\" y=\"234\" style=\"stroke: #000000; stroke-width: 0.8\"/>\n      </g>\n     </g>\n     <g id=\"text_16\">\n      <!-- 4 -->\n      <g transform=\"translate(14.798437 237.18125) rotate(-90) scale(0.1 -0.1)\">\n       <use xlink:href=\"#DejaVuSans-34\"/>\n      </g>\n     </g>\n    </g>\n    <g id=\"ytick_6\">\n     <g id=\"line2d_17\">\n      <g>\n       <use xlink:href=\"#mc8cd1e239d\" x=\"23.878125\" y=\"284.4\" style=\"stroke: #000000; stroke-width: 0.8\"/>\n      </g>\n     </g>\n     <g id=\"text_17\">\n      <!-- 5 -->\n      <g transform=\"translate(14.798437 287.58125) rotate(-90) scale(0.1 -0.1)\">\n       <use xlink:href=\"#DejaVuSans-35\"/>\n      </g>\n     </g>\n    </g>\n    <g id=\"ytick_7\">\n     <g id=\"line2d_18\">\n      <g>\n       <use xlink:href=\"#mc8cd1e239d\" x=\"23.878125\" y=\"334.8\" style=\"stroke: #000000; stroke-width: 0.8\"/>\n      </g>\n     </g>\n     <g id=\"text_18\">\n      <!-- 6 -->\n      <g transform=\"translate(14.798437 337.98125) rotate(-90) scale(0.1 -0.1)\">\n       <use xlink:href=\"#DejaVuSans-36\"/>\n      </g>\n     </g>\n    </g>\n    <g id=\"ytick_8\">\n     <g id=\"line2d_19\">\n      <g>\n       <use xlink:href=\"#mc8cd1e239d\" x=\"23.878125\" y=\"385.2\" style=\"stroke: #000000; stroke-width: 0.8\"/>\n      </g>\n     </g>\n     <g id=\"text_19\">\n      <!-- 7 -->\n      <g transform=\"translate(14.798437 388.38125) rotate(-90) scale(0.1 -0.1)\">\n       <use xlink:href=\"#DejaVuSans-37\"/>\n      </g>\n     </g>\n    </g>\n    <g id=\"ytick_9\">\n     <g id=\"line2d_20\">\n      <g>\n       <use xlink:href=\"#mc8cd1e239d\" x=\"23.878125\" y=\"435.6\" style=\"stroke: #000000; stroke-width: 0.8\"/>\n      </g>\n     </g>\n     <g id=\"text_20\">\n      <!-- 8 -->\n      <g transform=\"translate(14.798437 438.78125) rotate(-90) scale(0.1 -0.1)\">\n       <use xlink:href=\"#DejaVuSans-38\"/>\n      </g>\n     </g>\n    </g>\n    <g id=\"ytick_10\">\n     <g id=\"line2d_21\">\n      <g>\n       <use xlink:href=\"#mc8cd1e239d\" x=\"23.878125\" y=\"486\" style=\"stroke: #000000; stroke-width: 0.8\"/>\n      </g>\n     </g>\n     <g id=\"text_21\">\n      <!-- 9 -->\n      <g transform=\"translate(14.798437 489.18125) rotate(-90) scale(0.1 -0.1)\">\n       <use xlink:href=\"#DejaVuSans-39\"/>\n      </g>\n     </g>\n    </g>\n    <g id=\"ytick_11\">\n     <g id=\"line2d_22\">\n      <g>\n       <use xlink:href=\"#mc8cd1e239d\" x=\"23.878125\" y=\"536.4\" style=\"stroke: #000000; stroke-width: 0.8\"/>\n      </g>\n     </g>\n     <g id=\"text_22\">\n      <!-- 10 -->\n      <g transform=\"translate(14.798437 542.7625) rotate(-90) scale(0.1 -0.1)\">\n       <use xlink:href=\"#DejaVuSans-31\"/>\n       <use xlink:href=\"#DejaVuSans-30\" x=\"63.623047\"/>\n      </g>\n     </g>\n    </g>\n   </g>\n   <g id=\"text_23\">\n    <!-- 5 -->\n    <g style=\"fill: #ffffff\" transform=\"translate(45.742386 35.435313) scale(0.11 -0.11)\">\n     <use xlink:href=\"#DejaVuSans-35\"/>\n    </g>\n   </g>\n   <g id=\"text_24\">\n    <!-- 0 -->\n    <g style=\"fill: #ffffff\" transform=\"translate(96.469659 35.435313) scale(0.11 -0.11)\">\n     <use xlink:href=\"#DejaVuSans-30\"/>\n    </g>\n   </g>\n   <g id=\"text_25\">\n    <!-- 0 -->\n    <g style=\"fill: #ffffff\" transform=\"translate(147.196932 35.435313) scale(0.11 -0.11)\">\n     <use xlink:href=\"#DejaVuSans-30\"/>\n    </g>\n   </g>\n   <g id=\"text_26\">\n    <!-- 0 -->\n    <g style=\"fill: #ffffff\" transform=\"translate(197.924205 35.435313) scale(0.11 -0.11)\">\n     <use xlink:href=\"#DejaVuSans-30\"/>\n    </g>\n   </g>\n   <g id=\"text_27\">\n    <!-- 1 -->\n    <g style=\"fill: #ffffff\" transform=\"translate(248.651477 35.435313) scale(0.11 -0.11)\">\n     <use xlink:href=\"#DejaVuSans-31\"/>\n    </g>\n   </g>\n   <g id=\"text_28\">\n    <!-- 2 -->\n    <g style=\"fill: #ffffff\" transform=\"translate(299.37875 35.435313) scale(0.11 -0.11)\">\n     <use xlink:href=\"#DejaVuSans-32\"/>\n    </g>\n   </g>\n   <g id=\"text_29\">\n    <!-- 3 -->\n    <g style=\"fill: #ffffff\" transform=\"translate(350.106023 35.435313) scale(0.11 -0.11)\">\n     <use xlink:href=\"#DejaVuSans-33\"/>\n    </g>\n   </g>\n   <g id=\"text_30\">\n    <!-- 0 -->\n    <g style=\"fill: #ffffff\" transform=\"translate(400.833295 35.435313) scale(0.11 -0.11)\">\n     <use xlink:href=\"#DejaVuSans-30\"/>\n    </g>\n   </g>\n   <g id=\"text_31\">\n    <!-- 0 -->\n    <g style=\"fill: #ffffff\" transform=\"translate(451.560568 35.435313) scale(0.11 -0.11)\">\n     <use xlink:href=\"#DejaVuSans-30\"/>\n    </g>\n   </g>\n   <g id=\"text_32\">\n    <!-- 0 -->\n    <g style=\"fill: #ffffff\" transform=\"translate(502.287841 35.435313) scale(0.11 -0.11)\">\n     <use xlink:href=\"#DejaVuSans-30\"/>\n    </g>\n   </g>\n   <g id=\"text_33\">\n    <!-- 1 -->\n    <g style=\"fill: #ffffff\" transform=\"translate(553.015114 35.435313) scale(0.11 -0.11)\">\n     <use xlink:href=\"#DejaVuSans-31\"/>\n    </g>\n   </g>\n   <g id=\"text_34\">\n    <!-- 0 -->\n    <g style=\"fill: #ffffff\" transform=\"translate(45.742386 85.835313) scale(0.11 -0.11)\">\n     <use xlink:href=\"#DejaVuSans-30\"/>\n    </g>\n   </g>\n   <g id=\"text_35\">\n    <!-- 2 -->\n    <g style=\"fill: #ffffff\" transform=\"translate(96.469659 85.835313) scale(0.11 -0.11)\">\n     <use xlink:href=\"#DejaVuSans-32\"/>\n    </g>\n   </g>\n   <g id=\"text_36\">\n    <!-- 0 -->\n    <g style=\"fill: #ffffff\" transform=\"translate(147.196932 85.835313) scale(0.11 -0.11)\">\n     <use xlink:href=\"#DejaVuSans-30\"/>\n    </g>\n   </g>\n   <g id=\"text_37\">\n    <!-- 1 -->\n    <g style=\"fill: #ffffff\" transform=\"translate(197.924205 85.835313) scale(0.11 -0.11)\">\n     <use xlink:href=\"#DejaVuSans-31\"/>\n    </g>\n   </g>\n   <g id=\"text_38\">\n    <!-- 1 -->\n    <g style=\"fill: #ffffff\" transform=\"translate(248.651477 85.835313) scale(0.11 -0.11)\">\n     <use xlink:href=\"#DejaVuSans-31\"/>\n    </g>\n   </g>\n   <g id=\"text_39\">\n    <!-- 0 -->\n    <g style=\"fill: #ffffff\" transform=\"translate(299.37875 85.835313) scale(0.11 -0.11)\">\n     <use xlink:href=\"#DejaVuSans-30\"/>\n    </g>\n   </g>\n   <g id=\"text_40\">\n    <!-- 1 -->\n    <g style=\"fill: #ffffff\" transform=\"translate(350.106023 85.835313) scale(0.11 -0.11)\">\n     <use xlink:href=\"#DejaVuSans-31\"/>\n    </g>\n   </g>\n   <g id=\"text_41\">\n    <!-- 0 -->\n    <g style=\"fill: #ffffff\" transform=\"translate(400.833295 85.835313) scale(0.11 -0.11)\">\n     <use xlink:href=\"#DejaVuSans-30\"/>\n    </g>\n   </g>\n   <g id=\"text_42\">\n    <!-- 0 -->\n    <g style=\"fill: #ffffff\" transform=\"translate(451.560568 85.835313) scale(0.11 -0.11)\">\n     <use xlink:href=\"#DejaVuSans-30\"/>\n    </g>\n   </g>\n   <g id=\"text_43\">\n    <!-- 0 -->\n    <g style=\"fill: #ffffff\" transform=\"translate(502.287841 85.835313) scale(0.11 -0.11)\">\n     <use xlink:href=\"#DejaVuSans-30\"/>\n    </g>\n   </g>\n   <g id=\"text_44\">\n    <!-- 1 -->\n    <g style=\"fill: #ffffff\" transform=\"translate(553.015114 85.835313) scale(0.11 -0.11)\">\n     <use xlink:href=\"#DejaVuSans-31\"/>\n    </g>\n   </g>\n   <g id=\"text_45\">\n    <!-- 0 -->\n    <g style=\"fill: #ffffff\" transform=\"translate(45.742386 136.235313) scale(0.11 -0.11)\">\n     <use xlink:href=\"#DejaVuSans-30\"/>\n    </g>\n   </g>\n   <g id=\"text_46\">\n    <!-- 0 -->\n    <g style=\"fill: #ffffff\" transform=\"translate(96.469659 136.235313) scale(0.11 -0.11)\">\n     <use xlink:href=\"#DejaVuSans-30\"/>\n    </g>\n   </g>\n   <g id=\"text_47\">\n    <!-- 11 -->\n    <g style=\"fill: #262626\" transform=\"translate(143.697557 136.235313) scale(0.11 -0.11)\">\n     <use xlink:href=\"#DejaVuSans-31\"/>\n     <use xlink:href=\"#DejaVuSans-31\" x=\"63.623047\"/>\n    </g>\n   </g>\n   <g id=\"text_48\">\n    <!-- 0 -->\n    <g style=\"fill: #ffffff\" transform=\"translate(197.924205 136.235313) scale(0.11 -0.11)\">\n     <use xlink:href=\"#DejaVuSans-30\"/>\n    </g>\n   </g>\n   <g id=\"text_49\">\n    <!-- 1 -->\n    <g style=\"fill: #ffffff\" transform=\"translate(248.651477 136.235313) scale(0.11 -0.11)\">\n     <use xlink:href=\"#DejaVuSans-31\"/>\n    </g>\n   </g>\n   <g id=\"text_50\">\n    <!-- 1 -->\n    <g style=\"fill: #ffffff\" transform=\"translate(299.37875 136.235313) scale(0.11 -0.11)\">\n     <use xlink:href=\"#DejaVuSans-31\"/>\n    </g>\n   </g>\n   <g id=\"text_51\">\n    <!-- 0 -->\n    <g style=\"fill: #ffffff\" transform=\"translate(350.106023 136.235313) scale(0.11 -0.11)\">\n     <use xlink:href=\"#DejaVuSans-30\"/>\n    </g>\n   </g>\n   <g id=\"text_52\">\n    <!-- 0 -->\n    <g style=\"fill: #ffffff\" transform=\"translate(400.833295 136.235313) scale(0.11 -0.11)\">\n     <use xlink:href=\"#DejaVuSans-30\"/>\n    </g>\n   </g>\n   <g id=\"text_53\">\n    <!-- 1 -->\n    <g style=\"fill: #ffffff\" transform=\"translate(451.560568 136.235313) scale(0.11 -0.11)\">\n     <use xlink:href=\"#DejaVuSans-31\"/>\n    </g>\n   </g>\n   <g id=\"text_54\">\n    <!-- 0 -->\n    <g style=\"fill: #ffffff\" transform=\"translate(502.287841 136.235313) scale(0.11 -0.11)\">\n     <use xlink:href=\"#DejaVuSans-30\"/>\n    </g>\n   </g>\n   <g id=\"text_55\">\n    <!-- 0 -->\n    <g style=\"fill: #ffffff\" transform=\"translate(553.015114 136.235313) scale(0.11 -0.11)\">\n     <use xlink:href=\"#DejaVuSans-30\"/>\n    </g>\n   </g>\n   <g id=\"text_56\">\n    <!-- 3 -->\n    <g style=\"fill: #ffffff\" transform=\"translate(45.742386 186.635313) scale(0.11 -0.11)\">\n     <use xlink:href=\"#DejaVuSans-33\"/>\n    </g>\n   </g>\n   <g id=\"text_57\">\n    <!-- 0 -->\n    <g style=\"fill: #ffffff\" transform=\"translate(96.469659 186.635313) scale(0.11 -0.11)\">\n     <use xlink:href=\"#DejaVuSans-30\"/>\n    </g>\n   </g>\n   <g id=\"text_58\">\n    <!-- 3 -->\n    <g style=\"fill: #ffffff\" transform=\"translate(147.196932 186.635313) scale(0.11 -0.11)\">\n     <use xlink:href=\"#DejaVuSans-33\"/>\n    </g>\n   </g>\n   <g id=\"text_59\">\n    <!-- 1 -->\n    <g style=\"fill: #ffffff\" transform=\"translate(197.924205 186.635313) scale(0.11 -0.11)\">\n     <use xlink:href=\"#DejaVuSans-31\"/>\n    </g>\n   </g>\n   <g id=\"text_60\">\n    <!-- 0 -->\n    <g style=\"fill: #ffffff\" transform=\"translate(248.651477 186.635313) scale(0.11 -0.11)\">\n     <use xlink:href=\"#DejaVuSans-30\"/>\n    </g>\n   </g>\n   <g id=\"text_61\">\n    <!-- 0 -->\n    <g style=\"fill: #ffffff\" transform=\"translate(299.37875 186.635313) scale(0.11 -0.11)\">\n     <use xlink:href=\"#DejaVuSans-30\"/>\n    </g>\n   </g>\n   <g id=\"text_62\">\n    <!-- 0 -->\n    <g style=\"fill: #ffffff\" transform=\"translate(350.106023 186.635313) scale(0.11 -0.11)\">\n     <use xlink:href=\"#DejaVuSans-30\"/>\n    </g>\n   </g>\n   <g id=\"text_63\">\n    <!-- 0 -->\n    <g style=\"fill: #ffffff\" transform=\"translate(400.833295 186.635313) scale(0.11 -0.11)\">\n     <use xlink:href=\"#DejaVuSans-30\"/>\n    </g>\n   </g>\n   <g id=\"text_64\">\n    <!-- 2 -->\n    <g style=\"fill: #ffffff\" transform=\"translate(451.560568 186.635313) scale(0.11 -0.11)\">\n     <use xlink:href=\"#DejaVuSans-32\"/>\n    </g>\n   </g>\n   <g id=\"text_65\">\n    <!-- 1 -->\n    <g style=\"fill: #ffffff\" transform=\"translate(502.287841 186.635313) scale(0.11 -0.11)\">\n     <use xlink:href=\"#DejaVuSans-31\"/>\n    </g>\n   </g>\n   <g id=\"text_66\">\n    <!-- 1 -->\n    <g style=\"fill: #ffffff\" transform=\"translate(553.015114 186.635313) scale(0.11 -0.11)\">\n     <use xlink:href=\"#DejaVuSans-31\"/>\n    </g>\n   </g>\n   <g id=\"text_67\">\n    <!-- 1 -->\n    <g style=\"fill: #ffffff\" transform=\"translate(45.742386 237.035313) scale(0.11 -0.11)\">\n     <use xlink:href=\"#DejaVuSans-31\"/>\n    </g>\n   </g>\n   <g id=\"text_68\">\n    <!-- 0 -->\n    <g style=\"fill: #ffffff\" transform=\"translate(96.469659 237.035313) scale(0.11 -0.11)\">\n     <use xlink:href=\"#DejaVuSans-30\"/>\n    </g>\n   </g>\n   <g id=\"text_69\">\n    <!-- 0 -->\n    <g style=\"fill: #ffffff\" transform=\"translate(147.196932 237.035313) scale(0.11 -0.11)\">\n     <use xlink:href=\"#DejaVuSans-30\"/>\n    </g>\n   </g>\n   <g id=\"text_70\">\n    <!-- 2 -->\n    <g style=\"fill: #ffffff\" transform=\"translate(197.924205 237.035313) scale(0.11 -0.11)\">\n     <use xlink:href=\"#DejaVuSans-32\"/>\n    </g>\n   </g>\n   <g id=\"text_71\">\n    <!-- 0 -->\n    <g style=\"fill: #ffffff\" transform=\"translate(248.651477 237.035313) scale(0.11 -0.11)\">\n     <use xlink:href=\"#DejaVuSans-30\"/>\n    </g>\n   </g>\n   <g id=\"text_72\">\n    <!-- 3 -->\n    <g style=\"fill: #ffffff\" transform=\"translate(299.37875 237.035313) scale(0.11 -0.11)\">\n     <use xlink:href=\"#DejaVuSans-33\"/>\n    </g>\n   </g>\n   <g id=\"text_73\">\n    <!-- 3 -->\n    <g style=\"fill: #ffffff\" transform=\"translate(350.106023 237.035313) scale(0.11 -0.11)\">\n     <use xlink:href=\"#DejaVuSans-33\"/>\n    </g>\n   </g>\n   <g id=\"text_74\">\n    <!-- 2 -->\n    <g style=\"fill: #ffffff\" transform=\"translate(400.833295 237.035313) scale(0.11 -0.11)\">\n     <use xlink:href=\"#DejaVuSans-32\"/>\n    </g>\n   </g>\n   <g id=\"text_75\">\n    <!-- 1 -->\n    <g style=\"fill: #ffffff\" transform=\"translate(451.560568 237.035313) scale(0.11 -0.11)\">\n     <use xlink:href=\"#DejaVuSans-31\"/>\n    </g>\n   </g>\n   <g id=\"text_76\">\n    <!-- 0 -->\n    <g style=\"fill: #ffffff\" transform=\"translate(502.287841 237.035313) scale(0.11 -0.11)\">\n     <use xlink:href=\"#DejaVuSans-30\"/>\n    </g>\n   </g>\n   <g id=\"text_77\">\n    <!-- 1 -->\n    <g style=\"fill: #ffffff\" transform=\"translate(553.015114 237.035313) scale(0.11 -0.11)\">\n     <use xlink:href=\"#DejaVuSans-31\"/>\n    </g>\n   </g>\n   <g id=\"text_78\">\n    <!-- 1 -->\n    <g style=\"fill: #ffffff\" transform=\"translate(45.742386 287.435313) scale(0.11 -0.11)\">\n     <use xlink:href=\"#DejaVuSans-31\"/>\n    </g>\n   </g>\n   <g id=\"text_79\">\n    <!-- 3 -->\n    <g style=\"fill: #ffffff\" transform=\"translate(96.469659 287.435313) scale(0.11 -0.11)\">\n     <use xlink:href=\"#DejaVuSans-33\"/>\n    </g>\n   </g>\n   <g id=\"text_80\">\n    <!-- 0 -->\n    <g style=\"fill: #ffffff\" transform=\"translate(147.196932 287.435313) scale(0.11 -0.11)\">\n     <use xlink:href=\"#DejaVuSans-30\"/>\n    </g>\n   </g>\n   <g id=\"text_81\">\n    <!-- 1 -->\n    <g style=\"fill: #ffffff\" transform=\"translate(197.924205 287.435313) scale(0.11 -0.11)\">\n     <use xlink:href=\"#DejaVuSans-31\"/>\n    </g>\n   </g>\n   <g id=\"text_82\">\n    <!-- 1 -->\n    <g style=\"fill: #ffffff\" transform=\"translate(248.651477 287.435313) scale(0.11 -0.11)\">\n     <use xlink:href=\"#DejaVuSans-31\"/>\n    </g>\n   </g>\n   <g id=\"text_83\">\n    <!-- 3 -->\n    <g style=\"fill: #ffffff\" transform=\"translate(299.37875 287.435313) scale(0.11 -0.11)\">\n     <use xlink:href=\"#DejaVuSans-33\"/>\n    </g>\n   </g>\n   <g id=\"text_84\">\n    <!-- 1 -->\n    <g style=\"fill: #ffffff\" transform=\"translate(350.106023 287.435313) scale(0.11 -0.11)\">\n     <use xlink:href=\"#DejaVuSans-31\"/>\n    </g>\n   </g>\n   <g id=\"text_85\">\n    <!-- 1 -->\n    <g style=\"fill: #ffffff\" transform=\"translate(400.833295 287.435313) scale(0.11 -0.11)\">\n     <use xlink:href=\"#DejaVuSans-31\"/>\n    </g>\n   </g>\n   <g id=\"text_86\">\n    <!-- 4 -->\n    <g style=\"fill: #ffffff\" transform=\"translate(451.560568 287.435313) scale(0.11 -0.11)\">\n     <use xlink:href=\"#DejaVuSans-34\"/>\n    </g>\n   </g>\n   <g id=\"text_87\">\n    <!-- 3 -->\n    <g style=\"fill: #ffffff\" transform=\"translate(502.287841 287.435313) scale(0.11 -0.11)\">\n     <use xlink:href=\"#DejaVuSans-33\"/>\n    </g>\n   </g>\n   <g id=\"text_88\">\n    <!-- 0 -->\n    <g style=\"fill: #ffffff\" transform=\"translate(553.015114 287.435313) scale(0.11 -0.11)\">\n     <use xlink:href=\"#DejaVuSans-30\"/>\n    </g>\n   </g>\n   <g id=\"text_89\">\n    <!-- 1 -->\n    <g style=\"fill: #ffffff\" transform=\"translate(45.742386 337.835313) scale(0.11 -0.11)\">\n     <use xlink:href=\"#DejaVuSans-31\"/>\n    </g>\n   </g>\n   <g id=\"text_90\">\n    <!-- 1 -->\n    <g style=\"fill: #ffffff\" transform=\"translate(96.469659 337.835313) scale(0.11 -0.11)\">\n     <use xlink:href=\"#DejaVuSans-31\"/>\n    </g>\n   </g>\n   <g id=\"text_91\">\n    <!-- 2 -->\n    <g style=\"fill: #ffffff\" transform=\"translate(147.196932 337.835313) scale(0.11 -0.11)\">\n     <use xlink:href=\"#DejaVuSans-32\"/>\n    </g>\n   </g>\n   <g id=\"text_92\">\n    <!-- 0 -->\n    <g style=\"fill: #ffffff\" transform=\"translate(197.924205 337.835313) scale(0.11 -0.11)\">\n     <use xlink:href=\"#DejaVuSans-30\"/>\n    </g>\n   </g>\n   <g id=\"text_93\">\n    <!-- 1 -->\n    <g style=\"fill: #ffffff\" transform=\"translate(248.651477 337.835313) scale(0.11 -0.11)\">\n     <use xlink:href=\"#DejaVuSans-31\"/>\n    </g>\n   </g>\n   <g id=\"text_94\">\n    <!-- 2 -->\n    <g style=\"fill: #ffffff\" transform=\"translate(299.37875 337.835313) scale(0.11 -0.11)\">\n     <use xlink:href=\"#DejaVuSans-32\"/>\n    </g>\n   </g>\n   <g id=\"text_95\">\n    <!-- 6 -->\n    <g style=\"fill: #ffffff\" transform=\"translate(350.106023 337.835313) scale(0.11 -0.11)\">\n     <use xlink:href=\"#DejaVuSans-36\"/>\n    </g>\n   </g>\n   <g id=\"text_96\">\n    <!-- 2 -->\n    <g style=\"fill: #ffffff\" transform=\"translate(400.833295 337.835313) scale(0.11 -0.11)\">\n     <use xlink:href=\"#DejaVuSans-32\"/>\n    </g>\n   </g>\n   <g id=\"text_97\">\n    <!-- 1 -->\n    <g style=\"fill: #ffffff\" transform=\"translate(451.560568 337.835313) scale(0.11 -0.11)\">\n     <use xlink:href=\"#DejaVuSans-31\"/>\n    </g>\n   </g>\n   <g id=\"text_98\">\n    <!-- 3 -->\n    <g style=\"fill: #ffffff\" transform=\"translate(502.287841 337.835313) scale(0.11 -0.11)\">\n     <use xlink:href=\"#DejaVuSans-33\"/>\n    </g>\n   </g>\n   <g id=\"text_99\">\n    <!-- 1 -->\n    <g style=\"fill: #ffffff\" transform=\"translate(553.015114 337.835313) scale(0.11 -0.11)\">\n     <use xlink:href=\"#DejaVuSans-31\"/>\n    </g>\n   </g>\n   <g id=\"text_100\">\n    <!-- 1 -->\n    <g style=\"fill: #ffffff\" transform=\"translate(45.742386 388.235313) scale(0.11 -0.11)\">\n     <use xlink:href=\"#DejaVuSans-31\"/>\n    </g>\n   </g>\n   <g id=\"text_101\">\n    <!-- 0 -->\n    <g style=\"fill: #ffffff\" transform=\"translate(96.469659 388.235313) scale(0.11 -0.11)\">\n     <use xlink:href=\"#DejaVuSans-30\"/>\n    </g>\n   </g>\n   <g id=\"text_102\">\n    <!-- 1 -->\n    <g style=\"fill: #ffffff\" transform=\"translate(147.196932 388.235313) scale(0.11 -0.11)\">\n     <use xlink:href=\"#DejaVuSans-31\"/>\n    </g>\n   </g>\n   <g id=\"text_103\">\n    <!-- 0 -->\n    <g style=\"fill: #ffffff\" transform=\"translate(197.924205 388.235313) scale(0.11 -0.11)\">\n     <use xlink:href=\"#DejaVuSans-30\"/>\n    </g>\n   </g>\n   <g id=\"text_104\">\n    <!-- 2 -->\n    <g style=\"fill: #ffffff\" transform=\"translate(248.651477 388.235313) scale(0.11 -0.11)\">\n     <use xlink:href=\"#DejaVuSans-32\"/>\n    </g>\n   </g>\n   <g id=\"text_105\">\n    <!-- 1 -->\n    <g style=\"fill: #ffffff\" transform=\"translate(299.37875 388.235313) scale(0.11 -0.11)\">\n     <use xlink:href=\"#DejaVuSans-31\"/>\n    </g>\n   </g>\n   <g id=\"text_106\">\n    <!-- 2 -->\n    <g style=\"fill: #ffffff\" transform=\"translate(350.106023 388.235313) scale(0.11 -0.11)\">\n     <use xlink:href=\"#DejaVuSans-32\"/>\n    </g>\n   </g>\n   <g id=\"text_107\">\n    <!-- 1 -->\n    <g style=\"fill: #ffffff\" transform=\"translate(400.833295 388.235313) scale(0.11 -0.11)\">\n     <use xlink:href=\"#DejaVuSans-31\"/>\n    </g>\n   </g>\n   <g id=\"text_108\">\n    <!-- 1 -->\n    <g style=\"fill: #ffffff\" transform=\"translate(451.560568 388.235313) scale(0.11 -0.11)\">\n     <use xlink:href=\"#DejaVuSans-31\"/>\n    </g>\n   </g>\n   <g id=\"text_109\">\n    <!-- 1 -->\n    <g style=\"fill: #ffffff\" transform=\"translate(502.287841 388.235313) scale(0.11 -0.11)\">\n     <use xlink:href=\"#DejaVuSans-31\"/>\n    </g>\n   </g>\n   <g id=\"text_110\">\n    <!-- 4 -->\n    <g style=\"fill: #ffffff\" transform=\"translate(553.015114 388.235313) scale(0.11 -0.11)\">\n     <use xlink:href=\"#DejaVuSans-34\"/>\n    </g>\n   </g>\n   <g id=\"text_111\">\n    <!-- 0 -->\n    <g style=\"fill: #ffffff\" transform=\"translate(45.742386 438.635313) scale(0.11 -0.11)\">\n     <use xlink:href=\"#DejaVuSans-30\"/>\n    </g>\n   </g>\n   <g id=\"text_112\">\n    <!-- 1 -->\n    <g style=\"fill: #ffffff\" transform=\"translate(96.469659 438.635313) scale(0.11 -0.11)\">\n     <use xlink:href=\"#DejaVuSans-31\"/>\n    </g>\n   </g>\n   <g id=\"text_113\">\n    <!-- 0 -->\n    <g style=\"fill: #ffffff\" transform=\"translate(147.196932 438.635313) scale(0.11 -0.11)\">\n     <use xlink:href=\"#DejaVuSans-30\"/>\n    </g>\n   </g>\n   <g id=\"text_114\">\n    <!-- 0 -->\n    <g style=\"fill: #ffffff\" transform=\"translate(197.924205 438.635313) scale(0.11 -0.11)\">\n     <use xlink:href=\"#DejaVuSans-30\"/>\n    </g>\n   </g>\n   <g id=\"text_115\">\n    <!-- 0 -->\n    <g style=\"fill: #ffffff\" transform=\"translate(248.651477 438.635313) scale(0.11 -0.11)\">\n     <use xlink:href=\"#DejaVuSans-30\"/>\n    </g>\n   </g>\n   <g id=\"text_116\">\n    <!-- 2 -->\n    <g style=\"fill: #ffffff\" transform=\"translate(299.37875 438.635313) scale(0.11 -0.11)\">\n     <use xlink:href=\"#DejaVuSans-32\"/>\n    </g>\n   </g>\n   <g id=\"text_117\">\n    <!-- 1 -->\n    <g style=\"fill: #ffffff\" transform=\"translate(350.106023 438.635313) scale(0.11 -0.11)\">\n     <use xlink:href=\"#DejaVuSans-31\"/>\n    </g>\n   </g>\n   <g id=\"text_118\">\n    <!-- 1 -->\n    <g style=\"fill: #ffffff\" transform=\"translate(400.833295 438.635313) scale(0.11 -0.11)\">\n     <use xlink:href=\"#DejaVuSans-31\"/>\n    </g>\n   </g>\n   <g id=\"text_119\">\n    <!-- 2 -->\n    <g style=\"fill: #ffffff\" transform=\"translate(451.560568 438.635313) scale(0.11 -0.11)\">\n     <use xlink:href=\"#DejaVuSans-32\"/>\n    </g>\n   </g>\n   <g id=\"text_120\">\n    <!-- 0 -->\n    <g style=\"fill: #ffffff\" transform=\"translate(502.287841 438.635313) scale(0.11 -0.11)\">\n     <use xlink:href=\"#DejaVuSans-30\"/>\n    </g>\n   </g>\n   <g id=\"text_121\">\n    <!-- 0 -->\n    <g style=\"fill: #ffffff\" transform=\"translate(553.015114 438.635313) scale(0.11 -0.11)\">\n     <use xlink:href=\"#DejaVuSans-30\"/>\n    </g>\n   </g>\n   <g id=\"text_122\">\n    <!-- 3 -->\n    <g style=\"fill: #ffffff\" transform=\"translate(45.742386 489.035313) scale(0.11 -0.11)\">\n     <use xlink:href=\"#DejaVuSans-33\"/>\n    </g>\n   </g>\n   <g id=\"text_123\">\n    <!-- 0 -->\n    <g style=\"fill: #ffffff\" transform=\"translate(96.469659 489.035313) scale(0.11 -0.11)\">\n     <use xlink:href=\"#DejaVuSans-30\"/>\n    </g>\n   </g>\n   <g id=\"text_124\">\n    <!-- 0 -->\n    <g style=\"fill: #ffffff\" transform=\"translate(147.196932 489.035313) scale(0.11 -0.11)\">\n     <use xlink:href=\"#DejaVuSans-30\"/>\n    </g>\n   </g>\n   <g id=\"text_125\">\n    <!-- 3 -->\n    <g style=\"fill: #ffffff\" transform=\"translate(197.924205 489.035313) scale(0.11 -0.11)\">\n     <use xlink:href=\"#DejaVuSans-33\"/>\n    </g>\n   </g>\n   <g id=\"text_126\">\n    <!-- 1 -->\n    <g style=\"fill: #ffffff\" transform=\"translate(248.651477 489.035313) scale(0.11 -0.11)\">\n     <use xlink:href=\"#DejaVuSans-31\"/>\n    </g>\n   </g>\n   <g id=\"text_127\">\n    <!-- 3 -->\n    <g style=\"fill: #ffffff\" transform=\"translate(299.37875 489.035313) scale(0.11 -0.11)\">\n     <use xlink:href=\"#DejaVuSans-33\"/>\n    </g>\n   </g>\n   <g id=\"text_128\">\n    <!-- 1 -->\n    <g style=\"fill: #ffffff\" transform=\"translate(350.106023 489.035313) scale(0.11 -0.11)\">\n     <use xlink:href=\"#DejaVuSans-31\"/>\n    </g>\n   </g>\n   <g id=\"text_129\">\n    <!-- 4 -->\n    <g style=\"fill: #ffffff\" transform=\"translate(400.833295 489.035313) scale(0.11 -0.11)\">\n     <use xlink:href=\"#DejaVuSans-34\"/>\n    </g>\n   </g>\n   <g id=\"text_130\">\n    <!-- 1 -->\n    <g style=\"fill: #ffffff\" transform=\"translate(451.560568 489.035313) scale(0.11 -0.11)\">\n     <use xlink:href=\"#DejaVuSans-31\"/>\n    </g>\n   </g>\n   <g id=\"text_131\">\n    <!-- 1 -->\n    <g style=\"fill: #ffffff\" transform=\"translate(502.287841 489.035313) scale(0.11 -0.11)\">\n     <use xlink:href=\"#DejaVuSans-31\"/>\n    </g>\n   </g>\n   <g id=\"text_132\">\n    <!-- 0 -->\n    <g style=\"fill: #ffffff\" transform=\"translate(553.015114 489.035313) scale(0.11 -0.11)\">\n     <use xlink:href=\"#DejaVuSans-30\"/>\n    </g>\n   </g>\n   <g id=\"text_133\">\n    <!-- 0 -->\n    <g style=\"fill: #ffffff\" transform=\"translate(45.742386 539.435313) scale(0.11 -0.11)\">\n     <use xlink:href=\"#DejaVuSans-30\"/>\n    </g>\n   </g>\n   <g id=\"text_134\">\n    <!-- 0 -->\n    <g style=\"fill: #ffffff\" transform=\"translate(96.469659 539.435313) scale(0.11 -0.11)\">\n     <use xlink:href=\"#DejaVuSans-30\"/>\n    </g>\n   </g>\n   <g id=\"text_135\">\n    <!-- 1 -->\n    <g style=\"fill: #ffffff\" transform=\"translate(147.196932 539.435313) scale(0.11 -0.11)\">\n     <use xlink:href=\"#DejaVuSans-31\"/>\n    </g>\n   </g>\n   <g id=\"text_136\">\n    <!-- 1 -->\n    <g style=\"fill: #ffffff\" transform=\"translate(197.924205 539.435313) scale(0.11 -0.11)\">\n     <use xlink:href=\"#DejaVuSans-31\"/>\n    </g>\n   </g>\n   <g id=\"text_137\">\n    <!-- 2 -->\n    <g style=\"fill: #ffffff\" transform=\"translate(248.651477 539.435313) scale(0.11 -0.11)\">\n     <use xlink:href=\"#DejaVuSans-32\"/>\n    </g>\n   </g>\n   <g id=\"text_138\">\n    <!-- 4 -->\n    <g style=\"fill: #ffffff\" transform=\"translate(299.37875 539.435313) scale(0.11 -0.11)\">\n     <use xlink:href=\"#DejaVuSans-34\"/>\n    </g>\n   </g>\n   <g id=\"text_139\">\n    <!-- 1 -->\n    <g style=\"fill: #ffffff\" transform=\"translate(350.106023 539.435313) scale(0.11 -0.11)\">\n     <use xlink:href=\"#DejaVuSans-31\"/>\n    </g>\n   </g>\n   <g id=\"text_140\">\n    <!-- 1 -->\n    <g style=\"fill: #ffffff\" transform=\"translate(400.833295 539.435313) scale(0.11 -0.11)\">\n     <use xlink:href=\"#DejaVuSans-31\"/>\n    </g>\n   </g>\n   <g id=\"text_141\">\n    <!-- 0 -->\n    <g style=\"fill: #ffffff\" transform=\"translate(451.560568 539.435313) scale(0.11 -0.11)\">\n     <use xlink:href=\"#DejaVuSans-30\"/>\n    </g>\n   </g>\n   <g id=\"text_142\">\n    <!-- 0 -->\n    <g style=\"fill: #ffffff\" transform=\"translate(502.287841 539.435313) scale(0.11 -0.11)\">\n     <use xlink:href=\"#DejaVuSans-30\"/>\n    </g>\n   </g>\n   <g id=\"text_143\">\n    <!-- 0 -->\n    <g style=\"fill: #ffffff\" transform=\"translate(553.015114 539.435313) scale(0.11 -0.11)\">\n     <use xlink:href=\"#DejaVuSans-30\"/>\n    </g>\n   </g>\n  </g>\n </g>\n <defs>\n  <clipPath id=\"p76e2cc7f61\">\n   <rect x=\"23.878125\" y=\"7.2\" width=\"558\" height=\"554.4\"/>\n  </clipPath>\n </defs>\n</svg>\n",
            "application/pdf": "[encoded data removed]"
          },
          "metadata": {}
        }
      ]
    },
    {
      "cell_type": "code",
      "source": [
        "print_score(logistic_model, X_train, y_train, X_test, y_test, train=True)\n",
        "print_score(logistic_model, X_train, y_train, X_test, y_test, train=False)"
      ],
      "metadata": {
        "colab": {
          "base_uri": "https://localhost:8080/"
        },
        "id": "xO6Vhb-oiQn-",
        "outputId": "3555f717-d4d3-452c-b3ef-4e0580ee4bae"
      },
      "execution_count": 157,
      "outputs": [
        {
          "output_type": "stream",
          "name": "stdout",
          "text": [
            "Train Result:\n",
            "================================================\n",
            "Accuracy Score: 57.35%\n",
            "_______________________________________________\n",
            "CLASSIFICATION REPORT:\n",
            "                 0.0        1.0        2.0        3.0        4.0        5.0  \\\n",
            "precision   0.688525   0.755102   0.757576   0.620000   0.382979   0.492063   \n",
            "recall      0.724138   0.804348   0.961538   0.596154   0.400000   0.462687   \n",
            "f1-score    0.705882   0.778947   0.847458   0.607843   0.391304   0.476923   \n",
            "support    58.000000  46.000000  52.000000  52.000000  45.000000  67.000000   \n",
            "\n",
            "                 6.0        7.0        8.0        9.0       10.0  accuracy  \\\n",
            "precision   0.460000   0.422222   0.558140   0.553191   0.522727  0.573451   \n",
            "recall      0.377049   0.404255   0.585366   0.490566   0.534884  0.573451   \n",
            "f1-score    0.414414   0.413043   0.571429   0.520000   0.528736  0.573451   \n",
            "support    61.000000  47.000000  41.000000  53.000000  43.000000  0.573451   \n",
            "\n",
            "            macro avg  weighted avg  \n",
            "precision    0.564775      0.564761  \n",
            "recall       0.576453      0.573451  \n",
            "f1-score     0.568725      0.567128  \n",
            "support    565.000000    565.000000  \n",
            "_______________________________________________\n",
            "Confusion Matrix: \n",
            " [[42  1  1  2  2  0  5  2  0  2  1]\n",
            " [ 0 37  0  0  1  0  2  2  2  0  2]\n",
            " [ 0  1 50  0  0  0  0  1  0  0  0]\n",
            " [ 4  2  7 31  0  4  0  1  1  2  0]\n",
            " [ 2  0  0  1 18  5  3  7  3  5  1]\n",
            " [ 1  2  2  4  6 31  6  2  4  5  4]\n",
            " [ 3  2  2  3  3  9 23  4  4  3  5]\n",
            " [ 2  2  1  0  6  4  4 19  2  3  4]\n",
            " [ 0  1  1  0  3  5  2  1 24  0  4]\n",
            " [ 7  0  0  8  4  3  2  2  1 26  0]\n",
            " [ 0  1  2  1  4  2  3  4  2  1 23]]\n",
            "\n",
            "Test Result:\n",
            "================================================\n",
            "Accuracy Score: 22.54%\n",
            "_______________________________________________\n",
            "CLASSIFICATION REPORT:\n",
            "                 0.0       1.0        2.0        3.0   4.0        5.0  \\\n",
            "precision   0.333333  0.285714   0.611111   0.111111   0.0   0.142857   \n",
            "recall      0.416667  0.333333   0.785714   0.090909   0.0   0.166667   \n",
            "f1-score    0.370370  0.307692   0.687500   0.100000   0.0   0.153846   \n",
            "support    12.000000  6.000000  14.000000  11.000000  13.0  18.000000   \n",
            "\n",
            "                 6.0        7.0       8.0        9.0  10.0  accuracy  \\\n",
            "precision   0.315789   0.083333  0.153846   0.111111   0.0  0.225352   \n",
            "recall      0.300000   0.071429  0.285714   0.058824   0.0  0.225352   \n",
            "f1-score    0.307692   0.076923  0.200000   0.076923   0.0  0.225352   \n",
            "support    20.000000  14.000000  7.000000  17.000000  10.0  0.225352   \n",
            "\n",
            "            macro avg  weighted avg  \n",
            "precision    0.195292      0.200787  \n",
            "recall       0.228114      0.225352  \n",
            "f1-score     0.207359      0.209319  \n",
            "support    142.000000    142.000000  \n",
            "_______________________________________________\n",
            "Confusion Matrix: \n",
            " [[ 5  0  0  0  1  2  3  0  0  0  1]\n",
            " [ 0  2  0  1  1  0  1  0  0  0  1]\n",
            " [ 0  0 11  0  1  1  0  0  1  0  0]\n",
            " [ 3  0  3  1  0  0  0  0  2  1  1]\n",
            " [ 1  0  0  2  0  3  3  2  1  0  1]\n",
            " [ 1  3  0  1  1  3  1  1  4  3  0]\n",
            " [ 1  1  2  0  1  2  6  2  1  3  1]\n",
            " [ 1  0  1  0  2  1  2  1  1  1  4]\n",
            " [ 0  1  0  0  0  2  1  1  2  0  0]\n",
            " [ 3  0  0  3  1  3  1  4  1  1  0]\n",
            " [ 0  0  1  1  2  4  1  1  0  0  0]]\n",
            "\n"
          ]
        }
      ]
    },
    {
      "cell_type": "markdown",
      "source": [
        "### DecisionTree"
      ],
      "metadata": {
        "id": "U7BSZaHoiZl4"
      }
    },
    {
      "cell_type": "code",
      "source": [
        "clf = DecisionTreeClassifier(random_state=10)\n",
        "decision_tree = clf.fit(X_train,y_train)\n",
        "y_pred_dt = decision_tree.predict(X_test)\n",
        "cm_dt = confusion_matrix(y_test,y_pred_dt)\n",
        "train_dt_prob = decision_tree.predict_proba(X_train)\n",
        "cv_dt_prob = decision_tree.predict_proba(X_test)\n",
        "plt.figure(figsize=(10,10))\n",
        "sns.heatmap(cm_dt,annot=True,cbar = False,linewidths = 0.1, annot_kws = {'size':11},fmt='d')\n",
        "plt.show()"
      ],
      "metadata": {
        "colab": {
          "base_uri": "https://localhost:8080/",
          "height": 801
        },
        "id": "gsNBHfogidFn",
        "outputId": "8efc85ac-4b73-4266-c26d-3373307cd824"
      },
      "execution_count": 158,
      "outputs": [
        {
          "output_type": "display_data",
          "data": {
            "text/plain": [
              "<Figure size 1000x1000 with 1 Axes>"
            ],
            "image/svg+xml": "<?xml version=\"1.0\" encoding=\"utf-8\" standalone=\"no\"?>\n<!DOCTYPE svg PUBLIC \"-//W3C//DTD SVG 1.1//EN\"\n  \"http://www.w3.org/Graphics/SVG/1.1/DTD/svg11.dtd\">\n<svg xmlns:xlink=\"http://www.w3.org/1999/xlink\" width=\"589.078125pt\" height=\"585.478125pt\" viewBox=\"0 0 589.078125 585.478125\" xmlns=\"http://www.w3.org/2000/svg\" version=\"1.1\">\n <metadata>\n  <rdf:RDF xmlns:dc=\"http://purl.org/dc/elements/1.1/\" xmlns:cc=\"http://creativecommons.org/ns#\" xmlns:rdf=\"http://www.w3.org/1999/02/22-rdf-syntax-ns#\">\n   <cc:Work>\n    <dc:type rdf:resource=\"http://purl.org/dc/dcmitype/StillImage\"/>\n    <dc:date>2023-05-01T14:09:35.612236</dc:date>\n    <dc:format>image/svg+xml</dc:format>\n    <dc:creator>\n     <cc:Agent>\n      <dc:title>Matplotlib v3.7.1, https://matplotlib.org/</dc:title>\n     </cc:Agent>\n    </dc:creator>\n   </cc:Work>\n  </rdf:RDF>\n </metadata>\n <defs>\n  <style type=\"text/css\">*{stroke-linejoin: round; stroke-linecap: butt}</style>\n </defs>\n <g id=\"figure_1\">\n  <g id=\"patch_1\">\n   <path d=\"M 0 585.478125 \nL 589.078125 585.478125 \nL 589.078125 0 \nL 0 0 \nz\n\" style=\"fill: #ffffff\"/>\n  </g>\n  <g id=\"axes_1\">\n   <g id=\"patch_2\">\n    <path d=\"M 23.878125 561.6 \nL 581.878125 561.6 \nL 581.878125 7.2 \nL 23.878125 7.2 \nz\n\" style=\"fill: #ffffff\"/>\n   </g>\n   <g id=\"QuadMesh_1\">\n    <path d=\"M 23.878125 7.2 \nL 74.605398 7.2 \nL 74.605398 57.6 \nL 23.878125 57.6 \nL 23.878125 7.2 \n\" clip-path=\"url(#pda7f4ff268)\" style=\"fill: #cb1b4f; stroke: #ffffff; stroke-width: 0.1\"/>\n    <path d=\"M 74.605398 7.2 \nL 125.33267 7.2 \nL 125.33267 57.6 \nL 74.605398 57.6 \nL 74.605398 7.2 \n\" clip-path=\"url(#pda7f4ff268)\" style=\"fill: #03051a; stroke: #ffffff; stroke-width: 0.1\"/>\n    <path d=\"M 125.33267 7.2 \nL 176.059943 7.2 \nL 176.059943 57.6 \nL 125.33267 57.6 \nL 125.33267 7.2 \n\" clip-path=\"url(#pda7f4ff268)\" style=\"fill: #03051a; stroke: #ffffff; stroke-width: 0.1\"/>\n    <path d=\"M 176.059943 7.2 \nL 226.787216 7.2 \nL 226.787216 57.6 \nL 176.059943 57.6 \nL 176.059943 7.2 \n\" clip-path=\"url(#pda7f4ff268)\" style=\"fill: #841e5a; stroke: #ffffff; stroke-width: 0.1\"/>\n    <path d=\"M 226.787216 7.2 \nL 277.514489 7.2 \nL 277.514489 57.6 \nL 226.787216 57.6 \nL 226.787216 7.2 \n\" clip-path=\"url(#pda7f4ff268)\" style=\"fill: #3f1b43; stroke: #ffffff; stroke-width: 0.1\"/>\n    <path d=\"M 277.514489 7.2 \nL 328.241761 7.2 \nL 328.241761 57.6 \nL 277.514489 57.6 \nL 277.514489 7.2 \n\" clip-path=\"url(#pda7f4ff268)\" style=\"fill: #03051a; stroke: #ffffff; stroke-width: 0.1\"/>\n    <path d=\"M 328.241761 7.2 \nL 378.969034 7.2 \nL 378.969034 57.6 \nL 328.241761 57.6 \nL 328.241761 7.2 \n\" clip-path=\"url(#pda7f4ff268)\" style=\"fill: #3f1b43; stroke: #ffffff; stroke-width: 0.1\"/>\n    <path d=\"M 378.969034 7.2 \nL 429.696307 7.2 \nL 429.696307 57.6 \nL 378.969034 57.6 \nL 378.969034 7.2 \n\" clip-path=\"url(#pda7f4ff268)\" style=\"fill: #03051a; stroke: #ffffff; stroke-width: 0.1\"/>\n    <path d=\"M 429.696307 7.2 \nL 480.42358 7.2 \nL 480.42358 57.6 \nL 429.696307 57.6 \nL 429.696307 7.2 \n\" clip-path=\"url(#pda7f4ff268)\" style=\"fill: #3f1b43; stroke: #ffffff; stroke-width: 0.1\"/>\n    <path d=\"M 480.42358 7.2 \nL 531.150852 7.2 \nL 531.150852 57.6 \nL 480.42358 57.6 \nL 480.42358 7.2 \n\" clip-path=\"url(#pda7f4ff268)\" style=\"fill: #841e5a; stroke: #ffffff; stroke-width: 0.1\"/>\n    <path d=\"M 531.150852 7.2 \nL 581.878125 7.2 \nL 581.878125 57.6 \nL 531.150852 57.6 \nL 531.150852 7.2 \n\" clip-path=\"url(#pda7f4ff268)\" style=\"fill: #841e5a; stroke: #ffffff; stroke-width: 0.1\"/>\n    <path d=\"M 23.878125 57.6 \nL 74.605398 57.6 \nL 74.605398 108 \nL 23.878125 108 \nL 23.878125 57.6 \n\" clip-path=\"url(#pda7f4ff268)\" style=\"fill: #03051a; stroke: #ffffff; stroke-width: 0.1\"/>\n    <path d=\"M 74.605398 57.6 \nL 125.33267 57.6 \nL 125.33267 108 \nL 74.605398 108 \nL 74.605398 57.6 \n\" clip-path=\"url(#pda7f4ff268)\" style=\"fill: #841e5a; stroke: #ffffff; stroke-width: 0.1\"/>\n    <path d=\"M 125.33267 57.6 \nL 176.059943 57.6 \nL 176.059943 108 \nL 125.33267 108 \nL 125.33267 57.6 \n\" clip-path=\"url(#pda7f4ff268)\" style=\"fill: #03051a; stroke: #ffffff; stroke-width: 0.1\"/>\n    <path d=\"M 176.059943 57.6 \nL 226.787216 57.6 \nL 226.787216 108 \nL 176.059943 108 \nL 176.059943 57.6 \n\" clip-path=\"url(#pda7f4ff268)\" style=\"fill: #3f1b43; stroke: #ffffff; stroke-width: 0.1\"/>\n    <path d=\"M 226.787216 57.6 \nL 277.514489 57.6 \nL 277.514489 108 \nL 226.787216 108 \nL 226.787216 57.6 \n\" clip-path=\"url(#pda7f4ff268)\" style=\"fill: #3f1b43; stroke: #ffffff; stroke-width: 0.1\"/>\n    <path d=\"M 277.514489 57.6 \nL 328.241761 57.6 \nL 328.241761 108 \nL 277.514489 108 \nL 277.514489 57.6 \n\" clip-path=\"url(#pda7f4ff268)\" style=\"fill: #03051a; stroke: #ffffff; stroke-width: 0.1\"/>\n    <path d=\"M 328.241761 57.6 \nL 378.969034 57.6 \nL 378.969034 108 \nL 328.241761 108 \nL 328.241761 57.6 \n\" clip-path=\"url(#pda7f4ff268)\" style=\"fill: #03051a; stroke: #ffffff; stroke-width: 0.1\"/>\n    <path d=\"M 378.969034 57.6 \nL 429.696307 57.6 \nL 429.696307 108 \nL 378.969034 108 \nL 378.969034 57.6 \n\" clip-path=\"url(#pda7f4ff268)\" style=\"fill: #03051a; stroke: #ffffff; stroke-width: 0.1\"/>\n    <path d=\"M 429.696307 57.6 \nL 480.42358 57.6 \nL 480.42358 108 \nL 429.696307 108 \nL 429.696307 57.6 \n\" clip-path=\"url(#pda7f4ff268)\" style=\"fill: #03051a; stroke: #ffffff; stroke-width: 0.1\"/>\n    <path d=\"M 480.42358 57.6 \nL 531.150852 57.6 \nL 531.150852 108 \nL 480.42358 108 \nL 480.42358 57.6 \n\" clip-path=\"url(#pda7f4ff268)\" style=\"fill: #841e5a; stroke: #ffffff; stroke-width: 0.1\"/>\n    <path d=\"M 531.150852 57.6 \nL 581.878125 57.6 \nL 581.878125 108 \nL 531.150852 108 \nL 531.150852 57.6 \n\" clip-path=\"url(#pda7f4ff268)\" style=\"fill: #03051a; stroke: #ffffff; stroke-width: 0.1\"/>\n    <path d=\"M 23.878125 108 \nL 74.605398 108 \nL 74.605398 158.4 \nL 23.878125 158.4 \nL 23.878125 108 \n\" clip-path=\"url(#pda7f4ff268)\" style=\"fill: #3f1b43; stroke: #ffffff; stroke-width: 0.1\"/>\n    <path d=\"M 74.605398 108 \nL 125.33267 108 \nL 125.33267 158.4 \nL 74.605398 158.4 \nL 74.605398 108 \n\" clip-path=\"url(#pda7f4ff268)\" style=\"fill: #03051a; stroke: #ffffff; stroke-width: 0.1\"/>\n    <path d=\"M 125.33267 108 \nL 176.059943 108 \nL 176.059943 158.4 \nL 125.33267 158.4 \nL 125.33267 108 \n\" clip-path=\"url(#pda7f4ff268)\" style=\"fill: #faebdd; stroke: #ffffff; stroke-width: 0.1\"/>\n    <path d=\"M 176.059943 108 \nL 226.787216 108 \nL 226.787216 158.4 \nL 176.059943 158.4 \nL 176.059943 108 \n\" clip-path=\"url(#pda7f4ff268)\" style=\"fill: #cb1b4f; stroke: #ffffff; stroke-width: 0.1\"/>\n    <path d=\"M 226.787216 108 \nL 277.514489 108 \nL 277.514489 158.4 \nL 226.787216 158.4 \nL 226.787216 108 \n\" clip-path=\"url(#pda7f4ff268)\" style=\"fill: #03051a; stroke: #ffffff; stroke-width: 0.1\"/>\n    <path d=\"M 277.514489 108 \nL 328.241761 108 \nL 328.241761 158.4 \nL 277.514489 158.4 \nL 277.514489 108 \n\" clip-path=\"url(#pda7f4ff268)\" style=\"fill: #3f1b43; stroke: #ffffff; stroke-width: 0.1\"/>\n    <path d=\"M 328.241761 108 \nL 378.969034 108 \nL 378.969034 158.4 \nL 328.241761 158.4 \nL 328.241761 108 \n\" clip-path=\"url(#pda7f4ff268)\" style=\"fill: #3f1b43; stroke: #ffffff; stroke-width: 0.1\"/>\n    <path d=\"M 378.969034 108 \nL 429.696307 108 \nL 429.696307 158.4 \nL 378.969034 158.4 \nL 378.969034 108 \n\" clip-path=\"url(#pda7f4ff268)\" style=\"fill: #03051a; stroke: #ffffff; stroke-width: 0.1\"/>\n    <path d=\"M 429.696307 108 \nL 480.42358 108 \nL 480.42358 158.4 \nL 429.696307 158.4 \nL 429.696307 108 \n\" clip-path=\"url(#pda7f4ff268)\" style=\"fill: #841e5a; stroke: #ffffff; stroke-width: 0.1\"/>\n    <path d=\"M 480.42358 108 \nL 531.150852 108 \nL 531.150852 158.4 \nL 480.42358 158.4 \nL 480.42358 108 \n\" clip-path=\"url(#pda7f4ff268)\" style=\"fill: #03051a; stroke: #ffffff; stroke-width: 0.1\"/>\n    <path d=\"M 531.150852 108 \nL 581.878125 108 \nL 581.878125 158.4 \nL 531.150852 158.4 \nL 531.150852 108 \n\" clip-path=\"url(#pda7f4ff268)\" style=\"fill: #03051a; stroke: #ffffff; stroke-width: 0.1\"/>\n    <path d=\"M 23.878125 158.4 \nL 74.605398 158.4 \nL 74.605398 208.8 \nL 23.878125 208.8 \nL 23.878125 158.4 \n\" clip-path=\"url(#pda7f4ff268)\" style=\"fill: #cb1b4f; stroke: #ffffff; stroke-width: 0.1\"/>\n    <path d=\"M 74.605398 158.4 \nL 125.33267 158.4 \nL 125.33267 208.8 \nL 74.605398 208.8 \nL 74.605398 158.4 \n\" clip-path=\"url(#pda7f4ff268)\" style=\"fill: #03051a; stroke: #ffffff; stroke-width: 0.1\"/>\n    <path d=\"M 125.33267 158.4 \nL 176.059943 158.4 \nL 176.059943 208.8 \nL 125.33267 208.8 \nL 125.33267 158.4 \n\" clip-path=\"url(#pda7f4ff268)\" style=\"fill: #cb1b4f; stroke: #ffffff; stroke-width: 0.1\"/>\n    <path d=\"M 176.059943 158.4 \nL 226.787216 158.4 \nL 226.787216 208.8 \nL 176.059943 208.8 \nL 176.059943 158.4 \n\" clip-path=\"url(#pda7f4ff268)\" style=\"fill: #3f1b43; stroke: #ffffff; stroke-width: 0.1\"/>\n    <path d=\"M 226.787216 158.4 \nL 277.514489 158.4 \nL 277.514489 208.8 \nL 226.787216 208.8 \nL 226.787216 158.4 \n\" clip-path=\"url(#pda7f4ff268)\" style=\"fill: #03051a; stroke: #ffffff; stroke-width: 0.1\"/>\n    <path d=\"M 277.514489 158.4 \nL 328.241761 158.4 \nL 328.241761 208.8 \nL 277.514489 208.8 \nL 277.514489 158.4 \n\" clip-path=\"url(#pda7f4ff268)\" style=\"fill: #3f1b43; stroke: #ffffff; stroke-width: 0.1\"/>\n    <path d=\"M 328.241761 158.4 \nL 378.969034 158.4 \nL 378.969034 208.8 \nL 328.241761 208.8 \nL 328.241761 158.4 \n\" clip-path=\"url(#pda7f4ff268)\" style=\"fill: #03051a; stroke: #ffffff; stroke-width: 0.1\"/>\n    <path d=\"M 378.969034 158.4 \nL 429.696307 158.4 \nL 429.696307 208.8 \nL 378.969034 208.8 \nL 378.969034 158.4 \n\" clip-path=\"url(#pda7f4ff268)\" style=\"fill: #03051a; stroke: #ffffff; stroke-width: 0.1\"/>\n    <path d=\"M 429.696307 158.4 \nL 480.42358 158.4 \nL 480.42358 208.8 \nL 429.696307 208.8 \nL 429.696307 158.4 \n\" clip-path=\"url(#pda7f4ff268)\" style=\"fill: #3f1b43; stroke: #ffffff; stroke-width: 0.1\"/>\n    <path d=\"M 480.42358 158.4 \nL 531.150852 158.4 \nL 531.150852 208.8 \nL 480.42358 208.8 \nL 480.42358 158.4 \n\" clip-path=\"url(#pda7f4ff268)\" style=\"fill: #3f1b43; stroke: #ffffff; stroke-width: 0.1\"/>\n    <path d=\"M 531.150852 158.4 \nL 581.878125 158.4 \nL 581.878125 208.8 \nL 531.150852 208.8 \nL 531.150852 158.4 \n\" clip-path=\"url(#pda7f4ff268)\" style=\"fill: #3f1b43; stroke: #ffffff; stroke-width: 0.1\"/>\n    <path d=\"M 23.878125 208.8 \nL 74.605398 208.8 \nL 74.605398 259.2 \nL 23.878125 259.2 \nL 23.878125 208.8 \n\" clip-path=\"url(#pda7f4ff268)\" style=\"fill: #3f1b43; stroke: #ffffff; stroke-width: 0.1\"/>\n    <path d=\"M 74.605398 208.8 \nL 125.33267 208.8 \nL 125.33267 259.2 \nL 74.605398 259.2 \nL 74.605398 208.8 \n\" clip-path=\"url(#pda7f4ff268)\" style=\"fill: #841e5a; stroke: #ffffff; stroke-width: 0.1\"/>\n    <path d=\"M 125.33267 208.8 \nL 176.059943 208.8 \nL 176.059943 259.2 \nL 125.33267 259.2 \nL 125.33267 208.8 \n\" clip-path=\"url(#pda7f4ff268)\" style=\"fill: #03051a; stroke: #ffffff; stroke-width: 0.1\"/>\n    <path d=\"M 176.059943 208.8 \nL 226.787216 208.8 \nL 226.787216 259.2 \nL 176.059943 259.2 \nL 176.059943 208.8 \n\" clip-path=\"url(#pda7f4ff268)\" style=\"fill: #03051a; stroke: #ffffff; stroke-width: 0.1\"/>\n    <path d=\"M 226.787216 208.8 \nL 277.514489 208.8 \nL 277.514489 259.2 \nL 226.787216 259.2 \nL 226.787216 208.8 \n\" clip-path=\"url(#pda7f4ff268)\" style=\"fill: #841e5a; stroke: #ffffff; stroke-width: 0.1\"/>\n    <path d=\"M 277.514489 208.8 \nL 328.241761 208.8 \nL 328.241761 259.2 \nL 277.514489 259.2 \nL 277.514489 208.8 \n\" clip-path=\"url(#pda7f4ff268)\" style=\"fill: #cb1b4f; stroke: #ffffff; stroke-width: 0.1\"/>\n    <path d=\"M 328.241761 208.8 \nL 378.969034 208.8 \nL 378.969034 259.2 \nL 328.241761 259.2 \nL 328.241761 208.8 \n\" clip-path=\"url(#pda7f4ff268)\" style=\"fill: #3f1b43; stroke: #ffffff; stroke-width: 0.1\"/>\n    <path d=\"M 378.969034 208.8 \nL 429.696307 208.8 \nL 429.696307 259.2 \nL 378.969034 259.2 \nL 378.969034 208.8 \n\" clip-path=\"url(#pda7f4ff268)\" style=\"fill: #3f1b43; stroke: #ffffff; stroke-width: 0.1\"/>\n    <path d=\"M 429.696307 208.8 \nL 480.42358 208.8 \nL 480.42358 259.2 \nL 429.696307 259.2 \nL 429.696307 208.8 \n\" clip-path=\"url(#pda7f4ff268)\" style=\"fill: #841e5a; stroke: #ffffff; stroke-width: 0.1\"/>\n    <path d=\"M 480.42358 208.8 \nL 531.150852 208.8 \nL 531.150852 259.2 \nL 480.42358 259.2 \nL 480.42358 208.8 \n\" clip-path=\"url(#pda7f4ff268)\" style=\"fill: #03051a; stroke: #ffffff; stroke-width: 0.1\"/>\n    <path d=\"M 531.150852 208.8 \nL 581.878125 208.8 \nL 581.878125 259.2 \nL 531.150852 259.2 \nL 531.150852 208.8 \n\" clip-path=\"url(#pda7f4ff268)\" style=\"fill: #3f1b43; stroke: #ffffff; stroke-width: 0.1\"/>\n    <path d=\"M 23.878125 259.2 \nL 74.605398 259.2 \nL 74.605398 309.6 \nL 23.878125 309.6 \nL 23.878125 259.2 \n\" clip-path=\"url(#pda7f4ff268)\" style=\"fill: #03051a; stroke: #ffffff; stroke-width: 0.1\"/>\n    <path d=\"M 74.605398 259.2 \nL 125.33267 259.2 \nL 125.33267 309.6 \nL 74.605398 309.6 \nL 74.605398 259.2 \n\" clip-path=\"url(#pda7f4ff268)\" style=\"fill: #841e5a; stroke: #ffffff; stroke-width: 0.1\"/>\n    <path d=\"M 125.33267 259.2 \nL 176.059943 259.2 \nL 176.059943 309.6 \nL 125.33267 309.6 \nL 125.33267 259.2 \n\" clip-path=\"url(#pda7f4ff268)\" style=\"fill: #03051a; stroke: #ffffff; stroke-width: 0.1\"/>\n    <path d=\"M 176.059943 259.2 \nL 226.787216 259.2 \nL 226.787216 309.6 \nL 176.059943 309.6 \nL 176.059943 259.2 \n\" clip-path=\"url(#pda7f4ff268)\" style=\"fill: #3f1b43; stroke: #ffffff; stroke-width: 0.1\"/>\n    <path d=\"M 226.787216 259.2 \nL 277.514489 259.2 \nL 277.514489 309.6 \nL 226.787216 309.6 \nL 226.787216 259.2 \n\" clip-path=\"url(#pda7f4ff268)\" style=\"fill: #cb1b4f; stroke: #ffffff; stroke-width: 0.1\"/>\n    <path d=\"M 277.514489 259.2 \nL 328.241761 259.2 \nL 328.241761 309.6 \nL 277.514489 309.6 \nL 277.514489 259.2 \n\" clip-path=\"url(#pda7f4ff268)\" style=\"fill: #841e5a; stroke: #ffffff; stroke-width: 0.1\"/>\n    <path d=\"M 328.241761 259.2 \nL 378.969034 259.2 \nL 378.969034 309.6 \nL 328.241761 309.6 \nL 328.241761 259.2 \n\" clip-path=\"url(#pda7f4ff268)\" style=\"fill: #841e5a; stroke: #ffffff; stroke-width: 0.1\"/>\n    <path d=\"M 378.969034 259.2 \nL 429.696307 259.2 \nL 429.696307 309.6 \nL 378.969034 309.6 \nL 378.969034 259.2 \n\" clip-path=\"url(#pda7f4ff268)\" style=\"fill: #f06043; stroke: #ffffff; stroke-width: 0.1\"/>\n    <path d=\"M 429.696307 259.2 \nL 480.42358 259.2 \nL 480.42358 309.6 \nL 429.696307 309.6 \nL 429.696307 259.2 \n\" clip-path=\"url(#pda7f4ff268)\" style=\"fill: #841e5a; stroke: #ffffff; stroke-width: 0.1\"/>\n    <path d=\"M 480.42358 259.2 \nL 531.150852 259.2 \nL 531.150852 309.6 \nL 480.42358 309.6 \nL 480.42358 259.2 \n\" clip-path=\"url(#pda7f4ff268)\" style=\"fill: #3f1b43; stroke: #ffffff; stroke-width: 0.1\"/>\n    <path d=\"M 531.150852 259.2 \nL 581.878125 259.2 \nL 581.878125 309.6 \nL 531.150852 309.6 \nL 531.150852 259.2 \n\" clip-path=\"url(#pda7f4ff268)\" style=\"fill: #3f1b43; stroke: #ffffff; stroke-width: 0.1\"/>\n    <path d=\"M 23.878125 309.6 \nL 74.605398 309.6 \nL 74.605398 360 \nL 23.878125 360 \nL 23.878125 309.6 \n\" clip-path=\"url(#pda7f4ff268)\" style=\"fill: #cb1b4f; stroke: #ffffff; stroke-width: 0.1\"/>\n    <path d=\"M 74.605398 309.6 \nL 125.33267 309.6 \nL 125.33267 360 \nL 74.605398 360 \nL 74.605398 309.6 \n\" clip-path=\"url(#pda7f4ff268)\" style=\"fill: #3f1b43; stroke: #ffffff; stroke-width: 0.1\"/>\n    <path d=\"M 125.33267 309.6 \nL 176.059943 309.6 \nL 176.059943 360 \nL 125.33267 360 \nL 125.33267 309.6 \n\" clip-path=\"url(#pda7f4ff268)\" style=\"fill: #3f1b43; stroke: #ffffff; stroke-width: 0.1\"/>\n    <path d=\"M 176.059943 309.6 \nL 226.787216 309.6 \nL 226.787216 360 \nL 176.059943 360 \nL 176.059943 309.6 \n\" clip-path=\"url(#pda7f4ff268)\" style=\"fill: #f06043; stroke: #ffffff; stroke-width: 0.1\"/>\n    <path d=\"M 226.787216 309.6 \nL 277.514489 309.6 \nL 277.514489 360 \nL 226.787216 360 \nL 226.787216 309.6 \n\" clip-path=\"url(#pda7f4ff268)\" style=\"fill: #cb1b4f; stroke: #ffffff; stroke-width: 0.1\"/>\n    <path d=\"M 277.514489 309.6 \nL 328.241761 309.6 \nL 328.241761 360 \nL 277.514489 360 \nL 277.514489 309.6 \n\" clip-path=\"url(#pda7f4ff268)\" style=\"fill: #841e5a; stroke: #ffffff; stroke-width: 0.1\"/>\n    <path d=\"M 328.241761 309.6 \nL 378.969034 309.6 \nL 378.969034 360 \nL 328.241761 360 \nL 328.241761 309.6 \n\" clip-path=\"url(#pda7f4ff268)\" style=\"fill: #cb1b4f; stroke: #ffffff; stroke-width: 0.1\"/>\n    <path d=\"M 378.969034 309.6 \nL 429.696307 309.6 \nL 429.696307 360 \nL 378.969034 360 \nL 378.969034 309.6 \n\" clip-path=\"url(#pda7f4ff268)\" style=\"fill: #3f1b43; stroke: #ffffff; stroke-width: 0.1\"/>\n    <path d=\"M 429.696307 309.6 \nL 480.42358 309.6 \nL 480.42358 360 \nL 429.696307 360 \nL 429.696307 309.6 \n\" clip-path=\"url(#pda7f4ff268)\" style=\"fill: #3f1b43; stroke: #ffffff; stroke-width: 0.1\"/>\n    <path d=\"M 480.42358 309.6 \nL 531.150852 309.6 \nL 531.150852 360 \nL 480.42358 360 \nL 480.42358 309.6 \n\" clip-path=\"url(#pda7f4ff268)\" style=\"fill: #3f1b43; stroke: #ffffff; stroke-width: 0.1\"/>\n    <path d=\"M 531.150852 309.6 \nL 581.878125 309.6 \nL 581.878125 360 \nL 531.150852 360 \nL 531.150852 309.6 \n\" clip-path=\"url(#pda7f4ff268)\" style=\"fill: #03051a; stroke: #ffffff; stroke-width: 0.1\"/>\n    <path d=\"M 23.878125 360 \nL 74.605398 360 \nL 74.605398 410.4 \nL 23.878125 410.4 \nL 23.878125 360 \n\" clip-path=\"url(#pda7f4ff268)\" style=\"fill: #03051a; stroke: #ffffff; stroke-width: 0.1\"/>\n    <path d=\"M 74.605398 360 \nL 125.33267 360 \nL 125.33267 410.4 \nL 74.605398 410.4 \nL 74.605398 360 \n\" clip-path=\"url(#pda7f4ff268)\" style=\"fill: #03051a; stroke: #ffffff; stroke-width: 0.1\"/>\n    <path d=\"M 125.33267 360 \nL 176.059943 360 \nL 176.059943 410.4 \nL 125.33267 410.4 \nL 125.33267 360 \n\" clip-path=\"url(#pda7f4ff268)\" style=\"fill: #841e5a; stroke: #ffffff; stroke-width: 0.1\"/>\n    <path d=\"M 176.059943 360 \nL 226.787216 360 \nL 226.787216 410.4 \nL 176.059943 410.4 \nL 176.059943 360 \n\" clip-path=\"url(#pda7f4ff268)\" style=\"fill: #841e5a; stroke: #ffffff; stroke-width: 0.1\"/>\n    <path d=\"M 226.787216 360 \nL 277.514489 360 \nL 277.514489 410.4 \nL 226.787216 410.4 \nL 226.787216 360 \n\" clip-path=\"url(#pda7f4ff268)\" style=\"fill: #3f1b43; stroke: #ffffff; stroke-width: 0.1\"/>\n    <path d=\"M 277.514489 360 \nL 328.241761 360 \nL 328.241761 410.4 \nL 277.514489 410.4 \nL 277.514489 360 \n\" clip-path=\"url(#pda7f4ff268)\" style=\"fill: #3f1b43; stroke: #ffffff; stroke-width: 0.1\"/>\n    <path d=\"M 328.241761 360 \nL 378.969034 360 \nL 378.969034 410.4 \nL 328.241761 410.4 \nL 328.241761 360 \n\" clip-path=\"url(#pda7f4ff268)\" style=\"fill: #841e5a; stroke: #ffffff; stroke-width: 0.1\"/>\n    <path d=\"M 378.969034 360 \nL 429.696307 360 \nL 429.696307 410.4 \nL 378.969034 410.4 \nL 378.969034 360 \n\" clip-path=\"url(#pda7f4ff268)\" style=\"fill: #cb1b4f; stroke: #ffffff; stroke-width: 0.1\"/>\n    <path d=\"M 429.696307 360 \nL 480.42358 360 \nL 480.42358 410.4 \nL 429.696307 410.4 \nL 429.696307 360 \n\" clip-path=\"url(#pda7f4ff268)\" style=\"fill: #03051a; stroke: #ffffff; stroke-width: 0.1\"/>\n    <path d=\"M 480.42358 360 \nL 531.150852 360 \nL 531.150852 410.4 \nL 480.42358 410.4 \nL 480.42358 360 \n\" clip-path=\"url(#pda7f4ff268)\" style=\"fill: #3f1b43; stroke: #ffffff; stroke-width: 0.1\"/>\n    <path d=\"M 531.150852 360 \nL 581.878125 360 \nL 581.878125 410.4 \nL 531.150852 410.4 \nL 531.150852 360 \n\" clip-path=\"url(#pda7f4ff268)\" style=\"fill: #841e5a; stroke: #ffffff; stroke-width: 0.1\"/>\n    <path d=\"M 23.878125 410.4 \nL 74.605398 410.4 \nL 74.605398 460.8 \nL 23.878125 460.8 \nL 23.878125 410.4 \n\" clip-path=\"url(#pda7f4ff268)\" style=\"fill: #03051a; stroke: #ffffff; stroke-width: 0.1\"/>\n    <path d=\"M 74.605398 410.4 \nL 125.33267 410.4 \nL 125.33267 460.8 \nL 74.605398 460.8 \nL 74.605398 410.4 \n\" clip-path=\"url(#pda7f4ff268)\" style=\"fill: #3f1b43; stroke: #ffffff; stroke-width: 0.1\"/>\n    <path d=\"M 125.33267 410.4 \nL 176.059943 410.4 \nL 176.059943 460.8 \nL 125.33267 460.8 \nL 125.33267 410.4 \n\" clip-path=\"url(#pda7f4ff268)\" style=\"fill: #03051a; stroke: #ffffff; stroke-width: 0.1\"/>\n    <path d=\"M 176.059943 410.4 \nL 226.787216 410.4 \nL 226.787216 460.8 \nL 176.059943 460.8 \nL 176.059943 410.4 \n\" clip-path=\"url(#pda7f4ff268)\" style=\"fill: #03051a; stroke: #ffffff; stroke-width: 0.1\"/>\n    <path d=\"M 226.787216 410.4 \nL 277.514489 410.4 \nL 277.514489 460.8 \nL 226.787216 460.8 \nL 226.787216 410.4 \n\" clip-path=\"url(#pda7f4ff268)\" style=\"fill: #03051a; stroke: #ffffff; stroke-width: 0.1\"/>\n    <path d=\"M 277.514489 410.4 \nL 328.241761 410.4 \nL 328.241761 460.8 \nL 277.514489 460.8 \nL 277.514489 410.4 \n\" clip-path=\"url(#pda7f4ff268)\" style=\"fill: #03051a; stroke: #ffffff; stroke-width: 0.1\"/>\n    <path d=\"M 328.241761 410.4 \nL 378.969034 410.4 \nL 378.969034 460.8 \nL 328.241761 460.8 \nL 328.241761 410.4 \n\" clip-path=\"url(#pda7f4ff268)\" style=\"fill: #841e5a; stroke: #ffffff; stroke-width: 0.1\"/>\n    <path d=\"M 378.969034 410.4 \nL 429.696307 410.4 \nL 429.696307 460.8 \nL 378.969034 460.8 \nL 378.969034 410.4 \n\" clip-path=\"url(#pda7f4ff268)\" style=\"fill: #841e5a; stroke: #ffffff; stroke-width: 0.1\"/>\n    <path d=\"M 429.696307 410.4 \nL 480.42358 410.4 \nL 480.42358 460.8 \nL 429.696307 460.8 \nL 429.696307 410.4 \n\" clip-path=\"url(#pda7f4ff268)\" style=\"fill: #3f1b43; stroke: #ffffff; stroke-width: 0.1\"/>\n    <path d=\"M 480.42358 410.4 \nL 531.150852 410.4 \nL 531.150852 460.8 \nL 480.42358 460.8 \nL 480.42358 410.4 \n\" clip-path=\"url(#pda7f4ff268)\" style=\"fill: #03051a; stroke: #ffffff; stroke-width: 0.1\"/>\n    <path d=\"M 531.150852 410.4 \nL 581.878125 410.4 \nL 581.878125 460.8 \nL 531.150852 460.8 \nL 531.150852 410.4 \n\" clip-path=\"url(#pda7f4ff268)\" style=\"fill: #3f1b43; stroke: #ffffff; stroke-width: 0.1\"/>\n    <path d=\"M 23.878125 460.8 \nL 74.605398 460.8 \nL 74.605398 511.2 \nL 23.878125 511.2 \nL 23.878125 460.8 \n\" clip-path=\"url(#pda7f4ff268)\" style=\"fill: #03051a; stroke: #ffffff; stroke-width: 0.1\"/>\n    <path d=\"M 74.605398 460.8 \nL 125.33267 460.8 \nL 125.33267 511.2 \nL 74.605398 511.2 \nL 74.605398 460.8 \n\" clip-path=\"url(#pda7f4ff268)\" style=\"fill: #3f1b43; stroke: #ffffff; stroke-width: 0.1\"/>\n    <path d=\"M 125.33267 460.8 \nL 176.059943 460.8 \nL 176.059943 511.2 \nL 125.33267 511.2 \nL 125.33267 460.8 \n\" clip-path=\"url(#pda7f4ff268)\" style=\"fill: #03051a; stroke: #ffffff; stroke-width: 0.1\"/>\n    <path d=\"M 176.059943 460.8 \nL 226.787216 460.8 \nL 226.787216 511.2 \nL 176.059943 511.2 \nL 176.059943 460.8 \n\" clip-path=\"url(#pda7f4ff268)\" style=\"fill: #cb1b4f; stroke: #ffffff; stroke-width: 0.1\"/>\n    <path d=\"M 226.787216 460.8 \nL 277.514489 460.8 \nL 277.514489 511.2 \nL 226.787216 511.2 \nL 226.787216 460.8 \n\" clip-path=\"url(#pda7f4ff268)\" style=\"fill: #03051a; stroke: #ffffff; stroke-width: 0.1\"/>\n    <path d=\"M 277.514489 460.8 \nL 328.241761 460.8 \nL 328.241761 511.2 \nL 277.514489 511.2 \nL 277.514489 460.8 \n\" clip-path=\"url(#pda7f4ff268)\" style=\"fill: #841e5a; stroke: #ffffff; stroke-width: 0.1\"/>\n    <path d=\"M 328.241761 460.8 \nL 378.969034 460.8 \nL 378.969034 511.2 \nL 328.241761 511.2 \nL 328.241761 460.8 \n\" clip-path=\"url(#pda7f4ff268)\" style=\"fill: #cb1b4f; stroke: #ffffff; stroke-width: 0.1\"/>\n    <path d=\"M 378.969034 460.8 \nL 429.696307 460.8 \nL 429.696307 511.2 \nL 378.969034 511.2 \nL 378.969034 460.8 \n\" clip-path=\"url(#pda7f4ff268)\" style=\"fill: #841e5a; stroke: #ffffff; stroke-width: 0.1\"/>\n    <path d=\"M 429.696307 460.8 \nL 480.42358 460.8 \nL 480.42358 511.2 \nL 429.696307 511.2 \nL 429.696307 460.8 \n\" clip-path=\"url(#pda7f4ff268)\" style=\"fill: #03051a; stroke: #ffffff; stroke-width: 0.1\"/>\n    <path d=\"M 480.42358 460.8 \nL 531.150852 460.8 \nL 531.150852 511.2 \nL 480.42358 511.2 \nL 480.42358 460.8 \n\" clip-path=\"url(#pda7f4ff268)\" style=\"fill: #f06043; stroke: #ffffff; stroke-width: 0.1\"/>\n    <path d=\"M 531.150852 460.8 \nL 581.878125 460.8 \nL 581.878125 511.2 \nL 531.150852 511.2 \nL 531.150852 460.8 \n\" clip-path=\"url(#pda7f4ff268)\" style=\"fill: #841e5a; stroke: #ffffff; stroke-width: 0.1\"/>\n    <path d=\"M 23.878125 511.2 \nL 74.605398 511.2 \nL 74.605398 561.6 \nL 23.878125 561.6 \nL 23.878125 511.2 \n\" clip-path=\"url(#pda7f4ff268)\" style=\"fill: #03051a; stroke: #ffffff; stroke-width: 0.1\"/>\n    <path d=\"M 74.605398 511.2 \nL 125.33267 511.2 \nL 125.33267 561.6 \nL 74.605398 561.6 \nL 74.605398 511.2 \n\" clip-path=\"url(#pda7f4ff268)\" style=\"fill: #3f1b43; stroke: #ffffff; stroke-width: 0.1\"/>\n    <path d=\"M 125.33267 511.2 \nL 176.059943 511.2 \nL 176.059943 561.6 \nL 125.33267 561.6 \nL 125.33267 511.2 \n\" clip-path=\"url(#pda7f4ff268)\" style=\"fill: #3f1b43; stroke: #ffffff; stroke-width: 0.1\"/>\n    <path d=\"M 176.059943 511.2 \nL 226.787216 511.2 \nL 226.787216 561.6 \nL 176.059943 561.6 \nL 176.059943 511.2 \n\" clip-path=\"url(#pda7f4ff268)\" style=\"fill: #3f1b43; stroke: #ffffff; stroke-width: 0.1\"/>\n    <path d=\"M 226.787216 511.2 \nL 277.514489 511.2 \nL 277.514489 561.6 \nL 226.787216 561.6 \nL 226.787216 511.2 \n\" clip-path=\"url(#pda7f4ff268)\" style=\"fill: #841e5a; stroke: #ffffff; stroke-width: 0.1\"/>\n    <path d=\"M 277.514489 511.2 \nL 328.241761 511.2 \nL 328.241761 561.6 \nL 277.514489 561.6 \nL 277.514489 511.2 \n\" clip-path=\"url(#pda7f4ff268)\" style=\"fill: #841e5a; stroke: #ffffff; stroke-width: 0.1\"/>\n    <path d=\"M 328.241761 511.2 \nL 378.969034 511.2 \nL 378.969034 561.6 \nL 328.241761 561.6 \nL 328.241761 511.2 \n\" clip-path=\"url(#pda7f4ff268)\" style=\"fill: #3f1b43; stroke: #ffffff; stroke-width: 0.1\"/>\n    <path d=\"M 378.969034 511.2 \nL 429.696307 511.2 \nL 429.696307 561.6 \nL 378.969034 561.6 \nL 378.969034 511.2 \n\" clip-path=\"url(#pda7f4ff268)\" style=\"fill: #841e5a; stroke: #ffffff; stroke-width: 0.1\"/>\n    <path d=\"M 429.696307 511.2 \nL 480.42358 511.2 \nL 480.42358 561.6 \nL 429.696307 561.6 \nL 429.696307 511.2 \n\" clip-path=\"url(#pda7f4ff268)\" style=\"fill: #03051a; stroke: #ffffff; stroke-width: 0.1\"/>\n    <path d=\"M 480.42358 511.2 \nL 531.150852 511.2 \nL 531.150852 561.6 \nL 480.42358 561.6 \nL 480.42358 511.2 \n\" clip-path=\"url(#pda7f4ff268)\" style=\"fill: #03051a; stroke: #ffffff; stroke-width: 0.1\"/>\n    <path d=\"M 531.150852 511.2 \nL 581.878125 511.2 \nL 581.878125 561.6 \nL 531.150852 561.6 \nL 531.150852 511.2 \n\" clip-path=\"url(#pda7f4ff268)\" style=\"fill: #03051a; stroke: #ffffff; stroke-width: 0.1\"/>\n   </g>\n   <g id=\"matplotlib.axis_1\">\n    <g id=\"xtick_1\">\n     <g id=\"line2d_1\">\n      <defs>\n       <path id=\"m2694ea8f1c\" d=\"M 0 0 \nL 0 3.5 \n\" style=\"stroke: #000000; stroke-width: 0.8\"/>\n      </defs>\n      <g>\n       <use xlink:href=\"#m2694ea8f1c\" x=\"49.241761\" y=\"561.6\" style=\"stroke: #000000; stroke-width: 0.8\"/>\n      </g>\n     </g>\n     <g id=\"text_1\">\n      <!-- 0 -->\n      <g transform=\"translate(46.060511 576.198438) scale(0.1 -0.1)\">\n       <defs>\n        <path id=\"DejaVuSans-30\" d=\"M 2034 4250 \nQ 1547 4250 1301 3770 \nQ 1056 3291 1056 2328 \nQ 1056 1369 1301 889 \nQ 1547 409 2034 409 \nQ 2525 409 2770 889 \nQ 3016 1369 3016 2328 \nQ 3016 3291 2770 3770 \nQ 2525 4250 2034 4250 \nz\nM 2034 4750 \nQ 2819 4750 3233 4129 \nQ 3647 3509 3647 2328 \nQ 3647 1150 3233 529 \nQ 2819 -91 2034 -91 \nQ 1250 -91 836 529 \nQ 422 1150 422 2328 \nQ 422 3509 836 4129 \nQ 1250 4750 2034 4750 \nz\n\" transform=\"scale(0.015625)\"/>\n       </defs>\n       <use xlink:href=\"#DejaVuSans-30\"/>\n      </g>\n     </g>\n    </g>\n    <g id=\"xtick_2\">\n     <g id=\"line2d_2\">\n      <g>\n       <use xlink:href=\"#m2694ea8f1c\" x=\"99.969034\" y=\"561.6\" style=\"stroke: #000000; stroke-width: 0.8\"/>\n      </g>\n     </g>\n     <g id=\"text_2\">\n      <!-- 1 -->\n      <g transform=\"translate(96.787784 576.198438) scale(0.1 -0.1)\">\n       <defs>\n        <path id=\"DejaVuSans-31\" d=\"M 794 531 \nL 1825 531 \nL 1825 4091 \nL 703 3866 \nL 703 4441 \nL 1819 4666 \nL 2450 4666 \nL 2450 531 \nL 3481 531 \nL 3481 0 \nL 794 0 \nL 794 531 \nz\n\" transform=\"scale(0.015625)\"/>\n       </defs>\n       <use xlink:href=\"#DejaVuSans-31\"/>\n      </g>\n     </g>\n    </g>\n    <g id=\"xtick_3\">\n     <g id=\"line2d_3\">\n      <g>\n       <use xlink:href=\"#m2694ea8f1c\" x=\"150.696307\" y=\"561.6\" style=\"stroke: #000000; stroke-width: 0.8\"/>\n      </g>\n     </g>\n     <g id=\"text_3\">\n      <!-- 2 -->\n      <g transform=\"translate(147.515057 576.198438) scale(0.1 -0.1)\">\n       <defs>\n        <path id=\"DejaVuSans-32\" d=\"M 1228 531 \nL 3431 531 \nL 3431 0 \nL 469 0 \nL 469 531 \nQ 828 903 1448 1529 \nQ 2069 2156 2228 2338 \nQ 2531 2678 2651 2914 \nQ 2772 3150 2772 3378 \nQ 2772 3750 2511 3984 \nQ 2250 4219 1831 4219 \nQ 1534 4219 1204 4116 \nQ 875 4013 500 3803 \nL 500 4441 \nQ 881 4594 1212 4672 \nQ 1544 4750 1819 4750 \nQ 2544 4750 2975 4387 \nQ 3406 4025 3406 3419 \nQ 3406 3131 3298 2873 \nQ 3191 2616 2906 2266 \nQ 2828 2175 2409 1742 \nQ 1991 1309 1228 531 \nz\n\" transform=\"scale(0.015625)\"/>\n       </defs>\n       <use xlink:href=\"#DejaVuSans-32\"/>\n      </g>\n     </g>\n    </g>\n    <g id=\"xtick_4\">\n     <g id=\"line2d_4\">\n      <g>\n       <use xlink:href=\"#m2694ea8f1c\" x=\"201.42358\" y=\"561.6\" style=\"stroke: #000000; stroke-width: 0.8\"/>\n      </g>\n     </g>\n     <g id=\"text_4\">\n      <!-- 3 -->\n      <g transform=\"translate(198.24233 576.198438) scale(0.1 -0.1)\">\n       <defs>\n        <path id=\"DejaVuSans-33\" d=\"M 2597 2516 \nQ 3050 2419 3304 2112 \nQ 3559 1806 3559 1356 \nQ 3559 666 3084 287 \nQ 2609 -91 1734 -91 \nQ 1441 -91 1130 -33 \nQ 819 25 488 141 \nL 488 750 \nQ 750 597 1062 519 \nQ 1375 441 1716 441 \nQ 2309 441 2620 675 \nQ 2931 909 2931 1356 \nQ 2931 1769 2642 2001 \nQ 2353 2234 1838 2234 \nL 1294 2234 \nL 1294 2753 \nL 1863 2753 \nQ 2328 2753 2575 2939 \nQ 2822 3125 2822 3475 \nQ 2822 3834 2567 4026 \nQ 2313 4219 1838 4219 \nQ 1578 4219 1281 4162 \nQ 984 4106 628 3988 \nL 628 4550 \nQ 988 4650 1302 4700 \nQ 1616 4750 1894 4750 \nQ 2613 4750 3031 4423 \nQ 3450 4097 3450 3541 \nQ 3450 3153 3228 2886 \nQ 3006 2619 2597 2516 \nz\n\" transform=\"scale(0.015625)\"/>\n       </defs>\n       <use xlink:href=\"#DejaVuSans-33\"/>\n      </g>\n     </g>\n    </g>\n    <g id=\"xtick_5\">\n     <g id=\"line2d_5\">\n      <g>\n       <use xlink:href=\"#m2694ea8f1c\" x=\"252.150852\" y=\"561.6\" style=\"stroke: #000000; stroke-width: 0.8\"/>\n      </g>\n     </g>\n     <g id=\"text_5\">\n      <!-- 4 -->\n      <g transform=\"translate(248.969602 576.198438) scale(0.1 -0.1)\">\n       <defs>\n        <path id=\"DejaVuSans-34\" d=\"M 2419 4116 \nL 825 1625 \nL 2419 1625 \nL 2419 4116 \nz\nM 2253 4666 \nL 3047 4666 \nL 3047 1625 \nL 3713 1625 \nL 3713 1100 \nL 3047 1100 \nL 3047 0 \nL 2419 0 \nL 2419 1100 \nL 313 1100 \nL 313 1709 \nL 2253 4666 \nz\n\" transform=\"scale(0.015625)\"/>\n       </defs>\n       <use xlink:href=\"#DejaVuSans-34\"/>\n      </g>\n     </g>\n    </g>\n    <g id=\"xtick_6\">\n     <g id=\"line2d_6\">\n      <g>\n       <use xlink:href=\"#m2694ea8f1c\" x=\"302.878125\" y=\"561.6\" style=\"stroke: #000000; stroke-width: 0.8\"/>\n      </g>\n     </g>\n     <g id=\"text_6\">\n      <!-- 5 -->\n      <g transform=\"translate(299.696875 576.198438) scale(0.1 -0.1)\">\n       <defs>\n        <path id=\"DejaVuSans-35\" d=\"M 691 4666 \nL 3169 4666 \nL 3169 4134 \nL 1269 4134 \nL 1269 2991 \nQ 1406 3038 1543 3061 \nQ 1681 3084 1819 3084 \nQ 2600 3084 3056 2656 \nQ 3513 2228 3513 1497 \nQ 3513 744 3044 326 \nQ 2575 -91 1722 -91 \nQ 1428 -91 1123 -41 \nQ 819 9 494 109 \nL 494 744 \nQ 775 591 1075 516 \nQ 1375 441 1709 441 \nQ 2250 441 2565 725 \nQ 2881 1009 2881 1497 \nQ 2881 1984 2565 2268 \nQ 2250 2553 1709 2553 \nQ 1456 2553 1204 2497 \nQ 953 2441 691 2322 \nL 691 4666 \nz\n\" transform=\"scale(0.015625)\"/>\n       </defs>\n       <use xlink:href=\"#DejaVuSans-35\"/>\n      </g>\n     </g>\n    </g>\n    <g id=\"xtick_7\">\n     <g id=\"line2d_7\">\n      <g>\n       <use xlink:href=\"#m2694ea8f1c\" x=\"353.605398\" y=\"561.6\" style=\"stroke: #000000; stroke-width: 0.8\"/>\n      </g>\n     </g>\n     <g id=\"text_7\">\n      <!-- 6 -->\n      <g transform=\"translate(350.424148 576.198438) scale(0.1 -0.1)\">\n       <defs>\n        <path id=\"DejaVuSans-36\" d=\"M 2113 2584 \nQ 1688 2584 1439 2293 \nQ 1191 2003 1191 1497 \nQ 1191 994 1439 701 \nQ 1688 409 2113 409 \nQ 2538 409 2786 701 \nQ 3034 994 3034 1497 \nQ 3034 2003 2786 2293 \nQ 2538 2584 2113 2584 \nz\nM 3366 4563 \nL 3366 3988 \nQ 3128 4100 2886 4159 \nQ 2644 4219 2406 4219 \nQ 1781 4219 1451 3797 \nQ 1122 3375 1075 2522 \nQ 1259 2794 1537 2939 \nQ 1816 3084 2150 3084 \nQ 2853 3084 3261 2657 \nQ 3669 2231 3669 1497 \nQ 3669 778 3244 343 \nQ 2819 -91 2113 -91 \nQ 1303 -91 875 529 \nQ 447 1150 447 2328 \nQ 447 3434 972 4092 \nQ 1497 4750 2381 4750 \nQ 2619 4750 2861 4703 \nQ 3103 4656 3366 4563 \nz\n\" transform=\"scale(0.015625)\"/>\n       </defs>\n       <use xlink:href=\"#DejaVuSans-36\"/>\n      </g>\n     </g>\n    </g>\n    <g id=\"xtick_8\">\n     <g id=\"line2d_8\">\n      <g>\n       <use xlink:href=\"#m2694ea8f1c\" x=\"404.33267\" y=\"561.6\" style=\"stroke: #000000; stroke-width: 0.8\"/>\n      </g>\n     </g>\n     <g id=\"text_8\">\n      <!-- 7 -->\n      <g transform=\"translate(401.15142 576.198438) scale(0.1 -0.1)\">\n       <defs>\n        <path id=\"DejaVuSans-37\" d=\"M 525 4666 \nL 3525 4666 \nL 3525 4397 \nL 1831 0 \nL 1172 0 \nL 2766 4134 \nL 525 4134 \nL 525 4666 \nz\n\" transform=\"scale(0.015625)\"/>\n       </defs>\n       <use xlink:href=\"#DejaVuSans-37\"/>\n      </g>\n     </g>\n    </g>\n    <g id=\"xtick_9\">\n     <g id=\"line2d_9\">\n      <g>\n       <use xlink:href=\"#m2694ea8f1c\" x=\"455.059943\" y=\"561.6\" style=\"stroke: #000000; stroke-width: 0.8\"/>\n      </g>\n     </g>\n     <g id=\"text_9\">\n      <!-- 8 -->\n      <g transform=\"translate(451.878693 576.198438) scale(0.1 -0.1)\">\n       <defs>\n        <path id=\"DejaVuSans-38\" d=\"M 2034 2216 \nQ 1584 2216 1326 1975 \nQ 1069 1734 1069 1313 \nQ 1069 891 1326 650 \nQ 1584 409 2034 409 \nQ 2484 409 2743 651 \nQ 3003 894 3003 1313 \nQ 3003 1734 2745 1975 \nQ 2488 2216 2034 2216 \nz\nM 1403 2484 \nQ 997 2584 770 2862 \nQ 544 3141 544 3541 \nQ 544 4100 942 4425 \nQ 1341 4750 2034 4750 \nQ 2731 4750 3128 4425 \nQ 3525 4100 3525 3541 \nQ 3525 3141 3298 2862 \nQ 3072 2584 2669 2484 \nQ 3125 2378 3379 2068 \nQ 3634 1759 3634 1313 \nQ 3634 634 3220 271 \nQ 2806 -91 2034 -91 \nQ 1263 -91 848 271 \nQ 434 634 434 1313 \nQ 434 1759 690 2068 \nQ 947 2378 1403 2484 \nz\nM 1172 3481 \nQ 1172 3119 1398 2916 \nQ 1625 2713 2034 2713 \nQ 2441 2713 2670 2916 \nQ 2900 3119 2900 3481 \nQ 2900 3844 2670 4047 \nQ 2441 4250 2034 4250 \nQ 1625 4250 1398 4047 \nQ 1172 3844 1172 3481 \nz\n\" transform=\"scale(0.015625)\"/>\n       </defs>\n       <use xlink:href=\"#DejaVuSans-38\"/>\n      </g>\n     </g>\n    </g>\n    <g id=\"xtick_10\">\n     <g id=\"line2d_10\">\n      <g>\n       <use xlink:href=\"#m2694ea8f1c\" x=\"505.787216\" y=\"561.6\" style=\"stroke: #000000; stroke-width: 0.8\"/>\n      </g>\n     </g>\n     <g id=\"text_10\">\n      <!-- 9 -->\n      <g transform=\"translate(502.605966 576.198438) scale(0.1 -0.1)\">\n       <defs>\n        <path id=\"DejaVuSans-39\" d=\"M 703 97 \nL 703 672 \nQ 941 559 1184 500 \nQ 1428 441 1663 441 \nQ 2288 441 2617 861 \nQ 2947 1281 2994 2138 \nQ 2813 1869 2534 1725 \nQ 2256 1581 1919 1581 \nQ 1219 1581 811 2004 \nQ 403 2428 403 3163 \nQ 403 3881 828 4315 \nQ 1253 4750 1959 4750 \nQ 2769 4750 3195 4129 \nQ 3622 3509 3622 2328 \nQ 3622 1225 3098 567 \nQ 2575 -91 1691 -91 \nQ 1453 -91 1209 -44 \nQ 966 3 703 97 \nz\nM 1959 2075 \nQ 2384 2075 2632 2365 \nQ 2881 2656 2881 3163 \nQ 2881 3666 2632 3958 \nQ 2384 4250 1959 4250 \nQ 1534 4250 1286 3958 \nQ 1038 3666 1038 3163 \nQ 1038 2656 1286 2365 \nQ 1534 2075 1959 2075 \nz\n\" transform=\"scale(0.015625)\"/>\n       </defs>\n       <use xlink:href=\"#DejaVuSans-39\"/>\n      </g>\n     </g>\n    </g>\n    <g id=\"xtick_11\">\n     <g id=\"line2d_11\">\n      <g>\n       <use xlink:href=\"#m2694ea8f1c\" x=\"556.514489\" y=\"561.6\" style=\"stroke: #000000; stroke-width: 0.8\"/>\n      </g>\n     </g>\n     <g id=\"text_11\">\n      <!-- 10 -->\n      <g transform=\"translate(550.151989 576.198438) scale(0.1 -0.1)\">\n       <use xlink:href=\"#DejaVuSans-31\"/>\n       <use xlink:href=\"#DejaVuSans-30\" x=\"63.623047\"/>\n      </g>\n     </g>\n    </g>\n   </g>\n   <g id=\"matplotlib.axis_2\">\n    <g id=\"ytick_1\">\n     <g id=\"line2d_12\">\n      <defs>\n       <path id=\"m60a279e89f\" d=\"M 0 0 \nL -3.5 0 \n\" style=\"stroke: #000000; stroke-width: 0.8\"/>\n      </defs>\n      <g>\n       <use xlink:href=\"#m60a279e89f\" x=\"23.878125\" y=\"32.4\" style=\"stroke: #000000; stroke-width: 0.8\"/>\n      </g>\n     </g>\n     <g id=\"text_12\">\n      <!-- 0 -->\n      <g transform=\"translate(14.798437 35.58125) rotate(-90) scale(0.1 -0.1)\">\n       <use xlink:href=\"#DejaVuSans-30\"/>\n      </g>\n     </g>\n    </g>\n    <g id=\"ytick_2\">\n     <g id=\"line2d_13\">\n      <g>\n       <use xlink:href=\"#m60a279e89f\" x=\"23.878125\" y=\"82.8\" style=\"stroke: #000000; stroke-width: 0.8\"/>\n      </g>\n     </g>\n     <g id=\"text_13\">\n      <!-- 1 -->\n      <g transform=\"translate(14.798437 85.98125) rotate(-90) scale(0.1 -0.1)\">\n       <use xlink:href=\"#DejaVuSans-31\"/>\n      </g>\n     </g>\n    </g>\n    <g id=\"ytick_3\">\n     <g id=\"line2d_14\">\n      <g>\n       <use xlink:href=\"#m60a279e89f\" x=\"23.878125\" y=\"133.2\" style=\"stroke: #000000; stroke-width: 0.8\"/>\n      </g>\n     </g>\n     <g id=\"text_14\">\n      <!-- 2 -->\n      <g transform=\"translate(14.798437 136.38125) rotate(-90) scale(0.1 -0.1)\">\n       <use xlink:href=\"#DejaVuSans-32\"/>\n      </g>\n     </g>\n    </g>\n    <g id=\"ytick_4\">\n     <g id=\"line2d_15\">\n      <g>\n       <use xlink:href=\"#m60a279e89f\" x=\"23.878125\" y=\"183.6\" style=\"stroke: #000000; stroke-width: 0.8\"/>\n      </g>\n     </g>\n     <g id=\"text_15\">\n      <!-- 3 -->\n      <g transform=\"translate(14.798437 186.78125) rotate(-90) scale(0.1 -0.1)\">\n       <use xlink:href=\"#DejaVuSans-33\"/>\n      </g>\n     </g>\n    </g>\n    <g id=\"ytick_5\">\n     <g id=\"line2d_16\">\n      <g>\n       <use xlink:href=\"#m60a279e89f\" x=\"23.878125\" y=\"234\" style=\"stroke: #000000; stroke-width: 0.8\"/>\n      </g>\n     </g>\n     <g id=\"text_16\">\n      <!-- 4 -->\n      <g transform=\"translate(14.798437 237.18125) rotate(-90) scale(0.1 -0.1)\">\n       <use xlink:href=\"#DejaVuSans-34\"/>\n      </g>\n     </g>\n    </g>\n    <g id=\"ytick_6\">\n     <g id=\"line2d_17\">\n      <g>\n       <use xlink:href=\"#m60a279e89f\" x=\"23.878125\" y=\"284.4\" style=\"stroke: #000000; stroke-width: 0.8\"/>\n      </g>\n     </g>\n     <g id=\"text_17\">\n      <!-- 5 -->\n      <g transform=\"translate(14.798437 287.58125) rotate(-90) scale(0.1 -0.1)\">\n       <use xlink:href=\"#DejaVuSans-35\"/>\n      </g>\n     </g>\n    </g>\n    <g id=\"ytick_7\">\n     <g id=\"line2d_18\">\n      <g>\n       <use xlink:href=\"#m60a279e89f\" x=\"23.878125\" y=\"334.8\" style=\"stroke: #000000; stroke-width: 0.8\"/>\n      </g>\n     </g>\n     <g id=\"text_18\">\n      <!-- 6 -->\n      <g transform=\"translate(14.798437 337.98125) rotate(-90) scale(0.1 -0.1)\">\n       <use xlink:href=\"#DejaVuSans-36\"/>\n      </g>\n     </g>\n    </g>\n    <g id=\"ytick_8\">\n     <g id=\"line2d_19\">\n      <g>\n       <use xlink:href=\"#m60a279e89f\" x=\"23.878125\" y=\"385.2\" style=\"stroke: #000000; stroke-width: 0.8\"/>\n      </g>\n     </g>\n     <g id=\"text_19\">\n      <!-- 7 -->\n      <g transform=\"translate(14.798437 388.38125) rotate(-90) scale(0.1 -0.1)\">\n       <use xlink:href=\"#DejaVuSans-37\"/>\n      </g>\n     </g>\n    </g>\n    <g id=\"ytick_9\">\n     <g id=\"line2d_20\">\n      <g>\n       <use xlink:href=\"#m60a279e89f\" x=\"23.878125\" y=\"435.6\" style=\"stroke: #000000; stroke-width: 0.8\"/>\n      </g>\n     </g>\n     <g id=\"text_20\">\n      <!-- 8 -->\n      <g transform=\"translate(14.798437 438.78125) rotate(-90) scale(0.1 -0.1)\">\n       <use xlink:href=\"#DejaVuSans-38\"/>\n      </g>\n     </g>\n    </g>\n    <g id=\"ytick_10\">\n     <g id=\"line2d_21\">\n      <g>\n       <use xlink:href=\"#m60a279e89f\" x=\"23.878125\" y=\"486\" style=\"stroke: #000000; stroke-width: 0.8\"/>\n      </g>\n     </g>\n     <g id=\"text_21\">\n      <!-- 9 -->\n      <g transform=\"translate(14.798437 489.18125) rotate(-90) scale(0.1 -0.1)\">\n       <use xlink:href=\"#DejaVuSans-39\"/>\n      </g>\n     </g>\n    </g>\n    <g id=\"ytick_11\">\n     <g id=\"line2d_22\">\n      <g>\n       <use xlink:href=\"#m60a279e89f\" x=\"23.878125\" y=\"536.4\" style=\"stroke: #000000; stroke-width: 0.8\"/>\n      </g>\n     </g>\n     <g id=\"text_22\">\n      <!-- 10 -->\n      <g transform=\"translate(14.798437 542.7625) rotate(-90) scale(0.1 -0.1)\">\n       <use xlink:href=\"#DejaVuSans-31\"/>\n       <use xlink:href=\"#DejaVuSans-30\" x=\"63.623047\"/>\n      </g>\n     </g>\n    </g>\n   </g>\n   <g id=\"text_23\">\n    <!-- 3 -->\n    <g style=\"fill: #ffffff\" transform=\"translate(45.742386 35.435313) scale(0.11 -0.11)\">\n     <use xlink:href=\"#DejaVuSans-33\"/>\n    </g>\n   </g>\n   <g id=\"text_24\">\n    <!-- 0 -->\n    <g style=\"fill: #ffffff\" transform=\"translate(96.469659 35.435313) scale(0.11 -0.11)\">\n     <use xlink:href=\"#DejaVuSans-30\"/>\n    </g>\n   </g>\n   <g id=\"text_25\">\n    <!-- 0 -->\n    <g style=\"fill: #ffffff\" transform=\"translate(147.196932 35.435313) scale(0.11 -0.11)\">\n     <use xlink:href=\"#DejaVuSans-30\"/>\n    </g>\n   </g>\n   <g id=\"text_26\">\n    <!-- 2 -->\n    <g style=\"fill: #ffffff\" transform=\"translate(197.924205 35.435313) scale(0.11 -0.11)\">\n     <use xlink:href=\"#DejaVuSans-32\"/>\n    </g>\n   </g>\n   <g id=\"text_27\">\n    <!-- 1 -->\n    <g style=\"fill: #ffffff\" transform=\"translate(248.651477 35.435313) scale(0.11 -0.11)\">\n     <use xlink:href=\"#DejaVuSans-31\"/>\n    </g>\n   </g>\n   <g id=\"text_28\">\n    <!-- 0 -->\n    <g style=\"fill: #ffffff\" transform=\"translate(299.37875 35.435313) scale(0.11 -0.11)\">\n     <use xlink:href=\"#DejaVuSans-30\"/>\n    </g>\n   </g>\n   <g id=\"text_29\">\n    <!-- 1 -->\n    <g style=\"fill: #ffffff\" transform=\"translate(350.106023 35.435313) scale(0.11 -0.11)\">\n     <use xlink:href=\"#DejaVuSans-31\"/>\n    </g>\n   </g>\n   <g id=\"text_30\">\n    <!-- 0 -->\n    <g style=\"fill: #ffffff\" transform=\"translate(400.833295 35.435313) scale(0.11 -0.11)\">\n     <use xlink:href=\"#DejaVuSans-30\"/>\n    </g>\n   </g>\n   <g id=\"text_31\">\n    <!-- 1 -->\n    <g style=\"fill: #ffffff\" transform=\"translate(451.560568 35.435313) scale(0.11 -0.11)\">\n     <use xlink:href=\"#DejaVuSans-31\"/>\n    </g>\n   </g>\n   <g id=\"text_32\">\n    <!-- 2 -->\n    <g style=\"fill: #ffffff\" transform=\"translate(502.287841 35.435313) scale(0.11 -0.11)\">\n     <use xlink:href=\"#DejaVuSans-32\"/>\n    </g>\n   </g>\n   <g id=\"text_33\">\n    <!-- 2 -->\n    <g style=\"fill: #ffffff\" transform=\"translate(553.015114 35.435313) scale(0.11 -0.11)\">\n     <use xlink:href=\"#DejaVuSans-32\"/>\n    </g>\n   </g>\n   <g id=\"text_34\">\n    <!-- 0 -->\n    <g style=\"fill: #ffffff\" transform=\"translate(45.742386 85.835313) scale(0.11 -0.11)\">\n     <use xlink:href=\"#DejaVuSans-30\"/>\n    </g>\n   </g>\n   <g id=\"text_35\">\n    <!-- 2 -->\n    <g style=\"fill: #ffffff\" transform=\"translate(96.469659 85.835313) scale(0.11 -0.11)\">\n     <use xlink:href=\"#DejaVuSans-32\"/>\n    </g>\n   </g>\n   <g id=\"text_36\">\n    <!-- 0 -->\n    <g style=\"fill: #ffffff\" transform=\"translate(147.196932 85.835313) scale(0.11 -0.11)\">\n     <use xlink:href=\"#DejaVuSans-30\"/>\n    </g>\n   </g>\n   <g id=\"text_37\">\n    <!-- 1 -->\n    <g style=\"fill: #ffffff\" transform=\"translate(197.924205 85.835313) scale(0.11 -0.11)\">\n     <use xlink:href=\"#DejaVuSans-31\"/>\n    </g>\n   </g>\n   <g id=\"text_38\">\n    <!-- 1 -->\n    <g style=\"fill: #ffffff\" transform=\"translate(248.651477 85.835313) scale(0.11 -0.11)\">\n     <use xlink:href=\"#DejaVuSans-31\"/>\n    </g>\n   </g>\n   <g id=\"text_39\">\n    <!-- 0 -->\n    <g style=\"fill: #ffffff\" transform=\"translate(299.37875 85.835313) scale(0.11 -0.11)\">\n     <use xlink:href=\"#DejaVuSans-30\"/>\n    </g>\n   </g>\n   <g id=\"text_40\">\n    <!-- 0 -->\n    <g style=\"fill: #ffffff\" transform=\"translate(350.106023 85.835313) scale(0.11 -0.11)\">\n     <use xlink:href=\"#DejaVuSans-30\"/>\n    </g>\n   </g>\n   <g id=\"text_41\">\n    <!-- 0 -->\n    <g style=\"fill: #ffffff\" transform=\"translate(400.833295 85.835313) scale(0.11 -0.11)\">\n     <use xlink:href=\"#DejaVuSans-30\"/>\n    </g>\n   </g>\n   <g id=\"text_42\">\n    <!-- 0 -->\n    <g style=\"fill: #ffffff\" transform=\"translate(451.560568 85.835313) scale(0.11 -0.11)\">\n     <use xlink:href=\"#DejaVuSans-30\"/>\n    </g>\n   </g>\n   <g id=\"text_43\">\n    <!-- 2 -->\n    <g style=\"fill: #ffffff\" transform=\"translate(502.287841 85.835313) scale(0.11 -0.11)\">\n     <use xlink:href=\"#DejaVuSans-32\"/>\n    </g>\n   </g>\n   <g id=\"text_44\">\n    <!-- 0 -->\n    <g style=\"fill: #ffffff\" transform=\"translate(553.015114 85.835313) scale(0.11 -0.11)\">\n     <use xlink:href=\"#DejaVuSans-30\"/>\n    </g>\n   </g>\n   <g id=\"text_45\">\n    <!-- 1 -->\n    <g style=\"fill: #ffffff\" transform=\"translate(45.742386 136.235313) scale(0.11 -0.11)\">\n     <use xlink:href=\"#DejaVuSans-31\"/>\n    </g>\n   </g>\n   <g id=\"text_46\">\n    <!-- 0 -->\n    <g style=\"fill: #ffffff\" transform=\"translate(96.469659 136.235313) scale(0.11 -0.11)\">\n     <use xlink:href=\"#DejaVuSans-30\"/>\n    </g>\n   </g>\n   <g id=\"text_47\">\n    <!-- 6 -->\n    <g style=\"fill: #262626\" transform=\"translate(147.196932 136.235313) scale(0.11 -0.11)\">\n     <use xlink:href=\"#DejaVuSans-36\"/>\n    </g>\n   </g>\n   <g id=\"text_48\">\n    <!-- 3 -->\n    <g style=\"fill: #ffffff\" transform=\"translate(197.924205 136.235313) scale(0.11 -0.11)\">\n     <use xlink:href=\"#DejaVuSans-33\"/>\n    </g>\n   </g>\n   <g id=\"text_49\">\n    <!-- 0 -->\n    <g style=\"fill: #ffffff\" transform=\"translate(248.651477 136.235313) scale(0.11 -0.11)\">\n     <use xlink:href=\"#DejaVuSans-30\"/>\n    </g>\n   </g>\n   <g id=\"text_50\">\n    <!-- 1 -->\n    <g style=\"fill: #ffffff\" transform=\"translate(299.37875 136.235313) scale(0.11 -0.11)\">\n     <use xlink:href=\"#DejaVuSans-31\"/>\n    </g>\n   </g>\n   <g id=\"text_51\">\n    <!-- 1 -->\n    <g style=\"fill: #ffffff\" transform=\"translate(350.106023 136.235313) scale(0.11 -0.11)\">\n     <use xlink:href=\"#DejaVuSans-31\"/>\n    </g>\n   </g>\n   <g id=\"text_52\">\n    <!-- 0 -->\n    <g style=\"fill: #ffffff\" transform=\"translate(400.833295 136.235313) scale(0.11 -0.11)\">\n     <use xlink:href=\"#DejaVuSans-30\"/>\n    </g>\n   </g>\n   <g id=\"text_53\">\n    <!-- 2 -->\n    <g style=\"fill: #ffffff\" transform=\"translate(451.560568 136.235313) scale(0.11 -0.11)\">\n     <use xlink:href=\"#DejaVuSans-32\"/>\n    </g>\n   </g>\n   <g id=\"text_54\">\n    <!-- 0 -->\n    <g style=\"fill: #ffffff\" transform=\"translate(502.287841 136.235313) scale(0.11 -0.11)\">\n     <use xlink:href=\"#DejaVuSans-30\"/>\n    </g>\n   </g>\n   <g id=\"text_55\">\n    <!-- 0 -->\n    <g style=\"fill: #ffffff\" transform=\"translate(553.015114 136.235313) scale(0.11 -0.11)\">\n     <use xlink:href=\"#DejaVuSans-30\"/>\n    </g>\n   </g>\n   <g id=\"text_56\">\n    <!-- 3 -->\n    <g style=\"fill: #ffffff\" transform=\"translate(45.742386 186.635313) scale(0.11 -0.11)\">\n     <use xlink:href=\"#DejaVuSans-33\"/>\n    </g>\n   </g>\n   <g id=\"text_57\">\n    <!-- 0 -->\n    <g style=\"fill: #ffffff\" transform=\"translate(96.469659 186.635313) scale(0.11 -0.11)\">\n     <use xlink:href=\"#DejaVuSans-30\"/>\n    </g>\n   </g>\n   <g id=\"text_58\">\n    <!-- 3 -->\n    <g style=\"fill: #ffffff\" transform=\"translate(147.196932 186.635313) scale(0.11 -0.11)\">\n     <use xlink:href=\"#DejaVuSans-33\"/>\n    </g>\n   </g>\n   <g id=\"text_59\">\n    <!-- 1 -->\n    <g style=\"fill: #ffffff\" transform=\"translate(197.924205 186.635313) scale(0.11 -0.11)\">\n     <use xlink:href=\"#DejaVuSans-31\"/>\n    </g>\n   </g>\n   <g id=\"text_60\">\n    <!-- 0 -->\n    <g style=\"fill: #ffffff\" transform=\"translate(248.651477 186.635313) scale(0.11 -0.11)\">\n     <use xlink:href=\"#DejaVuSans-30\"/>\n    </g>\n   </g>\n   <g id=\"text_61\">\n    <!-- 1 -->\n    <g style=\"fill: #ffffff\" transform=\"translate(299.37875 186.635313) scale(0.11 -0.11)\">\n     <use xlink:href=\"#DejaVuSans-31\"/>\n    </g>\n   </g>\n   <g id=\"text_62\">\n    <!-- 0 -->\n    <g style=\"fill: #ffffff\" transform=\"translate(350.106023 186.635313) scale(0.11 -0.11)\">\n     <use xlink:href=\"#DejaVuSans-30\"/>\n    </g>\n   </g>\n   <g id=\"text_63\">\n    <!-- 0 -->\n    <g style=\"fill: #ffffff\" transform=\"translate(400.833295 186.635313) scale(0.11 -0.11)\">\n     <use xlink:href=\"#DejaVuSans-30\"/>\n    </g>\n   </g>\n   <g id=\"text_64\">\n    <!-- 1 -->\n    <g style=\"fill: #ffffff\" transform=\"translate(451.560568 186.635313) scale(0.11 -0.11)\">\n     <use xlink:href=\"#DejaVuSans-31\"/>\n    </g>\n   </g>\n   <g id=\"text_65\">\n    <!-- 1 -->\n    <g style=\"fill: #ffffff\" transform=\"translate(502.287841 186.635313) scale(0.11 -0.11)\">\n     <use xlink:href=\"#DejaVuSans-31\"/>\n    </g>\n   </g>\n   <g id=\"text_66\">\n    <!-- 1 -->\n    <g style=\"fill: #ffffff\" transform=\"translate(553.015114 186.635313) scale(0.11 -0.11)\">\n     <use xlink:href=\"#DejaVuSans-31\"/>\n    </g>\n   </g>\n   <g id=\"text_67\">\n    <!-- 1 -->\n    <g style=\"fill: #ffffff\" transform=\"translate(45.742386 237.035313) scale(0.11 -0.11)\">\n     <use xlink:href=\"#DejaVuSans-31\"/>\n    </g>\n   </g>\n   <g id=\"text_68\">\n    <!-- 2 -->\n    <g style=\"fill: #ffffff\" transform=\"translate(96.469659 237.035313) scale(0.11 -0.11)\">\n     <use xlink:href=\"#DejaVuSans-32\"/>\n    </g>\n   </g>\n   <g id=\"text_69\">\n    <!-- 0 -->\n    <g style=\"fill: #ffffff\" transform=\"translate(147.196932 237.035313) scale(0.11 -0.11)\">\n     <use xlink:href=\"#DejaVuSans-30\"/>\n    </g>\n   </g>\n   <g id=\"text_70\">\n    <!-- 0 -->\n    <g style=\"fill: #ffffff\" transform=\"translate(197.924205 237.035313) scale(0.11 -0.11)\">\n     <use xlink:href=\"#DejaVuSans-30\"/>\n    </g>\n   </g>\n   <g id=\"text_71\">\n    <!-- 2 -->\n    <g style=\"fill: #ffffff\" transform=\"translate(248.651477 237.035313) scale(0.11 -0.11)\">\n     <use xlink:href=\"#DejaVuSans-32\"/>\n    </g>\n   </g>\n   <g id=\"text_72\">\n    <!-- 3 -->\n    <g style=\"fill: #ffffff\" transform=\"translate(299.37875 237.035313) scale(0.11 -0.11)\">\n     <use xlink:href=\"#DejaVuSans-33\"/>\n    </g>\n   </g>\n   <g id=\"text_73\">\n    <!-- 1 -->\n    <g style=\"fill: #ffffff\" transform=\"translate(350.106023 237.035313) scale(0.11 -0.11)\">\n     <use xlink:href=\"#DejaVuSans-31\"/>\n    </g>\n   </g>\n   <g id=\"text_74\">\n    <!-- 1 -->\n    <g style=\"fill: #ffffff\" transform=\"translate(400.833295 237.035313) scale(0.11 -0.11)\">\n     <use xlink:href=\"#DejaVuSans-31\"/>\n    </g>\n   </g>\n   <g id=\"text_75\">\n    <!-- 2 -->\n    <g style=\"fill: #ffffff\" transform=\"translate(451.560568 237.035313) scale(0.11 -0.11)\">\n     <use xlink:href=\"#DejaVuSans-32\"/>\n    </g>\n   </g>\n   <g id=\"text_76\">\n    <!-- 0 -->\n    <g style=\"fill: #ffffff\" transform=\"translate(502.287841 237.035313) scale(0.11 -0.11)\">\n     <use xlink:href=\"#DejaVuSans-30\"/>\n    </g>\n   </g>\n   <g id=\"text_77\">\n    <!-- 1 -->\n    <g style=\"fill: #ffffff\" transform=\"translate(553.015114 237.035313) scale(0.11 -0.11)\">\n     <use xlink:href=\"#DejaVuSans-31\"/>\n    </g>\n   </g>\n   <g id=\"text_78\">\n    <!-- 0 -->\n    <g style=\"fill: #ffffff\" transform=\"translate(45.742386 287.435313) scale(0.11 -0.11)\">\n     <use xlink:href=\"#DejaVuSans-30\"/>\n    </g>\n   </g>\n   <g id=\"text_79\">\n    <!-- 2 -->\n    <g style=\"fill: #ffffff\" transform=\"translate(96.469659 287.435313) scale(0.11 -0.11)\">\n     <use xlink:href=\"#DejaVuSans-32\"/>\n    </g>\n   </g>\n   <g id=\"text_80\">\n    <!-- 0 -->\n    <g style=\"fill: #ffffff\" transform=\"translate(147.196932 287.435313) scale(0.11 -0.11)\">\n     <use xlink:href=\"#DejaVuSans-30\"/>\n    </g>\n   </g>\n   <g id=\"text_81\">\n    <!-- 1 -->\n    <g style=\"fill: #ffffff\" transform=\"translate(197.924205 287.435313) scale(0.11 -0.11)\">\n     <use xlink:href=\"#DejaVuSans-31\"/>\n    </g>\n   </g>\n   <g id=\"text_82\">\n    <!-- 3 -->\n    <g style=\"fill: #ffffff\" transform=\"translate(248.651477 287.435313) scale(0.11 -0.11)\">\n     <use xlink:href=\"#DejaVuSans-33\"/>\n    </g>\n   </g>\n   <g id=\"text_83\">\n    <!-- 2 -->\n    <g style=\"fill: #ffffff\" transform=\"translate(299.37875 287.435313) scale(0.11 -0.11)\">\n     <use xlink:href=\"#DejaVuSans-32\"/>\n    </g>\n   </g>\n   <g id=\"text_84\">\n    <!-- 2 -->\n    <g style=\"fill: #ffffff\" transform=\"translate(350.106023 287.435313) scale(0.11 -0.11)\">\n     <use xlink:href=\"#DejaVuSans-32\"/>\n    </g>\n   </g>\n   <g id=\"text_85\">\n    <!-- 4 -->\n    <g style=\"fill: #ffffff\" transform=\"translate(400.833295 287.435313) scale(0.11 -0.11)\">\n     <use xlink:href=\"#DejaVuSans-34\"/>\n    </g>\n   </g>\n   <g id=\"text_86\">\n    <!-- 2 -->\n    <g style=\"fill: #ffffff\" transform=\"translate(451.560568 287.435313) scale(0.11 -0.11)\">\n     <use xlink:href=\"#DejaVuSans-32\"/>\n    </g>\n   </g>\n   <g id=\"text_87\">\n    <!-- 1 -->\n    <g style=\"fill: #ffffff\" transform=\"translate(502.287841 287.435313) scale(0.11 -0.11)\">\n     <use xlink:href=\"#DejaVuSans-31\"/>\n    </g>\n   </g>\n   <g id=\"text_88\">\n    <!-- 1 -->\n    <g style=\"fill: #ffffff\" transform=\"translate(553.015114 287.435313) scale(0.11 -0.11)\">\n     <use xlink:href=\"#DejaVuSans-31\"/>\n    </g>\n   </g>\n   <g id=\"text_89\">\n    <!-- 3 -->\n    <g style=\"fill: #ffffff\" transform=\"translate(45.742386 337.835313) scale(0.11 -0.11)\">\n     <use xlink:href=\"#DejaVuSans-33\"/>\n    </g>\n   </g>\n   <g id=\"text_90\">\n    <!-- 1 -->\n    <g style=\"fill: #ffffff\" transform=\"translate(96.469659 337.835313) scale(0.11 -0.11)\">\n     <use xlink:href=\"#DejaVuSans-31\"/>\n    </g>\n   </g>\n   <g id=\"text_91\">\n    <!-- 1 -->\n    <g style=\"fill: #ffffff\" transform=\"translate(147.196932 337.835313) scale(0.11 -0.11)\">\n     <use xlink:href=\"#DejaVuSans-31\"/>\n    </g>\n   </g>\n   <g id=\"text_92\">\n    <!-- 4 -->\n    <g style=\"fill: #ffffff\" transform=\"translate(197.924205 337.835313) scale(0.11 -0.11)\">\n     <use xlink:href=\"#DejaVuSans-34\"/>\n    </g>\n   </g>\n   <g id=\"text_93\">\n    <!-- 3 -->\n    <g style=\"fill: #ffffff\" transform=\"translate(248.651477 337.835313) scale(0.11 -0.11)\">\n     <use xlink:href=\"#DejaVuSans-33\"/>\n    </g>\n   </g>\n   <g id=\"text_94\">\n    <!-- 2 -->\n    <g style=\"fill: #ffffff\" transform=\"translate(299.37875 337.835313) scale(0.11 -0.11)\">\n     <use xlink:href=\"#DejaVuSans-32\"/>\n    </g>\n   </g>\n   <g id=\"text_95\">\n    <!-- 3 -->\n    <g style=\"fill: #ffffff\" transform=\"translate(350.106023 337.835313) scale(0.11 -0.11)\">\n     <use xlink:href=\"#DejaVuSans-33\"/>\n    </g>\n   </g>\n   <g id=\"text_96\">\n    <!-- 1 -->\n    <g style=\"fill: #ffffff\" transform=\"translate(400.833295 337.835313) scale(0.11 -0.11)\">\n     <use xlink:href=\"#DejaVuSans-31\"/>\n    </g>\n   </g>\n   <g id=\"text_97\">\n    <!-- 1 -->\n    <g style=\"fill: #ffffff\" transform=\"translate(451.560568 337.835313) scale(0.11 -0.11)\">\n     <use xlink:href=\"#DejaVuSans-31\"/>\n    </g>\n   </g>\n   <g id=\"text_98\">\n    <!-- 1 -->\n    <g style=\"fill: #ffffff\" transform=\"translate(502.287841 337.835313) scale(0.11 -0.11)\">\n     <use xlink:href=\"#DejaVuSans-31\"/>\n    </g>\n   </g>\n   <g id=\"text_99\">\n    <!-- 0 -->\n    <g style=\"fill: #ffffff\" transform=\"translate(553.015114 337.835313) scale(0.11 -0.11)\">\n     <use xlink:href=\"#DejaVuSans-30\"/>\n    </g>\n   </g>\n   <g id=\"text_100\">\n    <!-- 0 -->\n    <g style=\"fill: #ffffff\" transform=\"translate(45.742386 388.235313) scale(0.11 -0.11)\">\n     <use xlink:href=\"#DejaVuSans-30\"/>\n    </g>\n   </g>\n   <g id=\"text_101\">\n    <!-- 0 -->\n    <g style=\"fill: #ffffff\" transform=\"translate(96.469659 388.235313) scale(0.11 -0.11)\">\n     <use xlink:href=\"#DejaVuSans-30\"/>\n    </g>\n   </g>\n   <g id=\"text_102\">\n    <!-- 2 -->\n    <g style=\"fill: #ffffff\" transform=\"translate(147.196932 388.235313) scale(0.11 -0.11)\">\n     <use xlink:href=\"#DejaVuSans-32\"/>\n    </g>\n   </g>\n   <g id=\"text_103\">\n    <!-- 2 -->\n    <g style=\"fill: #ffffff\" transform=\"translate(197.924205 388.235313) scale(0.11 -0.11)\">\n     <use xlink:href=\"#DejaVuSans-32\"/>\n    </g>\n   </g>\n   <g id=\"text_104\">\n    <!-- 1 -->\n    <g style=\"fill: #ffffff\" transform=\"translate(248.651477 388.235313) scale(0.11 -0.11)\">\n     <use xlink:href=\"#DejaVuSans-31\"/>\n    </g>\n   </g>\n   <g id=\"text_105\">\n    <!-- 1 -->\n    <g style=\"fill: #ffffff\" transform=\"translate(299.37875 388.235313) scale(0.11 -0.11)\">\n     <use xlink:href=\"#DejaVuSans-31\"/>\n    </g>\n   </g>\n   <g id=\"text_106\">\n    <!-- 2 -->\n    <g style=\"fill: #ffffff\" transform=\"translate(350.106023 388.235313) scale(0.11 -0.11)\">\n     <use xlink:href=\"#DejaVuSans-32\"/>\n    </g>\n   </g>\n   <g id=\"text_107\">\n    <!-- 3 -->\n    <g style=\"fill: #ffffff\" transform=\"translate(400.833295 388.235313) scale(0.11 -0.11)\">\n     <use xlink:href=\"#DejaVuSans-33\"/>\n    </g>\n   </g>\n   <g id=\"text_108\">\n    <!-- 0 -->\n    <g style=\"fill: #ffffff\" transform=\"translate(451.560568 388.235313) scale(0.11 -0.11)\">\n     <use xlink:href=\"#DejaVuSans-30\"/>\n    </g>\n   </g>\n   <g id=\"text_109\">\n    <!-- 1 -->\n    <g style=\"fill: #ffffff\" transform=\"translate(502.287841 388.235313) scale(0.11 -0.11)\">\n     <use xlink:href=\"#DejaVuSans-31\"/>\n    </g>\n   </g>\n   <g id=\"text_110\">\n    <!-- 2 -->\n    <g style=\"fill: #ffffff\" transform=\"translate(553.015114 388.235313) scale(0.11 -0.11)\">\n     <use xlink:href=\"#DejaVuSans-32\"/>\n    </g>\n   </g>\n   <g id=\"text_111\">\n    <!-- 0 -->\n    <g style=\"fill: #ffffff\" transform=\"translate(45.742386 438.635313) scale(0.11 -0.11)\">\n     <use xlink:href=\"#DejaVuSans-30\"/>\n    </g>\n   </g>\n   <g id=\"text_112\">\n    <!-- 1 -->\n    <g style=\"fill: #ffffff\" transform=\"translate(96.469659 438.635313) scale(0.11 -0.11)\">\n     <use xlink:href=\"#DejaVuSans-31\"/>\n    </g>\n   </g>\n   <g id=\"text_113\">\n    <!-- 0 -->\n    <g style=\"fill: #ffffff\" transform=\"translate(147.196932 438.635313) scale(0.11 -0.11)\">\n     <use xlink:href=\"#DejaVuSans-30\"/>\n    </g>\n   </g>\n   <g id=\"text_114\">\n    <!-- 0 -->\n    <g style=\"fill: #ffffff\" transform=\"translate(197.924205 438.635313) scale(0.11 -0.11)\">\n     <use xlink:href=\"#DejaVuSans-30\"/>\n    </g>\n   </g>\n   <g id=\"text_115\">\n    <!-- 0 -->\n    <g style=\"fill: #ffffff\" transform=\"translate(248.651477 438.635313) scale(0.11 -0.11)\">\n     <use xlink:href=\"#DejaVuSans-30\"/>\n    </g>\n   </g>\n   <g id=\"text_116\">\n    <!-- 0 -->\n    <g style=\"fill: #ffffff\" transform=\"translate(299.37875 438.635313) scale(0.11 -0.11)\">\n     <use xlink:href=\"#DejaVuSans-30\"/>\n    </g>\n   </g>\n   <g id=\"text_117\">\n    <!-- 2 -->\n    <g style=\"fill: #ffffff\" transform=\"translate(350.106023 438.635313) scale(0.11 -0.11)\">\n     <use xlink:href=\"#DejaVuSans-32\"/>\n    </g>\n   </g>\n   <g id=\"text_118\">\n    <!-- 2 -->\n    <g style=\"fill: #ffffff\" transform=\"translate(400.833295 438.635313) scale(0.11 -0.11)\">\n     <use xlink:href=\"#DejaVuSans-32\"/>\n    </g>\n   </g>\n   <g id=\"text_119\">\n    <!-- 1 -->\n    <g style=\"fill: #ffffff\" transform=\"translate(451.560568 438.635313) scale(0.11 -0.11)\">\n     <use xlink:href=\"#DejaVuSans-31\"/>\n    </g>\n   </g>\n   <g id=\"text_120\">\n    <!-- 0 -->\n    <g style=\"fill: #ffffff\" transform=\"translate(502.287841 438.635313) scale(0.11 -0.11)\">\n     <use xlink:href=\"#DejaVuSans-30\"/>\n    </g>\n   </g>\n   <g id=\"text_121\">\n    <!-- 1 -->\n    <g style=\"fill: #ffffff\" transform=\"translate(553.015114 438.635313) scale(0.11 -0.11)\">\n     <use xlink:href=\"#DejaVuSans-31\"/>\n    </g>\n   </g>\n   <g id=\"text_122\">\n    <!-- 0 -->\n    <g style=\"fill: #ffffff\" transform=\"translate(45.742386 489.035313) scale(0.11 -0.11)\">\n     <use xlink:href=\"#DejaVuSans-30\"/>\n    </g>\n   </g>\n   <g id=\"text_123\">\n    <!-- 1 -->\n    <g style=\"fill: #ffffff\" transform=\"translate(96.469659 489.035313) scale(0.11 -0.11)\">\n     <use xlink:href=\"#DejaVuSans-31\"/>\n    </g>\n   </g>\n   <g id=\"text_124\">\n    <!-- 0 -->\n    <g style=\"fill: #ffffff\" transform=\"translate(147.196932 489.035313) scale(0.11 -0.11)\">\n     <use xlink:href=\"#DejaVuSans-30\"/>\n    </g>\n   </g>\n   <g id=\"text_125\">\n    <!-- 3 -->\n    <g style=\"fill: #ffffff\" transform=\"translate(197.924205 489.035313) scale(0.11 -0.11)\">\n     <use xlink:href=\"#DejaVuSans-33\"/>\n    </g>\n   </g>\n   <g id=\"text_126\">\n    <!-- 0 -->\n    <g style=\"fill: #ffffff\" transform=\"translate(248.651477 489.035313) scale(0.11 -0.11)\">\n     <use xlink:href=\"#DejaVuSans-30\"/>\n    </g>\n   </g>\n   <g id=\"text_127\">\n    <!-- 2 -->\n    <g style=\"fill: #ffffff\" transform=\"translate(299.37875 489.035313) scale(0.11 -0.11)\">\n     <use xlink:href=\"#DejaVuSans-32\"/>\n    </g>\n   </g>\n   <g id=\"text_128\">\n    <!-- 3 -->\n    <g style=\"fill: #ffffff\" transform=\"translate(350.106023 489.035313) scale(0.11 -0.11)\">\n     <use xlink:href=\"#DejaVuSans-33\"/>\n    </g>\n   </g>\n   <g id=\"text_129\">\n    <!-- 2 -->\n    <g style=\"fill: #ffffff\" transform=\"translate(400.833295 489.035313) scale(0.11 -0.11)\">\n     <use xlink:href=\"#DejaVuSans-32\"/>\n    </g>\n   </g>\n   <g id=\"text_130\">\n    <!-- 0 -->\n    <g style=\"fill: #ffffff\" transform=\"translate(451.560568 489.035313) scale(0.11 -0.11)\">\n     <use xlink:href=\"#DejaVuSans-30\"/>\n    </g>\n   </g>\n   <g id=\"text_131\">\n    <!-- 4 -->\n    <g style=\"fill: #ffffff\" transform=\"translate(502.287841 489.035313) scale(0.11 -0.11)\">\n     <use xlink:href=\"#DejaVuSans-34\"/>\n    </g>\n   </g>\n   <g id=\"text_132\">\n    <!-- 2 -->\n    <g style=\"fill: #ffffff\" transform=\"translate(553.015114 489.035313) scale(0.11 -0.11)\">\n     <use xlink:href=\"#DejaVuSans-32\"/>\n    </g>\n   </g>\n   <g id=\"text_133\">\n    <!-- 0 -->\n    <g style=\"fill: #ffffff\" transform=\"translate(45.742386 539.435313) scale(0.11 -0.11)\">\n     <use xlink:href=\"#DejaVuSans-30\"/>\n    </g>\n   </g>\n   <g id=\"text_134\">\n    <!-- 1 -->\n    <g style=\"fill: #ffffff\" transform=\"translate(96.469659 539.435313) scale(0.11 -0.11)\">\n     <use xlink:href=\"#DejaVuSans-31\"/>\n    </g>\n   </g>\n   <g id=\"text_135\">\n    <!-- 1 -->\n    <g style=\"fill: #ffffff\" transform=\"translate(147.196932 539.435313) scale(0.11 -0.11)\">\n     <use xlink:href=\"#DejaVuSans-31\"/>\n    </g>\n   </g>\n   <g id=\"text_136\">\n    <!-- 1 -->\n    <g style=\"fill: #ffffff\" transform=\"translate(197.924205 539.435313) scale(0.11 -0.11)\">\n     <use xlink:href=\"#DejaVuSans-31\"/>\n    </g>\n   </g>\n   <g id=\"text_137\">\n    <!-- 2 -->\n    <g style=\"fill: #ffffff\" transform=\"translate(248.651477 539.435313) scale(0.11 -0.11)\">\n     <use xlink:href=\"#DejaVuSans-32\"/>\n    </g>\n   </g>\n   <g id=\"text_138\">\n    <!-- 2 -->\n    <g style=\"fill: #ffffff\" transform=\"translate(299.37875 539.435313) scale(0.11 -0.11)\">\n     <use xlink:href=\"#DejaVuSans-32\"/>\n    </g>\n   </g>\n   <g id=\"text_139\">\n    <!-- 1 -->\n    <g style=\"fill: #ffffff\" transform=\"translate(350.106023 539.435313) scale(0.11 -0.11)\">\n     <use xlink:href=\"#DejaVuSans-31\"/>\n    </g>\n   </g>\n   <g id=\"text_140\">\n    <!-- 2 -->\n    <g style=\"fill: #ffffff\" transform=\"translate(400.833295 539.435313) scale(0.11 -0.11)\">\n     <use xlink:href=\"#DejaVuSans-32\"/>\n    </g>\n   </g>\n   <g id=\"text_141\">\n    <!-- 0 -->\n    <g style=\"fill: #ffffff\" transform=\"translate(451.560568 539.435313) scale(0.11 -0.11)\">\n     <use xlink:href=\"#DejaVuSans-30\"/>\n    </g>\n   </g>\n   <g id=\"text_142\">\n    <!-- 0 -->\n    <g style=\"fill: #ffffff\" transform=\"translate(502.287841 539.435313) scale(0.11 -0.11)\">\n     <use xlink:href=\"#DejaVuSans-30\"/>\n    </g>\n   </g>\n   <g id=\"text_143\">\n    <!-- 0 -->\n    <g style=\"fill: #ffffff\" transform=\"translate(553.015114 539.435313) scale(0.11 -0.11)\">\n     <use xlink:href=\"#DejaVuSans-30\"/>\n    </g>\n   </g>\n  </g>\n </g>\n <defs>\n  <clipPath id=\"pda7f4ff268\">\n   <rect x=\"23.878125\" y=\"7.2\" width=\"558\" height=\"554.4\"/>\n  </clipPath>\n </defs>\n</svg>\n",
            "application/pdf": "[encoded data removed]"
          },
          "metadata": {}
        }
      ]
    },
    {
      "cell_type": "code",
      "source": [
        "predictions = clf.predict_proba(X_test)\n",
        "sorted_prediction_ids = np.argsort(-predictions,axis=1) \n",
        "top_3_prediction_ids = sorted_prediction_ids[:,:3]\n",
        "\n",
        "\n",
        "# Mapk Score\n",
        "mapk(y_test.values.reshape(-1, 1), top_3_prediction_ids, k=3)"
      ],
      "metadata": {
        "colab": {
          "base_uri": "https://localhost:8080/"
        },
        "id": "1EXS78AIjjoZ",
        "outputId": "20eb3fde-9418-46c6-b87b-d8e746b167c0"
      },
      "execution_count": 159,
      "outputs": [
        {
          "output_type": "execute_result",
          "data": {
            "text/plain": [
              "0.18075117370892016"
            ]
          },
          "metadata": {},
          "execution_count": 159
        }
      ]
    },
    {
      "cell_type": "code",
      "source": [
        "np.argsort(-predictions[0])"
      ],
      "metadata": {
        "colab": {
          "base_uri": "https://localhost:8080/"
        },
        "id": "_MqYWw7Fj38m",
        "outputId": "1501238c-78b4-45c0-89a4-8af4b78ecbed"
      },
      "execution_count": 160,
      "outputs": [
        {
          "output_type": "execute_result",
          "data": {
            "text/plain": [
              "array([ 2,  0,  1,  3,  4,  5,  6,  7,  8,  9, 10])"
            ]
          },
          "metadata": {},
          "execution_count": 160
        }
      ]
    },
    {
      "cell_type": "code",
      "source": [
        "print_score(clf, X_train, y_train, X_test, y_test, train=True)\n",
        "print_score(clf, X_train, y_train, X_test, y_test, train=False)"
      ],
      "metadata": {
        "colab": {
          "base_uri": "https://localhost:8080/"
        },
        "id": "EpbqZqqSinRu",
        "outputId": "075a7dfe-d486-4f77-c106-10acd57fb398"
      },
      "execution_count": 161,
      "outputs": [
        {
          "output_type": "stream",
          "name": "stdout",
          "text": [
            "Train Result:\n",
            "================================================\n",
            "Accuracy Score: 100.00%\n",
            "_______________________________________________\n",
            "CLASSIFICATION REPORT:\n",
            "            0.0   1.0   2.0   3.0   4.0   5.0   6.0   7.0   8.0   9.0  10.0  \\\n",
            "precision   1.0   1.0   1.0   1.0   1.0   1.0   1.0   1.0   1.0   1.0   1.0   \n",
            "recall      1.0   1.0   1.0   1.0   1.0   1.0   1.0   1.0   1.0   1.0   1.0   \n",
            "f1-score    1.0   1.0   1.0   1.0   1.0   1.0   1.0   1.0   1.0   1.0   1.0   \n",
            "support    58.0  46.0  52.0  52.0  45.0  67.0  61.0  47.0  41.0  53.0  43.0   \n",
            "\n",
            "           accuracy  macro avg  weighted avg  \n",
            "precision       1.0        1.0           1.0  \n",
            "recall          1.0        1.0           1.0  \n",
            "f1-score        1.0        1.0           1.0  \n",
            "support         1.0      565.0         565.0  \n",
            "_______________________________________________\n",
            "Confusion Matrix: \n",
            " [[58  0  0  0  0  0  0  0  0  0  0]\n",
            " [ 0 46  0  0  0  0  0  0  0  0  0]\n",
            " [ 0  0 52  0  0  0  0  0  0  0  0]\n",
            " [ 0  0  0 52  0  0  0  0  0  0  0]\n",
            " [ 0  0  0  0 45  0  0  0  0  0  0]\n",
            " [ 0  0  0  0  0 67  0  0  0  0  0]\n",
            " [ 0  0  0  0  0  0 61  0  0  0  0]\n",
            " [ 0  0  0  0  0  0  0 47  0  0  0]\n",
            " [ 0  0  0  0  0  0  0  0 41  0  0]\n",
            " [ 0  0  0  0  0  0  0  0  0 53  0]\n",
            " [ 0  0  0  0  0  0  0  0  0  0 43]]\n",
            "\n",
            "Test Result:\n",
            "================================================\n",
            "Accuracy Score: 19.01%\n",
            "_______________________________________________\n",
            "CLASSIFICATION REPORT:\n",
            "                 0.0       1.0        2.0        3.0        4.0        5.0  \\\n",
            "precision   0.272727  0.200000   0.461538   0.055556   0.153846   0.142857   \n",
            "recall      0.250000  0.333333   0.428571   0.090909   0.153846   0.111111   \n",
            "f1-score    0.260870  0.250000   0.444444   0.068966   0.153846   0.125000   \n",
            "support    12.000000  6.000000  14.000000  11.000000  13.000000  18.000000   \n",
            "\n",
            "                 6.0        7.0       8.0        9.0  10.0  accuracy  \\\n",
            "precision   0.187500   0.200000  0.100000   0.333333   0.0  0.190141   \n",
            "recall      0.150000   0.214286  0.142857   0.235294   0.0  0.190141   \n",
            "f1-score    0.166667   0.206897  0.117647   0.275862   0.0  0.190141   \n",
            "support    20.000000  14.000000  7.000000  17.000000  10.0  0.190141   \n",
            "\n",
            "            macro avg  weighted avg  \n",
            "precision    0.191578      0.204461  \n",
            "recall       0.191837      0.190141  \n",
            "f1-score     0.188200      0.194397  \n",
            "support    142.000000    142.000000  \n",
            "_______________________________________________\n",
            "Confusion Matrix: \n",
            " [[3 0 0 2 1 0 1 0 1 2 2]\n",
            " [0 2 0 1 1 0 0 0 0 2 0]\n",
            " [1 0 6 3 0 1 1 0 2 0 0]\n",
            " [3 0 3 1 0 1 0 0 1 1 1]\n",
            " [1 2 0 0 2 3 1 1 2 0 1]\n",
            " [0 2 0 1 3 2 2 4 2 1 1]\n",
            " [3 1 1 4 3 2 3 1 1 1 0]\n",
            " [0 0 2 2 1 1 2 3 0 1 2]\n",
            " [0 1 0 0 0 0 2 2 1 0 1]\n",
            " [0 1 0 3 0 2 3 2 0 4 2]\n",
            " [0 1 1 1 2 2 1 2 0 0 0]]\n",
            "\n"
          ]
        }
      ]
    },
    {
      "cell_type": "markdown",
      "source": [
        "### Hyperparameter tuning for Random Forest"
      ],
      "metadata": {
        "id": "ow5_oD27lNcg"
      }
    },
    {
      "cell_type": "code",
      "source": [
        "tuned_parameter = [{'criterion' : ['entropy','gini'],\n",
        "                   'max_depth':[10,50,100],\n",
        "                    'max_features':['sqrt','log2','None'],\n",
        "                    'min_samples_split':[10,20,50,250]\n",
        "                     }]\n",
        "                     \n",
        "random_forest=RandomForestClassifier(random_state=10)\n",
        "rf_grid = GridSearchCV(estimator=random_forest,param_grid=tuned_parameter,cv=5)\n",
        "rf_grid_model = rf_grid.fit(X_train,y_train)\n",
        "print('Best Parameters:- ',rf_grid_model.best_params_)"
      ],
      "metadata": {
        "colab": {
          "base_uri": "https://localhost:8080/"
        },
        "id": "M5faWe5MinWv",
        "outputId": "54e557fd-064f-4b29-d7e5-8ae6b6f39697"
      },
      "execution_count": 162,
      "outputs": [
        {
          "output_type": "stream",
          "name": "stdout",
          "text": [
            "Best Parameters:-  {'criterion': 'gini', 'max_depth': 50, 'max_features': 'log2', 'min_samples_split': 20}\n"
          ]
        }
      ]
    },
    {
      "cell_type": "code",
      "source": [
        "# Evaluate the model with the best hyperparameters\n",
        "best_rf = RandomForestClassifier(**rf_grid_model.best_params_)\n",
        "best_rf.fit(X_train, y_train)\n",
        "accuracy = best_rf.score(X_test, y_test)\n",
        "accuracy"
      ],
      "metadata": {
        "colab": {
          "base_uri": "https://localhost:8080/"
        },
        "id": "RM702dQrn844",
        "outputId": "df0064a1-3126-453d-b220-7fc052b77e7b"
      },
      "execution_count": 163,
      "outputs": [
        {
          "output_type": "execute_result",
          "data": {
            "text/plain": [
              "0.3028169014084507"
            ]
          },
          "metadata": {},
          "execution_count": 163
        }
      ]
    },
    {
      "cell_type": "code",
      "source": [
        "predictions = best_rf.predict_proba(X_test)\n",
        "sorted_prediction_ids = np.argsort(-predictions,axis=1) \n",
        "top_3_prediction_ids = sorted_prediction_ids[:,:3]\n",
        "\n",
        "\n",
        "# Mapk Score\n",
        "mapk(y_test.values.reshape(-1, 1), top_3_prediction_ids, k=3)"
      ],
      "metadata": {
        "colab": {
          "base_uri": "https://localhost:8080/"
        },
        "id": "GUm7vQElp8va",
        "outputId": "14d5e659-fa28-4005-f5f7-dd638ba58483"
      },
      "execution_count": 164,
      "outputs": [
        {
          "output_type": "execute_result",
          "data": {
            "text/plain": [
              "0.4002347417840375"
            ]
          },
          "metadata": {},
          "execution_count": 164
        }
      ]
    },
    {
      "cell_type": "markdown",
      "source": [
        "### Hyperparamter tuning for Bagginfclassifier"
      ],
      "metadata": {
        "id": "KfldUyPJLA6M"
      }
    },
    {
      "cell_type": "code",
      "source": [
        "from sklearn.ensemble import BaggingClassifier\n",
        "# Create a decision tree classifier as the base estimator\n",
        "base_estimator = DecisionTreeClassifier()\n",
        "\n",
        "# Create a bagging classifier with the decision tree as the base estimator\n",
        "bagging = BaggingClassifier(base_estimator=base_estimator)\n",
        "\n",
        "# Define the grid of hyperparameters to search over\n",
        "param_grid = {\n",
        "    'n_estimators': [10, 50, 100],\n",
        "    'max_samples': [0.5, 0.8, 1.0],\n",
        "    'max_features': [0.5, 0.8, 1.0],\n",
        "    'bootstrap': [True, False]\n",
        "}\n",
        "\n",
        "# Perform a grid search over the hyperparameters\n",
        "grid_search = GridSearchCV(bagging, param_grid=param_grid, cv=5)\n",
        "grid_search.fit(X_train, y_train)"
      ],
      "metadata": {
        "colab": {
          "base_uri": "https://localhost:8080/",
          "height": 159
        },
        "id": "bYFA7ojiLGcz",
        "outputId": "552884c9-6a9f-4d9c-c185-e215eeeac318"
      },
      "execution_count": 165,
      "outputs": [
        {
          "output_type": "execute_result",
          "data": {
            "text/plain": [
              "GridSearchCV(cv=5,\n",
              "             estimator=BaggingClassifier(base_estimator=DecisionTreeClassifier()),\n",
              "             param_grid={'bootstrap': [True, False],\n",
              "                         'max_features': [0.5, 0.8, 1.0],\n",
              "                         'max_samples': [0.5, 0.8, 1.0],\n",
              "                         'n_estimators': [10, 50, 100]})"
            ],
            "text/html": [
              "<style>#sk-container-id-2 {color: black;background-color: white;}#sk-container-id-2 pre{padding: 0;}#sk-container-id-2 div.sk-toggleable {background-color: white;}#sk-container-id-2 label.sk-toggleable__label {cursor: pointer;display: block;width: 100%;margin-bottom: 0;padding: 0.3em;box-sizing: border-box;text-align: center;}#sk-container-id-2 label.sk-toggleable__label-arrow:before {content: \"▸\";float: left;margin-right: 0.25em;color: #696969;}#sk-container-id-2 label.sk-toggleable__label-arrow:hover:before {color: black;}#sk-container-id-2 div.sk-estimator:hover label.sk-toggleable__label-arrow:before {color: black;}#sk-container-id-2 div.sk-toggleable__content {max-height: 0;max-width: 0;overflow: hidden;text-align: left;background-color: #f0f8ff;}#sk-container-id-2 div.sk-toggleable__content pre {margin: 0.2em;color: black;border-radius: 0.25em;background-color: #f0f8ff;}#sk-container-id-2 input.sk-toggleable__control:checked~div.sk-toggleable__content {max-height: 200px;max-width: 100%;overflow: auto;}#sk-container-id-2 input.sk-toggleable__control:checked~label.sk-toggleable__label-arrow:before {content: \"▾\";}#sk-container-id-2 div.sk-estimator input.sk-toggleable__control:checked~label.sk-toggleable__label {background-color: #d4ebff;}#sk-container-id-2 div.sk-label input.sk-toggleable__control:checked~label.sk-toggleable__label {background-color: #d4ebff;}#sk-container-id-2 input.sk-hidden--visually {border: 0;clip: rect(1px 1px 1px 1px);clip: rect(1px, 1px, 1px, 1px);height: 1px;margin: -1px;overflow: hidden;padding: 0;position: absolute;width: 1px;}#sk-container-id-2 div.sk-estimator {font-family: monospace;background-color: #f0f8ff;border: 1px dotted black;border-radius: 0.25em;box-sizing: border-box;margin-bottom: 0.5em;}#sk-container-id-2 div.sk-estimator:hover {background-color: #d4ebff;}#sk-container-id-2 div.sk-parallel-item::after {content: \"\";width: 100%;border-bottom: 1px solid gray;flex-grow: 1;}#sk-container-id-2 div.sk-label:hover label.sk-toggleable__label {background-color: #d4ebff;}#sk-container-id-2 div.sk-serial::before {content: \"\";position: absolute;border-left: 1px solid gray;box-sizing: border-box;top: 0;bottom: 0;left: 50%;z-index: 0;}#sk-container-id-2 div.sk-serial {display: flex;flex-direction: column;align-items: center;background-color: white;padding-right: 0.2em;padding-left: 0.2em;position: relative;}#sk-container-id-2 div.sk-item {position: relative;z-index: 1;}#sk-container-id-2 div.sk-parallel {display: flex;align-items: stretch;justify-content: center;background-color: white;position: relative;}#sk-container-id-2 div.sk-item::before, #sk-container-id-2 div.sk-parallel-item::before {content: \"\";position: absolute;border-left: 1px solid gray;box-sizing: border-box;top: 0;bottom: 0;left: 50%;z-index: -1;}#sk-container-id-2 div.sk-parallel-item {display: flex;flex-direction: column;z-index: 1;position: relative;background-color: white;}#sk-container-id-2 div.sk-parallel-item:first-child::after {align-self: flex-end;width: 50%;}#sk-container-id-2 div.sk-parallel-item:last-child::after {align-self: flex-start;width: 50%;}#sk-container-id-2 div.sk-parallel-item:only-child::after {width: 0;}#sk-container-id-2 div.sk-dashed-wrapped {border: 1px dashed gray;margin: 0 0.4em 0.5em 0.4em;box-sizing: border-box;padding-bottom: 0.4em;background-color: white;}#sk-container-id-2 div.sk-label label {font-family: monospace;font-weight: bold;display: inline-block;line-height: 1.2em;}#sk-container-id-2 div.sk-label-container {text-align: center;}#sk-container-id-2 div.sk-container {/* jupyter's `normalize.less` sets `[hidden] { display: none; }` but bootstrap.min.css set `[hidden] { display: none !important; }` so we also need the `!important` here to be able to override the default hidden behavior on the sphinx rendered scikit-learn.org. See: https://github.com/scikit-learn/scikit-learn/issues/21755 */display: inline-block !important;position: relative;}#sk-container-id-2 div.sk-text-repr-fallback {display: none;}</style><div id=\"sk-container-id-2\" class=\"sk-top-container\"><div class=\"sk-text-repr-fallback\"><pre>GridSearchCV(cv=5,\n",
              "             estimator=BaggingClassifier(base_estimator=DecisionTreeClassifier()),\n",
              "             param_grid={&#x27;bootstrap&#x27;: [True, False],\n",
              "                         &#x27;max_features&#x27;: [0.5, 0.8, 1.0],\n",
              "                         &#x27;max_samples&#x27;: [0.5, 0.8, 1.0],\n",
              "                         &#x27;n_estimators&#x27;: [10, 50, 100]})</pre><b>In a Jupyter environment, please rerun this cell to show the HTML representation or trust the notebook. <br />On GitHub, the HTML representation is unable to render, please try loading this page with nbviewer.org.</b></div><div class=\"sk-container\" hidden><div class=\"sk-item sk-dashed-wrapped\"><div class=\"sk-label-container\"><div class=\"sk-label sk-toggleable\"><input class=\"sk-toggleable__control sk-hidden--visually\" id=\"sk-estimator-id-5\" type=\"checkbox\" ><label for=\"sk-estimator-id-5\" class=\"sk-toggleable__label sk-toggleable__label-arrow\">GridSearchCV</label><div class=\"sk-toggleable__content\"><pre>GridSearchCV(cv=5,\n",
              "             estimator=BaggingClassifier(base_estimator=DecisionTreeClassifier()),\n",
              "             param_grid={&#x27;bootstrap&#x27;: [True, False],\n",
              "                         &#x27;max_features&#x27;: [0.5, 0.8, 1.0],\n",
              "                         &#x27;max_samples&#x27;: [0.5, 0.8, 1.0],\n",
              "                         &#x27;n_estimators&#x27;: [10, 50, 100]})</pre></div></div></div><div class=\"sk-parallel\"><div class=\"sk-parallel-item\"><div class=\"sk-item\"><div class=\"sk-label-container\"><div class=\"sk-label sk-toggleable\"><input class=\"sk-toggleable__control sk-hidden--visually\" id=\"sk-estimator-id-6\" type=\"checkbox\" ><label for=\"sk-estimator-id-6\" class=\"sk-toggleable__label sk-toggleable__label-arrow\">estimator: BaggingClassifier</label><div class=\"sk-toggleable__content\"><pre>BaggingClassifier(base_estimator=DecisionTreeClassifier())</pre></div></div></div><div class=\"sk-serial\"><div class=\"sk-item sk-dashed-wrapped\"><div class=\"sk-parallel\"><div class=\"sk-parallel-item\"><div class=\"sk-item\"><div class=\"sk-label-container\"><div class=\"sk-label sk-toggleable\"><input class=\"sk-toggleable__control sk-hidden--visually\" id=\"sk-estimator-id-7\" type=\"checkbox\" ><label for=\"sk-estimator-id-7\" class=\"sk-toggleable__label sk-toggleable__label-arrow\">base_estimator: DecisionTreeClassifier</label><div class=\"sk-toggleable__content\"><pre>DecisionTreeClassifier()</pre></div></div></div><div class=\"sk-serial\"><div class=\"sk-item\"><div class=\"sk-estimator sk-toggleable\"><input class=\"sk-toggleable__control sk-hidden--visually\" id=\"sk-estimator-id-8\" type=\"checkbox\" ><label for=\"sk-estimator-id-8\" class=\"sk-toggleable__label sk-toggleable__label-arrow\">DecisionTreeClassifier</label><div class=\"sk-toggleable__content\"><pre>DecisionTreeClassifier()</pre></div></div></div></div></div></div></div></div></div></div></div></div></div></div></div>"
            ]
          },
          "metadata": {},
          "execution_count": 165
        }
      ]
    },
    {
      "cell_type": "code",
      "source": [
        "# Evaluate the model with the best hyperparameters\n",
        "best_bc = RandomForestClassifier(**grid_search.best_params_)\n",
        "best_bc.fit(X_train, y_train)\n",
        "accuracy = best_bc.score(X_test, y_test)\n",
        "accuracy"
      ],
      "metadata": {
        "colab": {
          "base_uri": "https://localhost:8080/"
        },
        "id": "FhswVyicLZd1",
        "outputId": "e77f261d-9cb1-48e9-cc1e-a6e146416b6b"
      },
      "execution_count": 166,
      "outputs": [
        {
          "output_type": "execute_result",
          "data": {
            "text/plain": [
              "0.2323943661971831"
            ]
          },
          "metadata": {},
          "execution_count": 166
        }
      ]
    },
    {
      "cell_type": "code",
      "source": [
        "predictions = best_bc.predict_proba(X_test)\n",
        "sorted_prediction_ids = np.argsort(-predictions,axis=1) \n",
        "top_3_prediction_ids = sorted_prediction_ids[:,:3]\n",
        "\n",
        "\n",
        "# Mapk Score\n",
        "mapk(y_test.values.reshape(-1, 1), top_3_prediction_ids, k=3)"
      ],
      "metadata": {
        "colab": {
          "base_uri": "https://localhost:8080/"
        },
        "id": "4d-cZOCEL70c",
        "outputId": "12ee4a88-20b2-44c2-9c70-334943a1f484"
      },
      "execution_count": 167,
      "outputs": [
        {
          "output_type": "execute_result",
          "data": {
            "text/plain": [
              "0.32981220657276994"
            ]
          },
          "metadata": {},
          "execution_count": 167
        }
      ]
    },
    {
      "cell_type": "markdown",
      "source": [
        "### Hyperparameter tuninng for Deciison Tree"
      ],
      "metadata": {
        "id": "lUrwUbLSpsIL"
      }
    },
    {
      "cell_type": "code",
      "source": [
        "tuned_parameter = [{'criterion' : ['entropy','gini'],\n",
        "                   'max_depth':[10,50,100],\n",
        "                    'max_features':['sqrt','log2'],\n",
        "                    'min_samples_split':[50,250,300]\n",
        "                     }]\n",
        "decision_tree_classification = DecisionTreeClassifier(random_state=10)\n",
        "tree_grid = GridSearchCV(estimator=decision_tree_classification,param_grid=tuned_parameter,cv=8)\n",
        "tree_grid_model = tree_grid.fit(X_train,y_train)\n",
        "print('Best Parameters for Decision Tree : ',tree_grid_model.best_params_)\n",
        "\n",
        "# Evaluate the model with the best hyperparameters\n",
        "best_dt = DecisionTreeClassifier(**tree_grid_model.best_params_)\n",
        "best_dt.fit(X_train, y_train)\n",
        "accuracy = best_dt.score(X_test, y_test)\n",
        "accuracy"
      ],
      "metadata": {
        "colab": {
          "base_uri": "https://localhost:8080/"
        },
        "id": "dxbY-_W8prnE",
        "outputId": "ef5c8ada-6630-473d-e15f-57c8ef62b683"
      },
      "execution_count": 168,
      "outputs": [
        {
          "output_type": "stream",
          "name": "stdout",
          "text": [
            "Best Parameters for Decision Tree :  {'criterion': 'entropy', 'max_depth': 10, 'max_features': 'log2', 'min_samples_split': 50}\n"
          ]
        },
        {
          "output_type": "execute_result",
          "data": {
            "text/plain": [
              "0.24647887323943662"
            ]
          },
          "metadata": {},
          "execution_count": 168
        }
      ]
    },
    {
      "cell_type": "code",
      "source": [
        "predictions = best_dt.predict_proba(X_test)\n",
        "sorted_prediction_ids = np.argsort(-predictions,axis=1) \n",
        "top_3_prediction_ids = sorted_prediction_ids[:,:3]\n",
        "\n",
        "\n",
        "# Mapk Score\n",
        "mapk(y_test.values.reshape(-1, 1), top_3_prediction_ids, k=3)"
      ],
      "metadata": {
        "colab": {
          "base_uri": "https://localhost:8080/"
        },
        "id": "EwkdvsKYprpr",
        "outputId": "5ac19078-0b14-4197-c7e4-d35f2a8777ac"
      },
      "execution_count": 169,
      "outputs": [
        {
          "output_type": "execute_result",
          "data": {
            "text/plain": [
              "0.3028169014084507"
            ]
          },
          "metadata": {},
          "execution_count": 169
        }
      ]
    },
    {
      "cell_type": "markdown",
      "source": [
        "### Hyperparameter tuning for Adaboost"
      ],
      "metadata": {
        "id": "XcuBr_qXqS9i"
      }
    },
    {
      "cell_type": "code",
      "source": [
        "adaboost_tuned_parameter = [{'n_estimators':[20,50,100,150]}]\n",
        "ada_mod = AdaBoostClassifier(random_state=10)\n",
        "ada_grid = GridSearchCV(estimator=ada_mod,param_grid=adaboost_tuned_parameter,cv=8)\n",
        "ada_grid_model = ada_grid.fit(X_train,y_train)\n",
        "print('Best Parameters:- ',ada_grid_model.best_params_)\n",
        "\n",
        "# Evaluate the model with the best hyperparameters\n",
        "best_Ab = AdaBoostClassifier(**ada_grid_model.best_params_)\n",
        "best_Ab.fit(X_train, y_train)\n",
        "accuracy = best_Ab.score(X_test, y_test)\n",
        "accuracy"
      ],
      "metadata": {
        "colab": {
          "base_uri": "https://localhost:8080/"
        },
        "id": "J2WwNjR2prsU",
        "outputId": "f8813ac1-ba4a-4a61-f286-37b38244f851"
      },
      "execution_count": 170,
      "outputs": [
        {
          "output_type": "stream",
          "name": "stdout",
          "text": [
            "Best Parameters:-  {'n_estimators': 20}\n"
          ]
        },
        {
          "output_type": "execute_result",
          "data": {
            "text/plain": [
              "0.22535211267605634"
            ]
          },
          "metadata": {},
          "execution_count": 170
        }
      ]
    },
    {
      "cell_type": "code",
      "source": [
        "predictions = best_Ab.predict_proba(X_test)\n",
        "sorted_prediction_ids = np.argsort(-predictions,axis=1) \n",
        "top_3_prediction_ids = sorted_prediction_ids[:,:3]\n",
        "\n",
        "\n",
        "# Mapk Score\n",
        "mapk(y_test.values.reshape(-1, 1), top_3_prediction_ids, k=3)"
      ],
      "metadata": {
        "colab": {
          "base_uri": "https://localhost:8080/"
        },
        "id": "DjRK6xqpprvS",
        "outputId": "944c5452-ebd6-463d-b433-6a7f8b4c648b"
      },
      "execution_count": 171,
      "outputs": [
        {
          "output_type": "execute_result",
          "data": {
            "text/plain": [
              "0.3251173708920188"
            ]
          },
          "metadata": {},
          "execution_count": 171
        }
      ]
    },
    {
      "cell_type": "markdown",
      "source": [
        "### Hyperparameter tuning for GRADIENT BOOSTING"
      ],
      "metadata": {
        "id": "41d1qhEtqoYK"
      }
    },
    {
      "cell_type": "code",
      "source": [
        "gb_tuned_parameters = [{'n_estimators': [100,150],\n",
        "                        'learning_rate':[0.4,0.6]}]\n",
        "gb_model_tun = GradientBoostingClassifier(random_state=10)\n",
        "gb_grid = GridSearchCV(estimator=gb_model_tun,param_grid=gb_tuned_parameters,cv=8)\n",
        "gb_grid_model = gb_grid.fit(X_train,y_train)\n",
        "print('Best Parameters:- ',gb_grid_model.best_params_)\n",
        "\n",
        "# Evaluate the model with the best hyperparameters\n",
        "best_gb = GradientBoostingClassifier(**gb_grid_model.best_params_)\n",
        "best_gb.fit(X_train, y_train)\n",
        "accuracy = best_gb.score(X_test, y_test)\n",
        "accuracy"
      ],
      "metadata": {
        "colab": {
          "base_uri": "https://localhost:8080/"
        },
        "id": "fZkjjxIrqrL-",
        "outputId": "1263580e-669d-483f-fda1-7a9d0eff2056"
      },
      "execution_count": 172,
      "outputs": [
        {
          "output_type": "stream",
          "name": "stdout",
          "text": [
            "Best Parameters:-  {'learning_rate': 0.4, 'n_estimators': 150}\n"
          ]
        },
        {
          "output_type": "execute_result",
          "data": {
            "text/plain": [
              "0.22535211267605634"
            ]
          },
          "metadata": {},
          "execution_count": 172
        }
      ]
    },
    {
      "cell_type": "code",
      "source": [
        "predictions = best_gb.predict_proba(X_test)\n",
        "sorted_prediction_ids = np.argsort(-predictions,axis=1) \n",
        "top_3_prediction_ids = sorted_prediction_ids[:,:3]\n",
        "\n",
        "\n",
        "# Mapk Score\n",
        "mapk(y_test.values.reshape(-1, 1), top_3_prediction_ids, k=3)"
      ],
      "metadata": {
        "colab": {
          "base_uri": "https://localhost:8080/"
        },
        "id": "ak8wPzW6qrOn",
        "outputId": "13181bb9-d47c-4abc-f759-4a1350d81f28"
      },
      "execution_count": 173,
      "outputs": [
        {
          "output_type": "execute_result",
          "data": {
            "text/plain": [
              "0.2910798122065728"
            ]
          },
          "metadata": {},
          "execution_count": 173
        }
      ]
    },
    {
      "cell_type": "markdown",
      "source": [
        "### Hyperparameter tuning for XGBosst"
      ],
      "metadata": {
        "id": "JMVR88c6q9f-"
      }
    },
    {
      "cell_type": "code",
      "source": [
        "xg_tuned_parameters = [{'gamma': [5,10],\n",
        "                        'learning_rate':[0.4,0.6]}]\n",
        "xg_mod_tunned = XGBClassifier()\n",
        "xg_grid = GridSearchCV(estimator=xg_mod_tunned,param_grid=xg_tuned_parameters,cv=2)\n",
        "xg_grid_model = xg_grid.fit(X_train,y_train)\n",
        "print('Best Parameters:- ',xg_grid_model.best_params_)\n",
        "\n",
        "# Evaluate the model with the best hyperparameters\n",
        "best_xb = XGBClassifier(**xg_grid_model.best_params_)\n",
        "best_xb.fit(X_train, y_train)\n",
        "accuracy = best_xb.score(X_test, y_test)\n",
        "accuracy"
      ],
      "metadata": {
        "colab": {
          "base_uri": "https://localhost:8080/"
        },
        "id": "Fwsj21gFrTWI",
        "outputId": "f5263520-9465-46a1-c3f6-1ddde193657f"
      },
      "execution_count": 174,
      "outputs": [
        {
          "output_type": "stream",
          "name": "stdout",
          "text": [
            "Best Parameters:-  {'gamma': 10, 'learning_rate': 0.4}\n"
          ]
        },
        {
          "output_type": "execute_result",
          "data": {
            "text/plain": [
              "0.21830985915492956"
            ]
          },
          "metadata": {},
          "execution_count": 174
        }
      ]
    },
    {
      "cell_type": "code",
      "source": [
        "predictions = best_xb.predict_proba(X_test)\n",
        "sorted_prediction_ids = np.argsort(-predictions,axis=1) \n",
        "top_3_prediction_ids = sorted_prediction_ids[:,:3]\n",
        "\n",
        "\n",
        "# Mapk Score\n",
        "mapk(y_test.values.reshape(-1, 1), top_3_prediction_ids, k=3)"
      ],
      "metadata": {
        "colab": {
          "base_uri": "https://localhost:8080/"
        },
        "id": "5VdJmQnprTYf",
        "outputId": "432e77a6-00c9-4df7-b241-1b2589deec22"
      },
      "execution_count": 175,
      "outputs": [
        {
          "output_type": "execute_result",
          "data": {
            "text/plain": [
              "0.29577464788732394"
            ]
          },
          "metadata": {},
          "execution_count": 175
        }
      ]
    },
    {
      "cell_type": "markdown",
      "source": [
        "### Hyperparameter tuning for SVM"
      ],
      "metadata": {
        "id": "ZktYY7g8-oC_"
      }
    },
    {
      "cell_type": "code",
      "source": [
        "svm = SVC()\n",
        "param_grid = {'C': [0.1, 1, 10], 'gamma': [0.1, 1, 'scale', 'auto'], 'kernel': ['linear', 'rbf']}\n",
        "svm_grid = GridSearchCV(estimator=svm, param_grid=param_grid, cv=5)\n",
        "svm_grid_model=svm_grid.fit(X_train, y_train)\n",
        "print('Best Parameters:- ',svm_grid_model.best_params_)\n",
        "\n",
        "\n",
        "\n",
        "\n",
        "# Evaluate the model with the best hyperparameters\n",
        "best_svm = SVC(**svm_grid_model.best_params_,probability=True)\n",
        "best_svm.fit(X_train, y_train)\n",
        "accuracy = best_svm.score(X_test, y_test)\n",
        "accuracy"
      ],
      "metadata": {
        "colab": {
          "base_uri": "https://localhost:8080/"
        },
        "id": "rx35XwO--oTs",
        "outputId": "5aef9ad1-c640-4c79-9a0c-7e3ce8c2e300"
      },
      "execution_count": 176,
      "outputs": [
        {
          "output_type": "stream",
          "name": "stdout",
          "text": [
            "Best Parameters:-  {'C': 10, 'gamma': 0.1, 'kernel': 'rbf'}\n"
          ]
        },
        {
          "output_type": "execute_result",
          "data": {
            "text/plain": [
              "0.29577464788732394"
            ]
          },
          "metadata": {},
          "execution_count": 176
        }
      ]
    },
    {
      "cell_type": "code",
      "source": [
        "predictions = best_svm.predict_proba(X_test)\n",
        "sorted_prediction_ids = np.argsort(-predictions,axis=1) \n",
        "top_3_prediction_ids = sorted_prediction_ids[:,:3]\n",
        "\n",
        "\n",
        "# Mapk Score\n",
        "mapk(y_test.values.reshape(-1, 1), top_3_prediction_ids, k=3)"
      ],
      "metadata": {
        "colab": {
          "base_uri": "https://localhost:8080/"
        },
        "id": "CXYwzQev-oWL",
        "outputId": "89232056-2bc2-4ccf-d1bd-7d60532ca141"
      },
      "execution_count": 177,
      "outputs": [
        {
          "output_type": "execute_result",
          "data": {
            "text/plain": [
              "0.3685446009389671"
            ]
          },
          "metadata": {},
          "execution_count": 177
        }
      ]
    },
    {
      "cell_type": "markdown",
      "source": [
        "## Final model for df_test dataset"
      ],
      "metadata": {
        "id": "POklbS92guPI"
      }
    },
    {
      "cell_type": "code",
      "source": [
        "df_test.set_index('id',inplace=True)"
      ],
      "metadata": {
        "id": "K-gntaEW88I8"
      },
      "execution_count": 178,
      "outputs": []
    },
    {
      "cell_type": "markdown",
      "source": [
        "We choose Best Ranndom forest classifier , which gave 0.41 mapK score"
      ],
      "metadata": {
        "id": "gb5UsETEo6bD"
      }
    },
    {
      "cell_type": "code",
      "source": [
        "# Make predictions\n",
        "\n",
        "predictions = best_rf.predict_proba(df_test)\n",
        "\n",
        "# Get the sorted indices of predictions and take the top 3\n",
        "sorted_prediction_ids = np.argsort(-predictions, axis=1)\n",
        "top_3_prediction_ids = sorted_prediction_ids[:,:3]\n",
        "\n",
        "# Because enc.inverse_transform expects a specific shape (a 2D array with 1 column) we can save the original shape to reshape to after decoding\n",
        "original_shape = top_3_prediction_ids.shape\n",
        "top_3_predictions = encoder.inverse_transform(top_3_prediction_ids.reshape(-1, 1))\n",
        "top_3_predictions = top_3_predictions.reshape(original_shape)\n",
        "top_3_predictions[:10] # Spot check our first 10 values"
      ],
      "metadata": {
        "colab": {
          "base_uri": "https://localhost:8080/"
        },
        "id": "mSHaDf5UGD2H",
        "outputId": "a53cc953-5431-4463-a923-869552b3d4b0"
      },
      "execution_count": 179,
      "outputs": [
        {
          "output_type": "execute_result",
          "data": {
            "text/plain": [
              "array([['Japanese_encephalitis', 'Dengue', 'Rift_Valley_fever'],\n",
              "       ['Dengue', 'Chikungunya', 'Plague'],\n",
              "       ['West_Nile_fever', 'Japanese_encephalitis', 'Zika'],\n",
              "       ['Japanese_encephalitis', 'West_Nile_fever', 'Rift_Valley_fever'],\n",
              "       ['Malaria', 'West_Nile_fever', 'Japanese_encephalitis'],\n",
              "       ['Malaria', 'West_Nile_fever', 'Yellow_Fever'],\n",
              "       ['Japanese_encephalitis', 'Plague', 'Malaria'],\n",
              "       ['Chikungunya', 'Dengue', 'Japanese_encephalitis'],\n",
              "       ['Yellow_Fever', 'Japanese_encephalitis', 'Zika'],\n",
              "       ['Plague', 'West_Nile_fever', 'Yellow_Fever']], dtype=object)"
            ]
          },
          "metadata": {},
          "execution_count": 179
        }
      ]
    },
    {
      "cell_type": "code",
      "source": [
        "# Now to get our array of labels into a single column for our submission we can just join on on a space across axis 1\n",
        "df_test['prognosis'] = np.apply_along_axis(lambda x: np.array(' '.join(x), dtype=\"object\"), 1, top_3_predictions)\n",
        "df_test['prognosis'][:10] # Spot check our first 10 values"
      ],
      "metadata": {
        "colab": {
          "base_uri": "https://localhost:8080/"
        },
        "id": "9ZcK-uflGhKf",
        "outputId": "7e6e120b-989c-47f3-c547-9eaf13dceeb0"
      },
      "execution_count": 180,
      "outputs": [
        {
          "output_type": "execute_result",
          "data": {
            "text/plain": [
              "id\n",
              "707       Japanese_encephalitis Dengue Rift_Valley_fever\n",
              "708                            Dengue Chikungunya Plague\n",
              "709           West_Nile_fever Japanese_encephalitis Zika\n",
              "710    Japanese_encephalitis West_Nile_fever Rift_Val...\n",
              "711        Malaria West_Nile_fever Japanese_encephalitis\n",
              "712                 Malaria West_Nile_fever Yellow_Fever\n",
              "713                 Japanese_encephalitis Plague Malaria\n",
              "714             Chikungunya Dengue Japanese_encephalitis\n",
              "715              Yellow_Fever Japanese_encephalitis Zika\n",
              "716                  Plague West_Nile_fever Yellow_Fever\n",
              "Name: prognosis, dtype: object"
            ]
          },
          "metadata": {},
          "execution_count": 180
        }
      ]
    },
    {
      "cell_type": "code",
      "source": [
        "df_test.reset_index(inplace=True)"
      ],
      "metadata": {
        "id": "zgs-aOc_-OrU"
      },
      "execution_count": 181,
      "outputs": []
    },
    {
      "cell_type": "code",
      "source": [
        "df_test.to_csv('submission.csv', columns=['id', 'prognosis'], index=False)"
      ],
      "metadata": {
        "id": "JkWAozP_HB-P"
      },
      "execution_count": 182,
      "outputs": []
    }
  ]
}